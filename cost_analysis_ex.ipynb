{
 "cells": [
  {
   "cell_type": "code",
   "execution_count": 1,
   "metadata": {},
   "outputs": [
    {
     "output_type": "execute_result",
     "data": {
      "text/plain": "'\\nWe need:\\n1. Prices in different currencies\\n2. List with Pusblisher names.\\n3. Clean Publisher Name\\n4. Check Suppliers, currencies, publishers, discount, shipping costs\\n5. Check Suppliers special discounts\\n6. Check restrictions\\n7. Get landed Cost\\n8. List of ISBN to ananlyse.\\n\\n'"
     },
     "metadata": {},
     "execution_count": 1
    }
   ],
   "source": [
    "# In this scenario we are going to grab the info from excel files.\n",
    "'''\n",
    "We need:\n",
    "1. Prices in different currencies\n",
    "2. List with Pusblisher names.\n",
    "3. Clean Publisher Name\n",
    "4. Check Suppliers, currencies, publishers, discount, shipping costs\n",
    "5. Check Suppliers special discounts\n",
    "6. Check restrictions\n",
    "7. Get landed Cost\n",
    "8. List of ISBN to ananlyse.\n",
    "\n",
    "'''"
   ]
  },
  {
   "cell_type": "code",
   "execution_count": 2,
   "metadata": {},
   "outputs": [],
   "source": [
    "# 0. Import Libraries and credentials\n",
    "import pandas as pd\n",
    "import pyodbc\n",
    "import numpy as np\n",
    "import sqlCredentials as sql"
   ]
  },
  {
   "cell_type": "code",
   "execution_count": 3,
   "metadata": {},
   "outputs": [],
   "source": [
    "# 0. Get databse connection\n",
    "# Let's pick all the titles gwe can get from the pricing matrix.\n",
    "\n",
    "prod_db = pyodbc.connect(\n",
    "    'DRIVER={ODBC Driver 17 for SQL Server};'\n",
    "    'Server=52.86.56.66;'\n",
    "    'Database=BookXCenterProduction;'\n",
    "    'UID='+sql.username+';'\n",
    "    'PWD='+sql.password+';'\n",
    "    'Trusted_connection=no;'\n",
    ")\n",
    "\n",
    "prouc_db = pyodbc.connect(\n",
    "    'DRIVER={ODBC Driver 17 for SQL Server};'\n",
    "    'Server=52.86.56.66;'\n",
    "    'Database=PROCUREMENTDB;'\n",
    "    'UID='+sql.username+';'\n",
    "    'PWD='+sql.password+';'\n",
    "    'Trusted_connection=no;'\n",
    ")"
   ]
  },
  {
   "cell_type": "code",
   "execution_count": 4,
   "metadata": {},
   "outputs": [
    {
     "output_type": "execute_result",
     "data": {
      "text/plain": "   Id           Isbn Currency  Price        PriceSource  \\\n0   1  9780008135904     AUD   12.99     BowkerNepModel   \n1   2  9780008135904     CND    9.99     BowkerNepModel   \n2   3  9780008135904     GBP    4.99  BertramsInventory   \n3   4  9780008135904     NZD   14.99     BowkerNepModel   \n4   5  9780008135935     AUD   12.99     BowkerNepModel   \n\n            PriceLastRefreshed                  Timestamp  \n0  2020-03-06 21:00:00.0081342 2020-04-06 15:03:40.816666  \n1  2020-03-06 21:00:00.0081342 2020-04-06 15:03:40.816666  \n2  2020-04-06 13:00:00.0235684 2020-04-06 15:03:40.816666  \n3  2020-03-06 21:00:00.0081342 2020-04-06 15:03:40.816666  \n4  2020-03-06 21:00:00.0081342 2020-04-06 15:03:40.816666  ",
      "text/html": "<div>\n<style scoped>\n    .dataframe tbody tr th:only-of-type {\n        vertical-align: middle;\n    }\n\n    .dataframe tbody tr th {\n        vertical-align: top;\n    }\n\n    .dataframe thead th {\n        text-align: right;\n    }\n</style>\n<table border=\"1\" class=\"dataframe\">\n  <thead>\n    <tr style=\"text-align: right;\">\n      <th></th>\n      <th>Id</th>\n      <th>Isbn</th>\n      <th>Currency</th>\n      <th>Price</th>\n      <th>PriceSource</th>\n      <th>PriceLastRefreshed</th>\n      <th>Timestamp</th>\n    </tr>\n  </thead>\n  <tbody>\n    <tr>\n      <th>0</th>\n      <td>1</td>\n      <td>9780008135904</td>\n      <td>AUD</td>\n      <td>12.99</td>\n      <td>BowkerNepModel</td>\n      <td>2020-03-06 21:00:00.0081342</td>\n      <td>2020-04-06 15:03:40.816666</td>\n    </tr>\n    <tr>\n      <th>1</th>\n      <td>2</td>\n      <td>9780008135904</td>\n      <td>CND</td>\n      <td>9.99</td>\n      <td>BowkerNepModel</td>\n      <td>2020-03-06 21:00:00.0081342</td>\n      <td>2020-04-06 15:03:40.816666</td>\n    </tr>\n    <tr>\n      <th>2</th>\n      <td>3</td>\n      <td>9780008135904</td>\n      <td>GBP</td>\n      <td>4.99</td>\n      <td>BertramsInventory</td>\n      <td>2020-04-06 13:00:00.0235684</td>\n      <td>2020-04-06 15:03:40.816666</td>\n    </tr>\n    <tr>\n      <th>3</th>\n      <td>4</td>\n      <td>9780008135904</td>\n      <td>NZD</td>\n      <td>14.99</td>\n      <td>BowkerNepModel</td>\n      <td>2020-03-06 21:00:00.0081342</td>\n      <td>2020-04-06 15:03:40.816666</td>\n    </tr>\n    <tr>\n      <th>4</th>\n      <td>5</td>\n      <td>9780008135935</td>\n      <td>AUD</td>\n      <td>12.99</td>\n      <td>BowkerNepModel</td>\n      <td>2020-03-06 21:00:00.0081342</td>\n      <td>2020-04-06 15:03:40.816666</td>\n    </tr>\n  </tbody>\n</table>\n</div>"
     },
     "metadata": {},
     "execution_count": 4
    }
   ],
   "source": [
    "#1. Prices at different currencies\n",
    "#this time we are going to use all the titles\n",
    "list_price_sql = \"\"\"\n",
    "SELECT *\n",
    "FROM Isbn.ListPrice\n",
    "\"\"\"\n",
    "\n",
    "list_price = pd.read_sql(list_price_sql, prod_db)\n",
    "list_price.head()"
   ]
  },
  {
   "cell_type": "code",
   "execution_count": 5,
   "metadata": {},
   "outputs": [
    {
     "output_type": "execute_result",
     "data": {
      "text/plain": "(1622645, 7)"
     },
     "metadata": {},
     "execution_count": 5
    }
   ],
   "source": [
    "list_price.shape"
   ]
  },
  {
   "cell_type": "code",
   "execution_count": 6,
   "metadata": {},
   "outputs": [
    {
     "output_type": "execute_result",
     "data": {
      "text/plain": "array(['BowkerNepModel', 'BertramsInventory', 'GoldenList',\n       'BookDepotInventory', 'NielsenFtp', 'BowkerApiModel',\n       'TitlePageScraper', 'PearsonCanadaScraperModel',\n       'SAPPurchaseOrder', 'AbePolandScraper'], dtype=object)"
     },
     "metadata": {},
     "execution_count": 6
    }
   ],
   "source": [
    "list_price['PriceSource'].unique()"
   ]
  },
  {
   "cell_type": "code",
   "execution_count": 7,
   "metadata": {},
   "outputs": [
    {
     "output_type": "execute_result",
     "data": {
      "text/plain": "            Isbn Currency  Price\n0  9780008135904     AUD   12.99\n1  9780008135904     CND    9.99\n2  9780008135904     GBP    4.99\n3  9780008135904     NZD   14.99\n4  9780008135935     AUD   12.99",
      "text/html": "<div>\n<style scoped>\n    .dataframe tbody tr th:only-of-type {\n        vertical-align: middle;\n    }\n\n    .dataframe tbody tr th {\n        vertical-align: top;\n    }\n\n    .dataframe thead th {\n        text-align: right;\n    }\n</style>\n<table border=\"1\" class=\"dataframe\">\n  <thead>\n    <tr style=\"text-align: right;\">\n      <th></th>\n      <th>Isbn</th>\n      <th>Currency</th>\n      <th>Price</th>\n    </tr>\n  </thead>\n  <tbody>\n    <tr>\n      <th>0</th>\n      <td>9780008135904</td>\n      <td>AUD</td>\n      <td>12.99</td>\n    </tr>\n    <tr>\n      <th>1</th>\n      <td>9780008135904</td>\n      <td>CND</td>\n      <td>9.99</td>\n    </tr>\n    <tr>\n      <th>2</th>\n      <td>9780008135904</td>\n      <td>GBP</td>\n      <td>4.99</td>\n    </tr>\n    <tr>\n      <th>3</th>\n      <td>9780008135904</td>\n      <td>NZD</td>\n      <td>14.99</td>\n    </tr>\n    <tr>\n      <th>4</th>\n      <td>9780008135935</td>\n      <td>AUD</td>\n      <td>12.99</td>\n    </tr>\n  </tbody>\n</table>\n</div>"
     },
     "metadata": {},
     "execution_count": 7
    }
   ],
   "source": [
    "list_price.drop(columns = ['Id', 'PriceSource', 'PriceLastRefreshed', 'Timestamp'], inplace = True)\n",
    "list_price.head()"
   ]
  },
  {
   "cell_type": "code",
   "execution_count": 8,
   "metadata": {},
   "outputs": [
    {
     "output_type": "execute_result",
     "data": {
      "text/plain": "            Isbn Title TitleSource TitleLastRefreshed Publisher  \\\n0  9780000002402  None        None               None  W KLUWER   \n1  9780000002679  None        None               None  W KLUWER   \n2  9780000003102  None        None               None      None   \n3  9780000003201  None        None               None  W KLUWER   \n4  9780000006493  None        None               None      None   \n\n  PublisherSource       PublisherLastRefreshed Author AuthorSource  \\\n0      GoldenList  2020-04-06 12:00:01.1700000   None         None   \n1      GoldenList  2020-04-06 12:00:01.1700000   None         None   \n2            None                         None   None         None   \n3      GoldenList  2020-04-06 12:00:01.1700000   None         None   \n4            None                         None   None         None   \n\n  AuthorLastRefreshed  ... PublicationDateSource PublicationDateLastRefreshed  \\\n0                None  ...                  None                         None   \n1                None  ...                  None                         None   \n2                None  ...                  None                         None   \n3                None  ...                  None                         None   \n4                None  ...                  None                         None   \n\n  Copyright CopyrightSource CopyrightLastRefreshed Binding BindingSource  \\\n0      None            None                   None    None          None   \n1      None            None                   None    None          None   \n2      None            None                   None    None          None   \n3      None            None                   None    None          None   \n4      None            None                   None    None          None   \n\n  BindingLastRefreshed               Timestamp Edition  \n0                 None 2020-04-06 15:02:49.383    None  \n1                 None 2020-04-06 15:02:49.383    None  \n2                 None 2020-04-06 15:02:49.383    None  \n3                 None 2020-04-06 15:02:49.383    None  \n4                 None 2020-04-06 15:02:49.383    None  \n\n[5 rows x 21 columns]",
      "text/html": "<div>\n<style scoped>\n    .dataframe tbody tr th:only-of-type {\n        vertical-align: middle;\n    }\n\n    .dataframe tbody tr th {\n        vertical-align: top;\n    }\n\n    .dataframe thead th {\n        text-align: right;\n    }\n</style>\n<table border=\"1\" class=\"dataframe\">\n  <thead>\n    <tr style=\"text-align: right;\">\n      <th></th>\n      <th>Isbn</th>\n      <th>Title</th>\n      <th>TitleSource</th>\n      <th>TitleLastRefreshed</th>\n      <th>Publisher</th>\n      <th>PublisherSource</th>\n      <th>PublisherLastRefreshed</th>\n      <th>Author</th>\n      <th>AuthorSource</th>\n      <th>AuthorLastRefreshed</th>\n      <th>...</th>\n      <th>PublicationDateSource</th>\n      <th>PublicationDateLastRefreshed</th>\n      <th>Copyright</th>\n      <th>CopyrightSource</th>\n      <th>CopyrightLastRefreshed</th>\n      <th>Binding</th>\n      <th>BindingSource</th>\n      <th>BindingLastRefreshed</th>\n      <th>Timestamp</th>\n      <th>Edition</th>\n    </tr>\n  </thead>\n  <tbody>\n    <tr>\n      <th>0</th>\n      <td>9780000002402</td>\n      <td>None</td>\n      <td>None</td>\n      <td>None</td>\n      <td>W KLUWER</td>\n      <td>GoldenList</td>\n      <td>2020-04-06 12:00:01.1700000</td>\n      <td>None</td>\n      <td>None</td>\n      <td>None</td>\n      <td>...</td>\n      <td>None</td>\n      <td>None</td>\n      <td>None</td>\n      <td>None</td>\n      <td>None</td>\n      <td>None</td>\n      <td>None</td>\n      <td>None</td>\n      <td>2020-04-06 15:02:49.383</td>\n      <td>None</td>\n    </tr>\n    <tr>\n      <th>1</th>\n      <td>9780000002679</td>\n      <td>None</td>\n      <td>None</td>\n      <td>None</td>\n      <td>W KLUWER</td>\n      <td>GoldenList</td>\n      <td>2020-04-06 12:00:01.1700000</td>\n      <td>None</td>\n      <td>None</td>\n      <td>None</td>\n      <td>...</td>\n      <td>None</td>\n      <td>None</td>\n      <td>None</td>\n      <td>None</td>\n      <td>None</td>\n      <td>None</td>\n      <td>None</td>\n      <td>None</td>\n      <td>2020-04-06 15:02:49.383</td>\n      <td>None</td>\n    </tr>\n    <tr>\n      <th>2</th>\n      <td>9780000003102</td>\n      <td>None</td>\n      <td>None</td>\n      <td>None</td>\n      <td>None</td>\n      <td>None</td>\n      <td>None</td>\n      <td>None</td>\n      <td>None</td>\n      <td>None</td>\n      <td>...</td>\n      <td>None</td>\n      <td>None</td>\n      <td>None</td>\n      <td>None</td>\n      <td>None</td>\n      <td>None</td>\n      <td>None</td>\n      <td>None</td>\n      <td>2020-04-06 15:02:49.383</td>\n      <td>None</td>\n    </tr>\n    <tr>\n      <th>3</th>\n      <td>9780000003201</td>\n      <td>None</td>\n      <td>None</td>\n      <td>None</td>\n      <td>W KLUWER</td>\n      <td>GoldenList</td>\n      <td>2020-04-06 12:00:01.1700000</td>\n      <td>None</td>\n      <td>None</td>\n      <td>None</td>\n      <td>...</td>\n      <td>None</td>\n      <td>None</td>\n      <td>None</td>\n      <td>None</td>\n      <td>None</td>\n      <td>None</td>\n      <td>None</td>\n      <td>None</td>\n      <td>2020-04-06 15:02:49.383</td>\n      <td>None</td>\n    </tr>\n    <tr>\n      <th>4</th>\n      <td>9780000006493</td>\n      <td>None</td>\n      <td>None</td>\n      <td>None</td>\n      <td>None</td>\n      <td>None</td>\n      <td>None</td>\n      <td>None</td>\n      <td>None</td>\n      <td>None</td>\n      <td>...</td>\n      <td>None</td>\n      <td>None</td>\n      <td>None</td>\n      <td>None</td>\n      <td>None</td>\n      <td>None</td>\n      <td>None</td>\n      <td>None</td>\n      <td>2020-04-06 15:02:49.383</td>\n      <td>None</td>\n    </tr>\n  </tbody>\n</table>\n<p>5 rows × 21 columns</p>\n</div>"
     },
     "metadata": {},
     "execution_count": 8
    }
   ],
   "source": [
    "bilblo_sql = \"\"\"\n",
    "SELECT *\n",
    "FROM Isbn.Bibliography\n",
    "\"\"\"\n",
    "biblio = pd.read_sql(bilblo_sql, prod_db)\n",
    "biblio.head()"
   ]
  },
  {
   "cell_type": "code",
   "execution_count": 9,
   "metadata": {},
   "outputs": [],
   "source": [
    "sup_list = pd.merge(list_price, biblio, how='left', on = 'Isbn' )"
   ]
  },
  {
   "cell_type": "code",
   "execution_count": 10,
   "metadata": {},
   "outputs": [
    {
     "output_type": "execute_result",
     "data": {
      "text/plain": "            Isbn Currency  Price  \\\n0  9780008135904     AUD   12.99   \n1  9780008135904     CND    9.99   \n2  9780008135904     GBP    4.99   \n3  9780008135904     NZD   14.99   \n4  9780008135935     AUD   12.99   \n\n                                               Title        TitleSource  \\\n0  Collins Mandarin Chinese Phrasebook and Dictio...  BertramsInventory   \n1  Collins Mandarin Chinese Phrasebook and Dictio...  BertramsInventory   \n2  Collins Mandarin Chinese Phrasebook and Dictio...  BertramsInventory   \n3  Collins Mandarin Chinese Phrasebook and Dictio...  BertramsInventory   \n4  Collins Portuguese Phrasebook and Dictionary G...  BertramsInventory   \n\n            TitleLastRefreshed Publisher PublisherSource  \\\n0  2020-04-06 13:00:00.0235684      None            None   \n1  2020-04-06 13:00:00.0235684      None            None   \n2  2020-04-06 13:00:00.0235684      None            None   \n3  2020-04-06 13:00:00.0235684      None            None   \n4  2020-04-06 13:00:00.0235684      None            None   \n\n  PublisherLastRefreshed Author  ... PublicationDateSource  \\\n0                   None   None  ...        BowkerNepModel   \n1                   None   None  ...        BowkerNepModel   \n2                   None   None  ...        BowkerNepModel   \n3                   None   None  ...        BowkerNepModel   \n4                   None   None  ...        BowkerNepModel   \n\n  PublicationDateLastRefreshed Copyright CopyrightSource  \\\n0  2020-03-06 21:00:00.0081342      2017  BowkerNepModel   \n1  2020-03-06 21:00:00.0081342      2017  BowkerNepModel   \n2  2020-03-06 21:00:00.0081342      2017  BowkerNepModel   \n3  2020-03-06 21:00:00.0081342      2017  BowkerNepModel   \n4  2020-03-06 21:00:00.0081342      2016  BowkerNepModel   \n\n        CopyrightLastRefreshed    Binding   BindingSource  \\\n0  2020-03-06 21:00:00.0081342  Paperback  BowkerNepModel   \n1  2020-03-06 21:00:00.0081342  Paperback  BowkerNepModel   \n2  2020-03-06 21:00:00.0081342  Paperback  BowkerNepModel   \n3  2020-03-06 21:00:00.0081342  Paperback  BowkerNepModel   \n4  2020-03-06 21:00:00.0081342  Paperback  BowkerNepModel   \n\n          BindingLastRefreshed               Timestamp Edition  \n0  2020-03-06 21:00:00.0081342 2020-04-06 15:02:49.383       3  \n1  2020-03-06 21:00:00.0081342 2020-04-06 15:02:49.383       3  \n2  2020-03-06 21:00:00.0081342 2020-04-06 15:02:49.383       3  \n3  2020-03-06 21:00:00.0081342 2020-04-06 15:02:49.383       3  \n4  2020-03-06 21:00:00.0081342 2020-04-06 15:02:49.383       4  \n\n[5 rows x 23 columns]",
      "text/html": "<div>\n<style scoped>\n    .dataframe tbody tr th:only-of-type {\n        vertical-align: middle;\n    }\n\n    .dataframe tbody tr th {\n        vertical-align: top;\n    }\n\n    .dataframe thead th {\n        text-align: right;\n    }\n</style>\n<table border=\"1\" class=\"dataframe\">\n  <thead>\n    <tr style=\"text-align: right;\">\n      <th></th>\n      <th>Isbn</th>\n      <th>Currency</th>\n      <th>Price</th>\n      <th>Title</th>\n      <th>TitleSource</th>\n      <th>TitleLastRefreshed</th>\n      <th>Publisher</th>\n      <th>PublisherSource</th>\n      <th>PublisherLastRefreshed</th>\n      <th>Author</th>\n      <th>...</th>\n      <th>PublicationDateSource</th>\n      <th>PublicationDateLastRefreshed</th>\n      <th>Copyright</th>\n      <th>CopyrightSource</th>\n      <th>CopyrightLastRefreshed</th>\n      <th>Binding</th>\n      <th>BindingSource</th>\n      <th>BindingLastRefreshed</th>\n      <th>Timestamp</th>\n      <th>Edition</th>\n    </tr>\n  </thead>\n  <tbody>\n    <tr>\n      <th>0</th>\n      <td>9780008135904</td>\n      <td>AUD</td>\n      <td>12.99</td>\n      <td>Collins Mandarin Chinese Phrasebook and Dictio...</td>\n      <td>BertramsInventory</td>\n      <td>2020-04-06 13:00:00.0235684</td>\n      <td>None</td>\n      <td>None</td>\n      <td>None</td>\n      <td>None</td>\n      <td>...</td>\n      <td>BowkerNepModel</td>\n      <td>2020-03-06 21:00:00.0081342</td>\n      <td>2017</td>\n      <td>BowkerNepModel</td>\n      <td>2020-03-06 21:00:00.0081342</td>\n      <td>Paperback</td>\n      <td>BowkerNepModel</td>\n      <td>2020-03-06 21:00:00.0081342</td>\n      <td>2020-04-06 15:02:49.383</td>\n      <td>3</td>\n    </tr>\n    <tr>\n      <th>1</th>\n      <td>9780008135904</td>\n      <td>CND</td>\n      <td>9.99</td>\n      <td>Collins Mandarin Chinese Phrasebook and Dictio...</td>\n      <td>BertramsInventory</td>\n      <td>2020-04-06 13:00:00.0235684</td>\n      <td>None</td>\n      <td>None</td>\n      <td>None</td>\n      <td>None</td>\n      <td>...</td>\n      <td>BowkerNepModel</td>\n      <td>2020-03-06 21:00:00.0081342</td>\n      <td>2017</td>\n      <td>BowkerNepModel</td>\n      <td>2020-03-06 21:00:00.0081342</td>\n      <td>Paperback</td>\n      <td>BowkerNepModel</td>\n      <td>2020-03-06 21:00:00.0081342</td>\n      <td>2020-04-06 15:02:49.383</td>\n      <td>3</td>\n    </tr>\n    <tr>\n      <th>2</th>\n      <td>9780008135904</td>\n      <td>GBP</td>\n      <td>4.99</td>\n      <td>Collins Mandarin Chinese Phrasebook and Dictio...</td>\n      <td>BertramsInventory</td>\n      <td>2020-04-06 13:00:00.0235684</td>\n      <td>None</td>\n      <td>None</td>\n      <td>None</td>\n      <td>None</td>\n      <td>...</td>\n      <td>BowkerNepModel</td>\n      <td>2020-03-06 21:00:00.0081342</td>\n      <td>2017</td>\n      <td>BowkerNepModel</td>\n      <td>2020-03-06 21:00:00.0081342</td>\n      <td>Paperback</td>\n      <td>BowkerNepModel</td>\n      <td>2020-03-06 21:00:00.0081342</td>\n      <td>2020-04-06 15:02:49.383</td>\n      <td>3</td>\n    </tr>\n    <tr>\n      <th>3</th>\n      <td>9780008135904</td>\n      <td>NZD</td>\n      <td>14.99</td>\n      <td>Collins Mandarin Chinese Phrasebook and Dictio...</td>\n      <td>BertramsInventory</td>\n      <td>2020-04-06 13:00:00.0235684</td>\n      <td>None</td>\n      <td>None</td>\n      <td>None</td>\n      <td>None</td>\n      <td>...</td>\n      <td>BowkerNepModel</td>\n      <td>2020-03-06 21:00:00.0081342</td>\n      <td>2017</td>\n      <td>BowkerNepModel</td>\n      <td>2020-03-06 21:00:00.0081342</td>\n      <td>Paperback</td>\n      <td>BowkerNepModel</td>\n      <td>2020-03-06 21:00:00.0081342</td>\n      <td>2020-04-06 15:02:49.383</td>\n      <td>3</td>\n    </tr>\n    <tr>\n      <th>4</th>\n      <td>9780008135935</td>\n      <td>AUD</td>\n      <td>12.99</td>\n      <td>Collins Portuguese Phrasebook and Dictionary G...</td>\n      <td>BertramsInventory</td>\n      <td>2020-04-06 13:00:00.0235684</td>\n      <td>None</td>\n      <td>None</td>\n      <td>None</td>\n      <td>None</td>\n      <td>...</td>\n      <td>BowkerNepModel</td>\n      <td>2020-03-06 21:00:00.0081342</td>\n      <td>2016</td>\n      <td>BowkerNepModel</td>\n      <td>2020-03-06 21:00:00.0081342</td>\n      <td>Paperback</td>\n      <td>BowkerNepModel</td>\n      <td>2020-03-06 21:00:00.0081342</td>\n      <td>2020-04-06 15:02:49.383</td>\n      <td>4</td>\n    </tr>\n  </tbody>\n</table>\n<p>5 rows × 23 columns</p>\n</div>"
     },
     "metadata": {},
     "execution_count": 10
    }
   ],
   "source": [
    "sup_list.head()"
   ]
  },
  {
   "cell_type": "code",
   "execution_count": 11,
   "metadata": {},
   "outputs": [
    {
     "output_type": "execute_result",
     "data": {
      "text/plain": "Index(['Isbn', 'Currency', 'Price', 'Title', 'TitleSource',\n       'TitleLastRefreshed', 'Publisher', 'PublisherSource',\n       'PublisherLastRefreshed', 'Author', 'AuthorSource',\n       'AuthorLastRefreshed', 'PublicationDate', 'PublicationDateSource',\n       'PublicationDateLastRefreshed', 'Copyright', 'CopyrightSource',\n       'CopyrightLastRefreshed', 'Binding', 'BindingSource',\n       'BindingLastRefreshed', 'Timestamp', 'Edition'],\n      dtype='object')"
     },
     "metadata": {},
     "execution_count": 11
    }
   ],
   "source": [
    "sup_list.columns"
   ]
  },
  {
   "cell_type": "code",
   "execution_count": 12,
   "metadata": {},
   "outputs": [],
   "source": [
    "sup_list = sup_list[['Isbn','Currency', 'Price','Title', 'Publisher', 'Author']]"
   ]
  },
  {
   "cell_type": "code",
   "execution_count": 13,
   "metadata": {},
   "outputs": [
    {
     "output_type": "execute_result",
     "data": {
      "text/plain": "            Isbn Currency  Price  \\\n0  9780008135904     AUD   12.99   \n1  9780008135904     CND    9.99   \n2  9780008135904     GBP    4.99   \n3  9780008135904     NZD   14.99   \n4  9780008135935     AUD   12.99   \n\n                                               Title Publisher Author  \n0  Collins Mandarin Chinese Phrasebook and Dictio...      None   None  \n1  Collins Mandarin Chinese Phrasebook and Dictio...      None   None  \n2  Collins Mandarin Chinese Phrasebook and Dictio...      None   None  \n3  Collins Mandarin Chinese Phrasebook and Dictio...      None   None  \n4  Collins Portuguese Phrasebook and Dictionary G...      None   None  ",
      "text/html": "<div>\n<style scoped>\n    .dataframe tbody tr th:only-of-type {\n        vertical-align: middle;\n    }\n\n    .dataframe tbody tr th {\n        vertical-align: top;\n    }\n\n    .dataframe thead th {\n        text-align: right;\n    }\n</style>\n<table border=\"1\" class=\"dataframe\">\n  <thead>\n    <tr style=\"text-align: right;\">\n      <th></th>\n      <th>Isbn</th>\n      <th>Currency</th>\n      <th>Price</th>\n      <th>Title</th>\n      <th>Publisher</th>\n      <th>Author</th>\n    </tr>\n  </thead>\n  <tbody>\n    <tr>\n      <th>0</th>\n      <td>9780008135904</td>\n      <td>AUD</td>\n      <td>12.99</td>\n      <td>Collins Mandarin Chinese Phrasebook and Dictio...</td>\n      <td>None</td>\n      <td>None</td>\n    </tr>\n    <tr>\n      <th>1</th>\n      <td>9780008135904</td>\n      <td>CND</td>\n      <td>9.99</td>\n      <td>Collins Mandarin Chinese Phrasebook and Dictio...</td>\n      <td>None</td>\n      <td>None</td>\n    </tr>\n    <tr>\n      <th>2</th>\n      <td>9780008135904</td>\n      <td>GBP</td>\n      <td>4.99</td>\n      <td>Collins Mandarin Chinese Phrasebook and Dictio...</td>\n      <td>None</td>\n      <td>None</td>\n    </tr>\n    <tr>\n      <th>3</th>\n      <td>9780008135904</td>\n      <td>NZD</td>\n      <td>14.99</td>\n      <td>Collins Mandarin Chinese Phrasebook and Dictio...</td>\n      <td>None</td>\n      <td>None</td>\n    </tr>\n    <tr>\n      <th>4</th>\n      <td>9780008135935</td>\n      <td>AUD</td>\n      <td>12.99</td>\n      <td>Collins Portuguese Phrasebook and Dictionary G...</td>\n      <td>None</td>\n      <td>None</td>\n    </tr>\n  </tbody>\n</table>\n</div>"
     },
     "metadata": {},
     "execution_count": 13
    }
   ],
   "source": [
    "sup_list.head()"
   ]
  },
  {
   "cell_type": "code",
   "execution_count": 14,
   "metadata": {},
   "outputs": [
    {
     "output_type": "execute_result",
     "data": {
      "text/plain": "array([None, 'HARPER COLLINS', 'HarperElement', ...,\n       'African Books Collective', 'Mkuki na Nyota',\n       'Sub-Saharan Publishers'], dtype=object)"
     },
     "metadata": {},
     "execution_count": 14
    }
   ],
   "source": [
    "sup_list['Publisher'].unique()"
   ]
  },
  {
   "cell_type": "code",
   "execution_count": 15,
   "metadata": {},
   "outputs": [
    {
     "output_type": "execute_result",
     "data": {
      "text/plain": "Isbn         0\nCurrency     0\nPrice        0\nTitle        0\nPublisher    0\nAuthor       0\ndtype: int64"
     },
     "metadata": {},
     "execution_count": 15
    }
   ],
   "source": [
    "sup_list = sup_list.fillna('N/A')\n",
    "sup_list.isna().sum()"
   ]
  },
  {
   "cell_type": "code",
   "execution_count": 16,
   "metadata": {},
   "outputs": [
    {
     "output_type": "execute_result",
     "data": {
      "text/plain": "                                       PublisherLong  \\\n0                                     \"Abrams, Inc.\"   \n1             \"Addison-Wesley Longman, Incorporated\"   \n2                  \"Addison-Wesley Longman, Limited\"   \n3                      \"Allyn & Bacon, Incorporated\"   \n4  \"American Occupational Therapy Association, In...   \n\n                                      PublisherShort  \n0                                             ABRAMS  \n1                                            PEARSON  \n2                                            PEARSON  \n3                                            PEARSON  \n4  American Occupational Therapy Association, Inc...  ",
      "text/html": "<div>\n<style scoped>\n    .dataframe tbody tr th:only-of-type {\n        vertical-align: middle;\n    }\n\n    .dataframe tbody tr th {\n        vertical-align: top;\n    }\n\n    .dataframe thead th {\n        text-align: right;\n    }\n</style>\n<table border=\"1\" class=\"dataframe\">\n  <thead>\n    <tr style=\"text-align: right;\">\n      <th></th>\n      <th>PublisherLong</th>\n      <th>PublisherShort</th>\n    </tr>\n  </thead>\n  <tbody>\n    <tr>\n      <th>0</th>\n      <td>\"Abrams, Inc.\"</td>\n      <td>ABRAMS</td>\n    </tr>\n    <tr>\n      <th>1</th>\n      <td>\"Addison-Wesley Longman, Incorporated\"</td>\n      <td>PEARSON</td>\n    </tr>\n    <tr>\n      <th>2</th>\n      <td>\"Addison-Wesley Longman, Limited\"</td>\n      <td>PEARSON</td>\n    </tr>\n    <tr>\n      <th>3</th>\n      <td>\"Allyn &amp; Bacon, Incorporated\"</td>\n      <td>PEARSON</td>\n    </tr>\n    <tr>\n      <th>4</th>\n      <td>\"American Occupational Therapy Association, In...</td>\n      <td>American Occupational Therapy Association, Inc...</td>\n    </tr>\n  </tbody>\n</table>\n</div>"
     },
     "metadata": {},
     "execution_count": 16
    }
   ],
   "source": [
    "# 3. Clean publisher\n",
    "dictio_sql = \"\"\"\n",
    "SELECT *\n",
    "FROM dbo.PublisherDictionary\n",
    "\"\"\"\n",
    "\n",
    "dictio = pd.read_sql(dictio_sql, prouc_db)\n",
    "dictio.head()"
   ]
  },
  {
   "cell_type": "code",
   "execution_count": 17,
   "metadata": {},
   "outputs": [],
   "source": [
    "def clean_up(phrase):\n",
    "    phrase = phrase.lstrip()\n",
    "    phrase = phrase.rstrip()\n",
    "    phrase = phrase.upper()\n",
    "    return phrase"
   ]
  },
  {
   "cell_type": "code",
   "execution_count": 18,
   "metadata": {},
   "outputs": [],
   "source": [
    "for col in list(dictio.columns):\n",
    "    dictio[col] = dictio.apply(lambda x: clean_up(x[col]), axis =1)"
   ]
  },
  {
   "cell_type": "code",
   "execution_count": 19,
   "metadata": {},
   "outputs": [
    {
     "output_type": "execute_result",
     "data": {
      "text/plain": "                                       PublisherLong  \\\n0                                     \"ABRAMS, INC.\"   \n1             \"ADDISON-WESLEY LONGMAN, INCORPORATED\"   \n2                  \"ADDISON-WESLEY LONGMAN, LIMITED\"   \n3                      \"ALLYN & BACON, INCORPORATED\"   \n4  \"AMERICAN OCCUPATIONAL THERAPY ASSOCIATION, IN...   \n\n                                      PublisherShort  \n0                                             ABRAMS  \n1                                            PEARSON  \n2                                            PEARSON  \n3                                            PEARSON  \n4  AMERICAN OCCUPATIONAL THERAPY ASSOCIATION, INC...  ",
      "text/html": "<div>\n<style scoped>\n    .dataframe tbody tr th:only-of-type {\n        vertical-align: middle;\n    }\n\n    .dataframe tbody tr th {\n        vertical-align: top;\n    }\n\n    .dataframe thead th {\n        text-align: right;\n    }\n</style>\n<table border=\"1\" class=\"dataframe\">\n  <thead>\n    <tr style=\"text-align: right;\">\n      <th></th>\n      <th>PublisherLong</th>\n      <th>PublisherShort</th>\n    </tr>\n  </thead>\n  <tbody>\n    <tr>\n      <th>0</th>\n      <td>\"ABRAMS, INC.\"</td>\n      <td>ABRAMS</td>\n    </tr>\n    <tr>\n      <th>1</th>\n      <td>\"ADDISON-WESLEY LONGMAN, INCORPORATED\"</td>\n      <td>PEARSON</td>\n    </tr>\n    <tr>\n      <th>2</th>\n      <td>\"ADDISON-WESLEY LONGMAN, LIMITED\"</td>\n      <td>PEARSON</td>\n    </tr>\n    <tr>\n      <th>3</th>\n      <td>\"ALLYN &amp; BACON, INCORPORATED\"</td>\n      <td>PEARSON</td>\n    </tr>\n    <tr>\n      <th>4</th>\n      <td>\"AMERICAN OCCUPATIONAL THERAPY ASSOCIATION, IN...</td>\n      <td>AMERICAN OCCUPATIONAL THERAPY ASSOCIATION, INC...</td>\n    </tr>\n  </tbody>\n</table>\n</div>"
     },
     "metadata": {},
     "execution_count": 19
    }
   ],
   "source": [
    "dictio.head()"
   ]
  },
  {
   "cell_type": "code",
   "execution_count": 20,
   "metadata": {},
   "outputs": [],
   "source": [
    "for col in list(sup_list.drop(columns = 'Price').columns):\n",
    "    sup_list[col] = sup_list.apply(lambda x: clean_up(x[col]), axis =1)"
   ]
  },
  {
   "cell_type": "code",
   "execution_count": 21,
   "metadata": {},
   "outputs": [
    {
     "output_type": "execute_result",
     "data": {
      "text/plain": "            Isbn Currency  Price  \\\n0  9780008135904      AUD  12.99   \n1  9780008135904      CND   9.99   \n2  9780008135904      GBP   4.99   \n3  9780008135904      NZD  14.99   \n4  9780008135935      AUD  12.99   \n\n                                               Title Publisher Author  \n0  COLLINS MANDARIN CHINESE PHRASEBOOK AND DICTIO...       N/A    N/A  \n1  COLLINS MANDARIN CHINESE PHRASEBOOK AND DICTIO...       N/A    N/A  \n2  COLLINS MANDARIN CHINESE PHRASEBOOK AND DICTIO...       N/A    N/A  \n3  COLLINS MANDARIN CHINESE PHRASEBOOK AND DICTIO...       N/A    N/A  \n4  COLLINS PORTUGUESE PHRASEBOOK AND DICTIONARY G...       N/A    N/A  ",
      "text/html": "<div>\n<style scoped>\n    .dataframe tbody tr th:only-of-type {\n        vertical-align: middle;\n    }\n\n    .dataframe tbody tr th {\n        vertical-align: top;\n    }\n\n    .dataframe thead th {\n        text-align: right;\n    }\n</style>\n<table border=\"1\" class=\"dataframe\">\n  <thead>\n    <tr style=\"text-align: right;\">\n      <th></th>\n      <th>Isbn</th>\n      <th>Currency</th>\n      <th>Price</th>\n      <th>Title</th>\n      <th>Publisher</th>\n      <th>Author</th>\n    </tr>\n  </thead>\n  <tbody>\n    <tr>\n      <th>0</th>\n      <td>9780008135904</td>\n      <td>AUD</td>\n      <td>12.99</td>\n      <td>COLLINS MANDARIN CHINESE PHRASEBOOK AND DICTIO...</td>\n      <td>N/A</td>\n      <td>N/A</td>\n    </tr>\n    <tr>\n      <th>1</th>\n      <td>9780008135904</td>\n      <td>CND</td>\n      <td>9.99</td>\n      <td>COLLINS MANDARIN CHINESE PHRASEBOOK AND DICTIO...</td>\n      <td>N/A</td>\n      <td>N/A</td>\n    </tr>\n    <tr>\n      <th>2</th>\n      <td>9780008135904</td>\n      <td>GBP</td>\n      <td>4.99</td>\n      <td>COLLINS MANDARIN CHINESE PHRASEBOOK AND DICTIO...</td>\n      <td>N/A</td>\n      <td>N/A</td>\n    </tr>\n    <tr>\n      <th>3</th>\n      <td>9780008135904</td>\n      <td>NZD</td>\n      <td>14.99</td>\n      <td>COLLINS MANDARIN CHINESE PHRASEBOOK AND DICTIO...</td>\n      <td>N/A</td>\n      <td>N/A</td>\n    </tr>\n    <tr>\n      <th>4</th>\n      <td>9780008135935</td>\n      <td>AUD</td>\n      <td>12.99</td>\n      <td>COLLINS PORTUGUESE PHRASEBOOK AND DICTIONARY G...</td>\n      <td>N/A</td>\n      <td>N/A</td>\n    </tr>\n  </tbody>\n</table>\n</div>"
     },
     "metadata": {},
     "execution_count": 21
    }
   ],
   "source": [
    "sup_list.head()"
   ]
  },
  {
   "cell_type": "code",
   "execution_count": 22,
   "metadata": {},
   "outputs": [],
   "source": [
    "# Merge on Publisher\n",
    "sup_list2 = pd.merge(sup_list, dictio, how='left', left_on = 'Publisher', right_on = 'PublisherLong' )"
   ]
  },
  {
   "cell_type": "code",
   "execution_count": 23,
   "metadata": {},
   "outputs": [
    {
     "output_type": "execute_result",
     "data": {
      "text/plain": "            Isbn Currency  Price  \\\n0  9780008135904      AUD  12.99   \n1  9780008135904      CND   9.99   \n2  9780008135904      GBP   4.99   \n3  9780008135904      NZD  14.99   \n4  9780008135935      AUD  12.99   \n\n                                               Title Publisher Author  \\\n0  COLLINS MANDARIN CHINESE PHRASEBOOK AND DICTIO...       N/A    N/A   \n1  COLLINS MANDARIN CHINESE PHRASEBOOK AND DICTIO...       N/A    N/A   \n2  COLLINS MANDARIN CHINESE PHRASEBOOK AND DICTIO...       N/A    N/A   \n3  COLLINS MANDARIN CHINESE PHRASEBOOK AND DICTIO...       N/A    N/A   \n4  COLLINS PORTUGUESE PHRASEBOOK AND DICTIONARY G...       N/A    N/A   \n\n  PublisherLong PublisherShort  \n0           N/A            N/A  \n1           N/A            N/A  \n2           N/A            N/A  \n3           N/A            N/A  \n4           N/A            N/A  ",
      "text/html": "<div>\n<style scoped>\n    .dataframe tbody tr th:only-of-type {\n        vertical-align: middle;\n    }\n\n    .dataframe tbody tr th {\n        vertical-align: top;\n    }\n\n    .dataframe thead th {\n        text-align: right;\n    }\n</style>\n<table border=\"1\" class=\"dataframe\">\n  <thead>\n    <tr style=\"text-align: right;\">\n      <th></th>\n      <th>Isbn</th>\n      <th>Currency</th>\n      <th>Price</th>\n      <th>Title</th>\n      <th>Publisher</th>\n      <th>Author</th>\n      <th>PublisherLong</th>\n      <th>PublisherShort</th>\n    </tr>\n  </thead>\n  <tbody>\n    <tr>\n      <th>0</th>\n      <td>9780008135904</td>\n      <td>AUD</td>\n      <td>12.99</td>\n      <td>COLLINS MANDARIN CHINESE PHRASEBOOK AND DICTIO...</td>\n      <td>N/A</td>\n      <td>N/A</td>\n      <td>N/A</td>\n      <td>N/A</td>\n    </tr>\n    <tr>\n      <th>1</th>\n      <td>9780008135904</td>\n      <td>CND</td>\n      <td>9.99</td>\n      <td>COLLINS MANDARIN CHINESE PHRASEBOOK AND DICTIO...</td>\n      <td>N/A</td>\n      <td>N/A</td>\n      <td>N/A</td>\n      <td>N/A</td>\n    </tr>\n    <tr>\n      <th>2</th>\n      <td>9780008135904</td>\n      <td>GBP</td>\n      <td>4.99</td>\n      <td>COLLINS MANDARIN CHINESE PHRASEBOOK AND DICTIO...</td>\n      <td>N/A</td>\n      <td>N/A</td>\n      <td>N/A</td>\n      <td>N/A</td>\n    </tr>\n    <tr>\n      <th>3</th>\n      <td>9780008135904</td>\n      <td>NZD</td>\n      <td>14.99</td>\n      <td>COLLINS MANDARIN CHINESE PHRASEBOOK AND DICTIO...</td>\n      <td>N/A</td>\n      <td>N/A</td>\n      <td>N/A</td>\n      <td>N/A</td>\n    </tr>\n    <tr>\n      <th>4</th>\n      <td>9780008135935</td>\n      <td>AUD</td>\n      <td>12.99</td>\n      <td>COLLINS PORTUGUESE PHRASEBOOK AND DICTIONARY G...</td>\n      <td>N/A</td>\n      <td>N/A</td>\n      <td>N/A</td>\n      <td>N/A</td>\n    </tr>\n  </tbody>\n</table>\n</div>"
     },
     "metadata": {},
     "execution_count": 23
    }
   ],
   "source": [
    "sup_list2.head()"
   ]
  },
  {
   "cell_type": "code",
   "execution_count": 24,
   "metadata": {},
   "outputs": [
    {
     "output_type": "execute_result",
     "data": {
      "text/plain": "array(['AUD', 'CND', 'GBP', 'NZD', 'USD', 'EURO', 'PLN'], dtype=object)"
     },
     "metadata": {},
     "execution_count": 24
    }
   ],
   "source": [
    "sup_list2['Currency'].unique()"
   ]
  },
  {
   "cell_type": "code",
   "execution_count": 25,
   "metadata": {},
   "outputs": [
    {
     "output_type": "execute_result",
     "data": {
      "text/plain": "  Supplier        Publisher Currency  Discount  Shipping Cost  max quantity  \\\n0   COINFO         3D TOTAL      AUD      0.22            3.3         10000   \n1   COINFO         ABC CLIO      AUD      0.30            3.3         10000   \n2   COINFO             AIAA      AUD      0.30            3.3         10000   \n3   COINFO    ALIEN & UNWIN      AUD      0.33            3.3         10000   \n4   COINFO  Amer Psych Ass.      AUD      0.33            3.3         10000   \n\n   Min     Region  \n0    0  AUSTRALIA  \n1    0  AUSTRALIA  \n2    0  AUSTRALIA  \n3    0  AUSTRALIA  \n4    0  AUSTRALIA  ",
      "text/html": "<div>\n<style scoped>\n    .dataframe tbody tr th:only-of-type {\n        vertical-align: middle;\n    }\n\n    .dataframe tbody tr th {\n        vertical-align: top;\n    }\n\n    .dataframe thead th {\n        text-align: right;\n    }\n</style>\n<table border=\"1\" class=\"dataframe\">\n  <thead>\n    <tr style=\"text-align: right;\">\n      <th></th>\n      <th>Supplier</th>\n      <th>Publisher</th>\n      <th>Currency</th>\n      <th>Discount</th>\n      <th>Shipping Cost</th>\n      <th>max quantity</th>\n      <th>Min</th>\n      <th>Region</th>\n    </tr>\n  </thead>\n  <tbody>\n    <tr>\n      <th>0</th>\n      <td>COINFO</td>\n      <td>3D TOTAL</td>\n      <td>AUD</td>\n      <td>0.22</td>\n      <td>3.3</td>\n      <td>10000</td>\n      <td>0</td>\n      <td>AUSTRALIA</td>\n    </tr>\n    <tr>\n      <th>1</th>\n      <td>COINFO</td>\n      <td>ABC CLIO</td>\n      <td>AUD</td>\n      <td>0.30</td>\n      <td>3.3</td>\n      <td>10000</td>\n      <td>0</td>\n      <td>AUSTRALIA</td>\n    </tr>\n    <tr>\n      <th>2</th>\n      <td>COINFO</td>\n      <td>AIAA</td>\n      <td>AUD</td>\n      <td>0.30</td>\n      <td>3.3</td>\n      <td>10000</td>\n      <td>0</td>\n      <td>AUSTRALIA</td>\n    </tr>\n    <tr>\n      <th>3</th>\n      <td>COINFO</td>\n      <td>ALIEN &amp; UNWIN</td>\n      <td>AUD</td>\n      <td>0.33</td>\n      <td>3.3</td>\n      <td>10000</td>\n      <td>0</td>\n      <td>AUSTRALIA</td>\n    </tr>\n    <tr>\n      <th>4</th>\n      <td>COINFO</td>\n      <td>Amer Psych Ass.</td>\n      <td>AUD</td>\n      <td>0.33</td>\n      <td>3.3</td>\n      <td>10000</td>\n      <td>0</td>\n      <td>AUSTRALIA</td>\n    </tr>\n  </tbody>\n</table>\n</div>"
     },
     "metadata": {},
     "execution_count": 25
    }
   ],
   "source": [
    "# 4. get suppliers discount\n",
    "sup_pub = pd.read_excel('../../../../Vendors/.  Vendors Details\\supplier_procurement_details.xlsx',  sheet_name='pub')\n",
    "sup_pub.head()"
   ]
  },
  {
   "cell_type": "code",
   "execution_count": 26,
   "metadata": {},
   "outputs": [],
   "source": [
    "for col in ['Supplier', 'Publisher', 'Currency', 'Region']:\n",
    "    sup_pub[col] = sup_pub.apply(lambda x: clean_up(x[col]), axis =1)"
   ]
  },
  {
   "cell_type": "code",
   "execution_count": 27,
   "metadata": {},
   "outputs": [],
   "source": [
    "sup_list3 = pd.merge(sup_list2, sup_pub, how='inner', left_on = ['Currency', 'PublisherShort'], right_on = ['Currency', 'Publisher'] )"
   ]
  },
  {
   "cell_type": "code",
   "execution_count": 28,
   "metadata": {},
   "outputs": [
    {
     "output_type": "execute_result",
     "data": {
      "text/plain": "                 Isbn Currency   Price  \\\n0       9780060466381      GBP   10.99   \n1       9780060466398      GBP    9.99   \n2       9780003020656      GBP   53.99   \n3       9780013510758      GBP   90.00   \n4       9780041900071      GBP  100.00   \n...               ...      ...     ...   \n464351  9789027232656      AUD   71.95   \n464352  9789027241801      AUD   81.95   \n464353  9789027252722      AUD   78.95   \n464354  9789027219060      AUD   75.95   \n464355  9789027231949      AUD   75.95   \n\n                                                    Title  \\\n0                                                     N/A   \n1                                                     N/A   \n2                                                     N/A   \n3                                                     N/A   \n4                                                     N/A   \n...                                                   ...   \n464351  INTRODUCING SOCIOLINGUISTICS: <STRONG>SECOND E...   \n464352  INCOMPLETE ACQUISITION IN BILINGUALISM: RE-EXA...   \n464353  PIDGINS, CREOLES AND MIXED LANGUAGES: AN INTRO...   \n464354  COGNITIVE EXPLORATION OF LANGUAGE AND LINGUISTICS   \n464355                FROM THE CLASSROOM TO THE COURTROOM   \n\n                      Publisher_x             Author  \\\n0                             T&F                N/A   \n1                             T&F                N/A   \n2                             T&F                N/A   \n3                             T&F                N/A   \n4                             T&F                N/A   \n...                           ...                ...   \n464351  JOHN BENJAMINS PUBLISHING    RAJEND MESTHRIE   \n464352  JOHN BENJAMINS PUBLISHING    SILVINA MONTRUL   \n464353  JOHN BENJAMINS PUBLISHING  VIVEKA VELUPILLAI   \n464354  JOHN BENJAMINS PUBLISHING        RENE DIRVEN   \n464355  JOHN BENJAMINS PUBLISHING  ELENA M. DE JONGH   \n\n                    PublisherLong             PublisherShort Supplier  \\\n0                             T&F                        T&F      ABE   \n1                             T&F                        T&F      ABE   \n2                             T&F                        T&F      ABE   \n3                             T&F                        T&F      ABE   \n4                             T&F                        T&F      ABE   \n...                           ...                        ...      ...   \n464351  JOHN BENJAMINS PUBLISHING  JOHN BENJAMINS PUBLISHING   COINFO   \n464352  JOHN BENJAMINS PUBLISHING  JOHN BENJAMINS PUBLISHING   COINFO   \n464353  JOHN BENJAMINS PUBLISHING  JOHN BENJAMINS PUBLISHING   COINFO   \n464354  JOHN BENJAMINS PUBLISHING  JOHN BENJAMINS PUBLISHING   COINFO   \n464355  JOHN BENJAMINS PUBLISHING  JOHN BENJAMINS PUBLISHING   COINFO   \n\n                      Publisher_y  Discount  Shipping Cost  max quantity  Min  \\\n0                             T&F      0.35           3.47         10000    0   \n1                             T&F      0.35           3.47         10000    0   \n2                             T&F      0.35           3.47         10000    0   \n3                             T&F      0.35           3.47         10000    0   \n4                             T&F      0.35           3.47         10000    0   \n...                           ...       ...            ...           ...  ...   \n464351  JOHN BENJAMINS PUBLISHING      0.30           3.30         10000    0   \n464352  JOHN BENJAMINS PUBLISHING      0.30           3.30         10000    0   \n464353  JOHN BENJAMINS PUBLISHING      0.30           3.30         10000    0   \n464354  JOHN BENJAMINS PUBLISHING      0.30           3.30         10000    0   \n464355  JOHN BENJAMINS PUBLISHING      0.30           3.30         10000    0   \n\n           Region  \n0          EUROPE  \n1          EUROPE  \n2          EUROPE  \n3          EUROPE  \n4          EUROPE  \n...           ...  \n464351  AUSTRALIA  \n464352  AUSTRALIA  \n464353  AUSTRALIA  \n464354  AUSTRALIA  \n464355  AUSTRALIA  \n\n[464356 rows x 15 columns]",
      "text/html": "<div>\n<style scoped>\n    .dataframe tbody tr th:only-of-type {\n        vertical-align: middle;\n    }\n\n    .dataframe tbody tr th {\n        vertical-align: top;\n    }\n\n    .dataframe thead th {\n        text-align: right;\n    }\n</style>\n<table border=\"1\" class=\"dataframe\">\n  <thead>\n    <tr style=\"text-align: right;\">\n      <th></th>\n      <th>Isbn</th>\n      <th>Currency</th>\n      <th>Price</th>\n      <th>Title</th>\n      <th>Publisher_x</th>\n      <th>Author</th>\n      <th>PublisherLong</th>\n      <th>PublisherShort</th>\n      <th>Supplier</th>\n      <th>Publisher_y</th>\n      <th>Discount</th>\n      <th>Shipping Cost</th>\n      <th>max quantity</th>\n      <th>Min</th>\n      <th>Region</th>\n    </tr>\n  </thead>\n  <tbody>\n    <tr>\n      <th>0</th>\n      <td>9780060466381</td>\n      <td>GBP</td>\n      <td>10.99</td>\n      <td>N/A</td>\n      <td>T&amp;F</td>\n      <td>N/A</td>\n      <td>T&amp;F</td>\n      <td>T&amp;F</td>\n      <td>ABE</td>\n      <td>T&amp;F</td>\n      <td>0.35</td>\n      <td>3.47</td>\n      <td>10000</td>\n      <td>0</td>\n      <td>EUROPE</td>\n    </tr>\n    <tr>\n      <th>1</th>\n      <td>9780060466398</td>\n      <td>GBP</td>\n      <td>9.99</td>\n      <td>N/A</td>\n      <td>T&amp;F</td>\n      <td>N/A</td>\n      <td>T&amp;F</td>\n      <td>T&amp;F</td>\n      <td>ABE</td>\n      <td>T&amp;F</td>\n      <td>0.35</td>\n      <td>3.47</td>\n      <td>10000</td>\n      <td>0</td>\n      <td>EUROPE</td>\n    </tr>\n    <tr>\n      <th>2</th>\n      <td>9780003020656</td>\n      <td>GBP</td>\n      <td>53.99</td>\n      <td>N/A</td>\n      <td>T&amp;F</td>\n      <td>N/A</td>\n      <td>T&amp;F</td>\n      <td>T&amp;F</td>\n      <td>ABE</td>\n      <td>T&amp;F</td>\n      <td>0.35</td>\n      <td>3.47</td>\n      <td>10000</td>\n      <td>0</td>\n      <td>EUROPE</td>\n    </tr>\n    <tr>\n      <th>3</th>\n      <td>9780013510758</td>\n      <td>GBP</td>\n      <td>90.00</td>\n      <td>N/A</td>\n      <td>T&amp;F</td>\n      <td>N/A</td>\n      <td>T&amp;F</td>\n      <td>T&amp;F</td>\n      <td>ABE</td>\n      <td>T&amp;F</td>\n      <td>0.35</td>\n      <td>3.47</td>\n      <td>10000</td>\n      <td>0</td>\n      <td>EUROPE</td>\n    </tr>\n    <tr>\n      <th>4</th>\n      <td>9780041900071</td>\n      <td>GBP</td>\n      <td>100.00</td>\n      <td>N/A</td>\n      <td>T&amp;F</td>\n      <td>N/A</td>\n      <td>T&amp;F</td>\n      <td>T&amp;F</td>\n      <td>ABE</td>\n      <td>T&amp;F</td>\n      <td>0.35</td>\n      <td>3.47</td>\n      <td>10000</td>\n      <td>0</td>\n      <td>EUROPE</td>\n    </tr>\n    <tr>\n      <th>...</th>\n      <td>...</td>\n      <td>...</td>\n      <td>...</td>\n      <td>...</td>\n      <td>...</td>\n      <td>...</td>\n      <td>...</td>\n      <td>...</td>\n      <td>...</td>\n      <td>...</td>\n      <td>...</td>\n      <td>...</td>\n      <td>...</td>\n      <td>...</td>\n      <td>...</td>\n    </tr>\n    <tr>\n      <th>464351</th>\n      <td>9789027232656</td>\n      <td>AUD</td>\n      <td>71.95</td>\n      <td>INTRODUCING SOCIOLINGUISTICS: &lt;STRONG&gt;SECOND E...</td>\n      <td>JOHN BENJAMINS PUBLISHING</td>\n      <td>RAJEND MESTHRIE</td>\n      <td>JOHN BENJAMINS PUBLISHING</td>\n      <td>JOHN BENJAMINS PUBLISHING</td>\n      <td>COINFO</td>\n      <td>JOHN BENJAMINS PUBLISHING</td>\n      <td>0.30</td>\n      <td>3.30</td>\n      <td>10000</td>\n      <td>0</td>\n      <td>AUSTRALIA</td>\n    </tr>\n    <tr>\n      <th>464352</th>\n      <td>9789027241801</td>\n      <td>AUD</td>\n      <td>81.95</td>\n      <td>INCOMPLETE ACQUISITION IN BILINGUALISM: RE-EXA...</td>\n      <td>JOHN BENJAMINS PUBLISHING</td>\n      <td>SILVINA MONTRUL</td>\n      <td>JOHN BENJAMINS PUBLISHING</td>\n      <td>JOHN BENJAMINS PUBLISHING</td>\n      <td>COINFO</td>\n      <td>JOHN BENJAMINS PUBLISHING</td>\n      <td>0.30</td>\n      <td>3.30</td>\n      <td>10000</td>\n      <td>0</td>\n      <td>AUSTRALIA</td>\n    </tr>\n    <tr>\n      <th>464353</th>\n      <td>9789027252722</td>\n      <td>AUD</td>\n      <td>78.95</td>\n      <td>PIDGINS, CREOLES AND MIXED LANGUAGES: AN INTRO...</td>\n      <td>JOHN BENJAMINS PUBLISHING</td>\n      <td>VIVEKA VELUPILLAI</td>\n      <td>JOHN BENJAMINS PUBLISHING</td>\n      <td>JOHN BENJAMINS PUBLISHING</td>\n      <td>COINFO</td>\n      <td>JOHN BENJAMINS PUBLISHING</td>\n      <td>0.30</td>\n      <td>3.30</td>\n      <td>10000</td>\n      <td>0</td>\n      <td>AUSTRALIA</td>\n    </tr>\n    <tr>\n      <th>464354</th>\n      <td>9789027219060</td>\n      <td>AUD</td>\n      <td>75.95</td>\n      <td>COGNITIVE EXPLORATION OF LANGUAGE AND LINGUISTICS</td>\n      <td>JOHN BENJAMINS PUBLISHING</td>\n      <td>RENE DIRVEN</td>\n      <td>JOHN BENJAMINS PUBLISHING</td>\n      <td>JOHN BENJAMINS PUBLISHING</td>\n      <td>COINFO</td>\n      <td>JOHN BENJAMINS PUBLISHING</td>\n      <td>0.30</td>\n      <td>3.30</td>\n      <td>10000</td>\n      <td>0</td>\n      <td>AUSTRALIA</td>\n    </tr>\n    <tr>\n      <th>464355</th>\n      <td>9789027231949</td>\n      <td>AUD</td>\n      <td>75.95</td>\n      <td>FROM THE CLASSROOM TO THE COURTROOM</td>\n      <td>JOHN BENJAMINS PUBLISHING</td>\n      <td>ELENA M. DE JONGH</td>\n      <td>JOHN BENJAMINS PUBLISHING</td>\n      <td>JOHN BENJAMINS PUBLISHING</td>\n      <td>COINFO</td>\n      <td>JOHN BENJAMINS PUBLISHING</td>\n      <td>0.30</td>\n      <td>3.30</td>\n      <td>10000</td>\n      <td>0</td>\n      <td>AUSTRALIA</td>\n    </tr>\n  </tbody>\n</table>\n<p>464356 rows × 15 columns</p>\n</div>"
     },
     "metadata": {},
     "execution_count": 28
    }
   ],
   "source": [
    "sup_list3"
   ]
  },
  {
   "cell_type": "code",
   "execution_count": 29,
   "metadata": {},
   "outputs": [],
   "source": [
    "sup_list3.drop(columns = ['Publisher_x', 'PublisherLong', 'Publisher_y'], inplace = True)"
   ]
  },
  {
   "cell_type": "code",
   "execution_count": 30,
   "metadata": {},
   "outputs": [
    {
     "output_type": "execute_result",
     "data": {
      "text/plain": "            Isbn Currency   Price Title Author PublisherShort Supplier  \\\n0  9780060466381      GBP   10.99   N/A    N/A            T&F      ABE   \n1  9780060466398      GBP    9.99   N/A    N/A            T&F      ABE   \n2  9780003020656      GBP   53.99   N/A    N/A            T&F      ABE   \n3  9780013510758      GBP   90.00   N/A    N/A            T&F      ABE   \n4  9780041900071      GBP  100.00   N/A    N/A            T&F      ABE   \n\n   Discount  Shipping Cost  max quantity  Min  Region  \n0      0.35           3.47         10000    0  EUROPE  \n1      0.35           3.47         10000    0  EUROPE  \n2      0.35           3.47         10000    0  EUROPE  \n3      0.35           3.47         10000    0  EUROPE  \n4      0.35           3.47         10000    0  EUROPE  ",
      "text/html": "<div>\n<style scoped>\n    .dataframe tbody tr th:only-of-type {\n        vertical-align: middle;\n    }\n\n    .dataframe tbody tr th {\n        vertical-align: top;\n    }\n\n    .dataframe thead th {\n        text-align: right;\n    }\n</style>\n<table border=\"1\" class=\"dataframe\">\n  <thead>\n    <tr style=\"text-align: right;\">\n      <th></th>\n      <th>Isbn</th>\n      <th>Currency</th>\n      <th>Price</th>\n      <th>Title</th>\n      <th>Author</th>\n      <th>PublisherShort</th>\n      <th>Supplier</th>\n      <th>Discount</th>\n      <th>Shipping Cost</th>\n      <th>max quantity</th>\n      <th>Min</th>\n      <th>Region</th>\n    </tr>\n  </thead>\n  <tbody>\n    <tr>\n      <th>0</th>\n      <td>9780060466381</td>\n      <td>GBP</td>\n      <td>10.99</td>\n      <td>N/A</td>\n      <td>N/A</td>\n      <td>T&amp;F</td>\n      <td>ABE</td>\n      <td>0.35</td>\n      <td>3.47</td>\n      <td>10000</td>\n      <td>0</td>\n      <td>EUROPE</td>\n    </tr>\n    <tr>\n      <th>1</th>\n      <td>9780060466398</td>\n      <td>GBP</td>\n      <td>9.99</td>\n      <td>N/A</td>\n      <td>N/A</td>\n      <td>T&amp;F</td>\n      <td>ABE</td>\n      <td>0.35</td>\n      <td>3.47</td>\n      <td>10000</td>\n      <td>0</td>\n      <td>EUROPE</td>\n    </tr>\n    <tr>\n      <th>2</th>\n      <td>9780003020656</td>\n      <td>GBP</td>\n      <td>53.99</td>\n      <td>N/A</td>\n      <td>N/A</td>\n      <td>T&amp;F</td>\n      <td>ABE</td>\n      <td>0.35</td>\n      <td>3.47</td>\n      <td>10000</td>\n      <td>0</td>\n      <td>EUROPE</td>\n    </tr>\n    <tr>\n      <th>3</th>\n      <td>9780013510758</td>\n      <td>GBP</td>\n      <td>90.00</td>\n      <td>N/A</td>\n      <td>N/A</td>\n      <td>T&amp;F</td>\n      <td>ABE</td>\n      <td>0.35</td>\n      <td>3.47</td>\n      <td>10000</td>\n      <td>0</td>\n      <td>EUROPE</td>\n    </tr>\n    <tr>\n      <th>4</th>\n      <td>9780041900071</td>\n      <td>GBP</td>\n      <td>100.00</td>\n      <td>N/A</td>\n      <td>N/A</td>\n      <td>T&amp;F</td>\n      <td>ABE</td>\n      <td>0.35</td>\n      <td>3.47</td>\n      <td>10000</td>\n      <td>0</td>\n      <td>EUROPE</td>\n    </tr>\n  </tbody>\n</table>\n</div>"
     },
     "metadata": {},
     "execution_count": 30
    }
   ],
   "source": [
    "sup_list3.head()"
   ]
  },
  {
   "cell_type": "code",
   "execution_count": 31,
   "metadata": {},
   "outputs": [],
   "source": [
    "# 5. Check Suppliers special discounts\n",
    "sp_disc = pd.read_excel(\"../../../../Vendors/. Short Discounted/all_short_discount_list.xlsx\")"
   ]
  },
  {
   "cell_type": "code",
   "execution_count": 32,
   "metadata": {},
   "outputs": [
    {
     "output_type": "execute_result",
     "data": {
      "text/plain": "  SUPPLIER           ISBN  DISCOUNT\n0      ABE  9781408041734       0.2\n1      ABE  9781408041918       0.2\n2      ABE  9781408056509       0.2\n3      ABE  9781408060377       0.2\n4      ABE  9780534944827       0.3",
      "text/html": "<div>\n<style scoped>\n    .dataframe tbody tr th:only-of-type {\n        vertical-align: middle;\n    }\n\n    .dataframe tbody tr th {\n        vertical-align: top;\n    }\n\n    .dataframe thead th {\n        text-align: right;\n    }\n</style>\n<table border=\"1\" class=\"dataframe\">\n  <thead>\n    <tr style=\"text-align: right;\">\n      <th></th>\n      <th>SUPPLIER</th>\n      <th>ISBN</th>\n      <th>DISCOUNT</th>\n    </tr>\n  </thead>\n  <tbody>\n    <tr>\n      <th>0</th>\n      <td>ABE</td>\n      <td>9781408041734</td>\n      <td>0.2</td>\n    </tr>\n    <tr>\n      <th>1</th>\n      <td>ABE</td>\n      <td>9781408041918</td>\n      <td>0.2</td>\n    </tr>\n    <tr>\n      <th>2</th>\n      <td>ABE</td>\n      <td>9781408056509</td>\n      <td>0.2</td>\n    </tr>\n    <tr>\n      <th>3</th>\n      <td>ABE</td>\n      <td>9781408060377</td>\n      <td>0.2</td>\n    </tr>\n    <tr>\n      <th>4</th>\n      <td>ABE</td>\n      <td>9780534944827</td>\n      <td>0.3</td>\n    </tr>\n  </tbody>\n</table>\n</div>"
     },
     "metadata": {},
     "execution_count": 32
    }
   ],
   "source": [
    "sp_disc.head()"
   ]
  },
  {
   "cell_type": "code",
   "execution_count": 33,
   "metadata": {},
   "outputs": [
    {
     "output_type": "execute_result",
     "data": {
      "text/plain": "SUPPLIER     object\nISBN          int64\nDISCOUNT    float64\ndtype: object"
     },
     "metadata": {},
     "execution_count": 33
    }
   ],
   "source": [
    "sp_disc.dtypes"
   ]
  },
  {
   "cell_type": "code",
   "execution_count": 34,
   "metadata": {},
   "outputs": [
    {
     "output_type": "execute_result",
     "data": {
      "text/plain": "SUPPLIER     object\nISBN         object\nDISCOUNT    float64\ndtype: object"
     },
     "metadata": {},
     "execution_count": 34
    }
   ],
   "source": [
    "sp_disc['ISBN'] = sp_disc['ISBN'].astype(str)\n",
    "sp_disc.dtypes"
   ]
  },
  {
   "cell_type": "code",
   "execution_count": 35,
   "metadata": {},
   "outputs": [
    {
     "output_type": "execute_result",
     "data": {
      "text/plain": "  SUPPLIER           ISBN  DISCOUNT\n0      ABE  9781408041734       0.2\n1      ABE  9781408041918       0.2\n2      ABE  9781408056509       0.2\n3      ABE  9781408060377       0.2\n4      ABE  9780534944827       0.3",
      "text/html": "<div>\n<style scoped>\n    .dataframe tbody tr th:only-of-type {\n        vertical-align: middle;\n    }\n\n    .dataframe tbody tr th {\n        vertical-align: top;\n    }\n\n    .dataframe thead th {\n        text-align: right;\n    }\n</style>\n<table border=\"1\" class=\"dataframe\">\n  <thead>\n    <tr style=\"text-align: right;\">\n      <th></th>\n      <th>SUPPLIER</th>\n      <th>ISBN</th>\n      <th>DISCOUNT</th>\n    </tr>\n  </thead>\n  <tbody>\n    <tr>\n      <th>0</th>\n      <td>ABE</td>\n      <td>9781408041734</td>\n      <td>0.2</td>\n    </tr>\n    <tr>\n      <th>1</th>\n      <td>ABE</td>\n      <td>9781408041918</td>\n      <td>0.2</td>\n    </tr>\n    <tr>\n      <th>2</th>\n      <td>ABE</td>\n      <td>9781408056509</td>\n      <td>0.2</td>\n    </tr>\n    <tr>\n      <th>3</th>\n      <td>ABE</td>\n      <td>9781408060377</td>\n      <td>0.2</td>\n    </tr>\n    <tr>\n      <th>4</th>\n      <td>ABE</td>\n      <td>9780534944827</td>\n      <td>0.3</td>\n    </tr>\n  </tbody>\n</table>\n</div>"
     },
     "metadata": {},
     "execution_count": 35
    }
   ],
   "source": [
    "for col in ['SUPPLIER', 'ISBN']:\n",
    "    sp_disc[col] = sp_disc.apply(lambda x: clean_up(x[col]), axis =1)\n",
    "\n",
    "sp_disc.head()"
   ]
  },
  {
   "cell_type": "code",
   "execution_count": 36,
   "metadata": {},
   "outputs": [],
   "source": [
    "sup_list4 = pd.merge(sup_list3, sp_disc, how='left', left_on = ['Supplier', 'Isbn'], right_on = ['SUPPLIER', 'ISBN'] )"
   ]
  },
  {
   "cell_type": "code",
   "execution_count": 37,
   "metadata": {},
   "outputs": [
    {
     "output_type": "execute_result",
     "data": {
      "text/plain": "            Isbn Currency   Price Title Author PublisherShort Supplier  \\\n0  9780060466381      GBP   10.99   N/A    N/A            T&F      ABE   \n1  9780060466398      GBP    9.99   N/A    N/A            T&F      ABE   \n2  9780003020656      GBP   53.99   N/A    N/A            T&F      ABE   \n3  9780013510758      GBP   90.00   N/A    N/A            T&F      ABE   \n4  9780041900071      GBP  100.00   N/A    N/A            T&F      ABE   \n\n   Discount  Shipping Cost  max quantity  Min  Region SUPPLIER ISBN  DISCOUNT  \n0      0.35           3.47         10000    0  EUROPE      NaN  NaN       NaN  \n1      0.35           3.47         10000    0  EUROPE      NaN  NaN       NaN  \n2      0.35           3.47         10000    0  EUROPE      NaN  NaN       NaN  \n3      0.35           3.47         10000    0  EUROPE      NaN  NaN       NaN  \n4      0.35           3.47         10000    0  EUROPE      NaN  NaN       NaN  ",
      "text/html": "<div>\n<style scoped>\n    .dataframe tbody tr th:only-of-type {\n        vertical-align: middle;\n    }\n\n    .dataframe tbody tr th {\n        vertical-align: top;\n    }\n\n    .dataframe thead th {\n        text-align: right;\n    }\n</style>\n<table border=\"1\" class=\"dataframe\">\n  <thead>\n    <tr style=\"text-align: right;\">\n      <th></th>\n      <th>Isbn</th>\n      <th>Currency</th>\n      <th>Price</th>\n      <th>Title</th>\n      <th>Author</th>\n      <th>PublisherShort</th>\n      <th>Supplier</th>\n      <th>Discount</th>\n      <th>Shipping Cost</th>\n      <th>max quantity</th>\n      <th>Min</th>\n      <th>Region</th>\n      <th>SUPPLIER</th>\n      <th>ISBN</th>\n      <th>DISCOUNT</th>\n    </tr>\n  </thead>\n  <tbody>\n    <tr>\n      <th>0</th>\n      <td>9780060466381</td>\n      <td>GBP</td>\n      <td>10.99</td>\n      <td>N/A</td>\n      <td>N/A</td>\n      <td>T&amp;F</td>\n      <td>ABE</td>\n      <td>0.35</td>\n      <td>3.47</td>\n      <td>10000</td>\n      <td>0</td>\n      <td>EUROPE</td>\n      <td>NaN</td>\n      <td>NaN</td>\n      <td>NaN</td>\n    </tr>\n    <tr>\n      <th>1</th>\n      <td>9780060466398</td>\n      <td>GBP</td>\n      <td>9.99</td>\n      <td>N/A</td>\n      <td>N/A</td>\n      <td>T&amp;F</td>\n      <td>ABE</td>\n      <td>0.35</td>\n      <td>3.47</td>\n      <td>10000</td>\n      <td>0</td>\n      <td>EUROPE</td>\n      <td>NaN</td>\n      <td>NaN</td>\n      <td>NaN</td>\n    </tr>\n    <tr>\n      <th>2</th>\n      <td>9780003020656</td>\n      <td>GBP</td>\n      <td>53.99</td>\n      <td>N/A</td>\n      <td>N/A</td>\n      <td>T&amp;F</td>\n      <td>ABE</td>\n      <td>0.35</td>\n      <td>3.47</td>\n      <td>10000</td>\n      <td>0</td>\n      <td>EUROPE</td>\n      <td>NaN</td>\n      <td>NaN</td>\n      <td>NaN</td>\n    </tr>\n    <tr>\n      <th>3</th>\n      <td>9780013510758</td>\n      <td>GBP</td>\n      <td>90.00</td>\n      <td>N/A</td>\n      <td>N/A</td>\n      <td>T&amp;F</td>\n      <td>ABE</td>\n      <td>0.35</td>\n      <td>3.47</td>\n      <td>10000</td>\n      <td>0</td>\n      <td>EUROPE</td>\n      <td>NaN</td>\n      <td>NaN</td>\n      <td>NaN</td>\n    </tr>\n    <tr>\n      <th>4</th>\n      <td>9780041900071</td>\n      <td>GBP</td>\n      <td>100.00</td>\n      <td>N/A</td>\n      <td>N/A</td>\n      <td>T&amp;F</td>\n      <td>ABE</td>\n      <td>0.35</td>\n      <td>3.47</td>\n      <td>10000</td>\n      <td>0</td>\n      <td>EUROPE</td>\n      <td>NaN</td>\n      <td>NaN</td>\n      <td>NaN</td>\n    </tr>\n  </tbody>\n</table>\n</div>"
     },
     "metadata": {},
     "execution_count": 37
    }
   ],
   "source": [
    "sup_list4.head()"
   ]
  },
  {
   "cell_type": "code",
   "execution_count": 38,
   "metadata": {},
   "outputs": [
    {
     "output_type": "execute_result",
     "data": {
      "text/plain": "                 Isbn Currency   Price  \\\n158818  9781437734928      GBP   80.00   \n187030  9780134782843      GBP  142.99   \n198660  9780781766173      GBP   65.00   \n198661  9780781768702      GBP   55.00   \n198667  9780781774833      GBP   49.99   \n...               ...      ...     ...   \n451130  9780393937282      GBP   15.00   \n451167  9780393937275      GBP   17.99   \n451180  9780393930047      GBP   49.99   \n451411  9780393925227      GBP   53.00   \n451435  9780393930405      GBP   25.00   \n\n                                                    Title  \\\n158818                                        CORRECTIONS   \n187030        CHEZ NOUS: BRANCHE SUR LE MONDE FRANCOPHONE   \n198660                                                N/A   \n198661  ACSM'S RESOURCES FOR CLINICAL EXERCISE PHYSIOLOGY   \n198667                                                N/A   \n...                                                   ...   \n451130                                  DEFINING A NATION   \n451167  CONFUCIANISM AND THE SUCCESSSION CRISIS OF THE...   \n451180               PHYSICS FOR ENGINEERS AND SCIENTISTS   \n451411                     ECONOMICS OF THE PUBLIC SECTOR   \n451435                            END OF THE EUROPEAN ERA   \n\n                                                   Author PublisherShort  \\\n158818  JOHN T. WHITEHEAD; KIMBERLY D. DODSON; BRADLEY...            T&F   \n187030                                 MARY ELLEN SCULLEN        PEARSON   \n198660                                                N/A       W KLUWER   \n198661                AMERICAN COLLEGE OF SPORTS MEDICINE       W KLUWER   \n198667                                                N/A       W KLUWER   \n...                                                   ...            ...   \n451130                  AINSLIE T. EMBREE; MARK C. CARNES         NORTON   \n451167                  DANIEL K. GARDNER; MARK C. CARNES         NORTON   \n451180                   HANS C. OHANIAN; JOHN T. MARKERT         NORTON   \n451411               JOSEPH E. STIGLITZ; JAY K. ROSENGARD         NORTON   \n451435                    FELIX GILBERT; DAVID CLAY LARGE         NORTON   \n\n       Supplier  Discount  Shipping Cost  max quantity  Min  Region SUPPLIER  \\\n158818      ABE      0.35           3.47         10000    0  EUROPE      ABE   \n187030      ABE      0.43           3.47         10000    0  EUROPE      ABE   \n198660      ABE      0.55           3.47         10000    0  EUROPE      ABE   \n198661      ABE      0.55           3.47         10000    0  EUROPE      ABE   \n198667      ABE      0.55           3.47         10000    0  EUROPE      ABE   \n...         ...       ...            ...           ...  ...     ...      ...   \n451130      ABE      0.30           3.47         10000    0  EUROPE      ABE   \n451167      ABE      0.30           3.47         10000    0  EUROPE      ABE   \n451180      ABE      0.30           3.47         10000    0  EUROPE      ABE   \n451411      ABE      0.30           3.47         10000    0  EUROPE      ABE   \n451435      ABE      0.30           3.47         10000    0  EUROPE      ABE   \n\n                 ISBN  DISCOUNT  \n158818  9781437734928      0.35  \n187030  9780134782843      0.35  \n198660  9780781766173      0.35  \n198661  9780781768702      0.35  \n198667  9780781774833      0.35  \n...               ...       ...  \n451130  9780393937282     -0.05  \n451167  9780393937275      0.25  \n451180  9780393930047      0.25  \n451411  9780393925227      0.25  \n451435  9780393930405      0.25  \n\n[949 rows x 15 columns]",
      "text/html": "<div>\n<style scoped>\n    .dataframe tbody tr th:only-of-type {\n        vertical-align: middle;\n    }\n\n    .dataframe tbody tr th {\n        vertical-align: top;\n    }\n\n    .dataframe thead th {\n        text-align: right;\n    }\n</style>\n<table border=\"1\" class=\"dataframe\">\n  <thead>\n    <tr style=\"text-align: right;\">\n      <th></th>\n      <th>Isbn</th>\n      <th>Currency</th>\n      <th>Price</th>\n      <th>Title</th>\n      <th>Author</th>\n      <th>PublisherShort</th>\n      <th>Supplier</th>\n      <th>Discount</th>\n      <th>Shipping Cost</th>\n      <th>max quantity</th>\n      <th>Min</th>\n      <th>Region</th>\n      <th>SUPPLIER</th>\n      <th>ISBN</th>\n      <th>DISCOUNT</th>\n    </tr>\n  </thead>\n  <tbody>\n    <tr>\n      <th>158818</th>\n      <td>9781437734928</td>\n      <td>GBP</td>\n      <td>80.00</td>\n      <td>CORRECTIONS</td>\n      <td>JOHN T. WHITEHEAD; KIMBERLY D. DODSON; BRADLEY...</td>\n      <td>T&amp;F</td>\n      <td>ABE</td>\n      <td>0.35</td>\n      <td>3.47</td>\n      <td>10000</td>\n      <td>0</td>\n      <td>EUROPE</td>\n      <td>ABE</td>\n      <td>9781437734928</td>\n      <td>0.35</td>\n    </tr>\n    <tr>\n      <th>187030</th>\n      <td>9780134782843</td>\n      <td>GBP</td>\n      <td>142.99</td>\n      <td>CHEZ NOUS: BRANCHE SUR LE MONDE FRANCOPHONE</td>\n      <td>MARY ELLEN SCULLEN</td>\n      <td>PEARSON</td>\n      <td>ABE</td>\n      <td>0.43</td>\n      <td>3.47</td>\n      <td>10000</td>\n      <td>0</td>\n      <td>EUROPE</td>\n      <td>ABE</td>\n      <td>9780134782843</td>\n      <td>0.35</td>\n    </tr>\n    <tr>\n      <th>198660</th>\n      <td>9780781766173</td>\n      <td>GBP</td>\n      <td>65.00</td>\n      <td>N/A</td>\n      <td>N/A</td>\n      <td>W KLUWER</td>\n      <td>ABE</td>\n      <td>0.55</td>\n      <td>3.47</td>\n      <td>10000</td>\n      <td>0</td>\n      <td>EUROPE</td>\n      <td>ABE</td>\n      <td>9780781766173</td>\n      <td>0.35</td>\n    </tr>\n    <tr>\n      <th>198661</th>\n      <td>9780781768702</td>\n      <td>GBP</td>\n      <td>55.00</td>\n      <td>ACSM'S RESOURCES FOR CLINICAL EXERCISE PHYSIOLOGY</td>\n      <td>AMERICAN COLLEGE OF SPORTS MEDICINE</td>\n      <td>W KLUWER</td>\n      <td>ABE</td>\n      <td>0.55</td>\n      <td>3.47</td>\n      <td>10000</td>\n      <td>0</td>\n      <td>EUROPE</td>\n      <td>ABE</td>\n      <td>9780781768702</td>\n      <td>0.35</td>\n    </tr>\n    <tr>\n      <th>198667</th>\n      <td>9780781774833</td>\n      <td>GBP</td>\n      <td>49.99</td>\n      <td>N/A</td>\n      <td>N/A</td>\n      <td>W KLUWER</td>\n      <td>ABE</td>\n      <td>0.55</td>\n      <td>3.47</td>\n      <td>10000</td>\n      <td>0</td>\n      <td>EUROPE</td>\n      <td>ABE</td>\n      <td>9780781774833</td>\n      <td>0.35</td>\n    </tr>\n    <tr>\n      <th>...</th>\n      <td>...</td>\n      <td>...</td>\n      <td>...</td>\n      <td>...</td>\n      <td>...</td>\n      <td>...</td>\n      <td>...</td>\n      <td>...</td>\n      <td>...</td>\n      <td>...</td>\n      <td>...</td>\n      <td>...</td>\n      <td>...</td>\n      <td>...</td>\n      <td>...</td>\n    </tr>\n    <tr>\n      <th>451130</th>\n      <td>9780393937282</td>\n      <td>GBP</td>\n      <td>15.00</td>\n      <td>DEFINING A NATION</td>\n      <td>AINSLIE T. EMBREE; MARK C. CARNES</td>\n      <td>NORTON</td>\n      <td>ABE</td>\n      <td>0.30</td>\n      <td>3.47</td>\n      <td>10000</td>\n      <td>0</td>\n      <td>EUROPE</td>\n      <td>ABE</td>\n      <td>9780393937282</td>\n      <td>-0.05</td>\n    </tr>\n    <tr>\n      <th>451167</th>\n      <td>9780393937275</td>\n      <td>GBP</td>\n      <td>17.99</td>\n      <td>CONFUCIANISM AND THE SUCCESSSION CRISIS OF THE...</td>\n      <td>DANIEL K. GARDNER; MARK C. CARNES</td>\n      <td>NORTON</td>\n      <td>ABE</td>\n      <td>0.30</td>\n      <td>3.47</td>\n      <td>10000</td>\n      <td>0</td>\n      <td>EUROPE</td>\n      <td>ABE</td>\n      <td>9780393937275</td>\n      <td>0.25</td>\n    </tr>\n    <tr>\n      <th>451180</th>\n      <td>9780393930047</td>\n      <td>GBP</td>\n      <td>49.99</td>\n      <td>PHYSICS FOR ENGINEERS AND SCIENTISTS</td>\n      <td>HANS C. OHANIAN; JOHN T. MARKERT</td>\n      <td>NORTON</td>\n      <td>ABE</td>\n      <td>0.30</td>\n      <td>3.47</td>\n      <td>10000</td>\n      <td>0</td>\n      <td>EUROPE</td>\n      <td>ABE</td>\n      <td>9780393930047</td>\n      <td>0.25</td>\n    </tr>\n    <tr>\n      <th>451411</th>\n      <td>9780393925227</td>\n      <td>GBP</td>\n      <td>53.00</td>\n      <td>ECONOMICS OF THE PUBLIC SECTOR</td>\n      <td>JOSEPH E. STIGLITZ; JAY K. ROSENGARD</td>\n      <td>NORTON</td>\n      <td>ABE</td>\n      <td>0.30</td>\n      <td>3.47</td>\n      <td>10000</td>\n      <td>0</td>\n      <td>EUROPE</td>\n      <td>ABE</td>\n      <td>9780393925227</td>\n      <td>0.25</td>\n    </tr>\n    <tr>\n      <th>451435</th>\n      <td>9780393930405</td>\n      <td>GBP</td>\n      <td>25.00</td>\n      <td>END OF THE EUROPEAN ERA</td>\n      <td>FELIX GILBERT; DAVID CLAY LARGE</td>\n      <td>NORTON</td>\n      <td>ABE</td>\n      <td>0.30</td>\n      <td>3.47</td>\n      <td>10000</td>\n      <td>0</td>\n      <td>EUROPE</td>\n      <td>ABE</td>\n      <td>9780393930405</td>\n      <td>0.25</td>\n    </tr>\n  </tbody>\n</table>\n<p>949 rows × 15 columns</p>\n</div>"
     },
     "metadata": {},
     "execution_count": 38
    }
   ],
   "source": [
    "sup_list4[sup_list4['SUPPLIER']=='ABE']"
   ]
  },
  {
   "cell_type": "code",
   "execution_count": 39,
   "metadata": {},
   "outputs": [
    {
     "output_type": "execute_result",
     "data": {
      "text/plain": "Isbn                   0\nCurrency               0\nPrice                  0\nTitle                  0\nAuthor                 0\nPublisherShort         0\nSupplier               0\nDiscount               0\nShipping Cost          0\nmax quantity           0\nMin                    0\nRegion                 0\nSUPPLIER          462865\nISBN              462865\nDISCOUNT          462865\ndtype: int64"
     },
     "metadata": {},
     "execution_count": 39
    }
   ],
   "source": [
    "sup_list4.isna().sum()"
   ]
  },
  {
   "cell_type": "code",
   "execution_count": 40,
   "metadata": {},
   "outputs": [],
   "source": [
    "sup_list4['final_discount'] = np.where(sup_list4['DISCOUNT'].isna(), sup_list4['Discount'],sup_list4['DISCOUNT'])"
   ]
  },
  {
   "cell_type": "code",
   "execution_count": 41,
   "metadata": {},
   "outputs": [
    {
     "output_type": "execute_result",
     "data": {
      "text/plain": "            Isbn Currency   Price Title Author PublisherShort Supplier  \\\n0  9780060466381      GBP   10.99   N/A    N/A            T&F      ABE   \n1  9780060466398      GBP    9.99   N/A    N/A            T&F      ABE   \n2  9780003020656      GBP   53.99   N/A    N/A            T&F      ABE   \n3  9780013510758      GBP   90.00   N/A    N/A            T&F      ABE   \n4  9780041900071      GBP  100.00   N/A    N/A            T&F      ABE   \n\n   Discount  Shipping Cost  max quantity  Min  Region SUPPLIER ISBN  DISCOUNT  \\\n0      0.35           3.47         10000    0  EUROPE      NaN  NaN       NaN   \n1      0.35           3.47         10000    0  EUROPE      NaN  NaN       NaN   \n2      0.35           3.47         10000    0  EUROPE      NaN  NaN       NaN   \n3      0.35           3.47         10000    0  EUROPE      NaN  NaN       NaN   \n4      0.35           3.47         10000    0  EUROPE      NaN  NaN       NaN   \n\n   final_discount  \n0            0.35  \n1            0.35  \n2            0.35  \n3            0.35  \n4            0.35  ",
      "text/html": "<div>\n<style scoped>\n    .dataframe tbody tr th:only-of-type {\n        vertical-align: middle;\n    }\n\n    .dataframe tbody tr th {\n        vertical-align: top;\n    }\n\n    .dataframe thead th {\n        text-align: right;\n    }\n</style>\n<table border=\"1\" class=\"dataframe\">\n  <thead>\n    <tr style=\"text-align: right;\">\n      <th></th>\n      <th>Isbn</th>\n      <th>Currency</th>\n      <th>Price</th>\n      <th>Title</th>\n      <th>Author</th>\n      <th>PublisherShort</th>\n      <th>Supplier</th>\n      <th>Discount</th>\n      <th>Shipping Cost</th>\n      <th>max quantity</th>\n      <th>Min</th>\n      <th>Region</th>\n      <th>SUPPLIER</th>\n      <th>ISBN</th>\n      <th>DISCOUNT</th>\n      <th>final_discount</th>\n    </tr>\n  </thead>\n  <tbody>\n    <tr>\n      <th>0</th>\n      <td>9780060466381</td>\n      <td>GBP</td>\n      <td>10.99</td>\n      <td>N/A</td>\n      <td>N/A</td>\n      <td>T&amp;F</td>\n      <td>ABE</td>\n      <td>0.35</td>\n      <td>3.47</td>\n      <td>10000</td>\n      <td>0</td>\n      <td>EUROPE</td>\n      <td>NaN</td>\n      <td>NaN</td>\n      <td>NaN</td>\n      <td>0.35</td>\n    </tr>\n    <tr>\n      <th>1</th>\n      <td>9780060466398</td>\n      <td>GBP</td>\n      <td>9.99</td>\n      <td>N/A</td>\n      <td>N/A</td>\n      <td>T&amp;F</td>\n      <td>ABE</td>\n      <td>0.35</td>\n      <td>3.47</td>\n      <td>10000</td>\n      <td>0</td>\n      <td>EUROPE</td>\n      <td>NaN</td>\n      <td>NaN</td>\n      <td>NaN</td>\n      <td>0.35</td>\n    </tr>\n    <tr>\n      <th>2</th>\n      <td>9780003020656</td>\n      <td>GBP</td>\n      <td>53.99</td>\n      <td>N/A</td>\n      <td>N/A</td>\n      <td>T&amp;F</td>\n      <td>ABE</td>\n      <td>0.35</td>\n      <td>3.47</td>\n      <td>10000</td>\n      <td>0</td>\n      <td>EUROPE</td>\n      <td>NaN</td>\n      <td>NaN</td>\n      <td>NaN</td>\n      <td>0.35</td>\n    </tr>\n    <tr>\n      <th>3</th>\n      <td>9780013510758</td>\n      <td>GBP</td>\n      <td>90.00</td>\n      <td>N/A</td>\n      <td>N/A</td>\n      <td>T&amp;F</td>\n      <td>ABE</td>\n      <td>0.35</td>\n      <td>3.47</td>\n      <td>10000</td>\n      <td>0</td>\n      <td>EUROPE</td>\n      <td>NaN</td>\n      <td>NaN</td>\n      <td>NaN</td>\n      <td>0.35</td>\n    </tr>\n    <tr>\n      <th>4</th>\n      <td>9780041900071</td>\n      <td>GBP</td>\n      <td>100.00</td>\n      <td>N/A</td>\n      <td>N/A</td>\n      <td>T&amp;F</td>\n      <td>ABE</td>\n      <td>0.35</td>\n      <td>3.47</td>\n      <td>10000</td>\n      <td>0</td>\n      <td>EUROPE</td>\n      <td>NaN</td>\n      <td>NaN</td>\n      <td>NaN</td>\n      <td>0.35</td>\n    </tr>\n  </tbody>\n</table>\n</div>"
     },
     "metadata": {},
     "execution_count": 41
    }
   ],
   "source": [
    "sup_list4.head()"
   ]
  },
  {
   "cell_type": "code",
   "execution_count": 42,
   "metadata": {},
   "outputs": [
    {
     "output_type": "execute_result",
     "data": {
      "text/plain": "                 Isbn Currency  Price Title Author PublisherShort Supplier  \\\n300934  9780781762021      GBP   57.0   N/A    N/A            LWW      ABE   \n\n        Discount  Shipping Cost  max quantity  Min  Region SUPPLIER  \\\n300934      0.55           3.47         10000    0  EUROPE      ABE   \n\n                 ISBN  DISCOUNT  final_discount  \n300934  9780781762021      0.35            0.35  ",
      "text/html": "<div>\n<style scoped>\n    .dataframe tbody tr th:only-of-type {\n        vertical-align: middle;\n    }\n\n    .dataframe tbody tr th {\n        vertical-align: top;\n    }\n\n    .dataframe thead th {\n        text-align: right;\n    }\n</style>\n<table border=\"1\" class=\"dataframe\">\n  <thead>\n    <tr style=\"text-align: right;\">\n      <th></th>\n      <th>Isbn</th>\n      <th>Currency</th>\n      <th>Price</th>\n      <th>Title</th>\n      <th>Author</th>\n      <th>PublisherShort</th>\n      <th>Supplier</th>\n      <th>Discount</th>\n      <th>Shipping Cost</th>\n      <th>max quantity</th>\n      <th>Min</th>\n      <th>Region</th>\n      <th>SUPPLIER</th>\n      <th>ISBN</th>\n      <th>DISCOUNT</th>\n      <th>final_discount</th>\n    </tr>\n  </thead>\n  <tbody>\n    <tr>\n      <th>300934</th>\n      <td>9780781762021</td>\n      <td>GBP</td>\n      <td>57.0</td>\n      <td>N/A</td>\n      <td>N/A</td>\n      <td>LWW</td>\n      <td>ABE</td>\n      <td>0.55</td>\n      <td>3.47</td>\n      <td>10000</td>\n      <td>0</td>\n      <td>EUROPE</td>\n      <td>ABE</td>\n      <td>9780781762021</td>\n      <td>0.35</td>\n      <td>0.35</td>\n    </tr>\n  </tbody>\n</table>\n</div>"
     },
     "metadata": {},
     "execution_count": 42
    }
   ],
   "source": [
    "sup_list4[sup_list4['Isbn'] == '9780781762021']"
   ]
  },
  {
   "cell_type": "code",
   "execution_count": 43,
   "metadata": {},
   "outputs": [],
   "source": [
    "sup_list4 = sup_list4[['Isbn','Title', 'Author', 'PublisherShort', 'Supplier','Currency', 'Price', 'final_discount' ,'Shipping Cost', 'max quantity', 'Min', 'Region']]"
   ]
  },
  {
   "cell_type": "code",
   "execution_count": 44,
   "metadata": {},
   "outputs": [
    {
     "output_type": "execute_result",
     "data": {
      "text/plain": "            Isbn Title Author PublisherShort Supplier Currency   Price  \\\n0  9780060466381   N/A    N/A            T&F      ABE      GBP   10.99   \n1  9780060466398   N/A    N/A            T&F      ABE      GBP    9.99   \n2  9780003020656   N/A    N/A            T&F      ABE      GBP   53.99   \n3  9780013510758   N/A    N/A            T&F      ABE      GBP   90.00   \n4  9780041900071   N/A    N/A            T&F      ABE      GBP  100.00   \n\n   final_discount  Shipping Cost  max quantity  Min  Region  \n0            0.35           3.47         10000    0  EUROPE  \n1            0.35           3.47         10000    0  EUROPE  \n2            0.35           3.47         10000    0  EUROPE  \n3            0.35           3.47         10000    0  EUROPE  \n4            0.35           3.47         10000    0  EUROPE  ",
      "text/html": "<div>\n<style scoped>\n    .dataframe tbody tr th:only-of-type {\n        vertical-align: middle;\n    }\n\n    .dataframe tbody tr th {\n        vertical-align: top;\n    }\n\n    .dataframe thead th {\n        text-align: right;\n    }\n</style>\n<table border=\"1\" class=\"dataframe\">\n  <thead>\n    <tr style=\"text-align: right;\">\n      <th></th>\n      <th>Isbn</th>\n      <th>Title</th>\n      <th>Author</th>\n      <th>PublisherShort</th>\n      <th>Supplier</th>\n      <th>Currency</th>\n      <th>Price</th>\n      <th>final_discount</th>\n      <th>Shipping Cost</th>\n      <th>max quantity</th>\n      <th>Min</th>\n      <th>Region</th>\n    </tr>\n  </thead>\n  <tbody>\n    <tr>\n      <th>0</th>\n      <td>9780060466381</td>\n      <td>N/A</td>\n      <td>N/A</td>\n      <td>T&amp;F</td>\n      <td>ABE</td>\n      <td>GBP</td>\n      <td>10.99</td>\n      <td>0.35</td>\n      <td>3.47</td>\n      <td>10000</td>\n      <td>0</td>\n      <td>EUROPE</td>\n    </tr>\n    <tr>\n      <th>1</th>\n      <td>9780060466398</td>\n      <td>N/A</td>\n      <td>N/A</td>\n      <td>T&amp;F</td>\n      <td>ABE</td>\n      <td>GBP</td>\n      <td>9.99</td>\n      <td>0.35</td>\n      <td>3.47</td>\n      <td>10000</td>\n      <td>0</td>\n      <td>EUROPE</td>\n    </tr>\n    <tr>\n      <th>2</th>\n      <td>9780003020656</td>\n      <td>N/A</td>\n      <td>N/A</td>\n      <td>T&amp;F</td>\n      <td>ABE</td>\n      <td>GBP</td>\n      <td>53.99</td>\n      <td>0.35</td>\n      <td>3.47</td>\n      <td>10000</td>\n      <td>0</td>\n      <td>EUROPE</td>\n    </tr>\n    <tr>\n      <th>3</th>\n      <td>9780013510758</td>\n      <td>N/A</td>\n      <td>N/A</td>\n      <td>T&amp;F</td>\n      <td>ABE</td>\n      <td>GBP</td>\n      <td>90.00</td>\n      <td>0.35</td>\n      <td>3.47</td>\n      <td>10000</td>\n      <td>0</td>\n      <td>EUROPE</td>\n    </tr>\n    <tr>\n      <th>4</th>\n      <td>9780041900071</td>\n      <td>N/A</td>\n      <td>N/A</td>\n      <td>T&amp;F</td>\n      <td>ABE</td>\n      <td>GBP</td>\n      <td>100.00</td>\n      <td>0.35</td>\n      <td>3.47</td>\n      <td>10000</td>\n      <td>0</td>\n      <td>EUROPE</td>\n    </tr>\n  </tbody>\n</table>\n</div>"
     },
     "metadata": {},
     "execution_count": 44
    }
   ],
   "source": [
    "sup_list4.head()"
   ]
  },
  {
   "cell_type": "code",
   "execution_count": 45,
   "metadata": {},
   "outputs": [],
   "source": [
    "sup_list4.columns = map(str.lower, sup_list4.columns)"
   ]
  },
  {
   "cell_type": "code",
   "execution_count": 46,
   "metadata": {},
   "outputs": [
    {
     "output_type": "execute_result",
     "data": {
      "text/plain": "            isbn title author publishershort supplier currency   price  \\\n0  9780060466381   N/A    N/A            T&F      ABE      GBP   10.99   \n1  9780060466398   N/A    N/A            T&F      ABE      GBP    9.99   \n2  9780003020656   N/A    N/A            T&F      ABE      GBP   53.99   \n3  9780013510758   N/A    N/A            T&F      ABE      GBP   90.00   \n4  9780041900071   N/A    N/A            T&F      ABE      GBP  100.00   \n\n   final_discount  shipping cost  max quantity  min  region  \n0            0.35           3.47         10000    0  EUROPE  \n1            0.35           3.47         10000    0  EUROPE  \n2            0.35           3.47         10000    0  EUROPE  \n3            0.35           3.47         10000    0  EUROPE  \n4            0.35           3.47         10000    0  EUROPE  ",
      "text/html": "<div>\n<style scoped>\n    .dataframe tbody tr th:only-of-type {\n        vertical-align: middle;\n    }\n\n    .dataframe tbody tr th {\n        vertical-align: top;\n    }\n\n    .dataframe thead th {\n        text-align: right;\n    }\n</style>\n<table border=\"1\" class=\"dataframe\">\n  <thead>\n    <tr style=\"text-align: right;\">\n      <th></th>\n      <th>isbn</th>\n      <th>title</th>\n      <th>author</th>\n      <th>publishershort</th>\n      <th>supplier</th>\n      <th>currency</th>\n      <th>price</th>\n      <th>final_discount</th>\n      <th>shipping cost</th>\n      <th>max quantity</th>\n      <th>min</th>\n      <th>region</th>\n    </tr>\n  </thead>\n  <tbody>\n    <tr>\n      <th>0</th>\n      <td>9780060466381</td>\n      <td>N/A</td>\n      <td>N/A</td>\n      <td>T&amp;F</td>\n      <td>ABE</td>\n      <td>GBP</td>\n      <td>10.99</td>\n      <td>0.35</td>\n      <td>3.47</td>\n      <td>10000</td>\n      <td>0</td>\n      <td>EUROPE</td>\n    </tr>\n    <tr>\n      <th>1</th>\n      <td>9780060466398</td>\n      <td>N/A</td>\n      <td>N/A</td>\n      <td>T&amp;F</td>\n      <td>ABE</td>\n      <td>GBP</td>\n      <td>9.99</td>\n      <td>0.35</td>\n      <td>3.47</td>\n      <td>10000</td>\n      <td>0</td>\n      <td>EUROPE</td>\n    </tr>\n    <tr>\n      <th>2</th>\n      <td>9780003020656</td>\n      <td>N/A</td>\n      <td>N/A</td>\n      <td>T&amp;F</td>\n      <td>ABE</td>\n      <td>GBP</td>\n      <td>53.99</td>\n      <td>0.35</td>\n      <td>3.47</td>\n      <td>10000</td>\n      <td>0</td>\n      <td>EUROPE</td>\n    </tr>\n    <tr>\n      <th>3</th>\n      <td>9780013510758</td>\n      <td>N/A</td>\n      <td>N/A</td>\n      <td>T&amp;F</td>\n      <td>ABE</td>\n      <td>GBP</td>\n      <td>90.00</td>\n      <td>0.35</td>\n      <td>3.47</td>\n      <td>10000</td>\n      <td>0</td>\n      <td>EUROPE</td>\n    </tr>\n    <tr>\n      <th>4</th>\n      <td>9780041900071</td>\n      <td>N/A</td>\n      <td>N/A</td>\n      <td>T&amp;F</td>\n      <td>ABE</td>\n      <td>GBP</td>\n      <td>100.00</td>\n      <td>0.35</td>\n      <td>3.47</td>\n      <td>10000</td>\n      <td>0</td>\n      <td>EUROPE</td>\n    </tr>\n  </tbody>\n</table>\n</div>"
     },
     "metadata": {},
     "execution_count": 46
    }
   ],
   "source": [
    "sup_list4.head()"
   ]
  },
  {
   "cell_type": "code",
   "execution_count": 47,
   "metadata": {},
   "outputs": [
    {
     "output_type": "execute_result",
     "data": {
      "text/plain": "             isbn currency  price  \\\n1   9780008135904      CND   9.99   \n5   9780008135935      CND   7.99   \n13  9780008136628      CND  28.99   \n27  9780008141790      CND  17.99   \n34  9780008141806      CND  17.99   \n\n                                                title       publisher author  \\\n1   COLLINS MANDARIN CHINESE PHRASEBOOK AND DICTIO...             N/A    N/A   \n5   COLLINS PORTUGUESE PHRASEBOOK AND DICTIONARY G...             N/A    N/A   \n13           COLLINS WORLD ATLAS: ILLUSTRATED EDITION             N/A    N/A   \n27    COLLINS ENGLISH POCKET DICTIONARY AND THESAURUS  HARPER COLLINS    N/A   \n34                  COLLINS ENGLISH POCKET DICTIONARY             N/A    N/A   \n\n     publisherlong  publishershort supplier  final_discount  max quantity  \\\n1              N/A             N/A       WC             0.1         10000   \n5              N/A             N/A       WC             0.1         10000   \n13             N/A             N/A       WC             0.1         10000   \n27  HARPER COLLINS  HARPER COLLINS       WC             0.1         10000   \n34             N/A             N/A       WC             0.1         10000   \n\n           region  shipping cost  min  \n1   NORTH AMERICA              2    0  \n5   NORTH AMERICA              2    0  \n13  NORTH AMERICA              2    0  \n27  NORTH AMERICA              2    0  \n34  NORTH AMERICA              2    0  ",
      "text/html": "<div>\n<style scoped>\n    .dataframe tbody tr th:only-of-type {\n        vertical-align: middle;\n    }\n\n    .dataframe tbody tr th {\n        vertical-align: top;\n    }\n\n    .dataframe thead th {\n        text-align: right;\n    }\n</style>\n<table border=\"1\" class=\"dataframe\">\n  <thead>\n    <tr style=\"text-align: right;\">\n      <th></th>\n      <th>isbn</th>\n      <th>currency</th>\n      <th>price</th>\n      <th>title</th>\n      <th>publisher</th>\n      <th>author</th>\n      <th>publisherlong</th>\n      <th>publishershort</th>\n      <th>supplier</th>\n      <th>final_discount</th>\n      <th>max quantity</th>\n      <th>region</th>\n      <th>shipping cost</th>\n      <th>min</th>\n    </tr>\n  </thead>\n  <tbody>\n    <tr>\n      <th>1</th>\n      <td>9780008135904</td>\n      <td>CND</td>\n      <td>9.99</td>\n      <td>COLLINS MANDARIN CHINESE PHRASEBOOK AND DICTIO...</td>\n      <td>N/A</td>\n      <td>N/A</td>\n      <td>N/A</td>\n      <td>N/A</td>\n      <td>WC</td>\n      <td>0.1</td>\n      <td>10000</td>\n      <td>NORTH AMERICA</td>\n      <td>2</td>\n      <td>0</td>\n    </tr>\n    <tr>\n      <th>5</th>\n      <td>9780008135935</td>\n      <td>CND</td>\n      <td>7.99</td>\n      <td>COLLINS PORTUGUESE PHRASEBOOK AND DICTIONARY G...</td>\n      <td>N/A</td>\n      <td>N/A</td>\n      <td>N/A</td>\n      <td>N/A</td>\n      <td>WC</td>\n      <td>0.1</td>\n      <td>10000</td>\n      <td>NORTH AMERICA</td>\n      <td>2</td>\n      <td>0</td>\n    </tr>\n    <tr>\n      <th>13</th>\n      <td>9780008136628</td>\n      <td>CND</td>\n      <td>28.99</td>\n      <td>COLLINS WORLD ATLAS: ILLUSTRATED EDITION</td>\n      <td>N/A</td>\n      <td>N/A</td>\n      <td>N/A</td>\n      <td>N/A</td>\n      <td>WC</td>\n      <td>0.1</td>\n      <td>10000</td>\n      <td>NORTH AMERICA</td>\n      <td>2</td>\n      <td>0</td>\n    </tr>\n    <tr>\n      <th>27</th>\n      <td>9780008141790</td>\n      <td>CND</td>\n      <td>17.99</td>\n      <td>COLLINS ENGLISH POCKET DICTIONARY AND THESAURUS</td>\n      <td>HARPER COLLINS</td>\n      <td>N/A</td>\n      <td>HARPER COLLINS</td>\n      <td>HARPER COLLINS</td>\n      <td>WC</td>\n      <td>0.1</td>\n      <td>10000</td>\n      <td>NORTH AMERICA</td>\n      <td>2</td>\n      <td>0</td>\n    </tr>\n    <tr>\n      <th>34</th>\n      <td>9780008141806</td>\n      <td>CND</td>\n      <td>17.99</td>\n      <td>COLLINS ENGLISH POCKET DICTIONARY</td>\n      <td>N/A</td>\n      <td>N/A</td>\n      <td>N/A</td>\n      <td>N/A</td>\n      <td>WC</td>\n      <td>0.1</td>\n      <td>10000</td>\n      <td>NORTH AMERICA</td>\n      <td>2</td>\n      <td>0</td>\n    </tr>\n  </tbody>\n</table>\n</div>"
     },
     "metadata": {},
     "execution_count": 47
    }
   ],
   "source": [
    "# Add western campus\n",
    "# Shipping Cost = 2\n",
    "# 0-150CAD 10% off\n",
    "# 150-200CAD 12% off\n",
    "# > 200CAD 14%\n",
    "\n",
    "can_sup = sup_list2[sup_list2['Currency'] == 'CND']\n",
    "can_sup.columns = map(str.lower, can_sup.columns)\n",
    "can_sup['supplier'] = 'WC'\n",
    "can_sup['final_discount'] = np.where(can_sup['price']<150, 0.1, np.where((can_sup['price'] >=150) & (can_sup['price']<200),0.12,0.14))\n",
    "can_sup['max quantity'] = 10000\n",
    "can_sup['region'] = 'NORTH AMERICA'\n",
    "can_sup['shipping cost'] = 2\n",
    "can_sup['min'] = 0\n",
    "can_sup.head()"
   ]
  },
  {
   "cell_type": "code",
   "execution_count": 48,
   "metadata": {},
   "outputs": [],
   "source": [
    "can_sup = can_sup[['isbn', 'title', 'author', 'publishershort', 'supplier','currency','price','final_discount', 'shipping cost', 'max quantity', 'min', 'region']]\n",
    "can_sup['currency'] = np.where(can_sup['currency'] == 'CND', 'CAD',0)"
   ]
  },
  {
   "cell_type": "code",
   "execution_count": 49,
   "metadata": {},
   "outputs": [
    {
     "output_type": "execute_result",
     "data": {
      "text/plain": "             isbn                                              title author  \\\n1   9780008135904  COLLINS MANDARIN CHINESE PHRASEBOOK AND DICTIO...    N/A   \n5   9780008135935  COLLINS PORTUGUESE PHRASEBOOK AND DICTIONARY G...    N/A   \n13  9780008136628           COLLINS WORLD ATLAS: ILLUSTRATED EDITION    N/A   \n27  9780008141790    COLLINS ENGLISH POCKET DICTIONARY AND THESAURUS    N/A   \n34  9780008141806                  COLLINS ENGLISH POCKET DICTIONARY    N/A   \n\n    publishershort supplier currency  price  final_discount  shipping cost  \\\n1              N/A       WC      CAD   9.99             0.1              2   \n5              N/A       WC      CAD   7.99             0.1              2   \n13             N/A       WC      CAD  28.99             0.1              2   \n27  HARPER COLLINS       WC      CAD  17.99             0.1              2   \n34             N/A       WC      CAD  17.99             0.1              2   \n\n    max quantity  min         region  \n1          10000    0  NORTH AMERICA  \n5          10000    0  NORTH AMERICA  \n13         10000    0  NORTH AMERICA  \n27         10000    0  NORTH AMERICA  \n34         10000    0  NORTH AMERICA  ",
      "text/html": "<div>\n<style scoped>\n    .dataframe tbody tr th:only-of-type {\n        vertical-align: middle;\n    }\n\n    .dataframe tbody tr th {\n        vertical-align: top;\n    }\n\n    .dataframe thead th {\n        text-align: right;\n    }\n</style>\n<table border=\"1\" class=\"dataframe\">\n  <thead>\n    <tr style=\"text-align: right;\">\n      <th></th>\n      <th>isbn</th>\n      <th>title</th>\n      <th>author</th>\n      <th>publishershort</th>\n      <th>supplier</th>\n      <th>currency</th>\n      <th>price</th>\n      <th>final_discount</th>\n      <th>shipping cost</th>\n      <th>max quantity</th>\n      <th>min</th>\n      <th>region</th>\n    </tr>\n  </thead>\n  <tbody>\n    <tr>\n      <th>1</th>\n      <td>9780008135904</td>\n      <td>COLLINS MANDARIN CHINESE PHRASEBOOK AND DICTIO...</td>\n      <td>N/A</td>\n      <td>N/A</td>\n      <td>WC</td>\n      <td>CAD</td>\n      <td>9.99</td>\n      <td>0.1</td>\n      <td>2</td>\n      <td>10000</td>\n      <td>0</td>\n      <td>NORTH AMERICA</td>\n    </tr>\n    <tr>\n      <th>5</th>\n      <td>9780008135935</td>\n      <td>COLLINS PORTUGUESE PHRASEBOOK AND DICTIONARY G...</td>\n      <td>N/A</td>\n      <td>N/A</td>\n      <td>WC</td>\n      <td>CAD</td>\n      <td>7.99</td>\n      <td>0.1</td>\n      <td>2</td>\n      <td>10000</td>\n      <td>0</td>\n      <td>NORTH AMERICA</td>\n    </tr>\n    <tr>\n      <th>13</th>\n      <td>9780008136628</td>\n      <td>COLLINS WORLD ATLAS: ILLUSTRATED EDITION</td>\n      <td>N/A</td>\n      <td>N/A</td>\n      <td>WC</td>\n      <td>CAD</td>\n      <td>28.99</td>\n      <td>0.1</td>\n      <td>2</td>\n      <td>10000</td>\n      <td>0</td>\n      <td>NORTH AMERICA</td>\n    </tr>\n    <tr>\n      <th>27</th>\n      <td>9780008141790</td>\n      <td>COLLINS ENGLISH POCKET DICTIONARY AND THESAURUS</td>\n      <td>N/A</td>\n      <td>HARPER COLLINS</td>\n      <td>WC</td>\n      <td>CAD</td>\n      <td>17.99</td>\n      <td>0.1</td>\n      <td>2</td>\n      <td>10000</td>\n      <td>0</td>\n      <td>NORTH AMERICA</td>\n    </tr>\n    <tr>\n      <th>34</th>\n      <td>9780008141806</td>\n      <td>COLLINS ENGLISH POCKET DICTIONARY</td>\n      <td>N/A</td>\n      <td>N/A</td>\n      <td>WC</td>\n      <td>CAD</td>\n      <td>17.99</td>\n      <td>0.1</td>\n      <td>2</td>\n      <td>10000</td>\n      <td>0</td>\n      <td>NORTH AMERICA</td>\n    </tr>\n  </tbody>\n</table>\n</div>"
     },
     "metadata": {},
     "execution_count": 49
    }
   ],
   "source": [
    "can_sup.head()"
   ]
  },
  {
   "cell_type": "code",
   "execution_count": 50,
   "metadata": {},
   "outputs": [
    {
     "output_type": "execute_result",
     "data": {
      "text/plain": "            isbn title author publishershort supplier currency   price  \\\n0  9780060466381   N/A    N/A            T&F      ABE      GBP   10.99   \n1  9780060466398   N/A    N/A            T&F      ABE      GBP    9.99   \n2  9780003020656   N/A    N/A            T&F      ABE      GBP   53.99   \n3  9780013510758   N/A    N/A            T&F      ABE      GBP   90.00   \n4  9780041900071   N/A    N/A            T&F      ABE      GBP  100.00   \n\n   final_discount  shipping cost  max quantity  min  region  \n0            0.35           3.47         10000    0  EUROPE  \n1            0.35           3.47         10000    0  EUROPE  \n2            0.35           3.47         10000    0  EUROPE  \n3            0.35           3.47         10000    0  EUROPE  \n4            0.35           3.47         10000    0  EUROPE  ",
      "text/html": "<div>\n<style scoped>\n    .dataframe tbody tr th:only-of-type {\n        vertical-align: middle;\n    }\n\n    .dataframe tbody tr th {\n        vertical-align: top;\n    }\n\n    .dataframe thead th {\n        text-align: right;\n    }\n</style>\n<table border=\"1\" class=\"dataframe\">\n  <thead>\n    <tr style=\"text-align: right;\">\n      <th></th>\n      <th>isbn</th>\n      <th>title</th>\n      <th>author</th>\n      <th>publishershort</th>\n      <th>supplier</th>\n      <th>currency</th>\n      <th>price</th>\n      <th>final_discount</th>\n      <th>shipping cost</th>\n      <th>max quantity</th>\n      <th>min</th>\n      <th>region</th>\n    </tr>\n  </thead>\n  <tbody>\n    <tr>\n      <th>0</th>\n      <td>9780060466381</td>\n      <td>N/A</td>\n      <td>N/A</td>\n      <td>T&amp;F</td>\n      <td>ABE</td>\n      <td>GBP</td>\n      <td>10.99</td>\n      <td>0.35</td>\n      <td>3.47</td>\n      <td>10000</td>\n      <td>0</td>\n      <td>EUROPE</td>\n    </tr>\n    <tr>\n      <th>1</th>\n      <td>9780060466398</td>\n      <td>N/A</td>\n      <td>N/A</td>\n      <td>T&amp;F</td>\n      <td>ABE</td>\n      <td>GBP</td>\n      <td>9.99</td>\n      <td>0.35</td>\n      <td>3.47</td>\n      <td>10000</td>\n      <td>0</td>\n      <td>EUROPE</td>\n    </tr>\n    <tr>\n      <th>2</th>\n      <td>9780003020656</td>\n      <td>N/A</td>\n      <td>N/A</td>\n      <td>T&amp;F</td>\n      <td>ABE</td>\n      <td>GBP</td>\n      <td>53.99</td>\n      <td>0.35</td>\n      <td>3.47</td>\n      <td>10000</td>\n      <td>0</td>\n      <td>EUROPE</td>\n    </tr>\n    <tr>\n      <th>3</th>\n      <td>9780013510758</td>\n      <td>N/A</td>\n      <td>N/A</td>\n      <td>T&amp;F</td>\n      <td>ABE</td>\n      <td>GBP</td>\n      <td>90.00</td>\n      <td>0.35</td>\n      <td>3.47</td>\n      <td>10000</td>\n      <td>0</td>\n      <td>EUROPE</td>\n    </tr>\n    <tr>\n      <th>4</th>\n      <td>9780041900071</td>\n      <td>N/A</td>\n      <td>N/A</td>\n      <td>T&amp;F</td>\n      <td>ABE</td>\n      <td>GBP</td>\n      <td>100.00</td>\n      <td>0.35</td>\n      <td>3.47</td>\n      <td>10000</td>\n      <td>0</td>\n      <td>EUROPE</td>\n    </tr>\n  </tbody>\n</table>\n</div>"
     },
     "metadata": {},
     "execution_count": 50
    }
   ],
   "source": [
    "sup_list5 = sup_list4.append(can_sup, ignore_index= True)\n",
    "sup_list5.head()"
   ]
  },
  {
   "cell_type": "code",
   "execution_count": 51,
   "metadata": {},
   "outputs": [
    {
     "output_type": "execute_result",
     "data": {
      "text/plain": "array(['GBP', 'AUD', 'USD', 'CAD'], dtype=object)"
     },
     "metadata": {},
     "execution_count": 51
    }
   ],
   "source": [
    "sup_list5['currency'].unique()"
   ]
  },
  {
   "cell_type": "code",
   "execution_count": 52,
   "metadata": {},
   "outputs": [],
   "source": [
    "# Exchange Rate\n",
    "#We add the Exchange rate column\n",
    "exchange_rate = \"\"\"\n",
    "SELECT *\n",
    "FROM dbo.XChange\n",
    "\"\"\"\n",
    "exch_df = pd.read_sql(exchange_rate,prouc_db)\n",
    ""
   ]
  },
  {
   "cell_type": "code",
   "execution_count": 53,
   "metadata": {},
   "outputs": [
    {
     "output_type": "execute_result",
     "data": {
      "text/plain": "    id name      rate               updatedon\n0    2  AUD  0.606715 2020-04-06 08:00:00.660\n1    3  NZD  0.593201 2020-04-06 08:00:00.660\n2    4  GBP  1.230762 2020-04-06 08:00:00.660\n3    5  CAD  0.708642 2020-04-06 08:00:00.660\n4    6  EUR  1.080013 2020-04-06 08:00:00.660\n5    8  SGD  0.697284 2020-04-06 08:00:00.660\n6    9  HKD  0.128982 2020-04-06 08:00:00.660\n7    1  USD  1.000000 2020-04-06 08:00:00.660\n8   10  TWD  0.033135 2020-04-06 08:00:00.660\n9   11  CHF  1.022320 2020-04-06 08:00:00.660\n10  12  CNY  0.143433 2020-04-06 08:00:00.660\n11  13  PLN  0.255751 2020-04-06 08:00:00.660",
      "text/html": "<div>\n<style scoped>\n    .dataframe tbody tr th:only-of-type {\n        vertical-align: middle;\n    }\n\n    .dataframe tbody tr th {\n        vertical-align: top;\n    }\n\n    .dataframe thead th {\n        text-align: right;\n    }\n</style>\n<table border=\"1\" class=\"dataframe\">\n  <thead>\n    <tr style=\"text-align: right;\">\n      <th></th>\n      <th>id</th>\n      <th>name</th>\n      <th>rate</th>\n      <th>updatedon</th>\n    </tr>\n  </thead>\n  <tbody>\n    <tr>\n      <th>0</th>\n      <td>2</td>\n      <td>AUD</td>\n      <td>0.606715</td>\n      <td>2020-04-06 08:00:00.660</td>\n    </tr>\n    <tr>\n      <th>1</th>\n      <td>3</td>\n      <td>NZD</td>\n      <td>0.593201</td>\n      <td>2020-04-06 08:00:00.660</td>\n    </tr>\n    <tr>\n      <th>2</th>\n      <td>4</td>\n      <td>GBP</td>\n      <td>1.230762</td>\n      <td>2020-04-06 08:00:00.660</td>\n    </tr>\n    <tr>\n      <th>3</th>\n      <td>5</td>\n      <td>CAD</td>\n      <td>0.708642</td>\n      <td>2020-04-06 08:00:00.660</td>\n    </tr>\n    <tr>\n      <th>4</th>\n      <td>6</td>\n      <td>EUR</td>\n      <td>1.080013</td>\n      <td>2020-04-06 08:00:00.660</td>\n    </tr>\n    <tr>\n      <th>5</th>\n      <td>8</td>\n      <td>SGD</td>\n      <td>0.697284</td>\n      <td>2020-04-06 08:00:00.660</td>\n    </tr>\n    <tr>\n      <th>6</th>\n      <td>9</td>\n      <td>HKD</td>\n      <td>0.128982</td>\n      <td>2020-04-06 08:00:00.660</td>\n    </tr>\n    <tr>\n      <th>7</th>\n      <td>1</td>\n      <td>USD</td>\n      <td>1.000000</td>\n      <td>2020-04-06 08:00:00.660</td>\n    </tr>\n    <tr>\n      <th>8</th>\n      <td>10</td>\n      <td>TWD</td>\n      <td>0.033135</td>\n      <td>2020-04-06 08:00:00.660</td>\n    </tr>\n    <tr>\n      <th>9</th>\n      <td>11</td>\n      <td>CHF</td>\n      <td>1.022320</td>\n      <td>2020-04-06 08:00:00.660</td>\n    </tr>\n    <tr>\n      <th>10</th>\n      <td>12</td>\n      <td>CNY</td>\n      <td>0.143433</td>\n      <td>2020-04-06 08:00:00.660</td>\n    </tr>\n    <tr>\n      <th>11</th>\n      <td>13</td>\n      <td>PLN</td>\n      <td>0.255751</td>\n      <td>2020-04-06 08:00:00.660</td>\n    </tr>\n  </tbody>\n</table>\n</div>"
     },
     "metadata": {},
     "execution_count": 53
    }
   ],
   "source": [
    "exch_df"
   ]
  },
  {
   "cell_type": "code",
   "execution_count": 54,
   "metadata": {},
   "outputs": [],
   "source": [
    "sup_list6 = pd.merge(sup_list5, exch_df, how='left', left_on = 'currency', right_on = 'name' )\n",
    "sup_list6['invoice_fee'] = np.where(sup_list6['supplier'] == 'COINFO', -1*sup_list6['price']*(1-sup_list6['disount'])  , 0)\n",
    "sup_list6['lp_fee'] = 0\n",
    "sup_list6.rename(columns={'publishershort': 'pub', 'final_discount': 'discount'}, inplace = True)\n"
   ]
  },
  {
   "cell_type": "code",
   "execution_count": 55,
   "metadata": {},
   "outputs": [
    {
     "output_type": "execute_result",
     "data": {
      "text/plain": "            isbn title author  pub supplier currency      rate   price  \\\n0  9780060466381   N/A    N/A  T&F      ABE      GBP  1.230762   10.99   \n1  9780060466398   N/A    N/A  T&F      ABE      GBP  1.230762    9.99   \n2  9780003020656   N/A    N/A  T&F      ABE      GBP  1.230762   53.99   \n3  9780013510758   N/A    N/A  T&F      ABE      GBP  1.230762   90.00   \n4  9780041900071   N/A    N/A  T&F      ABE      GBP  1.230762  100.00   \n\n   discount  invoice_fee  lp_fee  shipping cost  max quantity  min  region  \n0      0.35            0       0           3.47         10000    0  EUROPE  \n1      0.35            0       0           3.47         10000    0  EUROPE  \n2      0.35            0       0           3.47         10000    0  EUROPE  \n3      0.35            0       0           3.47         10000    0  EUROPE  \n4      0.35            0       0           3.47         10000    0  EUROPE  ",
      "text/html": "<div>\n<style scoped>\n    .dataframe tbody tr th:only-of-type {\n        vertical-align: middle;\n    }\n\n    .dataframe tbody tr th {\n        vertical-align: top;\n    }\n\n    .dataframe thead th {\n        text-align: right;\n    }\n</style>\n<table border=\"1\" class=\"dataframe\">\n  <thead>\n    <tr style=\"text-align: right;\">\n      <th></th>\n      <th>isbn</th>\n      <th>title</th>\n      <th>author</th>\n      <th>pub</th>\n      <th>supplier</th>\n      <th>currency</th>\n      <th>rate</th>\n      <th>price</th>\n      <th>discount</th>\n      <th>invoice_fee</th>\n      <th>lp_fee</th>\n      <th>shipping cost</th>\n      <th>max quantity</th>\n      <th>min</th>\n      <th>region</th>\n    </tr>\n  </thead>\n  <tbody>\n    <tr>\n      <th>0</th>\n      <td>9780060466381</td>\n      <td>N/A</td>\n      <td>N/A</td>\n      <td>T&amp;F</td>\n      <td>ABE</td>\n      <td>GBP</td>\n      <td>1.230762</td>\n      <td>10.99</td>\n      <td>0.35</td>\n      <td>0</td>\n      <td>0</td>\n      <td>3.47</td>\n      <td>10000</td>\n      <td>0</td>\n      <td>EUROPE</td>\n    </tr>\n    <tr>\n      <th>1</th>\n      <td>9780060466398</td>\n      <td>N/A</td>\n      <td>N/A</td>\n      <td>T&amp;F</td>\n      <td>ABE</td>\n      <td>GBP</td>\n      <td>1.230762</td>\n      <td>9.99</td>\n      <td>0.35</td>\n      <td>0</td>\n      <td>0</td>\n      <td>3.47</td>\n      <td>10000</td>\n      <td>0</td>\n      <td>EUROPE</td>\n    </tr>\n    <tr>\n      <th>2</th>\n      <td>9780003020656</td>\n      <td>N/A</td>\n      <td>N/A</td>\n      <td>T&amp;F</td>\n      <td>ABE</td>\n      <td>GBP</td>\n      <td>1.230762</td>\n      <td>53.99</td>\n      <td>0.35</td>\n      <td>0</td>\n      <td>0</td>\n      <td>3.47</td>\n      <td>10000</td>\n      <td>0</td>\n      <td>EUROPE</td>\n    </tr>\n    <tr>\n      <th>3</th>\n      <td>9780013510758</td>\n      <td>N/A</td>\n      <td>N/A</td>\n      <td>T&amp;F</td>\n      <td>ABE</td>\n      <td>GBP</td>\n      <td>1.230762</td>\n      <td>90.00</td>\n      <td>0.35</td>\n      <td>0</td>\n      <td>0</td>\n      <td>3.47</td>\n      <td>10000</td>\n      <td>0</td>\n      <td>EUROPE</td>\n    </tr>\n    <tr>\n      <th>4</th>\n      <td>9780041900071</td>\n      <td>N/A</td>\n      <td>N/A</td>\n      <td>T&amp;F</td>\n      <td>ABE</td>\n      <td>GBP</td>\n      <td>1.230762</td>\n      <td>100.00</td>\n      <td>0.35</td>\n      <td>0</td>\n      <td>0</td>\n      <td>3.47</td>\n      <td>10000</td>\n      <td>0</td>\n      <td>EUROPE</td>\n    </tr>\n  </tbody>\n</table>\n</div>"
     },
     "metadata": {},
     "execution_count": 55
    }
   ],
   "source": [
    "sup_list6 = sup_list6[['isbn', 'title', 'author', 'pub', 'supplier','currency','rate','price','discount','invoice_fee','lp_fee','shipping cost', 'max quantity', 'min', 'region']]\n",
    "sup_list6.head()"
   ]
  },
  {
   "cell_type": "code",
   "execution_count": 56,
   "metadata": {},
   "outputs": [],
   "source": [
    "sup_list6.to_csv('suppliers_excel.csv', index= False)"
   ]
  },
  {
   "cell_type": "code",
   "execution_count": null,
   "metadata": {},
   "outputs": [],
   "source": []
  }
 ],
 "metadata": {
  "kernelspec": {
   "display_name": "Python 3",
   "language": "python",
   "name": "python3"
  },
  "language_info": {
   "codemirror_mode": {
    "name": "ipython",
    "version": 3
   },
   "file_extension": ".py",
   "mimetype": "text/x-python",
   "name": "python",
   "nbconvert_exporter": "python",
   "pygments_lexer": "ipython3",
   "version": "3.7.6-final"
  }
 },
 "nbformat": 4,
 "nbformat_minor": 4
}