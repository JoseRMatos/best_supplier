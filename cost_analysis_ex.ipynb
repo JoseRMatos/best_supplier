{
 "cells": [
  {
   "cell_type": "code",
   "execution_count": 1,
   "metadata": {},
   "outputs": [
    {
     "output_type": "execute_result",
     "data": {
      "text/plain": "'\\nWe need:\\n1. Prices in different currencies\\n2. List with Pusblisher names.\\n3. Clean Publisher Name\\n4. Check Suppliers, currencies, publishers, discount, shipping costs\\n5. Check Suppliers special discounts\\n6. Check restrictions\\n7. Get landed Cost\\n8. List of ISBN to ananlyse.\\n\\n'"
     },
     "metadata": {},
     "execution_count": 1
    }
   ],
   "source": [
    "# In this scenario we are going to grab the info from excel files.\n",
    "'''\n",
    "We need:\n",
    "1. Prices in different currencies\n",
    "2. List with Pusblisher names.\n",
    "3. Clean Publisher Name\n",
    "4. Check Suppliers, currencies, publishers, discount, shipping costs\n",
    "5. Check Suppliers special discounts\n",
    "6. Check restrictions\n",
    "7. Get landed Cost\n",
    "8. List of ISBN to ananlyse.\n",
    "\n",
    "'''"
   ]
  },
  {
   "cell_type": "code",
   "execution_count": 2,
   "metadata": {},
   "outputs": [],
   "source": [
    "# 0. Import Libraries and credentials\n",
    "import pandas as pd\n",
    "import pyodbc\n",
    "import numpy as np\n",
    "import sqlCredentials as sql"
   ]
  },
  {
   "cell_type": "code",
   "execution_count": 3,
   "metadata": {},
   "outputs": [],
   "source": [
    "# 0. Get databse connection\n",
    "# Let's pick all the titles gwe can get from the pricing matrix.\n",
    "\n",
    "prod_db = pyodbc.connect(\n",
    "    'DRIVER={ODBC Driver 17 for SQL Server};'\n",
    "    'Server=52.86.56.66;'\n",
    "    'Database=BookXCenterProduction;'\n",
    "    'UID='+sql.username+';'\n",
    "    'PWD='+sql.password+';'\n",
    "    'Trusted_connection=no;'\n",
    ")\n",
    "\n",
    "prouc_db = pyodbc.connect(\n",
    "    'DRIVER={ODBC Driver 17 for SQL Server};'\n",
    "    'Server=52.86.56.66;'\n",
    "    'Database=PROCUREMENTDB;'\n",
    "    'UID='+sql.username+';'\n",
    "    'PWD='+sql.password+';'\n",
    "    'Trusted_connection=no;'\n",
    ")"
   ]
  },
  {
   "cell_type": "code",
   "execution_count": 4,
   "metadata": {},
   "outputs": [
    {
     "output_type": "execute_result",
     "data": {
      "text/plain": "   Id           Isbn Currency  Price        PriceSource  \\\n0   1  9780000079145     GBP   67.00         GoldenList   \n1   2  9780001000452     GBP    5.99  BertramsInventory   \n2   3  9780001837119     GBP    7.99  BertramsInventory   \n3   4  9780001845633     GBP    7.99         GoldenList   \n4   5  9780001982925     GBP   19.99  BertramsInventory   \n\n            PriceLastRefreshed                  Timestamp  \n0  2020-04-26 12:00:00.9366667 2020-04-26 17:03:31.833333  \n1  2020-04-25 13:00:00.0317917 2020-04-26 17:03:31.833333  \n2  2020-04-25 13:00:00.0317917 2020-04-26 17:03:31.833333  \n3  2020-04-26 12:00:00.9366667 2020-04-26 17:03:31.833333  \n4  2020-04-25 13:00:00.0317917 2020-04-26 17:03:31.833333  ",
      "text/html": "<div>\n<style scoped>\n    .dataframe tbody tr th:only-of-type {\n        vertical-align: middle;\n    }\n\n    .dataframe tbody tr th {\n        vertical-align: top;\n    }\n\n    .dataframe thead th {\n        text-align: right;\n    }\n</style>\n<table border=\"1\" class=\"dataframe\">\n  <thead>\n    <tr style=\"text-align: right;\">\n      <th></th>\n      <th>Id</th>\n      <th>Isbn</th>\n      <th>Currency</th>\n      <th>Price</th>\n      <th>PriceSource</th>\n      <th>PriceLastRefreshed</th>\n      <th>Timestamp</th>\n    </tr>\n  </thead>\n  <tbody>\n    <tr>\n      <th>0</th>\n      <td>1</td>\n      <td>9780000079145</td>\n      <td>GBP</td>\n      <td>67.00</td>\n      <td>GoldenList</td>\n      <td>2020-04-26 12:00:00.9366667</td>\n      <td>2020-04-26 17:03:31.833333</td>\n    </tr>\n    <tr>\n      <th>1</th>\n      <td>2</td>\n      <td>9780001000452</td>\n      <td>GBP</td>\n      <td>5.99</td>\n      <td>BertramsInventory</td>\n      <td>2020-04-25 13:00:00.0317917</td>\n      <td>2020-04-26 17:03:31.833333</td>\n    </tr>\n    <tr>\n      <th>2</th>\n      <td>3</td>\n      <td>9780001837119</td>\n      <td>GBP</td>\n      <td>7.99</td>\n      <td>BertramsInventory</td>\n      <td>2020-04-25 13:00:00.0317917</td>\n      <td>2020-04-26 17:03:31.833333</td>\n    </tr>\n    <tr>\n      <th>3</th>\n      <td>4</td>\n      <td>9780001845633</td>\n      <td>GBP</td>\n      <td>7.99</td>\n      <td>GoldenList</td>\n      <td>2020-04-26 12:00:00.9366667</td>\n      <td>2020-04-26 17:03:31.833333</td>\n    </tr>\n    <tr>\n      <th>4</th>\n      <td>5</td>\n      <td>9780001982925</td>\n      <td>GBP</td>\n      <td>19.99</td>\n      <td>BertramsInventory</td>\n      <td>2020-04-25 13:00:00.0317917</td>\n      <td>2020-04-26 17:03:31.833333</td>\n    </tr>\n  </tbody>\n</table>\n</div>"
     },
     "metadata": {},
     "execution_count": 4
    }
   ],
   "source": [
    "#1. Prices at different currencies\n",
    "#this time we are going to use all the titles\n",
    "list_price_sql = \"\"\"\n",
    "SELECT *\n",
    "FROM Isbn.ListPrice\n",
    "\"\"\"\n",
    "\n",
    "list_price = pd.read_sql(list_price_sql, prod_db)\n",
    "list_price.head()"
   ]
  },
  {
   "cell_type": "code",
   "execution_count": 5,
   "metadata": {},
   "outputs": [
    {
     "output_type": "execute_result",
     "data": {
      "text/plain": "(1624530, 7)"
     },
     "metadata": {},
     "execution_count": 5
    }
   ],
   "source": [
    "list_price.shape"
   ]
  },
  {
   "cell_type": "code",
   "execution_count": 6,
   "metadata": {},
   "outputs": [
    {
     "output_type": "execute_result",
     "data": {
      "text/plain": "array(['GoldenList', 'BertramsInventory', 'BookDepotInventory',\n       'BowkerNepModel', 'TitlePageScraper', 'NielsenFtp',\n       'BowkerApiModel', 'PearsonCanadaScraperModel', 'SAPPurchaseOrder',\n       'AbePolandScraper'], dtype=object)"
     },
     "metadata": {},
     "execution_count": 6
    }
   ],
   "source": [
    "list_price['PriceSource'].unique()"
   ]
  },
  {
   "cell_type": "code",
   "execution_count": 7,
   "metadata": {},
   "outputs": [
    {
     "output_type": "execute_result",
     "data": {
      "text/plain": "            Isbn Currency  Price\n0  9780000079145     GBP   67.00\n1  9780001000452     GBP    5.99\n2  9780001837119     GBP    7.99\n3  9780001845633     GBP    7.99\n4  9780001982925     GBP   19.99",
      "text/html": "<div>\n<style scoped>\n    .dataframe tbody tr th:only-of-type {\n        vertical-align: middle;\n    }\n\n    .dataframe tbody tr th {\n        vertical-align: top;\n    }\n\n    .dataframe thead th {\n        text-align: right;\n    }\n</style>\n<table border=\"1\" class=\"dataframe\">\n  <thead>\n    <tr style=\"text-align: right;\">\n      <th></th>\n      <th>Isbn</th>\n      <th>Currency</th>\n      <th>Price</th>\n    </tr>\n  </thead>\n  <tbody>\n    <tr>\n      <th>0</th>\n      <td>9780000079145</td>\n      <td>GBP</td>\n      <td>67.00</td>\n    </tr>\n    <tr>\n      <th>1</th>\n      <td>9780001000452</td>\n      <td>GBP</td>\n      <td>5.99</td>\n    </tr>\n    <tr>\n      <th>2</th>\n      <td>9780001837119</td>\n      <td>GBP</td>\n      <td>7.99</td>\n    </tr>\n    <tr>\n      <th>3</th>\n      <td>9780001845633</td>\n      <td>GBP</td>\n      <td>7.99</td>\n    </tr>\n    <tr>\n      <th>4</th>\n      <td>9780001982925</td>\n      <td>GBP</td>\n      <td>19.99</td>\n    </tr>\n  </tbody>\n</table>\n</div>"
     },
     "metadata": {},
     "execution_count": 7
    }
   ],
   "source": [
    "list_price.drop(columns = ['Id', 'PriceSource', 'PriceLastRefreshed', 'Timestamp'], inplace = True)\n",
    "list_price.head()"
   ]
  },
  {
   "cell_type": "code",
   "execution_count": 8,
   "metadata": {},
   "outputs": [
    {
     "output_type": "execute_result",
     "data": {
      "text/plain": "            Isbn Title TitleSource TitleLastRefreshed Publisher  \\\n0  9780000002402  None        None               None       LWW   \n1  9780000002679  None        None               None       LWW   \n2  9780000003102  None        None               None      None   \n3  9780000003201  None        None               None       LWW   \n4  9780000006493  None        None               None       LWW   \n\n  PublisherSource       PublisherLastRefreshed Author AuthorSource  \\\n0      GoldenList  2020-04-26 12:00:00.9366667   None         None   \n1      GoldenList  2020-04-26 12:00:00.9366667   None         None   \n2            None                         None   None         None   \n3      GoldenList  2020-04-26 12:00:00.9366667   None         None   \n4      GoldenList  2020-04-26 12:00:00.9366667   None         None   \n\n  AuthorLastRefreshed  ... PublicationDateSource PublicationDateLastRefreshed  \\\n0                None  ...                  None                         None   \n1                None  ...                  None                         None   \n2                None  ...                  None                         None   \n3                None  ...                  None                         None   \n4                None  ...                  None                         None   \n\n  Copyright CopyrightSource CopyrightLastRefreshed Binding BindingSource  \\\n0      None            None                   None    None          None   \n1      None            None                   None    None          None   \n2      None            None                   None    None          None   \n3      None            None                   None    None          None   \n4      None            None                   None    None          None   \n\n  BindingLastRefreshed               Timestamp Edition  \n0                 None 2020-04-26 17:02:41.597    None  \n1                 None 2020-04-26 17:02:41.597    None  \n2                 None 2020-04-26 17:02:41.597    None  \n3                 None 2020-04-26 17:02:41.597    None  \n4                 None 2020-04-26 17:02:41.597    None  \n\n[5 rows x 21 columns]",
      "text/html": "<div>\n<style scoped>\n    .dataframe tbody tr th:only-of-type {\n        vertical-align: middle;\n    }\n\n    .dataframe tbody tr th {\n        vertical-align: top;\n    }\n\n    .dataframe thead th {\n        text-align: right;\n    }\n</style>\n<table border=\"1\" class=\"dataframe\">\n  <thead>\n    <tr style=\"text-align: right;\">\n      <th></th>\n      <th>Isbn</th>\n      <th>Title</th>\n      <th>TitleSource</th>\n      <th>TitleLastRefreshed</th>\n      <th>Publisher</th>\n      <th>PublisherSource</th>\n      <th>PublisherLastRefreshed</th>\n      <th>Author</th>\n      <th>AuthorSource</th>\n      <th>AuthorLastRefreshed</th>\n      <th>...</th>\n      <th>PublicationDateSource</th>\n      <th>PublicationDateLastRefreshed</th>\n      <th>Copyright</th>\n      <th>CopyrightSource</th>\n      <th>CopyrightLastRefreshed</th>\n      <th>Binding</th>\n      <th>BindingSource</th>\n      <th>BindingLastRefreshed</th>\n      <th>Timestamp</th>\n      <th>Edition</th>\n    </tr>\n  </thead>\n  <tbody>\n    <tr>\n      <th>0</th>\n      <td>9780000002402</td>\n      <td>None</td>\n      <td>None</td>\n      <td>None</td>\n      <td>LWW</td>\n      <td>GoldenList</td>\n      <td>2020-04-26 12:00:00.9366667</td>\n      <td>None</td>\n      <td>None</td>\n      <td>None</td>\n      <td>...</td>\n      <td>None</td>\n      <td>None</td>\n      <td>None</td>\n      <td>None</td>\n      <td>None</td>\n      <td>None</td>\n      <td>None</td>\n      <td>None</td>\n      <td>2020-04-26 17:02:41.597</td>\n      <td>None</td>\n    </tr>\n    <tr>\n      <th>1</th>\n      <td>9780000002679</td>\n      <td>None</td>\n      <td>None</td>\n      <td>None</td>\n      <td>LWW</td>\n      <td>GoldenList</td>\n      <td>2020-04-26 12:00:00.9366667</td>\n      <td>None</td>\n      <td>None</td>\n      <td>None</td>\n      <td>...</td>\n      <td>None</td>\n      <td>None</td>\n      <td>None</td>\n      <td>None</td>\n      <td>None</td>\n      <td>None</td>\n      <td>None</td>\n      <td>None</td>\n      <td>2020-04-26 17:02:41.597</td>\n      <td>None</td>\n    </tr>\n    <tr>\n      <th>2</th>\n      <td>9780000003102</td>\n      <td>None</td>\n      <td>None</td>\n      <td>None</td>\n      <td>None</td>\n      <td>None</td>\n      <td>None</td>\n      <td>None</td>\n      <td>None</td>\n      <td>None</td>\n      <td>...</td>\n      <td>None</td>\n      <td>None</td>\n      <td>None</td>\n      <td>None</td>\n      <td>None</td>\n      <td>None</td>\n      <td>None</td>\n      <td>None</td>\n      <td>2020-04-26 17:02:41.597</td>\n      <td>None</td>\n    </tr>\n    <tr>\n      <th>3</th>\n      <td>9780000003201</td>\n      <td>None</td>\n      <td>None</td>\n      <td>None</td>\n      <td>LWW</td>\n      <td>GoldenList</td>\n      <td>2020-04-26 12:00:00.9366667</td>\n      <td>None</td>\n      <td>None</td>\n      <td>None</td>\n      <td>...</td>\n      <td>None</td>\n      <td>None</td>\n      <td>None</td>\n      <td>None</td>\n      <td>None</td>\n      <td>None</td>\n      <td>None</td>\n      <td>None</td>\n      <td>2020-04-26 17:02:41.597</td>\n      <td>None</td>\n    </tr>\n    <tr>\n      <th>4</th>\n      <td>9780000006493</td>\n      <td>None</td>\n      <td>None</td>\n      <td>None</td>\n      <td>LWW</td>\n      <td>GoldenList</td>\n      <td>2020-04-26 12:00:00.9366667</td>\n      <td>None</td>\n      <td>None</td>\n      <td>None</td>\n      <td>...</td>\n      <td>None</td>\n      <td>None</td>\n      <td>None</td>\n      <td>None</td>\n      <td>None</td>\n      <td>None</td>\n      <td>None</td>\n      <td>None</td>\n      <td>2020-04-26 17:02:41.597</td>\n      <td>None</td>\n    </tr>\n  </tbody>\n</table>\n<p>5 rows × 21 columns</p>\n</div>"
     },
     "metadata": {},
     "execution_count": 8
    }
   ],
   "source": [
    "bilblo_sql = \"\"\"\n",
    "SELECT *\n",
    "FROM Isbn.Bibliography\n",
    "\"\"\"\n",
    "biblio = pd.read_sql(bilblo_sql, prod_db)\n",
    "biblio.head()"
   ]
  },
  {
   "cell_type": "code",
   "execution_count": 9,
   "metadata": {},
   "outputs": [],
   "source": [
    "sup_list = pd.merge(list_price, biblio, how='left', on = 'Isbn' )"
   ]
  },
  {
   "cell_type": "code",
   "execution_count": 10,
   "metadata": {},
   "outputs": [
    {
     "output_type": "execute_result",
     "data": {
      "text/plain": "            Isbn Currency  Price  \\\n0  9780000079145     GBP   67.00   \n1  9780001000452     GBP    5.99   \n2  9780001837119     GBP    7.99   \n3  9780001845633     GBP    7.99   \n4  9780001982925     GBP   19.99   \n\n                                               Title        TitleSource  \\\n0                                               None               None   \n1                 Testy McTest and the Silver Bridle  BertramsInventory   \n2                                       Winter Story  BertramsInventory   \n3                                               None               None   \n4  Collins Bedtime Treasury of Nursery Rhymes and...  BertramsInventory   \n\n            TitleLastRefreshed Publisher PublisherSource  \\\n0                         None       LWW      GoldenList   \n1  2020-04-25 13:00:00.0317917      None            None   \n2  2020-04-25 13:00:00.0317917      None            None   \n3                         None      None            None   \n4  2020-04-25 13:00:00.0317917      None            None   \n\n        PublisherLastRefreshed Author  ... PublicationDateSource  \\\n0  2020-04-26 12:00:00.9366667   None  ...                  None   \n1                         None   None  ...                  None   \n2                         None   None  ...                  None   \n3                         None   None  ...                  None   \n4                         None   None  ...                  None   \n\n  PublicationDateLastRefreshed Copyright CopyrightSource  \\\n0                         None      None            None   \n1                         None      None            None   \n2                         None      None            None   \n3                         None      None            None   \n4                         None      None            None   \n\n  CopyrightLastRefreshed Binding BindingSource BindingLastRefreshed  \\\n0                   None    None          None                 None   \n1                   None    None          None                 None   \n2                   None    None          None                 None   \n3                   None    None          None                 None   \n4                   None    None          None                 None   \n\n                Timestamp Edition  \n0 2020-04-26 17:02:41.597    None  \n1 2020-04-26 17:02:41.597    None  \n2 2020-04-26 17:02:41.597    None  \n3 2020-04-26 17:02:41.597    None  \n4 2020-04-26 17:02:41.597    None  \n\n[5 rows x 23 columns]",
      "text/html": "<div>\n<style scoped>\n    .dataframe tbody tr th:only-of-type {\n        vertical-align: middle;\n    }\n\n    .dataframe tbody tr th {\n        vertical-align: top;\n    }\n\n    .dataframe thead th {\n        text-align: right;\n    }\n</style>\n<table border=\"1\" class=\"dataframe\">\n  <thead>\n    <tr style=\"text-align: right;\">\n      <th></th>\n      <th>Isbn</th>\n      <th>Currency</th>\n      <th>Price</th>\n      <th>Title</th>\n      <th>TitleSource</th>\n      <th>TitleLastRefreshed</th>\n      <th>Publisher</th>\n      <th>PublisherSource</th>\n      <th>PublisherLastRefreshed</th>\n      <th>Author</th>\n      <th>...</th>\n      <th>PublicationDateSource</th>\n      <th>PublicationDateLastRefreshed</th>\n      <th>Copyright</th>\n      <th>CopyrightSource</th>\n      <th>CopyrightLastRefreshed</th>\n      <th>Binding</th>\n      <th>BindingSource</th>\n      <th>BindingLastRefreshed</th>\n      <th>Timestamp</th>\n      <th>Edition</th>\n    </tr>\n  </thead>\n  <tbody>\n    <tr>\n      <th>0</th>\n      <td>9780000079145</td>\n      <td>GBP</td>\n      <td>67.00</td>\n      <td>None</td>\n      <td>None</td>\n      <td>None</td>\n      <td>LWW</td>\n      <td>GoldenList</td>\n      <td>2020-04-26 12:00:00.9366667</td>\n      <td>None</td>\n      <td>...</td>\n      <td>None</td>\n      <td>None</td>\n      <td>None</td>\n      <td>None</td>\n      <td>None</td>\n      <td>None</td>\n      <td>None</td>\n      <td>None</td>\n      <td>2020-04-26 17:02:41.597</td>\n      <td>None</td>\n    </tr>\n    <tr>\n      <th>1</th>\n      <td>9780001000452</td>\n      <td>GBP</td>\n      <td>5.99</td>\n      <td>Testy McTest and the Silver Bridle</td>\n      <td>BertramsInventory</td>\n      <td>2020-04-25 13:00:00.0317917</td>\n      <td>None</td>\n      <td>None</td>\n      <td>None</td>\n      <td>None</td>\n      <td>...</td>\n      <td>None</td>\n      <td>None</td>\n      <td>None</td>\n      <td>None</td>\n      <td>None</td>\n      <td>None</td>\n      <td>None</td>\n      <td>None</td>\n      <td>2020-04-26 17:02:41.597</td>\n      <td>None</td>\n    </tr>\n    <tr>\n      <th>2</th>\n      <td>9780001837119</td>\n      <td>GBP</td>\n      <td>7.99</td>\n      <td>Winter Story</td>\n      <td>BertramsInventory</td>\n      <td>2020-04-25 13:00:00.0317917</td>\n      <td>None</td>\n      <td>None</td>\n      <td>None</td>\n      <td>None</td>\n      <td>...</td>\n      <td>None</td>\n      <td>None</td>\n      <td>None</td>\n      <td>None</td>\n      <td>None</td>\n      <td>None</td>\n      <td>None</td>\n      <td>None</td>\n      <td>2020-04-26 17:02:41.597</td>\n      <td>None</td>\n    </tr>\n    <tr>\n      <th>3</th>\n      <td>9780001845633</td>\n      <td>GBP</td>\n      <td>7.99</td>\n      <td>None</td>\n      <td>None</td>\n      <td>None</td>\n      <td>None</td>\n      <td>None</td>\n      <td>None</td>\n      <td>None</td>\n      <td>...</td>\n      <td>None</td>\n      <td>None</td>\n      <td>None</td>\n      <td>None</td>\n      <td>None</td>\n      <td>None</td>\n      <td>None</td>\n      <td>None</td>\n      <td>2020-04-26 17:02:41.597</td>\n      <td>None</td>\n    </tr>\n    <tr>\n      <th>4</th>\n      <td>9780001982925</td>\n      <td>GBP</td>\n      <td>19.99</td>\n      <td>Collins Bedtime Treasury of Nursery Rhymes and...</td>\n      <td>BertramsInventory</td>\n      <td>2020-04-25 13:00:00.0317917</td>\n      <td>None</td>\n      <td>None</td>\n      <td>None</td>\n      <td>None</td>\n      <td>...</td>\n      <td>None</td>\n      <td>None</td>\n      <td>None</td>\n      <td>None</td>\n      <td>None</td>\n      <td>None</td>\n      <td>None</td>\n      <td>None</td>\n      <td>2020-04-26 17:02:41.597</td>\n      <td>None</td>\n    </tr>\n  </tbody>\n</table>\n<p>5 rows × 23 columns</p>\n</div>"
     },
     "metadata": {},
     "execution_count": 10
    }
   ],
   "source": [
    "sup_list.head()"
   ]
  },
  {
   "cell_type": "code",
   "execution_count": 11,
   "metadata": {},
   "outputs": [
    {
     "output_type": "execute_result",
     "data": {
      "text/plain": "Index(['Isbn', 'Currency', 'Price', 'Title', 'TitleSource',\n       'TitleLastRefreshed', 'Publisher', 'PublisherSource',\n       'PublisherLastRefreshed', 'Author', 'AuthorSource',\n       'AuthorLastRefreshed', 'PublicationDate', 'PublicationDateSource',\n       'PublicationDateLastRefreshed', 'Copyright', 'CopyrightSource',\n       'CopyrightLastRefreshed', 'Binding', 'BindingSource',\n       'BindingLastRefreshed', 'Timestamp', 'Edition'],\n      dtype='object')"
     },
     "metadata": {},
     "execution_count": 11
    }
   ],
   "source": [
    "sup_list.columns"
   ]
  },
  {
   "cell_type": "code",
   "execution_count": 12,
   "metadata": {},
   "outputs": [],
   "source": [
    "sup_list = sup_list[['Isbn','Currency', 'Price','Title', 'Publisher', 'Author']]"
   ]
  },
  {
   "cell_type": "code",
   "execution_count": 13,
   "metadata": {},
   "outputs": [
    {
     "output_type": "execute_result",
     "data": {
      "text/plain": "            Isbn Currency  Price  \\\n0  9780000079145     GBP   67.00   \n1  9780001000452     GBP    5.99   \n2  9780001837119     GBP    7.99   \n3  9780001845633     GBP    7.99   \n4  9780001982925     GBP   19.99   \n\n                                               Title Publisher Author  \n0                                               None       LWW   None  \n1                 Testy McTest and the Silver Bridle      None   None  \n2                                       Winter Story      None   None  \n3                                               None      None   None  \n4  Collins Bedtime Treasury of Nursery Rhymes and...      None   None  ",
      "text/html": "<div>\n<style scoped>\n    .dataframe tbody tr th:only-of-type {\n        vertical-align: middle;\n    }\n\n    .dataframe tbody tr th {\n        vertical-align: top;\n    }\n\n    .dataframe thead th {\n        text-align: right;\n    }\n</style>\n<table border=\"1\" class=\"dataframe\">\n  <thead>\n    <tr style=\"text-align: right;\">\n      <th></th>\n      <th>Isbn</th>\n      <th>Currency</th>\n      <th>Price</th>\n      <th>Title</th>\n      <th>Publisher</th>\n      <th>Author</th>\n    </tr>\n  </thead>\n  <tbody>\n    <tr>\n      <th>0</th>\n      <td>9780000079145</td>\n      <td>GBP</td>\n      <td>67.00</td>\n      <td>None</td>\n      <td>LWW</td>\n      <td>None</td>\n    </tr>\n    <tr>\n      <th>1</th>\n      <td>9780001000452</td>\n      <td>GBP</td>\n      <td>5.99</td>\n      <td>Testy McTest and the Silver Bridle</td>\n      <td>None</td>\n      <td>None</td>\n    </tr>\n    <tr>\n      <th>2</th>\n      <td>9780001837119</td>\n      <td>GBP</td>\n      <td>7.99</td>\n      <td>Winter Story</td>\n      <td>None</td>\n      <td>None</td>\n    </tr>\n    <tr>\n      <th>3</th>\n      <td>9780001845633</td>\n      <td>GBP</td>\n      <td>7.99</td>\n      <td>None</td>\n      <td>None</td>\n      <td>None</td>\n    </tr>\n    <tr>\n      <th>4</th>\n      <td>9780001982925</td>\n      <td>GBP</td>\n      <td>19.99</td>\n      <td>Collins Bedtime Treasury of Nursery Rhymes and...</td>\n      <td>None</td>\n      <td>None</td>\n    </tr>\n  </tbody>\n</table>\n</div>"
     },
     "metadata": {},
     "execution_count": 13
    }
   ],
   "source": [
    "sup_list.head()"
   ]
  },
  {
   "cell_type": "code",
   "execution_count": 14,
   "metadata": {},
   "outputs": [
    {
     "output_type": "execute_result",
     "data": {
      "text/plain": "array(['LWW', None, 'HARPER COLLINS', ..., 'Mandrake of Oxford', 'LOTUS',\n       'Mandrake'], dtype=object)"
     },
     "metadata": {},
     "execution_count": 14
    }
   ],
   "source": [
    "sup_list['Publisher'].unique()"
   ]
  },
  {
   "cell_type": "code",
   "execution_count": 15,
   "metadata": {},
   "outputs": [
    {
     "output_type": "execute_result",
     "data": {
      "text/plain": "Isbn         0\nCurrency     0\nPrice        0\nTitle        0\nPublisher    0\nAuthor       0\ndtype: int64"
     },
     "metadata": {},
     "execution_count": 15
    }
   ],
   "source": [
    "sup_list = sup_list.fillna('N/A')\n",
    "sup_list.isna().sum()"
   ]
  },
  {
   "cell_type": "code",
   "execution_count": 16,
   "metadata": {},
   "outputs": [
    {
     "output_type": "execute_result",
     "data": {
      "text/plain": "                                       PublisherLong  \\\n0                                     \"Abrams, Inc.\"   \n1             \"Addison-Wesley Longman, Incorporated\"   \n2                  \"Addison-Wesley Longman, Limited\"   \n3                      \"Allyn & Bacon, Incorporated\"   \n4  \"American Occupational Therapy Association, In...   \n\n                                      PublisherShort  \n0                                             ABRAMS  \n1                                            PEARSON  \n2                                            PEARSON  \n3                                            PEARSON  \n4  American Occupational Therapy Association, Inc...  ",
      "text/html": "<div>\n<style scoped>\n    .dataframe tbody tr th:only-of-type {\n        vertical-align: middle;\n    }\n\n    .dataframe tbody tr th {\n        vertical-align: top;\n    }\n\n    .dataframe thead th {\n        text-align: right;\n    }\n</style>\n<table border=\"1\" class=\"dataframe\">\n  <thead>\n    <tr style=\"text-align: right;\">\n      <th></th>\n      <th>PublisherLong</th>\n      <th>PublisherShort</th>\n    </tr>\n  </thead>\n  <tbody>\n    <tr>\n      <th>0</th>\n      <td>\"Abrams, Inc.\"</td>\n      <td>ABRAMS</td>\n    </tr>\n    <tr>\n      <th>1</th>\n      <td>\"Addison-Wesley Longman, Incorporated\"</td>\n      <td>PEARSON</td>\n    </tr>\n    <tr>\n      <th>2</th>\n      <td>\"Addison-Wesley Longman, Limited\"</td>\n      <td>PEARSON</td>\n    </tr>\n    <tr>\n      <th>3</th>\n      <td>\"Allyn &amp; Bacon, Incorporated\"</td>\n      <td>PEARSON</td>\n    </tr>\n    <tr>\n      <th>4</th>\n      <td>\"American Occupational Therapy Association, In...</td>\n      <td>American Occupational Therapy Association, Inc...</td>\n    </tr>\n  </tbody>\n</table>\n</div>"
     },
     "metadata": {},
     "execution_count": 16
    }
   ],
   "source": [
    "# 3. Clean publisher\n",
    "dictio_sql = \"\"\"\n",
    "SELECT *\n",
    "FROM dbo.PublisherDictionary\n",
    "\"\"\"\n",
    "\n",
    "dictio = pd.read_sql(dictio_sql, prouc_db)\n",
    "dictio.head()"
   ]
  },
  {
   "cell_type": "code",
   "execution_count": 17,
   "metadata": {},
   "outputs": [],
   "source": [
    "def clean_up(phrase):\n",
    "    phrase = phrase.lstrip()\n",
    "    phrase = phrase.rstrip()\n",
    "    phrase = phrase.upper()\n",
    "    return phrase"
   ]
  },
  {
   "cell_type": "code",
   "execution_count": 18,
   "metadata": {},
   "outputs": [],
   "source": [
    "for col in list(dictio.columns):\n",
    "    dictio[col] = dictio.apply(lambda x: clean_up(x[col]), axis =1)"
   ]
  },
  {
   "cell_type": "code",
   "execution_count": 19,
   "metadata": {},
   "outputs": [
    {
     "output_type": "execute_result",
     "data": {
      "text/plain": "                                       PublisherLong  \\\n0                                     \"ABRAMS, INC.\"   \n1             \"ADDISON-WESLEY LONGMAN, INCORPORATED\"   \n2                  \"ADDISON-WESLEY LONGMAN, LIMITED\"   \n3                      \"ALLYN & BACON, INCORPORATED\"   \n4  \"AMERICAN OCCUPATIONAL THERAPY ASSOCIATION, IN...   \n\n                                      PublisherShort  \n0                                             ABRAMS  \n1                                            PEARSON  \n2                                            PEARSON  \n3                                            PEARSON  \n4  AMERICAN OCCUPATIONAL THERAPY ASSOCIATION, INC...  ",
      "text/html": "<div>\n<style scoped>\n    .dataframe tbody tr th:only-of-type {\n        vertical-align: middle;\n    }\n\n    .dataframe tbody tr th {\n        vertical-align: top;\n    }\n\n    .dataframe thead th {\n        text-align: right;\n    }\n</style>\n<table border=\"1\" class=\"dataframe\">\n  <thead>\n    <tr style=\"text-align: right;\">\n      <th></th>\n      <th>PublisherLong</th>\n      <th>PublisherShort</th>\n    </tr>\n  </thead>\n  <tbody>\n    <tr>\n      <th>0</th>\n      <td>\"ABRAMS, INC.\"</td>\n      <td>ABRAMS</td>\n    </tr>\n    <tr>\n      <th>1</th>\n      <td>\"ADDISON-WESLEY LONGMAN, INCORPORATED\"</td>\n      <td>PEARSON</td>\n    </tr>\n    <tr>\n      <th>2</th>\n      <td>\"ADDISON-WESLEY LONGMAN, LIMITED\"</td>\n      <td>PEARSON</td>\n    </tr>\n    <tr>\n      <th>3</th>\n      <td>\"ALLYN &amp; BACON, INCORPORATED\"</td>\n      <td>PEARSON</td>\n    </tr>\n    <tr>\n      <th>4</th>\n      <td>\"AMERICAN OCCUPATIONAL THERAPY ASSOCIATION, IN...</td>\n      <td>AMERICAN OCCUPATIONAL THERAPY ASSOCIATION, INC...</td>\n    </tr>\n  </tbody>\n</table>\n</div>"
     },
     "metadata": {},
     "execution_count": 19
    }
   ],
   "source": [
    "dictio.head()"
   ]
  },
  {
   "cell_type": "code",
   "execution_count": 20,
   "metadata": {},
   "outputs": [],
   "source": [
    "for col in list(sup_list.drop(columns = 'Price').columns):\n",
    "    sup_list[col] = sup_list.apply(lambda x: clean_up(x[col]), axis =1)"
   ]
  },
  {
   "cell_type": "code",
   "execution_count": 21,
   "metadata": {},
   "outputs": [
    {
     "output_type": "execute_result",
     "data": {
      "text/plain": "            Isbn Currency  Price  \\\n0  9780000079145      GBP  67.00   \n1  9780001000452      GBP   5.99   \n2  9780001837119      GBP   7.99   \n3  9780001845633      GBP   7.99   \n4  9780001982925      GBP  19.99   \n\n                                               Title Publisher Author  \n0                                                N/A       LWW    N/A  \n1                 TESTY MCTEST AND THE SILVER BRIDLE       N/A    N/A  \n2                                       WINTER STORY       N/A    N/A  \n3                                                N/A       N/A    N/A  \n4  COLLINS BEDTIME TREASURY OF NURSERY RHYMES AND...       N/A    N/A  ",
      "text/html": "<div>\n<style scoped>\n    .dataframe tbody tr th:only-of-type {\n        vertical-align: middle;\n    }\n\n    .dataframe tbody tr th {\n        vertical-align: top;\n    }\n\n    .dataframe thead th {\n        text-align: right;\n    }\n</style>\n<table border=\"1\" class=\"dataframe\">\n  <thead>\n    <tr style=\"text-align: right;\">\n      <th></th>\n      <th>Isbn</th>\n      <th>Currency</th>\n      <th>Price</th>\n      <th>Title</th>\n      <th>Publisher</th>\n      <th>Author</th>\n    </tr>\n  </thead>\n  <tbody>\n    <tr>\n      <th>0</th>\n      <td>9780000079145</td>\n      <td>GBP</td>\n      <td>67.00</td>\n      <td>N/A</td>\n      <td>LWW</td>\n      <td>N/A</td>\n    </tr>\n    <tr>\n      <th>1</th>\n      <td>9780001000452</td>\n      <td>GBP</td>\n      <td>5.99</td>\n      <td>TESTY MCTEST AND THE SILVER BRIDLE</td>\n      <td>N/A</td>\n      <td>N/A</td>\n    </tr>\n    <tr>\n      <th>2</th>\n      <td>9780001837119</td>\n      <td>GBP</td>\n      <td>7.99</td>\n      <td>WINTER STORY</td>\n      <td>N/A</td>\n      <td>N/A</td>\n    </tr>\n    <tr>\n      <th>3</th>\n      <td>9780001845633</td>\n      <td>GBP</td>\n      <td>7.99</td>\n      <td>N/A</td>\n      <td>N/A</td>\n      <td>N/A</td>\n    </tr>\n    <tr>\n      <th>4</th>\n      <td>9780001982925</td>\n      <td>GBP</td>\n      <td>19.99</td>\n      <td>COLLINS BEDTIME TREASURY OF NURSERY RHYMES AND...</td>\n      <td>N/A</td>\n      <td>N/A</td>\n    </tr>\n  </tbody>\n</table>\n</div>"
     },
     "metadata": {},
     "execution_count": 21
    }
   ],
   "source": [
    "sup_list.head()"
   ]
  },
  {
   "cell_type": "code",
   "execution_count": 22,
   "metadata": {},
   "outputs": [],
   "source": [
    "# Merge on Publisher\n",
    "sup_list2 = pd.merge(sup_list, dictio, how='left', left_on = 'Publisher', right_on = 'PublisherLong' )"
   ]
  },
  {
   "cell_type": "code",
   "execution_count": 23,
   "metadata": {},
   "outputs": [
    {
     "output_type": "execute_result",
     "data": {
      "text/plain": "            Isbn Currency  Price  \\\n0  9780000079145      GBP  67.00   \n1  9780001000452      GBP   5.99   \n2  9780001837119      GBP   7.99   \n3  9780001845633      GBP   7.99   \n4  9780001982925      GBP  19.99   \n\n                                               Title Publisher Author  \\\n0                                                N/A       LWW    N/A   \n1                 TESTY MCTEST AND THE SILVER BRIDLE       N/A    N/A   \n2                                       WINTER STORY       N/A    N/A   \n3                                                N/A       N/A    N/A   \n4  COLLINS BEDTIME TREASURY OF NURSERY RHYMES AND...       N/A    N/A   \n\n  PublisherLong PublisherShort  \n0           LWW            LWW  \n1           N/A            N/A  \n2           N/A            N/A  \n3           N/A            N/A  \n4           N/A            N/A  ",
      "text/html": "<div>\n<style scoped>\n    .dataframe tbody tr th:only-of-type {\n        vertical-align: middle;\n    }\n\n    .dataframe tbody tr th {\n        vertical-align: top;\n    }\n\n    .dataframe thead th {\n        text-align: right;\n    }\n</style>\n<table border=\"1\" class=\"dataframe\">\n  <thead>\n    <tr style=\"text-align: right;\">\n      <th></th>\n      <th>Isbn</th>\n      <th>Currency</th>\n      <th>Price</th>\n      <th>Title</th>\n      <th>Publisher</th>\n      <th>Author</th>\n      <th>PublisherLong</th>\n      <th>PublisherShort</th>\n    </tr>\n  </thead>\n  <tbody>\n    <tr>\n      <th>0</th>\n      <td>9780000079145</td>\n      <td>GBP</td>\n      <td>67.00</td>\n      <td>N/A</td>\n      <td>LWW</td>\n      <td>N/A</td>\n      <td>LWW</td>\n      <td>LWW</td>\n    </tr>\n    <tr>\n      <th>1</th>\n      <td>9780001000452</td>\n      <td>GBP</td>\n      <td>5.99</td>\n      <td>TESTY MCTEST AND THE SILVER BRIDLE</td>\n      <td>N/A</td>\n      <td>N/A</td>\n      <td>N/A</td>\n      <td>N/A</td>\n    </tr>\n    <tr>\n      <th>2</th>\n      <td>9780001837119</td>\n      <td>GBP</td>\n      <td>7.99</td>\n      <td>WINTER STORY</td>\n      <td>N/A</td>\n      <td>N/A</td>\n      <td>N/A</td>\n      <td>N/A</td>\n    </tr>\n    <tr>\n      <th>3</th>\n      <td>9780001845633</td>\n      <td>GBP</td>\n      <td>7.99</td>\n      <td>N/A</td>\n      <td>N/A</td>\n      <td>N/A</td>\n      <td>N/A</td>\n      <td>N/A</td>\n    </tr>\n    <tr>\n      <th>4</th>\n      <td>9780001982925</td>\n      <td>GBP</td>\n      <td>19.99</td>\n      <td>COLLINS BEDTIME TREASURY OF NURSERY RHYMES AND...</td>\n      <td>N/A</td>\n      <td>N/A</td>\n      <td>N/A</td>\n      <td>N/A</td>\n    </tr>\n  </tbody>\n</table>\n</div>"
     },
     "metadata": {},
     "execution_count": 23
    }
   ],
   "source": [
    "sup_list2.head()"
   ]
  },
  {
   "cell_type": "code",
   "execution_count": 24,
   "metadata": {},
   "outputs": [
    {
     "output_type": "execute_result",
     "data": {
      "text/plain": "array(['GBP', 'USD', 'CND', 'AUD', 'NZD', 'EURO', 'PLN'], dtype=object)"
     },
     "metadata": {},
     "execution_count": 24
    }
   ],
   "source": [
    "sup_list2['Currency'].unique()"
   ]
  },
  {
   "cell_type": "code",
   "execution_count": 25,
   "metadata": {},
   "outputs": [
    {
     "output_type": "execute_result",
     "data": {
      "text/plain": "  Supplier        Publisher Currency  Discount  Shipping Cost  max quantity  \\\n0   COINFO         3D TOTAL      AUD      0.22            3.3         10000   \n1   COINFO         ABC CLIO      AUD      0.30            3.3         10000   \n2   COINFO             AIAA      AUD      0.30            3.3         10000   \n3   COINFO    ALIEN & UNWIN      AUD      0.30            3.3         10000   \n4   COINFO  Amer Psych Ass.      AUD      0.33            3.3         10000   \n\n   Min     Region  \n0    0  AUSTRALIA  \n1    0  AUSTRALIA  \n2    0  AUSTRALIA  \n3    0  AUSTRALIA  \n4    0  AUSTRALIA  ",
      "text/html": "<div>\n<style scoped>\n    .dataframe tbody tr th:only-of-type {\n        vertical-align: middle;\n    }\n\n    .dataframe tbody tr th {\n        vertical-align: top;\n    }\n\n    .dataframe thead th {\n        text-align: right;\n    }\n</style>\n<table border=\"1\" class=\"dataframe\">\n  <thead>\n    <tr style=\"text-align: right;\">\n      <th></th>\n      <th>Supplier</th>\n      <th>Publisher</th>\n      <th>Currency</th>\n      <th>Discount</th>\n      <th>Shipping Cost</th>\n      <th>max quantity</th>\n      <th>Min</th>\n      <th>Region</th>\n    </tr>\n  </thead>\n  <tbody>\n    <tr>\n      <th>0</th>\n      <td>COINFO</td>\n      <td>3D TOTAL</td>\n      <td>AUD</td>\n      <td>0.22</td>\n      <td>3.3</td>\n      <td>10000</td>\n      <td>0</td>\n      <td>AUSTRALIA</td>\n    </tr>\n    <tr>\n      <th>1</th>\n      <td>COINFO</td>\n      <td>ABC CLIO</td>\n      <td>AUD</td>\n      <td>0.30</td>\n      <td>3.3</td>\n      <td>10000</td>\n      <td>0</td>\n      <td>AUSTRALIA</td>\n    </tr>\n    <tr>\n      <th>2</th>\n      <td>COINFO</td>\n      <td>AIAA</td>\n      <td>AUD</td>\n      <td>0.30</td>\n      <td>3.3</td>\n      <td>10000</td>\n      <td>0</td>\n      <td>AUSTRALIA</td>\n    </tr>\n    <tr>\n      <th>3</th>\n      <td>COINFO</td>\n      <td>ALIEN &amp; UNWIN</td>\n      <td>AUD</td>\n      <td>0.30</td>\n      <td>3.3</td>\n      <td>10000</td>\n      <td>0</td>\n      <td>AUSTRALIA</td>\n    </tr>\n    <tr>\n      <th>4</th>\n      <td>COINFO</td>\n      <td>Amer Psych Ass.</td>\n      <td>AUD</td>\n      <td>0.33</td>\n      <td>3.3</td>\n      <td>10000</td>\n      <td>0</td>\n      <td>AUSTRALIA</td>\n    </tr>\n  </tbody>\n</table>\n</div>"
     },
     "metadata": {},
     "execution_count": 25
    }
   ],
   "source": [
    "# 4. get suppliers discount\n",
    "sup_pub = pd.read_excel('../../../../Vendors/.  Vendors Details\\supplier_procurement_details.xlsx',  sheet_name='pub')\n",
    "sup_pub.head()"
   ]
  },
  {
   "cell_type": "code",
   "execution_count": 26,
   "metadata": {},
   "outputs": [],
   "source": [
    "for col in ['Supplier', 'Publisher', 'Currency', 'Region']:\n",
    "    sup_pub[col] = sup_pub.apply(lambda x: clean_up(x[col]), axis =1)"
   ]
  },
  {
   "cell_type": "code",
   "execution_count": 27,
   "metadata": {},
   "outputs": [],
   "source": [
    "sup_list3 = pd.merge(sup_list2, sup_pub, how='inner', left_on = ['Currency', 'PublisherShort'], right_on = ['Currency', 'Publisher'] )"
   ]
  },
  {
   "cell_type": "code",
   "execution_count": 28,
   "metadata": {},
   "outputs": [
    {
     "output_type": "execute_result",
     "data": {
      "text/plain": "                 Isbn Currency   Price  \\\n0       9780000079145      GBP   67.00   \n1       9780000003201      GBP  265.00   \n2       9780000002402      GBP  306.00   \n3       9780000002679      GBP  425.00   \n4       9780000050090      GBP   17.99   \n...               ...      ...     ...   \n408926  9789027252722      AUD   78.95   \n408927  9789027212092      AUD   79.95   \n408928  9789027213273      AUD   78.95   \n408929  9789027219060      AUD   75.95   \n408930  9789027231949      AUD   75.95   \n\n                                                    Title  \\\n0                                                     N/A   \n1                                                     N/A   \n2                                                     N/A   \n3                                                     N/A   \n4                                                     N/A   \n...                                                   ...   \n408926  PIDGINS, CREOLES AND MIXED LANGUAGES: AN INTRO...   \n408927                    HISTORY OF THE ENGLISH LANGUAGE   \n408928                         PRONUNCIATION FUNDAMENTALS   \n408929  COGNITIVE EXPLORATION OF LANGUAGE AND LINGUISTICS   \n408930                FROM THE CLASSROOM TO THE COURTROOM   \n\n                      Publisher_x                              Author  \\\n0                             LWW                                 N/A   \n1                             LWW                                 N/A   \n2                             LWW                                 N/A   \n3                             LWW                                 N/A   \n4                             LWW                                 N/A   \n...                           ...                                 ...   \n408926  JOHN BENJAMINS PUBLISHING                   VIVEKA VELUPILLAI   \n408927  JOHN BENJAMINS PUBLISHING                   ELLY VAN GELDEREN   \n408928  JOHN BENJAMINS PUBLISHING  TRACEY M. DERWING; MURRAY J. MUNRO   \n408929  JOHN BENJAMINS PUBLISHING                         RENE DIRVEN   \n408930  JOHN BENJAMINS PUBLISHING                   ELENA M. DE JONGH   \n\n                    PublisherLong             PublisherShort Supplier  \\\n0                             LWW                        LWW      ABE   \n1                             LWW                        LWW      ABE   \n2                             LWW                        LWW      ABE   \n3                             LWW                        LWW      ABE   \n4                             LWW                        LWW      ABE   \n...                           ...                        ...      ...   \n408926  JOHN BENJAMINS PUBLISHING  JOHN BENJAMINS PUBLISHING   COINFO   \n408927  JOHN BENJAMINS PUBLISHING  JOHN BENJAMINS PUBLISHING   COINFO   \n408928  JOHN BENJAMINS PUBLISHING  JOHN BENJAMINS PUBLISHING   COINFO   \n408929  JOHN BENJAMINS PUBLISHING  JOHN BENJAMINS PUBLISHING   COINFO   \n408930  JOHN BENJAMINS PUBLISHING  JOHN BENJAMINS PUBLISHING   COINFO   \n\n                      Publisher_y  Discount  Shipping Cost  max quantity  Min  \\\n0                             LWW      0.55           3.47         10000    0   \n1                             LWW      0.55           3.47         10000    0   \n2                             LWW      0.55           3.47         10000    0   \n3                             LWW      0.55           3.47         10000    0   \n4                             LWW      0.55           3.47         10000    0   \n...                           ...       ...            ...           ...  ...   \n408926  JOHN BENJAMINS PUBLISHING      0.30           3.30         10000    0   \n408927  JOHN BENJAMINS PUBLISHING      0.30           3.30         10000    0   \n408928  JOHN BENJAMINS PUBLISHING      0.30           3.30         10000    0   \n408929  JOHN BENJAMINS PUBLISHING      0.30           3.30         10000    0   \n408930  JOHN BENJAMINS PUBLISHING      0.30           3.30         10000    0   \n\n           Region  \n0          EUROPE  \n1          EUROPE  \n2          EUROPE  \n3          EUROPE  \n4          EUROPE  \n...           ...  \n408926  AUSTRALIA  \n408927  AUSTRALIA  \n408928  AUSTRALIA  \n408929  AUSTRALIA  \n408930  AUSTRALIA  \n\n[408931 rows x 15 columns]",
      "text/html": "<div>\n<style scoped>\n    .dataframe tbody tr th:only-of-type {\n        vertical-align: middle;\n    }\n\n    .dataframe tbody tr th {\n        vertical-align: top;\n    }\n\n    .dataframe thead th {\n        text-align: right;\n    }\n</style>\n<table border=\"1\" class=\"dataframe\">\n  <thead>\n    <tr style=\"text-align: right;\">\n      <th></th>\n      <th>Isbn</th>\n      <th>Currency</th>\n      <th>Price</th>\n      <th>Title</th>\n      <th>Publisher_x</th>\n      <th>Author</th>\n      <th>PublisherLong</th>\n      <th>PublisherShort</th>\n      <th>Supplier</th>\n      <th>Publisher_y</th>\n      <th>Discount</th>\n      <th>Shipping Cost</th>\n      <th>max quantity</th>\n      <th>Min</th>\n      <th>Region</th>\n    </tr>\n  </thead>\n  <tbody>\n    <tr>\n      <th>0</th>\n      <td>9780000079145</td>\n      <td>GBP</td>\n      <td>67.00</td>\n      <td>N/A</td>\n      <td>LWW</td>\n      <td>N/A</td>\n      <td>LWW</td>\n      <td>LWW</td>\n      <td>ABE</td>\n      <td>LWW</td>\n      <td>0.55</td>\n      <td>3.47</td>\n      <td>10000</td>\n      <td>0</td>\n      <td>EUROPE</td>\n    </tr>\n    <tr>\n      <th>1</th>\n      <td>9780000003201</td>\n      <td>GBP</td>\n      <td>265.00</td>\n      <td>N/A</td>\n      <td>LWW</td>\n      <td>N/A</td>\n      <td>LWW</td>\n      <td>LWW</td>\n      <td>ABE</td>\n      <td>LWW</td>\n      <td>0.55</td>\n      <td>3.47</td>\n      <td>10000</td>\n      <td>0</td>\n      <td>EUROPE</td>\n    </tr>\n    <tr>\n      <th>2</th>\n      <td>9780000002402</td>\n      <td>GBP</td>\n      <td>306.00</td>\n      <td>N/A</td>\n      <td>LWW</td>\n      <td>N/A</td>\n      <td>LWW</td>\n      <td>LWW</td>\n      <td>ABE</td>\n      <td>LWW</td>\n      <td>0.55</td>\n      <td>3.47</td>\n      <td>10000</td>\n      <td>0</td>\n      <td>EUROPE</td>\n    </tr>\n    <tr>\n      <th>3</th>\n      <td>9780000002679</td>\n      <td>GBP</td>\n      <td>425.00</td>\n      <td>N/A</td>\n      <td>LWW</td>\n      <td>N/A</td>\n      <td>LWW</td>\n      <td>LWW</td>\n      <td>ABE</td>\n      <td>LWW</td>\n      <td>0.55</td>\n      <td>3.47</td>\n      <td>10000</td>\n      <td>0</td>\n      <td>EUROPE</td>\n    </tr>\n    <tr>\n      <th>4</th>\n      <td>9780000050090</td>\n      <td>GBP</td>\n      <td>17.99</td>\n      <td>N/A</td>\n      <td>LWW</td>\n      <td>N/A</td>\n      <td>LWW</td>\n      <td>LWW</td>\n      <td>ABE</td>\n      <td>LWW</td>\n      <td>0.55</td>\n      <td>3.47</td>\n      <td>10000</td>\n      <td>0</td>\n      <td>EUROPE</td>\n    </tr>\n    <tr>\n      <th>...</th>\n      <td>...</td>\n      <td>...</td>\n      <td>...</td>\n      <td>...</td>\n      <td>...</td>\n      <td>...</td>\n      <td>...</td>\n      <td>...</td>\n      <td>...</td>\n      <td>...</td>\n      <td>...</td>\n      <td>...</td>\n      <td>...</td>\n      <td>...</td>\n      <td>...</td>\n    </tr>\n    <tr>\n      <th>408926</th>\n      <td>9789027252722</td>\n      <td>AUD</td>\n      <td>78.95</td>\n      <td>PIDGINS, CREOLES AND MIXED LANGUAGES: AN INTRO...</td>\n      <td>JOHN BENJAMINS PUBLISHING</td>\n      <td>VIVEKA VELUPILLAI</td>\n      <td>JOHN BENJAMINS PUBLISHING</td>\n      <td>JOHN BENJAMINS PUBLISHING</td>\n      <td>COINFO</td>\n      <td>JOHN BENJAMINS PUBLISHING</td>\n      <td>0.30</td>\n      <td>3.30</td>\n      <td>10000</td>\n      <td>0</td>\n      <td>AUSTRALIA</td>\n    </tr>\n    <tr>\n      <th>408927</th>\n      <td>9789027212092</td>\n      <td>AUD</td>\n      <td>79.95</td>\n      <td>HISTORY OF THE ENGLISH LANGUAGE</td>\n      <td>JOHN BENJAMINS PUBLISHING</td>\n      <td>ELLY VAN GELDEREN</td>\n      <td>JOHN BENJAMINS PUBLISHING</td>\n      <td>JOHN BENJAMINS PUBLISHING</td>\n      <td>COINFO</td>\n      <td>JOHN BENJAMINS PUBLISHING</td>\n      <td>0.30</td>\n      <td>3.30</td>\n      <td>10000</td>\n      <td>0</td>\n      <td>AUSTRALIA</td>\n    </tr>\n    <tr>\n      <th>408928</th>\n      <td>9789027213273</td>\n      <td>AUD</td>\n      <td>78.95</td>\n      <td>PRONUNCIATION FUNDAMENTALS</td>\n      <td>JOHN BENJAMINS PUBLISHING</td>\n      <td>TRACEY M. DERWING; MURRAY J. MUNRO</td>\n      <td>JOHN BENJAMINS PUBLISHING</td>\n      <td>JOHN BENJAMINS PUBLISHING</td>\n      <td>COINFO</td>\n      <td>JOHN BENJAMINS PUBLISHING</td>\n      <td>0.30</td>\n      <td>3.30</td>\n      <td>10000</td>\n      <td>0</td>\n      <td>AUSTRALIA</td>\n    </tr>\n    <tr>\n      <th>408929</th>\n      <td>9789027219060</td>\n      <td>AUD</td>\n      <td>75.95</td>\n      <td>COGNITIVE EXPLORATION OF LANGUAGE AND LINGUISTICS</td>\n      <td>JOHN BENJAMINS PUBLISHING</td>\n      <td>RENE DIRVEN</td>\n      <td>JOHN BENJAMINS PUBLISHING</td>\n      <td>JOHN BENJAMINS PUBLISHING</td>\n      <td>COINFO</td>\n      <td>JOHN BENJAMINS PUBLISHING</td>\n      <td>0.30</td>\n      <td>3.30</td>\n      <td>10000</td>\n      <td>0</td>\n      <td>AUSTRALIA</td>\n    </tr>\n    <tr>\n      <th>408930</th>\n      <td>9789027231949</td>\n      <td>AUD</td>\n      <td>75.95</td>\n      <td>FROM THE CLASSROOM TO THE COURTROOM</td>\n      <td>JOHN BENJAMINS PUBLISHING</td>\n      <td>ELENA M. DE JONGH</td>\n      <td>JOHN BENJAMINS PUBLISHING</td>\n      <td>JOHN BENJAMINS PUBLISHING</td>\n      <td>COINFO</td>\n      <td>JOHN BENJAMINS PUBLISHING</td>\n      <td>0.30</td>\n      <td>3.30</td>\n      <td>10000</td>\n      <td>0</td>\n      <td>AUSTRALIA</td>\n    </tr>\n  </tbody>\n</table>\n<p>408931 rows × 15 columns</p>\n</div>"
     },
     "metadata": {},
     "execution_count": 28
    }
   ],
   "source": [
    "sup_list3"
   ]
  },
  {
   "cell_type": "code",
   "execution_count": 29,
   "metadata": {},
   "outputs": [],
   "source": [
    "sup_list3.drop(columns = ['Publisher_x', 'PublisherLong', 'Publisher_y'], inplace = True)"
   ]
  },
  {
   "cell_type": "code",
   "execution_count": 30,
   "metadata": {},
   "outputs": [
    {
     "output_type": "execute_result",
     "data": {
      "text/plain": "            Isbn Currency   Price Title Author PublisherShort Supplier  \\\n0  9780000079145      GBP   67.00   N/A    N/A            LWW      ABE   \n1  9780000003201      GBP  265.00   N/A    N/A            LWW      ABE   \n2  9780000002402      GBP  306.00   N/A    N/A            LWW      ABE   \n3  9780000002679      GBP  425.00   N/A    N/A            LWW      ABE   \n4  9780000050090      GBP   17.99   N/A    N/A            LWW      ABE   \n\n   Discount  Shipping Cost  max quantity  Min  Region  \n0      0.55           3.47         10000    0  EUROPE  \n1      0.55           3.47         10000    0  EUROPE  \n2      0.55           3.47         10000    0  EUROPE  \n3      0.55           3.47         10000    0  EUROPE  \n4      0.55           3.47         10000    0  EUROPE  ",
      "text/html": "<div>\n<style scoped>\n    .dataframe tbody tr th:only-of-type {\n        vertical-align: middle;\n    }\n\n    .dataframe tbody tr th {\n        vertical-align: top;\n    }\n\n    .dataframe thead th {\n        text-align: right;\n    }\n</style>\n<table border=\"1\" class=\"dataframe\">\n  <thead>\n    <tr style=\"text-align: right;\">\n      <th></th>\n      <th>Isbn</th>\n      <th>Currency</th>\n      <th>Price</th>\n      <th>Title</th>\n      <th>Author</th>\n      <th>PublisherShort</th>\n      <th>Supplier</th>\n      <th>Discount</th>\n      <th>Shipping Cost</th>\n      <th>max quantity</th>\n      <th>Min</th>\n      <th>Region</th>\n    </tr>\n  </thead>\n  <tbody>\n    <tr>\n      <th>0</th>\n      <td>9780000079145</td>\n      <td>GBP</td>\n      <td>67.00</td>\n      <td>N/A</td>\n      <td>N/A</td>\n      <td>LWW</td>\n      <td>ABE</td>\n      <td>0.55</td>\n      <td>3.47</td>\n      <td>10000</td>\n      <td>0</td>\n      <td>EUROPE</td>\n    </tr>\n    <tr>\n      <th>1</th>\n      <td>9780000003201</td>\n      <td>GBP</td>\n      <td>265.00</td>\n      <td>N/A</td>\n      <td>N/A</td>\n      <td>LWW</td>\n      <td>ABE</td>\n      <td>0.55</td>\n      <td>3.47</td>\n      <td>10000</td>\n      <td>0</td>\n      <td>EUROPE</td>\n    </tr>\n    <tr>\n      <th>2</th>\n      <td>9780000002402</td>\n      <td>GBP</td>\n      <td>306.00</td>\n      <td>N/A</td>\n      <td>N/A</td>\n      <td>LWW</td>\n      <td>ABE</td>\n      <td>0.55</td>\n      <td>3.47</td>\n      <td>10000</td>\n      <td>0</td>\n      <td>EUROPE</td>\n    </tr>\n    <tr>\n      <th>3</th>\n      <td>9780000002679</td>\n      <td>GBP</td>\n      <td>425.00</td>\n      <td>N/A</td>\n      <td>N/A</td>\n      <td>LWW</td>\n      <td>ABE</td>\n      <td>0.55</td>\n      <td>3.47</td>\n      <td>10000</td>\n      <td>0</td>\n      <td>EUROPE</td>\n    </tr>\n    <tr>\n      <th>4</th>\n      <td>9780000050090</td>\n      <td>GBP</td>\n      <td>17.99</td>\n      <td>N/A</td>\n      <td>N/A</td>\n      <td>LWW</td>\n      <td>ABE</td>\n      <td>0.55</td>\n      <td>3.47</td>\n      <td>10000</td>\n      <td>0</td>\n      <td>EUROPE</td>\n    </tr>\n  </tbody>\n</table>\n</div>"
     },
     "metadata": {},
     "execution_count": 30
    }
   ],
   "source": [
    "sup_list3.head()"
   ]
  },
  {
   "cell_type": "code",
   "execution_count": 31,
   "metadata": {},
   "outputs": [],
   "source": [
    "# 5. Check Suppliers special discounts\n",
    "sp_disc = pd.read_excel(\"../../../../Vendors/. Short Discounted/all_short_discount_list.xlsx\")"
   ]
  },
  {
   "cell_type": "code",
   "execution_count": 32,
   "metadata": {},
   "outputs": [
    {
     "output_type": "execute_result",
     "data": {
      "text/plain": "  SUPPLIER           ISBN  DISCOUNT\n0      ABE  9781408041734       0.2\n1      ABE  9781408041918       0.2\n2      ABE  9781408056509       0.2\n3      ABE  9781408060377       0.2\n4      ABE  9780534944827       0.3",
      "text/html": "<div>\n<style scoped>\n    .dataframe tbody tr th:only-of-type {\n        vertical-align: middle;\n    }\n\n    .dataframe tbody tr th {\n        vertical-align: top;\n    }\n\n    .dataframe thead th {\n        text-align: right;\n    }\n</style>\n<table border=\"1\" class=\"dataframe\">\n  <thead>\n    <tr style=\"text-align: right;\">\n      <th></th>\n      <th>SUPPLIER</th>\n      <th>ISBN</th>\n      <th>DISCOUNT</th>\n    </tr>\n  </thead>\n  <tbody>\n    <tr>\n      <th>0</th>\n      <td>ABE</td>\n      <td>9781408041734</td>\n      <td>0.2</td>\n    </tr>\n    <tr>\n      <th>1</th>\n      <td>ABE</td>\n      <td>9781408041918</td>\n      <td>0.2</td>\n    </tr>\n    <tr>\n      <th>2</th>\n      <td>ABE</td>\n      <td>9781408056509</td>\n      <td>0.2</td>\n    </tr>\n    <tr>\n      <th>3</th>\n      <td>ABE</td>\n      <td>9781408060377</td>\n      <td>0.2</td>\n    </tr>\n    <tr>\n      <th>4</th>\n      <td>ABE</td>\n      <td>9780534944827</td>\n      <td>0.3</td>\n    </tr>\n  </tbody>\n</table>\n</div>"
     },
     "metadata": {},
     "execution_count": 32
    }
   ],
   "source": [
    "sp_disc.head()"
   ]
  },
  {
   "cell_type": "code",
   "execution_count": 33,
   "metadata": {},
   "outputs": [
    {
     "output_type": "execute_result",
     "data": {
      "text/plain": "SUPPLIER     object\nISBN          int64\nDISCOUNT    float64\ndtype: object"
     },
     "metadata": {},
     "execution_count": 33
    }
   ],
   "source": [
    "sp_disc.dtypes"
   ]
  },
  {
   "cell_type": "code",
   "execution_count": 34,
   "metadata": {},
   "outputs": [
    {
     "output_type": "execute_result",
     "data": {
      "text/plain": "SUPPLIER     object\nISBN         object\nDISCOUNT    float64\ndtype: object"
     },
     "metadata": {},
     "execution_count": 34
    }
   ],
   "source": [
    "sp_disc['ISBN'] = sp_disc['ISBN'].astype(str)\n",
    "sp_disc.dtypes"
   ]
  },
  {
   "cell_type": "code",
   "execution_count": 35,
   "metadata": {},
   "outputs": [
    {
     "output_type": "execute_result",
     "data": {
      "text/plain": "  SUPPLIER           ISBN  DISCOUNT\n0      ABE  9781408041734       0.2\n1      ABE  9781408041918       0.2\n2      ABE  9781408056509       0.2\n3      ABE  9781408060377       0.2\n4      ABE  9780534944827       0.3",
      "text/html": "<div>\n<style scoped>\n    .dataframe tbody tr th:only-of-type {\n        vertical-align: middle;\n    }\n\n    .dataframe tbody tr th {\n        vertical-align: top;\n    }\n\n    .dataframe thead th {\n        text-align: right;\n    }\n</style>\n<table border=\"1\" class=\"dataframe\">\n  <thead>\n    <tr style=\"text-align: right;\">\n      <th></th>\n      <th>SUPPLIER</th>\n      <th>ISBN</th>\n      <th>DISCOUNT</th>\n    </tr>\n  </thead>\n  <tbody>\n    <tr>\n      <th>0</th>\n      <td>ABE</td>\n      <td>9781408041734</td>\n      <td>0.2</td>\n    </tr>\n    <tr>\n      <th>1</th>\n      <td>ABE</td>\n      <td>9781408041918</td>\n      <td>0.2</td>\n    </tr>\n    <tr>\n      <th>2</th>\n      <td>ABE</td>\n      <td>9781408056509</td>\n      <td>0.2</td>\n    </tr>\n    <tr>\n      <th>3</th>\n      <td>ABE</td>\n      <td>9781408060377</td>\n      <td>0.2</td>\n    </tr>\n    <tr>\n      <th>4</th>\n      <td>ABE</td>\n      <td>9780534944827</td>\n      <td>0.3</td>\n    </tr>\n  </tbody>\n</table>\n</div>"
     },
     "metadata": {},
     "execution_count": 35
    }
   ],
   "source": [
    "for col in ['SUPPLIER', 'ISBN']:\n",
    "    sp_disc[col] = sp_disc.apply(lambda x: clean_up(x[col]), axis =1)\n",
    "\n",
    "sp_disc.head()"
   ]
  },
  {
   "cell_type": "code",
   "execution_count": 36,
   "metadata": {},
   "outputs": [],
   "source": [
    "sup_list4 = pd.merge(sup_list3, sp_disc, how='left', left_on = ['Supplier', 'Isbn'], right_on = ['SUPPLIER', 'ISBN'] )"
   ]
  },
  {
   "cell_type": "code",
   "execution_count": 37,
   "metadata": {},
   "outputs": [
    {
     "output_type": "execute_result",
     "data": {
      "text/plain": "            Isbn Currency   Price Title Author PublisherShort Supplier  \\\n0  9780000079145      GBP   67.00   N/A    N/A            LWW      ABE   \n1  9780000003201      GBP  265.00   N/A    N/A            LWW      ABE   \n2  9780000002402      GBP  306.00   N/A    N/A            LWW      ABE   \n3  9780000002679      GBP  425.00   N/A    N/A            LWW      ABE   \n4  9780000050090      GBP   17.99   N/A    N/A            LWW      ABE   \n\n   Discount  Shipping Cost  max quantity  Min  Region SUPPLIER ISBN  DISCOUNT  \n0      0.55           3.47         10000    0  EUROPE      NaN  NaN       NaN  \n1      0.55           3.47         10000    0  EUROPE      NaN  NaN       NaN  \n2      0.55           3.47         10000    0  EUROPE      NaN  NaN       NaN  \n3      0.55           3.47         10000    0  EUROPE      NaN  NaN       NaN  \n4      0.55           3.47         10000    0  EUROPE      NaN  NaN       NaN  ",
      "text/html": "<div>\n<style scoped>\n    .dataframe tbody tr th:only-of-type {\n        vertical-align: middle;\n    }\n\n    .dataframe tbody tr th {\n        vertical-align: top;\n    }\n\n    .dataframe thead th {\n        text-align: right;\n    }\n</style>\n<table border=\"1\" class=\"dataframe\">\n  <thead>\n    <tr style=\"text-align: right;\">\n      <th></th>\n      <th>Isbn</th>\n      <th>Currency</th>\n      <th>Price</th>\n      <th>Title</th>\n      <th>Author</th>\n      <th>PublisherShort</th>\n      <th>Supplier</th>\n      <th>Discount</th>\n      <th>Shipping Cost</th>\n      <th>max quantity</th>\n      <th>Min</th>\n      <th>Region</th>\n      <th>SUPPLIER</th>\n      <th>ISBN</th>\n      <th>DISCOUNT</th>\n    </tr>\n  </thead>\n  <tbody>\n    <tr>\n      <th>0</th>\n      <td>9780000079145</td>\n      <td>GBP</td>\n      <td>67.00</td>\n      <td>N/A</td>\n      <td>N/A</td>\n      <td>LWW</td>\n      <td>ABE</td>\n      <td>0.55</td>\n      <td>3.47</td>\n      <td>10000</td>\n      <td>0</td>\n      <td>EUROPE</td>\n      <td>NaN</td>\n      <td>NaN</td>\n      <td>NaN</td>\n    </tr>\n    <tr>\n      <th>1</th>\n      <td>9780000003201</td>\n      <td>GBP</td>\n      <td>265.00</td>\n      <td>N/A</td>\n      <td>N/A</td>\n      <td>LWW</td>\n      <td>ABE</td>\n      <td>0.55</td>\n      <td>3.47</td>\n      <td>10000</td>\n      <td>0</td>\n      <td>EUROPE</td>\n      <td>NaN</td>\n      <td>NaN</td>\n      <td>NaN</td>\n    </tr>\n    <tr>\n      <th>2</th>\n      <td>9780000002402</td>\n      <td>GBP</td>\n      <td>306.00</td>\n      <td>N/A</td>\n      <td>N/A</td>\n      <td>LWW</td>\n      <td>ABE</td>\n      <td>0.55</td>\n      <td>3.47</td>\n      <td>10000</td>\n      <td>0</td>\n      <td>EUROPE</td>\n      <td>NaN</td>\n      <td>NaN</td>\n      <td>NaN</td>\n    </tr>\n    <tr>\n      <th>3</th>\n      <td>9780000002679</td>\n      <td>GBP</td>\n      <td>425.00</td>\n      <td>N/A</td>\n      <td>N/A</td>\n      <td>LWW</td>\n      <td>ABE</td>\n      <td>0.55</td>\n      <td>3.47</td>\n      <td>10000</td>\n      <td>0</td>\n      <td>EUROPE</td>\n      <td>NaN</td>\n      <td>NaN</td>\n      <td>NaN</td>\n    </tr>\n    <tr>\n      <th>4</th>\n      <td>9780000050090</td>\n      <td>GBP</td>\n      <td>17.99</td>\n      <td>N/A</td>\n      <td>N/A</td>\n      <td>LWW</td>\n      <td>ABE</td>\n      <td>0.55</td>\n      <td>3.47</td>\n      <td>10000</td>\n      <td>0</td>\n      <td>EUROPE</td>\n      <td>NaN</td>\n      <td>NaN</td>\n      <td>NaN</td>\n    </tr>\n  </tbody>\n</table>\n</div>"
     },
     "metadata": {},
     "execution_count": 37
    }
   ],
   "source": [
    "sup_list4.head()"
   ]
  },
  {
   "cell_type": "code",
   "execution_count": 38,
   "metadata": {},
   "outputs": [
    {
     "output_type": "execute_result",
     "data": {
      "text/plain": "                 Isbn Currency  Price  \\\n38      9780781750554      GBP   48.5   \n60      9780781763103      GBP   59.0   \n69      9780781768702      GBP   55.0   \n113     9780781775663      GBP   31.5   \n129     9780781782678      GBP   68.0   \n...               ...      ...    ...   \n405765  9781975123895      GBP  270.0   \n405767  9781975127152      GBP  158.0   \n405790  9781975122676      GBP  240.0   \n405791  9781975123697      GBP  270.0   \n405793  9781975136420      GBP  150.0   \n\n                                                    Title  \\\n38                                     APPLIED PHLEBOTOMY   \n60      PHARMACEUTICAL CALCULATIONS FOR THE PHARMACY T...   \n69      ACSM'S RESOURCES FOR CLINICAL EXERCISE PHYSIOLOGY   \n113     STUDY GUIDE FOR PHARMACOLOGY FOR HEALTH PROFES...   \n129     ACSM'S FOUNDATIONS OF STRENGTH TRAINING AND CO...   \n...                                                   ...   \n405765                                                N/A   \n405767  ORTHOPAEDIC KNOWLEDGE UPDATE: FOOT AND ANKLE 6...   \n405790                                                N/A   \n405791                                                N/A   \n405793             5-MINUTE CLINICAL CONSULT PREMIUM 2020   \n\n                                                   Author PublisherShort  \\\n38                                        DENNIS J. ERNST            LWW   \n60                                         BARBARA LACHER            LWW   \n69                    AMERICAN COLLEGE OF SPORTS MEDICINE            LWW   \n113                                          RENEE ACOSTA            LWW   \n129     AMERICAN COLLEGE OF SPORTS MEDICINE (ACSM) STA...            LWW   \n...                                                   ...            ...   \n405765                                                N/A       W KLUWER   \n405767                                                N/A       W KLUWER   \n405790                                                N/A       W KLUWER   \n405791                                                N/A       W KLUWER   \n405793                                    FRANK J. DOMINO       W KLUWER   \n\n       Supplier  Discount  Shipping Cost  max quantity  Min  Region SUPPLIER  \\\n38          ABE      0.55           3.47         10000    0  EUROPE      ABE   \n60          ABE      0.55           3.47         10000    0  EUROPE      ABE   \n69          ABE      0.55           3.47         10000    0  EUROPE      ABE   \n113         ABE      0.55           3.47         10000    0  EUROPE      ABE   \n129         ABE      0.55           3.47         10000    0  EUROPE      ABE   \n...         ...       ...            ...           ...  ...     ...      ...   \n405765      ABE      0.55           3.47         10000    0  EUROPE      ABE   \n405767      ABE      0.55           3.47         10000    0  EUROPE      ABE   \n405790      ABE      0.55           3.47         10000    0  EUROPE      ABE   \n405791      ABE      0.55           3.47         10000    0  EUROPE      ABE   \n405793      ABE      0.55           3.47         10000    0  EUROPE      ABE   \n\n                 ISBN  DISCOUNT  \n38      9780781750554      0.35  \n60      9780781763103      0.35  \n69      9780781768702      0.35  \n113     9780781775663      0.35  \n129     9780781782678      0.35  \n...               ...       ...  \n405765  9781975123895      0.35  \n405767  9781975127152      0.35  \n405790  9781975122676      0.35  \n405791  9781975123697      0.35  \n405793  9781975136420      0.35  \n\n[926 rows x 15 columns]",
      "text/html": "<div>\n<style scoped>\n    .dataframe tbody tr th:only-of-type {\n        vertical-align: middle;\n    }\n\n    .dataframe tbody tr th {\n        vertical-align: top;\n    }\n\n    .dataframe thead th {\n        text-align: right;\n    }\n</style>\n<table border=\"1\" class=\"dataframe\">\n  <thead>\n    <tr style=\"text-align: right;\">\n      <th></th>\n      <th>Isbn</th>\n      <th>Currency</th>\n      <th>Price</th>\n      <th>Title</th>\n      <th>Author</th>\n      <th>PublisherShort</th>\n      <th>Supplier</th>\n      <th>Discount</th>\n      <th>Shipping Cost</th>\n      <th>max quantity</th>\n      <th>Min</th>\n      <th>Region</th>\n      <th>SUPPLIER</th>\n      <th>ISBN</th>\n      <th>DISCOUNT</th>\n    </tr>\n  </thead>\n  <tbody>\n    <tr>\n      <th>38</th>\n      <td>9780781750554</td>\n      <td>GBP</td>\n      <td>48.5</td>\n      <td>APPLIED PHLEBOTOMY</td>\n      <td>DENNIS J. ERNST</td>\n      <td>LWW</td>\n      <td>ABE</td>\n      <td>0.55</td>\n      <td>3.47</td>\n      <td>10000</td>\n      <td>0</td>\n      <td>EUROPE</td>\n      <td>ABE</td>\n      <td>9780781750554</td>\n      <td>0.35</td>\n    </tr>\n    <tr>\n      <th>60</th>\n      <td>9780781763103</td>\n      <td>GBP</td>\n      <td>59.0</td>\n      <td>PHARMACEUTICAL CALCULATIONS FOR THE PHARMACY T...</td>\n      <td>BARBARA LACHER</td>\n      <td>LWW</td>\n      <td>ABE</td>\n      <td>0.55</td>\n      <td>3.47</td>\n      <td>10000</td>\n      <td>0</td>\n      <td>EUROPE</td>\n      <td>ABE</td>\n      <td>9780781763103</td>\n      <td>0.35</td>\n    </tr>\n    <tr>\n      <th>69</th>\n      <td>9780781768702</td>\n      <td>GBP</td>\n      <td>55.0</td>\n      <td>ACSM'S RESOURCES FOR CLINICAL EXERCISE PHYSIOLOGY</td>\n      <td>AMERICAN COLLEGE OF SPORTS MEDICINE</td>\n      <td>LWW</td>\n      <td>ABE</td>\n      <td>0.55</td>\n      <td>3.47</td>\n      <td>10000</td>\n      <td>0</td>\n      <td>EUROPE</td>\n      <td>ABE</td>\n      <td>9780781768702</td>\n      <td>0.35</td>\n    </tr>\n    <tr>\n      <th>113</th>\n      <td>9780781775663</td>\n      <td>GBP</td>\n      <td>31.5</td>\n      <td>STUDY GUIDE FOR PHARMACOLOGY FOR HEALTH PROFES...</td>\n      <td>RENEE ACOSTA</td>\n      <td>LWW</td>\n      <td>ABE</td>\n      <td>0.55</td>\n      <td>3.47</td>\n      <td>10000</td>\n      <td>0</td>\n      <td>EUROPE</td>\n      <td>ABE</td>\n      <td>9780781775663</td>\n      <td>0.35</td>\n    </tr>\n    <tr>\n      <th>129</th>\n      <td>9780781782678</td>\n      <td>GBP</td>\n      <td>68.0</td>\n      <td>ACSM'S FOUNDATIONS OF STRENGTH TRAINING AND CO...</td>\n      <td>AMERICAN COLLEGE OF SPORTS MEDICINE (ACSM) STA...</td>\n      <td>LWW</td>\n      <td>ABE</td>\n      <td>0.55</td>\n      <td>3.47</td>\n      <td>10000</td>\n      <td>0</td>\n      <td>EUROPE</td>\n      <td>ABE</td>\n      <td>9780781782678</td>\n      <td>0.35</td>\n    </tr>\n    <tr>\n      <th>...</th>\n      <td>...</td>\n      <td>...</td>\n      <td>...</td>\n      <td>...</td>\n      <td>...</td>\n      <td>...</td>\n      <td>...</td>\n      <td>...</td>\n      <td>...</td>\n      <td>...</td>\n      <td>...</td>\n      <td>...</td>\n      <td>...</td>\n      <td>...</td>\n      <td>...</td>\n    </tr>\n    <tr>\n      <th>405765</th>\n      <td>9781975123895</td>\n      <td>GBP</td>\n      <td>270.0</td>\n      <td>N/A</td>\n      <td>N/A</td>\n      <td>W KLUWER</td>\n      <td>ABE</td>\n      <td>0.55</td>\n      <td>3.47</td>\n      <td>10000</td>\n      <td>0</td>\n      <td>EUROPE</td>\n      <td>ABE</td>\n      <td>9781975123895</td>\n      <td>0.35</td>\n    </tr>\n    <tr>\n      <th>405767</th>\n      <td>9781975127152</td>\n      <td>GBP</td>\n      <td>158.0</td>\n      <td>ORTHOPAEDIC KNOWLEDGE UPDATE: FOOT AND ANKLE 6...</td>\n      <td>N/A</td>\n      <td>W KLUWER</td>\n      <td>ABE</td>\n      <td>0.55</td>\n      <td>3.47</td>\n      <td>10000</td>\n      <td>0</td>\n      <td>EUROPE</td>\n      <td>ABE</td>\n      <td>9781975127152</td>\n      <td>0.35</td>\n    </tr>\n    <tr>\n      <th>405790</th>\n      <td>9781975122676</td>\n      <td>GBP</td>\n      <td>240.0</td>\n      <td>N/A</td>\n      <td>N/A</td>\n      <td>W KLUWER</td>\n      <td>ABE</td>\n      <td>0.55</td>\n      <td>3.47</td>\n      <td>10000</td>\n      <td>0</td>\n      <td>EUROPE</td>\n      <td>ABE</td>\n      <td>9781975122676</td>\n      <td>0.35</td>\n    </tr>\n    <tr>\n      <th>405791</th>\n      <td>9781975123697</td>\n      <td>GBP</td>\n      <td>270.0</td>\n      <td>N/A</td>\n      <td>N/A</td>\n      <td>W KLUWER</td>\n      <td>ABE</td>\n      <td>0.55</td>\n      <td>3.47</td>\n      <td>10000</td>\n      <td>0</td>\n      <td>EUROPE</td>\n      <td>ABE</td>\n      <td>9781975123697</td>\n      <td>0.35</td>\n    </tr>\n    <tr>\n      <th>405793</th>\n      <td>9781975136420</td>\n      <td>GBP</td>\n      <td>150.0</td>\n      <td>5-MINUTE CLINICAL CONSULT PREMIUM 2020</td>\n      <td>FRANK J. DOMINO</td>\n      <td>W KLUWER</td>\n      <td>ABE</td>\n      <td>0.55</td>\n      <td>3.47</td>\n      <td>10000</td>\n      <td>0</td>\n      <td>EUROPE</td>\n      <td>ABE</td>\n      <td>9781975136420</td>\n      <td>0.35</td>\n    </tr>\n  </tbody>\n</table>\n<p>926 rows × 15 columns</p>\n</div>"
     },
     "metadata": {},
     "execution_count": 38
    }
   ],
   "source": [
    "sup_list4[sup_list4['SUPPLIER']=='ABE']"
   ]
  },
  {
   "cell_type": "code",
   "execution_count": 39,
   "metadata": {},
   "outputs": [
    {
     "output_type": "execute_result",
     "data": {
      "text/plain": "Isbn                   0\nCurrency               0\nPrice                  0\nTitle                  0\nAuthor                 0\nPublisherShort         0\nSupplier               0\nDiscount               0\nShipping Cost          0\nmax quantity           0\nMin                    0\nRegion                 0\nSUPPLIER          407448\nISBN              407448\nDISCOUNT          407448\ndtype: int64"
     },
     "metadata": {},
     "execution_count": 39
    }
   ],
   "source": [
    "sup_list4.isna().sum()"
   ]
  },
  {
   "cell_type": "code",
   "execution_count": 40,
   "metadata": {},
   "outputs": [],
   "source": [
    "sup_list4['final_discount'] = np.where(sup_list4['DISCOUNT'].isna(), sup_list4['Discount'],sup_list4['DISCOUNT'])"
   ]
  },
  {
   "cell_type": "code",
   "execution_count": 41,
   "metadata": {},
   "outputs": [
    {
     "output_type": "execute_result",
     "data": {
      "text/plain": "            Isbn Currency   Price Title Author PublisherShort Supplier  \\\n0  9780000079145      GBP   67.00   N/A    N/A            LWW      ABE   \n1  9780000003201      GBP  265.00   N/A    N/A            LWW      ABE   \n2  9780000002402      GBP  306.00   N/A    N/A            LWW      ABE   \n3  9780000002679      GBP  425.00   N/A    N/A            LWW      ABE   \n4  9780000050090      GBP   17.99   N/A    N/A            LWW      ABE   \n\n   Discount  Shipping Cost  max quantity  Min  Region SUPPLIER ISBN  DISCOUNT  \\\n0      0.55           3.47         10000    0  EUROPE      NaN  NaN       NaN   \n1      0.55           3.47         10000    0  EUROPE      NaN  NaN       NaN   \n2      0.55           3.47         10000    0  EUROPE      NaN  NaN       NaN   \n3      0.55           3.47         10000    0  EUROPE      NaN  NaN       NaN   \n4      0.55           3.47         10000    0  EUROPE      NaN  NaN       NaN   \n\n   final_discount  \n0            0.55  \n1            0.55  \n2            0.55  \n3            0.55  \n4            0.55  ",
      "text/html": "<div>\n<style scoped>\n    .dataframe tbody tr th:only-of-type {\n        vertical-align: middle;\n    }\n\n    .dataframe tbody tr th {\n        vertical-align: top;\n    }\n\n    .dataframe thead th {\n        text-align: right;\n    }\n</style>\n<table border=\"1\" class=\"dataframe\">\n  <thead>\n    <tr style=\"text-align: right;\">\n      <th></th>\n      <th>Isbn</th>\n      <th>Currency</th>\n      <th>Price</th>\n      <th>Title</th>\n      <th>Author</th>\n      <th>PublisherShort</th>\n      <th>Supplier</th>\n      <th>Discount</th>\n      <th>Shipping Cost</th>\n      <th>max quantity</th>\n      <th>Min</th>\n      <th>Region</th>\n      <th>SUPPLIER</th>\n      <th>ISBN</th>\n      <th>DISCOUNT</th>\n      <th>final_discount</th>\n    </tr>\n  </thead>\n  <tbody>\n    <tr>\n      <th>0</th>\n      <td>9780000079145</td>\n      <td>GBP</td>\n      <td>67.00</td>\n      <td>N/A</td>\n      <td>N/A</td>\n      <td>LWW</td>\n      <td>ABE</td>\n      <td>0.55</td>\n      <td>3.47</td>\n      <td>10000</td>\n      <td>0</td>\n      <td>EUROPE</td>\n      <td>NaN</td>\n      <td>NaN</td>\n      <td>NaN</td>\n      <td>0.55</td>\n    </tr>\n    <tr>\n      <th>1</th>\n      <td>9780000003201</td>\n      <td>GBP</td>\n      <td>265.00</td>\n      <td>N/A</td>\n      <td>N/A</td>\n      <td>LWW</td>\n      <td>ABE</td>\n      <td>0.55</td>\n      <td>3.47</td>\n      <td>10000</td>\n      <td>0</td>\n      <td>EUROPE</td>\n      <td>NaN</td>\n      <td>NaN</td>\n      <td>NaN</td>\n      <td>0.55</td>\n    </tr>\n    <tr>\n      <th>2</th>\n      <td>9780000002402</td>\n      <td>GBP</td>\n      <td>306.00</td>\n      <td>N/A</td>\n      <td>N/A</td>\n      <td>LWW</td>\n      <td>ABE</td>\n      <td>0.55</td>\n      <td>3.47</td>\n      <td>10000</td>\n      <td>0</td>\n      <td>EUROPE</td>\n      <td>NaN</td>\n      <td>NaN</td>\n      <td>NaN</td>\n      <td>0.55</td>\n    </tr>\n    <tr>\n      <th>3</th>\n      <td>9780000002679</td>\n      <td>GBP</td>\n      <td>425.00</td>\n      <td>N/A</td>\n      <td>N/A</td>\n      <td>LWW</td>\n      <td>ABE</td>\n      <td>0.55</td>\n      <td>3.47</td>\n      <td>10000</td>\n      <td>0</td>\n      <td>EUROPE</td>\n      <td>NaN</td>\n      <td>NaN</td>\n      <td>NaN</td>\n      <td>0.55</td>\n    </tr>\n    <tr>\n      <th>4</th>\n      <td>9780000050090</td>\n      <td>GBP</td>\n      <td>17.99</td>\n      <td>N/A</td>\n      <td>N/A</td>\n      <td>LWW</td>\n      <td>ABE</td>\n      <td>0.55</td>\n      <td>3.47</td>\n      <td>10000</td>\n      <td>0</td>\n      <td>EUROPE</td>\n      <td>NaN</td>\n      <td>NaN</td>\n      <td>NaN</td>\n      <td>0.55</td>\n    </tr>\n  </tbody>\n</table>\n</div>"
     },
     "metadata": {},
     "execution_count": 41
    }
   ],
   "source": [
    "sup_list4.head()"
   ]
  },
  {
   "cell_type": "code",
   "execution_count": 42,
   "metadata": {},
   "outputs": [
    {
     "output_type": "execute_result",
     "data": {
      "text/plain": "Empty DataFrame\nColumns: [Isbn, Currency, Price, Title, Author, PublisherShort, Supplier, Discount, Shipping Cost, max quantity, Min, Region, SUPPLIER, ISBN, DISCOUNT, final_discount]\nIndex: []",
      "text/html": "<div>\n<style scoped>\n    .dataframe tbody tr th:only-of-type {\n        vertical-align: middle;\n    }\n\n    .dataframe tbody tr th {\n        vertical-align: top;\n    }\n\n    .dataframe thead th {\n        text-align: right;\n    }\n</style>\n<table border=\"1\" class=\"dataframe\">\n  <thead>\n    <tr style=\"text-align: right;\">\n      <th></th>\n      <th>Isbn</th>\n      <th>Currency</th>\n      <th>Price</th>\n      <th>Title</th>\n      <th>Author</th>\n      <th>PublisherShort</th>\n      <th>Supplier</th>\n      <th>Discount</th>\n      <th>Shipping Cost</th>\n      <th>max quantity</th>\n      <th>Min</th>\n      <th>Region</th>\n      <th>SUPPLIER</th>\n      <th>ISBN</th>\n      <th>DISCOUNT</th>\n      <th>final_discount</th>\n    </tr>\n  </thead>\n  <tbody>\n  </tbody>\n</table>\n</div>"
     },
     "metadata": {},
     "execution_count": 42
    }
   ],
   "source": [
    "sup_list4[sup_list4['Isbn'] == '9780781762021']"
   ]
  },
  {
   "cell_type": "code",
   "execution_count": 43,
   "metadata": {},
   "outputs": [],
   "source": [
    "sup_list4 = sup_list4[['Isbn','Title', 'Author', 'PublisherShort', 'Supplier','Currency', 'Price', 'final_discount' ,'Shipping Cost', 'max quantity', 'Min', 'Region']]"
   ]
  },
  {
   "cell_type": "code",
   "execution_count": 44,
   "metadata": {},
   "outputs": [
    {
     "output_type": "execute_result",
     "data": {
      "text/plain": "            Isbn Title Author PublisherShort Supplier Currency   Price  \\\n0  9780000079145   N/A    N/A            LWW      ABE      GBP   67.00   \n1  9780000003201   N/A    N/A            LWW      ABE      GBP  265.00   \n2  9780000002402   N/A    N/A            LWW      ABE      GBP  306.00   \n3  9780000002679   N/A    N/A            LWW      ABE      GBP  425.00   \n4  9780000050090   N/A    N/A            LWW      ABE      GBP   17.99   \n\n   final_discount  Shipping Cost  max quantity  Min  Region  \n0            0.55           3.47         10000    0  EUROPE  \n1            0.55           3.47         10000    0  EUROPE  \n2            0.55           3.47         10000    0  EUROPE  \n3            0.55           3.47         10000    0  EUROPE  \n4            0.55           3.47         10000    0  EUROPE  ",
      "text/html": "<div>\n<style scoped>\n    .dataframe tbody tr th:only-of-type {\n        vertical-align: middle;\n    }\n\n    .dataframe tbody tr th {\n        vertical-align: top;\n    }\n\n    .dataframe thead th {\n        text-align: right;\n    }\n</style>\n<table border=\"1\" class=\"dataframe\">\n  <thead>\n    <tr style=\"text-align: right;\">\n      <th></th>\n      <th>Isbn</th>\n      <th>Title</th>\n      <th>Author</th>\n      <th>PublisherShort</th>\n      <th>Supplier</th>\n      <th>Currency</th>\n      <th>Price</th>\n      <th>final_discount</th>\n      <th>Shipping Cost</th>\n      <th>max quantity</th>\n      <th>Min</th>\n      <th>Region</th>\n    </tr>\n  </thead>\n  <tbody>\n    <tr>\n      <th>0</th>\n      <td>9780000079145</td>\n      <td>N/A</td>\n      <td>N/A</td>\n      <td>LWW</td>\n      <td>ABE</td>\n      <td>GBP</td>\n      <td>67.00</td>\n      <td>0.55</td>\n      <td>3.47</td>\n      <td>10000</td>\n      <td>0</td>\n      <td>EUROPE</td>\n    </tr>\n    <tr>\n      <th>1</th>\n      <td>9780000003201</td>\n      <td>N/A</td>\n      <td>N/A</td>\n      <td>LWW</td>\n      <td>ABE</td>\n      <td>GBP</td>\n      <td>265.00</td>\n      <td>0.55</td>\n      <td>3.47</td>\n      <td>10000</td>\n      <td>0</td>\n      <td>EUROPE</td>\n    </tr>\n    <tr>\n      <th>2</th>\n      <td>9780000002402</td>\n      <td>N/A</td>\n      <td>N/A</td>\n      <td>LWW</td>\n      <td>ABE</td>\n      <td>GBP</td>\n      <td>306.00</td>\n      <td>0.55</td>\n      <td>3.47</td>\n      <td>10000</td>\n      <td>0</td>\n      <td>EUROPE</td>\n    </tr>\n    <tr>\n      <th>3</th>\n      <td>9780000002679</td>\n      <td>N/A</td>\n      <td>N/A</td>\n      <td>LWW</td>\n      <td>ABE</td>\n      <td>GBP</td>\n      <td>425.00</td>\n      <td>0.55</td>\n      <td>3.47</td>\n      <td>10000</td>\n      <td>0</td>\n      <td>EUROPE</td>\n    </tr>\n    <tr>\n      <th>4</th>\n      <td>9780000050090</td>\n      <td>N/A</td>\n      <td>N/A</td>\n      <td>LWW</td>\n      <td>ABE</td>\n      <td>GBP</td>\n      <td>17.99</td>\n      <td>0.55</td>\n      <td>3.47</td>\n      <td>10000</td>\n      <td>0</td>\n      <td>EUROPE</td>\n    </tr>\n  </tbody>\n</table>\n</div>"
     },
     "metadata": {},
     "execution_count": 44
    }
   ],
   "source": [
    "sup_list4.head()"
   ]
  },
  {
   "cell_type": "code",
   "execution_count": 45,
   "metadata": {},
   "outputs": [],
   "source": [
    "sup_list4.columns = map(str.lower, sup_list4.columns)"
   ]
  },
  {
   "cell_type": "code",
   "execution_count": 46,
   "metadata": {},
   "outputs": [
    {
     "output_type": "execute_result",
     "data": {
      "text/plain": "            isbn title author publishershort supplier currency   price  \\\n0  9780000079145   N/A    N/A            LWW      ABE      GBP   67.00   \n1  9780000003201   N/A    N/A            LWW      ABE      GBP  265.00   \n2  9780000002402   N/A    N/A            LWW      ABE      GBP  306.00   \n3  9780000002679   N/A    N/A            LWW      ABE      GBP  425.00   \n4  9780000050090   N/A    N/A            LWW      ABE      GBP   17.99   \n\n   final_discount  shipping cost  max quantity  min  region  \n0            0.55           3.47         10000    0  EUROPE  \n1            0.55           3.47         10000    0  EUROPE  \n2            0.55           3.47         10000    0  EUROPE  \n3            0.55           3.47         10000    0  EUROPE  \n4            0.55           3.47         10000    0  EUROPE  ",
      "text/html": "<div>\n<style scoped>\n    .dataframe tbody tr th:only-of-type {\n        vertical-align: middle;\n    }\n\n    .dataframe tbody tr th {\n        vertical-align: top;\n    }\n\n    .dataframe thead th {\n        text-align: right;\n    }\n</style>\n<table border=\"1\" class=\"dataframe\">\n  <thead>\n    <tr style=\"text-align: right;\">\n      <th></th>\n      <th>isbn</th>\n      <th>title</th>\n      <th>author</th>\n      <th>publishershort</th>\n      <th>supplier</th>\n      <th>currency</th>\n      <th>price</th>\n      <th>final_discount</th>\n      <th>shipping cost</th>\n      <th>max quantity</th>\n      <th>min</th>\n      <th>region</th>\n    </tr>\n  </thead>\n  <tbody>\n    <tr>\n      <th>0</th>\n      <td>9780000079145</td>\n      <td>N/A</td>\n      <td>N/A</td>\n      <td>LWW</td>\n      <td>ABE</td>\n      <td>GBP</td>\n      <td>67.00</td>\n      <td>0.55</td>\n      <td>3.47</td>\n      <td>10000</td>\n      <td>0</td>\n      <td>EUROPE</td>\n    </tr>\n    <tr>\n      <th>1</th>\n      <td>9780000003201</td>\n      <td>N/A</td>\n      <td>N/A</td>\n      <td>LWW</td>\n      <td>ABE</td>\n      <td>GBP</td>\n      <td>265.00</td>\n      <td>0.55</td>\n      <td>3.47</td>\n      <td>10000</td>\n      <td>0</td>\n      <td>EUROPE</td>\n    </tr>\n    <tr>\n      <th>2</th>\n      <td>9780000002402</td>\n      <td>N/A</td>\n      <td>N/A</td>\n      <td>LWW</td>\n      <td>ABE</td>\n      <td>GBP</td>\n      <td>306.00</td>\n      <td>0.55</td>\n      <td>3.47</td>\n      <td>10000</td>\n      <td>0</td>\n      <td>EUROPE</td>\n    </tr>\n    <tr>\n      <th>3</th>\n      <td>9780000002679</td>\n      <td>N/A</td>\n      <td>N/A</td>\n      <td>LWW</td>\n      <td>ABE</td>\n      <td>GBP</td>\n      <td>425.00</td>\n      <td>0.55</td>\n      <td>3.47</td>\n      <td>10000</td>\n      <td>0</td>\n      <td>EUROPE</td>\n    </tr>\n    <tr>\n      <th>4</th>\n      <td>9780000050090</td>\n      <td>N/A</td>\n      <td>N/A</td>\n      <td>LWW</td>\n      <td>ABE</td>\n      <td>GBP</td>\n      <td>17.99</td>\n      <td>0.55</td>\n      <td>3.47</td>\n      <td>10000</td>\n      <td>0</td>\n      <td>EUROPE</td>\n    </tr>\n  </tbody>\n</table>\n</div>"
     },
     "metadata": {},
     "execution_count": 46
    }
   ],
   "source": [
    "sup_list4.head()"
   ]
  },
  {
   "cell_type": "code",
   "execution_count": 47,
   "metadata": {},
   "outputs": [
    {
     "output_type": "execute_result",
     "data": {
      "text/plain": "             isbn currency  price title publisher author publisherlong  \\\n22  9780006392828      CND  19.95   N/A       N/A    N/A           N/A   \n23  9780006392910      CND  18.95   N/A       N/A    N/A           N/A   \n24  9780006393146      CND  19.95   N/A       N/A    N/A           N/A   \n25  9780006393740      CND  16.99   N/A       N/A    N/A           N/A   \n26  9780006394914      CND  19.95   N/A       N/A    N/A           N/A   \n\n   publishershort supplier  final_discount  max quantity         region  \\\n22            N/A       WC             0.1         10000  NORTH AMERICA   \n23            N/A       WC             0.1         10000  NORTH AMERICA   \n24            N/A       WC             0.1         10000  NORTH AMERICA   \n25            N/A       WC             0.1         10000  NORTH AMERICA   \n26            N/A       WC             0.1         10000  NORTH AMERICA   \n\n    shipping cost  min  \n22              2    0  \n23              2    0  \n24              2    0  \n25              2    0  \n26              2    0  ",
      "text/html": "<div>\n<style scoped>\n    .dataframe tbody tr th:only-of-type {\n        vertical-align: middle;\n    }\n\n    .dataframe tbody tr th {\n        vertical-align: top;\n    }\n\n    .dataframe thead th {\n        text-align: right;\n    }\n</style>\n<table border=\"1\" class=\"dataframe\">\n  <thead>\n    <tr style=\"text-align: right;\">\n      <th></th>\n      <th>isbn</th>\n      <th>currency</th>\n      <th>price</th>\n      <th>title</th>\n      <th>publisher</th>\n      <th>author</th>\n      <th>publisherlong</th>\n      <th>publishershort</th>\n      <th>supplier</th>\n      <th>final_discount</th>\n      <th>max quantity</th>\n      <th>region</th>\n      <th>shipping cost</th>\n      <th>min</th>\n    </tr>\n  </thead>\n  <tbody>\n    <tr>\n      <th>22</th>\n      <td>9780006392828</td>\n      <td>CND</td>\n      <td>19.95</td>\n      <td>N/A</td>\n      <td>N/A</td>\n      <td>N/A</td>\n      <td>N/A</td>\n      <td>N/A</td>\n      <td>WC</td>\n      <td>0.1</td>\n      <td>10000</td>\n      <td>NORTH AMERICA</td>\n      <td>2</td>\n      <td>0</td>\n    </tr>\n    <tr>\n      <th>23</th>\n      <td>9780006392910</td>\n      <td>CND</td>\n      <td>18.95</td>\n      <td>N/A</td>\n      <td>N/A</td>\n      <td>N/A</td>\n      <td>N/A</td>\n      <td>N/A</td>\n      <td>WC</td>\n      <td>0.1</td>\n      <td>10000</td>\n      <td>NORTH AMERICA</td>\n      <td>2</td>\n      <td>0</td>\n    </tr>\n    <tr>\n      <th>24</th>\n      <td>9780006393146</td>\n      <td>CND</td>\n      <td>19.95</td>\n      <td>N/A</td>\n      <td>N/A</td>\n      <td>N/A</td>\n      <td>N/A</td>\n      <td>N/A</td>\n      <td>WC</td>\n      <td>0.1</td>\n      <td>10000</td>\n      <td>NORTH AMERICA</td>\n      <td>2</td>\n      <td>0</td>\n    </tr>\n    <tr>\n      <th>25</th>\n      <td>9780006393740</td>\n      <td>CND</td>\n      <td>16.99</td>\n      <td>N/A</td>\n      <td>N/A</td>\n      <td>N/A</td>\n      <td>N/A</td>\n      <td>N/A</td>\n      <td>WC</td>\n      <td>0.1</td>\n      <td>10000</td>\n      <td>NORTH AMERICA</td>\n      <td>2</td>\n      <td>0</td>\n    </tr>\n    <tr>\n      <th>26</th>\n      <td>9780006394914</td>\n      <td>CND</td>\n      <td>19.95</td>\n      <td>N/A</td>\n      <td>N/A</td>\n      <td>N/A</td>\n      <td>N/A</td>\n      <td>N/A</td>\n      <td>WC</td>\n      <td>0.1</td>\n      <td>10000</td>\n      <td>NORTH AMERICA</td>\n      <td>2</td>\n      <td>0</td>\n    </tr>\n  </tbody>\n</table>\n</div>"
     },
     "metadata": {},
     "execution_count": 47
    }
   ],
   "source": [
    "# Add western campus\n",
    "# Shipping Cost = 2\n",
    "# 0-150CAD 10% off\n",
    "# 150-200CAD 12% off\n",
    "# > 200CAD 14%\n",
    "\n",
    "can_sup = sup_list2[sup_list2['Currency'] == 'CND']\n",
    "can_sup.columns = map(str.lower, can_sup.columns)\n",
    "can_sup['supplier'] = 'WC'\n",
    "can_sup['final_discount'] = np.where(can_sup['price']<150, 0.1, np.where((can_sup['price'] >=150) & (can_sup['price']<200),0.12,0.14))\n",
    "can_sup['max quantity'] = 10000\n",
    "can_sup['region'] = 'NORTH AMERICA'\n",
    "can_sup['shipping cost'] = 2\n",
    "can_sup['min'] = 0\n",
    "can_sup.head()"
   ]
  },
  {
   "cell_type": "code",
   "execution_count": 48,
   "metadata": {},
   "outputs": [],
   "source": [
    "can_sup = can_sup[['isbn', 'title', 'author', 'publishershort', 'supplier','currency','price','final_discount', 'shipping cost', 'max quantity', 'min', 'region']]\n",
    "can_sup['currency'] = np.where(can_sup['currency'] == 'CND', 'CAD',0)"
   ]
  },
  {
   "cell_type": "code",
   "execution_count": 49,
   "metadata": {},
   "outputs": [
    {
     "output_type": "execute_result",
     "data": {
      "text/plain": "             isbn title author publishershort supplier currency  price  \\\n22  9780006392828   N/A    N/A            N/A       WC      CAD  19.95   \n23  9780006392910   N/A    N/A            N/A       WC      CAD  18.95   \n24  9780006393146   N/A    N/A            N/A       WC      CAD  19.95   \n25  9780006393740   N/A    N/A            N/A       WC      CAD  16.99   \n26  9780006394914   N/A    N/A            N/A       WC      CAD  19.95   \n\n    final_discount  shipping cost  max quantity  min         region  \n22             0.1              2         10000    0  NORTH AMERICA  \n23             0.1              2         10000    0  NORTH AMERICA  \n24             0.1              2         10000    0  NORTH AMERICA  \n25             0.1              2         10000    0  NORTH AMERICA  \n26             0.1              2         10000    0  NORTH AMERICA  ",
      "text/html": "<div>\n<style scoped>\n    .dataframe tbody tr th:only-of-type {\n        vertical-align: middle;\n    }\n\n    .dataframe tbody tr th {\n        vertical-align: top;\n    }\n\n    .dataframe thead th {\n        text-align: right;\n    }\n</style>\n<table border=\"1\" class=\"dataframe\">\n  <thead>\n    <tr style=\"text-align: right;\">\n      <th></th>\n      <th>isbn</th>\n      <th>title</th>\n      <th>author</th>\n      <th>publishershort</th>\n      <th>supplier</th>\n      <th>currency</th>\n      <th>price</th>\n      <th>final_discount</th>\n      <th>shipping cost</th>\n      <th>max quantity</th>\n      <th>min</th>\n      <th>region</th>\n    </tr>\n  </thead>\n  <tbody>\n    <tr>\n      <th>22</th>\n      <td>9780006392828</td>\n      <td>N/A</td>\n      <td>N/A</td>\n      <td>N/A</td>\n      <td>WC</td>\n      <td>CAD</td>\n      <td>19.95</td>\n      <td>0.1</td>\n      <td>2</td>\n      <td>10000</td>\n      <td>0</td>\n      <td>NORTH AMERICA</td>\n    </tr>\n    <tr>\n      <th>23</th>\n      <td>9780006392910</td>\n      <td>N/A</td>\n      <td>N/A</td>\n      <td>N/A</td>\n      <td>WC</td>\n      <td>CAD</td>\n      <td>18.95</td>\n      <td>0.1</td>\n      <td>2</td>\n      <td>10000</td>\n      <td>0</td>\n      <td>NORTH AMERICA</td>\n    </tr>\n    <tr>\n      <th>24</th>\n      <td>9780006393146</td>\n      <td>N/A</td>\n      <td>N/A</td>\n      <td>N/A</td>\n      <td>WC</td>\n      <td>CAD</td>\n      <td>19.95</td>\n      <td>0.1</td>\n      <td>2</td>\n      <td>10000</td>\n      <td>0</td>\n      <td>NORTH AMERICA</td>\n    </tr>\n    <tr>\n      <th>25</th>\n      <td>9780006393740</td>\n      <td>N/A</td>\n      <td>N/A</td>\n      <td>N/A</td>\n      <td>WC</td>\n      <td>CAD</td>\n      <td>16.99</td>\n      <td>0.1</td>\n      <td>2</td>\n      <td>10000</td>\n      <td>0</td>\n      <td>NORTH AMERICA</td>\n    </tr>\n    <tr>\n      <th>26</th>\n      <td>9780006394914</td>\n      <td>N/A</td>\n      <td>N/A</td>\n      <td>N/A</td>\n      <td>WC</td>\n      <td>CAD</td>\n      <td>19.95</td>\n      <td>0.1</td>\n      <td>2</td>\n      <td>10000</td>\n      <td>0</td>\n      <td>NORTH AMERICA</td>\n    </tr>\n  </tbody>\n</table>\n</div>"
     },
     "metadata": {},
     "execution_count": 49
    }
   ],
   "source": [
    "can_sup.head()"
   ]
  },
  {
   "cell_type": "code",
   "execution_count": 50,
   "metadata": {},
   "outputs": [
    {
     "output_type": "execute_result",
     "data": {
      "text/plain": "            isbn title author publishershort supplier currency   price  \\\n0  9780000079145   N/A    N/A            LWW      ABE      GBP   67.00   \n1  9780000003201   N/A    N/A            LWW      ABE      GBP  265.00   \n2  9780000002402   N/A    N/A            LWW      ABE      GBP  306.00   \n3  9780000002679   N/A    N/A            LWW      ABE      GBP  425.00   \n4  9780000050090   N/A    N/A            LWW      ABE      GBP   17.99   \n\n   final_discount  shipping cost  max quantity  min  region  \n0            0.55           3.47         10000    0  EUROPE  \n1            0.55           3.47         10000    0  EUROPE  \n2            0.55           3.47         10000    0  EUROPE  \n3            0.55           3.47         10000    0  EUROPE  \n4            0.55           3.47         10000    0  EUROPE  ",
      "text/html": "<div>\n<style scoped>\n    .dataframe tbody tr th:only-of-type {\n        vertical-align: middle;\n    }\n\n    .dataframe tbody tr th {\n        vertical-align: top;\n    }\n\n    .dataframe thead th {\n        text-align: right;\n    }\n</style>\n<table border=\"1\" class=\"dataframe\">\n  <thead>\n    <tr style=\"text-align: right;\">\n      <th></th>\n      <th>isbn</th>\n      <th>title</th>\n      <th>author</th>\n      <th>publishershort</th>\n      <th>supplier</th>\n      <th>currency</th>\n      <th>price</th>\n      <th>final_discount</th>\n      <th>shipping cost</th>\n      <th>max quantity</th>\n      <th>min</th>\n      <th>region</th>\n    </tr>\n  </thead>\n  <tbody>\n    <tr>\n      <th>0</th>\n      <td>9780000079145</td>\n      <td>N/A</td>\n      <td>N/A</td>\n      <td>LWW</td>\n      <td>ABE</td>\n      <td>GBP</td>\n      <td>67.00</td>\n      <td>0.55</td>\n      <td>3.47</td>\n      <td>10000</td>\n      <td>0</td>\n      <td>EUROPE</td>\n    </tr>\n    <tr>\n      <th>1</th>\n      <td>9780000003201</td>\n      <td>N/A</td>\n      <td>N/A</td>\n      <td>LWW</td>\n      <td>ABE</td>\n      <td>GBP</td>\n      <td>265.00</td>\n      <td>0.55</td>\n      <td>3.47</td>\n      <td>10000</td>\n      <td>0</td>\n      <td>EUROPE</td>\n    </tr>\n    <tr>\n      <th>2</th>\n      <td>9780000002402</td>\n      <td>N/A</td>\n      <td>N/A</td>\n      <td>LWW</td>\n      <td>ABE</td>\n      <td>GBP</td>\n      <td>306.00</td>\n      <td>0.55</td>\n      <td>3.47</td>\n      <td>10000</td>\n      <td>0</td>\n      <td>EUROPE</td>\n    </tr>\n    <tr>\n      <th>3</th>\n      <td>9780000002679</td>\n      <td>N/A</td>\n      <td>N/A</td>\n      <td>LWW</td>\n      <td>ABE</td>\n      <td>GBP</td>\n      <td>425.00</td>\n      <td>0.55</td>\n      <td>3.47</td>\n      <td>10000</td>\n      <td>0</td>\n      <td>EUROPE</td>\n    </tr>\n    <tr>\n      <th>4</th>\n      <td>9780000050090</td>\n      <td>N/A</td>\n      <td>N/A</td>\n      <td>LWW</td>\n      <td>ABE</td>\n      <td>GBP</td>\n      <td>17.99</td>\n      <td>0.55</td>\n      <td>3.47</td>\n      <td>10000</td>\n      <td>0</td>\n      <td>EUROPE</td>\n    </tr>\n  </tbody>\n</table>\n</div>"
     },
     "metadata": {},
     "execution_count": 50
    }
   ],
   "source": [
    "sup_list5 = sup_list4.append(can_sup, ignore_index= True)\n",
    "sup_list5.head()"
   ]
  },
  {
   "cell_type": "code",
   "execution_count": 51,
   "metadata": {},
   "outputs": [
    {
     "output_type": "execute_result",
     "data": {
      "text/plain": "array(['GBP', 'AUD', 'USD', 'CAD'], dtype=object)"
     },
     "metadata": {},
     "execution_count": 51
    }
   ],
   "source": [
    "sup_list5['currency'].unique()"
   ]
  },
  {
   "cell_type": "code",
   "execution_count": 52,
   "metadata": {},
   "outputs": [],
   "source": [
    "# Exchange Rate\n",
    "#We add the Exchange rate column\n",
    "exchange_rate = \"\"\"\n",
    "SELECT *\n",
    "FROM dbo.XChange\n",
    "\"\"\"\n",
    "exch_df = pd.read_sql(exchange_rate,prouc_db)\n",
    ""
   ]
  },
  {
   "cell_type": "code",
   "execution_count": 53,
   "metadata": {},
   "outputs": [
    {
     "output_type": "execute_result",
     "data": {
      "text/plain": "    id name      rate               updatedon\n0    2  AUD  0.638690 2020-04-26 08:00:01.190\n1    3  NZD  0.602000 2020-04-26 08:00:01.190\n2    4  GBP  1.237001 2020-04-26 08:00:01.190\n3    5  CAD  0.708855 2020-04-26 08:00:01.190\n4    6  EUR  1.082050 2020-04-26 08:00:01.190\n5    8  SGD  0.701900 2020-04-26 08:00:01.190\n6    9  HKD  0.129014 2020-04-26 08:00:01.190\n7    1  USD  1.000000 2020-04-26 08:00:01.190\n8   10  TWD  0.033135 2020-04-26 08:00:01.190\n9   11  CHF  1.022320 2020-04-26 08:00:01.190\n10  12  CNY  0.143433 2020-04-26 08:00:01.190\n11  13  PLN  0.255751 2020-04-26 08:00:01.190",
      "text/html": "<div>\n<style scoped>\n    .dataframe tbody tr th:only-of-type {\n        vertical-align: middle;\n    }\n\n    .dataframe tbody tr th {\n        vertical-align: top;\n    }\n\n    .dataframe thead th {\n        text-align: right;\n    }\n</style>\n<table border=\"1\" class=\"dataframe\">\n  <thead>\n    <tr style=\"text-align: right;\">\n      <th></th>\n      <th>id</th>\n      <th>name</th>\n      <th>rate</th>\n      <th>updatedon</th>\n    </tr>\n  </thead>\n  <tbody>\n    <tr>\n      <th>0</th>\n      <td>2</td>\n      <td>AUD</td>\n      <td>0.638690</td>\n      <td>2020-04-26 08:00:01.190</td>\n    </tr>\n    <tr>\n      <th>1</th>\n      <td>3</td>\n      <td>NZD</td>\n      <td>0.602000</td>\n      <td>2020-04-26 08:00:01.190</td>\n    </tr>\n    <tr>\n      <th>2</th>\n      <td>4</td>\n      <td>GBP</td>\n      <td>1.237001</td>\n      <td>2020-04-26 08:00:01.190</td>\n    </tr>\n    <tr>\n      <th>3</th>\n      <td>5</td>\n      <td>CAD</td>\n      <td>0.708855</td>\n      <td>2020-04-26 08:00:01.190</td>\n    </tr>\n    <tr>\n      <th>4</th>\n      <td>6</td>\n      <td>EUR</td>\n      <td>1.082050</td>\n      <td>2020-04-26 08:00:01.190</td>\n    </tr>\n    <tr>\n      <th>5</th>\n      <td>8</td>\n      <td>SGD</td>\n      <td>0.701900</td>\n      <td>2020-04-26 08:00:01.190</td>\n    </tr>\n    <tr>\n      <th>6</th>\n      <td>9</td>\n      <td>HKD</td>\n      <td>0.129014</td>\n      <td>2020-04-26 08:00:01.190</td>\n    </tr>\n    <tr>\n      <th>7</th>\n      <td>1</td>\n      <td>USD</td>\n      <td>1.000000</td>\n      <td>2020-04-26 08:00:01.190</td>\n    </tr>\n    <tr>\n      <th>8</th>\n      <td>10</td>\n      <td>TWD</td>\n      <td>0.033135</td>\n      <td>2020-04-26 08:00:01.190</td>\n    </tr>\n    <tr>\n      <th>9</th>\n      <td>11</td>\n      <td>CHF</td>\n      <td>1.022320</td>\n      <td>2020-04-26 08:00:01.190</td>\n    </tr>\n    <tr>\n      <th>10</th>\n      <td>12</td>\n      <td>CNY</td>\n      <td>0.143433</td>\n      <td>2020-04-26 08:00:01.190</td>\n    </tr>\n    <tr>\n      <th>11</th>\n      <td>13</td>\n      <td>PLN</td>\n      <td>0.255751</td>\n      <td>2020-04-26 08:00:01.190</td>\n    </tr>\n  </tbody>\n</table>\n</div>"
     },
     "metadata": {},
     "execution_count": 53
    }
   ],
   "source": [
    "exch_df"
   ]
  },
  {
   "cell_type": "code",
   "execution_count": 54,
   "metadata": {},
   "outputs": [],
   "source": [
    "sup_list6 = pd.merge(sup_list5, exch_df, how='left', left_on = 'currency', right_on = 'name' )\n",
    "\n",
    "sup_list6['invoice_fee'] = np.where(\n",
    "    sup_list6['supplier'] == 'COINFO', (-1*sup_list6['price']*(1-sup_list6['final_discount']))/11,\n",
    "    np.where(\n",
    "        (sup_list6['supplier'] == 'FELIPE') | (sup_list6['supplier'] == 'ARMANDO'),\n",
    "    0.01,\n",
    "    0\n",
    "     ))\n",
    "sup_list6['lp_fee'] = 0\n",
    "sup_list6.rename(columns={'publishershort': 'pub', 'final_discount': 'discount'}, inplace = True)\n",
    ""
   ]
  },
  {
   "cell_type": "code",
   "execution_count": 55,
   "metadata": {},
   "outputs": [
    {
     "output_type": "execute_result",
     "data": {
      "text/plain": "            isbn title author  pub supplier currency      rate   price  \\\n0  9780000079145   N/A    N/A  LWW      ABE      GBP  1.237001   67.00   \n1  9780000003201   N/A    N/A  LWW      ABE      GBP  1.237001  265.00   \n2  9780000002402   N/A    N/A  LWW      ABE      GBP  1.237001  306.00   \n3  9780000002679   N/A    N/A  LWW      ABE      GBP  1.237001  425.00   \n4  9780000050090   N/A    N/A  LWW      ABE      GBP  1.237001   17.99   \n\n   discount  invoice_fee  lp_fee  shipping cost  max quantity  min  region  \n0      0.55          0.0       0           3.47         10000    0  EUROPE  \n1      0.55          0.0       0           3.47         10000    0  EUROPE  \n2      0.55          0.0       0           3.47         10000    0  EUROPE  \n3      0.55          0.0       0           3.47         10000    0  EUROPE  \n4      0.55          0.0       0           3.47         10000    0  EUROPE  ",
      "text/html": "<div>\n<style scoped>\n    .dataframe tbody tr th:only-of-type {\n        vertical-align: middle;\n    }\n\n    .dataframe tbody tr th {\n        vertical-align: top;\n    }\n\n    .dataframe thead th {\n        text-align: right;\n    }\n</style>\n<table border=\"1\" class=\"dataframe\">\n  <thead>\n    <tr style=\"text-align: right;\">\n      <th></th>\n      <th>isbn</th>\n      <th>title</th>\n      <th>author</th>\n      <th>pub</th>\n      <th>supplier</th>\n      <th>currency</th>\n      <th>rate</th>\n      <th>price</th>\n      <th>discount</th>\n      <th>invoice_fee</th>\n      <th>lp_fee</th>\n      <th>shipping cost</th>\n      <th>max quantity</th>\n      <th>min</th>\n      <th>region</th>\n    </tr>\n  </thead>\n  <tbody>\n    <tr>\n      <th>0</th>\n      <td>9780000079145</td>\n      <td>N/A</td>\n      <td>N/A</td>\n      <td>LWW</td>\n      <td>ABE</td>\n      <td>GBP</td>\n      <td>1.237001</td>\n      <td>67.00</td>\n      <td>0.55</td>\n      <td>0.0</td>\n      <td>0</td>\n      <td>3.47</td>\n      <td>10000</td>\n      <td>0</td>\n      <td>EUROPE</td>\n    </tr>\n    <tr>\n      <th>1</th>\n      <td>9780000003201</td>\n      <td>N/A</td>\n      <td>N/A</td>\n      <td>LWW</td>\n      <td>ABE</td>\n      <td>GBP</td>\n      <td>1.237001</td>\n      <td>265.00</td>\n      <td>0.55</td>\n      <td>0.0</td>\n      <td>0</td>\n      <td>3.47</td>\n      <td>10000</td>\n      <td>0</td>\n      <td>EUROPE</td>\n    </tr>\n    <tr>\n      <th>2</th>\n      <td>9780000002402</td>\n      <td>N/A</td>\n      <td>N/A</td>\n      <td>LWW</td>\n      <td>ABE</td>\n      <td>GBP</td>\n      <td>1.237001</td>\n      <td>306.00</td>\n      <td>0.55</td>\n      <td>0.0</td>\n      <td>0</td>\n      <td>3.47</td>\n      <td>10000</td>\n      <td>0</td>\n      <td>EUROPE</td>\n    </tr>\n    <tr>\n      <th>3</th>\n      <td>9780000002679</td>\n      <td>N/A</td>\n      <td>N/A</td>\n      <td>LWW</td>\n      <td>ABE</td>\n      <td>GBP</td>\n      <td>1.237001</td>\n      <td>425.00</td>\n      <td>0.55</td>\n      <td>0.0</td>\n      <td>0</td>\n      <td>3.47</td>\n      <td>10000</td>\n      <td>0</td>\n      <td>EUROPE</td>\n    </tr>\n    <tr>\n      <th>4</th>\n      <td>9780000050090</td>\n      <td>N/A</td>\n      <td>N/A</td>\n      <td>LWW</td>\n      <td>ABE</td>\n      <td>GBP</td>\n      <td>1.237001</td>\n      <td>17.99</td>\n      <td>0.55</td>\n      <td>0.0</td>\n      <td>0</td>\n      <td>3.47</td>\n      <td>10000</td>\n      <td>0</td>\n      <td>EUROPE</td>\n    </tr>\n  </tbody>\n</table>\n</div>"
     },
     "metadata": {},
     "execution_count": 55
    }
   ],
   "source": [
    "sup_list6 = sup_list6[['isbn', 'title', 'author', 'pub', 'supplier','currency','rate','price','discount','invoice_fee','lp_fee','shipping cost', 'max quantity', 'min', 'region']]\n",
    "sup_list6.head()"
   ]
  },
  {
   "cell_type": "code",
   "execution_count": 56,
   "metadata": {},
   "outputs": [],
   "source": [
    "sup_list6.to_csv('suppliers_excel.csv', index= False)"
   ]
  },
  {
   "cell_type": "code",
   "execution_count": 57,
   "metadata": {},
   "outputs": [
    {
     "output_type": "execute_result",
     "data": {
      "text/plain": "                 isbn                                              title  \\\n310962  9780060000448  MIDDLE RANGE THEORIES: APPLICATION TO NURSING ...   \n310963  9780060000387                             GERONTOLOGICAL NURSING   \n310964  9780060000424                                THEORETICAL NURSING   \n310965  9780316069908                                     EATING ANIMALS   \n310966  9780316017923                                           OUTLIERS   \n...               ...                                                ...   \n406096  9789065449283                                                N/A   \n406098  9789065449429                                                N/A   \n406100  9789065449399                                                N/A   \n406102  9789065449436                                                N/A   \n406104  9789065449818                                                N/A   \n\n                      author       pub supplier currency  rate    price  \\\n310962    SANDRA J. PETERSON       LWW   FELIPE      USD   1.0    73.99   \n310963  CHARLOTTE ELIOPOULOS       LWW   FELIPE      USD   1.0    79.99   \n310964   AFAF IBRAHAM MELEIS       LWW   FELIPE      USD   1.0    89.99   \n310965  JONATHAN SAFRAN FOER       LWW   FELIPE      USD   1.0    25.99   \n310966      MALCOLM GLADWELL       LWW   FELIPE      USD   1.0    29.00   \n...                      ...       ...      ...      ...   ...      ...   \n406096                   N/A  W KLUWER   FELIPE      USD   1.0  1525.00   \n406098                   N/A  W KLUWER   FELIPE      USD   1.0  1844.00   \n406100                   N/A  W KLUWER   FELIPE      USD   1.0  2877.00   \n406102                   N/A  W KLUWER   FELIPE      USD   1.0  2046.00   \n406104                   N/A  W KLUWER   FELIPE      USD   1.0  1817.00   \n\n        discount  invoice_fee  lp_fee  shipping cost  max quantity  min  \\\n310962      0.59         0.01       0            1.7           150    1   \n310963      0.59         0.01       0            1.7           150    1   \n310964      0.59         0.01       0            1.7           150    1   \n310965      0.59         0.01       0            1.7           150    1   \n310966      0.59         0.01       0            1.7           150    1   \n...          ...          ...     ...            ...           ...  ...   \n406096      0.62         0.01       0            1.7           150    1   \n406098      0.62         0.01       0            1.7           150    1   \n406100      0.62         0.01       0            1.7           150    1   \n406102      0.62         0.01       0            1.7           150    1   \n406104      0.62         0.01       0            1.7           150    1   \n\n               region  \n310962  SOUTH AMERICA  \n310963  SOUTH AMERICA  \n310964  SOUTH AMERICA  \n310965  SOUTH AMERICA  \n310966  SOUTH AMERICA  \n...               ...  \n406096  SOUTH AMERICA  \n406098  SOUTH AMERICA  \n406100  SOUTH AMERICA  \n406102  SOUTH AMERICA  \n406104  SOUTH AMERICA  \n\n[2536 rows x 15 columns]",
      "text/html": "<div>\n<style scoped>\n    .dataframe tbody tr th:only-of-type {\n        vertical-align: middle;\n    }\n\n    .dataframe tbody tr th {\n        vertical-align: top;\n    }\n\n    .dataframe thead th {\n        text-align: right;\n    }\n</style>\n<table border=\"1\" class=\"dataframe\">\n  <thead>\n    <tr style=\"text-align: right;\">\n      <th></th>\n      <th>isbn</th>\n      <th>title</th>\n      <th>author</th>\n      <th>pub</th>\n      <th>supplier</th>\n      <th>currency</th>\n      <th>rate</th>\n      <th>price</th>\n      <th>discount</th>\n      <th>invoice_fee</th>\n      <th>lp_fee</th>\n      <th>shipping cost</th>\n      <th>max quantity</th>\n      <th>min</th>\n      <th>region</th>\n    </tr>\n  </thead>\n  <tbody>\n    <tr>\n      <th>310962</th>\n      <td>9780060000448</td>\n      <td>MIDDLE RANGE THEORIES: APPLICATION TO NURSING ...</td>\n      <td>SANDRA J. PETERSON</td>\n      <td>LWW</td>\n      <td>FELIPE</td>\n      <td>USD</td>\n      <td>1.0</td>\n      <td>73.99</td>\n      <td>0.59</td>\n      <td>0.01</td>\n      <td>0</td>\n      <td>1.7</td>\n      <td>150</td>\n      <td>1</td>\n      <td>SOUTH AMERICA</td>\n    </tr>\n    <tr>\n      <th>310963</th>\n      <td>9780060000387</td>\n      <td>GERONTOLOGICAL NURSING</td>\n      <td>CHARLOTTE ELIOPOULOS</td>\n      <td>LWW</td>\n      <td>FELIPE</td>\n      <td>USD</td>\n      <td>1.0</td>\n      <td>79.99</td>\n      <td>0.59</td>\n      <td>0.01</td>\n      <td>0</td>\n      <td>1.7</td>\n      <td>150</td>\n      <td>1</td>\n      <td>SOUTH AMERICA</td>\n    </tr>\n    <tr>\n      <th>310964</th>\n      <td>9780060000424</td>\n      <td>THEORETICAL NURSING</td>\n      <td>AFAF IBRAHAM MELEIS</td>\n      <td>LWW</td>\n      <td>FELIPE</td>\n      <td>USD</td>\n      <td>1.0</td>\n      <td>89.99</td>\n      <td>0.59</td>\n      <td>0.01</td>\n      <td>0</td>\n      <td>1.7</td>\n      <td>150</td>\n      <td>1</td>\n      <td>SOUTH AMERICA</td>\n    </tr>\n    <tr>\n      <th>310965</th>\n      <td>9780316069908</td>\n      <td>EATING ANIMALS</td>\n      <td>JONATHAN SAFRAN FOER</td>\n      <td>LWW</td>\n      <td>FELIPE</td>\n      <td>USD</td>\n      <td>1.0</td>\n      <td>25.99</td>\n      <td>0.59</td>\n      <td>0.01</td>\n      <td>0</td>\n      <td>1.7</td>\n      <td>150</td>\n      <td>1</td>\n      <td>SOUTH AMERICA</td>\n    </tr>\n    <tr>\n      <th>310966</th>\n      <td>9780316017923</td>\n      <td>OUTLIERS</td>\n      <td>MALCOLM GLADWELL</td>\n      <td>LWW</td>\n      <td>FELIPE</td>\n      <td>USD</td>\n      <td>1.0</td>\n      <td>29.00</td>\n      <td>0.59</td>\n      <td>0.01</td>\n      <td>0</td>\n      <td>1.7</td>\n      <td>150</td>\n      <td>1</td>\n      <td>SOUTH AMERICA</td>\n    </tr>\n    <tr>\n      <th>...</th>\n      <td>...</td>\n      <td>...</td>\n      <td>...</td>\n      <td>...</td>\n      <td>...</td>\n      <td>...</td>\n      <td>...</td>\n      <td>...</td>\n      <td>...</td>\n      <td>...</td>\n      <td>...</td>\n      <td>...</td>\n      <td>...</td>\n      <td>...</td>\n      <td>...</td>\n    </tr>\n    <tr>\n      <th>406096</th>\n      <td>9789065449283</td>\n      <td>N/A</td>\n      <td>N/A</td>\n      <td>W KLUWER</td>\n      <td>FELIPE</td>\n      <td>USD</td>\n      <td>1.0</td>\n      <td>1525.00</td>\n      <td>0.62</td>\n      <td>0.01</td>\n      <td>0</td>\n      <td>1.7</td>\n      <td>150</td>\n      <td>1</td>\n      <td>SOUTH AMERICA</td>\n    </tr>\n    <tr>\n      <th>406098</th>\n      <td>9789065449429</td>\n      <td>N/A</td>\n      <td>N/A</td>\n      <td>W KLUWER</td>\n      <td>FELIPE</td>\n      <td>USD</td>\n      <td>1.0</td>\n      <td>1844.00</td>\n      <td>0.62</td>\n      <td>0.01</td>\n      <td>0</td>\n      <td>1.7</td>\n      <td>150</td>\n      <td>1</td>\n      <td>SOUTH AMERICA</td>\n    </tr>\n    <tr>\n      <th>406100</th>\n      <td>9789065449399</td>\n      <td>N/A</td>\n      <td>N/A</td>\n      <td>W KLUWER</td>\n      <td>FELIPE</td>\n      <td>USD</td>\n      <td>1.0</td>\n      <td>2877.00</td>\n      <td>0.62</td>\n      <td>0.01</td>\n      <td>0</td>\n      <td>1.7</td>\n      <td>150</td>\n      <td>1</td>\n      <td>SOUTH AMERICA</td>\n    </tr>\n    <tr>\n      <th>406102</th>\n      <td>9789065449436</td>\n      <td>N/A</td>\n      <td>N/A</td>\n      <td>W KLUWER</td>\n      <td>FELIPE</td>\n      <td>USD</td>\n      <td>1.0</td>\n      <td>2046.00</td>\n      <td>0.62</td>\n      <td>0.01</td>\n      <td>0</td>\n      <td>1.7</td>\n      <td>150</td>\n      <td>1</td>\n      <td>SOUTH AMERICA</td>\n    </tr>\n    <tr>\n      <th>406104</th>\n      <td>9789065449818</td>\n      <td>N/A</td>\n      <td>N/A</td>\n      <td>W KLUWER</td>\n      <td>FELIPE</td>\n      <td>USD</td>\n      <td>1.0</td>\n      <td>1817.00</td>\n      <td>0.62</td>\n      <td>0.01</td>\n      <td>0</td>\n      <td>1.7</td>\n      <td>150</td>\n      <td>1</td>\n      <td>SOUTH AMERICA</td>\n    </tr>\n  </tbody>\n</table>\n<p>2536 rows × 15 columns</p>\n</div>"
     },
     "metadata": {},
     "execution_count": 57
    }
   ],
   "source": [
    "sup_list6[sup_list6['supplier'] == 'FELIPE']"
   ]
  },
  {
   "cell_type": "code",
   "execution_count": null,
   "metadata": {},
   "outputs": [],
   "source": []
  }
 ],
 "metadata": {
  "kernelspec": {
   "display_name": "Python 3",
   "language": "python",
   "name": "python3"
  },
  "language_info": {
   "codemirror_mode": {
    "name": "ipython",
    "version": 3
   },
   "file_extension": ".py",
   "mimetype": "text/x-python",
   "name": "python",
   "nbconvert_exporter": "python",
   "pygments_lexer": "ipython3",
   "version": "3.7.6-final"
  }
 },
 "nbformat": 4,
 "nbformat_minor": 4
}