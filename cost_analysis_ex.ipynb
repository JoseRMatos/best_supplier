{
 "cells": [
  {
   "cell_type": "code",
   "execution_count": 5,
   "metadata": {},
   "outputs": [
    {
     "output_type": "execute_result",
     "data": {
      "text/plain": "'\\nWe need:\\n1. Prices in different currencies\\n2. List with Pusblisher names.\\n3. Clean Publisher Name\\n4. Check Suppliers, currencies, publishers, discount, shipping costs\\n5. Check Suppliers special discounts\\n6. Check restrictions\\n7. Get landed Cost\\n8. List of ISBN to ananlyse.\\n\\n'"
     },
     "metadata": {},
     "execution_count": 5
    }
   ],
   "source": [
    "# In this scenario we are going to grab the info from excel files.\n",
    "'''\n",
    "We need:\n",
    "1. Prices in different currencies\n",
    "2. List with Pusblisher names.\n",
    "3. Clean Publisher Name\n",
    "4. Check Suppliers, currencies, publishers, discount, shipping costs\n",
    "5. Check Suppliers special discounts\n",
    "6. Check restrictions\n",
    "7. Get landed Cost\n",
    "8. List of ISBN to ananlyse.\n",
    "\n",
    "'''"
   ]
  },
  {
   "cell_type": "code",
   "execution_count": 7,
   "metadata": {},
   "outputs": [],
   "source": [
    "# 0. Import Libraries and credentials\n",
    "import pandas as pd\n",
    "import pyodbc\n",
    "import numpy as np\n",
    "import sqlCredentials as sql"
   ]
  },
  {
   "cell_type": "code",
   "execution_count": 9,
   "metadata": {},
   "outputs": [],
   "source": [
    "# 0. Get databse connection\n",
    "# Let's pick all the titles gwe can get from the pricing matrix.\n",
    "\n",
    "prod_db = pyodbc.connect(\n",
    "    'DRIVER={ODBC Driver 17 for SQL Server};'\n",
    "    'Server=52.86.56.66;'\n",
    "    'Database=BookXCenterProduction;'\n",
    "    'UID='+sql.username+';'\n",
    "    'PWD='+sql.password+';'\n",
    "    'Trusted_connection=no;'\n",
    ")\n",
    "\n",
    "prouc_db = pyodbc.connect(\n",
    "    'DRIVER={ODBC Driver 17 for SQL Server};'\n",
    "    'Server=52.86.56.66;'\n",
    "    'Database=PROCUREMENTDB;'\n",
    "    'UID='+sql.username+';'\n",
    "    'PWD='+sql.password+';'\n",
    "    'Trusted_connection=no;'\n",
    ")"
   ]
  },
  {
   "cell_type": "code",
   "execution_count": 11,
   "metadata": {},
   "outputs": [
    {
     "output_type": "execute_result",
     "data": {
      "text/plain": "   Id           Isbn Currency  Price PriceSource           PriceLastRefreshed  \\\n0   1  9780061706585     USD    9.99  GoldenList  2020-03-29 18:00:01.3733333   \n1   2  9780061708718     USD   16.99  GoldenList  2020-03-29 18:00:01.3733333   \n2   3  9780061708763     USD   16.99  GoldenList  2020-03-29 18:00:01.3733333   \n3   4  9780061709562     USD    8.99  GoldenList  2020-03-29 18:00:01.3733333   \n4   5  9780061710308     USD   19.99  GoldenList  2020-03-29 18:00:01.3733333   \n\n                   Timestamp  \n0 2020-03-29 19:03:37.883333  \n1 2020-03-29 19:03:37.883333  \n2 2020-03-29 19:03:37.883333  \n3 2020-03-29 19:03:37.883333  \n4 2020-03-29 19:03:37.883333  ",
      "text/html": "<div>\n<style scoped>\n    .dataframe tbody tr th:only-of-type {\n        vertical-align: middle;\n    }\n\n    .dataframe tbody tr th {\n        vertical-align: top;\n    }\n\n    .dataframe thead th {\n        text-align: right;\n    }\n</style>\n<table border=\"1\" class=\"dataframe\">\n  <thead>\n    <tr style=\"text-align: right;\">\n      <th></th>\n      <th>Id</th>\n      <th>Isbn</th>\n      <th>Currency</th>\n      <th>Price</th>\n      <th>PriceSource</th>\n      <th>PriceLastRefreshed</th>\n      <th>Timestamp</th>\n    </tr>\n  </thead>\n  <tbody>\n    <tr>\n      <th>0</th>\n      <td>1</td>\n      <td>9780061706585</td>\n      <td>USD</td>\n      <td>9.99</td>\n      <td>GoldenList</td>\n      <td>2020-03-29 18:00:01.3733333</td>\n      <td>2020-03-29 19:03:37.883333</td>\n    </tr>\n    <tr>\n      <th>1</th>\n      <td>2</td>\n      <td>9780061708718</td>\n      <td>USD</td>\n      <td>16.99</td>\n      <td>GoldenList</td>\n      <td>2020-03-29 18:00:01.3733333</td>\n      <td>2020-03-29 19:03:37.883333</td>\n    </tr>\n    <tr>\n      <th>2</th>\n      <td>3</td>\n      <td>9780061708763</td>\n      <td>USD</td>\n      <td>16.99</td>\n      <td>GoldenList</td>\n      <td>2020-03-29 18:00:01.3733333</td>\n      <td>2020-03-29 19:03:37.883333</td>\n    </tr>\n    <tr>\n      <th>3</th>\n      <td>4</td>\n      <td>9780061709562</td>\n      <td>USD</td>\n      <td>8.99</td>\n      <td>GoldenList</td>\n      <td>2020-03-29 18:00:01.3733333</td>\n      <td>2020-03-29 19:03:37.883333</td>\n    </tr>\n    <tr>\n      <th>4</th>\n      <td>5</td>\n      <td>9780061710308</td>\n      <td>USD</td>\n      <td>19.99</td>\n      <td>GoldenList</td>\n      <td>2020-03-29 18:00:01.3733333</td>\n      <td>2020-03-29 19:03:37.883333</td>\n    </tr>\n  </tbody>\n</table>\n</div>"
     },
     "metadata": {},
     "execution_count": 11
    }
   ],
   "source": [
    "#1. Prices at different currencies\n",
    "#this time we are going to use all the titles\n",
    "list_price_sql = \"\"\"\n",
    "SELECT *\n",
    "FROM Isbn.ListPrice\n",
    "\"\"\"\n",
    "\n",
    "list_price = pd.read_sql(list_price_sql, prod_db)\n",
    "list_price.head()"
   ]
  },
  {
   "cell_type": "code",
   "execution_count": 13,
   "metadata": {},
   "outputs": [
    {
     "output_type": "execute_result",
     "data": {
      "text/plain": "(1748970, 7)"
     },
     "metadata": {},
     "execution_count": 13
    }
   ],
   "source": [
    "list_price.shape"
   ]
  },
  {
   "cell_type": "code",
   "execution_count": 15,
   "metadata": {},
   "outputs": [
    {
     "output_type": "execute_result",
     "data": {
      "text/plain": "array(['GoldenList', 'BookDepotInventory', 'GardnersInventory',\n       'BertramsInventory', 'BowkerNepModel', 'NielsenFtp',\n       'TitlePageScraper', 'BowkerApiModel', 'SAPPurchaseOrder',\n       'PearsonCanadaScraperModel', 'AbePolandScraper'], dtype=object)"
     },
     "metadata": {},
     "execution_count": 15
    }
   ],
   "source": [
    "list_price['PriceSource'].unique()"
   ]
  },
  {
   "cell_type": "code",
   "execution_count": 17,
   "metadata": {},
   "outputs": [
    {
     "output_type": "execute_result",
     "data": {
      "text/plain": "            Isbn Currency  Price\n0  9780061706585     USD    9.99\n1  9780061708718     USD   16.99\n2  9780061708763     USD   16.99\n3  9780061709562     USD    8.99\n4  9780061710308     USD   19.99",
      "text/html": "<div>\n<style scoped>\n    .dataframe tbody tr th:only-of-type {\n        vertical-align: middle;\n    }\n\n    .dataframe tbody tr th {\n        vertical-align: top;\n    }\n\n    .dataframe thead th {\n        text-align: right;\n    }\n</style>\n<table border=\"1\" class=\"dataframe\">\n  <thead>\n    <tr style=\"text-align: right;\">\n      <th></th>\n      <th>Isbn</th>\n      <th>Currency</th>\n      <th>Price</th>\n    </tr>\n  </thead>\n  <tbody>\n    <tr>\n      <th>0</th>\n      <td>9780061706585</td>\n      <td>USD</td>\n      <td>9.99</td>\n    </tr>\n    <tr>\n      <th>1</th>\n      <td>9780061708718</td>\n      <td>USD</td>\n      <td>16.99</td>\n    </tr>\n    <tr>\n      <th>2</th>\n      <td>9780061708763</td>\n      <td>USD</td>\n      <td>16.99</td>\n    </tr>\n    <tr>\n      <th>3</th>\n      <td>9780061709562</td>\n      <td>USD</td>\n      <td>8.99</td>\n    </tr>\n    <tr>\n      <th>4</th>\n      <td>9780061710308</td>\n      <td>USD</td>\n      <td>19.99</td>\n    </tr>\n  </tbody>\n</table>\n</div>"
     },
     "metadata": {},
     "execution_count": 17
    }
   ],
   "source": [
    "list_price.drop(columns = ['Id', 'PriceSource', 'PriceLastRefreshed', 'Timestamp'], inplace = True)\n",
    "list_price.head()"
   ]
  },
  {
   "cell_type": "code",
   "execution_count": 12,
   "metadata": {},
   "outputs": [
    {
     "output_type": "execute_result",
     "data": {
      "text/plain": "            Isbn Title TitleSource TitleLastRefreshed Publisher  \\\n0  9780000002402  None        None               None       LWW   \n1  9780000002679  None        None               None       LWW   \n2  9780000003102  None        None               None      None   \n3  9780000003201  None        None               None       LWW   \n4  9780000006493  None        None               None       LWW   \n\n  PublisherSource       PublisherLastRefreshed Author AuthorSource  \\\n0      GoldenList  2020-03-29 18:00:01.3733333   None         None   \n1      GoldenList  2020-03-29 18:00:01.3733333   None         None   \n2            None                         None   None         None   \n3      GoldenList  2020-03-29 18:00:01.3733333   None         None   \n4      GoldenList  2020-03-29 18:00:01.3733333   None         None   \n\n  AuthorLastRefreshed PublicationDate PublicationDateSource  \\\n0                None            None                  None   \n1                None            None                  None   \n2                None            None                  None   \n3                None            None                  None   \n4                None            None                  None   \n\n  PublicationDateLastRefreshed Copyright CopyrightSource  \\\n0                         None      None            None   \n1                         None      None            None   \n2                         None      None            None   \n3                         None      None            None   \n4                         None      None            None   \n\n  CopyrightLastRefreshed Binding BindingSource BindingLastRefreshed  \\\n0                   None    None          None                 None   \n1                   None    None          None                 None   \n2                   None    None          None                 None   \n3                   None    None          None                 None   \n4                   None    None          None                 None   \n\n                Timestamp  \n0 2020-03-29 19:02:44.370  \n1 2020-03-29 19:02:44.370  \n2 2020-03-29 19:02:44.370  \n3 2020-03-29 19:02:44.370  \n4 2020-03-29 19:02:44.370  ",
      "text/html": "<div>\n<style scoped>\n    .dataframe tbody tr th:only-of-type {\n        vertical-align: middle;\n    }\n\n    .dataframe tbody tr th {\n        vertical-align: top;\n    }\n\n    .dataframe thead th {\n        text-align: right;\n    }\n</style>\n<table border=\"1\" class=\"dataframe\">\n  <thead>\n    <tr style=\"text-align: right;\">\n      <th></th>\n      <th>Isbn</th>\n      <th>Title</th>\n      <th>TitleSource</th>\n      <th>TitleLastRefreshed</th>\n      <th>Publisher</th>\n      <th>PublisherSource</th>\n      <th>PublisherLastRefreshed</th>\n      <th>Author</th>\n      <th>AuthorSource</th>\n      <th>AuthorLastRefreshed</th>\n      <th>PublicationDate</th>\n      <th>PublicationDateSource</th>\n      <th>PublicationDateLastRefreshed</th>\n      <th>Copyright</th>\n      <th>CopyrightSource</th>\n      <th>CopyrightLastRefreshed</th>\n      <th>Binding</th>\n      <th>BindingSource</th>\n      <th>BindingLastRefreshed</th>\n      <th>Timestamp</th>\n    </tr>\n  </thead>\n  <tbody>\n    <tr>\n      <th>0</th>\n      <td>9780000002402</td>\n      <td>None</td>\n      <td>None</td>\n      <td>None</td>\n      <td>LWW</td>\n      <td>GoldenList</td>\n      <td>2020-03-29 18:00:01.3733333</td>\n      <td>None</td>\n      <td>None</td>\n      <td>None</td>\n      <td>None</td>\n      <td>None</td>\n      <td>None</td>\n      <td>None</td>\n      <td>None</td>\n      <td>None</td>\n      <td>None</td>\n      <td>None</td>\n      <td>None</td>\n      <td>2020-03-29 19:02:44.370</td>\n    </tr>\n    <tr>\n      <th>1</th>\n      <td>9780000002679</td>\n      <td>None</td>\n      <td>None</td>\n      <td>None</td>\n      <td>LWW</td>\n      <td>GoldenList</td>\n      <td>2020-03-29 18:00:01.3733333</td>\n      <td>None</td>\n      <td>None</td>\n      <td>None</td>\n      <td>None</td>\n      <td>None</td>\n      <td>None</td>\n      <td>None</td>\n      <td>None</td>\n      <td>None</td>\n      <td>None</td>\n      <td>None</td>\n      <td>None</td>\n      <td>2020-03-29 19:02:44.370</td>\n    </tr>\n    <tr>\n      <th>2</th>\n      <td>9780000003102</td>\n      <td>None</td>\n      <td>None</td>\n      <td>None</td>\n      <td>None</td>\n      <td>None</td>\n      <td>None</td>\n      <td>None</td>\n      <td>None</td>\n      <td>None</td>\n      <td>None</td>\n      <td>None</td>\n      <td>None</td>\n      <td>None</td>\n      <td>None</td>\n      <td>None</td>\n      <td>None</td>\n      <td>None</td>\n      <td>None</td>\n      <td>2020-03-29 19:02:44.370</td>\n    </tr>\n    <tr>\n      <th>3</th>\n      <td>9780000003201</td>\n      <td>None</td>\n      <td>None</td>\n      <td>None</td>\n      <td>LWW</td>\n      <td>GoldenList</td>\n      <td>2020-03-29 18:00:01.3733333</td>\n      <td>None</td>\n      <td>None</td>\n      <td>None</td>\n      <td>None</td>\n      <td>None</td>\n      <td>None</td>\n      <td>None</td>\n      <td>None</td>\n      <td>None</td>\n      <td>None</td>\n      <td>None</td>\n      <td>None</td>\n      <td>2020-03-29 19:02:44.370</td>\n    </tr>\n    <tr>\n      <th>4</th>\n      <td>9780000006493</td>\n      <td>None</td>\n      <td>None</td>\n      <td>None</td>\n      <td>LWW</td>\n      <td>GoldenList</td>\n      <td>2020-03-29 18:00:01.3733333</td>\n      <td>None</td>\n      <td>None</td>\n      <td>None</td>\n      <td>None</td>\n      <td>None</td>\n      <td>None</td>\n      <td>None</td>\n      <td>None</td>\n      <td>None</td>\n      <td>None</td>\n      <td>None</td>\n      <td>None</td>\n      <td>2020-03-29 19:02:44.370</td>\n    </tr>\n  </tbody>\n</table>\n</div>"
     },
     "metadata": {},
     "execution_count": 12
    }
   ],
   "source": [
    "bilblo_sql = \"\"\"\n",
    "SELECT *\n",
    "FROM Isbn.Bibliography\n",
    "\"\"\"\n",
    "biblio = pd.read_sql(bilblo_sql, prod_db)\n",
    "biblio.head()"
   ]
  },
  {
   "cell_type": "code",
   "execution_count": 14,
   "metadata": {},
   "outputs": [],
   "source": [
    "sup_list = pd.merge(list_price, biblio, how='left', on = 'Isbn' )"
   ]
  },
  {
   "cell_type": "code",
   "execution_count": 16,
   "metadata": {},
   "outputs": [
    {
     "output_type": "execute_result",
     "data": {
      "text/plain": "   Id           Isbn Currency  Price PriceSource           PriceLastRefreshed  \\\n0   1  9780061706585     USD    9.99  GoldenList  2020-03-29 18:00:01.3733333   \n1   2  9780061708718     USD   16.99  GoldenList  2020-03-29 18:00:01.3733333   \n2   3  9780061708763     USD   16.99  GoldenList  2020-03-29 18:00:01.3733333   \n3   4  9780061709562     USD    8.99  GoldenList  2020-03-29 18:00:01.3733333   \n4   5  9780061710308     USD   19.99  GoldenList  2020-03-29 18:00:01.3733333   \n\n                 Timestamp_x Title TitleSource TitleLastRefreshed  ...  \\\n0 2020-03-29 19:03:37.883333  None        None               None  ...   \n1 2020-03-29 19:03:37.883333  None        None               None  ...   \n2 2020-03-29 19:03:37.883333  None        None               None  ...   \n3 2020-03-29 19:03:37.883333  None        None               None  ...   \n4 2020-03-29 19:03:37.883333  None        None               None  ...   \n\n  PublicationDate PublicationDateSource PublicationDateLastRefreshed  \\\n0            None                  None                         None   \n1            None                  None                         None   \n2            None                  None                         None   \n3            None                  None                         None   \n4            None                  None                         None   \n\n  Copyright CopyrightSource CopyrightLastRefreshed Binding BindingSource  \\\n0      None            None                   None    None          None   \n1      None            None                   None    None          None   \n2      None            None                   None    None          None   \n3      None            None                   None    None          None   \n4      None            None                   None    None          None   \n\n  BindingLastRefreshed             Timestamp_y  \n0                 None 2020-03-29 19:02:44.370  \n1                 None 2020-03-29 19:02:44.370  \n2                 None 2020-03-29 19:02:44.370  \n3                 None 2020-03-29 19:02:44.370  \n4                 None 2020-03-29 19:02:44.370  \n\n[5 rows x 26 columns]",
      "text/html": "<div>\n<style scoped>\n    .dataframe tbody tr th:only-of-type {\n        vertical-align: middle;\n    }\n\n    .dataframe tbody tr th {\n        vertical-align: top;\n    }\n\n    .dataframe thead th {\n        text-align: right;\n    }\n</style>\n<table border=\"1\" class=\"dataframe\">\n  <thead>\n    <tr style=\"text-align: right;\">\n      <th></th>\n      <th>Id</th>\n      <th>Isbn</th>\n      <th>Currency</th>\n      <th>Price</th>\n      <th>PriceSource</th>\n      <th>PriceLastRefreshed</th>\n      <th>Timestamp_x</th>\n      <th>Title</th>\n      <th>TitleSource</th>\n      <th>TitleLastRefreshed</th>\n      <th>...</th>\n      <th>PublicationDate</th>\n      <th>PublicationDateSource</th>\n      <th>PublicationDateLastRefreshed</th>\n      <th>Copyright</th>\n      <th>CopyrightSource</th>\n      <th>CopyrightLastRefreshed</th>\n      <th>Binding</th>\n      <th>BindingSource</th>\n      <th>BindingLastRefreshed</th>\n      <th>Timestamp_y</th>\n    </tr>\n  </thead>\n  <tbody>\n    <tr>\n      <th>0</th>\n      <td>1</td>\n      <td>9780061706585</td>\n      <td>USD</td>\n      <td>9.99</td>\n      <td>GoldenList</td>\n      <td>2020-03-29 18:00:01.3733333</td>\n      <td>2020-03-29 19:03:37.883333</td>\n      <td>None</td>\n      <td>None</td>\n      <td>None</td>\n      <td>...</td>\n      <td>None</td>\n      <td>None</td>\n      <td>None</td>\n      <td>None</td>\n      <td>None</td>\n      <td>None</td>\n      <td>None</td>\n      <td>None</td>\n      <td>None</td>\n      <td>2020-03-29 19:02:44.370</td>\n    </tr>\n    <tr>\n      <th>1</th>\n      <td>2</td>\n      <td>9780061708718</td>\n      <td>USD</td>\n      <td>16.99</td>\n      <td>GoldenList</td>\n      <td>2020-03-29 18:00:01.3733333</td>\n      <td>2020-03-29 19:03:37.883333</td>\n      <td>None</td>\n      <td>None</td>\n      <td>None</td>\n      <td>...</td>\n      <td>None</td>\n      <td>None</td>\n      <td>None</td>\n      <td>None</td>\n      <td>None</td>\n      <td>None</td>\n      <td>None</td>\n      <td>None</td>\n      <td>None</td>\n      <td>2020-03-29 19:02:44.370</td>\n    </tr>\n    <tr>\n      <th>2</th>\n      <td>3</td>\n      <td>9780061708763</td>\n      <td>USD</td>\n      <td>16.99</td>\n      <td>GoldenList</td>\n      <td>2020-03-29 18:00:01.3733333</td>\n      <td>2020-03-29 19:03:37.883333</td>\n      <td>None</td>\n      <td>None</td>\n      <td>None</td>\n      <td>...</td>\n      <td>None</td>\n      <td>None</td>\n      <td>None</td>\n      <td>None</td>\n      <td>None</td>\n      <td>None</td>\n      <td>None</td>\n      <td>None</td>\n      <td>None</td>\n      <td>2020-03-29 19:02:44.370</td>\n    </tr>\n    <tr>\n      <th>3</th>\n      <td>4</td>\n      <td>9780061709562</td>\n      <td>USD</td>\n      <td>8.99</td>\n      <td>GoldenList</td>\n      <td>2020-03-29 18:00:01.3733333</td>\n      <td>2020-03-29 19:03:37.883333</td>\n      <td>None</td>\n      <td>None</td>\n      <td>None</td>\n      <td>...</td>\n      <td>None</td>\n      <td>None</td>\n      <td>None</td>\n      <td>None</td>\n      <td>None</td>\n      <td>None</td>\n      <td>None</td>\n      <td>None</td>\n      <td>None</td>\n      <td>2020-03-29 19:02:44.370</td>\n    </tr>\n    <tr>\n      <th>4</th>\n      <td>5</td>\n      <td>9780061710308</td>\n      <td>USD</td>\n      <td>19.99</td>\n      <td>GoldenList</td>\n      <td>2020-03-29 18:00:01.3733333</td>\n      <td>2020-03-29 19:03:37.883333</td>\n      <td>None</td>\n      <td>None</td>\n      <td>None</td>\n      <td>...</td>\n      <td>None</td>\n      <td>None</td>\n      <td>None</td>\n      <td>None</td>\n      <td>None</td>\n      <td>None</td>\n      <td>None</td>\n      <td>None</td>\n      <td>None</td>\n      <td>2020-03-29 19:02:44.370</td>\n    </tr>\n  </tbody>\n</table>\n<p>5 rows × 26 columns</p>\n</div>"
     },
     "metadata": {},
     "execution_count": 16
    }
   ],
   "source": [
    "sup_list.head()"
   ]
  },
  {
   "cell_type": "code",
   "execution_count": 18,
   "metadata": {},
   "outputs": [
    {
     "output_type": "execute_result",
     "data": {
      "text/plain": "Index(['Id', 'Isbn', 'Currency', 'Price', 'PriceSource', 'PriceLastRefreshed',\n       'Timestamp_x', 'Title', 'TitleSource', 'TitleLastRefreshed',\n       'Publisher', 'PublisherSource', 'PublisherLastRefreshed', 'Author',\n       'AuthorSource', 'AuthorLastRefreshed', 'PublicationDate',\n       'PublicationDateSource', 'PublicationDateLastRefreshed', 'Copyright',\n       'CopyrightSource', 'CopyrightLastRefreshed', 'Binding', 'BindingSource',\n       'BindingLastRefreshed', 'Timestamp_y'],\n      dtype='object')"
     },
     "metadata": {},
     "execution_count": 18
    }
   ],
   "source": [
    "sup_list.columns"
   ]
  },
  {
   "cell_type": "code",
   "execution_count": 331,
   "metadata": {},
   "outputs": [],
   "source": [
    "sup_list = sup_list[['Isbn','Currency', 'Price','Title', 'Publisher', 'Author']]"
   ]
  },
  {
   "cell_type": "code",
   "execution_count": 332,
   "metadata": {},
   "outputs": [
    {
     "output_type": "execute_result",
     "data": {
      "text/plain": "            Isbn Currency  Price Title       Publisher Author\n0  9780061706585     USD    9.99  None  HARPER COLLINS   None\n1  9780061708718     USD   16.99  None  HARPER COLLINS   None\n2  9780061708763     USD   16.99  None  HARPER COLLINS   None\n3  9780061709562     USD    8.99  None  HARPER COLLINS   None\n4  9780061710308     USD   19.99  None  HARPER COLLINS   None",
      "text/html": "<div>\n<style scoped>\n    .dataframe tbody tr th:only-of-type {\n        vertical-align: middle;\n    }\n\n    .dataframe tbody tr th {\n        vertical-align: top;\n    }\n\n    .dataframe thead th {\n        text-align: right;\n    }\n</style>\n<table border=\"1\" class=\"dataframe\">\n  <thead>\n    <tr style=\"text-align: right;\">\n      <th></th>\n      <th>Isbn</th>\n      <th>Currency</th>\n      <th>Price</th>\n      <th>Title</th>\n      <th>Publisher</th>\n      <th>Author</th>\n    </tr>\n  </thead>\n  <tbody>\n    <tr>\n      <th>0</th>\n      <td>9780061706585</td>\n      <td>USD</td>\n      <td>9.99</td>\n      <td>None</td>\n      <td>HARPER COLLINS</td>\n      <td>None</td>\n    </tr>\n    <tr>\n      <th>1</th>\n      <td>9780061708718</td>\n      <td>USD</td>\n      <td>16.99</td>\n      <td>None</td>\n      <td>HARPER COLLINS</td>\n      <td>None</td>\n    </tr>\n    <tr>\n      <th>2</th>\n      <td>9780061708763</td>\n      <td>USD</td>\n      <td>16.99</td>\n      <td>None</td>\n      <td>HARPER COLLINS</td>\n      <td>None</td>\n    </tr>\n    <tr>\n      <th>3</th>\n      <td>9780061709562</td>\n      <td>USD</td>\n      <td>8.99</td>\n      <td>None</td>\n      <td>HARPER COLLINS</td>\n      <td>None</td>\n    </tr>\n    <tr>\n      <th>4</th>\n      <td>9780061710308</td>\n      <td>USD</td>\n      <td>19.99</td>\n      <td>None</td>\n      <td>HARPER COLLINS</td>\n      <td>None</td>\n    </tr>\n  </tbody>\n</table>\n</div>"
     },
     "metadata": {},
     "execution_count": 332
    }
   ],
   "source": [
    "sup_list.head()"
   ]
  },
  {
   "cell_type": "code",
   "execution_count": 333,
   "metadata": {},
   "outputs": [
    {
     "output_type": "execute_result",
     "data": {
      "text/plain": "array(['HARPER COLLINS', 'Greenwillow Books', None, ..., 'Plectica LLC',\n       'Detritus Books', 'Hallen House Publishing'], dtype=object)"
     },
     "metadata": {},
     "execution_count": 333
    }
   ],
   "source": [
    "sup_list['Publisher'].unique()"
   ]
  },
  {
   "cell_type": "code",
   "execution_count": 334,
   "metadata": {},
   "outputs": [
    {
     "output_type": "execute_result",
     "data": {
      "text/plain": "Isbn         0\nCurrency     0\nPrice        0\nTitle        0\nPublisher    0\nAuthor       0\ndtype: int64"
     },
     "metadata": {},
     "execution_count": 334
    }
   ],
   "source": [
    "sup_list = sup_list.fillna('N/A')\n",
    "sup_list.isna().sum()"
   ]
  },
  {
   "cell_type": "code",
   "execution_count": 335,
   "metadata": {},
   "outputs": [
    {
     "output_type": "execute_result",
     "data": {
      "text/plain": "                                       PublisherLong  \\\n0                                     \"Abrams, Inc.\"   \n1             \"Addison-Wesley Longman, Incorporated\"   \n2                  \"Addison-Wesley Longman, Limited\"   \n3                      \"Allyn & Bacon, Incorporated\"   \n4  \"American Occupational Therapy Association, In...   \n\n                                      PublisherShort  \n0                                             ABRAMS  \n1                                            PEARSON  \n2                                            PEARSON  \n3                                            PEARSON  \n4  American Occupational Therapy Association, Inc...  ",
      "text/html": "<div>\n<style scoped>\n    .dataframe tbody tr th:only-of-type {\n        vertical-align: middle;\n    }\n\n    .dataframe tbody tr th {\n        vertical-align: top;\n    }\n\n    .dataframe thead th {\n        text-align: right;\n    }\n</style>\n<table border=\"1\" class=\"dataframe\">\n  <thead>\n    <tr style=\"text-align: right;\">\n      <th></th>\n      <th>PublisherLong</th>\n      <th>PublisherShort</th>\n    </tr>\n  </thead>\n  <tbody>\n    <tr>\n      <th>0</th>\n      <td>\"Abrams, Inc.\"</td>\n      <td>ABRAMS</td>\n    </tr>\n    <tr>\n      <th>1</th>\n      <td>\"Addison-Wesley Longman, Incorporated\"</td>\n      <td>PEARSON</td>\n    </tr>\n    <tr>\n      <th>2</th>\n      <td>\"Addison-Wesley Longman, Limited\"</td>\n      <td>PEARSON</td>\n    </tr>\n    <tr>\n      <th>3</th>\n      <td>\"Allyn &amp; Bacon, Incorporated\"</td>\n      <td>PEARSON</td>\n    </tr>\n    <tr>\n      <th>4</th>\n      <td>\"American Occupational Therapy Association, In...</td>\n      <td>American Occupational Therapy Association, Inc...</td>\n    </tr>\n  </tbody>\n</table>\n</div>"
     },
     "metadata": {},
     "execution_count": 335
    }
   ],
   "source": [
    "# 3. Clean publisher\n",
    "dictio_sql = \"\"\"\n",
    "SELECT *\n",
    "FROM dbo.PublisherDictionary\n",
    "\"\"\"\n",
    "\n",
    "dictio = pd.read_sql(dictio_sql, prouc_db)\n",
    "dictio.head()"
   ]
  },
  {
   "cell_type": "code",
   "execution_count": 336,
   "metadata": {},
   "outputs": [],
   "source": [
    "def clean_up(phrase):\n",
    "    phrase = phrase.lstrip()\n",
    "    phrase = phrase.rstrip()\n",
    "    phrase = phrase.upper()\n",
    "    return phrase"
   ]
  },
  {
   "cell_type": "code",
   "execution_count": 337,
   "metadata": {},
   "outputs": [],
   "source": [
    "for col in list(dictio.columns):\n",
    "    dictio[col] = dictio.apply(lambda x: clean_up(x[col]), axis =1)"
   ]
  },
  {
   "cell_type": "code",
   "execution_count": 338,
   "metadata": {},
   "outputs": [
    {
     "output_type": "execute_result",
     "data": {
      "text/plain": "                                       PublisherLong  \\\n0                                     \"ABRAMS, INC.\"   \n1             \"ADDISON-WESLEY LONGMAN, INCORPORATED\"   \n2                  \"ADDISON-WESLEY LONGMAN, LIMITED\"   \n3                      \"ALLYN & BACON, INCORPORATED\"   \n4  \"AMERICAN OCCUPATIONAL THERAPY ASSOCIATION, IN...   \n\n                                      PublisherShort  \n0                                             ABRAMS  \n1                                            PEARSON  \n2                                            PEARSON  \n3                                            PEARSON  \n4  AMERICAN OCCUPATIONAL THERAPY ASSOCIATION, INC...  ",
      "text/html": "<div>\n<style scoped>\n    .dataframe tbody tr th:only-of-type {\n        vertical-align: middle;\n    }\n\n    .dataframe tbody tr th {\n        vertical-align: top;\n    }\n\n    .dataframe thead th {\n        text-align: right;\n    }\n</style>\n<table border=\"1\" class=\"dataframe\">\n  <thead>\n    <tr style=\"text-align: right;\">\n      <th></th>\n      <th>PublisherLong</th>\n      <th>PublisherShort</th>\n    </tr>\n  </thead>\n  <tbody>\n    <tr>\n      <th>0</th>\n      <td>\"ABRAMS, INC.\"</td>\n      <td>ABRAMS</td>\n    </tr>\n    <tr>\n      <th>1</th>\n      <td>\"ADDISON-WESLEY LONGMAN, INCORPORATED\"</td>\n      <td>PEARSON</td>\n    </tr>\n    <tr>\n      <th>2</th>\n      <td>\"ADDISON-WESLEY LONGMAN, LIMITED\"</td>\n      <td>PEARSON</td>\n    </tr>\n    <tr>\n      <th>3</th>\n      <td>\"ALLYN &amp; BACON, INCORPORATED\"</td>\n      <td>PEARSON</td>\n    </tr>\n    <tr>\n      <th>4</th>\n      <td>\"AMERICAN OCCUPATIONAL THERAPY ASSOCIATION, IN...</td>\n      <td>AMERICAN OCCUPATIONAL THERAPY ASSOCIATION, INC...</td>\n    </tr>\n  </tbody>\n</table>\n</div>"
     },
     "metadata": {},
     "execution_count": 338
    }
   ],
   "source": [
    "dictio.head()"
   ]
  },
  {
   "cell_type": "code",
   "execution_count": 339,
   "metadata": {},
   "outputs": [],
   "source": [
    "for col in list(sup_list.drop(columns = 'Price').columns):\n",
    "    sup_list[col] = sup_list.apply(lambda x: clean_up(x[col]), axis =1)"
   ]
  },
  {
   "cell_type": "code",
   "execution_count": 340,
   "metadata": {},
   "outputs": [
    {
     "output_type": "execute_result",
     "data": {
      "text/plain": "            Isbn Currency  Price Title       Publisher Author\n0  9780061706585      USD   9.99   N/A  HARPER COLLINS    N/A\n1  9780061708718      USD  16.99   N/A  HARPER COLLINS    N/A\n2  9780061708763      USD  16.99   N/A  HARPER COLLINS    N/A\n3  9780061709562      USD   8.99   N/A  HARPER COLLINS    N/A\n4  9780061710308      USD  19.99   N/A  HARPER COLLINS    N/A",
      "text/html": "<div>\n<style scoped>\n    .dataframe tbody tr th:only-of-type {\n        vertical-align: middle;\n    }\n\n    .dataframe tbody tr th {\n        vertical-align: top;\n    }\n\n    .dataframe thead th {\n        text-align: right;\n    }\n</style>\n<table border=\"1\" class=\"dataframe\">\n  <thead>\n    <tr style=\"text-align: right;\">\n      <th></th>\n      <th>Isbn</th>\n      <th>Currency</th>\n      <th>Price</th>\n      <th>Title</th>\n      <th>Publisher</th>\n      <th>Author</th>\n    </tr>\n  </thead>\n  <tbody>\n    <tr>\n      <th>0</th>\n      <td>9780061706585</td>\n      <td>USD</td>\n      <td>9.99</td>\n      <td>N/A</td>\n      <td>HARPER COLLINS</td>\n      <td>N/A</td>\n    </tr>\n    <tr>\n      <th>1</th>\n      <td>9780061708718</td>\n      <td>USD</td>\n      <td>16.99</td>\n      <td>N/A</td>\n      <td>HARPER COLLINS</td>\n      <td>N/A</td>\n    </tr>\n    <tr>\n      <th>2</th>\n      <td>9780061708763</td>\n      <td>USD</td>\n      <td>16.99</td>\n      <td>N/A</td>\n      <td>HARPER COLLINS</td>\n      <td>N/A</td>\n    </tr>\n    <tr>\n      <th>3</th>\n      <td>9780061709562</td>\n      <td>USD</td>\n      <td>8.99</td>\n      <td>N/A</td>\n      <td>HARPER COLLINS</td>\n      <td>N/A</td>\n    </tr>\n    <tr>\n      <th>4</th>\n      <td>9780061710308</td>\n      <td>USD</td>\n      <td>19.99</td>\n      <td>N/A</td>\n      <td>HARPER COLLINS</td>\n      <td>N/A</td>\n    </tr>\n  </tbody>\n</table>\n</div>"
     },
     "metadata": {},
     "execution_count": 340
    }
   ],
   "source": [
    "sup_list.head()"
   ]
  },
  {
   "cell_type": "code",
   "execution_count": 341,
   "metadata": {},
   "outputs": [],
   "source": [
    "# Merge on Publisher\n",
    "sup_list2 = pd.merge(sup_list, dictio, how='left', left_on = 'Publisher', right_on = 'PublisherLong' )"
   ]
  },
  {
   "cell_type": "code",
   "execution_count": 342,
   "metadata": {},
   "outputs": [
    {
     "output_type": "execute_result",
     "data": {
      "text/plain": "            Isbn Currency  Price Title       Publisher Author   PublisherLong  \\\n0  9780061706585      USD   9.99   N/A  HARPER COLLINS    N/A  HARPER COLLINS   \n1  9780061708718      USD  16.99   N/A  HARPER COLLINS    N/A  HARPER COLLINS   \n2  9780061708763      USD  16.99   N/A  HARPER COLLINS    N/A  HARPER COLLINS   \n3  9780061709562      USD   8.99   N/A  HARPER COLLINS    N/A  HARPER COLLINS   \n4  9780061710308      USD  19.99   N/A  HARPER COLLINS    N/A  HARPER COLLINS   \n\n   PublisherShort  \n0  HARPER COLLINS  \n1  HARPER COLLINS  \n2  HARPER COLLINS  \n3  HARPER COLLINS  \n4  HARPER COLLINS  ",
      "text/html": "<div>\n<style scoped>\n    .dataframe tbody tr th:only-of-type {\n        vertical-align: middle;\n    }\n\n    .dataframe tbody tr th {\n        vertical-align: top;\n    }\n\n    .dataframe thead th {\n        text-align: right;\n    }\n</style>\n<table border=\"1\" class=\"dataframe\">\n  <thead>\n    <tr style=\"text-align: right;\">\n      <th></th>\n      <th>Isbn</th>\n      <th>Currency</th>\n      <th>Price</th>\n      <th>Title</th>\n      <th>Publisher</th>\n      <th>Author</th>\n      <th>PublisherLong</th>\n      <th>PublisherShort</th>\n    </tr>\n  </thead>\n  <tbody>\n    <tr>\n      <th>0</th>\n      <td>9780061706585</td>\n      <td>USD</td>\n      <td>9.99</td>\n      <td>N/A</td>\n      <td>HARPER COLLINS</td>\n      <td>N/A</td>\n      <td>HARPER COLLINS</td>\n      <td>HARPER COLLINS</td>\n    </tr>\n    <tr>\n      <th>1</th>\n      <td>9780061708718</td>\n      <td>USD</td>\n      <td>16.99</td>\n      <td>N/A</td>\n      <td>HARPER COLLINS</td>\n      <td>N/A</td>\n      <td>HARPER COLLINS</td>\n      <td>HARPER COLLINS</td>\n    </tr>\n    <tr>\n      <th>2</th>\n      <td>9780061708763</td>\n      <td>USD</td>\n      <td>16.99</td>\n      <td>N/A</td>\n      <td>HARPER COLLINS</td>\n      <td>N/A</td>\n      <td>HARPER COLLINS</td>\n      <td>HARPER COLLINS</td>\n    </tr>\n    <tr>\n      <th>3</th>\n      <td>9780061709562</td>\n      <td>USD</td>\n      <td>8.99</td>\n      <td>N/A</td>\n      <td>HARPER COLLINS</td>\n      <td>N/A</td>\n      <td>HARPER COLLINS</td>\n      <td>HARPER COLLINS</td>\n    </tr>\n    <tr>\n      <th>4</th>\n      <td>9780061710308</td>\n      <td>USD</td>\n      <td>19.99</td>\n      <td>N/A</td>\n      <td>HARPER COLLINS</td>\n      <td>N/A</td>\n      <td>HARPER COLLINS</td>\n      <td>HARPER COLLINS</td>\n    </tr>\n  </tbody>\n</table>\n</div>"
     },
     "metadata": {},
     "execution_count": 342
    }
   ],
   "source": [
    "sup_list2.head()"
   ]
  },
  {
   "cell_type": "code",
   "execution_count": 343,
   "metadata": {},
   "outputs": [
    {
     "output_type": "execute_result",
     "data": {
      "text/plain": "  Supplier        Publisher Currency  Discount  Shipping Cost  max quantity  \\\n0   COINFO         3D TOTAL      AUD      0.22            3.3         10000   \n1   COINFO         ABC CLIO      AUD      0.30            3.3         10000   \n2   COINFO             AIAA      AUD      0.30            3.3         10000   \n3   COINFO    ALIEN & UNWIN      AUD      0.33            3.3         10000   \n4   COINFO  Amer Psych Ass.      AUD      0.33            3.3         10000   \n\n   Min     Region  \n0    0  AUSTRALIA  \n1    0  AUSTRALIA  \n2    0  AUSTRALIA  \n3    0  AUSTRALIA  \n4    0  AUSTRALIA  ",
      "text/html": "<div>\n<style scoped>\n    .dataframe tbody tr th:only-of-type {\n        vertical-align: middle;\n    }\n\n    .dataframe tbody tr th {\n        vertical-align: top;\n    }\n\n    .dataframe thead th {\n        text-align: right;\n    }\n</style>\n<table border=\"1\" class=\"dataframe\">\n  <thead>\n    <tr style=\"text-align: right;\">\n      <th></th>\n      <th>Supplier</th>\n      <th>Publisher</th>\n      <th>Currency</th>\n      <th>Discount</th>\n      <th>Shipping Cost</th>\n      <th>max quantity</th>\n      <th>Min</th>\n      <th>Region</th>\n    </tr>\n  </thead>\n  <tbody>\n    <tr>\n      <th>0</th>\n      <td>COINFO</td>\n      <td>3D TOTAL</td>\n      <td>AUD</td>\n      <td>0.22</td>\n      <td>3.3</td>\n      <td>10000</td>\n      <td>0</td>\n      <td>AUSTRALIA</td>\n    </tr>\n    <tr>\n      <th>1</th>\n      <td>COINFO</td>\n      <td>ABC CLIO</td>\n      <td>AUD</td>\n      <td>0.30</td>\n      <td>3.3</td>\n      <td>10000</td>\n      <td>0</td>\n      <td>AUSTRALIA</td>\n    </tr>\n    <tr>\n      <th>2</th>\n      <td>COINFO</td>\n      <td>AIAA</td>\n      <td>AUD</td>\n      <td>0.30</td>\n      <td>3.3</td>\n      <td>10000</td>\n      <td>0</td>\n      <td>AUSTRALIA</td>\n    </tr>\n    <tr>\n      <th>3</th>\n      <td>COINFO</td>\n      <td>ALIEN &amp; UNWIN</td>\n      <td>AUD</td>\n      <td>0.33</td>\n      <td>3.3</td>\n      <td>10000</td>\n      <td>0</td>\n      <td>AUSTRALIA</td>\n    </tr>\n    <tr>\n      <th>4</th>\n      <td>COINFO</td>\n      <td>Amer Psych Ass.</td>\n      <td>AUD</td>\n      <td>0.33</td>\n      <td>3.3</td>\n      <td>10000</td>\n      <td>0</td>\n      <td>AUSTRALIA</td>\n    </tr>\n  </tbody>\n</table>\n</div>"
     },
     "metadata": {},
     "execution_count": 343
    }
   ],
   "source": [
    "# 4. get suppliers discount\n",
    "sup_pub = pd.read_excel('suppliers.xlsx',  sheet_name='pub')\n",
    "sup_pub.head()"
   ]
  },
  {
   "cell_type": "code",
   "execution_count": 344,
   "metadata": {},
   "outputs": [],
   "source": [
    "for col in ['Supplier', 'Publisher', 'Currency', 'Region']:\n",
    "    sup_pub[col] = sup_pub.apply(lambda x: clean_up(x[col]), axis =1)"
   ]
  },
  {
   "cell_type": "code",
   "execution_count": 345,
   "metadata": {},
   "outputs": [],
   "source": [
    "sup_list3 = pd.merge(sup_list2, sup_pub, how='inner', left_on = ['Currency', 'PublisherShort'], right_on = ['Currency', 'Publisher'] )"
   ]
  },
  {
   "cell_type": "code",
   "execution_count": 346,
   "metadata": {},
   "outputs": [
    {
     "output_type": "execute_result",
     "data": {
      "text/plain": "                 Isbn Currency   Price  \\\n0       9780000002402      GBP  306.00   \n1       9780000006493      GBP  772.00   \n2       9780000009883      GBP   92.00   \n3       9780000003201      GBP  265.00   \n4       9780000002679      GBP  425.00   \n...               ...      ...     ...   \n485889  9789027252722      AUD   78.95   \n485890  9789027212092      AUD   79.95   \n485891  9789027213273      AUD   78.95   \n485892  9789027219060      AUD   75.95   \n485893  9789027231949      AUD   75.95   \n\n                                                    Title  \\\n0                                                     N/A   \n1                                                     N/A   \n2                                                     N/A   \n3                                                     N/A   \n4                                                     N/A   \n...                                                   ...   \n485889  PIDGINS, CREOLES AND MIXED LANGUAGES: AN INTRO...   \n485890                    HISTORY OF THE ENGLISH LANGUAGE   \n485891                         PRONUNCIATION FUNDAMENTALS   \n485892  COGNITIVE EXPLORATION OF LANGUAGE AND LINGUISTICS   \n485893                FROM THE CLASSROOM TO THE COURTROOM   \n\n                      Publisher_x                              Author  \\\n0                             LWW                                 N/A   \n1                             LWW                                 N/A   \n2                             LWW                                 N/A   \n3                             LWW                                 N/A   \n4                             LWW                                 N/A   \n...                           ...                                 ...   \n485889  JOHN BENJAMINS PUBLISHING                   VIVEKA VELUPILLAI   \n485890  JOHN BENJAMINS PUBLISHING                   ELLY VAN GELDEREN   \n485891  JOHN BENJAMINS PUBLISHING  TRACEY M. DERWING; MURRAY J. MUNRO   \n485892  JOHN BENJAMINS PUBLISHING                         RENE DIRVEN   \n485893  JOHN BENJAMINS PUBLISHING                   ELENA M. DE JONGH   \n\n                    PublisherLong             PublisherShort Supplier  \\\n0                             LWW                        LWW      ABE   \n1                             LWW                        LWW      ABE   \n2                             LWW                        LWW      ABE   \n3                             LWW                        LWW      ABE   \n4                             LWW                        LWW      ABE   \n...                           ...                        ...      ...   \n485889  JOHN BENJAMINS PUBLISHING  JOHN BENJAMINS PUBLISHING   COINFO   \n485890  JOHN BENJAMINS PUBLISHING  JOHN BENJAMINS PUBLISHING   COINFO   \n485891  JOHN BENJAMINS PUBLISHING  JOHN BENJAMINS PUBLISHING   COINFO   \n485892  JOHN BENJAMINS PUBLISHING  JOHN BENJAMINS PUBLISHING   COINFO   \n485893  JOHN BENJAMINS PUBLISHING  JOHN BENJAMINS PUBLISHING   COINFO   \n\n                      Publisher_y  Discount  Shipping Cost  max quantity  Min  \\\n0                             LWW      0.55           3.47         10000    0   \n1                             LWW      0.55           3.47         10000    0   \n2                             LWW      0.55           3.47         10000    0   \n3                             LWW      0.55           3.47         10000    0   \n4                             LWW      0.55           3.47         10000    0   \n...                           ...       ...            ...           ...  ...   \n485889  JOHN BENJAMINS PUBLISHING      0.30           3.30         10000    0   \n485890  JOHN BENJAMINS PUBLISHING      0.30           3.30         10000    0   \n485891  JOHN BENJAMINS PUBLISHING      0.30           3.30         10000    0   \n485892  JOHN BENJAMINS PUBLISHING      0.30           3.30         10000    0   \n485893  JOHN BENJAMINS PUBLISHING      0.30           3.30         10000    0   \n\n           Region  \n0          EUROPE  \n1          EUROPE  \n2          EUROPE  \n3          EUROPE  \n4          EUROPE  \n...           ...  \n485889  AUSTRALIA  \n485890  AUSTRALIA  \n485891  AUSTRALIA  \n485892  AUSTRALIA  \n485893  AUSTRALIA  \n\n[485894 rows x 15 columns]",
      "text/html": "<div>\n<style scoped>\n    .dataframe tbody tr th:only-of-type {\n        vertical-align: middle;\n    }\n\n    .dataframe tbody tr th {\n        vertical-align: top;\n    }\n\n    .dataframe thead th {\n        text-align: right;\n    }\n</style>\n<table border=\"1\" class=\"dataframe\">\n  <thead>\n    <tr style=\"text-align: right;\">\n      <th></th>\n      <th>Isbn</th>\n      <th>Currency</th>\n      <th>Price</th>\n      <th>Title</th>\n      <th>Publisher_x</th>\n      <th>Author</th>\n      <th>PublisherLong</th>\n      <th>PublisherShort</th>\n      <th>Supplier</th>\n      <th>Publisher_y</th>\n      <th>Discount</th>\n      <th>Shipping Cost</th>\n      <th>max quantity</th>\n      <th>Min</th>\n      <th>Region</th>\n    </tr>\n  </thead>\n  <tbody>\n    <tr>\n      <th>0</th>\n      <td>9780000002402</td>\n      <td>GBP</td>\n      <td>306.00</td>\n      <td>N/A</td>\n      <td>LWW</td>\n      <td>N/A</td>\n      <td>LWW</td>\n      <td>LWW</td>\n      <td>ABE</td>\n      <td>LWW</td>\n      <td>0.55</td>\n      <td>3.47</td>\n      <td>10000</td>\n      <td>0</td>\n      <td>EUROPE</td>\n    </tr>\n    <tr>\n      <th>1</th>\n      <td>9780000006493</td>\n      <td>GBP</td>\n      <td>772.00</td>\n      <td>N/A</td>\n      <td>LWW</td>\n      <td>N/A</td>\n      <td>LWW</td>\n      <td>LWW</td>\n      <td>ABE</td>\n      <td>LWW</td>\n      <td>0.55</td>\n      <td>3.47</td>\n      <td>10000</td>\n      <td>0</td>\n      <td>EUROPE</td>\n    </tr>\n    <tr>\n      <th>2</th>\n      <td>9780000009883</td>\n      <td>GBP</td>\n      <td>92.00</td>\n      <td>N/A</td>\n      <td>LWW</td>\n      <td>N/A</td>\n      <td>LWW</td>\n      <td>LWW</td>\n      <td>ABE</td>\n      <td>LWW</td>\n      <td>0.55</td>\n      <td>3.47</td>\n      <td>10000</td>\n      <td>0</td>\n      <td>EUROPE</td>\n    </tr>\n    <tr>\n      <th>3</th>\n      <td>9780000003201</td>\n      <td>GBP</td>\n      <td>265.00</td>\n      <td>N/A</td>\n      <td>LWW</td>\n      <td>N/A</td>\n      <td>LWW</td>\n      <td>LWW</td>\n      <td>ABE</td>\n      <td>LWW</td>\n      <td>0.55</td>\n      <td>3.47</td>\n      <td>10000</td>\n      <td>0</td>\n      <td>EUROPE</td>\n    </tr>\n    <tr>\n      <th>4</th>\n      <td>9780000002679</td>\n      <td>GBP</td>\n      <td>425.00</td>\n      <td>N/A</td>\n      <td>LWW</td>\n      <td>N/A</td>\n      <td>LWW</td>\n      <td>LWW</td>\n      <td>ABE</td>\n      <td>LWW</td>\n      <td>0.55</td>\n      <td>3.47</td>\n      <td>10000</td>\n      <td>0</td>\n      <td>EUROPE</td>\n    </tr>\n    <tr>\n      <th>...</th>\n      <td>...</td>\n      <td>...</td>\n      <td>...</td>\n      <td>...</td>\n      <td>...</td>\n      <td>...</td>\n      <td>...</td>\n      <td>...</td>\n      <td>...</td>\n      <td>...</td>\n      <td>...</td>\n      <td>...</td>\n      <td>...</td>\n      <td>...</td>\n      <td>...</td>\n    </tr>\n    <tr>\n      <th>485889</th>\n      <td>9789027252722</td>\n      <td>AUD</td>\n      <td>78.95</td>\n      <td>PIDGINS, CREOLES AND MIXED LANGUAGES: AN INTRO...</td>\n      <td>JOHN BENJAMINS PUBLISHING</td>\n      <td>VIVEKA VELUPILLAI</td>\n      <td>JOHN BENJAMINS PUBLISHING</td>\n      <td>JOHN BENJAMINS PUBLISHING</td>\n      <td>COINFO</td>\n      <td>JOHN BENJAMINS PUBLISHING</td>\n      <td>0.30</td>\n      <td>3.30</td>\n      <td>10000</td>\n      <td>0</td>\n      <td>AUSTRALIA</td>\n    </tr>\n    <tr>\n      <th>485890</th>\n      <td>9789027212092</td>\n      <td>AUD</td>\n      <td>79.95</td>\n      <td>HISTORY OF THE ENGLISH LANGUAGE</td>\n      <td>JOHN BENJAMINS PUBLISHING</td>\n      <td>ELLY VAN GELDEREN</td>\n      <td>JOHN BENJAMINS PUBLISHING</td>\n      <td>JOHN BENJAMINS PUBLISHING</td>\n      <td>COINFO</td>\n      <td>JOHN BENJAMINS PUBLISHING</td>\n      <td>0.30</td>\n      <td>3.30</td>\n      <td>10000</td>\n      <td>0</td>\n      <td>AUSTRALIA</td>\n    </tr>\n    <tr>\n      <th>485891</th>\n      <td>9789027213273</td>\n      <td>AUD</td>\n      <td>78.95</td>\n      <td>PRONUNCIATION FUNDAMENTALS</td>\n      <td>JOHN BENJAMINS PUBLISHING</td>\n      <td>TRACEY M. DERWING; MURRAY J. MUNRO</td>\n      <td>JOHN BENJAMINS PUBLISHING</td>\n      <td>JOHN BENJAMINS PUBLISHING</td>\n      <td>COINFO</td>\n      <td>JOHN BENJAMINS PUBLISHING</td>\n      <td>0.30</td>\n      <td>3.30</td>\n      <td>10000</td>\n      <td>0</td>\n      <td>AUSTRALIA</td>\n    </tr>\n    <tr>\n      <th>485892</th>\n      <td>9789027219060</td>\n      <td>AUD</td>\n      <td>75.95</td>\n      <td>COGNITIVE EXPLORATION OF LANGUAGE AND LINGUISTICS</td>\n      <td>JOHN BENJAMINS PUBLISHING</td>\n      <td>RENE DIRVEN</td>\n      <td>JOHN BENJAMINS PUBLISHING</td>\n      <td>JOHN BENJAMINS PUBLISHING</td>\n      <td>COINFO</td>\n      <td>JOHN BENJAMINS PUBLISHING</td>\n      <td>0.30</td>\n      <td>3.30</td>\n      <td>10000</td>\n      <td>0</td>\n      <td>AUSTRALIA</td>\n    </tr>\n    <tr>\n      <th>485893</th>\n      <td>9789027231949</td>\n      <td>AUD</td>\n      <td>75.95</td>\n      <td>FROM THE CLASSROOM TO THE COURTROOM</td>\n      <td>JOHN BENJAMINS PUBLISHING</td>\n      <td>ELENA M. DE JONGH</td>\n      <td>JOHN BENJAMINS PUBLISHING</td>\n      <td>JOHN BENJAMINS PUBLISHING</td>\n      <td>COINFO</td>\n      <td>JOHN BENJAMINS PUBLISHING</td>\n      <td>0.30</td>\n      <td>3.30</td>\n      <td>10000</td>\n      <td>0</td>\n      <td>AUSTRALIA</td>\n    </tr>\n  </tbody>\n</table>\n<p>485894 rows × 15 columns</p>\n</div>"
     },
     "metadata": {},
     "execution_count": 346
    }
   ],
   "source": [
    "sup_list3"
   ]
  },
  {
   "cell_type": "code",
   "execution_count": 347,
   "metadata": {},
   "outputs": [],
   "source": [
    "sup_list3.drop(columns = ['Publisher_x', 'PublisherLong', 'Publisher_y'], inplace = True)"
   ]
  },
  {
   "cell_type": "code",
   "execution_count": 348,
   "metadata": {},
   "outputs": [
    {
     "output_type": "execute_result",
     "data": {
      "text/plain": "            Isbn Currency  Price Title Author PublisherShort Supplier  \\\n0  9780000002402      GBP  306.0   N/A    N/A            LWW      ABE   \n1  9780000006493      GBP  772.0   N/A    N/A            LWW      ABE   \n2  9780000009883      GBP   92.0   N/A    N/A            LWW      ABE   \n3  9780000003201      GBP  265.0   N/A    N/A            LWW      ABE   \n4  9780000002679      GBP  425.0   N/A    N/A            LWW      ABE   \n\n   Discount  Shipping Cost  max quantity  Min  Region  \n0      0.55           3.47         10000    0  EUROPE  \n1      0.55           3.47         10000    0  EUROPE  \n2      0.55           3.47         10000    0  EUROPE  \n3      0.55           3.47         10000    0  EUROPE  \n4      0.55           3.47         10000    0  EUROPE  ",
      "text/html": "<div>\n<style scoped>\n    .dataframe tbody tr th:only-of-type {\n        vertical-align: middle;\n    }\n\n    .dataframe tbody tr th {\n        vertical-align: top;\n    }\n\n    .dataframe thead th {\n        text-align: right;\n    }\n</style>\n<table border=\"1\" class=\"dataframe\">\n  <thead>\n    <tr style=\"text-align: right;\">\n      <th></th>\n      <th>Isbn</th>\n      <th>Currency</th>\n      <th>Price</th>\n      <th>Title</th>\n      <th>Author</th>\n      <th>PublisherShort</th>\n      <th>Supplier</th>\n      <th>Discount</th>\n      <th>Shipping Cost</th>\n      <th>max quantity</th>\n      <th>Min</th>\n      <th>Region</th>\n    </tr>\n  </thead>\n  <tbody>\n    <tr>\n      <th>0</th>\n      <td>9780000002402</td>\n      <td>GBP</td>\n      <td>306.0</td>\n      <td>N/A</td>\n      <td>N/A</td>\n      <td>LWW</td>\n      <td>ABE</td>\n      <td>0.55</td>\n      <td>3.47</td>\n      <td>10000</td>\n      <td>0</td>\n      <td>EUROPE</td>\n    </tr>\n    <tr>\n      <th>1</th>\n      <td>9780000006493</td>\n      <td>GBP</td>\n      <td>772.0</td>\n      <td>N/A</td>\n      <td>N/A</td>\n      <td>LWW</td>\n      <td>ABE</td>\n      <td>0.55</td>\n      <td>3.47</td>\n      <td>10000</td>\n      <td>0</td>\n      <td>EUROPE</td>\n    </tr>\n    <tr>\n      <th>2</th>\n      <td>9780000009883</td>\n      <td>GBP</td>\n      <td>92.0</td>\n      <td>N/A</td>\n      <td>N/A</td>\n      <td>LWW</td>\n      <td>ABE</td>\n      <td>0.55</td>\n      <td>3.47</td>\n      <td>10000</td>\n      <td>0</td>\n      <td>EUROPE</td>\n    </tr>\n    <tr>\n      <th>3</th>\n      <td>9780000003201</td>\n      <td>GBP</td>\n      <td>265.0</td>\n      <td>N/A</td>\n      <td>N/A</td>\n      <td>LWW</td>\n      <td>ABE</td>\n      <td>0.55</td>\n      <td>3.47</td>\n      <td>10000</td>\n      <td>0</td>\n      <td>EUROPE</td>\n    </tr>\n    <tr>\n      <th>4</th>\n      <td>9780000002679</td>\n      <td>GBP</td>\n      <td>425.0</td>\n      <td>N/A</td>\n      <td>N/A</td>\n      <td>LWW</td>\n      <td>ABE</td>\n      <td>0.55</td>\n      <td>3.47</td>\n      <td>10000</td>\n      <td>0</td>\n      <td>EUROPE</td>\n    </tr>\n  </tbody>\n</table>\n</div>"
     },
     "metadata": {},
     "execution_count": 348
    }
   ],
   "source": [
    "sup_list3.head()"
   ]
  },
  {
   "cell_type": "code",
   "execution_count": 349,
   "metadata": {},
   "outputs": [],
   "source": [
    "# 5. Check Suppliers special discounts\n",
    "sp_disc = pd.read_excel(\"../../../../Vendors/. Short Discounted/all_short_discount_list.xlsx\")"
   ]
  },
  {
   "cell_type": "code",
   "execution_count": 350,
   "metadata": {},
   "outputs": [
    {
     "output_type": "execute_result",
     "data": {
      "text/plain": "  SUPPLIER           ISBN  DISCOUNT\n0      ABE  9781408041734       0.2\n1      ABE  9781408041918       0.2\n2      ABE  9781408056509       0.2\n3      ABE  9781408060377       0.2\n4      ABE  9780534944827       0.3",
      "text/html": "<div>\n<style scoped>\n    .dataframe tbody tr th:only-of-type {\n        vertical-align: middle;\n    }\n\n    .dataframe tbody tr th {\n        vertical-align: top;\n    }\n\n    .dataframe thead th {\n        text-align: right;\n    }\n</style>\n<table border=\"1\" class=\"dataframe\">\n  <thead>\n    <tr style=\"text-align: right;\">\n      <th></th>\n      <th>SUPPLIER</th>\n      <th>ISBN</th>\n      <th>DISCOUNT</th>\n    </tr>\n  </thead>\n  <tbody>\n    <tr>\n      <th>0</th>\n      <td>ABE</td>\n      <td>9781408041734</td>\n      <td>0.2</td>\n    </tr>\n    <tr>\n      <th>1</th>\n      <td>ABE</td>\n      <td>9781408041918</td>\n      <td>0.2</td>\n    </tr>\n    <tr>\n      <th>2</th>\n      <td>ABE</td>\n      <td>9781408056509</td>\n      <td>0.2</td>\n    </tr>\n    <tr>\n      <th>3</th>\n      <td>ABE</td>\n      <td>9781408060377</td>\n      <td>0.2</td>\n    </tr>\n    <tr>\n      <th>4</th>\n      <td>ABE</td>\n      <td>9780534944827</td>\n      <td>0.3</td>\n    </tr>\n  </tbody>\n</table>\n</div>"
     },
     "metadata": {},
     "execution_count": 350
    }
   ],
   "source": [
    "sp_disc.head()"
   ]
  },
  {
   "cell_type": "code",
   "execution_count": 351,
   "metadata": {},
   "outputs": [
    {
     "output_type": "execute_result",
     "data": {
      "text/plain": "SUPPLIER     object\nISBN          int64\nDISCOUNT    float64\ndtype: object"
     },
     "metadata": {},
     "execution_count": 351
    }
   ],
   "source": [
    "sp_disc.dtypes"
   ]
  },
  {
   "cell_type": "code",
   "execution_count": 352,
   "metadata": {},
   "outputs": [
    {
     "output_type": "execute_result",
     "data": {
      "text/plain": "SUPPLIER     object\nISBN         object\nDISCOUNT    float64\ndtype: object"
     },
     "metadata": {},
     "execution_count": 352
    }
   ],
   "source": [
    "sp_disc['ISBN'] = sp_disc['ISBN'].astype(str)\n",
    "sp_disc.dtypes"
   ]
  },
  {
   "cell_type": "code",
   "execution_count": 353,
   "metadata": {},
   "outputs": [
    {
     "output_type": "execute_result",
     "data": {
      "text/plain": "  SUPPLIER           ISBN  DISCOUNT\n0      ABE  9781408041734       0.2\n1      ABE  9781408041918       0.2\n2      ABE  9781408056509       0.2\n3      ABE  9781408060377       0.2\n4      ABE  9780534944827       0.3",
      "text/html": "<div>\n<style scoped>\n    .dataframe tbody tr th:only-of-type {\n        vertical-align: middle;\n    }\n\n    .dataframe tbody tr th {\n        vertical-align: top;\n    }\n\n    .dataframe thead th {\n        text-align: right;\n    }\n</style>\n<table border=\"1\" class=\"dataframe\">\n  <thead>\n    <tr style=\"text-align: right;\">\n      <th></th>\n      <th>SUPPLIER</th>\n      <th>ISBN</th>\n      <th>DISCOUNT</th>\n    </tr>\n  </thead>\n  <tbody>\n    <tr>\n      <th>0</th>\n      <td>ABE</td>\n      <td>9781408041734</td>\n      <td>0.2</td>\n    </tr>\n    <tr>\n      <th>1</th>\n      <td>ABE</td>\n      <td>9781408041918</td>\n      <td>0.2</td>\n    </tr>\n    <tr>\n      <th>2</th>\n      <td>ABE</td>\n      <td>9781408056509</td>\n      <td>0.2</td>\n    </tr>\n    <tr>\n      <th>3</th>\n      <td>ABE</td>\n      <td>9781408060377</td>\n      <td>0.2</td>\n    </tr>\n    <tr>\n      <th>4</th>\n      <td>ABE</td>\n      <td>9780534944827</td>\n      <td>0.3</td>\n    </tr>\n  </tbody>\n</table>\n</div>"
     },
     "metadata": {},
     "execution_count": 353
    }
   ],
   "source": [
    "for col in ['SUPPLIER', 'ISBN']:\n",
    "    sp_disc[col] = sp_disc.apply(lambda x: clean_up(x[col]), axis =1)\n",
    "\n",
    "sp_disc.head()"
   ]
  },
  {
   "cell_type": "code",
   "execution_count": 354,
   "metadata": {},
   "outputs": [],
   "source": [
    "sup_list4 = pd.merge(sup_list3, sp_disc, how='left', left_on = ['Supplier', 'Isbn'], right_on = ['SUPPLIER', 'ISBN'] )"
   ]
  },
  {
   "cell_type": "code",
   "execution_count": 355,
   "metadata": {},
   "outputs": [
    {
     "output_type": "execute_result",
     "data": {
      "text/plain": "            Isbn Currency  Price Title Author PublisherShort Supplier  \\\n0  9780000002402      GBP  306.0   N/A    N/A            LWW      ABE   \n1  9780000006493      GBP  772.0   N/A    N/A            LWW      ABE   \n2  9780000009883      GBP   92.0   N/A    N/A            LWW      ABE   \n3  9780000003201      GBP  265.0   N/A    N/A            LWW      ABE   \n4  9780000002679      GBP  425.0   N/A    N/A            LWW      ABE   \n\n   Discount  Shipping Cost  max quantity  Min  Region SUPPLIER ISBN  DISCOUNT  \n0      0.55           3.47         10000    0  EUROPE      NaN  NaN       NaN  \n1      0.55           3.47         10000    0  EUROPE      NaN  NaN       NaN  \n2      0.55           3.47         10000    0  EUROPE      NaN  NaN       NaN  \n3      0.55           3.47         10000    0  EUROPE      NaN  NaN       NaN  \n4      0.55           3.47         10000    0  EUROPE      NaN  NaN       NaN  ",
      "text/html": "<div>\n<style scoped>\n    .dataframe tbody tr th:only-of-type {\n        vertical-align: middle;\n    }\n\n    .dataframe tbody tr th {\n        vertical-align: top;\n    }\n\n    .dataframe thead th {\n        text-align: right;\n    }\n</style>\n<table border=\"1\" class=\"dataframe\">\n  <thead>\n    <tr style=\"text-align: right;\">\n      <th></th>\n      <th>Isbn</th>\n      <th>Currency</th>\n      <th>Price</th>\n      <th>Title</th>\n      <th>Author</th>\n      <th>PublisherShort</th>\n      <th>Supplier</th>\n      <th>Discount</th>\n      <th>Shipping Cost</th>\n      <th>max quantity</th>\n      <th>Min</th>\n      <th>Region</th>\n      <th>SUPPLIER</th>\n      <th>ISBN</th>\n      <th>DISCOUNT</th>\n    </tr>\n  </thead>\n  <tbody>\n    <tr>\n      <th>0</th>\n      <td>9780000002402</td>\n      <td>GBP</td>\n      <td>306.0</td>\n      <td>N/A</td>\n      <td>N/A</td>\n      <td>LWW</td>\n      <td>ABE</td>\n      <td>0.55</td>\n      <td>3.47</td>\n      <td>10000</td>\n      <td>0</td>\n      <td>EUROPE</td>\n      <td>NaN</td>\n      <td>NaN</td>\n      <td>NaN</td>\n    </tr>\n    <tr>\n      <th>1</th>\n      <td>9780000006493</td>\n      <td>GBP</td>\n      <td>772.0</td>\n      <td>N/A</td>\n      <td>N/A</td>\n      <td>LWW</td>\n      <td>ABE</td>\n      <td>0.55</td>\n      <td>3.47</td>\n      <td>10000</td>\n      <td>0</td>\n      <td>EUROPE</td>\n      <td>NaN</td>\n      <td>NaN</td>\n      <td>NaN</td>\n    </tr>\n    <tr>\n      <th>2</th>\n      <td>9780000009883</td>\n      <td>GBP</td>\n      <td>92.0</td>\n      <td>N/A</td>\n      <td>N/A</td>\n      <td>LWW</td>\n      <td>ABE</td>\n      <td>0.55</td>\n      <td>3.47</td>\n      <td>10000</td>\n      <td>0</td>\n      <td>EUROPE</td>\n      <td>NaN</td>\n      <td>NaN</td>\n      <td>NaN</td>\n    </tr>\n    <tr>\n      <th>3</th>\n      <td>9780000003201</td>\n      <td>GBP</td>\n      <td>265.0</td>\n      <td>N/A</td>\n      <td>N/A</td>\n      <td>LWW</td>\n      <td>ABE</td>\n      <td>0.55</td>\n      <td>3.47</td>\n      <td>10000</td>\n      <td>0</td>\n      <td>EUROPE</td>\n      <td>NaN</td>\n      <td>NaN</td>\n      <td>NaN</td>\n    </tr>\n    <tr>\n      <th>4</th>\n      <td>9780000002679</td>\n      <td>GBP</td>\n      <td>425.0</td>\n      <td>N/A</td>\n      <td>N/A</td>\n      <td>LWW</td>\n      <td>ABE</td>\n      <td>0.55</td>\n      <td>3.47</td>\n      <td>10000</td>\n      <td>0</td>\n      <td>EUROPE</td>\n      <td>NaN</td>\n      <td>NaN</td>\n      <td>NaN</td>\n    </tr>\n  </tbody>\n</table>\n</div>"
     },
     "metadata": {},
     "execution_count": 355
    }
   ],
   "source": [
    "sup_list4.head()"
   ]
  },
  {
   "cell_type": "code",
   "execution_count": 356,
   "metadata": {},
   "outputs": [
    {
     "output_type": "execute_result",
     "data": {
      "text/plain": "                 Isbn Currency   Price  \\\n51      9780781771696      GBP   55.00   \n64      9780781768702      GBP   55.00   \n79      9780781777988      GBP   58.00   \n83      9780781782678      GBP   72.00   \n148     9780781787154      GBP   58.00   \n...               ...      ...     ...   \n482712  9781975102012      GBP   40.99   \n482714  9781975117337      GBP  150.00   \n482719  9781975122676      GBP  240.00   \n482720  9781975123697      GBP  270.00   \n482722  9781975136420      GBP  150.00   \n\n                                                    Title  \\\n51                                                    N/A   \n64      ACSM'S RESOURCES FOR CLINICAL EXERCISE PHYSIOLOGY   \n79                                                    N/A   \n83      ACSM'S FOUNDATIONS OF STRENGTH TRAINING AND CO...   \n148     STEP-BY-STEP MASSAGE THERAPY PROTOCOLS FOR COM...   \n...                                                   ...   \n482712                                                N/A   \n482714                                                N/A   \n482719                                                N/A   \n482720                                                N/A   \n482722             5-MINUTE CLINICAL CONSULT PREMIUM 2020   \n\n                                                   Author PublisherShort  \\\n51                                                    N/A            LWW   \n64                    AMERICAN COLLEGE OF SPORTS MEDICINE            LWW   \n79                                                    N/A            LWW   \n83      AMERICAN COLLEGE OF SPORTS MEDICINE (ACSM) STA...            LWW   \n148                             CHARLOTTE MICHAEL VERSAGI            LWW   \n...                                                   ...            ...   \n482712                                                N/A       W KLUWER   \n482714                                                N/A       W KLUWER   \n482719                                                N/A       W KLUWER   \n482720                                                N/A       W KLUWER   \n482722                                    FRANK J. DOMINO       W KLUWER   \n\n       Supplier  Discount  Shipping Cost  max quantity  Min  Region SUPPLIER  \\\n51          ABE      0.55           3.47         10000    0  EUROPE      ABE   \n64          ABE      0.55           3.47         10000    0  EUROPE      ABE   \n79          ABE      0.55           3.47         10000    0  EUROPE      ABE   \n83          ABE      0.55           3.47         10000    0  EUROPE      ABE   \n148         ABE      0.55           3.47         10000    0  EUROPE      ABE   \n...         ...       ...            ...           ...  ...     ...      ...   \n482712      ABE      0.55           3.47         10000    0  EUROPE      ABE   \n482714      ABE      0.55           3.47         10000    0  EUROPE      ABE   \n482719      ABE      0.55           3.47         10000    0  EUROPE      ABE   \n482720      ABE      0.55           3.47         10000    0  EUROPE      ABE   \n482722      ABE      0.55           3.47         10000    0  EUROPE      ABE   \n\n                 ISBN  DISCOUNT  \n51      9780781771696      0.35  \n64      9780781768702      0.35  \n79      9780781777988      0.35  \n83      9780781782678      0.35  \n148     9780781787154      0.35  \n...               ...       ...  \n482712  9781975102012      0.35  \n482714  9781975117337      0.35  \n482719  9781975122676      0.35  \n482720  9781975123697      0.35  \n482722  9781975136420      0.35  \n\n[956 rows x 15 columns]",
      "text/html": "<div>\n<style scoped>\n    .dataframe tbody tr th:only-of-type {\n        vertical-align: middle;\n    }\n\n    .dataframe tbody tr th {\n        vertical-align: top;\n    }\n\n    .dataframe thead th {\n        text-align: right;\n    }\n</style>\n<table border=\"1\" class=\"dataframe\">\n  <thead>\n    <tr style=\"text-align: right;\">\n      <th></th>\n      <th>Isbn</th>\n      <th>Currency</th>\n      <th>Price</th>\n      <th>Title</th>\n      <th>Author</th>\n      <th>PublisherShort</th>\n      <th>Supplier</th>\n      <th>Discount</th>\n      <th>Shipping Cost</th>\n      <th>max quantity</th>\n      <th>Min</th>\n      <th>Region</th>\n      <th>SUPPLIER</th>\n      <th>ISBN</th>\n      <th>DISCOUNT</th>\n    </tr>\n  </thead>\n  <tbody>\n    <tr>\n      <th>51</th>\n      <td>9780781771696</td>\n      <td>GBP</td>\n      <td>55.00</td>\n      <td>N/A</td>\n      <td>N/A</td>\n      <td>LWW</td>\n      <td>ABE</td>\n      <td>0.55</td>\n      <td>3.47</td>\n      <td>10000</td>\n      <td>0</td>\n      <td>EUROPE</td>\n      <td>ABE</td>\n      <td>9780781771696</td>\n      <td>0.35</td>\n    </tr>\n    <tr>\n      <th>64</th>\n      <td>9780781768702</td>\n      <td>GBP</td>\n      <td>55.00</td>\n      <td>ACSM'S RESOURCES FOR CLINICAL EXERCISE PHYSIOLOGY</td>\n      <td>AMERICAN COLLEGE OF SPORTS MEDICINE</td>\n      <td>LWW</td>\n      <td>ABE</td>\n      <td>0.55</td>\n      <td>3.47</td>\n      <td>10000</td>\n      <td>0</td>\n      <td>EUROPE</td>\n      <td>ABE</td>\n      <td>9780781768702</td>\n      <td>0.35</td>\n    </tr>\n    <tr>\n      <th>79</th>\n      <td>9780781777988</td>\n      <td>GBP</td>\n      <td>58.00</td>\n      <td>N/A</td>\n      <td>N/A</td>\n      <td>LWW</td>\n      <td>ABE</td>\n      <td>0.55</td>\n      <td>3.47</td>\n      <td>10000</td>\n      <td>0</td>\n      <td>EUROPE</td>\n      <td>ABE</td>\n      <td>9780781777988</td>\n      <td>0.35</td>\n    </tr>\n    <tr>\n      <th>83</th>\n      <td>9780781782678</td>\n      <td>GBP</td>\n      <td>72.00</td>\n      <td>ACSM'S FOUNDATIONS OF STRENGTH TRAINING AND CO...</td>\n      <td>AMERICAN COLLEGE OF SPORTS MEDICINE (ACSM) STA...</td>\n      <td>LWW</td>\n      <td>ABE</td>\n      <td>0.55</td>\n      <td>3.47</td>\n      <td>10000</td>\n      <td>0</td>\n      <td>EUROPE</td>\n      <td>ABE</td>\n      <td>9780781782678</td>\n      <td>0.35</td>\n    </tr>\n    <tr>\n      <th>148</th>\n      <td>9780781787154</td>\n      <td>GBP</td>\n      <td>58.00</td>\n      <td>STEP-BY-STEP MASSAGE THERAPY PROTOCOLS FOR COM...</td>\n      <td>CHARLOTTE MICHAEL VERSAGI</td>\n      <td>LWW</td>\n      <td>ABE</td>\n      <td>0.55</td>\n      <td>3.47</td>\n      <td>10000</td>\n      <td>0</td>\n      <td>EUROPE</td>\n      <td>ABE</td>\n      <td>9780781787154</td>\n      <td>0.35</td>\n    </tr>\n    <tr>\n      <th>...</th>\n      <td>...</td>\n      <td>...</td>\n      <td>...</td>\n      <td>...</td>\n      <td>...</td>\n      <td>...</td>\n      <td>...</td>\n      <td>...</td>\n      <td>...</td>\n      <td>...</td>\n      <td>...</td>\n      <td>...</td>\n      <td>...</td>\n      <td>...</td>\n      <td>...</td>\n    </tr>\n    <tr>\n      <th>482712</th>\n      <td>9781975102012</td>\n      <td>GBP</td>\n      <td>40.99</td>\n      <td>N/A</td>\n      <td>N/A</td>\n      <td>W KLUWER</td>\n      <td>ABE</td>\n      <td>0.55</td>\n      <td>3.47</td>\n      <td>10000</td>\n      <td>0</td>\n      <td>EUROPE</td>\n      <td>ABE</td>\n      <td>9781975102012</td>\n      <td>0.35</td>\n    </tr>\n    <tr>\n      <th>482714</th>\n      <td>9781975117337</td>\n      <td>GBP</td>\n      <td>150.00</td>\n      <td>N/A</td>\n      <td>N/A</td>\n      <td>W KLUWER</td>\n      <td>ABE</td>\n      <td>0.55</td>\n      <td>3.47</td>\n      <td>10000</td>\n      <td>0</td>\n      <td>EUROPE</td>\n      <td>ABE</td>\n      <td>9781975117337</td>\n      <td>0.35</td>\n    </tr>\n    <tr>\n      <th>482719</th>\n      <td>9781975122676</td>\n      <td>GBP</td>\n      <td>240.00</td>\n      <td>N/A</td>\n      <td>N/A</td>\n      <td>W KLUWER</td>\n      <td>ABE</td>\n      <td>0.55</td>\n      <td>3.47</td>\n      <td>10000</td>\n      <td>0</td>\n      <td>EUROPE</td>\n      <td>ABE</td>\n      <td>9781975122676</td>\n      <td>0.35</td>\n    </tr>\n    <tr>\n      <th>482720</th>\n      <td>9781975123697</td>\n      <td>GBP</td>\n      <td>270.00</td>\n      <td>N/A</td>\n      <td>N/A</td>\n      <td>W KLUWER</td>\n      <td>ABE</td>\n      <td>0.55</td>\n      <td>3.47</td>\n      <td>10000</td>\n      <td>0</td>\n      <td>EUROPE</td>\n      <td>ABE</td>\n      <td>9781975123697</td>\n      <td>0.35</td>\n    </tr>\n    <tr>\n      <th>482722</th>\n      <td>9781975136420</td>\n      <td>GBP</td>\n      <td>150.00</td>\n      <td>5-MINUTE CLINICAL CONSULT PREMIUM 2020</td>\n      <td>FRANK J. DOMINO</td>\n      <td>W KLUWER</td>\n      <td>ABE</td>\n      <td>0.55</td>\n      <td>3.47</td>\n      <td>10000</td>\n      <td>0</td>\n      <td>EUROPE</td>\n      <td>ABE</td>\n      <td>9781975136420</td>\n      <td>0.35</td>\n    </tr>\n  </tbody>\n</table>\n<p>956 rows × 15 columns</p>\n</div>"
     },
     "metadata": {},
     "execution_count": 356
    }
   ],
   "source": [
    "sup_list4[sup_list4['SUPPLIER']=='ABE']"
   ]
  },
  {
   "cell_type": "code",
   "execution_count": 357,
   "metadata": {},
   "outputs": [
    {
     "output_type": "execute_result",
     "data": {
      "text/plain": "Isbn                   0\nCurrency               0\nPrice                  0\nTitle                  0\nAuthor                 0\nPublisherShort         0\nSupplier               0\nDiscount               0\nShipping Cost          0\nmax quantity           0\nMin                    0\nRegion                 0\nSUPPLIER          484414\nISBN              484414\nDISCOUNT          484414\ndtype: int64"
     },
     "metadata": {},
     "execution_count": 357
    }
   ],
   "source": [
    "sup_list4.isna().sum()"
   ]
  },
  {
   "cell_type": "code",
   "execution_count": 358,
   "metadata": {},
   "outputs": [],
   "source": [
    "sup_list4['final_discount'] = np.where(sup_list4['DISCOUNT'].isna(), sup_list4['Discount'],sup_list4['DISCOUNT'])"
   ]
  },
  {
   "cell_type": "code",
   "execution_count": 359,
   "metadata": {},
   "outputs": [
    {
     "output_type": "execute_result",
     "data": {
      "text/plain": "            Isbn Currency  Price Title Author PublisherShort Supplier  \\\n0  9780000002402      GBP  306.0   N/A    N/A            LWW      ABE   \n1  9780000006493      GBP  772.0   N/A    N/A            LWW      ABE   \n2  9780000009883      GBP   92.0   N/A    N/A            LWW      ABE   \n3  9780000003201      GBP  265.0   N/A    N/A            LWW      ABE   \n4  9780000002679      GBP  425.0   N/A    N/A            LWW      ABE   \n\n   Discount  Shipping Cost  max quantity  Min  Region SUPPLIER ISBN  DISCOUNT  \\\n0      0.55           3.47         10000    0  EUROPE      NaN  NaN       NaN   \n1      0.55           3.47         10000    0  EUROPE      NaN  NaN       NaN   \n2      0.55           3.47         10000    0  EUROPE      NaN  NaN       NaN   \n3      0.55           3.47         10000    0  EUROPE      NaN  NaN       NaN   \n4      0.55           3.47         10000    0  EUROPE      NaN  NaN       NaN   \n\n   final_discount  \n0            0.55  \n1            0.55  \n2            0.55  \n3            0.55  \n4            0.55  ",
      "text/html": "<div>\n<style scoped>\n    .dataframe tbody tr th:only-of-type {\n        vertical-align: middle;\n    }\n\n    .dataframe tbody tr th {\n        vertical-align: top;\n    }\n\n    .dataframe thead th {\n        text-align: right;\n    }\n</style>\n<table border=\"1\" class=\"dataframe\">\n  <thead>\n    <tr style=\"text-align: right;\">\n      <th></th>\n      <th>Isbn</th>\n      <th>Currency</th>\n      <th>Price</th>\n      <th>Title</th>\n      <th>Author</th>\n      <th>PublisherShort</th>\n      <th>Supplier</th>\n      <th>Discount</th>\n      <th>Shipping Cost</th>\n      <th>max quantity</th>\n      <th>Min</th>\n      <th>Region</th>\n      <th>SUPPLIER</th>\n      <th>ISBN</th>\n      <th>DISCOUNT</th>\n      <th>final_discount</th>\n    </tr>\n  </thead>\n  <tbody>\n    <tr>\n      <th>0</th>\n      <td>9780000002402</td>\n      <td>GBP</td>\n      <td>306.0</td>\n      <td>N/A</td>\n      <td>N/A</td>\n      <td>LWW</td>\n      <td>ABE</td>\n      <td>0.55</td>\n      <td>3.47</td>\n      <td>10000</td>\n      <td>0</td>\n      <td>EUROPE</td>\n      <td>NaN</td>\n      <td>NaN</td>\n      <td>NaN</td>\n      <td>0.55</td>\n    </tr>\n    <tr>\n      <th>1</th>\n      <td>9780000006493</td>\n      <td>GBP</td>\n      <td>772.0</td>\n      <td>N/A</td>\n      <td>N/A</td>\n      <td>LWW</td>\n      <td>ABE</td>\n      <td>0.55</td>\n      <td>3.47</td>\n      <td>10000</td>\n      <td>0</td>\n      <td>EUROPE</td>\n      <td>NaN</td>\n      <td>NaN</td>\n      <td>NaN</td>\n      <td>0.55</td>\n    </tr>\n    <tr>\n      <th>2</th>\n      <td>9780000009883</td>\n      <td>GBP</td>\n      <td>92.0</td>\n      <td>N/A</td>\n      <td>N/A</td>\n      <td>LWW</td>\n      <td>ABE</td>\n      <td>0.55</td>\n      <td>3.47</td>\n      <td>10000</td>\n      <td>0</td>\n      <td>EUROPE</td>\n      <td>NaN</td>\n      <td>NaN</td>\n      <td>NaN</td>\n      <td>0.55</td>\n    </tr>\n    <tr>\n      <th>3</th>\n      <td>9780000003201</td>\n      <td>GBP</td>\n      <td>265.0</td>\n      <td>N/A</td>\n      <td>N/A</td>\n      <td>LWW</td>\n      <td>ABE</td>\n      <td>0.55</td>\n      <td>3.47</td>\n      <td>10000</td>\n      <td>0</td>\n      <td>EUROPE</td>\n      <td>NaN</td>\n      <td>NaN</td>\n      <td>NaN</td>\n      <td>0.55</td>\n    </tr>\n    <tr>\n      <th>4</th>\n      <td>9780000002679</td>\n      <td>GBP</td>\n      <td>425.0</td>\n      <td>N/A</td>\n      <td>N/A</td>\n      <td>LWW</td>\n      <td>ABE</td>\n      <td>0.55</td>\n      <td>3.47</td>\n      <td>10000</td>\n      <td>0</td>\n      <td>EUROPE</td>\n      <td>NaN</td>\n      <td>NaN</td>\n      <td>NaN</td>\n      <td>0.55</td>\n    </tr>\n  </tbody>\n</table>\n</div>"
     },
     "metadata": {},
     "execution_count": 359
    }
   ],
   "source": [
    "sup_list4.head()"
   ]
  },
  {
   "cell_type": "code",
   "execution_count": 360,
   "metadata": {},
   "outputs": [
    {
     "output_type": "execute_result",
     "data": {
      "text/plain": "              Isbn Currency  Price Title Author PublisherShort Supplier  \\\n269  9780781762021      GBP   57.0   N/A    N/A            LWW      ABE   \n\n     Discount  Shipping Cost  max quantity  Min  Region SUPPLIER  \\\n269      0.55           3.47         10000    0  EUROPE      ABE   \n\n              ISBN  DISCOUNT  final_discount  \n269  9780781762021      0.35            0.35  ",
      "text/html": "<div>\n<style scoped>\n    .dataframe tbody tr th:only-of-type {\n        vertical-align: middle;\n    }\n\n    .dataframe tbody tr th {\n        vertical-align: top;\n    }\n\n    .dataframe thead th {\n        text-align: right;\n    }\n</style>\n<table border=\"1\" class=\"dataframe\">\n  <thead>\n    <tr style=\"text-align: right;\">\n      <th></th>\n      <th>Isbn</th>\n      <th>Currency</th>\n      <th>Price</th>\n      <th>Title</th>\n      <th>Author</th>\n      <th>PublisherShort</th>\n      <th>Supplier</th>\n      <th>Discount</th>\n      <th>Shipping Cost</th>\n      <th>max quantity</th>\n      <th>Min</th>\n      <th>Region</th>\n      <th>SUPPLIER</th>\n      <th>ISBN</th>\n      <th>DISCOUNT</th>\n      <th>final_discount</th>\n    </tr>\n  </thead>\n  <tbody>\n    <tr>\n      <th>269</th>\n      <td>9780781762021</td>\n      <td>GBP</td>\n      <td>57.0</td>\n      <td>N/A</td>\n      <td>N/A</td>\n      <td>LWW</td>\n      <td>ABE</td>\n      <td>0.55</td>\n      <td>3.47</td>\n      <td>10000</td>\n      <td>0</td>\n      <td>EUROPE</td>\n      <td>ABE</td>\n      <td>9780781762021</td>\n      <td>0.35</td>\n      <td>0.35</td>\n    </tr>\n  </tbody>\n</table>\n</div>"
     },
     "metadata": {},
     "execution_count": 360
    }
   ],
   "source": [
    "sup_list4[sup_list4['Isbn'] == '9780781762021']"
   ]
  },
  {
   "cell_type": "code",
   "execution_count": 361,
   "metadata": {},
   "outputs": [],
   "source": [
    "sup_list4 = sup_list4[['Isbn','Title', 'Author', 'PublisherShort', 'Supplier','Currency', 'Price', 'final_discount' ,'Shipping Cost', 'max quantity', 'Min', 'Region']]"
   ]
  },
  {
   "cell_type": "code",
   "execution_count": 362,
   "metadata": {},
   "outputs": [
    {
     "output_type": "execute_result",
     "data": {
      "text/plain": "            Isbn Title Author PublisherShort Supplier Currency  Price  \\\n0  9780000002402   N/A    N/A            LWW      ABE      GBP  306.0   \n1  9780000006493   N/A    N/A            LWW      ABE      GBP  772.0   \n2  9780000009883   N/A    N/A            LWW      ABE      GBP   92.0   \n3  9780000003201   N/A    N/A            LWW      ABE      GBP  265.0   \n4  9780000002679   N/A    N/A            LWW      ABE      GBP  425.0   \n\n   final_discount  Shipping Cost  max quantity  Min  Region  \n0            0.55           3.47         10000    0  EUROPE  \n1            0.55           3.47         10000    0  EUROPE  \n2            0.55           3.47         10000    0  EUROPE  \n3            0.55           3.47         10000    0  EUROPE  \n4            0.55           3.47         10000    0  EUROPE  ",
      "text/html": "<div>\n<style scoped>\n    .dataframe tbody tr th:only-of-type {\n        vertical-align: middle;\n    }\n\n    .dataframe tbody tr th {\n        vertical-align: top;\n    }\n\n    .dataframe thead th {\n        text-align: right;\n    }\n</style>\n<table border=\"1\" class=\"dataframe\">\n  <thead>\n    <tr style=\"text-align: right;\">\n      <th></th>\n      <th>Isbn</th>\n      <th>Title</th>\n      <th>Author</th>\n      <th>PublisherShort</th>\n      <th>Supplier</th>\n      <th>Currency</th>\n      <th>Price</th>\n      <th>final_discount</th>\n      <th>Shipping Cost</th>\n      <th>max quantity</th>\n      <th>Min</th>\n      <th>Region</th>\n    </tr>\n  </thead>\n  <tbody>\n    <tr>\n      <th>0</th>\n      <td>9780000002402</td>\n      <td>N/A</td>\n      <td>N/A</td>\n      <td>LWW</td>\n      <td>ABE</td>\n      <td>GBP</td>\n      <td>306.0</td>\n      <td>0.55</td>\n      <td>3.47</td>\n      <td>10000</td>\n      <td>0</td>\n      <td>EUROPE</td>\n    </tr>\n    <tr>\n      <th>1</th>\n      <td>9780000006493</td>\n      <td>N/A</td>\n      <td>N/A</td>\n      <td>LWW</td>\n      <td>ABE</td>\n      <td>GBP</td>\n      <td>772.0</td>\n      <td>0.55</td>\n      <td>3.47</td>\n      <td>10000</td>\n      <td>0</td>\n      <td>EUROPE</td>\n    </tr>\n    <tr>\n      <th>2</th>\n      <td>9780000009883</td>\n      <td>N/A</td>\n      <td>N/A</td>\n      <td>LWW</td>\n      <td>ABE</td>\n      <td>GBP</td>\n      <td>92.0</td>\n      <td>0.55</td>\n      <td>3.47</td>\n      <td>10000</td>\n      <td>0</td>\n      <td>EUROPE</td>\n    </tr>\n    <tr>\n      <th>3</th>\n      <td>9780000003201</td>\n      <td>N/A</td>\n      <td>N/A</td>\n      <td>LWW</td>\n      <td>ABE</td>\n      <td>GBP</td>\n      <td>265.0</td>\n      <td>0.55</td>\n      <td>3.47</td>\n      <td>10000</td>\n      <td>0</td>\n      <td>EUROPE</td>\n    </tr>\n    <tr>\n      <th>4</th>\n      <td>9780000002679</td>\n      <td>N/A</td>\n      <td>N/A</td>\n      <td>LWW</td>\n      <td>ABE</td>\n      <td>GBP</td>\n      <td>425.0</td>\n      <td>0.55</td>\n      <td>3.47</td>\n      <td>10000</td>\n      <td>0</td>\n      <td>EUROPE</td>\n    </tr>\n  </tbody>\n</table>\n</div>"
     },
     "metadata": {},
     "execution_count": 362
    }
   ],
   "source": [
    "sup_list4.head()"
   ]
  },
  {
   "cell_type": "code",
   "execution_count": 363,
   "metadata": {},
   "outputs": [],
   "source": [
    "sup_list4.columns = map(str.lower, sup_list4.columns)"
   ]
  },
  {
   "cell_type": "code",
   "execution_count": 364,
   "metadata": {},
   "outputs": [
    {
     "output_type": "execute_result",
     "data": {
      "text/plain": "            isbn title author publishershort supplier currency  price  \\\n0  9780000002402   N/A    N/A            LWW      ABE      GBP  306.0   \n1  9780000006493   N/A    N/A            LWW      ABE      GBP  772.0   \n2  9780000009883   N/A    N/A            LWW      ABE      GBP   92.0   \n3  9780000003201   N/A    N/A            LWW      ABE      GBP  265.0   \n4  9780000002679   N/A    N/A            LWW      ABE      GBP  425.0   \n\n   final_discount  shipping cost  max quantity  min  region  \n0            0.55           3.47         10000    0  EUROPE  \n1            0.55           3.47         10000    0  EUROPE  \n2            0.55           3.47         10000    0  EUROPE  \n3            0.55           3.47         10000    0  EUROPE  \n4            0.55           3.47         10000    0  EUROPE  ",
      "text/html": "<div>\n<style scoped>\n    .dataframe tbody tr th:only-of-type {\n        vertical-align: middle;\n    }\n\n    .dataframe tbody tr th {\n        vertical-align: top;\n    }\n\n    .dataframe thead th {\n        text-align: right;\n    }\n</style>\n<table border=\"1\" class=\"dataframe\">\n  <thead>\n    <tr style=\"text-align: right;\">\n      <th></th>\n      <th>isbn</th>\n      <th>title</th>\n      <th>author</th>\n      <th>publishershort</th>\n      <th>supplier</th>\n      <th>currency</th>\n      <th>price</th>\n      <th>final_discount</th>\n      <th>shipping cost</th>\n      <th>max quantity</th>\n      <th>min</th>\n      <th>region</th>\n    </tr>\n  </thead>\n  <tbody>\n    <tr>\n      <th>0</th>\n      <td>9780000002402</td>\n      <td>N/A</td>\n      <td>N/A</td>\n      <td>LWW</td>\n      <td>ABE</td>\n      <td>GBP</td>\n      <td>306.0</td>\n      <td>0.55</td>\n      <td>3.47</td>\n      <td>10000</td>\n      <td>0</td>\n      <td>EUROPE</td>\n    </tr>\n    <tr>\n      <th>1</th>\n      <td>9780000006493</td>\n      <td>N/A</td>\n      <td>N/A</td>\n      <td>LWW</td>\n      <td>ABE</td>\n      <td>GBP</td>\n      <td>772.0</td>\n      <td>0.55</td>\n      <td>3.47</td>\n      <td>10000</td>\n      <td>0</td>\n      <td>EUROPE</td>\n    </tr>\n    <tr>\n      <th>2</th>\n      <td>9780000009883</td>\n      <td>N/A</td>\n      <td>N/A</td>\n      <td>LWW</td>\n      <td>ABE</td>\n      <td>GBP</td>\n      <td>92.0</td>\n      <td>0.55</td>\n      <td>3.47</td>\n      <td>10000</td>\n      <td>0</td>\n      <td>EUROPE</td>\n    </tr>\n    <tr>\n      <th>3</th>\n      <td>9780000003201</td>\n      <td>N/A</td>\n      <td>N/A</td>\n      <td>LWW</td>\n      <td>ABE</td>\n      <td>GBP</td>\n      <td>265.0</td>\n      <td>0.55</td>\n      <td>3.47</td>\n      <td>10000</td>\n      <td>0</td>\n      <td>EUROPE</td>\n    </tr>\n    <tr>\n      <th>4</th>\n      <td>9780000002679</td>\n      <td>N/A</td>\n      <td>N/A</td>\n      <td>LWW</td>\n      <td>ABE</td>\n      <td>GBP</td>\n      <td>425.0</td>\n      <td>0.55</td>\n      <td>3.47</td>\n      <td>10000</td>\n      <td>0</td>\n      <td>EUROPE</td>\n    </tr>\n  </tbody>\n</table>\n</div>"
     },
     "metadata": {},
     "execution_count": 364
    }
   ],
   "source": [
    "sup_list4.head()"
   ]
  },
  {
   "cell_type": "code",
   "execution_count": 365,
   "metadata": {},
   "outputs": [
    {
     "output_type": "execute_result",
     "data": {
      "text/plain": "              isbn currency  price  \\\n120  9780008117320      CND  40.00   \n131  9780008121716      CND  16.99   \n206  9780008135904      CND   9.99   \n211  9780008135935      CND   7.99   \n219  9780008136628      CND  28.99   \n\n                                                 title publisher author  \\\n120                                                N/A       N/A    N/A   \n131                                                N/A       N/A    N/A   \n206  COLLINS MANDARIN CHINESE PHRASEBOOK AND DICTIO...       N/A    N/A   \n211  COLLINS PORTUGUESE PHRASEBOOK AND DICTIONARY G...       N/A    N/A   \n219           COLLINS WORLD ATLAS: ILLUSTRATED EDITION       N/A    N/A   \n\n    publisherlong publishershort supplier  final_discount  max quantity  \\\n120           N/A            N/A       WC             0.1         10000   \n131           N/A            N/A       WC             0.1         10000   \n206           N/A            N/A       WC             0.1         10000   \n211           N/A            N/A       WC             0.1         10000   \n219           N/A            N/A       WC             0.1         10000   \n\n            region  shipping cost  min  \n120  NORTH AMERICA              2    0  \n131  NORTH AMERICA              2    0  \n206  NORTH AMERICA              2    0  \n211  NORTH AMERICA              2    0  \n219  NORTH AMERICA              2    0  ",
      "text/html": "<div>\n<style scoped>\n    .dataframe tbody tr th:only-of-type {\n        vertical-align: middle;\n    }\n\n    .dataframe tbody tr th {\n        vertical-align: top;\n    }\n\n    .dataframe thead th {\n        text-align: right;\n    }\n</style>\n<table border=\"1\" class=\"dataframe\">\n  <thead>\n    <tr style=\"text-align: right;\">\n      <th></th>\n      <th>isbn</th>\n      <th>currency</th>\n      <th>price</th>\n      <th>title</th>\n      <th>publisher</th>\n      <th>author</th>\n      <th>publisherlong</th>\n      <th>publishershort</th>\n      <th>supplier</th>\n      <th>final_discount</th>\n      <th>max quantity</th>\n      <th>region</th>\n      <th>shipping cost</th>\n      <th>min</th>\n    </tr>\n  </thead>\n  <tbody>\n    <tr>\n      <th>120</th>\n      <td>9780008117320</td>\n      <td>CND</td>\n      <td>40.00</td>\n      <td>N/A</td>\n      <td>N/A</td>\n      <td>N/A</td>\n      <td>N/A</td>\n      <td>N/A</td>\n      <td>WC</td>\n      <td>0.1</td>\n      <td>10000</td>\n      <td>NORTH AMERICA</td>\n      <td>2</td>\n      <td>0</td>\n    </tr>\n    <tr>\n      <th>131</th>\n      <td>9780008121716</td>\n      <td>CND</td>\n      <td>16.99</td>\n      <td>N/A</td>\n      <td>N/A</td>\n      <td>N/A</td>\n      <td>N/A</td>\n      <td>N/A</td>\n      <td>WC</td>\n      <td>0.1</td>\n      <td>10000</td>\n      <td>NORTH AMERICA</td>\n      <td>2</td>\n      <td>0</td>\n    </tr>\n    <tr>\n      <th>206</th>\n      <td>9780008135904</td>\n      <td>CND</td>\n      <td>9.99</td>\n      <td>COLLINS MANDARIN CHINESE PHRASEBOOK AND DICTIO...</td>\n      <td>N/A</td>\n      <td>N/A</td>\n      <td>N/A</td>\n      <td>N/A</td>\n      <td>WC</td>\n      <td>0.1</td>\n      <td>10000</td>\n      <td>NORTH AMERICA</td>\n      <td>2</td>\n      <td>0</td>\n    </tr>\n    <tr>\n      <th>211</th>\n      <td>9780008135935</td>\n      <td>CND</td>\n      <td>7.99</td>\n      <td>COLLINS PORTUGUESE PHRASEBOOK AND DICTIONARY G...</td>\n      <td>N/A</td>\n      <td>N/A</td>\n      <td>N/A</td>\n      <td>N/A</td>\n      <td>WC</td>\n      <td>0.1</td>\n      <td>10000</td>\n      <td>NORTH AMERICA</td>\n      <td>2</td>\n      <td>0</td>\n    </tr>\n    <tr>\n      <th>219</th>\n      <td>9780008136628</td>\n      <td>CND</td>\n      <td>28.99</td>\n      <td>COLLINS WORLD ATLAS: ILLUSTRATED EDITION</td>\n      <td>N/A</td>\n      <td>N/A</td>\n      <td>N/A</td>\n      <td>N/A</td>\n      <td>WC</td>\n      <td>0.1</td>\n      <td>10000</td>\n      <td>NORTH AMERICA</td>\n      <td>2</td>\n      <td>0</td>\n    </tr>\n  </tbody>\n</table>\n</div>"
     },
     "metadata": {},
     "execution_count": 365
    }
   ],
   "source": [
    "# Add western campus\n",
    "# Shipping Cost = 2\n",
    "# 0-150CAD 10% off\n",
    "# 150-200CAD 12% off\n",
    "# > 200CAD 14%\n",
    "\n",
    "can_sup = sup_list2[sup_list2['Currency'] == 'CND']\n",
    "can_sup.columns = map(str.lower, can_sup.columns)\n",
    "can_sup['supplier'] = 'WC'\n",
    "can_sup['final_discount'] = np.where(can_sup['price']<150, 0.1, np.where((can_sup['price'] >=150) & (can_sup['price']<200),0.12,0.14))\n",
    "can_sup['max quantity'] = 10000\n",
    "can_sup['region'] = 'NORTH AMERICA'\n",
    "can_sup['shipping cost'] = 2\n",
    "can_sup['min'] = 0\n",
    "can_sup.head()"
   ]
  },
  {
   "cell_type": "code",
   "execution_count": 366,
   "metadata": {},
   "outputs": [],
   "source": [
    "can_sup = can_sup[['isbn', 'title', 'author', 'publishershort', 'supplier','currency','price','final_discount', 'shipping cost', 'max quantity', 'min', 'region']]"
   ]
  },
  {
   "cell_type": "code",
   "execution_count": 367,
   "metadata": {},
   "outputs": [
    {
     "output_type": "execute_result",
     "data": {
      "text/plain": "              isbn                                              title author  \\\n120  9780008117320                                                N/A    N/A   \n131  9780008121716                                                N/A    N/A   \n206  9780008135904  COLLINS MANDARIN CHINESE PHRASEBOOK AND DICTIO...    N/A   \n211  9780008135935  COLLINS PORTUGUESE PHRASEBOOK AND DICTIONARY G...    N/A   \n219  9780008136628           COLLINS WORLD ATLAS: ILLUSTRATED EDITION    N/A   \n\n    publishershort supplier currency  price  final_discount  shipping cost  \\\n120            N/A       WC      CND  40.00             0.1              2   \n131            N/A       WC      CND  16.99             0.1              2   \n206            N/A       WC      CND   9.99             0.1              2   \n211            N/A       WC      CND   7.99             0.1              2   \n219            N/A       WC      CND  28.99             0.1              2   \n\n     max quantity  min         region  \n120         10000    0  NORTH AMERICA  \n131         10000    0  NORTH AMERICA  \n206         10000    0  NORTH AMERICA  \n211         10000    0  NORTH AMERICA  \n219         10000    0  NORTH AMERICA  ",
      "text/html": "<div>\n<style scoped>\n    .dataframe tbody tr th:only-of-type {\n        vertical-align: middle;\n    }\n\n    .dataframe tbody tr th {\n        vertical-align: top;\n    }\n\n    .dataframe thead th {\n        text-align: right;\n    }\n</style>\n<table border=\"1\" class=\"dataframe\">\n  <thead>\n    <tr style=\"text-align: right;\">\n      <th></th>\n      <th>isbn</th>\n      <th>title</th>\n      <th>author</th>\n      <th>publishershort</th>\n      <th>supplier</th>\n      <th>currency</th>\n      <th>price</th>\n      <th>final_discount</th>\n      <th>shipping cost</th>\n      <th>max quantity</th>\n      <th>min</th>\n      <th>region</th>\n    </tr>\n  </thead>\n  <tbody>\n    <tr>\n      <th>120</th>\n      <td>9780008117320</td>\n      <td>N/A</td>\n      <td>N/A</td>\n      <td>N/A</td>\n      <td>WC</td>\n      <td>CND</td>\n      <td>40.00</td>\n      <td>0.1</td>\n      <td>2</td>\n      <td>10000</td>\n      <td>0</td>\n      <td>NORTH AMERICA</td>\n    </tr>\n    <tr>\n      <th>131</th>\n      <td>9780008121716</td>\n      <td>N/A</td>\n      <td>N/A</td>\n      <td>N/A</td>\n      <td>WC</td>\n      <td>CND</td>\n      <td>16.99</td>\n      <td>0.1</td>\n      <td>2</td>\n      <td>10000</td>\n      <td>0</td>\n      <td>NORTH AMERICA</td>\n    </tr>\n    <tr>\n      <th>206</th>\n      <td>9780008135904</td>\n      <td>COLLINS MANDARIN CHINESE PHRASEBOOK AND DICTIO...</td>\n      <td>N/A</td>\n      <td>N/A</td>\n      <td>WC</td>\n      <td>CND</td>\n      <td>9.99</td>\n      <td>0.1</td>\n      <td>2</td>\n      <td>10000</td>\n      <td>0</td>\n      <td>NORTH AMERICA</td>\n    </tr>\n    <tr>\n      <th>211</th>\n      <td>9780008135935</td>\n      <td>COLLINS PORTUGUESE PHRASEBOOK AND DICTIONARY G...</td>\n      <td>N/A</td>\n      <td>N/A</td>\n      <td>WC</td>\n      <td>CND</td>\n      <td>7.99</td>\n      <td>0.1</td>\n      <td>2</td>\n      <td>10000</td>\n      <td>0</td>\n      <td>NORTH AMERICA</td>\n    </tr>\n    <tr>\n      <th>219</th>\n      <td>9780008136628</td>\n      <td>COLLINS WORLD ATLAS: ILLUSTRATED EDITION</td>\n      <td>N/A</td>\n      <td>N/A</td>\n      <td>WC</td>\n      <td>CND</td>\n      <td>28.99</td>\n      <td>0.1</td>\n      <td>2</td>\n      <td>10000</td>\n      <td>0</td>\n      <td>NORTH AMERICA</td>\n    </tr>\n  </tbody>\n</table>\n</div>"
     },
     "metadata": {},
     "execution_count": 367
    }
   ],
   "source": [
    "can_sup.head()"
   ]
  },
  {
   "cell_type": "code",
   "execution_count": 368,
   "metadata": {},
   "outputs": [
    {
     "output_type": "execute_result",
     "data": {
      "text/plain": "            isbn title author publishershort supplier currency  price  \\\n0  9780000002402   N/A    N/A            LWW      ABE      GBP  306.0   \n1  9780000006493   N/A    N/A            LWW      ABE      GBP  772.0   \n2  9780000009883   N/A    N/A            LWW      ABE      GBP   92.0   \n3  9780000003201   N/A    N/A            LWW      ABE      GBP  265.0   \n4  9780000002679   N/A    N/A            LWW      ABE      GBP  425.0   \n\n   final_discount  shipping cost  max quantity  min  region  \n0            0.55           3.47         10000    0  EUROPE  \n1            0.55           3.47         10000    0  EUROPE  \n2            0.55           3.47         10000    0  EUROPE  \n3            0.55           3.47         10000    0  EUROPE  \n4            0.55           3.47         10000    0  EUROPE  ",
      "text/html": "<div>\n<style scoped>\n    .dataframe tbody tr th:only-of-type {\n        vertical-align: middle;\n    }\n\n    .dataframe tbody tr th {\n        vertical-align: top;\n    }\n\n    .dataframe thead th {\n        text-align: right;\n    }\n</style>\n<table border=\"1\" class=\"dataframe\">\n  <thead>\n    <tr style=\"text-align: right;\">\n      <th></th>\n      <th>isbn</th>\n      <th>title</th>\n      <th>author</th>\n      <th>publishershort</th>\n      <th>supplier</th>\n      <th>currency</th>\n      <th>price</th>\n      <th>final_discount</th>\n      <th>shipping cost</th>\n      <th>max quantity</th>\n      <th>min</th>\n      <th>region</th>\n    </tr>\n  </thead>\n  <tbody>\n    <tr>\n      <th>0</th>\n      <td>9780000002402</td>\n      <td>N/A</td>\n      <td>N/A</td>\n      <td>LWW</td>\n      <td>ABE</td>\n      <td>GBP</td>\n      <td>306.0</td>\n      <td>0.55</td>\n      <td>3.47</td>\n      <td>10000</td>\n      <td>0</td>\n      <td>EUROPE</td>\n    </tr>\n    <tr>\n      <th>1</th>\n      <td>9780000006493</td>\n      <td>N/A</td>\n      <td>N/A</td>\n      <td>LWW</td>\n      <td>ABE</td>\n      <td>GBP</td>\n      <td>772.0</td>\n      <td>0.55</td>\n      <td>3.47</td>\n      <td>10000</td>\n      <td>0</td>\n      <td>EUROPE</td>\n    </tr>\n    <tr>\n      <th>2</th>\n      <td>9780000009883</td>\n      <td>N/A</td>\n      <td>N/A</td>\n      <td>LWW</td>\n      <td>ABE</td>\n      <td>GBP</td>\n      <td>92.0</td>\n      <td>0.55</td>\n      <td>3.47</td>\n      <td>10000</td>\n      <td>0</td>\n      <td>EUROPE</td>\n    </tr>\n    <tr>\n      <th>3</th>\n      <td>9780000003201</td>\n      <td>N/A</td>\n      <td>N/A</td>\n      <td>LWW</td>\n      <td>ABE</td>\n      <td>GBP</td>\n      <td>265.0</td>\n      <td>0.55</td>\n      <td>3.47</td>\n      <td>10000</td>\n      <td>0</td>\n      <td>EUROPE</td>\n    </tr>\n    <tr>\n      <th>4</th>\n      <td>9780000002679</td>\n      <td>N/A</td>\n      <td>N/A</td>\n      <td>LWW</td>\n      <td>ABE</td>\n      <td>GBP</td>\n      <td>425.0</td>\n      <td>0.55</td>\n      <td>3.47</td>\n      <td>10000</td>\n      <td>0</td>\n      <td>EUROPE</td>\n    </tr>\n  </tbody>\n</table>\n</div>"
     },
     "metadata": {},
     "execution_count": 368
    }
   ],
   "source": [
    "sup_list5 = sup_list4.append(can_sup, ignore_index= True)\n",
    "sup_list5.head()"
   ]
  },
  {
   "cell_type": "code",
   "execution_count": 369,
   "metadata": {},
   "outputs": [
    {
     "output_type": "execute_result",
     "data": {
      "text/plain": "array(['GBP', 'USD', 'AUD', 'CND'], dtype=object)"
     },
     "metadata": {},
     "execution_count": 369
    }
   ],
   "source": [
    "sup_list5['currency'].unique()"
   ]
  },
  {
   "cell_type": "code",
   "execution_count": 370,
   "metadata": {},
   "outputs": [
    {
     "output_type": "execute_result",
     "data": {
      "text/plain": "          ISBN13 Vendor Publisher               Comment         Vendor&ISBN  \\\n0  9780323567428  Risky       NaN  COINFO: Dosage Error  Risky9780323567428   \n1  9780500292105  Risky       NaN                   NaN  Risky9780500292105   \n2  9781936523443  Risky       NaN                   NaN  Risky9781936523443   \n3  9780134149530  Risky       NaN                   NaN  Risky9780134149530   \n4  9780134205588  Risky       NaN                   NaN  Risky9780134205588   \n\n  date added Clear to order  \n0        NaT            NaN  \n1        NaT            NaN  \n2        NaT            NaN  \n3        NaT            NaN  \n4        NaT            NaN  ",
      "text/html": "<div>\n<style scoped>\n    .dataframe tbody tr th:only-of-type {\n        vertical-align: middle;\n    }\n\n    .dataframe tbody tr th {\n        vertical-align: top;\n    }\n\n    .dataframe thead th {\n        text-align: right;\n    }\n</style>\n<table border=\"1\" class=\"dataframe\">\n  <thead>\n    <tr style=\"text-align: right;\">\n      <th></th>\n      <th>ISBN13</th>\n      <th>Vendor</th>\n      <th>Publisher</th>\n      <th>Comment</th>\n      <th>Vendor&amp;ISBN</th>\n      <th>date added</th>\n      <th>Clear to order</th>\n    </tr>\n  </thead>\n  <tbody>\n    <tr>\n      <th>0</th>\n      <td>9780323567428</td>\n      <td>Risky</td>\n      <td>NaN</td>\n      <td>COINFO: Dosage Error</td>\n      <td>Risky9780323567428</td>\n      <td>NaT</td>\n      <td>NaN</td>\n    </tr>\n    <tr>\n      <th>1</th>\n      <td>9780500292105</td>\n      <td>Risky</td>\n      <td>NaN</td>\n      <td>NaN</td>\n      <td>Risky9780500292105</td>\n      <td>NaT</td>\n      <td>NaN</td>\n    </tr>\n    <tr>\n      <th>2</th>\n      <td>9781936523443</td>\n      <td>Risky</td>\n      <td>NaN</td>\n      <td>NaN</td>\n      <td>Risky9781936523443</td>\n      <td>NaT</td>\n      <td>NaN</td>\n    </tr>\n    <tr>\n      <th>3</th>\n      <td>9780134149530</td>\n      <td>Risky</td>\n      <td>NaN</td>\n      <td>NaN</td>\n      <td>Risky9780134149530</td>\n      <td>NaT</td>\n      <td>NaN</td>\n    </tr>\n    <tr>\n      <th>4</th>\n      <td>9780134205588</td>\n      <td>Risky</td>\n      <td>NaN</td>\n      <td>NaN</td>\n      <td>Risky9780134205588</td>\n      <td>NaT</td>\n      <td>NaN</td>\n    </tr>\n  </tbody>\n</table>\n</div>"
     },
     "metadata": {},
     "execution_count": 370
    }
   ],
   "source": [
    "# 5. Check Suppliers special discounts\n",
    "rest = pd.read_excel(\"../../../../Vendors/. Restrictions\\All Restricted List.xlsx\")\n",
    "rest.head()"
   ]
  },
  {
   "cell_type": "code",
   "execution_count": 371,
   "metadata": {},
   "outputs": [
    {
     "output_type": "execute_result",
     "data": {
      "text/plain": "          isbn13 vendor publisher               comment         vendor&isbn  \\\n0  9780323567428  Risky       NaN  COINFO: Dosage Error  Risky9780323567428   \n1  9780500292105  Risky       NaN                   NaN  Risky9780500292105   \n2  9781936523443  Risky       NaN                   NaN  Risky9781936523443   \n3  9780134149530  Risky       NaN                   NaN  Risky9780134149530   \n4  9780134205588  Risky       NaN                   NaN  Risky9780134205588   \n\n  date added clear to order  \n0        NaT            NaN  \n1        NaT            NaN  \n2        NaT            NaN  \n3        NaT            NaN  \n4        NaT            NaN  ",
      "text/html": "<div>\n<style scoped>\n    .dataframe tbody tr th:only-of-type {\n        vertical-align: middle;\n    }\n\n    .dataframe tbody tr th {\n        vertical-align: top;\n    }\n\n    .dataframe thead th {\n        text-align: right;\n    }\n</style>\n<table border=\"1\" class=\"dataframe\">\n  <thead>\n    <tr style=\"text-align: right;\">\n      <th></th>\n      <th>isbn13</th>\n      <th>vendor</th>\n      <th>publisher</th>\n      <th>comment</th>\n      <th>vendor&amp;isbn</th>\n      <th>date added</th>\n      <th>clear to order</th>\n    </tr>\n  </thead>\n  <tbody>\n    <tr>\n      <th>0</th>\n      <td>9780323567428</td>\n      <td>Risky</td>\n      <td>NaN</td>\n      <td>COINFO: Dosage Error</td>\n      <td>Risky9780323567428</td>\n      <td>NaT</td>\n      <td>NaN</td>\n    </tr>\n    <tr>\n      <th>1</th>\n      <td>9780500292105</td>\n      <td>Risky</td>\n      <td>NaN</td>\n      <td>NaN</td>\n      <td>Risky9780500292105</td>\n      <td>NaT</td>\n      <td>NaN</td>\n    </tr>\n    <tr>\n      <th>2</th>\n      <td>9781936523443</td>\n      <td>Risky</td>\n      <td>NaN</td>\n      <td>NaN</td>\n      <td>Risky9781936523443</td>\n      <td>NaT</td>\n      <td>NaN</td>\n    </tr>\n    <tr>\n      <th>3</th>\n      <td>9780134149530</td>\n      <td>Risky</td>\n      <td>NaN</td>\n      <td>NaN</td>\n      <td>Risky9780134149530</td>\n      <td>NaT</td>\n      <td>NaN</td>\n    </tr>\n    <tr>\n      <th>4</th>\n      <td>9780134205588</td>\n      <td>Risky</td>\n      <td>NaN</td>\n      <td>NaN</td>\n      <td>Risky9780134205588</td>\n      <td>NaT</td>\n      <td>NaN</td>\n    </tr>\n  </tbody>\n</table>\n</div>"
     },
     "metadata": {},
     "execution_count": 371
    }
   ],
   "source": [
    "rest.columns = map(str.lower, rest.columns)\n",
    "rest.head()"
   ]
  },
  {
   "cell_type": "code",
   "execution_count": 374,
   "metadata": {},
   "outputs": [
    {
     "output_type": "execute_result",
     "data": {
      "text/plain": "isbn13                    object\nvendor                    object\npublisher                 object\ncomment                   object\nvendor&isbn               object\ndate added        datetime64[ns]\nclear to order            object\ndtype: object"
     },
     "metadata": {},
     "execution_count": 374
    }
   ],
   "source": [
    "rest.dtypes"
   ]
  },
  {
   "cell_type": "code",
   "execution_count": 376,
   "metadata": {},
   "outputs": [],
   "source": [
    "rest['isbn13'] = rest['isbn13'].astype(str)"
   ]
  },
  {
   "cell_type": "code",
   "execution_count": 377,
   "metadata": {},
   "outputs": [
    {
     "output_type": "execute_result",
     "data": {
      "text/plain": "          isbn13 vendor\n0  9780323567428  RISKY\n1  9780500292105  RISKY\n2  9781936523443  RISKY\n3  9780134149530  RISKY\n4  9780134205588  RISKY",
      "text/html": "<div>\n<style scoped>\n    .dataframe tbody tr th:only-of-type {\n        vertical-align: middle;\n    }\n\n    .dataframe tbody tr th {\n        vertical-align: top;\n    }\n\n    .dataframe thead th {\n        text-align: right;\n    }\n</style>\n<table border=\"1\" class=\"dataframe\">\n  <thead>\n    <tr style=\"text-align: right;\">\n      <th></th>\n      <th>isbn13</th>\n      <th>vendor</th>\n    </tr>\n  </thead>\n  <tbody>\n    <tr>\n      <th>0</th>\n      <td>9780323567428</td>\n      <td>RISKY</td>\n    </tr>\n    <tr>\n      <th>1</th>\n      <td>9780500292105</td>\n      <td>RISKY</td>\n    </tr>\n    <tr>\n      <th>2</th>\n      <td>9781936523443</td>\n      <td>RISKY</td>\n    </tr>\n    <tr>\n      <th>3</th>\n      <td>9780134149530</td>\n      <td>RISKY</td>\n    </tr>\n    <tr>\n      <th>4</th>\n      <td>9780134205588</td>\n      <td>RISKY</td>\n    </tr>\n  </tbody>\n</table>\n</div>"
     },
     "metadata": {},
     "execution_count": 377
    }
   ],
   "source": [
    "for col in ['isbn13', 'vendor']:\n",
    "    rest[col] = rest.apply(lambda x: clean_up(x[col]), axis =1)\n",
    "\n",
    "rest = rest[['isbn13','vendor']]\n",
    "rest.head()"
   ]
  },
  {
   "cell_type": "code",
   "execution_count": 380,
   "metadata": {},
   "outputs": [
    {
     "output_type": "execute_result",
     "data": {
      "text/plain": "(88613, 2)"
     },
     "metadata": {},
     "execution_count": 380
    }
   ],
   "source": [
    "rest.shape"
   ]
  },
  {
   "cell_type": "code",
   "execution_count": 379,
   "metadata": {},
   "outputs": [
    {
     "output_type": "execute_result",
     "data": {
      "text/plain": "          isbn13 vendor\n0  9780323567428  RISKY\n1  9780500292105  RISKY\n2  9781936523443  RISKY\n3  9780134149530  RISKY\n4  9780134205588  RISKY",
      "text/html": "<div>\n<style scoped>\n    .dataframe tbody tr th:only-of-type {\n        vertical-align: middle;\n    }\n\n    .dataframe tbody tr th {\n        vertical-align: top;\n    }\n\n    .dataframe thead th {\n        text-align: right;\n    }\n</style>\n<table border=\"1\" class=\"dataframe\">\n  <thead>\n    <tr style=\"text-align: right;\">\n      <th></th>\n      <th>isbn13</th>\n      <th>vendor</th>\n    </tr>\n  </thead>\n  <tbody>\n    <tr>\n      <th>0</th>\n      <td>9780323567428</td>\n      <td>RISKY</td>\n    </tr>\n    <tr>\n      <th>1</th>\n      <td>9780500292105</td>\n      <td>RISKY</td>\n    </tr>\n    <tr>\n      <th>2</th>\n      <td>9781936523443</td>\n      <td>RISKY</td>\n    </tr>\n    <tr>\n      <th>3</th>\n      <td>9780134149530</td>\n      <td>RISKY</td>\n    </tr>\n    <tr>\n      <th>4</th>\n      <td>9780134205588</td>\n      <td>RISKY</td>\n    </tr>\n  </tbody>\n</table>\n</div>"
     },
     "metadata": {},
     "execution_count": 379
    }
   ],
   "source": [
    "risky = rest[rest['vendor'] == 'RISKY']\n",
    "risky.head()"
   ]
  },
  {
   "cell_type": "code",
   "execution_count": 381,
   "metadata": {},
   "outputs": [
    {
     "output_type": "execute_result",
     "data": {
      "text/plain": "(486, 2)"
     },
     "metadata": {},
     "execution_count": 381
    }
   ],
   "source": [
    "risky.shape"
   ]
  },
  {
   "cell_type": "code",
   "execution_count": null,
   "metadata": {},
   "outputs": [],
   "source": [
    "sup_list5.to_csv('suppliers_excel.csv', index= False)"
   ]
  }
 ],
 "metadata": {
  "kernelspec": {
   "display_name": "Python 3",
   "language": "python",
   "name": "python3"
  },
  "language_info": {
   "codemirror_mode": {
    "name": "ipython",
    "version": 3
   },
   "file_extension": ".py",
   "mimetype": "text/x-python",
   "name": "python",
   "nbconvert_exporter": "python",
   "pygments_lexer": "ipython3",
   "version": "3.7.6-final"
  }
 },
 "nbformat": 4,
 "nbformat_minor": 4
}