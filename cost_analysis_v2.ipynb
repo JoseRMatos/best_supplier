{
 "cells": [
  {
   "cell_type": "markdown",
   "metadata": {},
   "source": [
    "# Cost Analysis"
   ]
  },
  {
   "cell_type": "markdown",
   "metadata": {},
   "source": [
    "## 1. Import Library"
   ]
  },
  {
   "cell_type": "code",
   "execution_count": 1,
   "metadata": {},
   "outputs": [],
   "source": [
    "import pandas as pd\n",
    "import numpy as np\n",
    "import pyodbc # SQL Connection\n",
    "import sqlCredentials as sql"
   ]
  },
  {
   "cell_type": "markdown",
   "metadata": {},
   "source": [
    "## 2. Connect to Databases"
   ]
  },
  {
   "cell_type": "code",
   "execution_count": 2,
   "metadata": {},
   "outputs": [],
   "source": [
    "#PROCUREMENTDB\n",
    "\n",
    "proc_db = pyodbc.connect(\n",
    "    'DRIVER={ODBC Driver 17 for SQL Server};'\n",
    "    'Server=52.86.56.66;'\n",
    "    'Database=PROCUREMENTDB;'\n",
    "    'UID='+sql.username+';'\n",
    "    'PWD='+sql.password+';'\n",
    "    'Trusted_connection=no;'\n",
    ")\n",
    "\n",
    "#BookXCenterProduction\n",
    "prod_db = pyodbc.connect(\n",
    "    'DRIVER={ODBC Driver 17 for SQL Server};'\n",
    "    'Server=52.86.56.66;'\n",
    "    'Database=BookXCenterProduction;'\n",
    "    'UID='+sql.username+';'\n",
    "    'PWD='+sql.password+';'\n",
    "    'Trusted_connection=no;'\n",
    ")"
   ]
  },
  {
   "cell_type": "markdown",
   "metadata": {},
   "source": [
    "## 3. Define Clean up tool"
   ]
  },
  {
   "cell_type": "code",
   "execution_count": 3,
   "metadata": {},
   "outputs": [],
   "source": [
    "def clean_up(phrase):\n",
    "    phrase = phrase.lstrip()\n",
    "    phrase = phrase.rstrip()\n",
    "    phrase = phrase.upper()\n",
    "    return phrase"
   ]
  },
  {
   "cell_type": "markdown",
   "metadata": {},
   "source": [
    "## 4. Define Tables"
   ]
  },
  {
   "cell_type": "code",
   "execution_count": 4,
   "metadata": {},
   "outputs": [],
   "source": [
    "# Dictionary\n",
    "pub_dict = \"\"\"\n",
    "SELECT *\n",
    "FROM dbo.PublisherDictionary\n",
    "\"\"\"\n",
    "# LP All currencies\n",
    "all_lp = \"\"\"\n",
    "SELECT\n",
    "\t[Isbn]\n",
    "\t,[Currency]\n",
    "\t,[Price]\n",
    "FROM\n",
    "\t[Isbn].[ListPrice]\n",
    "\"\"\"\n",
    "# Bibliography\n",
    "bilblo_sql = \"\"\"\n",
    "SELECT Isbn\n",
    "    , Title\n",
    "    , Publisher\n",
    "    , Author\n",
    "FROM \n",
    "    Isbn.Bibliography\n",
    "\"\"\"\n",
    "# Echange Rate\n",
    "exchange_rate = \"\"\"\n",
    "SELECT \n",
    "    name,\n",
    "    rate\n",
    "FROM dbo.XChange\n",
    "\"\"\"\n",
    "#Supplier Mega List\n",
    "megalist_sql = \"\"\"\n",
    "SELECT \n",
    "    [ISBN]\n",
    "    ,[Supplier]\n",
    "    ,[Publisher]\n",
    "    ,[Currency]\n",
    "    ,[ListPrice]\n",
    "    ,[Discount]\n",
    "    ,[CostUnitPrice]\n",
    "    ,[MaxQtyPerOrder]\n",
    "    ,[ShipmentOrigin]\n",
    "    ,[UnitShippingCost]\n",
    "  FROM \n",
    "    [Process].[SupplierMegaList]\n",
    "\"\"\"\n",
    "\n",
    "#Import supplier Excel\n",
    "#Import short_discount\n",
    "#Import restrictions"
   ]
  },
  {
   "cell_type": "markdown",
   "metadata": {},
   "source": [
    "### 4.1 Import Dictionary and clean it"
   ]
  },
  {
   "cell_type": "code",
   "execution_count": 5,
   "metadata": {},
   "outputs": [
    {
     "output_type": "execute_result",
     "data": {
      "text/plain": "                          PublisherLong PublisherShort\n0                               Benning        Benning\n1                          Abrams, Inc.  HACHETTE LIVE\n2  Addison-Wesley Longman, Incorporated        PEARSON\n3       Addison-Wesley Longman, Limited        PEARSON\n4           Allyn & Bacon, Incorporated        PEARSON",
      "text/html": "<div>\n<style scoped>\n    .dataframe tbody tr th:only-of-type {\n        vertical-align: middle;\n    }\n\n    .dataframe tbody tr th {\n        vertical-align: top;\n    }\n\n    .dataframe thead th {\n        text-align: right;\n    }\n</style>\n<table border=\"1\" class=\"dataframe\">\n  <thead>\n    <tr style=\"text-align: right;\">\n      <th></th>\n      <th>PublisherLong</th>\n      <th>PublisherShort</th>\n    </tr>\n  </thead>\n  <tbody>\n    <tr>\n      <th>0</th>\n      <td>Benning</td>\n      <td>Benning</td>\n    </tr>\n    <tr>\n      <th>1</th>\n      <td>Abrams, Inc.</td>\n      <td>HACHETTE LIVE</td>\n    </tr>\n    <tr>\n      <th>2</th>\n      <td>Addison-Wesley Longman, Incorporated</td>\n      <td>PEARSON</td>\n    </tr>\n    <tr>\n      <th>3</th>\n      <td>Addison-Wesley Longman, Limited</td>\n      <td>PEARSON</td>\n    </tr>\n    <tr>\n      <th>4</th>\n      <td>Allyn &amp; Bacon, Incorporated</td>\n      <td>PEARSON</td>\n    </tr>\n  </tbody>\n</table>\n</div>"
     },
     "metadata": {},
     "execution_count": 5
    }
   ],
   "source": [
    "pub_dict = pd.read_sql(pub_dict, proc_db)\n",
    "pub_dict.head()"
   ]
  },
  {
   "cell_type": "code",
   "execution_count": 6,
   "metadata": {},
   "outputs": [
    {
     "output_type": "execute_result",
     "data": {
      "text/plain": "                          publisherlong publishershort\n0                               BENNING        BENNING\n1                          ABRAMS, INC.  HACHETTE LIVE\n2  ADDISON-WESLEY LONGMAN, INCORPORATED        PEARSON\n3       ADDISON-WESLEY LONGMAN, LIMITED        PEARSON\n4           ALLYN & BACON, INCORPORATED        PEARSON",
      "text/html": "<div>\n<style scoped>\n    .dataframe tbody tr th:only-of-type {\n        vertical-align: middle;\n    }\n\n    .dataframe tbody tr th {\n        vertical-align: top;\n    }\n\n    .dataframe thead th {\n        text-align: right;\n    }\n</style>\n<table border=\"1\" class=\"dataframe\">\n  <thead>\n    <tr style=\"text-align: right;\">\n      <th></th>\n      <th>publisherlong</th>\n      <th>publishershort</th>\n    </tr>\n  </thead>\n  <tbody>\n    <tr>\n      <th>0</th>\n      <td>BENNING</td>\n      <td>BENNING</td>\n    </tr>\n    <tr>\n      <th>1</th>\n      <td>ABRAMS, INC.</td>\n      <td>HACHETTE LIVE</td>\n    </tr>\n    <tr>\n      <th>2</th>\n      <td>ADDISON-WESLEY LONGMAN, INCORPORATED</td>\n      <td>PEARSON</td>\n    </tr>\n    <tr>\n      <th>3</th>\n      <td>ADDISON-WESLEY LONGMAN, LIMITED</td>\n      <td>PEARSON</td>\n    </tr>\n    <tr>\n      <th>4</th>\n      <td>ALLYN &amp; BACON, INCORPORATED</td>\n      <td>PEARSON</td>\n    </tr>\n  </tbody>\n</table>\n</div>"
     },
     "metadata": {},
     "execution_count": 6
    }
   ],
   "source": [
    "pub_dict.columns = map(str.lower, pub_dict.columns)\n",
    "pub_dict = pub_dict.fillna('N/A')\n",
    "for col in list(pub_dict.columns):\n",
    "    pub_dict[col] = pub_dict.apply(lambda x: clean_up(x[col]), axis =1)\n",
    "\n",
    "pub_dict.head()"
   ]
  },
  {
   "cell_type": "markdown",
   "metadata": {},
   "source": [
    "### 4.2 Import Bibliography and clean it"
   ]
  },
  {
   "cell_type": "code",
   "execution_count": 7,
   "metadata": {},
   "outputs": [
    {
     "output_type": "execute_result",
     "data": {
      "text/plain": "            Isbn Title Publisher Author\n0  9780000002402  None       LWW   None\n1  9780000002679  None       LWW   None\n2  9780000003102  None       LWW   None\n3  9780000003201  None       LWW   None\n4  9780000006493  None       LWW   None",
      "text/html": "<div>\n<style scoped>\n    .dataframe tbody tr th:only-of-type {\n        vertical-align: middle;\n    }\n\n    .dataframe tbody tr th {\n        vertical-align: top;\n    }\n\n    .dataframe thead th {\n        text-align: right;\n    }\n</style>\n<table border=\"1\" class=\"dataframe\">\n  <thead>\n    <tr style=\"text-align: right;\">\n      <th></th>\n      <th>Isbn</th>\n      <th>Title</th>\n      <th>Publisher</th>\n      <th>Author</th>\n    </tr>\n  </thead>\n  <tbody>\n    <tr>\n      <th>0</th>\n      <td>9780000002402</td>\n      <td>None</td>\n      <td>LWW</td>\n      <td>None</td>\n    </tr>\n    <tr>\n      <th>1</th>\n      <td>9780000002679</td>\n      <td>None</td>\n      <td>LWW</td>\n      <td>None</td>\n    </tr>\n    <tr>\n      <th>2</th>\n      <td>9780000003102</td>\n      <td>None</td>\n      <td>LWW</td>\n      <td>None</td>\n    </tr>\n    <tr>\n      <th>3</th>\n      <td>9780000003201</td>\n      <td>None</td>\n      <td>LWW</td>\n      <td>None</td>\n    </tr>\n    <tr>\n      <th>4</th>\n      <td>9780000006493</td>\n      <td>None</td>\n      <td>LWW</td>\n      <td>None</td>\n    </tr>\n  </tbody>\n</table>\n</div>"
     },
     "metadata": {},
     "execution_count": 7
    }
   ],
   "source": [
    "# IMport and read biblio\n",
    "biblio = pd.read_sql(bilblo_sql, prod_db)\n",
    "biblio.head()"
   ]
  },
  {
   "cell_type": "code",
   "execution_count": 8,
   "metadata": {},
   "outputs": [
    {
     "output_type": "execute_result",
     "data": {
      "text/plain": "            isbn title publisher author\n0  9780000002402   N/A       LWW    N/A\n1  9780000002679   N/A       LWW    N/A\n2  9780000003102   N/A       LWW    N/A\n3  9780000003201   N/A       LWW    N/A\n4  9780000006493   N/A       LWW    N/A",
      "text/html": "<div>\n<style scoped>\n    .dataframe tbody tr th:only-of-type {\n        vertical-align: middle;\n    }\n\n    .dataframe tbody tr th {\n        vertical-align: top;\n    }\n\n    .dataframe thead th {\n        text-align: right;\n    }\n</style>\n<table border=\"1\" class=\"dataframe\">\n  <thead>\n    <tr style=\"text-align: right;\">\n      <th></th>\n      <th>isbn</th>\n      <th>title</th>\n      <th>publisher</th>\n      <th>author</th>\n    </tr>\n  </thead>\n  <tbody>\n    <tr>\n      <th>0</th>\n      <td>9780000002402</td>\n      <td>N/A</td>\n      <td>LWW</td>\n      <td>N/A</td>\n    </tr>\n    <tr>\n      <th>1</th>\n      <td>9780000002679</td>\n      <td>N/A</td>\n      <td>LWW</td>\n      <td>N/A</td>\n    </tr>\n    <tr>\n      <th>2</th>\n      <td>9780000003102</td>\n      <td>N/A</td>\n      <td>LWW</td>\n      <td>N/A</td>\n    </tr>\n    <tr>\n      <th>3</th>\n      <td>9780000003201</td>\n      <td>N/A</td>\n      <td>LWW</td>\n      <td>N/A</td>\n    </tr>\n    <tr>\n      <th>4</th>\n      <td>9780000006493</td>\n      <td>N/A</td>\n      <td>LWW</td>\n      <td>N/A</td>\n    </tr>\n  </tbody>\n</table>\n</div>"
     },
     "metadata": {},
     "execution_count": 8
    }
   ],
   "source": [
    "biblio.columns = map(str.lower, biblio.columns)\n",
    "biblio = biblio.fillna('N/A')\n",
    "biblio['isbn'] = biblio['isbn'].astype(str)\n",
    "for col in list(biblio.columns):\n",
    "    biblio[col] = biblio.apply(lambda x: clean_up(x[col]), axis =1)\n",
    "biblio.head()"
   ]
  },
  {
   "cell_type": "markdown",
   "metadata": {},
   "source": [
    "Now we Merge bibliography with the dictionary"
   ]
  },
  {
   "cell_type": "code",
   "execution_count": 9,
   "metadata": {},
   "outputs": [
    {
     "output_type": "execute_result",
     "data": {
      "text/plain": "            isbn title publisher author  pub\n0  9780000002402   N/A       LWW    N/A  LWW\n1  9780000002679   N/A       LWW    N/A  LWW\n2  9780000003102   N/A       LWW    N/A  LWW\n3  9780000003201   N/A       LWW    N/A  LWW\n4  9780000006493   N/A       LWW    N/A  LWW",
      "text/html": "<div>\n<style scoped>\n    .dataframe tbody tr th:only-of-type {\n        vertical-align: middle;\n    }\n\n    .dataframe tbody tr th {\n        vertical-align: top;\n    }\n\n    .dataframe thead th {\n        text-align: right;\n    }\n</style>\n<table border=\"1\" class=\"dataframe\">\n  <thead>\n    <tr style=\"text-align: right;\">\n      <th></th>\n      <th>isbn</th>\n      <th>title</th>\n      <th>publisher</th>\n      <th>author</th>\n      <th>pub</th>\n    </tr>\n  </thead>\n  <tbody>\n    <tr>\n      <th>0</th>\n      <td>9780000002402</td>\n      <td>N/A</td>\n      <td>LWW</td>\n      <td>N/A</td>\n      <td>LWW</td>\n    </tr>\n    <tr>\n      <th>1</th>\n      <td>9780000002679</td>\n      <td>N/A</td>\n      <td>LWW</td>\n      <td>N/A</td>\n      <td>LWW</td>\n    </tr>\n    <tr>\n      <th>2</th>\n      <td>9780000003102</td>\n      <td>N/A</td>\n      <td>LWW</td>\n      <td>N/A</td>\n      <td>LWW</td>\n    </tr>\n    <tr>\n      <th>3</th>\n      <td>9780000003201</td>\n      <td>N/A</td>\n      <td>LWW</td>\n      <td>N/A</td>\n      <td>LWW</td>\n    </tr>\n    <tr>\n      <th>4</th>\n      <td>9780000006493</td>\n      <td>N/A</td>\n      <td>LWW</td>\n      <td>N/A</td>\n      <td>LWW</td>\n    </tr>\n  </tbody>\n</table>\n</div>"
     },
     "metadata": {},
     "execution_count": 9
    }
   ],
   "source": [
    "biblio2 = pd.merge(biblio, pub_dict, how='left', left_on = 'publisher', right_on = 'publisherlong' )\n",
    "biblio2.drop(columns = ['publisherlong'], inplace = True)\n",
    "biblio2.rename(columns={'publishershort': 'pub'}, inplace = True)\n",
    "biblio2.head()"
   ]
  },
  {
   "cell_type": "markdown",
   "metadata": {},
   "source": [
    "### 4.3 Import SupplierMegaList and clean it"
   ]
  },
  {
   "cell_type": "code",
   "execution_count": 10,
   "metadata": {},
   "outputs": [
    {
     "output_type": "execute_result",
     "data": {
      "text/plain": "            ISBN Supplier         Publisher Currency  ListPrice  Discount  \\\n0  9780262530873  BILLSON  UNIVERSITY PRESS      GBP       4.99      0.38   \n1  9780262530989  BILLSON  UNIVERSITY PRESS      GBP      25.00      0.38   \n2  9781681883052   Zookal    HARPER COLLINS      AUD       0.00      0.00   \n3  9780262531092  BILLSON  UNIVERSITY PRESS      GBP      37.95      0.38   \n4  9781681883212   Zookal    HARPER COLLINS      AUD       0.00      0.00   \n\n   CostUnitPrice  MaxQtyPerOrder ShipmentOrigin  UnitShippingCost  \n0           3.09            1000             UK              3.47  \n1          15.50            1000             UK              3.47  \n2          24.50             150            AUS              3.47  \n3          23.53            1000             UK              3.47  \n4          21.00             150            AUS              3.47  ",
      "text/html": "<div>\n<style scoped>\n    .dataframe tbody tr th:only-of-type {\n        vertical-align: middle;\n    }\n\n    .dataframe tbody tr th {\n        vertical-align: top;\n    }\n\n    .dataframe thead th {\n        text-align: right;\n    }\n</style>\n<table border=\"1\" class=\"dataframe\">\n  <thead>\n    <tr style=\"text-align: right;\">\n      <th></th>\n      <th>ISBN</th>\n      <th>Supplier</th>\n      <th>Publisher</th>\n      <th>Currency</th>\n      <th>ListPrice</th>\n      <th>Discount</th>\n      <th>CostUnitPrice</th>\n      <th>MaxQtyPerOrder</th>\n      <th>ShipmentOrigin</th>\n      <th>UnitShippingCost</th>\n    </tr>\n  </thead>\n  <tbody>\n    <tr>\n      <th>0</th>\n      <td>9780262530873</td>\n      <td>BILLSON</td>\n      <td>UNIVERSITY PRESS</td>\n      <td>GBP</td>\n      <td>4.99</td>\n      <td>0.38</td>\n      <td>3.09</td>\n      <td>1000</td>\n      <td>UK</td>\n      <td>3.47</td>\n    </tr>\n    <tr>\n      <th>1</th>\n      <td>9780262530989</td>\n      <td>BILLSON</td>\n      <td>UNIVERSITY PRESS</td>\n      <td>GBP</td>\n      <td>25.00</td>\n      <td>0.38</td>\n      <td>15.50</td>\n      <td>1000</td>\n      <td>UK</td>\n      <td>3.47</td>\n    </tr>\n    <tr>\n      <th>2</th>\n      <td>9781681883052</td>\n      <td>Zookal</td>\n      <td>HARPER COLLINS</td>\n      <td>AUD</td>\n      <td>0.00</td>\n      <td>0.00</td>\n      <td>24.50</td>\n      <td>150</td>\n      <td>AUS</td>\n      <td>3.47</td>\n    </tr>\n    <tr>\n      <th>3</th>\n      <td>9780262531092</td>\n      <td>BILLSON</td>\n      <td>UNIVERSITY PRESS</td>\n      <td>GBP</td>\n      <td>37.95</td>\n      <td>0.38</td>\n      <td>23.53</td>\n      <td>1000</td>\n      <td>UK</td>\n      <td>3.47</td>\n    </tr>\n    <tr>\n      <th>4</th>\n      <td>9781681883212</td>\n      <td>Zookal</td>\n      <td>HARPER COLLINS</td>\n      <td>AUD</td>\n      <td>0.00</td>\n      <td>0.00</td>\n      <td>21.00</td>\n      <td>150</td>\n      <td>AUS</td>\n      <td>3.47</td>\n    </tr>\n  </tbody>\n</table>\n</div>"
     },
     "metadata": {},
     "execution_count": 10
    }
   ],
   "source": [
    "megalist = pd.read_sql(megalist_sql,proc_db)\n",
    "megalist.head()"
   ]
  },
  {
   "cell_type": "code",
   "execution_count": 11,
   "metadata": {},
   "outputs": [
    {
     "output_type": "execute_result",
     "data": {
      "text/plain": "            isbn supplier         publisher currency  listprice  discount  \\\n0  9780262530873  BILLSON  UNIVERSITY PRESS      GBP       4.99      0.38   \n1  9780262530989  BILLSON  UNIVERSITY PRESS      GBP      25.00      0.38   \n2  9781681883052   ZOOKAL    HARPER COLLINS      AUD       0.00      0.00   \n3  9780262531092  BILLSON  UNIVERSITY PRESS      GBP      37.95      0.38   \n4  9781681883212   ZOOKAL    HARPER COLLINS      AUD       0.00      0.00   \n\n   costunitprice  maxqtyperorder shipmentorigin  unitshippingcost  \n0           3.09            1000             UK              3.47  \n1          15.50            1000             UK              3.47  \n2          24.50             150            AUS              3.47  \n3          23.53            1000             UK              3.47  \n4          21.00             150            AUS              3.47  ",
      "text/html": "<div>\n<style scoped>\n    .dataframe tbody tr th:only-of-type {\n        vertical-align: middle;\n    }\n\n    .dataframe tbody tr th {\n        vertical-align: top;\n    }\n\n    .dataframe thead th {\n        text-align: right;\n    }\n</style>\n<table border=\"1\" class=\"dataframe\">\n  <thead>\n    <tr style=\"text-align: right;\">\n      <th></th>\n      <th>isbn</th>\n      <th>supplier</th>\n      <th>publisher</th>\n      <th>currency</th>\n      <th>listprice</th>\n      <th>discount</th>\n      <th>costunitprice</th>\n      <th>maxqtyperorder</th>\n      <th>shipmentorigin</th>\n      <th>unitshippingcost</th>\n    </tr>\n  </thead>\n  <tbody>\n    <tr>\n      <th>0</th>\n      <td>9780262530873</td>\n      <td>BILLSON</td>\n      <td>UNIVERSITY PRESS</td>\n      <td>GBP</td>\n      <td>4.99</td>\n      <td>0.38</td>\n      <td>3.09</td>\n      <td>1000</td>\n      <td>UK</td>\n      <td>3.47</td>\n    </tr>\n    <tr>\n      <th>1</th>\n      <td>9780262530989</td>\n      <td>BILLSON</td>\n      <td>UNIVERSITY PRESS</td>\n      <td>GBP</td>\n      <td>25.00</td>\n      <td>0.38</td>\n      <td>15.50</td>\n      <td>1000</td>\n      <td>UK</td>\n      <td>3.47</td>\n    </tr>\n    <tr>\n      <th>2</th>\n      <td>9781681883052</td>\n      <td>ZOOKAL</td>\n      <td>HARPER COLLINS</td>\n      <td>AUD</td>\n      <td>0.00</td>\n      <td>0.00</td>\n      <td>24.50</td>\n      <td>150</td>\n      <td>AUS</td>\n      <td>3.47</td>\n    </tr>\n    <tr>\n      <th>3</th>\n      <td>9780262531092</td>\n      <td>BILLSON</td>\n      <td>UNIVERSITY PRESS</td>\n      <td>GBP</td>\n      <td>37.95</td>\n      <td>0.38</td>\n      <td>23.53</td>\n      <td>1000</td>\n      <td>UK</td>\n      <td>3.47</td>\n    </tr>\n    <tr>\n      <th>4</th>\n      <td>9781681883212</td>\n      <td>ZOOKAL</td>\n      <td>HARPER COLLINS</td>\n      <td>AUD</td>\n      <td>0.00</td>\n      <td>0.00</td>\n      <td>21.00</td>\n      <td>150</td>\n      <td>AUS</td>\n      <td>3.47</td>\n    </tr>\n  </tbody>\n</table>\n</div>"
     },
     "metadata": {},
     "execution_count": 11
    }
   ],
   "source": [
    "megalist.columns = map(str.lower, megalist.columns)\n",
    "megalist = megalist.fillna('N/A')\n",
    "megalist['isbn'] = megalist['isbn'].astype(str)\n",
    "for col in ['isbn', 'supplier', 'publisher', 'currency', 'shipmentorigin']:\n",
    "    megalist[col] = megalist.apply(lambda x: clean_up(x[col]), axis =1)\n",
    "megalist.head()"
   ]
  },
  {
   "cell_type": "code",
   "execution_count": 12,
   "metadata": {},
   "outputs": [
    {
     "output_type": "execute_result",
     "data": {
      "text/plain": "            isbn supplier       publisher_x currency  listprice  discount  \\\n0  9780262530873  BILLSON  UNIVERSITY PRESS      GBP       4.99      0.38   \n1  9780262530989  BILLSON  UNIVERSITY PRESS      GBP      25.00      0.38   \n2  9781681883052   ZOOKAL    HARPER COLLINS      AUD       0.00      0.00   \n3  9780262531092  BILLSON  UNIVERSITY PRESS      GBP      37.95      0.38   \n4  9781681883212   ZOOKAL    HARPER COLLINS      AUD       0.00      0.00   \n\n   costunitprice  maxqtyperorder shipmentorigin  unitshippingcost title  \\\n0           3.09            1000             UK              3.47   N/A   \n1          15.50            1000             UK              3.47   N/A   \n2          24.50             150            AUS              3.47   N/A   \n3          23.53            1000             UK              3.47   N/A   \n4          21.00             150            AUS              3.47   N/A   \n\n        publisher_y author               pub  \n0  UNIVERSITY PRESS    N/A  UNIVERSITY PRESS  \n1               N/A    N/A               N/A  \n2               N/A    N/A               N/A  \n3  UNIVERSITY PRESS    N/A  UNIVERSITY PRESS  \n4               N/A    N/A               N/A  ",
      "text/html": "<div>\n<style scoped>\n    .dataframe tbody tr th:only-of-type {\n        vertical-align: middle;\n    }\n\n    .dataframe tbody tr th {\n        vertical-align: top;\n    }\n\n    .dataframe thead th {\n        text-align: right;\n    }\n</style>\n<table border=\"1\" class=\"dataframe\">\n  <thead>\n    <tr style=\"text-align: right;\">\n      <th></th>\n      <th>isbn</th>\n      <th>supplier</th>\n      <th>publisher_x</th>\n      <th>currency</th>\n      <th>listprice</th>\n      <th>discount</th>\n      <th>costunitprice</th>\n      <th>maxqtyperorder</th>\n      <th>shipmentorigin</th>\n      <th>unitshippingcost</th>\n      <th>title</th>\n      <th>publisher_y</th>\n      <th>author</th>\n      <th>pub</th>\n    </tr>\n  </thead>\n  <tbody>\n    <tr>\n      <th>0</th>\n      <td>9780262530873</td>\n      <td>BILLSON</td>\n      <td>UNIVERSITY PRESS</td>\n      <td>GBP</td>\n      <td>4.99</td>\n      <td>0.38</td>\n      <td>3.09</td>\n      <td>1000</td>\n      <td>UK</td>\n      <td>3.47</td>\n      <td>N/A</td>\n      <td>UNIVERSITY PRESS</td>\n      <td>N/A</td>\n      <td>UNIVERSITY PRESS</td>\n    </tr>\n    <tr>\n      <th>1</th>\n      <td>9780262530989</td>\n      <td>BILLSON</td>\n      <td>UNIVERSITY PRESS</td>\n      <td>GBP</td>\n      <td>25.00</td>\n      <td>0.38</td>\n      <td>15.50</td>\n      <td>1000</td>\n      <td>UK</td>\n      <td>3.47</td>\n      <td>N/A</td>\n      <td>N/A</td>\n      <td>N/A</td>\n      <td>N/A</td>\n    </tr>\n    <tr>\n      <th>2</th>\n      <td>9781681883052</td>\n      <td>ZOOKAL</td>\n      <td>HARPER COLLINS</td>\n      <td>AUD</td>\n      <td>0.00</td>\n      <td>0.00</td>\n      <td>24.50</td>\n      <td>150</td>\n      <td>AUS</td>\n      <td>3.47</td>\n      <td>N/A</td>\n      <td>N/A</td>\n      <td>N/A</td>\n      <td>N/A</td>\n    </tr>\n    <tr>\n      <th>3</th>\n      <td>9780262531092</td>\n      <td>BILLSON</td>\n      <td>UNIVERSITY PRESS</td>\n      <td>GBP</td>\n      <td>37.95</td>\n      <td>0.38</td>\n      <td>23.53</td>\n      <td>1000</td>\n      <td>UK</td>\n      <td>3.47</td>\n      <td>N/A</td>\n      <td>UNIVERSITY PRESS</td>\n      <td>N/A</td>\n      <td>UNIVERSITY PRESS</td>\n    </tr>\n    <tr>\n      <th>4</th>\n      <td>9781681883212</td>\n      <td>ZOOKAL</td>\n      <td>HARPER COLLINS</td>\n      <td>AUD</td>\n      <td>0.00</td>\n      <td>0.00</td>\n      <td>21.00</td>\n      <td>150</td>\n      <td>AUS</td>\n      <td>3.47</td>\n      <td>N/A</td>\n      <td>N/A</td>\n      <td>N/A</td>\n      <td>N/A</td>\n    </tr>\n  </tbody>\n</table>\n</div>"
     },
     "metadata": {},
     "execution_count": 12
    }
   ],
   "source": [
    "megalist_pub = pd.merge(megalist, biblio2, how='left', on = 'isbn' )\n",
    "megalist_pub.head()"
   ]
  },
  {
   "cell_type": "code",
   "execution_count": 13,
   "metadata": {},
   "outputs": [
    {
     "output_type": "execute_result",
     "data": {
      "text/plain": "            isbn title               pub author supplier currency  price  \\\n0  9780262530873   N/A  UNIVERSITY PRESS    N/A  BILLSON      GBP   4.99   \n1  9780262530989   N/A  UNIVERSITY PRESS    N/A  BILLSON      GBP  25.00   \n2  9781681883052   N/A    HARPER COLLINS    N/A   ZOOKAL      AUD  24.50   \n3  9780262531092   N/A  UNIVERSITY PRESS    N/A  BILLSON      GBP  37.95   \n4  9781681883212   N/A    HARPER COLLINS    N/A   ZOOKAL      AUD  21.00   \n\n   discount  shipping_cost  max_qty origin  \n0      0.38           3.47     1000     UK  \n1      0.38           3.47     1000     UK  \n2      0.00           3.47      150    AUS  \n3      0.38           3.47     1000     UK  \n4      0.00           3.47      150    AUS  ",
      "text/html": "<div>\n<style scoped>\n    .dataframe tbody tr th:only-of-type {\n        vertical-align: middle;\n    }\n\n    .dataframe tbody tr th {\n        vertical-align: top;\n    }\n\n    .dataframe thead th {\n        text-align: right;\n    }\n</style>\n<table border=\"1\" class=\"dataframe\">\n  <thead>\n    <tr style=\"text-align: right;\">\n      <th></th>\n      <th>isbn</th>\n      <th>title</th>\n      <th>pub</th>\n      <th>author</th>\n      <th>supplier</th>\n      <th>currency</th>\n      <th>price</th>\n      <th>discount</th>\n      <th>shipping_cost</th>\n      <th>max_qty</th>\n      <th>origin</th>\n    </tr>\n  </thead>\n  <tbody>\n    <tr>\n      <th>0</th>\n      <td>9780262530873</td>\n      <td>N/A</td>\n      <td>UNIVERSITY PRESS</td>\n      <td>N/A</td>\n      <td>BILLSON</td>\n      <td>GBP</td>\n      <td>4.99</td>\n      <td>0.38</td>\n      <td>3.47</td>\n      <td>1000</td>\n      <td>UK</td>\n    </tr>\n    <tr>\n      <th>1</th>\n      <td>9780262530989</td>\n      <td>N/A</td>\n      <td>UNIVERSITY PRESS</td>\n      <td>N/A</td>\n      <td>BILLSON</td>\n      <td>GBP</td>\n      <td>25.00</td>\n      <td>0.38</td>\n      <td>3.47</td>\n      <td>1000</td>\n      <td>UK</td>\n    </tr>\n    <tr>\n      <th>2</th>\n      <td>9781681883052</td>\n      <td>N/A</td>\n      <td>HARPER COLLINS</td>\n      <td>N/A</td>\n      <td>ZOOKAL</td>\n      <td>AUD</td>\n      <td>24.50</td>\n      <td>0.00</td>\n      <td>3.47</td>\n      <td>150</td>\n      <td>AUS</td>\n    </tr>\n    <tr>\n      <th>3</th>\n      <td>9780262531092</td>\n      <td>N/A</td>\n      <td>UNIVERSITY PRESS</td>\n      <td>N/A</td>\n      <td>BILLSON</td>\n      <td>GBP</td>\n      <td>37.95</td>\n      <td>0.38</td>\n      <td>3.47</td>\n      <td>1000</td>\n      <td>UK</td>\n    </tr>\n    <tr>\n      <th>4</th>\n      <td>9781681883212</td>\n      <td>N/A</td>\n      <td>HARPER COLLINS</td>\n      <td>N/A</td>\n      <td>ZOOKAL</td>\n      <td>AUD</td>\n      <td>21.00</td>\n      <td>0.00</td>\n      <td>3.47</td>\n      <td>150</td>\n      <td>AUS</td>\n    </tr>\n  </tbody>\n</table>\n</div>"
     },
     "metadata": {},
     "execution_count": 13
    }
   ],
   "source": [
    "#cleaning pub name\n",
    "megalist_pub['pub'] = np.where(\n",
    "    megalist_pub['pub'] == 'N/A'\n",
    "    , megalist_pub['publisher_x']\n",
    "    , megalist_pub['pub'])\n",
    "    \n",
    "# centralizing price in one column\n",
    "megalist_pub['price'] = np.where(megalist_pub['listprice'] == 0.00, megalist_pub['costunitprice'], megalist_pub['listprice'])\n",
    "\n",
    "#clean column names\n",
    "megalist_pub.rename(columns={'unitshippingcost': 'shipping_cost', 'maxqtyperorder': 'max_qty', 'shipmentorigin': 'origin'}, inplace = True)\n",
    "\n",
    "#Arrange columns and drop unnecessary columns\n",
    "\n",
    "megalist_pub = megalist_pub[['isbn', 'title', 'pub', 'author', 'supplier', 'currency', 'price', 'discount', 'shipping_cost', 'max_qty', 'origin']]\n",
    "\n",
    "megalist_pub.head()"
   ]
  },
  {
   "cell_type": "markdown",
   "metadata": {},
   "source": [
    "### 4.3 Import all_lp and clean it"
   ]
  },
  {
   "cell_type": "code",
   "execution_count": 14,
   "metadata": {},
   "outputs": [
    {
     "output_type": "execute_result",
     "data": {
      "text/plain": "            Isbn Currency   Price\n0  9780131392632     USD   245.20\n1  9780131392632     GBP   152.99\n2  9780131392656     CND    53.90\n3  9780131392656     USD    49.00\n4  9780131392656     GBP    30.99",
      "text/html": "<div>\n<style scoped>\n    .dataframe tbody tr th:only-of-type {\n        vertical-align: middle;\n    }\n\n    .dataframe tbody tr th {\n        vertical-align: top;\n    }\n\n    .dataframe thead th {\n        text-align: right;\n    }\n</style>\n<table border=\"1\" class=\"dataframe\">\n  <thead>\n    <tr style=\"text-align: right;\">\n      <th></th>\n      <th>Isbn</th>\n      <th>Currency</th>\n      <th>Price</th>\n    </tr>\n  </thead>\n  <tbody>\n    <tr>\n      <th>0</th>\n      <td>9780131392632</td>\n      <td>USD</td>\n      <td>245.20</td>\n    </tr>\n    <tr>\n      <th>1</th>\n      <td>9780131392632</td>\n      <td>GBP</td>\n      <td>152.99</td>\n    </tr>\n    <tr>\n      <th>2</th>\n      <td>9780131392656</td>\n      <td>CND</td>\n      <td>53.90</td>\n    </tr>\n    <tr>\n      <th>3</th>\n      <td>9780131392656</td>\n      <td>USD</td>\n      <td>49.00</td>\n    </tr>\n    <tr>\n      <th>4</th>\n      <td>9780131392656</td>\n      <td>GBP</td>\n      <td>30.99</td>\n    </tr>\n  </tbody>\n</table>\n</div>"
     },
     "metadata": {},
     "execution_count": 14
    }
   ],
   "source": [
    "all_lp = pd.read_sql(all_lp, prod_db)\n",
    "all_lp.head()"
   ]
  },
  {
   "cell_type": "code",
   "execution_count": 15,
   "metadata": {},
   "outputs": [
    {
     "output_type": "execute_result",
     "data": {
      "text/plain": "            isbn currency   price\n0  9780131392632      USD  245.20\n1  9780131392632      GBP  152.99\n2  9780131392656      CND   53.90\n3  9780131392656      USD   49.00\n4  9780131392656      GBP   30.99",
      "text/html": "<div>\n<style scoped>\n    .dataframe tbody tr th:only-of-type {\n        vertical-align: middle;\n    }\n\n    .dataframe tbody tr th {\n        vertical-align: top;\n    }\n\n    .dataframe thead th {\n        text-align: right;\n    }\n</style>\n<table border=\"1\" class=\"dataframe\">\n  <thead>\n    <tr style=\"text-align: right;\">\n      <th></th>\n      <th>isbn</th>\n      <th>currency</th>\n      <th>price</th>\n    </tr>\n  </thead>\n  <tbody>\n    <tr>\n      <th>0</th>\n      <td>9780131392632</td>\n      <td>USD</td>\n      <td>245.20</td>\n    </tr>\n    <tr>\n      <th>1</th>\n      <td>9780131392632</td>\n      <td>GBP</td>\n      <td>152.99</td>\n    </tr>\n    <tr>\n      <th>2</th>\n      <td>9780131392656</td>\n      <td>CND</td>\n      <td>53.90</td>\n    </tr>\n    <tr>\n      <th>3</th>\n      <td>9780131392656</td>\n      <td>USD</td>\n      <td>49.00</td>\n    </tr>\n    <tr>\n      <th>4</th>\n      <td>9780131392656</td>\n      <td>GBP</td>\n      <td>30.99</td>\n    </tr>\n  </tbody>\n</table>\n</div>"
     },
     "metadata": {},
     "execution_count": 15
    }
   ],
   "source": [
    "all_lp.columns = map(str.lower, all_lp.columns)\n",
    "all_lp = all_lp.fillna('N/A')\n",
    "all_lp['isbn'] = all_lp['isbn'].astype(str)\n",
    "for col in ['isbn','currency']:\n",
    "    all_lp[col] = all_lp.apply(lambda x: clean_up(x[col]), axis =1)\n",
    "all_lp.head()"
   ]
  },
  {
   "cell_type": "markdown",
   "metadata": {},
   "source": [
    "#### 4.3.1 Get biblio with LP"
   ]
  },
  {
   "cell_type": "code",
   "execution_count": 16,
   "metadata": {},
   "outputs": [
    {
     "output_type": "execute_result",
     "data": {
      "text/plain": "            isbn currency   price title publisher author\n0  9780131392632      USD  245.20   N/A       N/A    N/A\n1  9780131392632      GBP  152.99   N/A       N/A    N/A\n2  9780131392656      CND   53.90   N/A       N/A    N/A\n3  9780131392656      USD   49.00   N/A       N/A    N/A\n4  9780131392656      GBP   30.99   N/A       N/A    N/A",
      "text/html": "<div>\n<style scoped>\n    .dataframe tbody tr th:only-of-type {\n        vertical-align: middle;\n    }\n\n    .dataframe tbody tr th {\n        vertical-align: top;\n    }\n\n    .dataframe thead th {\n        text-align: right;\n    }\n</style>\n<table border=\"1\" class=\"dataframe\">\n  <thead>\n    <tr style=\"text-align: right;\">\n      <th></th>\n      <th>isbn</th>\n      <th>currency</th>\n      <th>price</th>\n      <th>title</th>\n      <th>publisher</th>\n      <th>author</th>\n    </tr>\n  </thead>\n  <tbody>\n    <tr>\n      <th>0</th>\n      <td>9780131392632</td>\n      <td>USD</td>\n      <td>245.20</td>\n      <td>N/A</td>\n      <td>N/A</td>\n      <td>N/A</td>\n    </tr>\n    <tr>\n      <th>1</th>\n      <td>9780131392632</td>\n      <td>GBP</td>\n      <td>152.99</td>\n      <td>N/A</td>\n      <td>N/A</td>\n      <td>N/A</td>\n    </tr>\n    <tr>\n      <th>2</th>\n      <td>9780131392656</td>\n      <td>CND</td>\n      <td>53.90</td>\n      <td>N/A</td>\n      <td>N/A</td>\n      <td>N/A</td>\n    </tr>\n    <tr>\n      <th>3</th>\n      <td>9780131392656</td>\n      <td>USD</td>\n      <td>49.00</td>\n      <td>N/A</td>\n      <td>N/A</td>\n      <td>N/A</td>\n    </tr>\n    <tr>\n      <th>4</th>\n      <td>9780131392656</td>\n      <td>GBP</td>\n      <td>30.99</td>\n      <td>N/A</td>\n      <td>N/A</td>\n      <td>N/A</td>\n    </tr>\n  </tbody>\n</table>\n</div>"
     },
     "metadata": {},
     "execution_count": 16
    }
   ],
   "source": [
    "biblio_lp = pd.merge(all_lp, biblio2, how='left', on = 'isbn' )\n",
    "biblio_lp.drop(columns = ['pub'], inplace = True)\n",
    "biblio_lp.head()"
   ]
  },
  {
   "cell_type": "markdown",
   "metadata": {},
   "source": [
    "### 4.4 Import Sup_by_pub and clean it"
   ]
  },
  {
   "cell_type": "code",
   "execution_count": 17,
   "metadata": {},
   "outputs": [
    {
     "output_type": "execute_result",
     "data": {
      "text/plain": "  Supplier        Publisher Currency  Discount  Shipping Cost  max quantity  \\\n0   COINFO         3D TOTAL      AUD      0.22            3.3         10000   \n1   COINFO         ABC CLIO      AUD      0.30            3.3         10000   \n2   COINFO             AIAA      AUD      0.30            3.3         10000   \n3   COINFO    ALIEN & UNWIN      AUD      0.30            3.3         10000   \n4   COINFO  Amer Psych Ass.      AUD      0.33            3.3         10000   \n\n   Min ShipmentOrigin  \n0    0            AUS  \n1    0            AUS  \n2    0            AUS  \n3    0            AUS  \n4    0            AUS  ",
      "text/html": "<div>\n<style scoped>\n    .dataframe tbody tr th:only-of-type {\n        vertical-align: middle;\n    }\n\n    .dataframe tbody tr th {\n        vertical-align: top;\n    }\n\n    .dataframe thead th {\n        text-align: right;\n    }\n</style>\n<table border=\"1\" class=\"dataframe\">\n  <thead>\n    <tr style=\"text-align: right;\">\n      <th></th>\n      <th>Supplier</th>\n      <th>Publisher</th>\n      <th>Currency</th>\n      <th>Discount</th>\n      <th>Shipping Cost</th>\n      <th>max quantity</th>\n      <th>Min</th>\n      <th>ShipmentOrigin</th>\n    </tr>\n  </thead>\n  <tbody>\n    <tr>\n      <th>0</th>\n      <td>COINFO</td>\n      <td>3D TOTAL</td>\n      <td>AUD</td>\n      <td>0.22</td>\n      <td>3.3</td>\n      <td>10000</td>\n      <td>0</td>\n      <td>AUS</td>\n    </tr>\n    <tr>\n      <th>1</th>\n      <td>COINFO</td>\n      <td>ABC CLIO</td>\n      <td>AUD</td>\n      <td>0.30</td>\n      <td>3.3</td>\n      <td>10000</td>\n      <td>0</td>\n      <td>AUS</td>\n    </tr>\n    <tr>\n      <th>2</th>\n      <td>COINFO</td>\n      <td>AIAA</td>\n      <td>AUD</td>\n      <td>0.30</td>\n      <td>3.3</td>\n      <td>10000</td>\n      <td>0</td>\n      <td>AUS</td>\n    </tr>\n    <tr>\n      <th>3</th>\n      <td>COINFO</td>\n      <td>ALIEN &amp; UNWIN</td>\n      <td>AUD</td>\n      <td>0.30</td>\n      <td>3.3</td>\n      <td>10000</td>\n      <td>0</td>\n      <td>AUS</td>\n    </tr>\n    <tr>\n      <th>4</th>\n      <td>COINFO</td>\n      <td>Amer Psych Ass.</td>\n      <td>AUD</td>\n      <td>0.33</td>\n      <td>3.3</td>\n      <td>10000</td>\n      <td>0</td>\n      <td>AUS</td>\n    </tr>\n  </tbody>\n</table>\n</div>"
     },
     "metadata": {},
     "execution_count": 17
    }
   ],
   "source": [
    "sup_pub = pd.read_excel('../../../../Vendors/.  Vendors Details\\supplier_procurement_details.xlsx',  sheet_name='pub')\n",
    "sup_pub.head()"
   ]
  },
  {
   "cell_type": "code",
   "execution_count": 18,
   "metadata": {},
   "outputs": [
    {
     "output_type": "execute_result",
     "data": {
      "text/plain": "  supplier        publisher currency  discount  shipping cost  max quantity  \\\n0   COINFO         3D TOTAL      AUD      0.22            3.3         10000   \n1   COINFO         ABC CLIO      AUD      0.30            3.3         10000   \n2   COINFO             AIAA      AUD      0.30            3.3         10000   \n3   COINFO    ALIEN & UNWIN      AUD      0.30            3.3         10000   \n4   COINFO  AMER PSYCH ASS.      AUD      0.33            3.3         10000   \n\n   min shipmentorigin  \n0    0            AUS  \n1    0            AUS  \n2    0            AUS  \n3    0            AUS  \n4    0            AUS  ",
      "text/html": "<div>\n<style scoped>\n    .dataframe tbody tr th:only-of-type {\n        vertical-align: middle;\n    }\n\n    .dataframe tbody tr th {\n        vertical-align: top;\n    }\n\n    .dataframe thead th {\n        text-align: right;\n    }\n</style>\n<table border=\"1\" class=\"dataframe\">\n  <thead>\n    <tr style=\"text-align: right;\">\n      <th></th>\n      <th>supplier</th>\n      <th>publisher</th>\n      <th>currency</th>\n      <th>discount</th>\n      <th>shipping cost</th>\n      <th>max quantity</th>\n      <th>min</th>\n      <th>shipmentorigin</th>\n    </tr>\n  </thead>\n  <tbody>\n    <tr>\n      <th>0</th>\n      <td>COINFO</td>\n      <td>3D TOTAL</td>\n      <td>AUD</td>\n      <td>0.22</td>\n      <td>3.3</td>\n      <td>10000</td>\n      <td>0</td>\n      <td>AUS</td>\n    </tr>\n    <tr>\n      <th>1</th>\n      <td>COINFO</td>\n      <td>ABC CLIO</td>\n      <td>AUD</td>\n      <td>0.30</td>\n      <td>3.3</td>\n      <td>10000</td>\n      <td>0</td>\n      <td>AUS</td>\n    </tr>\n    <tr>\n      <th>2</th>\n      <td>COINFO</td>\n      <td>AIAA</td>\n      <td>AUD</td>\n      <td>0.30</td>\n      <td>3.3</td>\n      <td>10000</td>\n      <td>0</td>\n      <td>AUS</td>\n    </tr>\n    <tr>\n      <th>3</th>\n      <td>COINFO</td>\n      <td>ALIEN &amp; UNWIN</td>\n      <td>AUD</td>\n      <td>0.30</td>\n      <td>3.3</td>\n      <td>10000</td>\n      <td>0</td>\n      <td>AUS</td>\n    </tr>\n    <tr>\n      <th>4</th>\n      <td>COINFO</td>\n      <td>AMER PSYCH ASS.</td>\n      <td>AUD</td>\n      <td>0.33</td>\n      <td>3.3</td>\n      <td>10000</td>\n      <td>0</td>\n      <td>AUS</td>\n    </tr>\n  </tbody>\n</table>\n</div>"
     },
     "metadata": {},
     "execution_count": 18
    }
   ],
   "source": [
    "sup_pub.columns = map(str.lower, sup_pub.columns)\n",
    "sup_pub = sup_pub.fillna('N/A')\n",
    "for col in ['supplier','publisher', 'currency', 'shipmentorigin']:\n",
    "    sup_pub[col] = sup_pub.apply(lambda x: clean_up(x[col]), axis =1)\n",
    "sup_pub.head()"
   ]
  },
  {
   "cell_type": "markdown",
   "metadata": {},
   "source": [
    "#### 4.4.1 Merge Supplier by Publisher with biblio"
   ]
  },
  {
   "cell_type": "code",
   "execution_count": 19,
   "metadata": {},
   "outputs": [
    {
     "output_type": "execute_result",
     "data": {
      "text/plain": "            isbn currency   price  \\\n0  9780131394124      GBP  194.49   \n1  9780131426481      GBP  140.99   \n2  9780131437487      GBP   87.99   \n3  9780131439825      GBP   49.99   \n4  9780131447707      GBP   98.99   \n\n                                           title publisher  \\\n0  INTRODUCTION TO RISK MANAGEMENT AND INSURANCE   PEARSON   \n1                        SIMPLY JAVA PROGRAMMING   PEARSON   \n2                          EXPERIENCING GEOMETRY   PEARSON   \n3            BASIC METHODS OF STRUCTURAL GEOLOGY   PEARSON   \n4                  EXERCISES IN PHYSICAL GEOLOGY   PEARSON   \n\n                                              author supplier  discount  \\\n0                   MARK S. DORFMAN; DAVID A. CATHER      ABE      0.43   \n1  DEITEL AND ASSOCIATES STAFF; HARVEY M. DEITEL;...      ABE      0.43   \n2                  DAVID W. HENDERSON; DAINA TAIMINA      ABE      0.43   \n3     STEPHEN MARSHAK; GAUTUM MITRA; SCOTT WILKERSON      ABE      0.43   \n4                W. KENNETH HAMBLIN; JAMES D. HOWARD      ABE      0.43   \n\n   shipping cost  max quantity  min shipmentorigin  \n0           3.47         10000    0             UK  \n1           3.47         10000    0             UK  \n2           3.47         10000    0             UK  \n3           3.47         10000    0             UK  \n4           3.47         10000    0             UK  ",
      "text/html": "<div>\n<style scoped>\n    .dataframe tbody tr th:only-of-type {\n        vertical-align: middle;\n    }\n\n    .dataframe tbody tr th {\n        vertical-align: top;\n    }\n\n    .dataframe thead th {\n        text-align: right;\n    }\n</style>\n<table border=\"1\" class=\"dataframe\">\n  <thead>\n    <tr style=\"text-align: right;\">\n      <th></th>\n      <th>isbn</th>\n      <th>currency</th>\n      <th>price</th>\n      <th>title</th>\n      <th>publisher</th>\n      <th>author</th>\n      <th>supplier</th>\n      <th>discount</th>\n      <th>shipping cost</th>\n      <th>max quantity</th>\n      <th>min</th>\n      <th>shipmentorigin</th>\n    </tr>\n  </thead>\n  <tbody>\n    <tr>\n      <th>0</th>\n      <td>9780131394124</td>\n      <td>GBP</td>\n      <td>194.49</td>\n      <td>INTRODUCTION TO RISK MANAGEMENT AND INSURANCE</td>\n      <td>PEARSON</td>\n      <td>MARK S. DORFMAN; DAVID A. CATHER</td>\n      <td>ABE</td>\n      <td>0.43</td>\n      <td>3.47</td>\n      <td>10000</td>\n      <td>0</td>\n      <td>UK</td>\n    </tr>\n    <tr>\n      <th>1</th>\n      <td>9780131426481</td>\n      <td>GBP</td>\n      <td>140.99</td>\n      <td>SIMPLY JAVA PROGRAMMING</td>\n      <td>PEARSON</td>\n      <td>DEITEL AND ASSOCIATES STAFF; HARVEY M. DEITEL;...</td>\n      <td>ABE</td>\n      <td>0.43</td>\n      <td>3.47</td>\n      <td>10000</td>\n      <td>0</td>\n      <td>UK</td>\n    </tr>\n    <tr>\n      <th>2</th>\n      <td>9780131437487</td>\n      <td>GBP</td>\n      <td>87.99</td>\n      <td>EXPERIENCING GEOMETRY</td>\n      <td>PEARSON</td>\n      <td>DAVID W. HENDERSON; DAINA TAIMINA</td>\n      <td>ABE</td>\n      <td>0.43</td>\n      <td>3.47</td>\n      <td>10000</td>\n      <td>0</td>\n      <td>UK</td>\n    </tr>\n    <tr>\n      <th>3</th>\n      <td>9780131439825</td>\n      <td>GBP</td>\n      <td>49.99</td>\n      <td>BASIC METHODS OF STRUCTURAL GEOLOGY</td>\n      <td>PEARSON</td>\n      <td>STEPHEN MARSHAK; GAUTUM MITRA; SCOTT WILKERSON</td>\n      <td>ABE</td>\n      <td>0.43</td>\n      <td>3.47</td>\n      <td>10000</td>\n      <td>0</td>\n      <td>UK</td>\n    </tr>\n    <tr>\n      <th>4</th>\n      <td>9780131447707</td>\n      <td>GBP</td>\n      <td>98.99</td>\n      <td>EXERCISES IN PHYSICAL GEOLOGY</td>\n      <td>PEARSON</td>\n      <td>W. KENNETH HAMBLIN; JAMES D. HOWARD</td>\n      <td>ABE</td>\n      <td>0.43</td>\n      <td>3.47</td>\n      <td>10000</td>\n      <td>0</td>\n      <td>UK</td>\n    </tr>\n  </tbody>\n</table>\n</div>"
     },
     "metadata": {},
     "execution_count": 19
    }
   ],
   "source": [
    "sup_pub_biblio = pd.merge(biblio_lp, sup_pub, how='inner', left_on = ['currency', 'publisher'], right_on = ['currency', 'publisher'])\n",
    "sup_pub_biblio.head()"
   ]
  },
  {
   "cell_type": "code",
   "execution_count": 20,
   "metadata": {},
   "outputs": [
    {
     "output_type": "execute_result",
     "data": {
      "text/plain": "            isbn currency   price  \\\n0  9780131394124      GBP  194.49   \n1  9780131426481      GBP  140.99   \n2  9780131437487      GBP   87.99   \n3  9780131439825      GBP   49.99   \n4  9780131447707      GBP   98.99   \n\n                                           title      pub  \\\n0  INTRODUCTION TO RISK MANAGEMENT AND INSURANCE  PEARSON   \n1                        SIMPLY JAVA PROGRAMMING  PEARSON   \n2                          EXPERIENCING GEOMETRY  PEARSON   \n3            BASIC METHODS OF STRUCTURAL GEOLOGY  PEARSON   \n4                  EXERCISES IN PHYSICAL GEOLOGY  PEARSON   \n\n                                              author supplier  discount  \\\n0                   MARK S. DORFMAN; DAVID A. CATHER      ABE      0.43   \n1  DEITEL AND ASSOCIATES STAFF; HARVEY M. DEITEL;...      ABE      0.43   \n2                  DAVID W. HENDERSON; DAINA TAIMINA      ABE      0.43   \n3     STEPHEN MARSHAK; GAUTUM MITRA; SCOTT WILKERSON      ABE      0.43   \n4                W. KENNETH HAMBLIN; JAMES D. HOWARD      ABE      0.43   \n\n   shipping_cost  max_qty  min origin  \n0           3.47    10000    0     UK  \n1           3.47    10000    0     UK  \n2           3.47    10000    0     UK  \n3           3.47    10000    0     UK  \n4           3.47    10000    0     UK  ",
      "text/html": "<div>\n<style scoped>\n    .dataframe tbody tr th:only-of-type {\n        vertical-align: middle;\n    }\n\n    .dataframe tbody tr th {\n        vertical-align: top;\n    }\n\n    .dataframe thead th {\n        text-align: right;\n    }\n</style>\n<table border=\"1\" class=\"dataframe\">\n  <thead>\n    <tr style=\"text-align: right;\">\n      <th></th>\n      <th>isbn</th>\n      <th>currency</th>\n      <th>price</th>\n      <th>title</th>\n      <th>pub</th>\n      <th>author</th>\n      <th>supplier</th>\n      <th>discount</th>\n      <th>shipping_cost</th>\n      <th>max_qty</th>\n      <th>min</th>\n      <th>origin</th>\n    </tr>\n  </thead>\n  <tbody>\n    <tr>\n      <th>0</th>\n      <td>9780131394124</td>\n      <td>GBP</td>\n      <td>194.49</td>\n      <td>INTRODUCTION TO RISK MANAGEMENT AND INSURANCE</td>\n      <td>PEARSON</td>\n      <td>MARK S. DORFMAN; DAVID A. CATHER</td>\n      <td>ABE</td>\n      <td>0.43</td>\n      <td>3.47</td>\n      <td>10000</td>\n      <td>0</td>\n      <td>UK</td>\n    </tr>\n    <tr>\n      <th>1</th>\n      <td>9780131426481</td>\n      <td>GBP</td>\n      <td>140.99</td>\n      <td>SIMPLY JAVA PROGRAMMING</td>\n      <td>PEARSON</td>\n      <td>DEITEL AND ASSOCIATES STAFF; HARVEY M. DEITEL;...</td>\n      <td>ABE</td>\n      <td>0.43</td>\n      <td>3.47</td>\n      <td>10000</td>\n      <td>0</td>\n      <td>UK</td>\n    </tr>\n    <tr>\n      <th>2</th>\n      <td>9780131437487</td>\n      <td>GBP</td>\n      <td>87.99</td>\n      <td>EXPERIENCING GEOMETRY</td>\n      <td>PEARSON</td>\n      <td>DAVID W. HENDERSON; DAINA TAIMINA</td>\n      <td>ABE</td>\n      <td>0.43</td>\n      <td>3.47</td>\n      <td>10000</td>\n      <td>0</td>\n      <td>UK</td>\n    </tr>\n    <tr>\n      <th>3</th>\n      <td>9780131439825</td>\n      <td>GBP</td>\n      <td>49.99</td>\n      <td>BASIC METHODS OF STRUCTURAL GEOLOGY</td>\n      <td>PEARSON</td>\n      <td>STEPHEN MARSHAK; GAUTUM MITRA; SCOTT WILKERSON</td>\n      <td>ABE</td>\n      <td>0.43</td>\n      <td>3.47</td>\n      <td>10000</td>\n      <td>0</td>\n      <td>UK</td>\n    </tr>\n    <tr>\n      <th>4</th>\n      <td>9780131447707</td>\n      <td>GBP</td>\n      <td>98.99</td>\n      <td>EXERCISES IN PHYSICAL GEOLOGY</td>\n      <td>PEARSON</td>\n      <td>W. KENNETH HAMBLIN; JAMES D. HOWARD</td>\n      <td>ABE</td>\n      <td>0.43</td>\n      <td>3.47</td>\n      <td>10000</td>\n      <td>0</td>\n      <td>UK</td>\n    </tr>\n  </tbody>\n</table>\n</div>"
     },
     "metadata": {},
     "execution_count": 20
    }
   ],
   "source": [
    "\n",
    "sup_pub_biblio.rename(columns={'publisher': 'pub','shipping cost': 'shipping_cost', 'max quantity': 'max_qty', 'shipmentorigin': 'origin'}, inplace = True)\n",
    "\n",
    "sup_pub_biblio.head()"
   ]
  },
  {
   "cell_type": "markdown",
   "metadata": {},
   "source": [
    "#### 4.5 Import short_disc and clean it"
   ]
  },
  {
   "cell_type": "code",
   "execution_count": 21,
   "metadata": {},
   "outputs": [
    {
     "output_type": "execute_result",
     "data": {
      "text/plain": "  SUPPLIER           ISBN  DISCOUNT\n0      ABE  9781408041734       0.2\n1      ABE  9781408041918       0.2\n2      ABE  9781408056509       0.2\n3      ABE  9781408060377       0.2\n4      ABE  9780534944827       0.3",
      "text/html": "<div>\n<style scoped>\n    .dataframe tbody tr th:only-of-type {\n        vertical-align: middle;\n    }\n\n    .dataframe tbody tr th {\n        vertical-align: top;\n    }\n\n    .dataframe thead th {\n        text-align: right;\n    }\n</style>\n<table border=\"1\" class=\"dataframe\">\n  <thead>\n    <tr style=\"text-align: right;\">\n      <th></th>\n      <th>SUPPLIER</th>\n      <th>ISBN</th>\n      <th>DISCOUNT</th>\n    </tr>\n  </thead>\n  <tbody>\n    <tr>\n      <th>0</th>\n      <td>ABE</td>\n      <td>9781408041734</td>\n      <td>0.2</td>\n    </tr>\n    <tr>\n      <th>1</th>\n      <td>ABE</td>\n      <td>9781408041918</td>\n      <td>0.2</td>\n    </tr>\n    <tr>\n      <th>2</th>\n      <td>ABE</td>\n      <td>9781408056509</td>\n      <td>0.2</td>\n    </tr>\n    <tr>\n      <th>3</th>\n      <td>ABE</td>\n      <td>9781408060377</td>\n      <td>0.2</td>\n    </tr>\n    <tr>\n      <th>4</th>\n      <td>ABE</td>\n      <td>9780534944827</td>\n      <td>0.3</td>\n    </tr>\n  </tbody>\n</table>\n</div>"
     },
     "metadata": {},
     "execution_count": 21
    }
   ],
   "source": [
    "sp_disc = pd.read_excel(\"../../../../Vendors/. Short Discounted/all_short_discount_list.xlsx\")\n",
    "sp_disc.head()"
   ]
  },
  {
   "cell_type": "code",
   "execution_count": 22,
   "metadata": {},
   "outputs": [
    {
     "output_type": "execute_result",
     "data": {
      "text/plain": "  supplier           isbn  discount\n0      ABE  9781408041734       0.2\n1      ABE  9781408041918       0.2\n2      ABE  9781408056509       0.2\n3      ABE  9781408060377       0.2\n4      ABE  9780534944827       0.3",
      "text/html": "<div>\n<style scoped>\n    .dataframe tbody tr th:only-of-type {\n        vertical-align: middle;\n    }\n\n    .dataframe tbody tr th {\n        vertical-align: top;\n    }\n\n    .dataframe thead th {\n        text-align: right;\n    }\n</style>\n<table border=\"1\" class=\"dataframe\">\n  <thead>\n    <tr style=\"text-align: right;\">\n      <th></th>\n      <th>supplier</th>\n      <th>isbn</th>\n      <th>discount</th>\n    </tr>\n  </thead>\n  <tbody>\n    <tr>\n      <th>0</th>\n      <td>ABE</td>\n      <td>9781408041734</td>\n      <td>0.2</td>\n    </tr>\n    <tr>\n      <th>1</th>\n      <td>ABE</td>\n      <td>9781408041918</td>\n      <td>0.2</td>\n    </tr>\n    <tr>\n      <th>2</th>\n      <td>ABE</td>\n      <td>9781408056509</td>\n      <td>0.2</td>\n    </tr>\n    <tr>\n      <th>3</th>\n      <td>ABE</td>\n      <td>9781408060377</td>\n      <td>0.2</td>\n    </tr>\n    <tr>\n      <th>4</th>\n      <td>ABE</td>\n      <td>9780534944827</td>\n      <td>0.3</td>\n    </tr>\n  </tbody>\n</table>\n</div>"
     },
     "metadata": {},
     "execution_count": 22
    }
   ],
   "source": [
    "sp_disc.columns = map(str.lower, sp_disc.columns)\n",
    "sp_disc = sp_disc.fillna('N/A')\n",
    "sp_disc['isbn'] = sp_disc['isbn'].astype(str)\n",
    "for col in ['supplier', 'isbn']:\n",
    "    sp_disc[col] = sp_disc.apply(lambda x: clean_up(x[col]), axis =1)\n",
    "sp_disc.head()"
   ]
  },
  {
   "cell_type": "markdown",
   "metadata": {},
   "source": [
    "#### 4.5.1 Merge sup_pub_biblio by sp_disc with biblio"
   ]
  },
  {
   "cell_type": "code",
   "execution_count": 23,
   "metadata": {},
   "outputs": [
    {
     "output_type": "execute_result",
     "data": {
      "text/plain": "            isbn currency   price  \\\n0  9780131394124      GBP  194.49   \n1  9780131426481      GBP  140.99   \n2  9780131437487      GBP   87.99   \n3  9780131439825      GBP   49.99   \n4  9780131447707      GBP   98.99   \n\n                                           title      pub  \\\n0  INTRODUCTION TO RISK MANAGEMENT AND INSURANCE  PEARSON   \n1                        SIMPLY JAVA PROGRAMMING  PEARSON   \n2                          EXPERIENCING GEOMETRY  PEARSON   \n3            BASIC METHODS OF STRUCTURAL GEOLOGY  PEARSON   \n4                  EXERCISES IN PHYSICAL GEOLOGY  PEARSON   \n\n                                              author supplier  discount_x  \\\n0                   MARK S. DORFMAN; DAVID A. CATHER      ABE        0.43   \n1  DEITEL AND ASSOCIATES STAFF; HARVEY M. DEITEL;...      ABE        0.43   \n2                  DAVID W. HENDERSON; DAINA TAIMINA      ABE        0.43   \n3     STEPHEN MARSHAK; GAUTUM MITRA; SCOTT WILKERSON      ABE        0.43   \n4                W. KENNETH HAMBLIN; JAMES D. HOWARD      ABE        0.43   \n\n   shipping_cost  max_qty  min origin  discount_y  \n0           3.47    10000    0     UK         NaN  \n1           3.47    10000    0     UK         NaN  \n2           3.47    10000    0     UK         NaN  \n3           3.47    10000    0     UK         NaN  \n4           3.47    10000    0     UK         NaN  ",
      "text/html": "<div>\n<style scoped>\n    .dataframe tbody tr th:only-of-type {\n        vertical-align: middle;\n    }\n\n    .dataframe tbody tr th {\n        vertical-align: top;\n    }\n\n    .dataframe thead th {\n        text-align: right;\n    }\n</style>\n<table border=\"1\" class=\"dataframe\">\n  <thead>\n    <tr style=\"text-align: right;\">\n      <th></th>\n      <th>isbn</th>\n      <th>currency</th>\n      <th>price</th>\n      <th>title</th>\n      <th>pub</th>\n      <th>author</th>\n      <th>supplier</th>\n      <th>discount_x</th>\n      <th>shipping_cost</th>\n      <th>max_qty</th>\n      <th>min</th>\n      <th>origin</th>\n      <th>discount_y</th>\n    </tr>\n  </thead>\n  <tbody>\n    <tr>\n      <th>0</th>\n      <td>9780131394124</td>\n      <td>GBP</td>\n      <td>194.49</td>\n      <td>INTRODUCTION TO RISK MANAGEMENT AND INSURANCE</td>\n      <td>PEARSON</td>\n      <td>MARK S. DORFMAN; DAVID A. CATHER</td>\n      <td>ABE</td>\n      <td>0.43</td>\n      <td>3.47</td>\n      <td>10000</td>\n      <td>0</td>\n      <td>UK</td>\n      <td>NaN</td>\n    </tr>\n    <tr>\n      <th>1</th>\n      <td>9780131426481</td>\n      <td>GBP</td>\n      <td>140.99</td>\n      <td>SIMPLY JAVA PROGRAMMING</td>\n      <td>PEARSON</td>\n      <td>DEITEL AND ASSOCIATES STAFF; HARVEY M. DEITEL;...</td>\n      <td>ABE</td>\n      <td>0.43</td>\n      <td>3.47</td>\n      <td>10000</td>\n      <td>0</td>\n      <td>UK</td>\n      <td>NaN</td>\n    </tr>\n    <tr>\n      <th>2</th>\n      <td>9780131437487</td>\n      <td>GBP</td>\n      <td>87.99</td>\n      <td>EXPERIENCING GEOMETRY</td>\n      <td>PEARSON</td>\n      <td>DAVID W. HENDERSON; DAINA TAIMINA</td>\n      <td>ABE</td>\n      <td>0.43</td>\n      <td>3.47</td>\n      <td>10000</td>\n      <td>0</td>\n      <td>UK</td>\n      <td>NaN</td>\n    </tr>\n    <tr>\n      <th>3</th>\n      <td>9780131439825</td>\n      <td>GBP</td>\n      <td>49.99</td>\n      <td>BASIC METHODS OF STRUCTURAL GEOLOGY</td>\n      <td>PEARSON</td>\n      <td>STEPHEN MARSHAK; GAUTUM MITRA; SCOTT WILKERSON</td>\n      <td>ABE</td>\n      <td>0.43</td>\n      <td>3.47</td>\n      <td>10000</td>\n      <td>0</td>\n      <td>UK</td>\n      <td>NaN</td>\n    </tr>\n    <tr>\n      <th>4</th>\n      <td>9780131447707</td>\n      <td>GBP</td>\n      <td>98.99</td>\n      <td>EXERCISES IN PHYSICAL GEOLOGY</td>\n      <td>PEARSON</td>\n      <td>W. KENNETH HAMBLIN; JAMES D. HOWARD</td>\n      <td>ABE</td>\n      <td>0.43</td>\n      <td>3.47</td>\n      <td>10000</td>\n      <td>0</td>\n      <td>UK</td>\n      <td>NaN</td>\n    </tr>\n  </tbody>\n</table>\n</div>"
     },
     "metadata": {},
     "execution_count": 23
    }
   ],
   "source": [
    "sup_biblio_disc = pd.merge(sup_pub_biblio, sp_disc, how='left', on = ['supplier', 'isbn'])\n",
    "sup_biblio_disc.head()"
   ]
  },
  {
   "cell_type": "code",
   "execution_count": 24,
   "metadata": {},
   "outputs": [
    {
     "output_type": "execute_result",
     "data": {
      "text/plain": "            isbn currency   price  \\\n0  9780131394124      GBP  194.49   \n1  9780131426481      GBP  140.99   \n2  9780131437487      GBP   87.99   \n3  9780131439825      GBP   49.99   \n4  9780131447707      GBP   98.99   \n\n                                           title      pub  \\\n0  INTRODUCTION TO RISK MANAGEMENT AND INSURANCE  PEARSON   \n1                        SIMPLY JAVA PROGRAMMING  PEARSON   \n2                          EXPERIENCING GEOMETRY  PEARSON   \n3            BASIC METHODS OF STRUCTURAL GEOLOGY  PEARSON   \n4                  EXERCISES IN PHYSICAL GEOLOGY  PEARSON   \n\n                                              author supplier  discount_x  \\\n0                   MARK S. DORFMAN; DAVID A. CATHER      ABE        0.43   \n1  DEITEL AND ASSOCIATES STAFF; HARVEY M. DEITEL;...      ABE        0.43   \n2                  DAVID W. HENDERSON; DAINA TAIMINA      ABE        0.43   \n3     STEPHEN MARSHAK; GAUTUM MITRA; SCOTT WILKERSON      ABE        0.43   \n4                W. KENNETH HAMBLIN; JAMES D. HOWARD      ABE        0.43   \n\n   shipping_cost  max_qty  min origin  discount_y  discount  \n0           3.47    10000    0     UK         NaN      0.43  \n1           3.47    10000    0     UK         NaN      0.43  \n2           3.47    10000    0     UK         NaN      0.43  \n3           3.47    10000    0     UK         NaN      0.43  \n4           3.47    10000    0     UK         NaN      0.43  ",
      "text/html": "<div>\n<style scoped>\n    .dataframe tbody tr th:only-of-type {\n        vertical-align: middle;\n    }\n\n    .dataframe tbody tr th {\n        vertical-align: top;\n    }\n\n    .dataframe thead th {\n        text-align: right;\n    }\n</style>\n<table border=\"1\" class=\"dataframe\">\n  <thead>\n    <tr style=\"text-align: right;\">\n      <th></th>\n      <th>isbn</th>\n      <th>currency</th>\n      <th>price</th>\n      <th>title</th>\n      <th>pub</th>\n      <th>author</th>\n      <th>supplier</th>\n      <th>discount_x</th>\n      <th>shipping_cost</th>\n      <th>max_qty</th>\n      <th>min</th>\n      <th>origin</th>\n      <th>discount_y</th>\n      <th>discount</th>\n    </tr>\n  </thead>\n  <tbody>\n    <tr>\n      <th>0</th>\n      <td>9780131394124</td>\n      <td>GBP</td>\n      <td>194.49</td>\n      <td>INTRODUCTION TO RISK MANAGEMENT AND INSURANCE</td>\n      <td>PEARSON</td>\n      <td>MARK S. DORFMAN; DAVID A. CATHER</td>\n      <td>ABE</td>\n      <td>0.43</td>\n      <td>3.47</td>\n      <td>10000</td>\n      <td>0</td>\n      <td>UK</td>\n      <td>NaN</td>\n      <td>0.43</td>\n    </tr>\n    <tr>\n      <th>1</th>\n      <td>9780131426481</td>\n      <td>GBP</td>\n      <td>140.99</td>\n      <td>SIMPLY JAVA PROGRAMMING</td>\n      <td>PEARSON</td>\n      <td>DEITEL AND ASSOCIATES STAFF; HARVEY M. DEITEL;...</td>\n      <td>ABE</td>\n      <td>0.43</td>\n      <td>3.47</td>\n      <td>10000</td>\n      <td>0</td>\n      <td>UK</td>\n      <td>NaN</td>\n      <td>0.43</td>\n    </tr>\n    <tr>\n      <th>2</th>\n      <td>9780131437487</td>\n      <td>GBP</td>\n      <td>87.99</td>\n      <td>EXPERIENCING GEOMETRY</td>\n      <td>PEARSON</td>\n      <td>DAVID W. HENDERSON; DAINA TAIMINA</td>\n      <td>ABE</td>\n      <td>0.43</td>\n      <td>3.47</td>\n      <td>10000</td>\n      <td>0</td>\n      <td>UK</td>\n      <td>NaN</td>\n      <td>0.43</td>\n    </tr>\n    <tr>\n      <th>3</th>\n      <td>9780131439825</td>\n      <td>GBP</td>\n      <td>49.99</td>\n      <td>BASIC METHODS OF STRUCTURAL GEOLOGY</td>\n      <td>PEARSON</td>\n      <td>STEPHEN MARSHAK; GAUTUM MITRA; SCOTT WILKERSON</td>\n      <td>ABE</td>\n      <td>0.43</td>\n      <td>3.47</td>\n      <td>10000</td>\n      <td>0</td>\n      <td>UK</td>\n      <td>NaN</td>\n      <td>0.43</td>\n    </tr>\n    <tr>\n      <th>4</th>\n      <td>9780131447707</td>\n      <td>GBP</td>\n      <td>98.99</td>\n      <td>EXERCISES IN PHYSICAL GEOLOGY</td>\n      <td>PEARSON</td>\n      <td>W. KENNETH HAMBLIN; JAMES D. HOWARD</td>\n      <td>ABE</td>\n      <td>0.43</td>\n      <td>3.47</td>\n      <td>10000</td>\n      <td>0</td>\n      <td>UK</td>\n      <td>NaN</td>\n      <td>0.43</td>\n    </tr>\n  </tbody>\n</table>\n</div>"
     },
     "metadata": {},
     "execution_count": 24
    }
   ],
   "source": [
    "sup_biblio_disc['discount'] = np.where(sup_biblio_disc['discount_y'].isna(), sup_biblio_disc['discount_x'],sup_biblio_disc['discount_y'])\n",
    "\n",
    "\n",
    "#Drop unneccessary Columns\n",
    "\n",
    "sup_biblio_disc.head()"
   ]
  },
  {
   "cell_type": "code",
   "execution_count": 25,
   "metadata": {},
   "outputs": [
    {
     "output_type": "execute_result",
     "data": {
      "text/plain": "            isbn                                          title      pub  \\\n0  9780131394124  INTRODUCTION TO RISK MANAGEMENT AND INSURANCE  PEARSON   \n1  9780131426481                        SIMPLY JAVA PROGRAMMING  PEARSON   \n2  9780131437487                          EXPERIENCING GEOMETRY  PEARSON   \n3  9780131439825            BASIC METHODS OF STRUCTURAL GEOLOGY  PEARSON   \n4  9780131447707                  EXERCISES IN PHYSICAL GEOLOGY  PEARSON   \n\n                                              author supplier currency  \\\n0                   MARK S. DORFMAN; DAVID A. CATHER      ABE      GBP   \n1  DEITEL AND ASSOCIATES STAFF; HARVEY M. DEITEL;...      ABE      GBP   \n2                  DAVID W. HENDERSON; DAINA TAIMINA      ABE      GBP   \n3     STEPHEN MARSHAK; GAUTUM MITRA; SCOTT WILKERSON      ABE      GBP   \n4                W. KENNETH HAMBLIN; JAMES D. HOWARD      ABE      GBP   \n\n    price  discount  shipping_cost  max_qty origin  \n0  194.49      0.43           3.47    10000     UK  \n1  140.99      0.43           3.47    10000     UK  \n2   87.99      0.43           3.47    10000     UK  \n3   49.99      0.43           3.47    10000     UK  \n4   98.99      0.43           3.47    10000     UK  ",
      "text/html": "<div>\n<style scoped>\n    .dataframe tbody tr th:only-of-type {\n        vertical-align: middle;\n    }\n\n    .dataframe tbody tr th {\n        vertical-align: top;\n    }\n\n    .dataframe thead th {\n        text-align: right;\n    }\n</style>\n<table border=\"1\" class=\"dataframe\">\n  <thead>\n    <tr style=\"text-align: right;\">\n      <th></th>\n      <th>isbn</th>\n      <th>title</th>\n      <th>pub</th>\n      <th>author</th>\n      <th>supplier</th>\n      <th>currency</th>\n      <th>price</th>\n      <th>discount</th>\n      <th>shipping_cost</th>\n      <th>max_qty</th>\n      <th>origin</th>\n    </tr>\n  </thead>\n  <tbody>\n    <tr>\n      <th>0</th>\n      <td>9780131394124</td>\n      <td>INTRODUCTION TO RISK MANAGEMENT AND INSURANCE</td>\n      <td>PEARSON</td>\n      <td>MARK S. DORFMAN; DAVID A. CATHER</td>\n      <td>ABE</td>\n      <td>GBP</td>\n      <td>194.49</td>\n      <td>0.43</td>\n      <td>3.47</td>\n      <td>10000</td>\n      <td>UK</td>\n    </tr>\n    <tr>\n      <th>1</th>\n      <td>9780131426481</td>\n      <td>SIMPLY JAVA PROGRAMMING</td>\n      <td>PEARSON</td>\n      <td>DEITEL AND ASSOCIATES STAFF; HARVEY M. DEITEL;...</td>\n      <td>ABE</td>\n      <td>GBP</td>\n      <td>140.99</td>\n      <td>0.43</td>\n      <td>3.47</td>\n      <td>10000</td>\n      <td>UK</td>\n    </tr>\n    <tr>\n      <th>2</th>\n      <td>9780131437487</td>\n      <td>EXPERIENCING GEOMETRY</td>\n      <td>PEARSON</td>\n      <td>DAVID W. HENDERSON; DAINA TAIMINA</td>\n      <td>ABE</td>\n      <td>GBP</td>\n      <td>87.99</td>\n      <td>0.43</td>\n      <td>3.47</td>\n      <td>10000</td>\n      <td>UK</td>\n    </tr>\n    <tr>\n      <th>3</th>\n      <td>9780131439825</td>\n      <td>BASIC METHODS OF STRUCTURAL GEOLOGY</td>\n      <td>PEARSON</td>\n      <td>STEPHEN MARSHAK; GAUTUM MITRA; SCOTT WILKERSON</td>\n      <td>ABE</td>\n      <td>GBP</td>\n      <td>49.99</td>\n      <td>0.43</td>\n      <td>3.47</td>\n      <td>10000</td>\n      <td>UK</td>\n    </tr>\n    <tr>\n      <th>4</th>\n      <td>9780131447707</td>\n      <td>EXERCISES IN PHYSICAL GEOLOGY</td>\n      <td>PEARSON</td>\n      <td>W. KENNETH HAMBLIN; JAMES D. HOWARD</td>\n      <td>ABE</td>\n      <td>GBP</td>\n      <td>98.99</td>\n      <td>0.43</td>\n      <td>3.47</td>\n      <td>10000</td>\n      <td>UK</td>\n    </tr>\n  </tbody>\n</table>\n</div>"
     },
     "metadata": {},
     "execution_count": 25
    }
   ],
   "source": [
    "sup_biblio_disc = sup_biblio_disc[['isbn', 'title', 'pub', 'author', 'supplier', 'currency', 'price', 'discount', 'shipping_cost', 'max_qty', 'origin']]\n",
    "sup_biblio_disc.head()"
   ]
  },
  {
   "cell_type": "markdown",
   "metadata": {},
   "source": [
    "### 4.6 Create table for WC"
   ]
  },
  {
   "cell_type": "code",
   "execution_count": 26,
   "metadata": {},
   "outputs": [
    {
     "output_type": "execute_result",
     "data": {
      "text/plain": "             isbn                                          title      pub  \\\n2   9780131392656                                            N/A      N/A   \n7   9780131394124  INTRODUCTION TO RISK MANAGEMENT AND INSURANCE  PEARSON   \n9   9780131394254                                            N/A      N/A   \n12  9780131394650                                            N/A      N/A   \n15  9780131394681                                            N/A      N/A   \n\n                              author supplier currency   price  discount  \\\n2                                N/A       WC      CND   53.90      0.10   \n7   MARK S. DORFMAN; DAVID A. CATHER       WC      CND  211.05      0.14   \n9                                N/A       WC      CND  224.90      0.14   \n12                               N/A       WC      CND  312.45      0.14   \n15                               N/A       WC      CND  203.15      0.14   \n\n    shipping_cost  max_qty origin  \n2               2    10000    CAN  \n7               2    10000    CAN  \n9               2    10000    CAN  \n12              2    10000    CAN  \n15              2    10000    CAN  ",
      "text/html": "<div>\n<style scoped>\n    .dataframe tbody tr th:only-of-type {\n        vertical-align: middle;\n    }\n\n    .dataframe tbody tr th {\n        vertical-align: top;\n    }\n\n    .dataframe thead th {\n        text-align: right;\n    }\n</style>\n<table border=\"1\" class=\"dataframe\">\n  <thead>\n    <tr style=\"text-align: right;\">\n      <th></th>\n      <th>isbn</th>\n      <th>title</th>\n      <th>pub</th>\n      <th>author</th>\n      <th>supplier</th>\n      <th>currency</th>\n      <th>price</th>\n      <th>discount</th>\n      <th>shipping_cost</th>\n      <th>max_qty</th>\n      <th>origin</th>\n    </tr>\n  </thead>\n  <tbody>\n    <tr>\n      <th>2</th>\n      <td>9780131392656</td>\n      <td>N/A</td>\n      <td>N/A</td>\n      <td>N/A</td>\n      <td>WC</td>\n      <td>CND</td>\n      <td>53.90</td>\n      <td>0.10</td>\n      <td>2</td>\n      <td>10000</td>\n      <td>CAN</td>\n    </tr>\n    <tr>\n      <th>7</th>\n      <td>9780131394124</td>\n      <td>INTRODUCTION TO RISK MANAGEMENT AND INSURANCE</td>\n      <td>PEARSON</td>\n      <td>MARK S. DORFMAN; DAVID A. CATHER</td>\n      <td>WC</td>\n      <td>CND</td>\n      <td>211.05</td>\n      <td>0.14</td>\n      <td>2</td>\n      <td>10000</td>\n      <td>CAN</td>\n    </tr>\n    <tr>\n      <th>9</th>\n      <td>9780131394254</td>\n      <td>N/A</td>\n      <td>N/A</td>\n      <td>N/A</td>\n      <td>WC</td>\n      <td>CND</td>\n      <td>224.90</td>\n      <td>0.14</td>\n      <td>2</td>\n      <td>10000</td>\n      <td>CAN</td>\n    </tr>\n    <tr>\n      <th>12</th>\n      <td>9780131394650</td>\n      <td>N/A</td>\n      <td>N/A</td>\n      <td>N/A</td>\n      <td>WC</td>\n      <td>CND</td>\n      <td>312.45</td>\n      <td>0.14</td>\n      <td>2</td>\n      <td>10000</td>\n      <td>CAN</td>\n    </tr>\n    <tr>\n      <th>15</th>\n      <td>9780131394681</td>\n      <td>N/A</td>\n      <td>N/A</td>\n      <td>N/A</td>\n      <td>WC</td>\n      <td>CND</td>\n      <td>203.15</td>\n      <td>0.14</td>\n      <td>2</td>\n      <td>10000</td>\n      <td>CAN</td>\n    </tr>\n  </tbody>\n</table>\n</div>"
     },
     "metadata": {},
     "execution_count": 26
    }
   ],
   "source": [
    "can_sup = biblio_lp[biblio_lp['currency'] == 'CND']\n",
    "can_sup.columns = map(str.lower, can_sup.columns)\n",
    "can_sup['supplier'] = 'WC'\n",
    "can_sup['discount'] = np.where(can_sup['price']<150, 0.1, np.where((can_sup['price'] >=150) & (can_sup['price']<200),0.12,0.14))\n",
    "can_sup['max_qty'] = 10000\n",
    "can_sup['origin'] = 'CAN'\n",
    "can_sup['shipping_cost'] = 2\n",
    "can_sup.rename(columns={'publisher': 'pub'}, inplace = True)\n",
    "\n",
    "\n",
    "can_sup = can_sup[['isbn', 'title', 'pub', 'author', 'supplier', 'currency', 'price', 'discount', 'shipping_cost', 'max_qty', 'origin']]\n",
    "\n",
    "can_sup.head()"
   ]
  },
  {
   "cell_type": "markdown",
   "metadata": {},
   "source": [
    "## 5. Append SupplierMegaLis, PublisherSuppliers and WesterCampus"
   ]
  },
  {
   "cell_type": "code",
   "execution_count": 27,
   "metadata": {},
   "outputs": [
    {
     "output_type": "execute_result",
     "data": {
      "text/plain": "            isbn title               pub author supplier currency  price  \\\n0  9780262530873   N/A  UNIVERSITY PRESS    N/A  BILLSON      GBP   4.99   \n1  9780262530989   N/A  UNIVERSITY PRESS    N/A  BILLSON      GBP  25.00   \n2  9781681883052   N/A    HARPER COLLINS    N/A   ZOOKAL      AUD  24.50   \n3  9780262531092   N/A  UNIVERSITY PRESS    N/A  BILLSON      GBP  37.95   \n4  9781681883212   N/A    HARPER COLLINS    N/A   ZOOKAL      AUD  21.00   \n\n   discount  shipping_cost  max_qty origin  \n0      0.38           3.47     1000     UK  \n1      0.38           3.47     1000     UK  \n2      0.00           3.47      150    AUS  \n3      0.38           3.47     1000     UK  \n4      0.00           3.47      150    AUS  ",
      "text/html": "<div>\n<style scoped>\n    .dataframe tbody tr th:only-of-type {\n        vertical-align: middle;\n    }\n\n    .dataframe tbody tr th {\n        vertical-align: top;\n    }\n\n    .dataframe thead th {\n        text-align: right;\n    }\n</style>\n<table border=\"1\" class=\"dataframe\">\n  <thead>\n    <tr style=\"text-align: right;\">\n      <th></th>\n      <th>isbn</th>\n      <th>title</th>\n      <th>pub</th>\n      <th>author</th>\n      <th>supplier</th>\n      <th>currency</th>\n      <th>price</th>\n      <th>discount</th>\n      <th>shipping_cost</th>\n      <th>max_qty</th>\n      <th>origin</th>\n    </tr>\n  </thead>\n  <tbody>\n    <tr>\n      <th>0</th>\n      <td>9780262530873</td>\n      <td>N/A</td>\n      <td>UNIVERSITY PRESS</td>\n      <td>N/A</td>\n      <td>BILLSON</td>\n      <td>GBP</td>\n      <td>4.99</td>\n      <td>0.38</td>\n      <td>3.47</td>\n      <td>1000</td>\n      <td>UK</td>\n    </tr>\n    <tr>\n      <th>1</th>\n      <td>9780262530989</td>\n      <td>N/A</td>\n      <td>UNIVERSITY PRESS</td>\n      <td>N/A</td>\n      <td>BILLSON</td>\n      <td>GBP</td>\n      <td>25.00</td>\n      <td>0.38</td>\n      <td>3.47</td>\n      <td>1000</td>\n      <td>UK</td>\n    </tr>\n    <tr>\n      <th>2</th>\n      <td>9781681883052</td>\n      <td>N/A</td>\n      <td>HARPER COLLINS</td>\n      <td>N/A</td>\n      <td>ZOOKAL</td>\n      <td>AUD</td>\n      <td>24.50</td>\n      <td>0.00</td>\n      <td>3.47</td>\n      <td>150</td>\n      <td>AUS</td>\n    </tr>\n    <tr>\n      <th>3</th>\n      <td>9780262531092</td>\n      <td>N/A</td>\n      <td>UNIVERSITY PRESS</td>\n      <td>N/A</td>\n      <td>BILLSON</td>\n      <td>GBP</td>\n      <td>37.95</td>\n      <td>0.38</td>\n      <td>3.47</td>\n      <td>1000</td>\n      <td>UK</td>\n    </tr>\n    <tr>\n      <th>4</th>\n      <td>9781681883212</td>\n      <td>N/A</td>\n      <td>HARPER COLLINS</td>\n      <td>N/A</td>\n      <td>ZOOKAL</td>\n      <td>AUD</td>\n      <td>21.00</td>\n      <td>0.00</td>\n      <td>3.47</td>\n      <td>150</td>\n      <td>AUS</td>\n    </tr>\n  </tbody>\n</table>\n</div>"
     },
     "metadata": {},
     "execution_count": 27
    }
   ],
   "source": [
    "all_sup = megalist_pub.append([sup_biblio_disc, can_sup], ignore_index= True)\n",
    "all_sup.head()"
   ]
  },
  {
   "cell_type": "markdown",
   "metadata": {},
   "source": [
    "## 6. Add Fees"
   ]
  },
  {
   "cell_type": "code",
   "execution_count": 28,
   "metadata": {},
   "outputs": [
    {
     "output_type": "execute_result",
     "data": {
      "text/plain": "            isbn title               pub author supplier currency  price  \\\n0  9780262530873   N/A  UNIVERSITY PRESS    N/A  BILLSON      GBP   4.99   \n1  9780262530989   N/A  UNIVERSITY PRESS    N/A  BILLSON      GBP  25.00   \n2  9781681883052   N/A    HARPER COLLINS    N/A   ZOOKAL      AUD  24.50   \n3  9780262531092   N/A  UNIVERSITY PRESS    N/A  BILLSON      GBP  37.95   \n4  9781681883212   N/A    HARPER COLLINS    N/A   ZOOKAL      AUD  21.00   \n\n   discount  shipping_cost  max_qty origin  invoice_fee  lp_fee  \n0      0.38           3.47     1000     UK          0.0     0.0  \n1      0.38           3.47     1000     UK          0.0     0.0  \n2      0.00           3.47      150    AUS          0.0     0.0  \n3      0.38           3.47     1000     UK          0.0     0.0  \n4      0.00           3.47      150    AUS          0.0     0.0  ",
      "text/html": "<div>\n<style scoped>\n    .dataframe tbody tr th:only-of-type {\n        vertical-align: middle;\n    }\n\n    .dataframe tbody tr th {\n        vertical-align: top;\n    }\n\n    .dataframe thead th {\n        text-align: right;\n    }\n</style>\n<table border=\"1\" class=\"dataframe\">\n  <thead>\n    <tr style=\"text-align: right;\">\n      <th></th>\n      <th>isbn</th>\n      <th>title</th>\n      <th>pub</th>\n      <th>author</th>\n      <th>supplier</th>\n      <th>currency</th>\n      <th>price</th>\n      <th>discount</th>\n      <th>shipping_cost</th>\n      <th>max_qty</th>\n      <th>origin</th>\n      <th>invoice_fee</th>\n      <th>lp_fee</th>\n    </tr>\n  </thead>\n  <tbody>\n    <tr>\n      <th>0</th>\n      <td>9780262530873</td>\n      <td>N/A</td>\n      <td>UNIVERSITY PRESS</td>\n      <td>N/A</td>\n      <td>BILLSON</td>\n      <td>GBP</td>\n      <td>4.99</td>\n      <td>0.38</td>\n      <td>3.47</td>\n      <td>1000</td>\n      <td>UK</td>\n      <td>0.0</td>\n      <td>0.0</td>\n    </tr>\n    <tr>\n      <th>1</th>\n      <td>9780262530989</td>\n      <td>N/A</td>\n      <td>UNIVERSITY PRESS</td>\n      <td>N/A</td>\n      <td>BILLSON</td>\n      <td>GBP</td>\n      <td>25.00</td>\n      <td>0.38</td>\n      <td>3.47</td>\n      <td>1000</td>\n      <td>UK</td>\n      <td>0.0</td>\n      <td>0.0</td>\n    </tr>\n    <tr>\n      <th>2</th>\n      <td>9781681883052</td>\n      <td>N/A</td>\n      <td>HARPER COLLINS</td>\n      <td>N/A</td>\n      <td>ZOOKAL</td>\n      <td>AUD</td>\n      <td>24.50</td>\n      <td>0.00</td>\n      <td>3.47</td>\n      <td>150</td>\n      <td>AUS</td>\n      <td>0.0</td>\n      <td>0.0</td>\n    </tr>\n    <tr>\n      <th>3</th>\n      <td>9780262531092</td>\n      <td>N/A</td>\n      <td>UNIVERSITY PRESS</td>\n      <td>N/A</td>\n      <td>BILLSON</td>\n      <td>GBP</td>\n      <td>37.95</td>\n      <td>0.38</td>\n      <td>3.47</td>\n      <td>1000</td>\n      <td>UK</td>\n      <td>0.0</td>\n      <td>0.0</td>\n    </tr>\n    <tr>\n      <th>4</th>\n      <td>9781681883212</td>\n      <td>N/A</td>\n      <td>HARPER COLLINS</td>\n      <td>N/A</td>\n      <td>ZOOKAL</td>\n      <td>AUD</td>\n      <td>21.00</td>\n      <td>0.00</td>\n      <td>3.47</td>\n      <td>150</td>\n      <td>AUS</td>\n      <td>0.0</td>\n      <td>0.0</td>\n    </tr>\n  </tbody>\n</table>\n</div>"
     },
     "metadata": {},
     "execution_count": 28
    }
   ],
   "source": [
    "#Invoice Fee\n",
    "all_sup['invoice_fee'] = np.where(\n",
    "    all_sup['supplier'].str.contains('ALEK'), 0.005,\n",
    "    np.where(\n",
    "        (all_sup['supplier'].str.contains('LAURENTIU')) | (all_sup['supplier'].str.contains('SENAD')),0.02,\n",
    "        np.where(\n",
    "        (all_sup['supplier'].str.contains('ARMANDO')) | (all_sup['supplier'].str.contains('FELIPE')),0.01,\n",
    "        np.where(\n",
    "            (all_sup['supplier'] == 'COINFO'), -1/11,\n",
    "            0)\n",
    "            )\n",
    "            )\n",
    "            )\n",
    "# lp_fee\n",
    "\n",
    "all_sup['lp_fee'] = np.where(\n",
    "    (all_sup['supplier'].str.contains('BILLSON') & (all_sup['discount'] == 0 )), 0.03,0)\n",
    "\n",
    "all_sup.head()"
   ]
  },
  {
   "cell_type": "markdown",
   "metadata": {},
   "source": [
    "## 7. import and Merge exchage rate with all suppliers"
   ]
  },
  {
   "cell_type": "code",
   "execution_count": 29,
   "metadata": {},
   "outputs": [
    {
     "output_type": "execute_result",
     "data": {
      "text/plain": "            isbn title               pub author supplier currency  price  \\\n0  9780262530873   N/A  UNIVERSITY PRESS    N/A  BILLSON      GBP   4.99   \n1  9780262530989   N/A  UNIVERSITY PRESS    N/A  BILLSON      GBP  25.00   \n2  9781681883052   N/A    HARPER COLLINS    N/A   ZOOKAL      AUD  24.50   \n3  9780262531092   N/A  UNIVERSITY PRESS    N/A  BILLSON      GBP  37.95   \n4  9781681883212   N/A    HARPER COLLINS    N/A   ZOOKAL      AUD  21.00   \n\n   discount  shipping_cost  max_qty origin  invoice_fee  lp_fee      rate  \n0      0.38           3.47     1000     UK          0.0     0.0  1.231680  \n1      0.38           3.47     1000     UK          0.0     0.0  1.231680  \n2      0.00           3.47      150    AUS          0.0     0.0  0.662076  \n3      0.38           3.47     1000     UK          0.0     0.0  1.231680  \n4      0.00           3.47      150    AUS          0.0     0.0  0.662076  ",
      "text/html": "<div>\n<style scoped>\n    .dataframe tbody tr th:only-of-type {\n        vertical-align: middle;\n    }\n\n    .dataframe tbody tr th {\n        vertical-align: top;\n    }\n\n    .dataframe thead th {\n        text-align: right;\n    }\n</style>\n<table border=\"1\" class=\"dataframe\">\n  <thead>\n    <tr style=\"text-align: right;\">\n      <th></th>\n      <th>isbn</th>\n      <th>title</th>\n      <th>pub</th>\n      <th>author</th>\n      <th>supplier</th>\n      <th>currency</th>\n      <th>price</th>\n      <th>discount</th>\n      <th>shipping_cost</th>\n      <th>max_qty</th>\n      <th>origin</th>\n      <th>invoice_fee</th>\n      <th>lp_fee</th>\n      <th>rate</th>\n    </tr>\n  </thead>\n  <tbody>\n    <tr>\n      <th>0</th>\n      <td>9780262530873</td>\n      <td>N/A</td>\n      <td>UNIVERSITY PRESS</td>\n      <td>N/A</td>\n      <td>BILLSON</td>\n      <td>GBP</td>\n      <td>4.99</td>\n      <td>0.38</td>\n      <td>3.47</td>\n      <td>1000</td>\n      <td>UK</td>\n      <td>0.0</td>\n      <td>0.0</td>\n      <td>1.231680</td>\n    </tr>\n    <tr>\n      <th>1</th>\n      <td>9780262530989</td>\n      <td>N/A</td>\n      <td>UNIVERSITY PRESS</td>\n      <td>N/A</td>\n      <td>BILLSON</td>\n      <td>GBP</td>\n      <td>25.00</td>\n      <td>0.38</td>\n      <td>3.47</td>\n      <td>1000</td>\n      <td>UK</td>\n      <td>0.0</td>\n      <td>0.0</td>\n      <td>1.231680</td>\n    </tr>\n    <tr>\n      <th>2</th>\n      <td>9781681883052</td>\n      <td>N/A</td>\n      <td>HARPER COLLINS</td>\n      <td>N/A</td>\n      <td>ZOOKAL</td>\n      <td>AUD</td>\n      <td>24.50</td>\n      <td>0.00</td>\n      <td>3.47</td>\n      <td>150</td>\n      <td>AUS</td>\n      <td>0.0</td>\n      <td>0.0</td>\n      <td>0.662076</td>\n    </tr>\n    <tr>\n      <th>3</th>\n      <td>9780262531092</td>\n      <td>N/A</td>\n      <td>UNIVERSITY PRESS</td>\n      <td>N/A</td>\n      <td>BILLSON</td>\n      <td>GBP</td>\n      <td>37.95</td>\n      <td>0.38</td>\n      <td>3.47</td>\n      <td>1000</td>\n      <td>UK</td>\n      <td>0.0</td>\n      <td>0.0</td>\n      <td>1.231680</td>\n    </tr>\n    <tr>\n      <th>4</th>\n      <td>9781681883212</td>\n      <td>N/A</td>\n      <td>HARPER COLLINS</td>\n      <td>N/A</td>\n      <td>ZOOKAL</td>\n      <td>AUD</td>\n      <td>21.00</td>\n      <td>0.00</td>\n      <td>3.47</td>\n      <td>150</td>\n      <td>AUS</td>\n      <td>0.0</td>\n      <td>0.0</td>\n      <td>0.662076</td>\n    </tr>\n  </tbody>\n</table>\n</div>"
     },
     "metadata": {},
     "execution_count": 29
    }
   ],
   "source": [
    "exch_df = pd.read_sql(exchange_rate,proc_db)\n",
    "exch_df.rename(columns={'name': 'currency'}, inplace = True)\n",
    "all_sup_exc = pd.merge(all_sup, exch_df, how='left', on = 'currency')\n",
    "all_sup_exc.head()"
   ]
  },
  {
   "cell_type": "markdown",
   "metadata": {},
   "source": [
    "## 8. Cost Before exchange rate and landed cost"
   ]
  },
  {
   "cell_type": "code",
   "execution_count": 30,
   "metadata": {},
   "outputs": [
    {
     "output_type": "execute_result",
     "data": {
      "text/plain": "            isbn title               pub author supplier currency  price  \\\n0  9780262530873   N/A  UNIVERSITY PRESS    N/A  BILLSON      GBP   4.99   \n1  9780262530989   N/A  UNIVERSITY PRESS    N/A  BILLSON      GBP  25.00   \n2  9781681883052   N/A    HARPER COLLINS    N/A   ZOOKAL      AUD  24.50   \n3  9780262531092   N/A  UNIVERSITY PRESS    N/A  BILLSON      GBP  37.95   \n4  9781681883212   N/A    HARPER COLLINS    N/A   ZOOKAL      AUD  21.00   \n\n   discount  shipping_cost  max_qty origin  invoice_fee  lp_fee      rate  \\\n0      0.38           3.47     1000     UK          0.0     0.0  1.231680   \n1      0.38           3.47     1000     UK          0.0     0.0  1.231680   \n2      0.00           3.47      150    AUS          0.0     0.0  0.662076   \n3      0.38           3.47     1000     UK          0.0     0.0  1.231680   \n4      0.00           3.47      150    AUS          0.0     0.0  0.662076   \n\n   inv_price_before_exc  landed_cost  \n0                3.0938     7.280572  \n1               15.5000    22.561044  \n2               24.5000    19.690858  \n3               23.5290    32.450205  \n4               21.0000    17.373592  ",
      "text/html": "<div>\n<style scoped>\n    .dataframe tbody tr th:only-of-type {\n        vertical-align: middle;\n    }\n\n    .dataframe tbody tr th {\n        vertical-align: top;\n    }\n\n    .dataframe thead th {\n        text-align: right;\n    }\n</style>\n<table border=\"1\" class=\"dataframe\">\n  <thead>\n    <tr style=\"text-align: right;\">\n      <th></th>\n      <th>isbn</th>\n      <th>title</th>\n      <th>pub</th>\n      <th>author</th>\n      <th>supplier</th>\n      <th>currency</th>\n      <th>price</th>\n      <th>discount</th>\n      <th>shipping_cost</th>\n      <th>max_qty</th>\n      <th>origin</th>\n      <th>invoice_fee</th>\n      <th>lp_fee</th>\n      <th>rate</th>\n      <th>inv_price_before_exc</th>\n      <th>landed_cost</th>\n    </tr>\n  </thead>\n  <tbody>\n    <tr>\n      <th>0</th>\n      <td>9780262530873</td>\n      <td>N/A</td>\n      <td>UNIVERSITY PRESS</td>\n      <td>N/A</td>\n      <td>BILLSON</td>\n      <td>GBP</td>\n      <td>4.99</td>\n      <td>0.38</td>\n      <td>3.47</td>\n      <td>1000</td>\n      <td>UK</td>\n      <td>0.0</td>\n      <td>0.0</td>\n      <td>1.231680</td>\n      <td>3.0938</td>\n      <td>7.280572</td>\n    </tr>\n    <tr>\n      <th>1</th>\n      <td>9780262530989</td>\n      <td>N/A</td>\n      <td>UNIVERSITY PRESS</td>\n      <td>N/A</td>\n      <td>BILLSON</td>\n      <td>GBP</td>\n      <td>25.00</td>\n      <td>0.38</td>\n      <td>3.47</td>\n      <td>1000</td>\n      <td>UK</td>\n      <td>0.0</td>\n      <td>0.0</td>\n      <td>1.231680</td>\n      <td>15.5000</td>\n      <td>22.561044</td>\n    </tr>\n    <tr>\n      <th>2</th>\n      <td>9781681883052</td>\n      <td>N/A</td>\n      <td>HARPER COLLINS</td>\n      <td>N/A</td>\n      <td>ZOOKAL</td>\n      <td>AUD</td>\n      <td>24.50</td>\n      <td>0.00</td>\n      <td>3.47</td>\n      <td>150</td>\n      <td>AUS</td>\n      <td>0.0</td>\n      <td>0.0</td>\n      <td>0.662076</td>\n      <td>24.5000</td>\n      <td>19.690858</td>\n    </tr>\n    <tr>\n      <th>3</th>\n      <td>9780262531092</td>\n      <td>N/A</td>\n      <td>UNIVERSITY PRESS</td>\n      <td>N/A</td>\n      <td>BILLSON</td>\n      <td>GBP</td>\n      <td>37.95</td>\n      <td>0.38</td>\n      <td>3.47</td>\n      <td>1000</td>\n      <td>UK</td>\n      <td>0.0</td>\n      <td>0.0</td>\n      <td>1.231680</td>\n      <td>23.5290</td>\n      <td>32.450205</td>\n    </tr>\n    <tr>\n      <th>4</th>\n      <td>9781681883212</td>\n      <td>N/A</td>\n      <td>HARPER COLLINS</td>\n      <td>N/A</td>\n      <td>ZOOKAL</td>\n      <td>AUD</td>\n      <td>21.00</td>\n      <td>0.00</td>\n      <td>3.47</td>\n      <td>150</td>\n      <td>AUS</td>\n      <td>0.0</td>\n      <td>0.0</td>\n      <td>0.662076</td>\n      <td>21.0000</td>\n      <td>17.373592</td>\n    </tr>\n  </tbody>\n</table>\n</div>"
     },
     "metadata": {},
     "execution_count": 30
    }
   ],
   "source": [
    "all_sup_exc['inv_price_before_exc'] = all_sup_exc['price']*(1-all_sup_exc['discount']+all_sup_exc['lp_fee']*(1+all_sup_exc['invoice_fee']))\n",
    "all_sup_exc['landed_cost'] = all_sup_exc['inv_price_before_exc'] * all_sup_exc['rate'] + all_sup_exc['shipping_cost']\n",
    "all_sup_exc.head()"
   ]
  },
  {
   "cell_type": "markdown",
   "metadata": {},
   "source": [
    "## 9. Restrictions"
   ]
  },
  {
   "cell_type": "code",
   "execution_count": 31,
   "metadata": {},
   "outputs": [
    {
     "output_type": "execute_result",
     "data": {
      "text/plain": "            isbn vendor\n0  9780323567428  RISKY\n1  9780500292105  RISKY\n2  9781936523443  RISKY\n3  9780134149530  RISKY\n4  9780134205588  RISKY",
      "text/html": "<div>\n<style scoped>\n    .dataframe tbody tr th:only-of-type {\n        vertical-align: middle;\n    }\n\n    .dataframe tbody tr th {\n        vertical-align: top;\n    }\n\n    .dataframe thead th {\n        text-align: right;\n    }\n</style>\n<table border=\"1\" class=\"dataframe\">\n  <thead>\n    <tr style=\"text-align: right;\">\n      <th></th>\n      <th>isbn</th>\n      <th>vendor</th>\n    </tr>\n  </thead>\n  <tbody>\n    <tr>\n      <th>0</th>\n      <td>9780323567428</td>\n      <td>RISKY</td>\n    </tr>\n    <tr>\n      <th>1</th>\n      <td>9780500292105</td>\n      <td>RISKY</td>\n    </tr>\n    <tr>\n      <th>2</th>\n      <td>9781936523443</td>\n      <td>RISKY</td>\n    </tr>\n    <tr>\n      <th>3</th>\n      <td>9780134149530</td>\n      <td>RISKY</td>\n    </tr>\n    <tr>\n      <th>4</th>\n      <td>9780134205588</td>\n      <td>RISKY</td>\n    </tr>\n  </tbody>\n</table>\n</div>"
     },
     "metadata": {},
     "execution_count": 31
    }
   ],
   "source": [
    "rest = pd.read_excel(\"../../../../Vendors/. Restrictions\\All Restricted List.xlsx\")\n",
    "rest.columns = map(str.lower, rest.columns)\n",
    "rest.rename(columns={'isbn13': 'isbn'}, inplace = True)\n",
    "rest['isbn'] = rest['isbn'].astype(str)\n",
    "for col in ['isbn', 'vendor']:\n",
    "    rest[col] = rest.apply(lambda x: clean_up(x[col]), axis =1)\n",
    "\n",
    "rest = rest[['isbn','vendor']]\n",
    "rest.head()"
   ]
  },
  {
   "cell_type": "code",
   "execution_count": 32,
   "metadata": {},
   "outputs": [],
   "source": [
    "# restricted to all suppliers\n",
    "risky = rest[rest['vendor'] == 'RISKY']\n",
    "all_sup_exc = all_sup_exc[~all_sup_exc['isbn'].isin(list(risky['isbn']))]"
   ]
  },
  {
   "cell_type": "code",
   "execution_count": 33,
   "metadata": {},
   "outputs": [
    {
     "output_type": "execute_result",
     "data": {
      "text/plain": "                isbn                                              title  \\\n3707   9781133308911                                             ETHICS   \n25079  9781260187014  PACKAGE: ELEMENTARY STATISTICS: A STEP BY STEP...   \n42242  9781284107913                                                N/A   \n42313  9781284126143                                                N/A   \n43255  9780077831066  MOSAIC LEVEL 2 LISTENING/SPEAKING STUDENT BOOK...   \n\n           pub                            author supplier currency   price  \\\n3707   CENGAGE                 JULIE C. VAN CAMP     ALEK      GBP   40.99   \n25079   MCGRAW                   ALLAN G. BLUMAN    RAJAN      USD  276.65   \n42242      J&B                               N/A    RAJAN      USD   44.95   \n42313      J&B                               N/A    RAJAN      USD   79.95   \n43255   MCGRAW  JAMI HANREDDY; ELIZABETH WHALLEY     ALEK      GBP   42.65   \n\n       discount  shipping_cost  max_qty origin  invoice_fee  lp_fee     rate  \\\n3707       0.43           3.47      200     UK        0.005     0.0  1.23168   \n25079      0.48           0.50    10000     US        0.000     0.0  1.00000   \n42242      0.38           0.50    10000     US        0.000     0.0  1.00000   \n42313      0.38           0.50    10000     US        0.000     0.0  1.00000   \n43255      0.50           3.47    10000     UK        0.005     0.0  1.23168   \n\n       inv_price_before_exc  landed_cost vendor  \n3707                23.3643    32.247347   ALEK  \n25079              143.8580   144.358000  RAJAN  \n42242               27.8690    28.369000  RAJAN  \n42313               49.5690    50.069000  RAJAN  \n43255               21.3250    29.735582   ALEK  ",
      "text/html": "<div>\n<style scoped>\n    .dataframe tbody tr th:only-of-type {\n        vertical-align: middle;\n    }\n\n    .dataframe tbody tr th {\n        vertical-align: top;\n    }\n\n    .dataframe thead th {\n        text-align: right;\n    }\n</style>\n<table border=\"1\" class=\"dataframe\">\n  <thead>\n    <tr style=\"text-align: right;\">\n      <th></th>\n      <th>isbn</th>\n      <th>title</th>\n      <th>pub</th>\n      <th>author</th>\n      <th>supplier</th>\n      <th>currency</th>\n      <th>price</th>\n      <th>discount</th>\n      <th>shipping_cost</th>\n      <th>max_qty</th>\n      <th>origin</th>\n      <th>invoice_fee</th>\n      <th>lp_fee</th>\n      <th>rate</th>\n      <th>inv_price_before_exc</th>\n      <th>landed_cost</th>\n      <th>vendor</th>\n    </tr>\n  </thead>\n  <tbody>\n    <tr>\n      <th>3707</th>\n      <td>9781133308911</td>\n      <td>ETHICS</td>\n      <td>CENGAGE</td>\n      <td>JULIE C. VAN CAMP</td>\n      <td>ALEK</td>\n      <td>GBP</td>\n      <td>40.99</td>\n      <td>0.43</td>\n      <td>3.47</td>\n      <td>200</td>\n      <td>UK</td>\n      <td>0.005</td>\n      <td>0.0</td>\n      <td>1.23168</td>\n      <td>23.3643</td>\n      <td>32.247347</td>\n      <td>ALEK</td>\n    </tr>\n    <tr>\n      <th>25079</th>\n      <td>9781260187014</td>\n      <td>PACKAGE: ELEMENTARY STATISTICS: A STEP BY STEP...</td>\n      <td>MCGRAW</td>\n      <td>ALLAN G. BLUMAN</td>\n      <td>RAJAN</td>\n      <td>USD</td>\n      <td>276.65</td>\n      <td>0.48</td>\n      <td>0.50</td>\n      <td>10000</td>\n      <td>US</td>\n      <td>0.000</td>\n      <td>0.0</td>\n      <td>1.00000</td>\n      <td>143.8580</td>\n      <td>144.358000</td>\n      <td>RAJAN</td>\n    </tr>\n    <tr>\n      <th>42242</th>\n      <td>9781284107913</td>\n      <td>N/A</td>\n      <td>J&amp;B</td>\n      <td>N/A</td>\n      <td>RAJAN</td>\n      <td>USD</td>\n      <td>44.95</td>\n      <td>0.38</td>\n      <td>0.50</td>\n      <td>10000</td>\n      <td>US</td>\n      <td>0.000</td>\n      <td>0.0</td>\n      <td>1.00000</td>\n      <td>27.8690</td>\n      <td>28.369000</td>\n      <td>RAJAN</td>\n    </tr>\n    <tr>\n      <th>42313</th>\n      <td>9781284126143</td>\n      <td>N/A</td>\n      <td>J&amp;B</td>\n      <td>N/A</td>\n      <td>RAJAN</td>\n      <td>USD</td>\n      <td>79.95</td>\n      <td>0.38</td>\n      <td>0.50</td>\n      <td>10000</td>\n      <td>US</td>\n      <td>0.000</td>\n      <td>0.0</td>\n      <td>1.00000</td>\n      <td>49.5690</td>\n      <td>50.069000</td>\n      <td>RAJAN</td>\n    </tr>\n    <tr>\n      <th>43255</th>\n      <td>9780077831066</td>\n      <td>MOSAIC LEVEL 2 LISTENING/SPEAKING STUDENT BOOK...</td>\n      <td>MCGRAW</td>\n      <td>JAMI HANREDDY; ELIZABETH WHALLEY</td>\n      <td>ALEK</td>\n      <td>GBP</td>\n      <td>42.65</td>\n      <td>0.50</td>\n      <td>3.47</td>\n      <td>10000</td>\n      <td>UK</td>\n      <td>0.005</td>\n      <td>0.0</td>\n      <td>1.23168</td>\n      <td>21.3250</td>\n      <td>29.735582</td>\n      <td>ALEK</td>\n    </tr>\n  </tbody>\n</table>\n</div>"
     },
     "metadata": {},
     "execution_count": 33
    }
   ],
   "source": [
    "# restriction per supplier\n",
    "all_rest = pd.merge(all_sup_exc, rest, how='left', left_on = ['isbn','supplier'], right_on = ['isbn', 'vendor'] )\n",
    "all_rest[~(all_rest['vendor'].isna())].head()"
   ]
  },
  {
   "cell_type": "markdown",
   "metadata": {},
   "source": [
    "## 10. Getting all posible orders for cost_analysis"
   ]
  },
  {
   "cell_type": "code",
   "execution_count": 34,
   "metadata": {},
   "outputs": [
    {
     "output_type": "execute_result",
     "data": {
      "text/plain": "                  isbn title        pub author supplier currency  price  \\\n3135312  9780325011523   N/A  HEINEMANN    N/A     ALEK      USD    0.0   \n3120656  9780325118703   N/A  HEINEMANN    N/A     ALEK      USD    0.0   \n3120654  9780325118611   N/A  HEINEMANN    N/A     ALEK      USD    0.0   \n3120652  9780325118574   N/A  HEINEMANN    N/A     ALEK      USD    0.0   \n3120650  9780325118567   N/A  HEINEMANN    N/A     ALEK      USD    0.0   \n\n         discount  shipping_cost  max_qty origin  invoice_fee  lp_fee  rate  \\\n3135312      0.52            0.5     1000     US        0.005     0.0   1.0   \n3120656      0.52            0.5     1000     US        0.005     0.0   1.0   \n3120654      0.52            0.5     1000     US        0.005     0.0   1.0   \n3120652      0.52            0.5     1000     US        0.005     0.0   1.0   \n3120650      0.52            0.5     1000     US        0.005     0.0   1.0   \n\n         inv_price_before_exc  landed_cost  \n3135312                   0.0          0.5  \n3120656                   0.0          0.5  \n3120654                   0.0          0.5  \n3120652                   0.0          0.5  \n3120650                   0.0          0.5  ",
      "text/html": "<div>\n<style scoped>\n    .dataframe tbody tr th:only-of-type {\n        vertical-align: middle;\n    }\n\n    .dataframe tbody tr th {\n        vertical-align: top;\n    }\n\n    .dataframe thead th {\n        text-align: right;\n    }\n</style>\n<table border=\"1\" class=\"dataframe\">\n  <thead>\n    <tr style=\"text-align: right;\">\n      <th></th>\n      <th>isbn</th>\n      <th>title</th>\n      <th>pub</th>\n      <th>author</th>\n      <th>supplier</th>\n      <th>currency</th>\n      <th>price</th>\n      <th>discount</th>\n      <th>shipping_cost</th>\n      <th>max_qty</th>\n      <th>origin</th>\n      <th>invoice_fee</th>\n      <th>lp_fee</th>\n      <th>rate</th>\n      <th>inv_price_before_exc</th>\n      <th>landed_cost</th>\n    </tr>\n  </thead>\n  <tbody>\n    <tr>\n      <th>3135312</th>\n      <td>9780325011523</td>\n      <td>N/A</td>\n      <td>HEINEMANN</td>\n      <td>N/A</td>\n      <td>ALEK</td>\n      <td>USD</td>\n      <td>0.0</td>\n      <td>0.52</td>\n      <td>0.5</td>\n      <td>1000</td>\n      <td>US</td>\n      <td>0.005</td>\n      <td>0.0</td>\n      <td>1.0</td>\n      <td>0.0</td>\n      <td>0.5</td>\n    </tr>\n    <tr>\n      <th>3120656</th>\n      <td>9780325118703</td>\n      <td>N/A</td>\n      <td>HEINEMANN</td>\n      <td>N/A</td>\n      <td>ALEK</td>\n      <td>USD</td>\n      <td>0.0</td>\n      <td>0.52</td>\n      <td>0.5</td>\n      <td>1000</td>\n      <td>US</td>\n      <td>0.005</td>\n      <td>0.0</td>\n      <td>1.0</td>\n      <td>0.0</td>\n      <td>0.5</td>\n    </tr>\n    <tr>\n      <th>3120654</th>\n      <td>9780325118611</td>\n      <td>N/A</td>\n      <td>HEINEMANN</td>\n      <td>N/A</td>\n      <td>ALEK</td>\n      <td>USD</td>\n      <td>0.0</td>\n      <td>0.52</td>\n      <td>0.5</td>\n      <td>1000</td>\n      <td>US</td>\n      <td>0.005</td>\n      <td>0.0</td>\n      <td>1.0</td>\n      <td>0.0</td>\n      <td>0.5</td>\n    </tr>\n    <tr>\n      <th>3120652</th>\n      <td>9780325118574</td>\n      <td>N/A</td>\n      <td>HEINEMANN</td>\n      <td>N/A</td>\n      <td>ALEK</td>\n      <td>USD</td>\n      <td>0.0</td>\n      <td>0.52</td>\n      <td>0.5</td>\n      <td>1000</td>\n      <td>US</td>\n      <td>0.005</td>\n      <td>0.0</td>\n      <td>1.0</td>\n      <td>0.0</td>\n      <td>0.5</td>\n    </tr>\n    <tr>\n      <th>3120650</th>\n      <td>9780325118567</td>\n      <td>N/A</td>\n      <td>HEINEMANN</td>\n      <td>N/A</td>\n      <td>ALEK</td>\n      <td>USD</td>\n      <td>0.0</td>\n      <td>0.52</td>\n      <td>0.5</td>\n      <td>1000</td>\n      <td>US</td>\n      <td>0.005</td>\n      <td>0.0</td>\n      <td>1.0</td>\n      <td>0.0</td>\n      <td>0.5</td>\n    </tr>\n  </tbody>\n</table>\n</div>"
     },
     "metadata": {},
     "execution_count": 34
    }
   ],
   "source": [
    "all_rest.drop(\n",
    "    all_rest[\n",
    "        (all_rest['supplier'] == all_rest['vendor'])\n",
    "        ].index, inplace = True\n",
    ")\n",
    "all_rest.drop(columns=['vendor'], inplace = True)\n",
    "all_rest = all_rest.sort_values(by=['landed_cost'])\n",
    "all_rest.head()"
   ]
  },
  {
   "cell_type": "markdown",
   "metadata": {},
   "source": [
    "## Extra: Getting suppliers from UK, CAN, US"
   ]
  },
  {
   "cell_type": "code",
   "execution_count": 40,
   "metadata": {},
   "outputs": [
    {
     "output_type": "execute_result",
     "data": {
      "text/plain": "                  isbn title        pub author supplier currency  price  \\\n3135312  9780325011523   N/A  HEINEMANN    N/A     ALEK      USD    0.0   \n3120656  9780325118703   N/A  HEINEMANN    N/A     ALEK      USD    0.0   \n3120654  9780325118611   N/A  HEINEMANN    N/A     ALEK      USD    0.0   \n3120652  9780325118574   N/A  HEINEMANN    N/A     ALEK      USD    0.0   \n3120650  9780325118567   N/A  HEINEMANN    N/A     ALEK      USD    0.0   \n\n         discount  shipping_cost  max_qty origin  invoice_fee  lp_fee  rate  \\\n3135312      0.52            0.5     1000     US        0.005     0.0   1.0   \n3120656      0.52            0.5     1000     US        0.005     0.0   1.0   \n3120654      0.52            0.5     1000     US        0.005     0.0   1.0   \n3120652      0.52            0.5     1000     US        0.005     0.0   1.0   \n3120650      0.52            0.5     1000     US        0.005     0.0   1.0   \n\n         inv_price_before_exc  landed_cost  \n3135312                   0.0          0.5  \n3120656                   0.0          0.5  \n3120654                   0.0          0.5  \n3120652                   0.0          0.5  \n3120650                   0.0          0.5  ",
      "text/html": "<div>\n<style scoped>\n    .dataframe tbody tr th:only-of-type {\n        vertical-align: middle;\n    }\n\n    .dataframe tbody tr th {\n        vertical-align: top;\n    }\n\n    .dataframe thead th {\n        text-align: right;\n    }\n</style>\n<table border=\"1\" class=\"dataframe\">\n  <thead>\n    <tr style=\"text-align: right;\">\n      <th></th>\n      <th>isbn</th>\n      <th>title</th>\n      <th>pub</th>\n      <th>author</th>\n      <th>supplier</th>\n      <th>currency</th>\n      <th>price</th>\n      <th>discount</th>\n      <th>shipping_cost</th>\n      <th>max_qty</th>\n      <th>origin</th>\n      <th>invoice_fee</th>\n      <th>lp_fee</th>\n      <th>rate</th>\n      <th>inv_price_before_exc</th>\n      <th>landed_cost</th>\n    </tr>\n  </thead>\n  <tbody>\n    <tr>\n      <th>3135312</th>\n      <td>9780325011523</td>\n      <td>N/A</td>\n      <td>HEINEMANN</td>\n      <td>N/A</td>\n      <td>ALEK</td>\n      <td>USD</td>\n      <td>0.0</td>\n      <td>0.52</td>\n      <td>0.5</td>\n      <td>1000</td>\n      <td>US</td>\n      <td>0.005</td>\n      <td>0.0</td>\n      <td>1.0</td>\n      <td>0.0</td>\n      <td>0.5</td>\n    </tr>\n    <tr>\n      <th>3120656</th>\n      <td>9780325118703</td>\n      <td>N/A</td>\n      <td>HEINEMANN</td>\n      <td>N/A</td>\n      <td>ALEK</td>\n      <td>USD</td>\n      <td>0.0</td>\n      <td>0.52</td>\n      <td>0.5</td>\n      <td>1000</td>\n      <td>US</td>\n      <td>0.005</td>\n      <td>0.0</td>\n      <td>1.0</td>\n      <td>0.0</td>\n      <td>0.5</td>\n    </tr>\n    <tr>\n      <th>3120654</th>\n      <td>9780325118611</td>\n      <td>N/A</td>\n      <td>HEINEMANN</td>\n      <td>N/A</td>\n      <td>ALEK</td>\n      <td>USD</td>\n      <td>0.0</td>\n      <td>0.52</td>\n      <td>0.5</td>\n      <td>1000</td>\n      <td>US</td>\n      <td>0.005</td>\n      <td>0.0</td>\n      <td>1.0</td>\n      <td>0.0</td>\n      <td>0.5</td>\n    </tr>\n    <tr>\n      <th>3120652</th>\n      <td>9780325118574</td>\n      <td>N/A</td>\n      <td>HEINEMANN</td>\n      <td>N/A</td>\n      <td>ALEK</td>\n      <td>USD</td>\n      <td>0.0</td>\n      <td>0.52</td>\n      <td>0.5</td>\n      <td>1000</td>\n      <td>US</td>\n      <td>0.005</td>\n      <td>0.0</td>\n      <td>1.0</td>\n      <td>0.0</td>\n      <td>0.5</td>\n    </tr>\n    <tr>\n      <th>3120650</th>\n      <td>9780325118567</td>\n      <td>N/A</td>\n      <td>HEINEMANN</td>\n      <td>N/A</td>\n      <td>ALEK</td>\n      <td>USD</td>\n      <td>0.0</td>\n      <td>0.52</td>\n      <td>0.5</td>\n      <td>1000</td>\n      <td>US</td>\n      <td>0.005</td>\n      <td>0.0</td>\n      <td>1.0</td>\n      <td>0.0</td>\n      <td>0.5</td>\n    </tr>\n  </tbody>\n</table>\n</div>"
     },
     "metadata": {},
     "execution_count": 40
    }
   ],
   "source": [
    "UK_US_CAN = all_rest[\n",
    "    (all_rest['origin'] == 'UK')\n",
    "    | (all_rest['origin'] == 'US')\n",
    "    | (all_rest['origin'] == 'CAN')\n",
    "    ]\n",
    "\n",
    "UK_US_CAN.head()"
   ]
  },
  {
   "cell_type": "code",
   "execution_count": 44,
   "metadata": {},
   "outputs": [],
   "source": [
    "isbn_list = (\n",
    "'9781305263727',\n",
    "'9780323287531',\n",
    "'9781305943278',\n",
    "'9780323567022',\n",
    "'9780323511407',\n",
    "'9781469899817',\n",
    "'9781684201372',\n",
    "'9781260143393',\n",
    "'9780323244855',\n",
    "'9781259859618',\n",
    "'9781259862908',\n",
    "'9780323319751',\n",
    "'9781118791356',\n",
    "'9781337102278',\n",
    "'9780071842617',\n",
    "'9781462513925',\n",
    "'9780357108291',\n",
    "'9781337091992',\n",
    "'9781284156959',\n",
    "'9780323354820',\n",
    "'9781259584732',\n",
    "'9781285854182',\n",
    "'9781284155204',\n",
    "'9781543801637',\n",
    "'9780323311274',\n",
    "'9781259686207',\n",
    "'9780323378390',\n",
    "'9781284021028',\n",
    "'9781337407816',\n",
    "'9781464183959',\n",
    "'9781464126130',\n",
    "'9780323510806',\n",
    "'9781305585126',\n",
    "'9780073383095',\n",
    "'9780199946563',\n",
    "'9781451191554',\n",
    "'9780133514995',\n",
    "'9780323277884',\n",
    "'9781337405713',\n",
    "'9781337406420',\n",
    "'9780323067768',\n",
    "'9781259539060',\n",
    "'9781543804300',\n",
    "'9781118554135'\n",
    ")"
   ]
  },
  {
   "cell_type": "code",
   "execution_count": 45,
   "metadata": {},
   "outputs": [],
   "source": [
    "list_order = UK_US_CAN[UK_US_CAN['isbn'].isin(isbn_list)]"
   ]
  },
  {
   "cell_type": "code",
   "execution_count": 46,
   "metadata": {},
   "outputs": [],
   "source": [
    "list_order.to_csv('retail/list_order.csv', index= False)"
   ]
  },
  {
   "cell_type": "code",
   "execution_count": null,
   "metadata": {},
   "outputs": [],
   "source": []
  }
 ],
 "metadata": {
  "language_info": {
   "name": "python",
   "codemirror_mode": {
    "name": "ipython",
    "version": 3
   },
   "version": "3.7.6-final"
  },
  "orig_nbformat": 2,
  "file_extension": ".py",
  "mimetype": "text/x-python",
  "name": "python",
  "npconvert_exporter": "python",
  "pygments_lexer": "ipython3",
  "version": 3,
  "kernelspec": {
   "name": "python3",
   "display_name": "Python 3"
  }
 },
 "nbformat": 4,
 "nbformat_minor": 2
}