{
 "nbformat": 4,
 "nbformat_minor": 2,
 "metadata": {
  "language_info": {
   "name": "python",
   "codemirror_mode": {
    "name": "ipython",
    "version": 3
   },
   "version": "3.7.6-final"
  },
  "orig_nbformat": 2,
  "file_extension": ".py",
  "mimetype": "text/x-python",
  "name": "python",
  "npconvert_exporter": "python",
  "pygments_lexer": "ipython3",
  "version": 3,
  "kernelspec": {
   "name": "python3",
   "display_name": "Python 3"
  }
 },
 "cells": [
  {
   "cell_type": "markdown",
   "metadata": {},
   "source": [
    "# Cost Analysis V2\n",
    "The information needed is:\n",
    "    1. Import Libraries.\n",
    "    2. Connect to databases (PROCUREMENTDB, BookXCenterProduction)\n",
    "    3. Define clean_up tool (add dtypes to strings)\n",
    "    4. Import dbo.PublisherDictionary\n",
    "        clean_up\n",
    "    5. Import Isbn.Bibliography [Isbn, Titles, Publisher, Edition, Author, PublicationDate]\n",
    "        clean_up\n",
    "    6. Import ISBN.prices\n",
    "        clean_up\n",
    "    7. Import Process.SupplierMegaList\n",
    "        [ISBN, Supplier, currency, Discount, retail price, net price, shipping cost, sea freight cost, max quantity, min]\n",
    "        [ISBN, Publisher]\n",
    "        clean_up\n",
    "    8. Import Excel Supplier.\n",
    "        clean_up\n",
    "    9. Import Exce; Supplier Short Discount\n",
    "        clean_up\n",
    "    10. Import Excel Restrictions\n",
    "        clean_up\n",
    "    11. Left Merge Isbn.Bibliography with dbo.PublisherDictionary - isbn_bibliography_2\n",
    "    12. Left Merge Process.SupplierMegaList [ISBN, Publisher] with dbo.PublisherDictionary - Process.SupplierMegaList_pub\n",
    "    13. Outer Merge isbn_bibliography_2 & Process.SupplierMegaList_pub - isbn_bibliography_3 - [Isbn, Titles, Publisher, Edition, Author, PublicationDate]\n",
    "    14. Left Merge isbn_bibliography_3 with ISBN.prices.USD - isbn_bibliography_4  [Isbn, Titles, Publisher, Edition, Author, PublicationDate, USD Retail]\n",
    "    15. Left Merge Process.SupplierMegaList[ISBN, Supplier, currency, Discount, retail price, net price, shipping cost, sea freight cost, max quantity, min] with  isbn_bibliography_4\n",
    "    16. Left Merge isbn_bibliography_4 with ISBN.prices - isbn_bibliography_5\n",
    "    15. Left Merge isbn_bibliography_5 with Excel.Supplier - excelsupplier_2\n",
    "    16. Add WC to CAD to excelsupplier_2 - excelsupplier_3\n",
    "    17. Left Merge excelsupplier_3 with Short Discount - excelsupplier_4\n",
    "    18. Left Merge excelsupplier_4 with restrictions - excelesupplier_5\n",
    "\n"
   ]
  },
  {
   "cell_type": "markdown",
   "metadata": {},
   "source": [
    "## 1. Import Libraries\n"
   ]
  },
  {
   "cell_type": "code",
   "execution_count": 1,
   "metadata": {},
   "outputs": [],
   "source": [
    "import pandas as pd\n",
    "import pyodbc\n",
    "import numpy as np\n",
    "import sqlCredentials as sql"
   ]
  },
  {
   "cell_type": "code",
   "execution_count": null,
   "metadata": {},
   "outputs": [],
   "source": []
  }
 ]
}