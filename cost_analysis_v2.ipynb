{
 "cells": [
  {
   "cell_type": "markdown",
   "metadata": {},
   "source": [
    "# Cost Analysis"
   ]
  },
  {
   "cell_type": "markdown",
   "metadata": {},
   "source": [
    "## 1. Import Library"
   ]
  },
  {
   "cell_type": "code",
   "execution_count": 1,
   "metadata": {},
   "outputs": [],
   "source": [
    "import pandas as pd\n",
    "import numpy as np\n",
    "import pyodbc # SQL Connection\n",
    "import sqlCredentials as sql"
   ]
  },
  {
   "cell_type": "markdown",
   "metadata": {},
   "source": [
    "## 2. Connect to Databases"
   ]
  },
  {
   "cell_type": "code",
   "execution_count": 2,
   "metadata": {},
   "outputs": [],
   "source": [
    "#PROCUREMENTDB\n",
    "\n",
    "proc_db = pyodbc.connect(\n",
    "    'DRIVER={ODBC Driver 17 for SQL Server};'\n",
    "    'Server=52.86.56.66;'\n",
    "    'Database=PROCUREMENTDB;'\n",
    "    'UID='+sql.username+';'\n",
    "    'PWD='+sql.password+';'\n",
    "    'Trusted_connection=no;'\n",
    ")\n",
    "\n",
    "#BookXCenterProduction\n",
    "prod_db = pyodbc.connect(\n",
    "    'DRIVER={ODBC Driver 17 for SQL Server};'\n",
    "    'Server=52.86.56.66;'\n",
    "    'Database=BookXCenterProduction;'\n",
    "    'UID='+sql.username+';'\n",
    "    'PWD='+sql.password+';'\n",
    "    'Trusted_connection=no;'\n",
    ")"
   ]
  },
  {
   "cell_type": "markdown",
   "metadata": {},
   "source": [
    "## 3. Define Clean up tool"
   ]
  },
  {
   "cell_type": "code",
   "execution_count": 3,
   "metadata": {},
   "outputs": [],
   "source": [
    "def clean_up(phrase):\n",
    "    phrase = phrase.lstrip()\n",
    "    phrase = phrase.rstrip()\n",
    "    phrase = phrase.upper()\n",
    "    return phrase"
   ]
  },
  {
   "cell_type": "markdown",
   "metadata": {},
   "source": [
    "## 4. Define Tables"
   ]
  },
  {
   "cell_type": "code",
   "execution_count": 4,
   "metadata": {},
   "outputs": [],
   "source": [
    "# Dictionary\n",
    "pub_dict = \"\"\"\n",
    "SELECT *\n",
    "FROM dbo.PublisherDictionary\n",
    "\"\"\"\n",
    "# LP All currencies\n",
    "all_lp = \"\"\"\n",
    "SELECT\n",
    "\t[Isbn]\n",
    "\t,[Currency]\n",
    "\t,[Price]\n",
    "FROM\n",
    "\t[Isbn].[ListPrice]\n",
    "\"\"\"\n",
    "# Bibliography\n",
    "bilblo_sql = \"\"\"\n",
    "SELECT Isbn\n",
    "    , Title\n",
    "    , Publisher\n",
    "    , Author\n",
    "FROM \n",
    "    Isbn.Bibliography\n",
    "\"\"\"\n",
    "# Echange Rate\n",
    "exchange_rate = \"\"\"\n",
    "SELECT \n",
    "    name,\n",
    "    rate\n",
    "FROM dbo.XChange\n",
    "\"\"\"\n",
    "#Supplier Mega List\n",
    "megalist_sql = \"\"\"\n",
    "SELECT \n",
    "    [ISBN]\n",
    "    ,[Supplier]\n",
    "    ,[Publisher]\n",
    "    ,[Currency]\n",
    "    ,[ListPrice]\n",
    "    ,[Discount]\n",
    "    ,[CostUnitPrice]\n",
    "    ,[MaxQtyPerOrder]\n",
    "    ,[ShipmentOrigin]\n",
    "    ,[UnitShippingCost]\n",
    "    ,[SeaFreightCost] AS sea_shipping_cost\n",
    "  FROM \n",
    "    [Process].[SupplierMegaList]\n",
    "\"\"\"\n",
    "\n",
    "#Import supplier Excel\n",
    "#Import short_discount\n",
    "#Import restrictions"
   ]
  },
  {
   "cell_type": "markdown",
   "metadata": {},
   "source": [
    "### 4.1 Import Dictionary and clean it"
   ]
  },
  {
   "cell_type": "code",
   "execution_count": 5,
   "metadata": {},
   "outputs": [
    {
     "output_type": "execute_result",
     "data": {
      "text/plain": "         PublisherLong   PublisherShort\n0  Glencoe McGraw Hill           MCGRAW\n1  Glencoe McGraw-Hill           MCGRAW\n2        McGraw Create           MCGRAW\n3           MCGRAW HE         MCGRAW HE\n4      MCGRAW HE - ISE  MCGRAW HE - ISE",
      "text/html": "<div>\n<style scoped>\n    .dataframe tbody tr th:only-of-type {\n        vertical-align: middle;\n    }\n\n    .dataframe tbody tr th {\n        vertical-align: top;\n    }\n\n    .dataframe thead th {\n        text-align: right;\n    }\n</style>\n<table border=\"1\" class=\"dataframe\">\n  <thead>\n    <tr style=\"text-align: right;\">\n      <th></th>\n      <th>PublisherLong</th>\n      <th>PublisherShort</th>\n    </tr>\n  </thead>\n  <tbody>\n    <tr>\n      <th>0</th>\n      <td>Glencoe McGraw Hill</td>\n      <td>MCGRAW</td>\n    </tr>\n    <tr>\n      <th>1</th>\n      <td>Glencoe McGraw-Hill</td>\n      <td>MCGRAW</td>\n    </tr>\n    <tr>\n      <th>2</th>\n      <td>McGraw Create</td>\n      <td>MCGRAW</td>\n    </tr>\n    <tr>\n      <th>3</th>\n      <td>MCGRAW HE</td>\n      <td>MCGRAW HE</td>\n    </tr>\n    <tr>\n      <th>4</th>\n      <td>MCGRAW HE - ISE</td>\n      <td>MCGRAW HE - ISE</td>\n    </tr>\n  </tbody>\n</table>\n</div>"
     },
     "metadata": {},
     "execution_count": 5
    }
   ],
   "source": [
    "pub_dict = pd.read_sql(pub_dict, proc_db)\n",
    "pub_dict.head()"
   ]
  },
  {
   "cell_type": "code",
   "execution_count": 6,
   "metadata": {},
   "outputs": [
    {
     "output_type": "execute_result",
     "data": {
      "text/plain": "         publisherlong   publishershort\n0  GLENCOE MCGRAW HILL           MCGRAW\n1  GLENCOE MCGRAW-HILL           MCGRAW\n2        MCGRAW CREATE           MCGRAW\n3            MCGRAW HE        MCGRAW HE\n4      MCGRAW HE - ISE  MCGRAW HE - ISE",
      "text/html": "<div>\n<style scoped>\n    .dataframe tbody tr th:only-of-type {\n        vertical-align: middle;\n    }\n\n    .dataframe tbody tr th {\n        vertical-align: top;\n    }\n\n    .dataframe thead th {\n        text-align: right;\n    }\n</style>\n<table border=\"1\" class=\"dataframe\">\n  <thead>\n    <tr style=\"text-align: right;\">\n      <th></th>\n      <th>publisherlong</th>\n      <th>publishershort</th>\n    </tr>\n  </thead>\n  <tbody>\n    <tr>\n      <th>0</th>\n      <td>GLENCOE MCGRAW HILL</td>\n      <td>MCGRAW</td>\n    </tr>\n    <tr>\n      <th>1</th>\n      <td>GLENCOE MCGRAW-HILL</td>\n      <td>MCGRAW</td>\n    </tr>\n    <tr>\n      <th>2</th>\n      <td>MCGRAW CREATE</td>\n      <td>MCGRAW</td>\n    </tr>\n    <tr>\n      <th>3</th>\n      <td>MCGRAW HE</td>\n      <td>MCGRAW HE</td>\n    </tr>\n    <tr>\n      <th>4</th>\n      <td>MCGRAW HE - ISE</td>\n      <td>MCGRAW HE - ISE</td>\n    </tr>\n  </tbody>\n</table>\n</div>"
     },
     "metadata": {},
     "execution_count": 6
    }
   ],
   "source": [
    "pub_dict.columns = map(str.lower, pub_dict.columns)\n",
    "pub_dict = pub_dict.fillna('N/A')\n",
    "for col in list(pub_dict.columns):\n",
    "    pub_dict[col] = pub_dict.apply(lambda x: clean_up(x[col]), axis =1)\n",
    "\n",
    "pub_dict.head()"
   ]
  },
  {
   "cell_type": "markdown",
   "metadata": {},
   "source": [
    "### 4.2 Import Bibliography and clean it"
   ]
  },
  {
   "cell_type": "code",
   "execution_count": 7,
   "metadata": {},
   "outputs": [
    {
     "output_type": "execute_result",
     "data": {
      "text/plain": "            Isbn                                              Title Publisher  \\\n0  9780000000057  Text, Music, Context:  A Resource  Item #: S05...       CPH   \n1  9780000001030                         Surgical Procedures (2016)      CIMC   \n2  9780000001061               Anatomy & Physiology Student Edition      CIMC   \n3  9780000001146                            Membean Student License    Archer   \n4  9780000002402                                               None       LWW   \n\n  Author  \n0   LCMS  \n1  MAVCC  \n2   CIMC  \n3   None  \n4   None  ",
      "text/html": "<div>\n<style scoped>\n    .dataframe tbody tr th:only-of-type {\n        vertical-align: middle;\n    }\n\n    .dataframe tbody tr th {\n        vertical-align: top;\n    }\n\n    .dataframe thead th {\n        text-align: right;\n    }\n</style>\n<table border=\"1\" class=\"dataframe\">\n  <thead>\n    <tr style=\"text-align: right;\">\n      <th></th>\n      <th>Isbn</th>\n      <th>Title</th>\n      <th>Publisher</th>\n      <th>Author</th>\n    </tr>\n  </thead>\n  <tbody>\n    <tr>\n      <th>0</th>\n      <td>9780000000057</td>\n      <td>Text, Music, Context:  A Resource  Item #: S05...</td>\n      <td>CPH</td>\n      <td>LCMS</td>\n    </tr>\n    <tr>\n      <th>1</th>\n      <td>9780000001030</td>\n      <td>Surgical Procedures (2016)</td>\n      <td>CIMC</td>\n      <td>MAVCC</td>\n    </tr>\n    <tr>\n      <th>2</th>\n      <td>9780000001061</td>\n      <td>Anatomy &amp; Physiology Student Edition</td>\n      <td>CIMC</td>\n      <td>CIMC</td>\n    </tr>\n    <tr>\n      <th>3</th>\n      <td>9780000001146</td>\n      <td>Membean Student License</td>\n      <td>Archer</td>\n      <td>None</td>\n    </tr>\n    <tr>\n      <th>4</th>\n      <td>9780000002402</td>\n      <td>None</td>\n      <td>LWW</td>\n      <td>None</td>\n    </tr>\n  </tbody>\n</table>\n</div>"
     },
     "metadata": {},
     "execution_count": 7
    }
   ],
   "source": [
    "# IMport and read biblio\n",
    "biblio = pd.read_sql(bilblo_sql, prod_db)\n",
    "biblio.head()"
   ]
  },
  {
   "cell_type": "code",
   "execution_count": 8,
   "metadata": {},
   "outputs": [
    {
     "output_type": "execute_result",
     "data": {
      "text/plain": "            isbn                                              title publisher  \\\n0  9780000000057  TEXT, MUSIC, CONTEXT:  A RESOURCE  ITEM #: S05...       CPH   \n1  9780000001030                         SURGICAL PROCEDURES (2016)      CIMC   \n2  9780000001061               ANATOMY & PHYSIOLOGY STUDENT EDITION      CIMC   \n3  9780000001146                            MEMBEAN STUDENT LICENSE    ARCHER   \n4  9780000002402                                                N/A       LWW   \n\n  author  \n0   LCMS  \n1  MAVCC  \n2   CIMC  \n3    N/A  \n4    N/A  ",
      "text/html": "<div>\n<style scoped>\n    .dataframe tbody tr th:only-of-type {\n        vertical-align: middle;\n    }\n\n    .dataframe tbody tr th {\n        vertical-align: top;\n    }\n\n    .dataframe thead th {\n        text-align: right;\n    }\n</style>\n<table border=\"1\" class=\"dataframe\">\n  <thead>\n    <tr style=\"text-align: right;\">\n      <th></th>\n      <th>isbn</th>\n      <th>title</th>\n      <th>publisher</th>\n      <th>author</th>\n    </tr>\n  </thead>\n  <tbody>\n    <tr>\n      <th>0</th>\n      <td>9780000000057</td>\n      <td>TEXT, MUSIC, CONTEXT:  A RESOURCE  ITEM #: S05...</td>\n      <td>CPH</td>\n      <td>LCMS</td>\n    </tr>\n    <tr>\n      <th>1</th>\n      <td>9780000001030</td>\n      <td>SURGICAL PROCEDURES (2016)</td>\n      <td>CIMC</td>\n      <td>MAVCC</td>\n    </tr>\n    <tr>\n      <th>2</th>\n      <td>9780000001061</td>\n      <td>ANATOMY &amp; PHYSIOLOGY STUDENT EDITION</td>\n      <td>CIMC</td>\n      <td>CIMC</td>\n    </tr>\n    <tr>\n      <th>3</th>\n      <td>9780000001146</td>\n      <td>MEMBEAN STUDENT LICENSE</td>\n      <td>ARCHER</td>\n      <td>N/A</td>\n    </tr>\n    <tr>\n      <th>4</th>\n      <td>9780000002402</td>\n      <td>N/A</td>\n      <td>LWW</td>\n      <td>N/A</td>\n    </tr>\n  </tbody>\n</table>\n</div>"
     },
     "metadata": {},
     "execution_count": 8
    }
   ],
   "source": [
    "biblio.columns = map(str.lower, biblio.columns)\n",
    "biblio = biblio.fillna('N/A')\n",
    "biblio['isbn'] = biblio['isbn'].astype(str)\n",
    "for col in list(biblio.columns):\n",
    "    biblio[col] = biblio.apply(lambda x: clean_up(x[col]), axis =1)\n",
    "biblio.head()"
   ]
  },
  {
   "cell_type": "markdown",
   "metadata": {},
   "source": [
    "Now we Merge bibliography with the dictionary"
   ]
  },
  {
   "cell_type": "code",
   "execution_count": 9,
   "metadata": {},
   "outputs": [
    {
     "output_type": "execute_result",
     "data": {
      "text/plain": "            isbn                                              title publisher  \\\n0  9780000000057  TEXT, MUSIC, CONTEXT:  A RESOURCE  ITEM #: S05...       CPH   \n1  9780000001030                         SURGICAL PROCEDURES (2016)      CIMC   \n2  9780000001061               ANATOMY & PHYSIOLOGY STUDENT EDITION      CIMC   \n3  9780000001146                            MEMBEAN STUDENT LICENSE    ARCHER   \n4  9780000002402                                                N/A       LWW   \n\n  author  pub  \n0   LCMS  NaN  \n1  MAVCC  NaN  \n2   CIMC  NaN  \n3    N/A  NaN  \n4    N/A  LWW  ",
      "text/html": "<div>\n<style scoped>\n    .dataframe tbody tr th:only-of-type {\n        vertical-align: middle;\n    }\n\n    .dataframe tbody tr th {\n        vertical-align: top;\n    }\n\n    .dataframe thead th {\n        text-align: right;\n    }\n</style>\n<table border=\"1\" class=\"dataframe\">\n  <thead>\n    <tr style=\"text-align: right;\">\n      <th></th>\n      <th>isbn</th>\n      <th>title</th>\n      <th>publisher</th>\n      <th>author</th>\n      <th>pub</th>\n    </tr>\n  </thead>\n  <tbody>\n    <tr>\n      <th>0</th>\n      <td>9780000000057</td>\n      <td>TEXT, MUSIC, CONTEXT:  A RESOURCE  ITEM #: S05...</td>\n      <td>CPH</td>\n      <td>LCMS</td>\n      <td>NaN</td>\n    </tr>\n    <tr>\n      <th>1</th>\n      <td>9780000001030</td>\n      <td>SURGICAL PROCEDURES (2016)</td>\n      <td>CIMC</td>\n      <td>MAVCC</td>\n      <td>NaN</td>\n    </tr>\n    <tr>\n      <th>2</th>\n      <td>9780000001061</td>\n      <td>ANATOMY &amp; PHYSIOLOGY STUDENT EDITION</td>\n      <td>CIMC</td>\n      <td>CIMC</td>\n      <td>NaN</td>\n    </tr>\n    <tr>\n      <th>3</th>\n      <td>9780000001146</td>\n      <td>MEMBEAN STUDENT LICENSE</td>\n      <td>ARCHER</td>\n      <td>N/A</td>\n      <td>NaN</td>\n    </tr>\n    <tr>\n      <th>4</th>\n      <td>9780000002402</td>\n      <td>N/A</td>\n      <td>LWW</td>\n      <td>N/A</td>\n      <td>LWW</td>\n    </tr>\n  </tbody>\n</table>\n</div>"
     },
     "metadata": {},
     "execution_count": 9
    }
   ],
   "source": [
    "biblio2 = pd.merge(biblio, pub_dict, how='left', left_on = 'publisher', right_on = 'publisherlong' )\n",
    "biblio2.drop(columns = ['publisherlong'], inplace = True)\n",
    "biblio2.rename(columns={'publishershort': 'pub'}, inplace = True)\n",
    "biblio2.head()"
   ]
  },
  {
   "cell_type": "markdown",
   "metadata": {},
   "source": [
    "### 4.3 Import SupplierMegaList and clean it"
   ]
  },
  {
   "cell_type": "code",
   "execution_count": 10,
   "metadata": {},
   "outputs": [
    {
     "output_type": "execute_result",
     "data": {
      "text/plain": "            ISBN Supplier         Publisher Currency  ListPrice  Discount  \\\n0  9780262530873  BILLSON  UNIVERSITY PRESS      GBP       4.99      0.38   \n1  9780262530989  BILLSON  UNIVERSITY PRESS      GBP      25.00      0.38   \n2  9781861345806   Zookal   THAMES & HUDSON      AUD       0.00      0.00   \n3  9780262531092  BILLSON  UNIVERSITY PRESS      GBP      37.95      0.38   \n4  9781861345837   Zookal   THAMES & HUDSON      AUD       0.00      0.00   \n\n   CostUnitPrice  MaxQtyPerOrder ShipmentOrigin  UnitShippingCost  \\\n0           3.09            1000             UK              3.47   \n1          15.50            1000             UK              3.47   \n2          28.00             150            AUS              3.47   \n3          23.53            1000             UK              3.47   \n4          35.00             150            AUS              3.47   \n\n   sea_shipping_cost  \n0                1.0  \n1                1.0  \n2                1.0  \n3                1.0  \n4                1.0  ",
      "text/html": "<div>\n<style scoped>\n    .dataframe tbody tr th:only-of-type {\n        vertical-align: middle;\n    }\n\n    .dataframe tbody tr th {\n        vertical-align: top;\n    }\n\n    .dataframe thead th {\n        text-align: right;\n    }\n</style>\n<table border=\"1\" class=\"dataframe\">\n  <thead>\n    <tr style=\"text-align: right;\">\n      <th></th>\n      <th>ISBN</th>\n      <th>Supplier</th>\n      <th>Publisher</th>\n      <th>Currency</th>\n      <th>ListPrice</th>\n      <th>Discount</th>\n      <th>CostUnitPrice</th>\n      <th>MaxQtyPerOrder</th>\n      <th>ShipmentOrigin</th>\n      <th>UnitShippingCost</th>\n      <th>sea_shipping_cost</th>\n    </tr>\n  </thead>\n  <tbody>\n    <tr>\n      <th>0</th>\n      <td>9780262530873</td>\n      <td>BILLSON</td>\n      <td>UNIVERSITY PRESS</td>\n      <td>GBP</td>\n      <td>4.99</td>\n      <td>0.38</td>\n      <td>3.09</td>\n      <td>1000</td>\n      <td>UK</td>\n      <td>3.47</td>\n      <td>1.0</td>\n    </tr>\n    <tr>\n      <th>1</th>\n      <td>9780262530989</td>\n      <td>BILLSON</td>\n      <td>UNIVERSITY PRESS</td>\n      <td>GBP</td>\n      <td>25.00</td>\n      <td>0.38</td>\n      <td>15.50</td>\n      <td>1000</td>\n      <td>UK</td>\n      <td>3.47</td>\n      <td>1.0</td>\n    </tr>\n    <tr>\n      <th>2</th>\n      <td>9781861345806</td>\n      <td>Zookal</td>\n      <td>THAMES &amp; HUDSON</td>\n      <td>AUD</td>\n      <td>0.00</td>\n      <td>0.00</td>\n      <td>28.00</td>\n      <td>150</td>\n      <td>AUS</td>\n      <td>3.47</td>\n      <td>1.0</td>\n    </tr>\n    <tr>\n      <th>3</th>\n      <td>9780262531092</td>\n      <td>BILLSON</td>\n      <td>UNIVERSITY PRESS</td>\n      <td>GBP</td>\n      <td>37.95</td>\n      <td>0.38</td>\n      <td>23.53</td>\n      <td>1000</td>\n      <td>UK</td>\n      <td>3.47</td>\n      <td>1.0</td>\n    </tr>\n    <tr>\n      <th>4</th>\n      <td>9781861345837</td>\n      <td>Zookal</td>\n      <td>THAMES &amp; HUDSON</td>\n      <td>AUD</td>\n      <td>0.00</td>\n      <td>0.00</td>\n      <td>35.00</td>\n      <td>150</td>\n      <td>AUS</td>\n      <td>3.47</td>\n      <td>1.0</td>\n    </tr>\n  </tbody>\n</table>\n</div>"
     },
     "metadata": {},
     "execution_count": 10
    }
   ],
   "source": [
    "megalist = pd.read_sql(megalist_sql,proc_db)\n",
    "megalist.head()"
   ]
  },
  {
   "cell_type": "code",
   "execution_count": 11,
   "metadata": {},
   "outputs": [
    {
     "output_type": "execute_result",
     "data": {
      "text/plain": "            isbn supplier         publisher currency  listprice  discount  \\\n0  9780262530873  BILLSON  UNIVERSITY PRESS      GBP       4.99      0.38   \n1  9780262530989  BILLSON  UNIVERSITY PRESS      GBP      25.00      0.38   \n2  9781861345806   ZOOKAL   THAMES & HUDSON      AUD       0.00      0.00   \n3  9780262531092  BILLSON  UNIVERSITY PRESS      GBP      37.95      0.38   \n4  9781861345837   ZOOKAL   THAMES & HUDSON      AUD       0.00      0.00   \n\n   costunitprice  maxqtyperorder shipmentorigin  unitshippingcost  \\\n0           3.09            1000             UK              3.47   \n1          15.50            1000             UK              3.47   \n2          28.00             150            AUS              3.47   \n3          23.53            1000             UK              3.47   \n4          35.00             150            AUS              3.47   \n\n   sea_shipping_cost  \n0                1.0  \n1                1.0  \n2                1.0  \n3                1.0  \n4                1.0  ",
      "text/html": "<div>\n<style scoped>\n    .dataframe tbody tr th:only-of-type {\n        vertical-align: middle;\n    }\n\n    .dataframe tbody tr th {\n        vertical-align: top;\n    }\n\n    .dataframe thead th {\n        text-align: right;\n    }\n</style>\n<table border=\"1\" class=\"dataframe\">\n  <thead>\n    <tr style=\"text-align: right;\">\n      <th></th>\n      <th>isbn</th>\n      <th>supplier</th>\n      <th>publisher</th>\n      <th>currency</th>\n      <th>listprice</th>\n      <th>discount</th>\n      <th>costunitprice</th>\n      <th>maxqtyperorder</th>\n      <th>shipmentorigin</th>\n      <th>unitshippingcost</th>\n      <th>sea_shipping_cost</th>\n    </tr>\n  </thead>\n  <tbody>\n    <tr>\n      <th>0</th>\n      <td>9780262530873</td>\n      <td>BILLSON</td>\n      <td>UNIVERSITY PRESS</td>\n      <td>GBP</td>\n      <td>4.99</td>\n      <td>0.38</td>\n      <td>3.09</td>\n      <td>1000</td>\n      <td>UK</td>\n      <td>3.47</td>\n      <td>1.0</td>\n    </tr>\n    <tr>\n      <th>1</th>\n      <td>9780262530989</td>\n      <td>BILLSON</td>\n      <td>UNIVERSITY PRESS</td>\n      <td>GBP</td>\n      <td>25.00</td>\n      <td>0.38</td>\n      <td>15.50</td>\n      <td>1000</td>\n      <td>UK</td>\n      <td>3.47</td>\n      <td>1.0</td>\n    </tr>\n    <tr>\n      <th>2</th>\n      <td>9781861345806</td>\n      <td>ZOOKAL</td>\n      <td>THAMES &amp; HUDSON</td>\n      <td>AUD</td>\n      <td>0.00</td>\n      <td>0.00</td>\n      <td>28.00</td>\n      <td>150</td>\n      <td>AUS</td>\n      <td>3.47</td>\n      <td>1.0</td>\n    </tr>\n    <tr>\n      <th>3</th>\n      <td>9780262531092</td>\n      <td>BILLSON</td>\n      <td>UNIVERSITY PRESS</td>\n      <td>GBP</td>\n      <td>37.95</td>\n      <td>0.38</td>\n      <td>23.53</td>\n      <td>1000</td>\n      <td>UK</td>\n      <td>3.47</td>\n      <td>1.0</td>\n    </tr>\n    <tr>\n      <th>4</th>\n      <td>9781861345837</td>\n      <td>ZOOKAL</td>\n      <td>THAMES &amp; HUDSON</td>\n      <td>AUD</td>\n      <td>0.00</td>\n      <td>0.00</td>\n      <td>35.00</td>\n      <td>150</td>\n      <td>AUS</td>\n      <td>3.47</td>\n      <td>1.0</td>\n    </tr>\n  </tbody>\n</table>\n</div>"
     },
     "metadata": {},
     "execution_count": 11
    }
   ],
   "source": [
    "megalist.columns = map(str.lower, megalist.columns)\n",
    "megalist = megalist.fillna('N/A')\n",
    "megalist['isbn'] = megalist['isbn'].astype(str)\n",
    "for col in ['isbn', 'supplier', 'publisher', 'currency', 'shipmentorigin']:\n",
    "    megalist[col] = megalist.apply(lambda x: clean_up(x[col]), axis =1)\n",
    "megalist.head()"
   ]
  },
  {
   "cell_type": "code",
   "execution_count": 12,
   "metadata": {},
   "outputs": [
    {
     "output_type": "execute_result",
     "data": {
      "text/plain": "            isbn supplier       publisher_x currency  listprice  discount  \\\n0  9780262530873  BILLSON  UNIVERSITY PRESS      GBP       4.99      0.38   \n1  9780262530989  BILLSON  UNIVERSITY PRESS      GBP      25.00      0.38   \n2  9781861345806   ZOOKAL   THAMES & HUDSON      AUD       0.00      0.00   \n3  9780262531092  BILLSON  UNIVERSITY PRESS      GBP      37.95      0.38   \n4  9781861345837   ZOOKAL   THAMES & HUDSON      AUD       0.00      0.00   \n\n   costunitprice  maxqtyperorder shipmentorigin  unitshippingcost  \\\n0           3.09            1000             UK              3.47   \n1          15.50            1000             UK              3.47   \n2          28.00             150            AUS              3.47   \n3          23.53            1000             UK              3.47   \n4          35.00             150            AUS              3.47   \n\n   sea_shipping_cost title       publisher_y author               pub  \n0                1.0   N/A  UNIVERSITY PRESS    N/A  UNIVERSITY PRESS  \n1                1.0   N/A               N/A    N/A               N/A  \n2                1.0   N/A               N/A    N/A               N/A  \n3                1.0   N/A  UNIVERSITY PRESS    N/A  UNIVERSITY PRESS  \n4                1.0   N/A               N/A    N/A               N/A  ",
      "text/html": "<div>\n<style scoped>\n    .dataframe tbody tr th:only-of-type {\n        vertical-align: middle;\n    }\n\n    .dataframe tbody tr th {\n        vertical-align: top;\n    }\n\n    .dataframe thead th {\n        text-align: right;\n    }\n</style>\n<table border=\"1\" class=\"dataframe\">\n  <thead>\n    <tr style=\"text-align: right;\">\n      <th></th>\n      <th>isbn</th>\n      <th>supplier</th>\n      <th>publisher_x</th>\n      <th>currency</th>\n      <th>listprice</th>\n      <th>discount</th>\n      <th>costunitprice</th>\n      <th>maxqtyperorder</th>\n      <th>shipmentorigin</th>\n      <th>unitshippingcost</th>\n      <th>sea_shipping_cost</th>\n      <th>title</th>\n      <th>publisher_y</th>\n      <th>author</th>\n      <th>pub</th>\n    </tr>\n  </thead>\n  <tbody>\n    <tr>\n      <th>0</th>\n      <td>9780262530873</td>\n      <td>BILLSON</td>\n      <td>UNIVERSITY PRESS</td>\n      <td>GBP</td>\n      <td>4.99</td>\n      <td>0.38</td>\n      <td>3.09</td>\n      <td>1000</td>\n      <td>UK</td>\n      <td>3.47</td>\n      <td>1.0</td>\n      <td>N/A</td>\n      <td>UNIVERSITY PRESS</td>\n      <td>N/A</td>\n      <td>UNIVERSITY PRESS</td>\n    </tr>\n    <tr>\n      <th>1</th>\n      <td>9780262530989</td>\n      <td>BILLSON</td>\n      <td>UNIVERSITY PRESS</td>\n      <td>GBP</td>\n      <td>25.00</td>\n      <td>0.38</td>\n      <td>15.50</td>\n      <td>1000</td>\n      <td>UK</td>\n      <td>3.47</td>\n      <td>1.0</td>\n      <td>N/A</td>\n      <td>N/A</td>\n      <td>N/A</td>\n      <td>N/A</td>\n    </tr>\n    <tr>\n      <th>2</th>\n      <td>9781861345806</td>\n      <td>ZOOKAL</td>\n      <td>THAMES &amp; HUDSON</td>\n      <td>AUD</td>\n      <td>0.00</td>\n      <td>0.00</td>\n      <td>28.00</td>\n      <td>150</td>\n      <td>AUS</td>\n      <td>3.47</td>\n      <td>1.0</td>\n      <td>N/A</td>\n      <td>N/A</td>\n      <td>N/A</td>\n      <td>N/A</td>\n    </tr>\n    <tr>\n      <th>3</th>\n      <td>9780262531092</td>\n      <td>BILLSON</td>\n      <td>UNIVERSITY PRESS</td>\n      <td>GBP</td>\n      <td>37.95</td>\n      <td>0.38</td>\n      <td>23.53</td>\n      <td>1000</td>\n      <td>UK</td>\n      <td>3.47</td>\n      <td>1.0</td>\n      <td>N/A</td>\n      <td>UNIVERSITY PRESS</td>\n      <td>N/A</td>\n      <td>UNIVERSITY PRESS</td>\n    </tr>\n    <tr>\n      <th>4</th>\n      <td>9781861345837</td>\n      <td>ZOOKAL</td>\n      <td>THAMES &amp; HUDSON</td>\n      <td>AUD</td>\n      <td>0.00</td>\n      <td>0.00</td>\n      <td>35.00</td>\n      <td>150</td>\n      <td>AUS</td>\n      <td>3.47</td>\n      <td>1.0</td>\n      <td>N/A</td>\n      <td>N/A</td>\n      <td>N/A</td>\n      <td>N/A</td>\n    </tr>\n  </tbody>\n</table>\n</div>"
     },
     "metadata": {},
     "execution_count": 12
    }
   ],
   "source": [
    "megalist_pub = pd.merge(megalist, biblio2, how='left', on = 'isbn' )\n",
    "megalist_pub.head()"
   ]
  },
  {
   "cell_type": "code",
   "execution_count": 13,
   "metadata": {},
   "outputs": [
    {
     "output_type": "execute_result",
     "data": {
      "text/plain": "            isbn title               pub author supplier currency  price  \\\n0  9780262530873   N/A  UNIVERSITY PRESS    N/A  BILLSON      GBP   4.99   \n1  9780262530989   N/A  UNIVERSITY PRESS    N/A  BILLSON      GBP  25.00   \n2  9781861345806   N/A   THAMES & HUDSON    N/A   ZOOKAL      AUD  28.00   \n3  9780262531092   N/A  UNIVERSITY PRESS    N/A  BILLSON      GBP  37.95   \n4  9781861345837   N/A   THAMES & HUDSON    N/A   ZOOKAL      AUD  35.00   \n\n   discount  shipping_cost  sea_shipping_cost  max_qty origin  \n0      0.38           3.47                1.0     1000     UK  \n1      0.38           3.47                1.0     1000     UK  \n2      0.00           3.47                1.0      150    AUS  \n3      0.38           3.47                1.0     1000     UK  \n4      0.00           3.47                1.0      150    AUS  ",
      "text/html": "<div>\n<style scoped>\n    .dataframe tbody tr th:only-of-type {\n        vertical-align: middle;\n    }\n\n    .dataframe tbody tr th {\n        vertical-align: top;\n    }\n\n    .dataframe thead th {\n        text-align: right;\n    }\n</style>\n<table border=\"1\" class=\"dataframe\">\n  <thead>\n    <tr style=\"text-align: right;\">\n      <th></th>\n      <th>isbn</th>\n      <th>title</th>\n      <th>pub</th>\n      <th>author</th>\n      <th>supplier</th>\n      <th>currency</th>\n      <th>price</th>\n      <th>discount</th>\n      <th>shipping_cost</th>\n      <th>sea_shipping_cost</th>\n      <th>max_qty</th>\n      <th>origin</th>\n    </tr>\n  </thead>\n  <tbody>\n    <tr>\n      <th>0</th>\n      <td>9780262530873</td>\n      <td>N/A</td>\n      <td>UNIVERSITY PRESS</td>\n      <td>N/A</td>\n      <td>BILLSON</td>\n      <td>GBP</td>\n      <td>4.99</td>\n      <td>0.38</td>\n      <td>3.47</td>\n      <td>1.0</td>\n      <td>1000</td>\n      <td>UK</td>\n    </tr>\n    <tr>\n      <th>1</th>\n      <td>9780262530989</td>\n      <td>N/A</td>\n      <td>UNIVERSITY PRESS</td>\n      <td>N/A</td>\n      <td>BILLSON</td>\n      <td>GBP</td>\n      <td>25.00</td>\n      <td>0.38</td>\n      <td>3.47</td>\n      <td>1.0</td>\n      <td>1000</td>\n      <td>UK</td>\n    </tr>\n    <tr>\n      <th>2</th>\n      <td>9781861345806</td>\n      <td>N/A</td>\n      <td>THAMES &amp; HUDSON</td>\n      <td>N/A</td>\n      <td>ZOOKAL</td>\n      <td>AUD</td>\n      <td>28.00</td>\n      <td>0.00</td>\n      <td>3.47</td>\n      <td>1.0</td>\n      <td>150</td>\n      <td>AUS</td>\n    </tr>\n    <tr>\n      <th>3</th>\n      <td>9780262531092</td>\n      <td>N/A</td>\n      <td>UNIVERSITY PRESS</td>\n      <td>N/A</td>\n      <td>BILLSON</td>\n      <td>GBP</td>\n      <td>37.95</td>\n      <td>0.38</td>\n      <td>3.47</td>\n      <td>1.0</td>\n      <td>1000</td>\n      <td>UK</td>\n    </tr>\n    <tr>\n      <th>4</th>\n      <td>9781861345837</td>\n      <td>N/A</td>\n      <td>THAMES &amp; HUDSON</td>\n      <td>N/A</td>\n      <td>ZOOKAL</td>\n      <td>AUD</td>\n      <td>35.00</td>\n      <td>0.00</td>\n      <td>3.47</td>\n      <td>1.0</td>\n      <td>150</td>\n      <td>AUS</td>\n    </tr>\n  </tbody>\n</table>\n</div>"
     },
     "metadata": {},
     "execution_count": 13
    }
   ],
   "source": [
    "#cleaning pub name\n",
    "megalist_pub['pub'] = np.where(\n",
    "    megalist_pub['pub'] == 'N/A'\n",
    "    , megalist_pub['publisher_x']\n",
    "    , megalist_pub['pub'])\n",
    "    \n",
    "# centralizing price in one column\n",
    "megalist_pub['price'] = np.where(megalist_pub['listprice'] == 0.00, megalist_pub['costunitprice'], megalist_pub['listprice'])\n",
    "\n",
    "#clean column names\n",
    "megalist_pub.rename(columns={'unitshippingcost': 'shipping_cost', 'maxqtyperorder': 'max_qty', 'shipmentorigin': 'origin'}, inplace = True)\n",
    "\n",
    "#Arrange columns and drop unnecessary columns\n",
    "\n",
    "megalist_pub = megalist_pub[['isbn', 'title', 'pub', 'author', 'supplier', 'currency', 'price', 'discount', 'shipping_cost','sea_shipping_cost', 'max_qty', 'origin']]\n",
    "\n",
    "megalist_pub.head()"
   ]
  },
  {
   "cell_type": "markdown",
   "metadata": {},
   "source": [
    "### 4.3 Import all_lp and clean it"
   ]
  },
  {
   "cell_type": "code",
   "execution_count": 14,
   "metadata": {},
   "outputs": [
    {
     "output_type": "execute_result",
     "data": {
      "text/plain": "            Isbn Currency  Price\n0  9780061699948     USD   17.99\n1  9780061700071     USD   15.99\n2  9780061700194     USD   16.99\n3  9780061700927     USD   16.99\n4  9780061701269     USD    9.99",
      "text/html": "<div>\n<style scoped>\n    .dataframe tbody tr th:only-of-type {\n        vertical-align: middle;\n    }\n\n    .dataframe tbody tr th {\n        vertical-align: top;\n    }\n\n    .dataframe thead th {\n        text-align: right;\n    }\n</style>\n<table border=\"1\" class=\"dataframe\">\n  <thead>\n    <tr style=\"text-align: right;\">\n      <th></th>\n      <th>Isbn</th>\n      <th>Currency</th>\n      <th>Price</th>\n    </tr>\n  </thead>\n  <tbody>\n    <tr>\n      <th>0</th>\n      <td>9780061699948</td>\n      <td>USD</td>\n      <td>17.99</td>\n    </tr>\n    <tr>\n      <th>1</th>\n      <td>9780061700071</td>\n      <td>USD</td>\n      <td>15.99</td>\n    </tr>\n    <tr>\n      <th>2</th>\n      <td>9780061700194</td>\n      <td>USD</td>\n      <td>16.99</td>\n    </tr>\n    <tr>\n      <th>3</th>\n      <td>9780061700927</td>\n      <td>USD</td>\n      <td>16.99</td>\n    </tr>\n    <tr>\n      <th>4</th>\n      <td>9780061701269</td>\n      <td>USD</td>\n      <td>9.99</td>\n    </tr>\n  </tbody>\n</table>\n</div>"
     },
     "metadata": {},
     "execution_count": 14
    }
   ],
   "source": [
    "all_lp = pd.read_sql(all_lp, prod_db)\n",
    "all_lp.head()"
   ]
  },
  {
   "cell_type": "code",
   "execution_count": 15,
   "metadata": {},
   "outputs": [
    {
     "output_type": "execute_result",
     "data": {
      "text/plain": "            isbn currency  price\n0  9780061699948      USD  17.99\n1  9780061700071      USD  15.99\n2  9780061700194      USD  16.99\n3  9780061700927      USD  16.99\n4  9780061701269      USD   9.99",
      "text/html": "<div>\n<style scoped>\n    .dataframe tbody tr th:only-of-type {\n        vertical-align: middle;\n    }\n\n    .dataframe tbody tr th {\n        vertical-align: top;\n    }\n\n    .dataframe thead th {\n        text-align: right;\n    }\n</style>\n<table border=\"1\" class=\"dataframe\">\n  <thead>\n    <tr style=\"text-align: right;\">\n      <th></th>\n      <th>isbn</th>\n      <th>currency</th>\n      <th>price</th>\n    </tr>\n  </thead>\n  <tbody>\n    <tr>\n      <th>0</th>\n      <td>9780061699948</td>\n      <td>USD</td>\n      <td>17.99</td>\n    </tr>\n    <tr>\n      <th>1</th>\n      <td>9780061700071</td>\n      <td>USD</td>\n      <td>15.99</td>\n    </tr>\n    <tr>\n      <th>2</th>\n      <td>9780061700194</td>\n      <td>USD</td>\n      <td>16.99</td>\n    </tr>\n    <tr>\n      <th>3</th>\n      <td>9780061700927</td>\n      <td>USD</td>\n      <td>16.99</td>\n    </tr>\n    <tr>\n      <th>4</th>\n      <td>9780061701269</td>\n      <td>USD</td>\n      <td>9.99</td>\n    </tr>\n  </tbody>\n</table>\n</div>"
     },
     "metadata": {},
     "execution_count": 15
    }
   ],
   "source": [
    "all_lp.columns = map(str.lower, all_lp.columns)\n",
    "all_lp = all_lp.fillna('N/A')\n",
    "all_lp['isbn'] = all_lp['isbn'].astype(str)\n",
    "for col in ['isbn','currency']:\n",
    "    all_lp[col] = all_lp.apply(lambda x: clean_up(x[col]), axis =1)\n",
    "\n",
    "all_lp.head()"
   ]
  },
  {
   "cell_type": "markdown",
   "metadata": {},
   "source": [
    "#### 4.3.1 Get biblio with LP"
   ]
  },
  {
   "cell_type": "code",
   "execution_count": 16,
   "metadata": {},
   "outputs": [
    {
     "output_type": "execute_result",
     "data": {
      "text/plain": "            isbn currency  price title       publisher author\n0  9780061699948      USD  17.99   N/A  HARPER COLLINS    N/A\n1  9780061700071      USD  15.99   N/A  HARPER COLLINS    N/A\n2  9780061700194      USD  16.99   N/A  HARPER COLLINS    N/A\n3  9780061700927      USD  16.99   N/A  HARPER COLLINS    N/A\n4  9780061701269      USD   9.99   N/A  HARPER COLLINS    N/A",
      "text/html": "<div>\n<style scoped>\n    .dataframe tbody tr th:only-of-type {\n        vertical-align: middle;\n    }\n\n    .dataframe tbody tr th {\n        vertical-align: top;\n    }\n\n    .dataframe thead th {\n        text-align: right;\n    }\n</style>\n<table border=\"1\" class=\"dataframe\">\n  <thead>\n    <tr style=\"text-align: right;\">\n      <th></th>\n      <th>isbn</th>\n      <th>currency</th>\n      <th>price</th>\n      <th>title</th>\n      <th>publisher</th>\n      <th>author</th>\n    </tr>\n  </thead>\n  <tbody>\n    <tr>\n      <th>0</th>\n      <td>9780061699948</td>\n      <td>USD</td>\n      <td>17.99</td>\n      <td>N/A</td>\n      <td>HARPER COLLINS</td>\n      <td>N/A</td>\n    </tr>\n    <tr>\n      <th>1</th>\n      <td>9780061700071</td>\n      <td>USD</td>\n      <td>15.99</td>\n      <td>N/A</td>\n      <td>HARPER COLLINS</td>\n      <td>N/A</td>\n    </tr>\n    <tr>\n      <th>2</th>\n      <td>9780061700194</td>\n      <td>USD</td>\n      <td>16.99</td>\n      <td>N/A</td>\n      <td>HARPER COLLINS</td>\n      <td>N/A</td>\n    </tr>\n    <tr>\n      <th>3</th>\n      <td>9780061700927</td>\n      <td>USD</td>\n      <td>16.99</td>\n      <td>N/A</td>\n      <td>HARPER COLLINS</td>\n      <td>N/A</td>\n    </tr>\n    <tr>\n      <th>4</th>\n      <td>9780061701269</td>\n      <td>USD</td>\n      <td>9.99</td>\n      <td>N/A</td>\n      <td>HARPER COLLINS</td>\n      <td>N/A</td>\n    </tr>\n  </tbody>\n</table>\n</div>"
     },
     "metadata": {},
     "execution_count": 16
    }
   ],
   "source": [
    "biblio_lp = pd.merge(all_lp, biblio2, how='left', on = 'isbn' )\n",
    "biblio_lp.drop(columns = ['pub'], inplace = True)\n",
    "biblio_lp.head()"
   ]
  },
  {
   "cell_type": "markdown",
   "metadata": {},
   "source": [
    "### 4.4 Import Sup_by_pub and clean it"
   ]
  },
  {
   "cell_type": "code",
   "execution_count": 17,
   "metadata": {},
   "outputs": [
    {
     "output_type": "execute_result",
     "data": {
      "text/plain": "  Supplier        Publisher Currency  Discount  Shipping Cost  max quantity  \\\n0   COINFO         3D TOTAL      AUD      0.22            3.3         10000   \n1   COINFO         ABC CLIO      AUD      0.30            3.3         10000   \n2   COINFO             AIAA      AUD      0.30            3.3         10000   \n3   COINFO    ALIEN & UNWIN      AUD      0.30            3.3         10000   \n4   COINFO  Amer Psych Ass.      AUD      0.33            3.3         10000   \n\n   Min ShipmentOrigin  Shipping Cost Sea  \n0    0            AUS                1.0  \n1    0            AUS                1.0  \n2    0            AUS                1.0  \n3    0            AUS                1.0  \n4    0            AUS                1.0  ",
      "text/html": "<div>\n<style scoped>\n    .dataframe tbody tr th:only-of-type {\n        vertical-align: middle;\n    }\n\n    .dataframe tbody tr th {\n        vertical-align: top;\n    }\n\n    .dataframe thead th {\n        text-align: right;\n    }\n</style>\n<table border=\"1\" class=\"dataframe\">\n  <thead>\n    <tr style=\"text-align: right;\">\n      <th></th>\n      <th>Supplier</th>\n      <th>Publisher</th>\n      <th>Currency</th>\n      <th>Discount</th>\n      <th>Shipping Cost</th>\n      <th>max quantity</th>\n      <th>Min</th>\n      <th>ShipmentOrigin</th>\n      <th>Shipping Cost Sea</th>\n    </tr>\n  </thead>\n  <tbody>\n    <tr>\n      <th>0</th>\n      <td>COINFO</td>\n      <td>3D TOTAL</td>\n      <td>AUD</td>\n      <td>0.22</td>\n      <td>3.3</td>\n      <td>10000</td>\n      <td>0</td>\n      <td>AUS</td>\n      <td>1.0</td>\n    </tr>\n    <tr>\n      <th>1</th>\n      <td>COINFO</td>\n      <td>ABC CLIO</td>\n      <td>AUD</td>\n      <td>0.30</td>\n      <td>3.3</td>\n      <td>10000</td>\n      <td>0</td>\n      <td>AUS</td>\n      <td>1.0</td>\n    </tr>\n    <tr>\n      <th>2</th>\n      <td>COINFO</td>\n      <td>AIAA</td>\n      <td>AUD</td>\n      <td>0.30</td>\n      <td>3.3</td>\n      <td>10000</td>\n      <td>0</td>\n      <td>AUS</td>\n      <td>1.0</td>\n    </tr>\n    <tr>\n      <th>3</th>\n      <td>COINFO</td>\n      <td>ALIEN &amp; UNWIN</td>\n      <td>AUD</td>\n      <td>0.30</td>\n      <td>3.3</td>\n      <td>10000</td>\n      <td>0</td>\n      <td>AUS</td>\n      <td>1.0</td>\n    </tr>\n    <tr>\n      <th>4</th>\n      <td>COINFO</td>\n      <td>Amer Psych Ass.</td>\n      <td>AUD</td>\n      <td>0.33</td>\n      <td>3.3</td>\n      <td>10000</td>\n      <td>0</td>\n      <td>AUS</td>\n      <td>1.0</td>\n    </tr>\n  </tbody>\n</table>\n</div>"
     },
     "metadata": {},
     "execution_count": 17
    }
   ],
   "source": [
    "sup_pub = pd.read_excel('../../../../Vendors/.  Vendors Details\\supplier_procurement_details.xlsx',  sheet_name='pub')\n",
    "sup_pub.head()"
   ]
  },
  {
   "cell_type": "code",
   "execution_count": 18,
   "metadata": {},
   "outputs": [
    {
     "output_type": "execute_result",
     "data": {
      "text/plain": "  supplier        publisher currency  discount  shipping cost  max quantity  \\\n0   COINFO         3D TOTAL      AUD      0.22            3.3         10000   \n1   COINFO         ABC CLIO      AUD      0.30            3.3         10000   \n2   COINFO             AIAA      AUD      0.30            3.3         10000   \n3   COINFO    ALIEN & UNWIN      AUD      0.30            3.3         10000   \n4   COINFO  AMER PSYCH ASS.      AUD      0.33            3.3         10000   \n\n   min shipmentorigin  shipping cost sea  \n0    0            AUS                1.0  \n1    0            AUS                1.0  \n2    0            AUS                1.0  \n3    0            AUS                1.0  \n4    0            AUS                1.0  ",
      "text/html": "<div>\n<style scoped>\n    .dataframe tbody tr th:only-of-type {\n        vertical-align: middle;\n    }\n\n    .dataframe tbody tr th {\n        vertical-align: top;\n    }\n\n    .dataframe thead th {\n        text-align: right;\n    }\n</style>\n<table border=\"1\" class=\"dataframe\">\n  <thead>\n    <tr style=\"text-align: right;\">\n      <th></th>\n      <th>supplier</th>\n      <th>publisher</th>\n      <th>currency</th>\n      <th>discount</th>\n      <th>shipping cost</th>\n      <th>max quantity</th>\n      <th>min</th>\n      <th>shipmentorigin</th>\n      <th>shipping cost sea</th>\n    </tr>\n  </thead>\n  <tbody>\n    <tr>\n      <th>0</th>\n      <td>COINFO</td>\n      <td>3D TOTAL</td>\n      <td>AUD</td>\n      <td>0.22</td>\n      <td>3.3</td>\n      <td>10000</td>\n      <td>0</td>\n      <td>AUS</td>\n      <td>1.0</td>\n    </tr>\n    <tr>\n      <th>1</th>\n      <td>COINFO</td>\n      <td>ABC CLIO</td>\n      <td>AUD</td>\n      <td>0.30</td>\n      <td>3.3</td>\n      <td>10000</td>\n      <td>0</td>\n      <td>AUS</td>\n      <td>1.0</td>\n    </tr>\n    <tr>\n      <th>2</th>\n      <td>COINFO</td>\n      <td>AIAA</td>\n      <td>AUD</td>\n      <td>0.30</td>\n      <td>3.3</td>\n      <td>10000</td>\n      <td>0</td>\n      <td>AUS</td>\n      <td>1.0</td>\n    </tr>\n    <tr>\n      <th>3</th>\n      <td>COINFO</td>\n      <td>ALIEN &amp; UNWIN</td>\n      <td>AUD</td>\n      <td>0.30</td>\n      <td>3.3</td>\n      <td>10000</td>\n      <td>0</td>\n      <td>AUS</td>\n      <td>1.0</td>\n    </tr>\n    <tr>\n      <th>4</th>\n      <td>COINFO</td>\n      <td>AMER PSYCH ASS.</td>\n      <td>AUD</td>\n      <td>0.33</td>\n      <td>3.3</td>\n      <td>10000</td>\n      <td>0</td>\n      <td>AUS</td>\n      <td>1.0</td>\n    </tr>\n  </tbody>\n</table>\n</div>"
     },
     "metadata": {},
     "execution_count": 18
    }
   ],
   "source": [
    "sup_pub.columns = map(str.lower, sup_pub.columns)\n",
    "sup_pub = sup_pub.fillna('N/A')\n",
    "for col in ['supplier','publisher', 'currency', 'shipmentorigin']:\n",
    "    sup_pub[col] = sup_pub.apply(lambda x: clean_up(x[col]), axis =1)\n",
    "sup_pub.head()"
   ]
  },
  {
   "cell_type": "markdown",
   "metadata": {},
   "source": [
    "#### 4.4.1 Merge Supplier by Publisher with biblio"
   ]
  },
  {
   "cell_type": "code",
   "execution_count": 19,
   "metadata": {},
   "outputs": [
    {
     "output_type": "execute_result",
     "data": {
      "text/plain": "            isbn currency  price title publisher author supplier  discount  \\\n0  9780000002402      GBP  306.0   N/A       LWW    N/A      ABE      0.55   \n1  9780000006493      GBP  772.0   N/A       LWW    N/A      ABE      0.55   \n2  9780000009883      GBP   92.0   N/A       LWW    N/A      ABE      0.55   \n3  9780000003201      GBP  265.0   N/A       LWW    N/A      ABE      0.55   \n4  9780000079145      GBP   67.0   N/A       LWW    N/A      ABE      0.55   \n\n   shipping cost  max quantity  min shipmentorigin  shipping cost sea  \n0           3.47         10000    0             UK                1.0  \n1           3.47         10000    0             UK                1.0  \n2           3.47         10000    0             UK                1.0  \n3           3.47         10000    0             UK                1.0  \n4           3.47         10000    0             UK                1.0  ",
      "text/html": "<div>\n<style scoped>\n    .dataframe tbody tr th:only-of-type {\n        vertical-align: middle;\n    }\n\n    .dataframe tbody tr th {\n        vertical-align: top;\n    }\n\n    .dataframe thead th {\n        text-align: right;\n    }\n</style>\n<table border=\"1\" class=\"dataframe\">\n  <thead>\n    <tr style=\"text-align: right;\">\n      <th></th>\n      <th>isbn</th>\n      <th>currency</th>\n      <th>price</th>\n      <th>title</th>\n      <th>publisher</th>\n      <th>author</th>\n      <th>supplier</th>\n      <th>discount</th>\n      <th>shipping cost</th>\n      <th>max quantity</th>\n      <th>min</th>\n      <th>shipmentorigin</th>\n      <th>shipping cost sea</th>\n    </tr>\n  </thead>\n  <tbody>\n    <tr>\n      <th>0</th>\n      <td>9780000002402</td>\n      <td>GBP</td>\n      <td>306.0</td>\n      <td>N/A</td>\n      <td>LWW</td>\n      <td>N/A</td>\n      <td>ABE</td>\n      <td>0.55</td>\n      <td>3.47</td>\n      <td>10000</td>\n      <td>0</td>\n      <td>UK</td>\n      <td>1.0</td>\n    </tr>\n    <tr>\n      <th>1</th>\n      <td>9780000006493</td>\n      <td>GBP</td>\n      <td>772.0</td>\n      <td>N/A</td>\n      <td>LWW</td>\n      <td>N/A</td>\n      <td>ABE</td>\n      <td>0.55</td>\n      <td>3.47</td>\n      <td>10000</td>\n      <td>0</td>\n      <td>UK</td>\n      <td>1.0</td>\n    </tr>\n    <tr>\n      <th>2</th>\n      <td>9780000009883</td>\n      <td>GBP</td>\n      <td>92.0</td>\n      <td>N/A</td>\n      <td>LWW</td>\n      <td>N/A</td>\n      <td>ABE</td>\n      <td>0.55</td>\n      <td>3.47</td>\n      <td>10000</td>\n      <td>0</td>\n      <td>UK</td>\n      <td>1.0</td>\n    </tr>\n    <tr>\n      <th>3</th>\n      <td>9780000003201</td>\n      <td>GBP</td>\n      <td>265.0</td>\n      <td>N/A</td>\n      <td>LWW</td>\n      <td>N/A</td>\n      <td>ABE</td>\n      <td>0.55</td>\n      <td>3.47</td>\n      <td>10000</td>\n      <td>0</td>\n      <td>UK</td>\n      <td>1.0</td>\n    </tr>\n    <tr>\n      <th>4</th>\n      <td>9780000079145</td>\n      <td>GBP</td>\n      <td>67.0</td>\n      <td>N/A</td>\n      <td>LWW</td>\n      <td>N/A</td>\n      <td>ABE</td>\n      <td>0.55</td>\n      <td>3.47</td>\n      <td>10000</td>\n      <td>0</td>\n      <td>UK</td>\n      <td>1.0</td>\n    </tr>\n  </tbody>\n</table>\n</div>"
     },
     "metadata": {},
     "execution_count": 19
    }
   ],
   "source": [
    "sup_pub_biblio = pd.merge(biblio_lp, sup_pub, how='inner', left_on = ['currency', 'publisher'], right_on = ['currency', 'publisher'])\n",
    "sup_pub_biblio.head()"
   ]
  },
  {
   "cell_type": "code",
   "execution_count": 20,
   "metadata": {},
   "outputs": [
    {
     "output_type": "execute_result",
     "data": {
      "text/plain": "            isbn currency  price title  pub author supplier  discount  \\\n0  9780000002402      GBP  306.0   N/A  LWW    N/A      ABE      0.55   \n1  9780000006493      GBP  772.0   N/A  LWW    N/A      ABE      0.55   \n2  9780000009883      GBP   92.0   N/A  LWW    N/A      ABE      0.55   \n3  9780000003201      GBP  265.0   N/A  LWW    N/A      ABE      0.55   \n4  9780000079145      GBP   67.0   N/A  LWW    N/A      ABE      0.55   \n\n   shipping_cost  max_qty  min origin  sea_shipping_cost  \n0           3.47    10000    0     UK                1.0  \n1           3.47    10000    0     UK                1.0  \n2           3.47    10000    0     UK                1.0  \n3           3.47    10000    0     UK                1.0  \n4           3.47    10000    0     UK                1.0  ",
      "text/html": "<div>\n<style scoped>\n    .dataframe tbody tr th:only-of-type {\n        vertical-align: middle;\n    }\n\n    .dataframe tbody tr th {\n        vertical-align: top;\n    }\n\n    .dataframe thead th {\n        text-align: right;\n    }\n</style>\n<table border=\"1\" class=\"dataframe\">\n  <thead>\n    <tr style=\"text-align: right;\">\n      <th></th>\n      <th>isbn</th>\n      <th>currency</th>\n      <th>price</th>\n      <th>title</th>\n      <th>pub</th>\n      <th>author</th>\n      <th>supplier</th>\n      <th>discount</th>\n      <th>shipping_cost</th>\n      <th>max_qty</th>\n      <th>min</th>\n      <th>origin</th>\n      <th>sea_shipping_cost</th>\n    </tr>\n  </thead>\n  <tbody>\n    <tr>\n      <th>0</th>\n      <td>9780000002402</td>\n      <td>GBP</td>\n      <td>306.0</td>\n      <td>N/A</td>\n      <td>LWW</td>\n      <td>N/A</td>\n      <td>ABE</td>\n      <td>0.55</td>\n      <td>3.47</td>\n      <td>10000</td>\n      <td>0</td>\n      <td>UK</td>\n      <td>1.0</td>\n    </tr>\n    <tr>\n      <th>1</th>\n      <td>9780000006493</td>\n      <td>GBP</td>\n      <td>772.0</td>\n      <td>N/A</td>\n      <td>LWW</td>\n      <td>N/A</td>\n      <td>ABE</td>\n      <td>0.55</td>\n      <td>3.47</td>\n      <td>10000</td>\n      <td>0</td>\n      <td>UK</td>\n      <td>1.0</td>\n    </tr>\n    <tr>\n      <th>2</th>\n      <td>9780000009883</td>\n      <td>GBP</td>\n      <td>92.0</td>\n      <td>N/A</td>\n      <td>LWW</td>\n      <td>N/A</td>\n      <td>ABE</td>\n      <td>0.55</td>\n      <td>3.47</td>\n      <td>10000</td>\n      <td>0</td>\n      <td>UK</td>\n      <td>1.0</td>\n    </tr>\n    <tr>\n      <th>3</th>\n      <td>9780000003201</td>\n      <td>GBP</td>\n      <td>265.0</td>\n      <td>N/A</td>\n      <td>LWW</td>\n      <td>N/A</td>\n      <td>ABE</td>\n      <td>0.55</td>\n      <td>3.47</td>\n      <td>10000</td>\n      <td>0</td>\n      <td>UK</td>\n      <td>1.0</td>\n    </tr>\n    <tr>\n      <th>4</th>\n      <td>9780000079145</td>\n      <td>GBP</td>\n      <td>67.0</td>\n      <td>N/A</td>\n      <td>LWW</td>\n      <td>N/A</td>\n      <td>ABE</td>\n      <td>0.55</td>\n      <td>3.47</td>\n      <td>10000</td>\n      <td>0</td>\n      <td>UK</td>\n      <td>1.0</td>\n    </tr>\n  </tbody>\n</table>\n</div>"
     },
     "metadata": {},
     "execution_count": 20
    }
   ],
   "source": [
    "\n",
    "sup_pub_biblio.rename(columns={'publisher': 'pub','shipping cost': 'shipping_cost', 'max quantity': 'max_qty', 'shipmentorigin': 'origin', 'shipping cost sea' : 'sea_shipping_cost'}, inplace = True)\n",
    "\n",
    "sup_pub_biblio.head()"
   ]
  },
  {
   "cell_type": "markdown",
   "metadata": {},
   "source": [
    "#### 4.5 Import short_disc and clean it"
   ]
  },
  {
   "cell_type": "code",
   "execution_count": 21,
   "metadata": {},
   "outputs": [
    {
     "output_type": "execute_result",
     "data": {
      "text/plain": "  SUPPLIER           ISBN  DISCOUNT\n0      ABE  9781408041734       0.2\n1      ABE  9781408041918       0.2\n2      ABE  9781408056509       0.2\n3      ABE  9781408060377       0.2\n4      ABE  9780534944827       0.3",
      "text/html": "<div>\n<style scoped>\n    .dataframe tbody tr th:only-of-type {\n        vertical-align: middle;\n    }\n\n    .dataframe tbody tr th {\n        vertical-align: top;\n    }\n\n    .dataframe thead th {\n        text-align: right;\n    }\n</style>\n<table border=\"1\" class=\"dataframe\">\n  <thead>\n    <tr style=\"text-align: right;\">\n      <th></th>\n      <th>SUPPLIER</th>\n      <th>ISBN</th>\n      <th>DISCOUNT</th>\n    </tr>\n  </thead>\n  <tbody>\n    <tr>\n      <th>0</th>\n      <td>ABE</td>\n      <td>9781408041734</td>\n      <td>0.2</td>\n    </tr>\n    <tr>\n      <th>1</th>\n      <td>ABE</td>\n      <td>9781408041918</td>\n      <td>0.2</td>\n    </tr>\n    <tr>\n      <th>2</th>\n      <td>ABE</td>\n      <td>9781408056509</td>\n      <td>0.2</td>\n    </tr>\n    <tr>\n      <th>3</th>\n      <td>ABE</td>\n      <td>9781408060377</td>\n      <td>0.2</td>\n    </tr>\n    <tr>\n      <th>4</th>\n      <td>ABE</td>\n      <td>9780534944827</td>\n      <td>0.3</td>\n    </tr>\n  </tbody>\n</table>\n</div>"
     },
     "metadata": {},
     "execution_count": 21
    }
   ],
   "source": [
    "sp_disc = pd.read_excel(\"../../../../Vendors/. Short Discounted/all_short_discount_list.xlsx\")\n",
    "sp_disc.head()"
   ]
  },
  {
   "cell_type": "code",
   "execution_count": 22,
   "metadata": {},
   "outputs": [
    {
     "output_type": "execute_result",
     "data": {
      "text/plain": "  supplier           isbn discount\n0      ABE  9781408041734      0.2\n1      ABE  9781408041918      0.2\n2      ABE  9781408056509      0.2\n3      ABE  9781408060377      0.2\n4      ABE  9780534944827      0.3",
      "text/html": "<div>\n<style scoped>\n    .dataframe tbody tr th:only-of-type {\n        vertical-align: middle;\n    }\n\n    .dataframe tbody tr th {\n        vertical-align: top;\n    }\n\n    .dataframe thead th {\n        text-align: right;\n    }\n</style>\n<table border=\"1\" class=\"dataframe\">\n  <thead>\n    <tr style=\"text-align: right;\">\n      <th></th>\n      <th>supplier</th>\n      <th>isbn</th>\n      <th>discount</th>\n    </tr>\n  </thead>\n  <tbody>\n    <tr>\n      <th>0</th>\n      <td>ABE</td>\n      <td>9781408041734</td>\n      <td>0.2</td>\n    </tr>\n    <tr>\n      <th>1</th>\n      <td>ABE</td>\n      <td>9781408041918</td>\n      <td>0.2</td>\n    </tr>\n    <tr>\n      <th>2</th>\n      <td>ABE</td>\n      <td>9781408056509</td>\n      <td>0.2</td>\n    </tr>\n    <tr>\n      <th>3</th>\n      <td>ABE</td>\n      <td>9781408060377</td>\n      <td>0.2</td>\n    </tr>\n    <tr>\n      <th>4</th>\n      <td>ABE</td>\n      <td>9780534944827</td>\n      <td>0.3</td>\n    </tr>\n  </tbody>\n</table>\n</div>"
     },
     "metadata": {},
     "execution_count": 22
    }
   ],
   "source": [
    "sp_disc.columns = map(str.lower, sp_disc.columns)\n",
    "sp_disc = sp_disc.fillna('N/A')\n",
    "sp_disc['isbn'] = sp_disc['isbn'].astype(str)\n",
    "for col in ['supplier', 'isbn']:\n",
    "    sp_disc[col] = sp_disc.apply(lambda x: clean_up(x[col]), axis =1)\n",
    "sp_disc.head()"
   ]
  },
  {
   "cell_type": "markdown",
   "metadata": {},
   "source": [
    "#### 4.5.1 Merge sup_pub_biblio by sp_disc with biblio"
   ]
  },
  {
   "cell_type": "code",
   "execution_count": 23,
   "metadata": {},
   "outputs": [
    {
     "output_type": "execute_result",
     "data": {
      "text/plain": "            isbn currency  price title  pub author supplier  discount_x  \\\n0  9780000002402      GBP  306.0   N/A  LWW    N/A      ABE        0.55   \n1  9780000006493      GBP  772.0   N/A  LWW    N/A      ABE        0.55   \n2  9780000009883      GBP   92.0   N/A  LWW    N/A      ABE        0.55   \n3  9780000003201      GBP  265.0   N/A  LWW    N/A      ABE        0.55   \n4  9780000079145      GBP   67.0   N/A  LWW    N/A      ABE        0.55   \n\n   shipping_cost  max_qty  min origin  sea_shipping_cost discount_y  \n0           3.47    10000    0     UK                1.0        NaN  \n1           3.47    10000    0     UK                1.0        NaN  \n2           3.47    10000    0     UK                1.0        NaN  \n3           3.47    10000    0     UK                1.0        NaN  \n4           3.47    10000    0     UK                1.0        NaN  ",
      "text/html": "<div>\n<style scoped>\n    .dataframe tbody tr th:only-of-type {\n        vertical-align: middle;\n    }\n\n    .dataframe tbody tr th {\n        vertical-align: top;\n    }\n\n    .dataframe thead th {\n        text-align: right;\n    }\n</style>\n<table border=\"1\" class=\"dataframe\">\n  <thead>\n    <tr style=\"text-align: right;\">\n      <th></th>\n      <th>isbn</th>\n      <th>currency</th>\n      <th>price</th>\n      <th>title</th>\n      <th>pub</th>\n      <th>author</th>\n      <th>supplier</th>\n      <th>discount_x</th>\n      <th>shipping_cost</th>\n      <th>max_qty</th>\n      <th>min</th>\n      <th>origin</th>\n      <th>sea_shipping_cost</th>\n      <th>discount_y</th>\n    </tr>\n  </thead>\n  <tbody>\n    <tr>\n      <th>0</th>\n      <td>9780000002402</td>\n      <td>GBP</td>\n      <td>306.0</td>\n      <td>N/A</td>\n      <td>LWW</td>\n      <td>N/A</td>\n      <td>ABE</td>\n      <td>0.55</td>\n      <td>3.47</td>\n      <td>10000</td>\n      <td>0</td>\n      <td>UK</td>\n      <td>1.0</td>\n      <td>NaN</td>\n    </tr>\n    <tr>\n      <th>1</th>\n      <td>9780000006493</td>\n      <td>GBP</td>\n      <td>772.0</td>\n      <td>N/A</td>\n      <td>LWW</td>\n      <td>N/A</td>\n      <td>ABE</td>\n      <td>0.55</td>\n      <td>3.47</td>\n      <td>10000</td>\n      <td>0</td>\n      <td>UK</td>\n      <td>1.0</td>\n      <td>NaN</td>\n    </tr>\n    <tr>\n      <th>2</th>\n      <td>9780000009883</td>\n      <td>GBP</td>\n      <td>92.0</td>\n      <td>N/A</td>\n      <td>LWW</td>\n      <td>N/A</td>\n      <td>ABE</td>\n      <td>0.55</td>\n      <td>3.47</td>\n      <td>10000</td>\n      <td>0</td>\n      <td>UK</td>\n      <td>1.0</td>\n      <td>NaN</td>\n    </tr>\n    <tr>\n      <th>3</th>\n      <td>9780000003201</td>\n      <td>GBP</td>\n      <td>265.0</td>\n      <td>N/A</td>\n      <td>LWW</td>\n      <td>N/A</td>\n      <td>ABE</td>\n      <td>0.55</td>\n      <td>3.47</td>\n      <td>10000</td>\n      <td>0</td>\n      <td>UK</td>\n      <td>1.0</td>\n      <td>NaN</td>\n    </tr>\n    <tr>\n      <th>4</th>\n      <td>9780000079145</td>\n      <td>GBP</td>\n      <td>67.0</td>\n      <td>N/A</td>\n      <td>LWW</td>\n      <td>N/A</td>\n      <td>ABE</td>\n      <td>0.55</td>\n      <td>3.47</td>\n      <td>10000</td>\n      <td>0</td>\n      <td>UK</td>\n      <td>1.0</td>\n      <td>NaN</td>\n    </tr>\n  </tbody>\n</table>\n</div>"
     },
     "metadata": {},
     "execution_count": 23
    }
   ],
   "source": [
    "sup_biblio_disc = pd.merge(sup_pub_biblio, sp_disc, how='left', on = ['supplier', 'isbn'])\n",
    "sup_biblio_disc.head()"
   ]
  },
  {
   "cell_type": "code",
   "execution_count": 24,
   "metadata": {},
   "outputs": [
    {
     "output_type": "execute_result",
     "data": {
      "text/plain": "            isbn currency  price title  pub author supplier  discount_x  \\\n0  9780000002402      GBP  306.0   N/A  LWW    N/A      ABE        0.55   \n1  9780000006493      GBP  772.0   N/A  LWW    N/A      ABE        0.55   \n2  9780000009883      GBP   92.0   N/A  LWW    N/A      ABE        0.55   \n3  9780000003201      GBP  265.0   N/A  LWW    N/A      ABE        0.55   \n4  9780000079145      GBP   67.0   N/A  LWW    N/A      ABE        0.55   \n\n   shipping_cost  max_qty  min origin  sea_shipping_cost discount_y discount  \n0           3.47    10000    0     UK                1.0        NaN     0.55  \n1           3.47    10000    0     UK                1.0        NaN     0.55  \n2           3.47    10000    0     UK                1.0        NaN     0.55  \n3           3.47    10000    0     UK                1.0        NaN     0.55  \n4           3.47    10000    0     UK                1.0        NaN     0.55  ",
      "text/html": "<div>\n<style scoped>\n    .dataframe tbody tr th:only-of-type {\n        vertical-align: middle;\n    }\n\n    .dataframe tbody tr th {\n        vertical-align: top;\n    }\n\n    .dataframe thead th {\n        text-align: right;\n    }\n</style>\n<table border=\"1\" class=\"dataframe\">\n  <thead>\n    <tr style=\"text-align: right;\">\n      <th></th>\n      <th>isbn</th>\n      <th>currency</th>\n      <th>price</th>\n      <th>title</th>\n      <th>pub</th>\n      <th>author</th>\n      <th>supplier</th>\n      <th>discount_x</th>\n      <th>shipping_cost</th>\n      <th>max_qty</th>\n      <th>min</th>\n      <th>origin</th>\n      <th>sea_shipping_cost</th>\n      <th>discount_y</th>\n      <th>discount</th>\n    </tr>\n  </thead>\n  <tbody>\n    <tr>\n      <th>0</th>\n      <td>9780000002402</td>\n      <td>GBP</td>\n      <td>306.0</td>\n      <td>N/A</td>\n      <td>LWW</td>\n      <td>N/A</td>\n      <td>ABE</td>\n      <td>0.55</td>\n      <td>3.47</td>\n      <td>10000</td>\n      <td>0</td>\n      <td>UK</td>\n      <td>1.0</td>\n      <td>NaN</td>\n      <td>0.55</td>\n    </tr>\n    <tr>\n      <th>1</th>\n      <td>9780000006493</td>\n      <td>GBP</td>\n      <td>772.0</td>\n      <td>N/A</td>\n      <td>LWW</td>\n      <td>N/A</td>\n      <td>ABE</td>\n      <td>0.55</td>\n      <td>3.47</td>\n      <td>10000</td>\n      <td>0</td>\n      <td>UK</td>\n      <td>1.0</td>\n      <td>NaN</td>\n      <td>0.55</td>\n    </tr>\n    <tr>\n      <th>2</th>\n      <td>9780000009883</td>\n      <td>GBP</td>\n      <td>92.0</td>\n      <td>N/A</td>\n      <td>LWW</td>\n      <td>N/A</td>\n      <td>ABE</td>\n      <td>0.55</td>\n      <td>3.47</td>\n      <td>10000</td>\n      <td>0</td>\n      <td>UK</td>\n      <td>1.0</td>\n      <td>NaN</td>\n      <td>0.55</td>\n    </tr>\n    <tr>\n      <th>3</th>\n      <td>9780000003201</td>\n      <td>GBP</td>\n      <td>265.0</td>\n      <td>N/A</td>\n      <td>LWW</td>\n      <td>N/A</td>\n      <td>ABE</td>\n      <td>0.55</td>\n      <td>3.47</td>\n      <td>10000</td>\n      <td>0</td>\n      <td>UK</td>\n      <td>1.0</td>\n      <td>NaN</td>\n      <td>0.55</td>\n    </tr>\n    <tr>\n      <th>4</th>\n      <td>9780000079145</td>\n      <td>GBP</td>\n      <td>67.0</td>\n      <td>N/A</td>\n      <td>LWW</td>\n      <td>N/A</td>\n      <td>ABE</td>\n      <td>0.55</td>\n      <td>3.47</td>\n      <td>10000</td>\n      <td>0</td>\n      <td>UK</td>\n      <td>1.0</td>\n      <td>NaN</td>\n      <td>0.55</td>\n    </tr>\n  </tbody>\n</table>\n</div>"
     },
     "metadata": {},
     "execution_count": 24
    }
   ],
   "source": [
    "sup_biblio_disc['discount'] = np.where(sup_biblio_disc['discount_y'].isna(), sup_biblio_disc['discount_x'],sup_biblio_disc['discount_y'])\n",
    "\n",
    "\n",
    "#Drop unneccessary Columns\n",
    "\n",
    "sup_biblio_disc.head()"
   ]
  },
  {
   "cell_type": "code",
   "execution_count": 25,
   "metadata": {},
   "outputs": [
    {
     "output_type": "execute_result",
     "data": {
      "text/plain": "            isbn title  pub author supplier currency  price discount  \\\n0  9780000002402   N/A  LWW    N/A      ABE      GBP  306.0     0.55   \n1  9780000006493   N/A  LWW    N/A      ABE      GBP  772.0     0.55   \n2  9780000009883   N/A  LWW    N/A      ABE      GBP   92.0     0.55   \n3  9780000003201   N/A  LWW    N/A      ABE      GBP  265.0     0.55   \n4  9780000079145   N/A  LWW    N/A      ABE      GBP   67.0     0.55   \n\n   shipping_cost  sea_shipping_cost  max_qty origin  \n0           3.47                1.0    10000     UK  \n1           3.47                1.0    10000     UK  \n2           3.47                1.0    10000     UK  \n3           3.47                1.0    10000     UK  \n4           3.47                1.0    10000     UK  ",
      "text/html": "<div>\n<style scoped>\n    .dataframe tbody tr th:only-of-type {\n        vertical-align: middle;\n    }\n\n    .dataframe tbody tr th {\n        vertical-align: top;\n    }\n\n    .dataframe thead th {\n        text-align: right;\n    }\n</style>\n<table border=\"1\" class=\"dataframe\">\n  <thead>\n    <tr style=\"text-align: right;\">\n      <th></th>\n      <th>isbn</th>\n      <th>title</th>\n      <th>pub</th>\n      <th>author</th>\n      <th>supplier</th>\n      <th>currency</th>\n      <th>price</th>\n      <th>discount</th>\n      <th>shipping_cost</th>\n      <th>sea_shipping_cost</th>\n      <th>max_qty</th>\n      <th>origin</th>\n    </tr>\n  </thead>\n  <tbody>\n    <tr>\n      <th>0</th>\n      <td>9780000002402</td>\n      <td>N/A</td>\n      <td>LWW</td>\n      <td>N/A</td>\n      <td>ABE</td>\n      <td>GBP</td>\n      <td>306.0</td>\n      <td>0.55</td>\n      <td>3.47</td>\n      <td>1.0</td>\n      <td>10000</td>\n      <td>UK</td>\n    </tr>\n    <tr>\n      <th>1</th>\n      <td>9780000006493</td>\n      <td>N/A</td>\n      <td>LWW</td>\n      <td>N/A</td>\n      <td>ABE</td>\n      <td>GBP</td>\n      <td>772.0</td>\n      <td>0.55</td>\n      <td>3.47</td>\n      <td>1.0</td>\n      <td>10000</td>\n      <td>UK</td>\n    </tr>\n    <tr>\n      <th>2</th>\n      <td>9780000009883</td>\n      <td>N/A</td>\n      <td>LWW</td>\n      <td>N/A</td>\n      <td>ABE</td>\n      <td>GBP</td>\n      <td>92.0</td>\n      <td>0.55</td>\n      <td>3.47</td>\n      <td>1.0</td>\n      <td>10000</td>\n      <td>UK</td>\n    </tr>\n    <tr>\n      <th>3</th>\n      <td>9780000003201</td>\n      <td>N/A</td>\n      <td>LWW</td>\n      <td>N/A</td>\n      <td>ABE</td>\n      <td>GBP</td>\n      <td>265.0</td>\n      <td>0.55</td>\n      <td>3.47</td>\n      <td>1.0</td>\n      <td>10000</td>\n      <td>UK</td>\n    </tr>\n    <tr>\n      <th>4</th>\n      <td>9780000079145</td>\n      <td>N/A</td>\n      <td>LWW</td>\n      <td>N/A</td>\n      <td>ABE</td>\n      <td>GBP</td>\n      <td>67.0</td>\n      <td>0.55</td>\n      <td>3.47</td>\n      <td>1.0</td>\n      <td>10000</td>\n      <td>UK</td>\n    </tr>\n  </tbody>\n</table>\n</div>"
     },
     "metadata": {},
     "execution_count": 25
    }
   ],
   "source": [
    "sup_biblio_disc = sup_biblio_disc[['isbn', 'title', 'pub', 'author', 'supplier', 'currency', 'price', 'discount', 'shipping_cost', 'sea_shipping_cost', 'max_qty', 'origin']]\n",
    "sup_biblio_disc.head()"
   ]
  },
  {
   "cell_type": "markdown",
   "metadata": {},
   "source": [
    "### 4.6 Create table for WC"
   ]
  },
  {
   "cell_type": "code",
   "execution_count": 26,
   "metadata": {},
   "outputs": [
    {
     "output_type": "execute_result",
     "data": {
      "text/plain": "              isbn   title             pub              author supplier  \\\n129  9780002007580     N/A             N/A                 N/A       WC   \n146  9780006393443     N/A             N/A                 N/A       WC   \n147  9780006393733     N/A             N/A                 N/A       WC   \n148  9780006393825     N/A             N/A                 N/A       WC   \n149  9780006393832  GILEAD  HARPER COLLINS  MARILYNNE ROBINSON       WC   \n\n    currency  price  discount  shipping_cost  sea_shipping_cost  max_qty  \\\n129      CAD  22.95       0.1              2                  2    10000   \n146      CAD   7.99       0.1              2                  2    10000   \n147      CAD  19.95       0.1              2                  2    10000   \n148      CAD  19.95       0.1              2                  2    10000   \n149      CAD  18.95       0.1              2                  2    10000   \n\n    origin  \n129    CAN  \n146    CAN  \n147    CAN  \n148    CAN  \n149    CAN  ",
      "text/html": "<div>\n<style scoped>\n    .dataframe tbody tr th:only-of-type {\n        vertical-align: middle;\n    }\n\n    .dataframe tbody tr th {\n        vertical-align: top;\n    }\n\n    .dataframe thead th {\n        text-align: right;\n    }\n</style>\n<table border=\"1\" class=\"dataframe\">\n  <thead>\n    <tr style=\"text-align: right;\">\n      <th></th>\n      <th>isbn</th>\n      <th>title</th>\n      <th>pub</th>\n      <th>author</th>\n      <th>supplier</th>\n      <th>currency</th>\n      <th>price</th>\n      <th>discount</th>\n      <th>shipping_cost</th>\n      <th>sea_shipping_cost</th>\n      <th>max_qty</th>\n      <th>origin</th>\n    </tr>\n  </thead>\n  <tbody>\n    <tr>\n      <th>129</th>\n      <td>9780002007580</td>\n      <td>N/A</td>\n      <td>N/A</td>\n      <td>N/A</td>\n      <td>WC</td>\n      <td>CAD</td>\n      <td>22.95</td>\n      <td>0.1</td>\n      <td>2</td>\n      <td>2</td>\n      <td>10000</td>\n      <td>CAN</td>\n    </tr>\n    <tr>\n      <th>146</th>\n      <td>9780006393443</td>\n      <td>N/A</td>\n      <td>N/A</td>\n      <td>N/A</td>\n      <td>WC</td>\n      <td>CAD</td>\n      <td>7.99</td>\n      <td>0.1</td>\n      <td>2</td>\n      <td>2</td>\n      <td>10000</td>\n      <td>CAN</td>\n    </tr>\n    <tr>\n      <th>147</th>\n      <td>9780006393733</td>\n      <td>N/A</td>\n      <td>N/A</td>\n      <td>N/A</td>\n      <td>WC</td>\n      <td>CAD</td>\n      <td>19.95</td>\n      <td>0.1</td>\n      <td>2</td>\n      <td>2</td>\n      <td>10000</td>\n      <td>CAN</td>\n    </tr>\n    <tr>\n      <th>148</th>\n      <td>9780006393825</td>\n      <td>N/A</td>\n      <td>N/A</td>\n      <td>N/A</td>\n      <td>WC</td>\n      <td>CAD</td>\n      <td>19.95</td>\n      <td>0.1</td>\n      <td>2</td>\n      <td>2</td>\n      <td>10000</td>\n      <td>CAN</td>\n    </tr>\n    <tr>\n      <th>149</th>\n      <td>9780006393832</td>\n      <td>GILEAD</td>\n      <td>HARPER COLLINS</td>\n      <td>MARILYNNE ROBINSON</td>\n      <td>WC</td>\n      <td>CAD</td>\n      <td>18.95</td>\n      <td>0.1</td>\n      <td>2</td>\n      <td>2</td>\n      <td>10000</td>\n      <td>CAN</td>\n    </tr>\n  </tbody>\n</table>\n</div>"
     },
     "metadata": {},
     "execution_count": 26
    }
   ],
   "source": [
    "can_sup = biblio_lp[biblio_lp['currency'] == 'CND']\n",
    "can_sup.columns = map(str.lower, can_sup.columns)\n",
    "can_sup['supplier'] = 'WC'\n",
    "can_sup['discount'] = np.where(can_sup['price']<150, 0.1, np.where((can_sup['price'] >=150) & (can_sup['price']<200),0.12,0.14))\n",
    "can_sup['max_qty'] = 10000\n",
    "can_sup['origin'] = 'CAN'\n",
    "can_sup['shipping_cost'] = 2\n",
    "can_sup.rename(columns={'publisher': 'pub'}, inplace = True)\n",
    "can_sup['currency'] = 'CAD'\n",
    "can_sup['sea_shipping_cost'] = 2\n",
    "\n",
    "can_sup = can_sup[['isbn', 'title', 'pub', 'author', 'supplier', 'currency', 'price', 'discount', 'shipping_cost','sea_shipping_cost' , 'max_qty', 'origin']]\n",
    "\n",
    "can_sup.head()"
   ]
  },
  {
   "cell_type": "markdown",
   "metadata": {},
   "source": [
    "## 5. Append SupplierMegaLis, PublisherSuppliers and WesterCampus"
   ]
  },
  {
   "cell_type": "code",
   "execution_count": 27,
   "metadata": {},
   "outputs": [
    {
     "output_type": "execute_result",
     "data": {
      "text/plain": "isbn                   0\ntitle                458\npub                  458\nauthor               458\nsupplier               0\ncurrency               0\nprice                  0\ndiscount               0\nshipping_cost          0\nsea_shipping_cost      0\nmax_qty                0\norigin                 0\ndtype: int64"
     },
     "metadata": {},
     "execution_count": 27
    }
   ],
   "source": [
    "all_sup = megalist_pub.append([sup_biblio_disc, can_sup], ignore_index= True)\n",
    "\n",
    "all_sup_biblio = pd.merge(all_sup,biblio[['isbn', 'publisher']] , how='left', on = 'isbn')\n",
    "\n",
    "all_sup_biblio['pub'] = np.where(all_sup_biblio['pub'].isna(), all_sup_biblio['publisher'], all_sup_biblio['pub'])\n",
    "\n",
    "all_sup = all_sup_biblio[['isbn', 'title', 'pub', 'author', 'supplier', 'currency', 'price', 'discount', 'shipping_cost','sea_shipping_cost' , 'max_qty', 'origin']]\n",
    "all_sup['sea_shipping_cost'] = np.where( (all_sup['origin'] == 'US') | (all_sup['origin'] == 'CAN') , all_sup['shipping_cost'], all_sup['sea_shipping_cost'])\n",
    "all_sup.isna().sum()"
   ]
  },
  {
   "cell_type": "markdown",
   "metadata": {},
   "source": [
    "## 6. Add Fees"
   ]
  },
  {
   "cell_type": "code",
   "execution_count": 28,
   "metadata": {},
   "outputs": [
    {
     "output_type": "execute_result",
     "data": {
      "text/plain": "            isbn title               pub author supplier currency  price  \\\n0  9780262530873   N/A  UNIVERSITY PRESS    N/A  BILLSON      GBP   4.99   \n1  9780262530989   N/A  UNIVERSITY PRESS    N/A  BILLSON      GBP  25.00   \n2  9781861345806   N/A   THAMES & HUDSON    N/A   ZOOKAL      AUD  28.00   \n3  9780262531092   N/A  UNIVERSITY PRESS    N/A  BILLSON      GBP  37.95   \n4  9781861345837   N/A   THAMES & HUDSON    N/A   ZOOKAL      AUD  35.00   \n\n  discount  shipping_cost  sea_shipping_cost  max_qty origin  invoice_fee  \\\n0     0.38           3.47                1.0     1000     UK          0.0   \n1     0.38           3.47                1.0     1000     UK          0.0   \n2        0           3.47                1.0      150    AUS          0.0   \n3     0.38           3.47                1.0     1000     UK          0.0   \n4        0           3.47                1.0      150    AUS          0.0   \n\n   lp_fee  \n0     0.0  \n1     0.0  \n2     0.0  \n3     0.0  \n4     0.0  ",
      "text/html": "<div>\n<style scoped>\n    .dataframe tbody tr th:only-of-type {\n        vertical-align: middle;\n    }\n\n    .dataframe tbody tr th {\n        vertical-align: top;\n    }\n\n    .dataframe thead th {\n        text-align: right;\n    }\n</style>\n<table border=\"1\" class=\"dataframe\">\n  <thead>\n    <tr style=\"text-align: right;\">\n      <th></th>\n      <th>isbn</th>\n      <th>title</th>\n      <th>pub</th>\n      <th>author</th>\n      <th>supplier</th>\n      <th>currency</th>\n      <th>price</th>\n      <th>discount</th>\n      <th>shipping_cost</th>\n      <th>sea_shipping_cost</th>\n      <th>max_qty</th>\n      <th>origin</th>\n      <th>invoice_fee</th>\n      <th>lp_fee</th>\n    </tr>\n  </thead>\n  <tbody>\n    <tr>\n      <th>0</th>\n      <td>9780262530873</td>\n      <td>N/A</td>\n      <td>UNIVERSITY PRESS</td>\n      <td>N/A</td>\n      <td>BILLSON</td>\n      <td>GBP</td>\n      <td>4.99</td>\n      <td>0.38</td>\n      <td>3.47</td>\n      <td>1.0</td>\n      <td>1000</td>\n      <td>UK</td>\n      <td>0.0</td>\n      <td>0.0</td>\n    </tr>\n    <tr>\n      <th>1</th>\n      <td>9780262530989</td>\n      <td>N/A</td>\n      <td>UNIVERSITY PRESS</td>\n      <td>N/A</td>\n      <td>BILLSON</td>\n      <td>GBP</td>\n      <td>25.00</td>\n      <td>0.38</td>\n      <td>3.47</td>\n      <td>1.0</td>\n      <td>1000</td>\n      <td>UK</td>\n      <td>0.0</td>\n      <td>0.0</td>\n    </tr>\n    <tr>\n      <th>2</th>\n      <td>9781861345806</td>\n      <td>N/A</td>\n      <td>THAMES &amp; HUDSON</td>\n      <td>N/A</td>\n      <td>ZOOKAL</td>\n      <td>AUD</td>\n      <td>28.00</td>\n      <td>0</td>\n      <td>3.47</td>\n      <td>1.0</td>\n      <td>150</td>\n      <td>AUS</td>\n      <td>0.0</td>\n      <td>0.0</td>\n    </tr>\n    <tr>\n      <th>3</th>\n      <td>9780262531092</td>\n      <td>N/A</td>\n      <td>UNIVERSITY PRESS</td>\n      <td>N/A</td>\n      <td>BILLSON</td>\n      <td>GBP</td>\n      <td>37.95</td>\n      <td>0.38</td>\n      <td>3.47</td>\n      <td>1.0</td>\n      <td>1000</td>\n      <td>UK</td>\n      <td>0.0</td>\n      <td>0.0</td>\n    </tr>\n    <tr>\n      <th>4</th>\n      <td>9781861345837</td>\n      <td>N/A</td>\n      <td>THAMES &amp; HUDSON</td>\n      <td>N/A</td>\n      <td>ZOOKAL</td>\n      <td>AUD</td>\n      <td>35.00</td>\n      <td>0</td>\n      <td>3.47</td>\n      <td>1.0</td>\n      <td>150</td>\n      <td>AUS</td>\n      <td>0.0</td>\n      <td>0.0</td>\n    </tr>\n  </tbody>\n</table>\n</div>"
     },
     "metadata": {},
     "execution_count": 28
    }
   ],
   "source": [
    "#Invoice Fee\n",
    "all_sup['invoice_fee'] = np.where(     # IF\n",
    "    all_sup['supplier'].str.contains('ALEK'), 0.005,   #Condition and True\n",
    "    np.where(  # IF False\n",
    "        (all_sup['supplier'].str.contains('LAURENTIU')) | (all_sup['supplier'].str.contains('SENAD')),0.02,   #Condition and True\n",
    "        np.where(  #IF FALSE\n",
    "            (all_sup['supplier'].str.contains('ARMANDO')) | (all_sup['supplier'].str.contains('FELIPE')),0.01, #Condition and True\n",
    "            np.where(   #IF FALSE\n",
    "                (all_sup['supplier'] == 'COINFO'), -1/11, #Condition and True\n",
    "                0)   # FALSE\n",
    "                )\n",
    "                )\n",
    "                )\n",
    "# lp_fee\n",
    "\n",
    "all_sup['lp_fee'] = np.where(\n",
    "    (all_sup['supplier'].str.contains('BILLSON') & (all_sup['discount'] == 0 )), 0.03,0)\n",
    "\n",
    "all_sup.head()"
   ]
  },
  {
   "cell_type": "markdown",
   "metadata": {},
   "source": [
    "## 7. import and Merge exchage rate with all suppliers"
   ]
  },
  {
   "cell_type": "code",
   "execution_count": 29,
   "metadata": {},
   "outputs": [
    {
     "output_type": "execute_result",
     "data": {
      "text/plain": "            isbn title               pub author supplier currency  price  \\\n0  9780262530873   N/A  UNIVERSITY PRESS    N/A  BILLSON      GBP   4.99   \n1  9780262530989   N/A  UNIVERSITY PRESS    N/A  BILLSON      GBP  25.00   \n2  9781861345806   N/A   THAMES & HUDSON    N/A   ZOOKAL      AUD  28.00   \n3  9780262531092   N/A  UNIVERSITY PRESS    N/A  BILLSON      GBP  37.95   \n4  9781861345837   N/A   THAMES & HUDSON    N/A   ZOOKAL      AUD  35.00   \n\n  discount  shipping_cost  sea_shipping_cost  max_qty origin  invoice_fee  \\\n0     0.38           3.47                1.0     1000     UK          0.0   \n1     0.38           3.47                1.0     1000     UK          0.0   \n2        0           3.47                1.0      150    AUS          0.0   \n3     0.38           3.47                1.0     1000     UK          0.0   \n4        0           3.47                1.0      150    AUS          0.0   \n\n   lp_fee      rate  \n0     0.0  1.245904  \n1     0.0  1.245904  \n2     0.0  0.691870  \n3     0.0  1.245904  \n4     0.0  0.691870  ",
      "text/html": "<div>\n<style scoped>\n    .dataframe tbody tr th:only-of-type {\n        vertical-align: middle;\n    }\n\n    .dataframe tbody tr th {\n        vertical-align: top;\n    }\n\n    .dataframe thead th {\n        text-align: right;\n    }\n</style>\n<table border=\"1\" class=\"dataframe\">\n  <thead>\n    <tr style=\"text-align: right;\">\n      <th></th>\n      <th>isbn</th>\n      <th>title</th>\n      <th>pub</th>\n      <th>author</th>\n      <th>supplier</th>\n      <th>currency</th>\n      <th>price</th>\n      <th>discount</th>\n      <th>shipping_cost</th>\n      <th>sea_shipping_cost</th>\n      <th>max_qty</th>\n      <th>origin</th>\n      <th>invoice_fee</th>\n      <th>lp_fee</th>\n      <th>rate</th>\n    </tr>\n  </thead>\n  <tbody>\n    <tr>\n      <th>0</th>\n      <td>9780262530873</td>\n      <td>N/A</td>\n      <td>UNIVERSITY PRESS</td>\n      <td>N/A</td>\n      <td>BILLSON</td>\n      <td>GBP</td>\n      <td>4.99</td>\n      <td>0.38</td>\n      <td>3.47</td>\n      <td>1.0</td>\n      <td>1000</td>\n      <td>UK</td>\n      <td>0.0</td>\n      <td>0.0</td>\n      <td>1.245904</td>\n    </tr>\n    <tr>\n      <th>1</th>\n      <td>9780262530989</td>\n      <td>N/A</td>\n      <td>UNIVERSITY PRESS</td>\n      <td>N/A</td>\n      <td>BILLSON</td>\n      <td>GBP</td>\n      <td>25.00</td>\n      <td>0.38</td>\n      <td>3.47</td>\n      <td>1.0</td>\n      <td>1000</td>\n      <td>UK</td>\n      <td>0.0</td>\n      <td>0.0</td>\n      <td>1.245904</td>\n    </tr>\n    <tr>\n      <th>2</th>\n      <td>9781861345806</td>\n      <td>N/A</td>\n      <td>THAMES &amp; HUDSON</td>\n      <td>N/A</td>\n      <td>ZOOKAL</td>\n      <td>AUD</td>\n      <td>28.00</td>\n      <td>0</td>\n      <td>3.47</td>\n      <td>1.0</td>\n      <td>150</td>\n      <td>AUS</td>\n      <td>0.0</td>\n      <td>0.0</td>\n      <td>0.691870</td>\n    </tr>\n    <tr>\n      <th>3</th>\n      <td>9780262531092</td>\n      <td>N/A</td>\n      <td>UNIVERSITY PRESS</td>\n      <td>N/A</td>\n      <td>BILLSON</td>\n      <td>GBP</td>\n      <td>37.95</td>\n      <td>0.38</td>\n      <td>3.47</td>\n      <td>1.0</td>\n      <td>1000</td>\n      <td>UK</td>\n      <td>0.0</td>\n      <td>0.0</td>\n      <td>1.245904</td>\n    </tr>\n    <tr>\n      <th>4</th>\n      <td>9781861345837</td>\n      <td>N/A</td>\n      <td>THAMES &amp; HUDSON</td>\n      <td>N/A</td>\n      <td>ZOOKAL</td>\n      <td>AUD</td>\n      <td>35.00</td>\n      <td>0</td>\n      <td>3.47</td>\n      <td>1.0</td>\n      <td>150</td>\n      <td>AUS</td>\n      <td>0.0</td>\n      <td>0.0</td>\n      <td>0.691870</td>\n    </tr>\n  </tbody>\n</table>\n</div>"
     },
     "metadata": {},
     "execution_count": 29
    }
   ],
   "source": [
    "exch_df = pd.read_sql(exchange_rate,proc_db)\n",
    "exch_df.rename(columns={'name': 'currency'}, inplace = True)\n",
    "all_sup_exc = pd.merge(all_sup, exch_df, how='left', on = 'currency')\n",
    "all_sup_exc.head()"
   ]
  },
  {
   "cell_type": "markdown",
   "metadata": {},
   "source": [
    "## 8. Cost Before exchange rate and landed cost"
   ]
  },
  {
   "cell_type": "code",
   "execution_count": 30,
   "metadata": {},
   "outputs": [
    {
     "output_type": "execute_result",
     "data": {
      "text/plain": "            isbn title               pub author supplier currency  price  \\\n0  9780262530873   N/A  UNIVERSITY PRESS    N/A  BILLSON      GBP   4.99   \n1  9780262530989   N/A  UNIVERSITY PRESS    N/A  BILLSON      GBP  25.00   \n2  9781861345806   N/A   THAMES & HUDSON    N/A   ZOOKAL      AUD  28.00   \n3  9780262531092   N/A  UNIVERSITY PRESS    N/A  BILLSON      GBP  37.95   \n4  9781861345837   N/A   THAMES & HUDSON    N/A   ZOOKAL      AUD  35.00   \n\n  discount  shipping_cost  sea_shipping_cost  max_qty origin  invoice_fee  \\\n0     0.38           3.47                1.0     1000     UK          0.0   \n1     0.38           3.47                1.0     1000     UK          0.0   \n2        0           3.47                1.0      150    AUS          0.0   \n3     0.38           3.47                1.0     1000     UK          0.0   \n4        0           3.47                1.0      150    AUS          0.0   \n\n   lp_fee      rate inv_price_before_exc regular_landed_cost sea_landed_cost  \n0     0.0  1.245904               3.0938             7.32458         4.85458  \n1     0.0  1.245904                 15.5             22.7815         20.3115  \n2     0.0  0.691870                   28             22.8424         20.3724  \n3     0.0  1.245904               23.529             32.7849         30.3149  \n4     0.0  0.691870                   35             27.6855         25.2155  ",
      "text/html": "<div>\n<style scoped>\n    .dataframe tbody tr th:only-of-type {\n        vertical-align: middle;\n    }\n\n    .dataframe tbody tr th {\n        vertical-align: top;\n    }\n\n    .dataframe thead th {\n        text-align: right;\n    }\n</style>\n<table border=\"1\" class=\"dataframe\">\n  <thead>\n    <tr style=\"text-align: right;\">\n      <th></th>\n      <th>isbn</th>\n      <th>title</th>\n      <th>pub</th>\n      <th>author</th>\n      <th>supplier</th>\n      <th>currency</th>\n      <th>price</th>\n      <th>discount</th>\n      <th>shipping_cost</th>\n      <th>sea_shipping_cost</th>\n      <th>max_qty</th>\n      <th>origin</th>\n      <th>invoice_fee</th>\n      <th>lp_fee</th>\n      <th>rate</th>\n      <th>inv_price_before_exc</th>\n      <th>regular_landed_cost</th>\n      <th>sea_landed_cost</th>\n    </tr>\n  </thead>\n  <tbody>\n    <tr>\n      <th>0</th>\n      <td>9780262530873</td>\n      <td>N/A</td>\n      <td>UNIVERSITY PRESS</td>\n      <td>N/A</td>\n      <td>BILLSON</td>\n      <td>GBP</td>\n      <td>4.99</td>\n      <td>0.38</td>\n      <td>3.47</td>\n      <td>1.0</td>\n      <td>1000</td>\n      <td>UK</td>\n      <td>0.0</td>\n      <td>0.0</td>\n      <td>1.245904</td>\n      <td>3.0938</td>\n      <td>7.32458</td>\n      <td>4.85458</td>\n    </tr>\n    <tr>\n      <th>1</th>\n      <td>9780262530989</td>\n      <td>N/A</td>\n      <td>UNIVERSITY PRESS</td>\n      <td>N/A</td>\n      <td>BILLSON</td>\n      <td>GBP</td>\n      <td>25.00</td>\n      <td>0.38</td>\n      <td>3.47</td>\n      <td>1.0</td>\n      <td>1000</td>\n      <td>UK</td>\n      <td>0.0</td>\n      <td>0.0</td>\n      <td>1.245904</td>\n      <td>15.5</td>\n      <td>22.7815</td>\n      <td>20.3115</td>\n    </tr>\n    <tr>\n      <th>2</th>\n      <td>9781861345806</td>\n      <td>N/A</td>\n      <td>THAMES &amp; HUDSON</td>\n      <td>N/A</td>\n      <td>ZOOKAL</td>\n      <td>AUD</td>\n      <td>28.00</td>\n      <td>0</td>\n      <td>3.47</td>\n      <td>1.0</td>\n      <td>150</td>\n      <td>AUS</td>\n      <td>0.0</td>\n      <td>0.0</td>\n      <td>0.691870</td>\n      <td>28</td>\n      <td>22.8424</td>\n      <td>20.3724</td>\n    </tr>\n    <tr>\n      <th>3</th>\n      <td>9780262531092</td>\n      <td>N/A</td>\n      <td>UNIVERSITY PRESS</td>\n      <td>N/A</td>\n      <td>BILLSON</td>\n      <td>GBP</td>\n      <td>37.95</td>\n      <td>0.38</td>\n      <td>3.47</td>\n      <td>1.0</td>\n      <td>1000</td>\n      <td>UK</td>\n      <td>0.0</td>\n      <td>0.0</td>\n      <td>1.245904</td>\n      <td>23.529</td>\n      <td>32.7849</td>\n      <td>30.3149</td>\n    </tr>\n    <tr>\n      <th>4</th>\n      <td>9781861345837</td>\n      <td>N/A</td>\n      <td>THAMES &amp; HUDSON</td>\n      <td>N/A</td>\n      <td>ZOOKAL</td>\n      <td>AUD</td>\n      <td>35.00</td>\n      <td>0</td>\n      <td>3.47</td>\n      <td>1.0</td>\n      <td>150</td>\n      <td>AUS</td>\n      <td>0.0</td>\n      <td>0.0</td>\n      <td>0.691870</td>\n      <td>35</td>\n      <td>27.6855</td>\n      <td>25.2155</td>\n    </tr>\n  </tbody>\n</table>\n</div>"
     },
     "metadata": {},
     "execution_count": 30
    }
   ],
   "source": [
    "all_sup_exc['inv_price_before_exc'] = all_sup_exc['price']*(1-all_sup_exc['discount']+all_sup_exc['lp_fee']*(1+all_sup_exc['invoice_fee']))\n",
    "all_sup_exc['regular_landed_cost'] = all_sup_exc['inv_price_before_exc'] * all_sup_exc['rate'] + all_sup_exc['shipping_cost']\n",
    "all_sup_exc['sea_landed_cost'] = all_sup_exc['inv_price_before_exc'] * all_sup_exc['rate'] + all_sup_exc['sea_shipping_cost']\n",
    "all_sup_exc.head()"
   ]
  },
  {
   "cell_type": "markdown",
   "metadata": {},
   "source": [
    "## 9. Restrictions"
   ]
  },
  {
   "cell_type": "code",
   "execution_count": 31,
   "metadata": {},
   "outputs": [
    {
     "output_type": "execute_result",
     "data": {
      "text/plain": "            isbn vendor\n0  9780323567428  RISKY\n1  9780500292105  RISKY\n2  9781936523443  RISKY\n3  9780134149530  RISKY\n4  9780134205588  RISKY",
      "text/html": "<div>\n<style scoped>\n    .dataframe tbody tr th:only-of-type {\n        vertical-align: middle;\n    }\n\n    .dataframe tbody tr th {\n        vertical-align: top;\n    }\n\n    .dataframe thead th {\n        text-align: right;\n    }\n</style>\n<table border=\"1\" class=\"dataframe\">\n  <thead>\n    <tr style=\"text-align: right;\">\n      <th></th>\n      <th>isbn</th>\n      <th>vendor</th>\n    </tr>\n  </thead>\n  <tbody>\n    <tr>\n      <th>0</th>\n      <td>9780323567428</td>\n      <td>RISKY</td>\n    </tr>\n    <tr>\n      <th>1</th>\n      <td>9780500292105</td>\n      <td>RISKY</td>\n    </tr>\n    <tr>\n      <th>2</th>\n      <td>9781936523443</td>\n      <td>RISKY</td>\n    </tr>\n    <tr>\n      <th>3</th>\n      <td>9780134149530</td>\n      <td>RISKY</td>\n    </tr>\n    <tr>\n      <th>4</th>\n      <td>9780134205588</td>\n      <td>RISKY</td>\n    </tr>\n  </tbody>\n</table>\n</div>"
     },
     "metadata": {},
     "execution_count": 31
    }
   ],
   "source": [
    "rest = pd.read_excel(\"../../../../Vendors/. Restrictions\\All Restricted List.xlsx\")\n",
    "rest.columns = map(str.lower, rest.columns)\n",
    "rest.rename(columns={'isbn13': 'isbn'}, inplace = True)\n",
    "rest['isbn'] = rest['isbn'].astype(str)\n",
    "for col in ['isbn', 'vendor']:\n",
    "    rest[col] = rest.apply(lambda x: clean_up(x[col]), axis =1)\n",
    "\n",
    "rest = rest[['isbn','vendor']]\n",
    "rest.head()"
   ]
  },
  {
   "cell_type": "code",
   "execution_count": 32,
   "metadata": {},
   "outputs": [],
   "source": [
    "# restricted to all suppliers\n",
    "risky = rest[rest['vendor'] == 'RISKY']\n",
    "all_sup_exc = all_sup_exc[~all_sup_exc['isbn'].isin(list(risky['isbn']))]"
   ]
  },
  {
   "cell_type": "code",
   "execution_count": 33,
   "metadata": {},
   "outputs": [
    {
     "output_type": "execute_result",
     "data": {
      "text/plain": "                isbn                                              title  \\\n24611  9781260187014  PACKAGE: ELEMENTARY STATISTICS: A STEP BY STEP...   \n41779  9781284107913                                                N/A   \n41849  9781284126143                                                N/A   \n42779  9780077831066  MOSAIC LEVEL 2 LISTENING/SPEAKING STUDENT BOOK...   \n59156  9781285769431                        MILADY STANDARD COSMETOLOGY   \n\n           pub                            author supplier currency   price  \\\n24611   MCGRAW                   ALLAN G. BLUMAN    RAJAN      USD  276.65   \n41779      J&B                               N/A    RAJAN      USD   44.95   \n41849      J&B                               N/A    RAJAN      USD   79.95   \n42779   MCGRAW  JAMI HANREDDY; ELIZABETH WHALLEY     ALEK      GBP   42.65   \n59156  CENGAGE                            MILADY   SOHRAB      SGD   83.50   \n\n      discount  shipping_cost  sea_shipping_cost  max_qty     origin  \\\n24611     0.48           0.50                0.5    10000         US   \n41779     0.38           0.50                0.5    10000         US   \n41849     0.38           0.50                0.5    10000         US   \n42779      0.5           3.47                1.0    10000         UK   \n59156        0          10.00                1.2    10000  SINGAPORE   \n\n       invoice_fee  lp_fee      rate inv_price_before_exc regular_landed_cost  \\\n24611        0.000     0.0  1.000000              143.858             144.358   \n41779        0.000     0.0  1.000000               27.869              28.369   \n41849        0.000     0.0  1.000000               49.569              50.069   \n42779        0.005     0.0  1.245904               21.325             30.0389   \n59156        0.000     0.0  0.717983                 83.5             69.9516   \n\n      sea_landed_cost  vendor  \n24611         144.358   RAJAN  \n41779          28.369   RAJAN  \n41849          50.069   RAJAN  \n42779         27.5689    ALEK  \n59156         61.1516  SOHRAB  ",
      "text/html": "<div>\n<style scoped>\n    .dataframe tbody tr th:only-of-type {\n        vertical-align: middle;\n    }\n\n    .dataframe tbody tr th {\n        vertical-align: top;\n    }\n\n    .dataframe thead th {\n        text-align: right;\n    }\n</style>\n<table border=\"1\" class=\"dataframe\">\n  <thead>\n    <tr style=\"text-align: right;\">\n      <th></th>\n      <th>isbn</th>\n      <th>title</th>\n      <th>pub</th>\n      <th>author</th>\n      <th>supplier</th>\n      <th>currency</th>\n      <th>price</th>\n      <th>discount</th>\n      <th>shipping_cost</th>\n      <th>sea_shipping_cost</th>\n      <th>max_qty</th>\n      <th>origin</th>\n      <th>invoice_fee</th>\n      <th>lp_fee</th>\n      <th>rate</th>\n      <th>inv_price_before_exc</th>\n      <th>regular_landed_cost</th>\n      <th>sea_landed_cost</th>\n      <th>vendor</th>\n    </tr>\n  </thead>\n  <tbody>\n    <tr>\n      <th>24611</th>\n      <td>9781260187014</td>\n      <td>PACKAGE: ELEMENTARY STATISTICS: A STEP BY STEP...</td>\n      <td>MCGRAW</td>\n      <td>ALLAN G. BLUMAN</td>\n      <td>RAJAN</td>\n      <td>USD</td>\n      <td>276.65</td>\n      <td>0.48</td>\n      <td>0.50</td>\n      <td>0.5</td>\n      <td>10000</td>\n      <td>US</td>\n      <td>0.000</td>\n      <td>0.0</td>\n      <td>1.000000</td>\n      <td>143.858</td>\n      <td>144.358</td>\n      <td>144.358</td>\n      <td>RAJAN</td>\n    </tr>\n    <tr>\n      <th>41779</th>\n      <td>9781284107913</td>\n      <td>N/A</td>\n      <td>J&amp;B</td>\n      <td>N/A</td>\n      <td>RAJAN</td>\n      <td>USD</td>\n      <td>44.95</td>\n      <td>0.38</td>\n      <td>0.50</td>\n      <td>0.5</td>\n      <td>10000</td>\n      <td>US</td>\n      <td>0.000</td>\n      <td>0.0</td>\n      <td>1.000000</td>\n      <td>27.869</td>\n      <td>28.369</td>\n      <td>28.369</td>\n      <td>RAJAN</td>\n    </tr>\n    <tr>\n      <th>41849</th>\n      <td>9781284126143</td>\n      <td>N/A</td>\n      <td>J&amp;B</td>\n      <td>N/A</td>\n      <td>RAJAN</td>\n      <td>USD</td>\n      <td>79.95</td>\n      <td>0.38</td>\n      <td>0.50</td>\n      <td>0.5</td>\n      <td>10000</td>\n      <td>US</td>\n      <td>0.000</td>\n      <td>0.0</td>\n      <td>1.000000</td>\n      <td>49.569</td>\n      <td>50.069</td>\n      <td>50.069</td>\n      <td>RAJAN</td>\n    </tr>\n    <tr>\n      <th>42779</th>\n      <td>9780077831066</td>\n      <td>MOSAIC LEVEL 2 LISTENING/SPEAKING STUDENT BOOK...</td>\n      <td>MCGRAW</td>\n      <td>JAMI HANREDDY; ELIZABETH WHALLEY</td>\n      <td>ALEK</td>\n      <td>GBP</td>\n      <td>42.65</td>\n      <td>0.5</td>\n      <td>3.47</td>\n      <td>1.0</td>\n      <td>10000</td>\n      <td>UK</td>\n      <td>0.005</td>\n      <td>0.0</td>\n      <td>1.245904</td>\n      <td>21.325</td>\n      <td>30.0389</td>\n      <td>27.5689</td>\n      <td>ALEK</td>\n    </tr>\n    <tr>\n      <th>59156</th>\n      <td>9781285769431</td>\n      <td>MILADY STANDARD COSMETOLOGY</td>\n      <td>CENGAGE</td>\n      <td>MILADY</td>\n      <td>SOHRAB</td>\n      <td>SGD</td>\n      <td>83.50</td>\n      <td>0</td>\n      <td>10.00</td>\n      <td>1.2</td>\n      <td>10000</td>\n      <td>SINGAPORE</td>\n      <td>0.000</td>\n      <td>0.0</td>\n      <td>0.717983</td>\n      <td>83.5</td>\n      <td>69.9516</td>\n      <td>61.1516</td>\n      <td>SOHRAB</td>\n    </tr>\n  </tbody>\n</table>\n</div>"
     },
     "metadata": {},
     "execution_count": 33
    }
   ],
   "source": [
    "# restriction per supplier\n",
    "all_rest = pd.merge(all_sup_exc, rest, how='left', left_on = ['isbn','supplier'], right_on = ['isbn', 'vendor'] )\n",
    "all_rest[~(all_rest['vendor'].isna())].head()"
   ]
  },
  {
   "cell_type": "markdown",
   "metadata": {},
   "source": [
    "## 10. Getting all posible orders for cost_analysis"
   ]
  },
  {
   "cell_type": "code",
   "execution_count": 34,
   "metadata": {},
   "outputs": [
    {
     "output_type": "execute_result",
     "data": {
      "text/plain": "                  isbn                     title                  pub  \\\n2888303  9780786820771                       N/A        HACHETTE LIVE   \n2310759  9780194705493                       N/A        OXFORD UP ELT   \n3691196  9780078022159  DATABASE SYSTEM CONCEPTS               MCGRAW   \n2338862  9780143135241                       N/A  PENGUIN ADULT HC/TR   \n2338866  9780143135265                       N/A  PENGUIN ADULT HC/TR   \n\n                                                    author supplier currency  \\\n2888303                                                N/A     ALEK      USD   \n2310759                                                N/A     ALEK      GBP   \n3691196  KORTH, HENRY F., SUDARSHAN, S., SILBERSCHATZ, ...    RAJAN      USD   \n2338862                                                N/A     ALEK      USD   \n2338866                                                N/A     ALEK      USD   \n\n         price discount  shipping_cost  sea_shipping_cost  max_qty origin  \\\n2888303   0.01     0.59            0.5                0.5     1000     US   \n2310759   0.14     0.43            0.5                0.5    10000     US   \n3691196   0.25     0.48            0.5                0.5    10000     US   \n2338862   1.11     0.66            0.5                0.5      100     US   \n2338866   1.11     0.66            0.5                0.5      100     US   \n\n         invoice_fee  lp_fee      rate inv_price_before_exc  \\\n2888303        0.005     0.0  1.000000               0.0041   \n2310759        0.005     0.0  1.245904               0.0798   \n3691196        0.000     0.0  1.000000                 0.13   \n2338862        0.005     0.0  1.000000               0.3774   \n2338866        0.005     0.0  1.000000               0.3774   \n\n        regular_landed_cost sea_landed_cost  \n2888303              0.5041          0.5041  \n2310759            0.599423        0.599423  \n3691196                0.63            0.63  \n2338862              0.8774          0.8774  \n2338866              0.8774          0.8774  ",
      "text/html": "<div>\n<style scoped>\n    .dataframe tbody tr th:only-of-type {\n        vertical-align: middle;\n    }\n\n    .dataframe tbody tr th {\n        vertical-align: top;\n    }\n\n    .dataframe thead th {\n        text-align: right;\n    }\n</style>\n<table border=\"1\" class=\"dataframe\">\n  <thead>\n    <tr style=\"text-align: right;\">\n      <th></th>\n      <th>isbn</th>\n      <th>title</th>\n      <th>pub</th>\n      <th>author</th>\n      <th>supplier</th>\n      <th>currency</th>\n      <th>price</th>\n      <th>discount</th>\n      <th>shipping_cost</th>\n      <th>sea_shipping_cost</th>\n      <th>max_qty</th>\n      <th>origin</th>\n      <th>invoice_fee</th>\n      <th>lp_fee</th>\n      <th>rate</th>\n      <th>inv_price_before_exc</th>\n      <th>regular_landed_cost</th>\n      <th>sea_landed_cost</th>\n    </tr>\n  </thead>\n  <tbody>\n    <tr>\n      <th>2888303</th>\n      <td>9780786820771</td>\n      <td>N/A</td>\n      <td>HACHETTE LIVE</td>\n      <td>N/A</td>\n      <td>ALEK</td>\n      <td>USD</td>\n      <td>0.01</td>\n      <td>0.59</td>\n      <td>0.5</td>\n      <td>0.5</td>\n      <td>1000</td>\n      <td>US</td>\n      <td>0.005</td>\n      <td>0.0</td>\n      <td>1.000000</td>\n      <td>0.0041</td>\n      <td>0.5041</td>\n      <td>0.5041</td>\n    </tr>\n    <tr>\n      <th>2310759</th>\n      <td>9780194705493</td>\n      <td>N/A</td>\n      <td>OXFORD UP ELT</td>\n      <td>N/A</td>\n      <td>ALEK</td>\n      <td>GBP</td>\n      <td>0.14</td>\n      <td>0.43</td>\n      <td>0.5</td>\n      <td>0.5</td>\n      <td>10000</td>\n      <td>US</td>\n      <td>0.005</td>\n      <td>0.0</td>\n      <td>1.245904</td>\n      <td>0.0798</td>\n      <td>0.599423</td>\n      <td>0.599423</td>\n    </tr>\n    <tr>\n      <th>3691196</th>\n      <td>9780078022159</td>\n      <td>DATABASE SYSTEM CONCEPTS</td>\n      <td>MCGRAW</td>\n      <td>KORTH, HENRY F., SUDARSHAN, S., SILBERSCHATZ, ...</td>\n      <td>RAJAN</td>\n      <td>USD</td>\n      <td>0.25</td>\n      <td>0.48</td>\n      <td>0.5</td>\n      <td>0.5</td>\n      <td>10000</td>\n      <td>US</td>\n      <td>0.000</td>\n      <td>0.0</td>\n      <td>1.000000</td>\n      <td>0.13</td>\n      <td>0.63</td>\n      <td>0.63</td>\n    </tr>\n    <tr>\n      <th>2338862</th>\n      <td>9780143135241</td>\n      <td>N/A</td>\n      <td>PENGUIN ADULT HC/TR</td>\n      <td>N/A</td>\n      <td>ALEK</td>\n      <td>USD</td>\n      <td>1.11</td>\n      <td>0.66</td>\n      <td>0.5</td>\n      <td>0.5</td>\n      <td>100</td>\n      <td>US</td>\n      <td>0.005</td>\n      <td>0.0</td>\n      <td>1.000000</td>\n      <td>0.3774</td>\n      <td>0.8774</td>\n      <td>0.8774</td>\n    </tr>\n    <tr>\n      <th>2338866</th>\n      <td>9780143135265</td>\n      <td>N/A</td>\n      <td>PENGUIN ADULT HC/TR</td>\n      <td>N/A</td>\n      <td>ALEK</td>\n      <td>USD</td>\n      <td>1.11</td>\n      <td>0.66</td>\n      <td>0.5</td>\n      <td>0.5</td>\n      <td>100</td>\n      <td>US</td>\n      <td>0.005</td>\n      <td>0.0</td>\n      <td>1.000000</td>\n      <td>0.3774</td>\n      <td>0.8774</td>\n      <td>0.8774</td>\n    </tr>\n  </tbody>\n</table>\n</div>"
     },
     "metadata": {},
     "execution_count": 34
    }
   ],
   "source": [
    "all_rest.drop(\n",
    "    all_rest[\n",
    "        (all_rest['supplier'] == all_rest['vendor'])\n",
    "        ].index, inplace = True\n",
    ")\n",
    "all_rest.drop(columns=['vendor'], inplace = True)\n",
    "all_rest = all_rest.sort_values(by=['regular_landed_cost'])\n",
    "all_rest.head()"
   ]
  },
  {
   "cell_type": "code",
   "execution_count": 35,
   "metadata": {},
   "outputs": [
    {
     "output_type": "execute_result",
     "data": {
      "text/plain": "                  isbn                     title                  pub  \\\n2888303  9780786820771                       N/A        HACHETTE LIVE   \n2310759  9780194705493                       N/A        OXFORD UP ELT   \n3691196  9780078022159  DATABASE SYSTEM CONCEPTS               MCGRAW   \n2338862  9780143135241                       N/A  PENGUIN ADULT HC/TR   \n2338866  9780143135265                       N/A  PENGUIN ADULT HC/TR   \n\n                                                    author supplier currency  \\\n2888303                                                N/A     ALEK      USD   \n2310759                                                N/A     ALEK      GBP   \n3691196  KORTH, HENRY F., SUDARSHAN, S., SILBERSCHATZ, ...    RAJAN      USD   \n2338862                                                N/A     ALEK      USD   \n2338866                                                N/A     ALEK      USD   \n\n         price  discount  shipping_cost  sea_shipping_cost  max_qty origin  \\\n2888303   0.01      0.59            0.5                0.5     1000     US   \n2310759   0.14      0.43            0.5                0.5    10000     US   \n3691196   0.25      0.48            0.5                0.5    10000     US   \n2338862   1.11      0.66            0.5                0.5      100     US   \n2338866   1.11      0.66            0.5                0.5      100     US   \n\n         invoice_fee  lp_fee      rate  inv_price_before_exc  \\\n2888303        0.005     0.0  1.000000                0.0041   \n2310759        0.005     0.0  1.245904                0.0798   \n3691196        0.000     0.0  1.000000                0.1300   \n2338862        0.005     0.0  1.000000                0.3774   \n2338866        0.005     0.0  1.000000                0.3774   \n\n         regular_landed_cost  sea_landed_cost  \n2888303             0.504100         0.504100  \n2310759             0.599423         0.599423  \n3691196             0.630000         0.630000  \n2338862             0.877400         0.877400  \n2338866             0.877400         0.877400  ",
      "text/html": "<div>\n<style scoped>\n    .dataframe tbody tr th:only-of-type {\n        vertical-align: middle;\n    }\n\n    .dataframe tbody tr th {\n        vertical-align: top;\n    }\n\n    .dataframe thead th {\n        text-align: right;\n    }\n</style>\n<table border=\"1\" class=\"dataframe\">\n  <thead>\n    <tr style=\"text-align: right;\">\n      <th></th>\n      <th>isbn</th>\n      <th>title</th>\n      <th>pub</th>\n      <th>author</th>\n      <th>supplier</th>\n      <th>currency</th>\n      <th>price</th>\n      <th>discount</th>\n      <th>shipping_cost</th>\n      <th>sea_shipping_cost</th>\n      <th>max_qty</th>\n      <th>origin</th>\n      <th>invoice_fee</th>\n      <th>lp_fee</th>\n      <th>rate</th>\n      <th>inv_price_before_exc</th>\n      <th>regular_landed_cost</th>\n      <th>sea_landed_cost</th>\n    </tr>\n  </thead>\n  <tbody>\n    <tr>\n      <th>2888303</th>\n      <td>9780786820771</td>\n      <td>N/A</td>\n      <td>HACHETTE LIVE</td>\n      <td>N/A</td>\n      <td>ALEK</td>\n      <td>USD</td>\n      <td>0.01</td>\n      <td>0.59</td>\n      <td>0.5</td>\n      <td>0.5</td>\n      <td>1000</td>\n      <td>US</td>\n      <td>0.005</td>\n      <td>0.0</td>\n      <td>1.000000</td>\n      <td>0.0041</td>\n      <td>0.504100</td>\n      <td>0.504100</td>\n    </tr>\n    <tr>\n      <th>2310759</th>\n      <td>9780194705493</td>\n      <td>N/A</td>\n      <td>OXFORD UP ELT</td>\n      <td>N/A</td>\n      <td>ALEK</td>\n      <td>GBP</td>\n      <td>0.14</td>\n      <td>0.43</td>\n      <td>0.5</td>\n      <td>0.5</td>\n      <td>10000</td>\n      <td>US</td>\n      <td>0.005</td>\n      <td>0.0</td>\n      <td>1.245904</td>\n      <td>0.0798</td>\n      <td>0.599423</td>\n      <td>0.599423</td>\n    </tr>\n    <tr>\n      <th>3691196</th>\n      <td>9780078022159</td>\n      <td>DATABASE SYSTEM CONCEPTS</td>\n      <td>MCGRAW</td>\n      <td>KORTH, HENRY F., SUDARSHAN, S., SILBERSCHATZ, ...</td>\n      <td>RAJAN</td>\n      <td>USD</td>\n      <td>0.25</td>\n      <td>0.48</td>\n      <td>0.5</td>\n      <td>0.5</td>\n      <td>10000</td>\n      <td>US</td>\n      <td>0.000</td>\n      <td>0.0</td>\n      <td>1.000000</td>\n      <td>0.1300</td>\n      <td>0.630000</td>\n      <td>0.630000</td>\n    </tr>\n    <tr>\n      <th>2338862</th>\n      <td>9780143135241</td>\n      <td>N/A</td>\n      <td>PENGUIN ADULT HC/TR</td>\n      <td>N/A</td>\n      <td>ALEK</td>\n      <td>USD</td>\n      <td>1.11</td>\n      <td>0.66</td>\n      <td>0.5</td>\n      <td>0.5</td>\n      <td>100</td>\n      <td>US</td>\n      <td>0.005</td>\n      <td>0.0</td>\n      <td>1.000000</td>\n      <td>0.3774</td>\n      <td>0.877400</td>\n      <td>0.877400</td>\n    </tr>\n    <tr>\n      <th>2338866</th>\n      <td>9780143135265</td>\n      <td>N/A</td>\n      <td>PENGUIN ADULT HC/TR</td>\n      <td>N/A</td>\n      <td>ALEK</td>\n      <td>USD</td>\n      <td>1.11</td>\n      <td>0.66</td>\n      <td>0.5</td>\n      <td>0.5</td>\n      <td>100</td>\n      <td>US</td>\n      <td>0.005</td>\n      <td>0.0</td>\n      <td>1.000000</td>\n      <td>0.3774</td>\n      <td>0.877400</td>\n      <td>0.877400</td>\n    </tr>\n  </tbody>\n</table>\n</div>"
     },
     "metadata": {},
     "execution_count": 35
    }
   ],
   "source": [
    "all_rest = all_rest.fillna('N/A')\n",
    "all_rest.head()"
   ]
  },
  {
   "cell_type": "markdown",
   "metadata": {},
   "source": [
    "## Extra: Getting suppliers from UK, CAN, US"
   ]
  },
  {
   "cell_type": "code",
   "execution_count": 36,
   "metadata": {},
   "outputs": [
    {
     "output_type": "execute_result",
     "data": {
      "text/plain": "                  isbn                     title                  pub  \\\n2888303  9780786820771                       N/A        HACHETTE LIVE   \n2310759  9780194705493                       N/A        OXFORD UP ELT   \n3691196  9780078022159  DATABASE SYSTEM CONCEPTS               MCGRAW   \n2338862  9780143135241                       N/A  PENGUIN ADULT HC/TR   \n2338866  9780143135265                       N/A  PENGUIN ADULT HC/TR   \n\n                                                    author supplier currency  \\\n2888303                                                N/A     ALEK      USD   \n2310759                                                N/A     ALEK      GBP   \n3691196  KORTH, HENRY F., SUDARSHAN, S., SILBERSCHATZ, ...    RAJAN      USD   \n2338862                                                N/A     ALEK      USD   \n2338866                                                N/A     ALEK      USD   \n\n         price  discount  shipping_cost  sea_shipping_cost  max_qty origin  \\\n2888303   0.01      0.59            0.5                0.5     1000     US   \n2310759   0.14      0.43            0.5                0.5    10000     US   \n3691196   0.25      0.48            0.5                0.5    10000     US   \n2338862   1.11      0.66            0.5                0.5      100     US   \n2338866   1.11      0.66            0.5                0.5      100     US   \n\n         invoice_fee  lp_fee      rate  inv_price_before_exc  \\\n2888303        0.005     0.0  1.000000                0.0041   \n2310759        0.005     0.0  1.245904                0.0798   \n3691196        0.000     0.0  1.000000                0.1300   \n2338862        0.005     0.0  1.000000                0.3774   \n2338866        0.005     0.0  1.000000                0.3774   \n\n         regular_landed_cost  sea_landed_cost  \n2888303             0.504100         0.504100  \n2310759             0.599423         0.599423  \n3691196             0.630000         0.630000  \n2338862             0.877400         0.877400  \n2338866             0.877400         0.877400  ",
      "text/html": "<div>\n<style scoped>\n    .dataframe tbody tr th:only-of-type {\n        vertical-align: middle;\n    }\n\n    .dataframe tbody tr th {\n        vertical-align: top;\n    }\n\n    .dataframe thead th {\n        text-align: right;\n    }\n</style>\n<table border=\"1\" class=\"dataframe\">\n  <thead>\n    <tr style=\"text-align: right;\">\n      <th></th>\n      <th>isbn</th>\n      <th>title</th>\n      <th>pub</th>\n      <th>author</th>\n      <th>supplier</th>\n      <th>currency</th>\n      <th>price</th>\n      <th>discount</th>\n      <th>shipping_cost</th>\n      <th>sea_shipping_cost</th>\n      <th>max_qty</th>\n      <th>origin</th>\n      <th>invoice_fee</th>\n      <th>lp_fee</th>\n      <th>rate</th>\n      <th>inv_price_before_exc</th>\n      <th>regular_landed_cost</th>\n      <th>sea_landed_cost</th>\n    </tr>\n  </thead>\n  <tbody>\n    <tr>\n      <th>2888303</th>\n      <td>9780786820771</td>\n      <td>N/A</td>\n      <td>HACHETTE LIVE</td>\n      <td>N/A</td>\n      <td>ALEK</td>\n      <td>USD</td>\n      <td>0.01</td>\n      <td>0.59</td>\n      <td>0.5</td>\n      <td>0.5</td>\n      <td>1000</td>\n      <td>US</td>\n      <td>0.005</td>\n      <td>0.0</td>\n      <td>1.000000</td>\n      <td>0.0041</td>\n      <td>0.504100</td>\n      <td>0.504100</td>\n    </tr>\n    <tr>\n      <th>2310759</th>\n      <td>9780194705493</td>\n      <td>N/A</td>\n      <td>OXFORD UP ELT</td>\n      <td>N/A</td>\n      <td>ALEK</td>\n      <td>GBP</td>\n      <td>0.14</td>\n      <td>0.43</td>\n      <td>0.5</td>\n      <td>0.5</td>\n      <td>10000</td>\n      <td>US</td>\n      <td>0.005</td>\n      <td>0.0</td>\n      <td>1.245904</td>\n      <td>0.0798</td>\n      <td>0.599423</td>\n      <td>0.599423</td>\n    </tr>\n    <tr>\n      <th>3691196</th>\n      <td>9780078022159</td>\n      <td>DATABASE SYSTEM CONCEPTS</td>\n      <td>MCGRAW</td>\n      <td>KORTH, HENRY F., SUDARSHAN, S., SILBERSCHATZ, ...</td>\n      <td>RAJAN</td>\n      <td>USD</td>\n      <td>0.25</td>\n      <td>0.48</td>\n      <td>0.5</td>\n      <td>0.5</td>\n      <td>10000</td>\n      <td>US</td>\n      <td>0.000</td>\n      <td>0.0</td>\n      <td>1.000000</td>\n      <td>0.1300</td>\n      <td>0.630000</td>\n      <td>0.630000</td>\n    </tr>\n    <tr>\n      <th>2338862</th>\n      <td>9780143135241</td>\n      <td>N/A</td>\n      <td>PENGUIN ADULT HC/TR</td>\n      <td>N/A</td>\n      <td>ALEK</td>\n      <td>USD</td>\n      <td>1.11</td>\n      <td>0.66</td>\n      <td>0.5</td>\n      <td>0.5</td>\n      <td>100</td>\n      <td>US</td>\n      <td>0.005</td>\n      <td>0.0</td>\n      <td>1.000000</td>\n      <td>0.3774</td>\n      <td>0.877400</td>\n      <td>0.877400</td>\n    </tr>\n    <tr>\n      <th>2338866</th>\n      <td>9780143135265</td>\n      <td>N/A</td>\n      <td>PENGUIN ADULT HC/TR</td>\n      <td>N/A</td>\n      <td>ALEK</td>\n      <td>USD</td>\n      <td>1.11</td>\n      <td>0.66</td>\n      <td>0.5</td>\n      <td>0.5</td>\n      <td>100</td>\n      <td>US</td>\n      <td>0.005</td>\n      <td>0.0</td>\n      <td>1.000000</td>\n      <td>0.3774</td>\n      <td>0.877400</td>\n      <td>0.877400</td>\n    </tr>\n  </tbody>\n</table>\n</div>"
     },
     "metadata": {},
     "execution_count": 36
    }
   ],
   "source": [
    "first_filter = all_rest[\n",
    "    (all_rest['origin'] == 'UK')\n",
    "    | (all_rest['origin'] == 'US')\n",
    "    | (all_rest['origin'] == 'CAN')\n",
    "    ]\n",
    "\n",
    "first_filter.head()"
   ]
  },
  {
   "cell_type": "code",
   "execution_count": 37,
   "metadata": {},
   "outputs": [],
   "source": [
    "isbn_list = ['9781564240071',\n",
    "'9780808051763',\n",
    "'9781260433111',\n",
    "'9780134480435',\n",
    "'9780134874371',\n",
    "'9780134396026',\n",
    "'9780133796773',\n",
    "'9781319105990',\n",
    "'9780134580999',\n",
    "'9780134730363',\n",
    "'9780134730684',\n",
    "'9780135191798',\n",
    "'9780134995991',\n",
    "'9780134740607',\n",
    "'9780134817125',\n",
    "'9781454881360',\n",
    "'9781259870446',\n",
    "'9780134319650',\n",
    "'9780135163078',\n",
    "'9780134649290',\n",
    "'9780134696515',\n",
    "'9781454893509',\n",
    "'9780135184233',\n",
    "'9781118912652',\n",
    "'9780134744476',\n",
    "'9780135191767',\n",
    "'9781319107376',\n",
    "'9780134461991',\n",
    "'9780134741086',\n",
    "'9781337902571',\n",
    "'9781337395250',\n",
    "'9780357133491',\n",
    "'9781337694193',\n",
    "'9781319218331',\n",
    "'9780134382593',\n",
    "'9780134410968',\n",
    "'9780134290553',\n",
    "'9780134441184',\n",
    "'9781640209718',\n",
    "'9781683288220',\n",
    "'9781634603256',\n",
    "'9780134696461',\n",
    "'9780134105598',\n",
    "'9780131481930',\n",
    "'9780134879482',\n",
    "'9780135163825',\n",
    "'9780134484143',\n",
    "'9781118879108',\n",
    "'9781618532312',\n",
    "'9781618533128',\n",
    "'9780134433042',\n",
    "'9780134740218',\n",
    "'9781449604455',\n",
    "'9780134998459',\n",
    "'9781305965799',\n",
    "'9781337619455',\n",
    "'9781305658004',\n",
    "'9781319042578',\n",
    "'9780134756967',\n",
    "'9780134988696',\n",
    "'9780134604657',\n",
    "'9781259827440',\n",
    "'9781640208520',\n",
    "'9780357033821',\n",
    "'9781337613040',\n",
    "'9780134729534',\n",
    "'9780134605197',\n",
    "'9781319126698',\n",
    "'9781634605847',\n",
    "'9781683289845',\n",
    "'9781634608152',\n",
    "'9781640201859',\n",
    "'9781642422504',\n",
    "'9780135186275',\n",
    "'9780134203690',\n",
    "'9780134729220',\n",
    "'9781683283058',\n",
    "'9780314266057',\n",
    "'9781634608190',\n",
    "'9781683280064',\n",
    "'9781634605908',\n",
    "'9780784414248',\n",
    "'9781609302276',\n",
    "'9780134637433',\n",
    "'9781319058135',\n",
    "'9781618533111',\n",
    "'9780132337175',\n",
    "'9780134685762',\n",
    "'9780135231678',\n",
    "'9781683281412',\n",
    "'9781683286530',\n",
    "'9781683288329',\n",
    "'9781609304508',\n",
    "'9781642424867',\n",
    "'9781640205918',\n",
    "'9781634605298',\n",
    "'9781683282136',\n",
    "'9781640206106',\n",
    "'9781683284239',\n",
    "'9781628101515',\n",
    "'9780134696522',\n",
    "'9780134493756',\n",
    "'9780134469966',\n",
    "'9780134641348',\n",
    "'9780134606545',\n",
    "'9780134751979',\n",
    "'9781634597470',\n",
    "'9781634603225',\n",
    "'9781609303334',\n",
    "'9781609304225',\n",
    "'9781337624657',\n",
    "'9780134599717',\n",
    "'9780314283726',\n",
    "'9781337630702',\n",
    "'9781683282143',\n",
    "'9781640202498',\n",
    "'9780134878119',\n",
    "'9780134995588',\n",
    "'9780134302386',\n",
    "'9780134758992',\n",
    "'9780134555805',\n",
    "'9781522105442',\n",
    "'9781634605953',\n",
    "'9781319039448',\n",
    "'9781634608855',\n",
    "'9781634605311',\n",
    "'9780134526690',\n",
    "'9780134891521',\n",
    "'9780134898674',\n",
    "'9780135116159',\n",
    "'9780134641621',\n",
    "'9780134220130',\n",
    "'9780135183885',\n",
    "'9780134860244',\n",
    "'9780134689623',\n",
    "'9780134494074',\n",
    "'9781531008727',\n",
    "'9780132938310',\n",
    "'9780134320533',\n",
    "'9780134670959',\n",
    "'9780134597119',\n",
    "'9780135057490',\n",
    "'9780190618353',\n",
    "'9781337560573',\n",
    "'9780190698614',\n",
    "'9781305951174',\n",
    "'9780321986245',\n",
    "'9781319143633',\n",
    "'9781454896289',\n",
    "'9780134609034',\n",
    "'9780134394190',\n",
    "'9780195124446',\n",
    "'9781319104191',\n",
    "'9781319104177',\n",
    "'9780134602820',\n",
    "'9780135435199',\n",
    "'9780134543536',\n",
    "'9780134479279',\n",
    "'9781319050740',\n",
    "'9781683289883',\n",
    "'9780190847609',\n",
    "'9781531009182',\n",
    "'9781683282365',\n",
    "'9781138218154',\n",
    "'9781319065669',\n",
    "'9781337794213',\n",
    "'9781337553278',\n",
    "'9781337408974',\n",
    "'9781531009403',\n",
    "'9781531005474',\n",
    "'9781454873433',\n",
    "'9780357033852',\n",
    "'9780136008064',\n",
    "'9780134606989',\n",
    "'9781337798839',\n",
    "'9780134710679',\n",
    "'9780997117141',\n",
    "'9780357117811',\n",
    "'9780134392790',\n",
    "'9780134016344',\n",
    "'9780134060354',\n",
    "'9781138211698',\n",
    "'9780134219929',\n",
    "'9780134238739',\n",
    "'9781305494695',\n",
    "'9781337798310',\n",
    "'9780357026434',\n",
    "'9780393667691',\n",
    "'9780134740225',\n",
    "'9781138036338',\n",
    "'9781531001438',\n",
    "'9781138103962',\n",
    "'9780357042502',\n",
    "'9781635500615',\n",
    "'9780134031255',\n",
    "'9781337900348',\n",
    "'9780357370391',\n",
    "'9781605358222',\n",
    "'9780357370384',\n",
    "'9780134695815',\n",
    "'9780134041674',\n",
    "'9780134696485',\n",
    "'9781454896210',\n",
    "'9781260153149',\n",
    "'9780134168975',\n",
    "'9780134181028',\n",
    "'9780134380926',\n",
    "'9780134039558',\n",
    "'9780134701271',\n",
    "'9780974934532',\n",
    "'9780357026397',\n",
    "'9780134875460',\n",
    "'9781337696609',\n",
    "'9781138292406',\n",
    "'9780190625276',\n",
    "'9781285851150',\n",
    "'9781138720923',\n",
    "'9781337567916',\n",
    "'9780135169377',\n",
    "'9780393624045',\n",
    "'9781319060619',\n",
    "'9780134549163',\n",
    "'9780133976892',\n",
    "'9780199343386',\n",
    "'9781605356419',\n",
    "'9780134784441',\n",
    "'9780134802213',\n",
    "'9780134678863',\n",
    "'9780134857770',\n",
    "'9781454897958',\n",
    "'9781640209701',\n",
    "'9781454856092',\n",
    "'9781284153071',\n",
    "'9781618532640',\n",
    "'9780134709857',\n",
    "'9780815366546',\n",
    "'9780393284133',\n",
    "'9780134300788',\n",
    "'9780134484488',\n",
    "'9780134286303',\n",
    "'9780134484204',\n",
    "'9780134477367',\n",
    "'9780134714882',\n",
    "'9780393640366',\n",
    "'9781506339764',\n",
    "'9781605357300',\n",
    "'9781577666936',\n",
    "'9781449627904',\n",
    "'9780134808246',\n",
    "]"
   ]
  },
  {
   "cell_type": "code",
   "execution_count": 38,
   "metadata": {},
   "outputs": [],
   "source": [
    "uk_us_can = first_filter[first_filter['isbn'].isin(isbn_list)]\n",
    "uk_us_can.to_csv('retail/uk_us_can.csv', index= False)\n",
    "# all_suppliers = all_rest[all_rest['isbn'].isin(isbn_list)]\n",
    "# all_suppliers.to_csv('retail/all_suppliers.csv', index= False)\n",
    "# elsevier = all_rest[all_rest['pub'].str.contains('ELSEVIER')]\n",
    "# elsevier.to_csv('retail/elsevier.csv', index= False)\n",
    "elsevier_cengage = all_rest[all_rest['pub'].str.contains('CENG') | all_rest['pub'].str.contains('ELSE')]\n",
    "# elsevier_cengage.drop_duplicates(subset =\"isbn\", keep = False, inplace = True) \n",
    "elsevier_cengage.to_csv('retail/elsevier_cengage.csv', index= False)\n"
   ]
  },
  {
   "cell_type": "code",
   "execution_count": 39,
   "metadata": {},
   "outputs": [],
   "source": [
    "# all_rest.to_csv('important_files/python/ca_results.csv', index= False)\n",
    "\n",
    "\n"
   ]
  }
 ],
 "metadata": {
  "language_info": {
   "name": "python",
   "codemirror_mode": {
    "name": "ipython",
    "version": 3
   },
   "version": "3.7.6-final"
  },
  "orig_nbformat": 2,
  "file_extension": ".py",
  "mimetype": "text/x-python",
  "name": "python",
  "npconvert_exporter": "python",
  "pygments_lexer": "ipython3",
  "version": 3,
  "kernelspec": {
   "name": "python3",
   "display_name": "Python 3"
  }
 },
 "nbformat": 4,
 "nbformat_minor": 2
}