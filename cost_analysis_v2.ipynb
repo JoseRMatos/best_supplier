{
 "cells": [
  {
   "cell_type": "markdown",
   "metadata": {},
   "source": [
    "# Cost Analysis"
   ]
  },
  {
   "cell_type": "markdown",
   "metadata": {},
   "source": [
    "## 1. Import Library"
   ]
  },
  {
   "cell_type": "code",
   "execution_count": 1,
   "metadata": {},
   "outputs": [],
   "source": [
    "import pandas as pd\n",
    "import numpy as np\n",
    "import pyodbc # SQL Connection\n",
    "import sqlCredentials as sql"
   ]
  },
  {
   "cell_type": "markdown",
   "metadata": {},
   "source": [
    "## 2. Connect to Databases"
   ]
  },
  {
   "cell_type": "code",
   "execution_count": 2,
   "metadata": {},
   "outputs": [],
   "source": [
    "#PROCUREMENTDB\n",
    "\n",
    "proc_db = pyodbc.connect(\n",
    "    'DRIVER={ODBC Driver 17 for SQL Server};'\n",
    "    'Server=52.86.56.66;'\n",
    "    'Database=PROCUREMENTDB;'\n",
    "    'UID='+sql.username+';'\n",
    "    'PWD='+sql.password+';'\n",
    "    'Trusted_connection=no;'\n",
    ")\n",
    "\n",
    "#BookXCenterProduction\n",
    "prod_db = pyodbc.connect(\n",
    "    'DRIVER={ODBC Driver 17 for SQL Server};'\n",
    "    'Server=52.86.56.66;'\n",
    "    'Database=BookXCenterProduction;'\n",
    "    'UID='+sql.username+';'\n",
    "    'PWD='+sql.password+';'\n",
    "    'Trusted_connection=no;'\n",
    ")"
   ]
  },
  {
   "cell_type": "markdown",
   "metadata": {},
   "source": [
    "## 3. Define Clean up tool"
   ]
  },
  {
   "cell_type": "code",
   "execution_count": 3,
   "metadata": {},
   "outputs": [],
   "source": [
    "def clean_up(phrase):\n",
    "    phrase = phrase.lstrip()\n",
    "    phrase = phrase.rstrip()\n",
    "    phrase = phrase.upper()\n",
    "    return phrase"
   ]
  },
  {
   "cell_type": "markdown",
   "metadata": {},
   "source": [
    "## 4. Define Tables"
   ]
  },
  {
   "cell_type": "code",
   "execution_count": 4,
   "metadata": {},
   "outputs": [],
   "source": [
    "# Dictionary\n",
    "pub_dict = \"\"\"\n",
    "SELECT *\n",
    "FROM dbo.PublisherDictionary\n",
    "\"\"\"\n",
    "# LP All currencies\n",
    "all_lp = \"\"\"\n",
    "SELECT\n",
    "\t[Isbn]\n",
    "\t,[Currency]\n",
    "\t,[Price]\n",
    "FROM\n",
    "\t[Isbn].[ListPrice]\n",
    "\"\"\"\n",
    "# Bibliography\n",
    "bilblo_sql = \"\"\"\n",
    "SELECT Isbn\n",
    "    , Title\n",
    "    , Publisher\n",
    "    , Author\n",
    "FROM \n",
    "    Isbn.Bibliography\n",
    "\"\"\"\n",
    "# Echange Rate\n",
    "exchange_rate = \"\"\"\n",
    "SELECT \n",
    "    name,\n",
    "    rate\n",
    "FROM dbo.XChange\n",
    "\"\"\"\n",
    "#Supplier Mega List\n",
    "megalist_sql = \"\"\"\n",
    "SELECT \n",
    "    [ISBN]\n",
    "    ,[Supplier]\n",
    "    ,[Publisher]\n",
    "    ,[Currency]\n",
    "    ,[ListPrice]\n",
    "    ,[Discount]\n",
    "    ,[CostUnitPrice]\n",
    "    ,[MaxQtyPerOrder]\n",
    "    ,[ShipmentOrigin]\n",
    "    ,[UnitShippingCost]\n",
    "    ,[SeaFreightCost] AS sea_shipping_cost\n",
    "  FROM \n",
    "    [Process].[SupplierMegaList]\n",
    "\"\"\"\n",
    "\n",
    "#Import supplier Excel\n",
    "#Import short_discount\n",
    "#Import restrictions"
   ]
  },
  {
   "cell_type": "markdown",
   "metadata": {},
   "source": [
    "### 4.1 Import Dictionary and clean it"
   ]
  },
  {
   "cell_type": "code",
   "execution_count": 5,
   "metadata": {},
   "outputs": [
    {
     "output_type": "execute_result",
     "data": {
      "text/plain": "         PublisherLong   PublisherShort\n0  Glencoe McGraw Hill           MCGRAW\n1  Glencoe McGraw-Hill           MCGRAW\n2        McGraw Create           MCGRAW\n3           MCGRAW HE         MCGRAW HE\n4      MCGRAW HE - ISE  MCGRAW HE - ISE",
      "text/html": "<div>\n<style scoped>\n    .dataframe tbody tr th:only-of-type {\n        vertical-align: middle;\n    }\n\n    .dataframe tbody tr th {\n        vertical-align: top;\n    }\n\n    .dataframe thead th {\n        text-align: right;\n    }\n</style>\n<table border=\"1\" class=\"dataframe\">\n  <thead>\n    <tr style=\"text-align: right;\">\n      <th></th>\n      <th>PublisherLong</th>\n      <th>PublisherShort</th>\n    </tr>\n  </thead>\n  <tbody>\n    <tr>\n      <th>0</th>\n      <td>Glencoe McGraw Hill</td>\n      <td>MCGRAW</td>\n    </tr>\n    <tr>\n      <th>1</th>\n      <td>Glencoe McGraw-Hill</td>\n      <td>MCGRAW</td>\n    </tr>\n    <tr>\n      <th>2</th>\n      <td>McGraw Create</td>\n      <td>MCGRAW</td>\n    </tr>\n    <tr>\n      <th>3</th>\n      <td>MCGRAW HE</td>\n      <td>MCGRAW HE</td>\n    </tr>\n    <tr>\n      <th>4</th>\n      <td>MCGRAW HE - ISE</td>\n      <td>MCGRAW HE - ISE</td>\n    </tr>\n  </tbody>\n</table>\n</div>"
     },
     "metadata": {},
     "execution_count": 5
    }
   ],
   "source": [
    "pub_dict = pd.read_sql(pub_dict, proc_db)\n",
    "pub_dict.head()"
   ]
  },
  {
   "cell_type": "code",
   "execution_count": 6,
   "metadata": {},
   "outputs": [
    {
     "output_type": "execute_result",
     "data": {
      "text/plain": "         publisherlong   publishershort\n0  GLENCOE MCGRAW HILL           MCGRAW\n1  GLENCOE MCGRAW-HILL           MCGRAW\n2        MCGRAW CREATE           MCGRAW\n3            MCGRAW HE        MCGRAW HE\n4      MCGRAW HE - ISE  MCGRAW HE - ISE",
      "text/html": "<div>\n<style scoped>\n    .dataframe tbody tr th:only-of-type {\n        vertical-align: middle;\n    }\n\n    .dataframe tbody tr th {\n        vertical-align: top;\n    }\n\n    .dataframe thead th {\n        text-align: right;\n    }\n</style>\n<table border=\"1\" class=\"dataframe\">\n  <thead>\n    <tr style=\"text-align: right;\">\n      <th></th>\n      <th>publisherlong</th>\n      <th>publishershort</th>\n    </tr>\n  </thead>\n  <tbody>\n    <tr>\n      <th>0</th>\n      <td>GLENCOE MCGRAW HILL</td>\n      <td>MCGRAW</td>\n    </tr>\n    <tr>\n      <th>1</th>\n      <td>GLENCOE MCGRAW-HILL</td>\n      <td>MCGRAW</td>\n    </tr>\n    <tr>\n      <th>2</th>\n      <td>MCGRAW CREATE</td>\n      <td>MCGRAW</td>\n    </tr>\n    <tr>\n      <th>3</th>\n      <td>MCGRAW HE</td>\n      <td>MCGRAW HE</td>\n    </tr>\n    <tr>\n      <th>4</th>\n      <td>MCGRAW HE - ISE</td>\n      <td>MCGRAW HE - ISE</td>\n    </tr>\n  </tbody>\n</table>\n</div>"
     },
     "metadata": {},
     "execution_count": 6
    }
   ],
   "source": [
    "pub_dict.columns = map(str.lower, pub_dict.columns)\n",
    "pub_dict = pub_dict.fillna('N/A')\n",
    "for col in list(pub_dict.columns):\n",
    "    pub_dict[col] = pub_dict.apply(lambda x: clean_up(x[col]), axis =1)\n",
    "\n",
    "pub_dict.head()"
   ]
  },
  {
   "cell_type": "markdown",
   "metadata": {},
   "source": [
    "### 4.2 Import Bibliography and clean it"
   ]
  },
  {
   "cell_type": "code",
   "execution_count": 7,
   "metadata": {},
   "outputs": [
    {
     "output_type": "execute_result",
     "data": {
      "text/plain": "            Isbn                                              Title Publisher  \\\n0  9780000000057  Text, Music, Context:  A Resource  Item #: S05...       CPH   \n1  9780000001030                         Surgical Procedures (2016)      CIMC   \n2  9780000001061               Anatomy & Physiology Student Edition      CIMC   \n3  9780000001146                            Membean Student License    Archer   \n4  9780000002402                                               None       LWW   \n\n  Author  \n0   LCMS  \n1  MAVCC  \n2   CIMC  \n3   None  \n4   None  ",
      "text/html": "<div>\n<style scoped>\n    .dataframe tbody tr th:only-of-type {\n        vertical-align: middle;\n    }\n\n    .dataframe tbody tr th {\n        vertical-align: top;\n    }\n\n    .dataframe thead th {\n        text-align: right;\n    }\n</style>\n<table border=\"1\" class=\"dataframe\">\n  <thead>\n    <tr style=\"text-align: right;\">\n      <th></th>\n      <th>Isbn</th>\n      <th>Title</th>\n      <th>Publisher</th>\n      <th>Author</th>\n    </tr>\n  </thead>\n  <tbody>\n    <tr>\n      <th>0</th>\n      <td>9780000000057</td>\n      <td>Text, Music, Context:  A Resource  Item #: S05...</td>\n      <td>CPH</td>\n      <td>LCMS</td>\n    </tr>\n    <tr>\n      <th>1</th>\n      <td>9780000001030</td>\n      <td>Surgical Procedures (2016)</td>\n      <td>CIMC</td>\n      <td>MAVCC</td>\n    </tr>\n    <tr>\n      <th>2</th>\n      <td>9780000001061</td>\n      <td>Anatomy &amp; Physiology Student Edition</td>\n      <td>CIMC</td>\n      <td>CIMC</td>\n    </tr>\n    <tr>\n      <th>3</th>\n      <td>9780000001146</td>\n      <td>Membean Student License</td>\n      <td>Archer</td>\n      <td>None</td>\n    </tr>\n    <tr>\n      <th>4</th>\n      <td>9780000002402</td>\n      <td>None</td>\n      <td>LWW</td>\n      <td>None</td>\n    </tr>\n  </tbody>\n</table>\n</div>"
     },
     "metadata": {},
     "execution_count": 7
    }
   ],
   "source": [
    "# IMport and read biblio\n",
    "biblio = pd.read_sql(bilblo_sql, prod_db)\n",
    "biblio.head()"
   ]
  },
  {
   "cell_type": "code",
   "execution_count": 8,
   "metadata": {},
   "outputs": [
    {
     "output_type": "execute_result",
     "data": {
      "text/plain": "            isbn                                              title publisher  \\\n0  9780000000057  TEXT, MUSIC, CONTEXT:  A RESOURCE  ITEM #: S05...       CPH   \n1  9780000001030                         SURGICAL PROCEDURES (2016)      CIMC   \n2  9780000001061               ANATOMY & PHYSIOLOGY STUDENT EDITION      CIMC   \n3  9780000001146                            MEMBEAN STUDENT LICENSE    ARCHER   \n4  9780000002402                                                N/A       LWW   \n\n  author  \n0   LCMS  \n1  MAVCC  \n2   CIMC  \n3    N/A  \n4    N/A  ",
      "text/html": "<div>\n<style scoped>\n    .dataframe tbody tr th:only-of-type {\n        vertical-align: middle;\n    }\n\n    .dataframe tbody tr th {\n        vertical-align: top;\n    }\n\n    .dataframe thead th {\n        text-align: right;\n    }\n</style>\n<table border=\"1\" class=\"dataframe\">\n  <thead>\n    <tr style=\"text-align: right;\">\n      <th></th>\n      <th>isbn</th>\n      <th>title</th>\n      <th>publisher</th>\n      <th>author</th>\n    </tr>\n  </thead>\n  <tbody>\n    <tr>\n      <th>0</th>\n      <td>9780000000057</td>\n      <td>TEXT, MUSIC, CONTEXT:  A RESOURCE  ITEM #: S05...</td>\n      <td>CPH</td>\n      <td>LCMS</td>\n    </tr>\n    <tr>\n      <th>1</th>\n      <td>9780000001030</td>\n      <td>SURGICAL PROCEDURES (2016)</td>\n      <td>CIMC</td>\n      <td>MAVCC</td>\n    </tr>\n    <tr>\n      <th>2</th>\n      <td>9780000001061</td>\n      <td>ANATOMY &amp; PHYSIOLOGY STUDENT EDITION</td>\n      <td>CIMC</td>\n      <td>CIMC</td>\n    </tr>\n    <tr>\n      <th>3</th>\n      <td>9780000001146</td>\n      <td>MEMBEAN STUDENT LICENSE</td>\n      <td>ARCHER</td>\n      <td>N/A</td>\n    </tr>\n    <tr>\n      <th>4</th>\n      <td>9780000002402</td>\n      <td>N/A</td>\n      <td>LWW</td>\n      <td>N/A</td>\n    </tr>\n  </tbody>\n</table>\n</div>"
     },
     "metadata": {},
     "execution_count": 8
    }
   ],
   "source": [
    "biblio.columns = map(str.lower, biblio.columns)\n",
    "biblio = biblio.fillna('N/A')\n",
    "biblio['isbn'] = biblio['isbn'].astype(str)\n",
    "for col in list(biblio.columns):\n",
    "    biblio[col] = biblio.apply(lambda x: clean_up(x[col]), axis =1)\n",
    "biblio.head()"
   ]
  },
  {
   "cell_type": "markdown",
   "metadata": {},
   "source": [
    "Now we Merge bibliography with the dictionary"
   ]
  },
  {
   "cell_type": "code",
   "execution_count": 9,
   "metadata": {},
   "outputs": [
    {
     "output_type": "execute_result",
     "data": {
      "text/plain": "            isbn                                              title publisher  \\\n0  9780000000057  TEXT, MUSIC, CONTEXT:  A RESOURCE  ITEM #: S05...       CPH   \n1  9780000001030                         SURGICAL PROCEDURES (2016)      CIMC   \n2  9780000001061               ANATOMY & PHYSIOLOGY STUDENT EDITION      CIMC   \n3  9780000001146                            MEMBEAN STUDENT LICENSE    ARCHER   \n4  9780000002402                                                N/A       LWW   \n\n  author  pub  \n0   LCMS  NaN  \n1  MAVCC  NaN  \n2   CIMC  NaN  \n3    N/A  NaN  \n4    N/A  LWW  ",
      "text/html": "<div>\n<style scoped>\n    .dataframe tbody tr th:only-of-type {\n        vertical-align: middle;\n    }\n\n    .dataframe tbody tr th {\n        vertical-align: top;\n    }\n\n    .dataframe thead th {\n        text-align: right;\n    }\n</style>\n<table border=\"1\" class=\"dataframe\">\n  <thead>\n    <tr style=\"text-align: right;\">\n      <th></th>\n      <th>isbn</th>\n      <th>title</th>\n      <th>publisher</th>\n      <th>author</th>\n      <th>pub</th>\n    </tr>\n  </thead>\n  <tbody>\n    <tr>\n      <th>0</th>\n      <td>9780000000057</td>\n      <td>TEXT, MUSIC, CONTEXT:  A RESOURCE  ITEM #: S05...</td>\n      <td>CPH</td>\n      <td>LCMS</td>\n      <td>NaN</td>\n    </tr>\n    <tr>\n      <th>1</th>\n      <td>9780000001030</td>\n      <td>SURGICAL PROCEDURES (2016)</td>\n      <td>CIMC</td>\n      <td>MAVCC</td>\n      <td>NaN</td>\n    </tr>\n    <tr>\n      <th>2</th>\n      <td>9780000001061</td>\n      <td>ANATOMY &amp; PHYSIOLOGY STUDENT EDITION</td>\n      <td>CIMC</td>\n      <td>CIMC</td>\n      <td>NaN</td>\n    </tr>\n    <tr>\n      <th>3</th>\n      <td>9780000001146</td>\n      <td>MEMBEAN STUDENT LICENSE</td>\n      <td>ARCHER</td>\n      <td>N/A</td>\n      <td>NaN</td>\n    </tr>\n    <tr>\n      <th>4</th>\n      <td>9780000002402</td>\n      <td>N/A</td>\n      <td>LWW</td>\n      <td>N/A</td>\n      <td>LWW</td>\n    </tr>\n  </tbody>\n</table>\n</div>"
     },
     "metadata": {},
     "execution_count": 9
    }
   ],
   "source": [
    "biblio2 = pd.merge(biblio, pub_dict, how='left', left_on = 'publisher', right_on = 'publisherlong' )\n",
    "biblio2.drop(columns = ['publisherlong'], inplace = True)\n",
    "biblio2.rename(columns={'publishershort': 'pub'}, inplace = True)\n",
    "biblio2.head()"
   ]
  },
  {
   "cell_type": "markdown",
   "metadata": {},
   "source": [
    "### 4.3 Import SupplierMegaList and clean it"
   ]
  },
  {
   "cell_type": "code",
   "execution_count": 10,
   "metadata": {},
   "outputs": [
    {
     "output_type": "execute_result",
     "data": {
      "text/plain": "            ISBN Supplier         Publisher Currency  ListPrice  Discount  \\\n0  9780262530873  BILLSON  UNIVERSITY PRESS      GBP       4.99      0.38   \n1  9780262530989  BILLSON  UNIVERSITY PRESS      GBP      25.00      0.38   \n2  9781861345806   Zookal   THAMES & HUDSON      AUD       0.00      0.00   \n3  9780262531092  BILLSON  UNIVERSITY PRESS      GBP      37.95      0.38   \n4  9781861345837   Zookal   THAMES & HUDSON      AUD       0.00      0.00   \n\n   CostUnitPrice  MaxQtyPerOrder ShipmentOrigin  UnitShippingCost  \\\n0           3.09            1000             UK              3.47   \n1          15.50            1000             UK              3.47   \n2          28.00             150            AUS              3.47   \n3          23.53            1000             UK              3.47   \n4          35.00             150            AUS              3.47   \n\n   sea_shipping_cost  \n0                1.0  \n1                1.0  \n2                1.0  \n3                1.0  \n4                1.0  ",
      "text/html": "<div>\n<style scoped>\n    .dataframe tbody tr th:only-of-type {\n        vertical-align: middle;\n    }\n\n    .dataframe tbody tr th {\n        vertical-align: top;\n    }\n\n    .dataframe thead th {\n        text-align: right;\n    }\n</style>\n<table border=\"1\" class=\"dataframe\">\n  <thead>\n    <tr style=\"text-align: right;\">\n      <th></th>\n      <th>ISBN</th>\n      <th>Supplier</th>\n      <th>Publisher</th>\n      <th>Currency</th>\n      <th>ListPrice</th>\n      <th>Discount</th>\n      <th>CostUnitPrice</th>\n      <th>MaxQtyPerOrder</th>\n      <th>ShipmentOrigin</th>\n      <th>UnitShippingCost</th>\n      <th>sea_shipping_cost</th>\n    </tr>\n  </thead>\n  <tbody>\n    <tr>\n      <th>0</th>\n      <td>9780262530873</td>\n      <td>BILLSON</td>\n      <td>UNIVERSITY PRESS</td>\n      <td>GBP</td>\n      <td>4.99</td>\n      <td>0.38</td>\n      <td>3.09</td>\n      <td>1000</td>\n      <td>UK</td>\n      <td>3.47</td>\n      <td>1.0</td>\n    </tr>\n    <tr>\n      <th>1</th>\n      <td>9780262530989</td>\n      <td>BILLSON</td>\n      <td>UNIVERSITY PRESS</td>\n      <td>GBP</td>\n      <td>25.00</td>\n      <td>0.38</td>\n      <td>15.50</td>\n      <td>1000</td>\n      <td>UK</td>\n      <td>3.47</td>\n      <td>1.0</td>\n    </tr>\n    <tr>\n      <th>2</th>\n      <td>9781861345806</td>\n      <td>Zookal</td>\n      <td>THAMES &amp; HUDSON</td>\n      <td>AUD</td>\n      <td>0.00</td>\n      <td>0.00</td>\n      <td>28.00</td>\n      <td>150</td>\n      <td>AUS</td>\n      <td>3.47</td>\n      <td>1.0</td>\n    </tr>\n    <tr>\n      <th>3</th>\n      <td>9780262531092</td>\n      <td>BILLSON</td>\n      <td>UNIVERSITY PRESS</td>\n      <td>GBP</td>\n      <td>37.95</td>\n      <td>0.38</td>\n      <td>23.53</td>\n      <td>1000</td>\n      <td>UK</td>\n      <td>3.47</td>\n      <td>1.0</td>\n    </tr>\n    <tr>\n      <th>4</th>\n      <td>9781861345837</td>\n      <td>Zookal</td>\n      <td>THAMES &amp; HUDSON</td>\n      <td>AUD</td>\n      <td>0.00</td>\n      <td>0.00</td>\n      <td>35.00</td>\n      <td>150</td>\n      <td>AUS</td>\n      <td>3.47</td>\n      <td>1.0</td>\n    </tr>\n  </tbody>\n</table>\n</div>"
     },
     "metadata": {},
     "execution_count": 10
    }
   ],
   "source": [
    "megalist = pd.read_sql(megalist_sql,proc_db)\n",
    "megalist.head()"
   ]
  },
  {
   "cell_type": "code",
   "execution_count": 11,
   "metadata": {},
   "outputs": [
    {
     "output_type": "execute_result",
     "data": {
      "text/plain": "            isbn supplier         publisher currency  listprice  discount  \\\n0  9780262530873  BILLSON  UNIVERSITY PRESS      GBP       4.99      0.38   \n1  9780262530989  BILLSON  UNIVERSITY PRESS      GBP      25.00      0.38   \n2  9781861345806   ZOOKAL   THAMES & HUDSON      AUD       0.00      0.00   \n3  9780262531092  BILLSON  UNIVERSITY PRESS      GBP      37.95      0.38   \n4  9781861345837   ZOOKAL   THAMES & HUDSON      AUD       0.00      0.00   \n\n   costunitprice  maxqtyperorder shipmentorigin  unitshippingcost  \\\n0           3.09            1000             UK              3.47   \n1          15.50            1000             UK              3.47   \n2          28.00             150            AUS              3.47   \n3          23.53            1000             UK              3.47   \n4          35.00             150            AUS              3.47   \n\n   sea_shipping_cost  \n0                1.0  \n1                1.0  \n2                1.0  \n3                1.0  \n4                1.0  ",
      "text/html": "<div>\n<style scoped>\n    .dataframe tbody tr th:only-of-type {\n        vertical-align: middle;\n    }\n\n    .dataframe tbody tr th {\n        vertical-align: top;\n    }\n\n    .dataframe thead th {\n        text-align: right;\n    }\n</style>\n<table border=\"1\" class=\"dataframe\">\n  <thead>\n    <tr style=\"text-align: right;\">\n      <th></th>\n      <th>isbn</th>\n      <th>supplier</th>\n      <th>publisher</th>\n      <th>currency</th>\n      <th>listprice</th>\n      <th>discount</th>\n      <th>costunitprice</th>\n      <th>maxqtyperorder</th>\n      <th>shipmentorigin</th>\n      <th>unitshippingcost</th>\n      <th>sea_shipping_cost</th>\n    </tr>\n  </thead>\n  <tbody>\n    <tr>\n      <th>0</th>\n      <td>9780262530873</td>\n      <td>BILLSON</td>\n      <td>UNIVERSITY PRESS</td>\n      <td>GBP</td>\n      <td>4.99</td>\n      <td>0.38</td>\n      <td>3.09</td>\n      <td>1000</td>\n      <td>UK</td>\n      <td>3.47</td>\n      <td>1.0</td>\n    </tr>\n    <tr>\n      <th>1</th>\n      <td>9780262530989</td>\n      <td>BILLSON</td>\n      <td>UNIVERSITY PRESS</td>\n      <td>GBP</td>\n      <td>25.00</td>\n      <td>0.38</td>\n      <td>15.50</td>\n      <td>1000</td>\n      <td>UK</td>\n      <td>3.47</td>\n      <td>1.0</td>\n    </tr>\n    <tr>\n      <th>2</th>\n      <td>9781861345806</td>\n      <td>ZOOKAL</td>\n      <td>THAMES &amp; HUDSON</td>\n      <td>AUD</td>\n      <td>0.00</td>\n      <td>0.00</td>\n      <td>28.00</td>\n      <td>150</td>\n      <td>AUS</td>\n      <td>3.47</td>\n      <td>1.0</td>\n    </tr>\n    <tr>\n      <th>3</th>\n      <td>9780262531092</td>\n      <td>BILLSON</td>\n      <td>UNIVERSITY PRESS</td>\n      <td>GBP</td>\n      <td>37.95</td>\n      <td>0.38</td>\n      <td>23.53</td>\n      <td>1000</td>\n      <td>UK</td>\n      <td>3.47</td>\n      <td>1.0</td>\n    </tr>\n    <tr>\n      <th>4</th>\n      <td>9781861345837</td>\n      <td>ZOOKAL</td>\n      <td>THAMES &amp; HUDSON</td>\n      <td>AUD</td>\n      <td>0.00</td>\n      <td>0.00</td>\n      <td>35.00</td>\n      <td>150</td>\n      <td>AUS</td>\n      <td>3.47</td>\n      <td>1.0</td>\n    </tr>\n  </tbody>\n</table>\n</div>"
     },
     "metadata": {},
     "execution_count": 11
    }
   ],
   "source": [
    "megalist.columns = map(str.lower, megalist.columns)\n",
    "megalist = megalist.fillna('N/A')\n",
    "megalist['isbn'] = megalist['isbn'].astype(str)\n",
    "for col in ['isbn', 'supplier', 'publisher', 'currency', 'shipmentorigin']:\n",
    "    megalist[col] = megalist.apply(lambda x: clean_up(x[col]), axis =1)\n",
    "megalist.head()"
   ]
  },
  {
   "cell_type": "code",
   "execution_count": 12,
   "metadata": {},
   "outputs": [
    {
     "output_type": "execute_result",
     "data": {
      "text/plain": "            isbn supplier       publisher_x currency  listprice  discount  \\\n0  9780262530873  BILLSON  UNIVERSITY PRESS      GBP       4.99      0.38   \n1  9780262530989  BILLSON  UNIVERSITY PRESS      GBP      25.00      0.38   \n2  9781861345806   ZOOKAL   THAMES & HUDSON      AUD       0.00      0.00   \n3  9780262531092  BILLSON  UNIVERSITY PRESS      GBP      37.95      0.38   \n4  9781861345837   ZOOKAL   THAMES & HUDSON      AUD       0.00      0.00   \n\n   costunitprice  maxqtyperorder shipmentorigin  unitshippingcost  \\\n0           3.09            1000             UK              3.47   \n1          15.50            1000             UK              3.47   \n2          28.00             150            AUS              3.47   \n3          23.53            1000             UK              3.47   \n4          35.00             150            AUS              3.47   \n\n   sea_shipping_cost title       publisher_y author               pub  \n0                1.0   N/A  UNIVERSITY PRESS    N/A  UNIVERSITY PRESS  \n1                1.0   N/A  UNIVERSITY PRESS    N/A  UNIVERSITY PRESS  \n2                1.0   N/A               N/A    N/A               N/A  \n3                1.0   N/A  UNIVERSITY PRESS    N/A  UNIVERSITY PRESS  \n4                1.0   N/A               N/A    N/A               N/A  ",
      "text/html": "<div>\n<style scoped>\n    .dataframe tbody tr th:only-of-type {\n        vertical-align: middle;\n    }\n\n    .dataframe tbody tr th {\n        vertical-align: top;\n    }\n\n    .dataframe thead th {\n        text-align: right;\n    }\n</style>\n<table border=\"1\" class=\"dataframe\">\n  <thead>\n    <tr style=\"text-align: right;\">\n      <th></th>\n      <th>isbn</th>\n      <th>supplier</th>\n      <th>publisher_x</th>\n      <th>currency</th>\n      <th>listprice</th>\n      <th>discount</th>\n      <th>costunitprice</th>\n      <th>maxqtyperorder</th>\n      <th>shipmentorigin</th>\n      <th>unitshippingcost</th>\n      <th>sea_shipping_cost</th>\n      <th>title</th>\n      <th>publisher_y</th>\n      <th>author</th>\n      <th>pub</th>\n    </tr>\n  </thead>\n  <tbody>\n    <tr>\n      <th>0</th>\n      <td>9780262530873</td>\n      <td>BILLSON</td>\n      <td>UNIVERSITY PRESS</td>\n      <td>GBP</td>\n      <td>4.99</td>\n      <td>0.38</td>\n      <td>3.09</td>\n      <td>1000</td>\n      <td>UK</td>\n      <td>3.47</td>\n      <td>1.0</td>\n      <td>N/A</td>\n      <td>UNIVERSITY PRESS</td>\n      <td>N/A</td>\n      <td>UNIVERSITY PRESS</td>\n    </tr>\n    <tr>\n      <th>1</th>\n      <td>9780262530989</td>\n      <td>BILLSON</td>\n      <td>UNIVERSITY PRESS</td>\n      <td>GBP</td>\n      <td>25.00</td>\n      <td>0.38</td>\n      <td>15.50</td>\n      <td>1000</td>\n      <td>UK</td>\n      <td>3.47</td>\n      <td>1.0</td>\n      <td>N/A</td>\n      <td>UNIVERSITY PRESS</td>\n      <td>N/A</td>\n      <td>UNIVERSITY PRESS</td>\n    </tr>\n    <tr>\n      <th>2</th>\n      <td>9781861345806</td>\n      <td>ZOOKAL</td>\n      <td>THAMES &amp; HUDSON</td>\n      <td>AUD</td>\n      <td>0.00</td>\n      <td>0.00</td>\n      <td>28.00</td>\n      <td>150</td>\n      <td>AUS</td>\n      <td>3.47</td>\n      <td>1.0</td>\n      <td>N/A</td>\n      <td>N/A</td>\n      <td>N/A</td>\n      <td>N/A</td>\n    </tr>\n    <tr>\n      <th>3</th>\n      <td>9780262531092</td>\n      <td>BILLSON</td>\n      <td>UNIVERSITY PRESS</td>\n      <td>GBP</td>\n      <td>37.95</td>\n      <td>0.38</td>\n      <td>23.53</td>\n      <td>1000</td>\n      <td>UK</td>\n      <td>3.47</td>\n      <td>1.0</td>\n      <td>N/A</td>\n      <td>UNIVERSITY PRESS</td>\n      <td>N/A</td>\n      <td>UNIVERSITY PRESS</td>\n    </tr>\n    <tr>\n      <th>4</th>\n      <td>9781861345837</td>\n      <td>ZOOKAL</td>\n      <td>THAMES &amp; HUDSON</td>\n      <td>AUD</td>\n      <td>0.00</td>\n      <td>0.00</td>\n      <td>35.00</td>\n      <td>150</td>\n      <td>AUS</td>\n      <td>3.47</td>\n      <td>1.0</td>\n      <td>N/A</td>\n      <td>N/A</td>\n      <td>N/A</td>\n      <td>N/A</td>\n    </tr>\n  </tbody>\n</table>\n</div>"
     },
     "metadata": {},
     "execution_count": 12
    }
   ],
   "source": [
    "megalist_pub = pd.merge(megalist, biblio2, how='left', on = 'isbn' )\n",
    "megalist_pub.head()"
   ]
  },
  {
   "cell_type": "code",
   "execution_count": 13,
   "metadata": {},
   "outputs": [
    {
     "output_type": "execute_result",
     "data": {
      "text/plain": "            isbn title               pub author supplier currency  price  \\\n0  9780262530873   N/A  UNIVERSITY PRESS    N/A  BILLSON      GBP   4.99   \n1  9780262530989   N/A  UNIVERSITY PRESS    N/A  BILLSON      GBP  25.00   \n2  9781861345806   N/A   THAMES & HUDSON    N/A   ZOOKAL      AUD  28.00   \n3  9780262531092   N/A  UNIVERSITY PRESS    N/A  BILLSON      GBP  37.95   \n4  9781861345837   N/A   THAMES & HUDSON    N/A   ZOOKAL      AUD  35.00   \n\n   discount  shipping_cost  sea_shipping_cost  max_qty origin  \n0      0.38           3.47                1.0     1000     UK  \n1      0.38           3.47                1.0     1000     UK  \n2      0.00           3.47                1.0      150    AUS  \n3      0.38           3.47                1.0     1000     UK  \n4      0.00           3.47                1.0      150    AUS  ",
      "text/html": "<div>\n<style scoped>\n    .dataframe tbody tr th:only-of-type {\n        vertical-align: middle;\n    }\n\n    .dataframe tbody tr th {\n        vertical-align: top;\n    }\n\n    .dataframe thead th {\n        text-align: right;\n    }\n</style>\n<table border=\"1\" class=\"dataframe\">\n  <thead>\n    <tr style=\"text-align: right;\">\n      <th></th>\n      <th>isbn</th>\n      <th>title</th>\n      <th>pub</th>\n      <th>author</th>\n      <th>supplier</th>\n      <th>currency</th>\n      <th>price</th>\n      <th>discount</th>\n      <th>shipping_cost</th>\n      <th>sea_shipping_cost</th>\n      <th>max_qty</th>\n      <th>origin</th>\n    </tr>\n  </thead>\n  <tbody>\n    <tr>\n      <th>0</th>\n      <td>9780262530873</td>\n      <td>N/A</td>\n      <td>UNIVERSITY PRESS</td>\n      <td>N/A</td>\n      <td>BILLSON</td>\n      <td>GBP</td>\n      <td>4.99</td>\n      <td>0.38</td>\n      <td>3.47</td>\n      <td>1.0</td>\n      <td>1000</td>\n      <td>UK</td>\n    </tr>\n    <tr>\n      <th>1</th>\n      <td>9780262530989</td>\n      <td>N/A</td>\n      <td>UNIVERSITY PRESS</td>\n      <td>N/A</td>\n      <td>BILLSON</td>\n      <td>GBP</td>\n      <td>25.00</td>\n      <td>0.38</td>\n      <td>3.47</td>\n      <td>1.0</td>\n      <td>1000</td>\n      <td>UK</td>\n    </tr>\n    <tr>\n      <th>2</th>\n      <td>9781861345806</td>\n      <td>N/A</td>\n      <td>THAMES &amp; HUDSON</td>\n      <td>N/A</td>\n      <td>ZOOKAL</td>\n      <td>AUD</td>\n      <td>28.00</td>\n      <td>0.00</td>\n      <td>3.47</td>\n      <td>1.0</td>\n      <td>150</td>\n      <td>AUS</td>\n    </tr>\n    <tr>\n      <th>3</th>\n      <td>9780262531092</td>\n      <td>N/A</td>\n      <td>UNIVERSITY PRESS</td>\n      <td>N/A</td>\n      <td>BILLSON</td>\n      <td>GBP</td>\n      <td>37.95</td>\n      <td>0.38</td>\n      <td>3.47</td>\n      <td>1.0</td>\n      <td>1000</td>\n      <td>UK</td>\n    </tr>\n    <tr>\n      <th>4</th>\n      <td>9781861345837</td>\n      <td>N/A</td>\n      <td>THAMES &amp; HUDSON</td>\n      <td>N/A</td>\n      <td>ZOOKAL</td>\n      <td>AUD</td>\n      <td>35.00</td>\n      <td>0.00</td>\n      <td>3.47</td>\n      <td>1.0</td>\n      <td>150</td>\n      <td>AUS</td>\n    </tr>\n  </tbody>\n</table>\n</div>"
     },
     "metadata": {},
     "execution_count": 13
    }
   ],
   "source": [
    "#cleaning pub name\n",
    "megalist_pub['pub'] = np.where(\n",
    "    megalist_pub['pub'] == 'N/A'\n",
    "    , megalist_pub['publisher_x']\n",
    "    , megalist_pub['pub'])\n",
    "    \n",
    "# centralizing price in one column\n",
    "megalist_pub['price'] = np.where(megalist_pub['listprice'] == 0.00, megalist_pub['costunitprice'], megalist_pub['listprice'])\n",
    "\n",
    "#clean column names\n",
    "megalist_pub.rename(columns={'unitshippingcost': 'shipping_cost', 'maxqtyperorder': 'max_qty', 'shipmentorigin': 'origin'}, inplace = True)\n",
    "\n",
    "#Arrange columns and drop unnecessary columns\n",
    "\n",
    "megalist_pub = megalist_pub[['isbn', 'title', 'pub', 'author', 'supplier', 'currency', 'price', 'discount', 'shipping_cost','sea_shipping_cost', 'max_qty', 'origin']]\n",
    "\n",
    "megalist_pub.head()"
   ]
  },
  {
   "cell_type": "markdown",
   "metadata": {},
   "source": [
    "### 4.3 Import all_lp and clean it"
   ]
  },
  {
   "cell_type": "code",
   "execution_count": 14,
   "metadata": {},
   "outputs": [
    {
     "output_type": "execute_result",
     "data": {
      "text/plain": "            Isbn Currency   Price\n0  9780030699160     USD    32.40\n1  9780030741524     USD    18.30\n2  9780030751196     GBP    54.99\n3  9780030769672     USD   383.20\n4  9780030779916     USD    31.80",
      "text/html": "<div>\n<style scoped>\n    .dataframe tbody tr th:only-of-type {\n        vertical-align: middle;\n    }\n\n    .dataframe tbody tr th {\n        vertical-align: top;\n    }\n\n    .dataframe thead th {\n        text-align: right;\n    }\n</style>\n<table border=\"1\" class=\"dataframe\">\n  <thead>\n    <tr style=\"text-align: right;\">\n      <th></th>\n      <th>Isbn</th>\n      <th>Currency</th>\n      <th>Price</th>\n    </tr>\n  </thead>\n  <tbody>\n    <tr>\n      <th>0</th>\n      <td>9780030699160</td>\n      <td>USD</td>\n      <td>32.40</td>\n    </tr>\n    <tr>\n      <th>1</th>\n      <td>9780030741524</td>\n      <td>USD</td>\n      <td>18.30</td>\n    </tr>\n    <tr>\n      <th>2</th>\n      <td>9780030751196</td>\n      <td>GBP</td>\n      <td>54.99</td>\n    </tr>\n    <tr>\n      <th>3</th>\n      <td>9780030769672</td>\n      <td>USD</td>\n      <td>383.20</td>\n    </tr>\n    <tr>\n      <th>4</th>\n      <td>9780030779916</td>\n      <td>USD</td>\n      <td>31.80</td>\n    </tr>\n  </tbody>\n</table>\n</div>"
     },
     "metadata": {},
     "execution_count": 14
    }
   ],
   "source": [
    "all_lp = pd.read_sql(all_lp, prod_db)\n",
    "all_lp.head()"
   ]
  },
  {
   "cell_type": "code",
   "execution_count": 15,
   "metadata": {},
   "outputs": [
    {
     "output_type": "execute_result",
     "data": {
      "text/plain": "            isbn currency   price\n0  9780030699160      USD   32.40\n1  9780030741524      USD   18.30\n2  9780030751196      GBP   54.99\n3  9780030769672      USD  383.20\n4  9780030779916      USD   31.80",
      "text/html": "<div>\n<style scoped>\n    .dataframe tbody tr th:only-of-type {\n        vertical-align: middle;\n    }\n\n    .dataframe tbody tr th {\n        vertical-align: top;\n    }\n\n    .dataframe thead th {\n        text-align: right;\n    }\n</style>\n<table border=\"1\" class=\"dataframe\">\n  <thead>\n    <tr style=\"text-align: right;\">\n      <th></th>\n      <th>isbn</th>\n      <th>currency</th>\n      <th>price</th>\n    </tr>\n  </thead>\n  <tbody>\n    <tr>\n      <th>0</th>\n      <td>9780030699160</td>\n      <td>USD</td>\n      <td>32.40</td>\n    </tr>\n    <tr>\n      <th>1</th>\n      <td>9780030741524</td>\n      <td>USD</td>\n      <td>18.30</td>\n    </tr>\n    <tr>\n      <th>2</th>\n      <td>9780030751196</td>\n      <td>GBP</td>\n      <td>54.99</td>\n    </tr>\n    <tr>\n      <th>3</th>\n      <td>9780030769672</td>\n      <td>USD</td>\n      <td>383.20</td>\n    </tr>\n    <tr>\n      <th>4</th>\n      <td>9780030779916</td>\n      <td>USD</td>\n      <td>31.80</td>\n    </tr>\n  </tbody>\n</table>\n</div>"
     },
     "metadata": {},
     "execution_count": 15
    }
   ],
   "source": [
    "all_lp.columns = map(str.lower, all_lp.columns)\n",
    "all_lp = all_lp.fillna('N/A')\n",
    "all_lp['isbn'] = all_lp['isbn'].astype(str)\n",
    "for col in ['isbn','currency']:\n",
    "    all_lp[col] = all_lp.apply(lambda x: clean_up(x[col]), axis =1)\n",
    "\n",
    "all_lp.head()"
   ]
  },
  {
   "cell_type": "markdown",
   "metadata": {},
   "source": [
    "#### 4.3.1 Get biblio with LP"
   ]
  },
  {
   "cell_type": "code",
   "execution_count": 16,
   "metadata": {},
   "outputs": [
    {
     "output_type": "execute_result",
     "data": {
      "text/plain": "            isbn currency   price                                   title  \\\n0  9780030699160      USD   32.40                                     N/A   \n1  9780030741524      USD   18.30  NUEVAS VISTAS: CUADERNO PRACTICA INTRO   \n2  9780030751196      GBP   54.99                                     N/A   \n3  9780030769672      USD  383.20                                     N/A   \n4  9780030779916      USD   31.80                                     N/A   \n\n          publisher                     author  \n0  HOUGHTON MIFFLIN                        N/A  \n1     HOLT MCDOUGAL  HOLT RINEHART AND WINSTON  \n2           CENGAGE                        N/A  \n3  HOUGHTON MIFFLIN                        N/A  \n4  HOUGHTON MIFFLIN                        N/A  ",
      "text/html": "<div>\n<style scoped>\n    .dataframe tbody tr th:only-of-type {\n        vertical-align: middle;\n    }\n\n    .dataframe tbody tr th {\n        vertical-align: top;\n    }\n\n    .dataframe thead th {\n        text-align: right;\n    }\n</style>\n<table border=\"1\" class=\"dataframe\">\n  <thead>\n    <tr style=\"text-align: right;\">\n      <th></th>\n      <th>isbn</th>\n      <th>currency</th>\n      <th>price</th>\n      <th>title</th>\n      <th>publisher</th>\n      <th>author</th>\n    </tr>\n  </thead>\n  <tbody>\n    <tr>\n      <th>0</th>\n      <td>9780030699160</td>\n      <td>USD</td>\n      <td>32.40</td>\n      <td>N/A</td>\n      <td>HOUGHTON MIFFLIN</td>\n      <td>N/A</td>\n    </tr>\n    <tr>\n      <th>1</th>\n      <td>9780030741524</td>\n      <td>USD</td>\n      <td>18.30</td>\n      <td>NUEVAS VISTAS: CUADERNO PRACTICA INTRO</td>\n      <td>HOLT MCDOUGAL</td>\n      <td>HOLT RINEHART AND WINSTON</td>\n    </tr>\n    <tr>\n      <th>2</th>\n      <td>9780030751196</td>\n      <td>GBP</td>\n      <td>54.99</td>\n      <td>N/A</td>\n      <td>CENGAGE</td>\n      <td>N/A</td>\n    </tr>\n    <tr>\n      <th>3</th>\n      <td>9780030769672</td>\n      <td>USD</td>\n      <td>383.20</td>\n      <td>N/A</td>\n      <td>HOUGHTON MIFFLIN</td>\n      <td>N/A</td>\n    </tr>\n    <tr>\n      <th>4</th>\n      <td>9780030779916</td>\n      <td>USD</td>\n      <td>31.80</td>\n      <td>N/A</td>\n      <td>HOUGHTON MIFFLIN</td>\n      <td>N/A</td>\n    </tr>\n  </tbody>\n</table>\n</div>"
     },
     "metadata": {},
     "execution_count": 16
    }
   ],
   "source": [
    "biblio_lp = pd.merge(all_lp, biblio2, how='left', on = 'isbn' )\n",
    "biblio_lp.drop(columns = ['pub'], inplace = True)\n",
    "biblio_lp.head()"
   ]
  },
  {
   "cell_type": "markdown",
   "metadata": {},
   "source": [
    "### 4.4 Import Sup_by_pub and clean it"
   ]
  },
  {
   "cell_type": "code",
   "execution_count": 17,
   "metadata": {},
   "outputs": [
    {
     "output_type": "execute_result",
     "data": {
      "text/plain": "  Supplier        Publisher Currency  Discount  Shipping Cost  max quantity  \\\n0   COINFO         3D TOTAL      AUD      0.22            3.3         10000   \n1   COINFO         ABC CLIO      AUD      0.30            3.3         10000   \n2   COINFO             AIAA      AUD      0.30            3.3         10000   \n3   COINFO    ALIEN & UNWIN      AUD      0.30            3.3         10000   \n4   COINFO  Amer Psych Ass.      AUD      0.33            3.3         10000   \n\n   Min ShipmentOrigin  Shipping Cost Sea  \n0    0            AUS                1.0  \n1    0            AUS                1.0  \n2    0            AUS                1.0  \n3    0            AUS                1.0  \n4    0            AUS                1.0  ",
      "text/html": "<div>\n<style scoped>\n    .dataframe tbody tr th:only-of-type {\n        vertical-align: middle;\n    }\n\n    .dataframe tbody tr th {\n        vertical-align: top;\n    }\n\n    .dataframe thead th {\n        text-align: right;\n    }\n</style>\n<table border=\"1\" class=\"dataframe\">\n  <thead>\n    <tr style=\"text-align: right;\">\n      <th></th>\n      <th>Supplier</th>\n      <th>Publisher</th>\n      <th>Currency</th>\n      <th>Discount</th>\n      <th>Shipping Cost</th>\n      <th>max quantity</th>\n      <th>Min</th>\n      <th>ShipmentOrigin</th>\n      <th>Shipping Cost Sea</th>\n    </tr>\n  </thead>\n  <tbody>\n    <tr>\n      <th>0</th>\n      <td>COINFO</td>\n      <td>3D TOTAL</td>\n      <td>AUD</td>\n      <td>0.22</td>\n      <td>3.3</td>\n      <td>10000</td>\n      <td>0</td>\n      <td>AUS</td>\n      <td>1.0</td>\n    </tr>\n    <tr>\n      <th>1</th>\n      <td>COINFO</td>\n      <td>ABC CLIO</td>\n      <td>AUD</td>\n      <td>0.30</td>\n      <td>3.3</td>\n      <td>10000</td>\n      <td>0</td>\n      <td>AUS</td>\n      <td>1.0</td>\n    </tr>\n    <tr>\n      <th>2</th>\n      <td>COINFO</td>\n      <td>AIAA</td>\n      <td>AUD</td>\n      <td>0.30</td>\n      <td>3.3</td>\n      <td>10000</td>\n      <td>0</td>\n      <td>AUS</td>\n      <td>1.0</td>\n    </tr>\n    <tr>\n      <th>3</th>\n      <td>COINFO</td>\n      <td>ALIEN &amp; UNWIN</td>\n      <td>AUD</td>\n      <td>0.30</td>\n      <td>3.3</td>\n      <td>10000</td>\n      <td>0</td>\n      <td>AUS</td>\n      <td>1.0</td>\n    </tr>\n    <tr>\n      <th>4</th>\n      <td>COINFO</td>\n      <td>Amer Psych Ass.</td>\n      <td>AUD</td>\n      <td>0.33</td>\n      <td>3.3</td>\n      <td>10000</td>\n      <td>0</td>\n      <td>AUS</td>\n      <td>1.0</td>\n    </tr>\n  </tbody>\n</table>\n</div>"
     },
     "metadata": {},
     "execution_count": 17
    }
   ],
   "source": [
    "sup_pub = pd.read_excel('../../../../Vendors/.  Vendors Details\\supplier_procurement_details.xlsx',  sheet_name='pub')\n",
    "sup_pub.head()"
   ]
  },
  {
   "cell_type": "code",
   "execution_count": 18,
   "metadata": {},
   "outputs": [
    {
     "output_type": "execute_result",
     "data": {
      "text/plain": "  supplier        publisher currency  discount  shipping cost  max quantity  \\\n0   COINFO         3D TOTAL      AUD      0.22            3.3         10000   \n1   COINFO         ABC CLIO      AUD      0.30            3.3         10000   \n2   COINFO             AIAA      AUD      0.30            3.3         10000   \n3   COINFO    ALIEN & UNWIN      AUD      0.30            3.3         10000   \n4   COINFO  AMER PSYCH ASS.      AUD      0.33            3.3         10000   \n\n   min shipmentorigin  shipping cost sea  \n0    0            AUS                1.0  \n1    0            AUS                1.0  \n2    0            AUS                1.0  \n3    0            AUS                1.0  \n4    0            AUS                1.0  ",
      "text/html": "<div>\n<style scoped>\n    .dataframe tbody tr th:only-of-type {\n        vertical-align: middle;\n    }\n\n    .dataframe tbody tr th {\n        vertical-align: top;\n    }\n\n    .dataframe thead th {\n        text-align: right;\n    }\n</style>\n<table border=\"1\" class=\"dataframe\">\n  <thead>\n    <tr style=\"text-align: right;\">\n      <th></th>\n      <th>supplier</th>\n      <th>publisher</th>\n      <th>currency</th>\n      <th>discount</th>\n      <th>shipping cost</th>\n      <th>max quantity</th>\n      <th>min</th>\n      <th>shipmentorigin</th>\n      <th>shipping cost sea</th>\n    </tr>\n  </thead>\n  <tbody>\n    <tr>\n      <th>0</th>\n      <td>COINFO</td>\n      <td>3D TOTAL</td>\n      <td>AUD</td>\n      <td>0.22</td>\n      <td>3.3</td>\n      <td>10000</td>\n      <td>0</td>\n      <td>AUS</td>\n      <td>1.0</td>\n    </tr>\n    <tr>\n      <th>1</th>\n      <td>COINFO</td>\n      <td>ABC CLIO</td>\n      <td>AUD</td>\n      <td>0.30</td>\n      <td>3.3</td>\n      <td>10000</td>\n      <td>0</td>\n      <td>AUS</td>\n      <td>1.0</td>\n    </tr>\n    <tr>\n      <th>2</th>\n      <td>COINFO</td>\n      <td>AIAA</td>\n      <td>AUD</td>\n      <td>0.30</td>\n      <td>3.3</td>\n      <td>10000</td>\n      <td>0</td>\n      <td>AUS</td>\n      <td>1.0</td>\n    </tr>\n    <tr>\n      <th>3</th>\n      <td>COINFO</td>\n      <td>ALIEN &amp; UNWIN</td>\n      <td>AUD</td>\n      <td>0.30</td>\n      <td>3.3</td>\n      <td>10000</td>\n      <td>0</td>\n      <td>AUS</td>\n      <td>1.0</td>\n    </tr>\n    <tr>\n      <th>4</th>\n      <td>COINFO</td>\n      <td>AMER PSYCH ASS.</td>\n      <td>AUD</td>\n      <td>0.33</td>\n      <td>3.3</td>\n      <td>10000</td>\n      <td>0</td>\n      <td>AUS</td>\n      <td>1.0</td>\n    </tr>\n  </tbody>\n</table>\n</div>"
     },
     "metadata": {},
     "execution_count": 18
    }
   ],
   "source": [
    "sup_pub.columns = map(str.lower, sup_pub.columns)\n",
    "sup_pub = sup_pub.fillna('N/A')\n",
    "for col in ['supplier','publisher', 'currency', 'shipmentorigin']:\n",
    "    sup_pub[col] = sup_pub.apply(lambda x: clean_up(x[col]), axis =1)\n",
    "sup_pub.head()"
   ]
  },
  {
   "cell_type": "markdown",
   "metadata": {},
   "source": [
    "#### 4.4.1 Merge Supplier by Publisher with biblio"
   ]
  },
  {
   "cell_type": "code",
   "execution_count": 19,
   "metadata": {},
   "outputs": [
    {
     "output_type": "execute_result",
     "data": {
      "text/plain": "            isbn currency   price  \\\n0  9780030751196      GBP   54.99   \n1  9780030723988      GBP   71.99   \n2  9780030758997      GBP   74.99   \n3  9780030973697      GBP  109.00   \n4  9780008179038      GBP    6.99   \n\n                                           title publisher  \\\n0                                            N/A   CENGAGE   \n1                                            N/A   CENGAGE   \n2             FRENCH FOR ORAL AND WRITTEN REVIEW   CENGAGE   \n3  PRINCIPLES OF BIOCHEMISTRY WITH A HUMAN FOCUS   CENGAGE   \n4       AQA A-LEVEL PHYSICS PRACTICE TEST PAPERS   CENGAGE   \n\n                                    author supplier  discount  shipping cost  \\\n0                                      N/A      ABE      0.41           3.47   \n1                                      N/A      ABE      0.41           3.47   \n2            CHARLES CARLUT; WALTER MEIDEN      ABE      0.41           3.47   \n3  REGINALD H. GARRETT; CHARLES M. GRISHAM      ABE      0.41           3.47   \n4                                      N/A      ABE      0.41           3.47   \n\n   max quantity  min shipmentorigin  shipping cost sea  \n0         10000    0             UK                1.0  \n1         10000    0             UK                1.0  \n2         10000    0             UK                1.0  \n3         10000    0             UK                1.0  \n4         10000    0             UK                1.0  ",
      "text/html": "<div>\n<style scoped>\n    .dataframe tbody tr th:only-of-type {\n        vertical-align: middle;\n    }\n\n    .dataframe tbody tr th {\n        vertical-align: top;\n    }\n\n    .dataframe thead th {\n        text-align: right;\n    }\n</style>\n<table border=\"1\" class=\"dataframe\">\n  <thead>\n    <tr style=\"text-align: right;\">\n      <th></th>\n      <th>isbn</th>\n      <th>currency</th>\n      <th>price</th>\n      <th>title</th>\n      <th>publisher</th>\n      <th>author</th>\n      <th>supplier</th>\n      <th>discount</th>\n      <th>shipping cost</th>\n      <th>max quantity</th>\n      <th>min</th>\n      <th>shipmentorigin</th>\n      <th>shipping cost sea</th>\n    </tr>\n  </thead>\n  <tbody>\n    <tr>\n      <th>0</th>\n      <td>9780030751196</td>\n      <td>GBP</td>\n      <td>54.99</td>\n      <td>N/A</td>\n      <td>CENGAGE</td>\n      <td>N/A</td>\n      <td>ABE</td>\n      <td>0.41</td>\n      <td>3.47</td>\n      <td>10000</td>\n      <td>0</td>\n      <td>UK</td>\n      <td>1.0</td>\n    </tr>\n    <tr>\n      <th>1</th>\n      <td>9780030723988</td>\n      <td>GBP</td>\n      <td>71.99</td>\n      <td>N/A</td>\n      <td>CENGAGE</td>\n      <td>N/A</td>\n      <td>ABE</td>\n      <td>0.41</td>\n      <td>3.47</td>\n      <td>10000</td>\n      <td>0</td>\n      <td>UK</td>\n      <td>1.0</td>\n    </tr>\n    <tr>\n      <th>2</th>\n      <td>9780030758997</td>\n      <td>GBP</td>\n      <td>74.99</td>\n      <td>FRENCH FOR ORAL AND WRITTEN REVIEW</td>\n      <td>CENGAGE</td>\n      <td>CHARLES CARLUT; WALTER MEIDEN</td>\n      <td>ABE</td>\n      <td>0.41</td>\n      <td>3.47</td>\n      <td>10000</td>\n      <td>0</td>\n      <td>UK</td>\n      <td>1.0</td>\n    </tr>\n    <tr>\n      <th>3</th>\n      <td>9780030973697</td>\n      <td>GBP</td>\n      <td>109.00</td>\n      <td>PRINCIPLES OF BIOCHEMISTRY WITH A HUMAN FOCUS</td>\n      <td>CENGAGE</td>\n      <td>REGINALD H. GARRETT; CHARLES M. GRISHAM</td>\n      <td>ABE</td>\n      <td>0.41</td>\n      <td>3.47</td>\n      <td>10000</td>\n      <td>0</td>\n      <td>UK</td>\n      <td>1.0</td>\n    </tr>\n    <tr>\n      <th>4</th>\n      <td>9780008179038</td>\n      <td>GBP</td>\n      <td>6.99</td>\n      <td>AQA A-LEVEL PHYSICS PRACTICE TEST PAPERS</td>\n      <td>CENGAGE</td>\n      <td>N/A</td>\n      <td>ABE</td>\n      <td>0.41</td>\n      <td>3.47</td>\n      <td>10000</td>\n      <td>0</td>\n      <td>UK</td>\n      <td>1.0</td>\n    </tr>\n  </tbody>\n</table>\n</div>"
     },
     "metadata": {},
     "execution_count": 19
    }
   ],
   "source": [
    "sup_pub_biblio = pd.merge(biblio_lp, sup_pub, how='inner', left_on = ['currency', 'publisher'], right_on = ['currency', 'publisher'])\n",
    "sup_pub_biblio.head()"
   ]
  },
  {
   "cell_type": "code",
   "execution_count": 20,
   "metadata": {},
   "outputs": [
    {
     "output_type": "execute_result",
     "data": {
      "text/plain": "            isbn currency   price  \\\n0  9780030751196      GBP   54.99   \n1  9780030723988      GBP   71.99   \n2  9780030758997      GBP   74.99   \n3  9780030973697      GBP  109.00   \n4  9780008179038      GBP    6.99   \n\n                                           title      pub  \\\n0                                            N/A  CENGAGE   \n1                                            N/A  CENGAGE   \n2             FRENCH FOR ORAL AND WRITTEN REVIEW  CENGAGE   \n3  PRINCIPLES OF BIOCHEMISTRY WITH A HUMAN FOCUS  CENGAGE   \n4       AQA A-LEVEL PHYSICS PRACTICE TEST PAPERS  CENGAGE   \n\n                                    author supplier  discount  shipping_cost  \\\n0                                      N/A      ABE      0.41           3.47   \n1                                      N/A      ABE      0.41           3.47   \n2            CHARLES CARLUT; WALTER MEIDEN      ABE      0.41           3.47   \n3  REGINALD H. GARRETT; CHARLES M. GRISHAM      ABE      0.41           3.47   \n4                                      N/A      ABE      0.41           3.47   \n\n   max_qty  min origin  sea_shipping_cost  \n0    10000    0     UK                1.0  \n1    10000    0     UK                1.0  \n2    10000    0     UK                1.0  \n3    10000    0     UK                1.0  \n4    10000    0     UK                1.0  ",
      "text/html": "<div>\n<style scoped>\n    .dataframe tbody tr th:only-of-type {\n        vertical-align: middle;\n    }\n\n    .dataframe tbody tr th {\n        vertical-align: top;\n    }\n\n    .dataframe thead th {\n        text-align: right;\n    }\n</style>\n<table border=\"1\" class=\"dataframe\">\n  <thead>\n    <tr style=\"text-align: right;\">\n      <th></th>\n      <th>isbn</th>\n      <th>currency</th>\n      <th>price</th>\n      <th>title</th>\n      <th>pub</th>\n      <th>author</th>\n      <th>supplier</th>\n      <th>discount</th>\n      <th>shipping_cost</th>\n      <th>max_qty</th>\n      <th>min</th>\n      <th>origin</th>\n      <th>sea_shipping_cost</th>\n    </tr>\n  </thead>\n  <tbody>\n    <tr>\n      <th>0</th>\n      <td>9780030751196</td>\n      <td>GBP</td>\n      <td>54.99</td>\n      <td>N/A</td>\n      <td>CENGAGE</td>\n      <td>N/A</td>\n      <td>ABE</td>\n      <td>0.41</td>\n      <td>3.47</td>\n      <td>10000</td>\n      <td>0</td>\n      <td>UK</td>\n      <td>1.0</td>\n    </tr>\n    <tr>\n      <th>1</th>\n      <td>9780030723988</td>\n      <td>GBP</td>\n      <td>71.99</td>\n      <td>N/A</td>\n      <td>CENGAGE</td>\n      <td>N/A</td>\n      <td>ABE</td>\n      <td>0.41</td>\n      <td>3.47</td>\n      <td>10000</td>\n      <td>0</td>\n      <td>UK</td>\n      <td>1.0</td>\n    </tr>\n    <tr>\n      <th>2</th>\n      <td>9780030758997</td>\n      <td>GBP</td>\n      <td>74.99</td>\n      <td>FRENCH FOR ORAL AND WRITTEN REVIEW</td>\n      <td>CENGAGE</td>\n      <td>CHARLES CARLUT; WALTER MEIDEN</td>\n      <td>ABE</td>\n      <td>0.41</td>\n      <td>3.47</td>\n      <td>10000</td>\n      <td>0</td>\n      <td>UK</td>\n      <td>1.0</td>\n    </tr>\n    <tr>\n      <th>3</th>\n      <td>9780030973697</td>\n      <td>GBP</td>\n      <td>109.00</td>\n      <td>PRINCIPLES OF BIOCHEMISTRY WITH A HUMAN FOCUS</td>\n      <td>CENGAGE</td>\n      <td>REGINALD H. GARRETT; CHARLES M. GRISHAM</td>\n      <td>ABE</td>\n      <td>0.41</td>\n      <td>3.47</td>\n      <td>10000</td>\n      <td>0</td>\n      <td>UK</td>\n      <td>1.0</td>\n    </tr>\n    <tr>\n      <th>4</th>\n      <td>9780008179038</td>\n      <td>GBP</td>\n      <td>6.99</td>\n      <td>AQA A-LEVEL PHYSICS PRACTICE TEST PAPERS</td>\n      <td>CENGAGE</td>\n      <td>N/A</td>\n      <td>ABE</td>\n      <td>0.41</td>\n      <td>3.47</td>\n      <td>10000</td>\n      <td>0</td>\n      <td>UK</td>\n      <td>1.0</td>\n    </tr>\n  </tbody>\n</table>\n</div>"
     },
     "metadata": {},
     "execution_count": 20
    }
   ],
   "source": [
    "\n",
    "sup_pub_biblio.rename(columns={'publisher': 'pub','shipping cost': 'shipping_cost', 'max quantity': 'max_qty', 'shipmentorigin': 'origin', 'shipping cost sea' : 'sea_shipping_cost'}, inplace = True)\n",
    "\n",
    "sup_pub_biblio.head()"
   ]
  },
  {
   "cell_type": "markdown",
   "metadata": {},
   "source": [
    "#### 4.5 Import short_disc and clean it"
   ]
  },
  {
   "cell_type": "code",
   "execution_count": 21,
   "metadata": {},
   "outputs": [
    {
     "output_type": "execute_result",
     "data": {
      "text/plain": "  SUPPLIER           ISBN  DISCOUNT\n0      ABE  9781408041734       0.2\n1      ABE  9781408041918       0.2\n2      ABE  9781408056509       0.2\n3      ABE  9781408060377       0.2\n4      ABE  9780534944827       0.3",
      "text/html": "<div>\n<style scoped>\n    .dataframe tbody tr th:only-of-type {\n        vertical-align: middle;\n    }\n\n    .dataframe tbody tr th {\n        vertical-align: top;\n    }\n\n    .dataframe thead th {\n        text-align: right;\n    }\n</style>\n<table border=\"1\" class=\"dataframe\">\n  <thead>\n    <tr style=\"text-align: right;\">\n      <th></th>\n      <th>SUPPLIER</th>\n      <th>ISBN</th>\n      <th>DISCOUNT</th>\n    </tr>\n  </thead>\n  <tbody>\n    <tr>\n      <th>0</th>\n      <td>ABE</td>\n      <td>9781408041734</td>\n      <td>0.2</td>\n    </tr>\n    <tr>\n      <th>1</th>\n      <td>ABE</td>\n      <td>9781408041918</td>\n      <td>0.2</td>\n    </tr>\n    <tr>\n      <th>2</th>\n      <td>ABE</td>\n      <td>9781408056509</td>\n      <td>0.2</td>\n    </tr>\n    <tr>\n      <th>3</th>\n      <td>ABE</td>\n      <td>9781408060377</td>\n      <td>0.2</td>\n    </tr>\n    <tr>\n      <th>4</th>\n      <td>ABE</td>\n      <td>9780534944827</td>\n      <td>0.3</td>\n    </tr>\n  </tbody>\n</table>\n</div>"
     },
     "metadata": {},
     "execution_count": 21
    }
   ],
   "source": [
    "sp_disc = pd.read_excel(\"../../../../Vendors/. Short Discounted/all_short_discount_list.xlsx\")\n",
    "sp_disc.head()"
   ]
  },
  {
   "cell_type": "code",
   "execution_count": 22,
   "metadata": {},
   "outputs": [
    {
     "output_type": "execute_result",
     "data": {
      "text/plain": "  supplier           isbn discount\n0      ABE  9781408041734      0.2\n1      ABE  9781408041918      0.2\n2      ABE  9781408056509      0.2\n3      ABE  9781408060377      0.2\n4      ABE  9780534944827      0.3",
      "text/html": "<div>\n<style scoped>\n    .dataframe tbody tr th:only-of-type {\n        vertical-align: middle;\n    }\n\n    .dataframe tbody tr th {\n        vertical-align: top;\n    }\n\n    .dataframe thead th {\n        text-align: right;\n    }\n</style>\n<table border=\"1\" class=\"dataframe\">\n  <thead>\n    <tr style=\"text-align: right;\">\n      <th></th>\n      <th>supplier</th>\n      <th>isbn</th>\n      <th>discount</th>\n    </tr>\n  </thead>\n  <tbody>\n    <tr>\n      <th>0</th>\n      <td>ABE</td>\n      <td>9781408041734</td>\n      <td>0.2</td>\n    </tr>\n    <tr>\n      <th>1</th>\n      <td>ABE</td>\n      <td>9781408041918</td>\n      <td>0.2</td>\n    </tr>\n    <tr>\n      <th>2</th>\n      <td>ABE</td>\n      <td>9781408056509</td>\n      <td>0.2</td>\n    </tr>\n    <tr>\n      <th>3</th>\n      <td>ABE</td>\n      <td>9781408060377</td>\n      <td>0.2</td>\n    </tr>\n    <tr>\n      <th>4</th>\n      <td>ABE</td>\n      <td>9780534944827</td>\n      <td>0.3</td>\n    </tr>\n  </tbody>\n</table>\n</div>"
     },
     "metadata": {},
     "execution_count": 22
    }
   ],
   "source": [
    "sp_disc.columns = map(str.lower, sp_disc.columns)\n",
    "sp_disc = sp_disc.fillna('N/A')\n",
    "sp_disc['isbn'] = sp_disc['isbn'].astype(str)\n",
    "for col in ['supplier', 'isbn']:\n",
    "    sp_disc[col] = sp_disc.apply(lambda x: clean_up(x[col]), axis =1)\n",
    "sp_disc.head()"
   ]
  },
  {
   "cell_type": "markdown",
   "metadata": {},
   "source": [
    "#### 4.5.1 Merge sup_pub_biblio by sp_disc with biblio"
   ]
  },
  {
   "cell_type": "code",
   "execution_count": 23,
   "metadata": {},
   "outputs": [
    {
     "output_type": "execute_result",
     "data": {
      "text/plain": "            isbn currency   price  \\\n0  9780030751196      GBP   54.99   \n1  9780030723988      GBP   71.99   \n2  9780030758997      GBP   74.99   \n3  9780030973697      GBP  109.00   \n4  9780008179038      GBP    6.99   \n\n                                           title      pub  \\\n0                                            N/A  CENGAGE   \n1                                            N/A  CENGAGE   \n2             FRENCH FOR ORAL AND WRITTEN REVIEW  CENGAGE   \n3  PRINCIPLES OF BIOCHEMISTRY WITH A HUMAN FOCUS  CENGAGE   \n4       AQA A-LEVEL PHYSICS PRACTICE TEST PAPERS  CENGAGE   \n\n                                    author supplier  discount_x  \\\n0                                      N/A      ABE        0.41   \n1                                      N/A      ABE        0.41   \n2            CHARLES CARLUT; WALTER MEIDEN      ABE        0.41   \n3  REGINALD H. GARRETT; CHARLES M. GRISHAM      ABE        0.41   \n4                                      N/A      ABE        0.41   \n\n   shipping_cost  max_qty  min origin  sea_shipping_cost discount_y  \n0           3.47    10000    0     UK                1.0        NaN  \n1           3.47    10000    0     UK                1.0        NaN  \n2           3.47    10000    0     UK                1.0        NaN  \n3           3.47    10000    0     UK                1.0        NaN  \n4           3.47    10000    0     UK                1.0        NaN  ",
      "text/html": "<div>\n<style scoped>\n    .dataframe tbody tr th:only-of-type {\n        vertical-align: middle;\n    }\n\n    .dataframe tbody tr th {\n        vertical-align: top;\n    }\n\n    .dataframe thead th {\n        text-align: right;\n    }\n</style>\n<table border=\"1\" class=\"dataframe\">\n  <thead>\n    <tr style=\"text-align: right;\">\n      <th></th>\n      <th>isbn</th>\n      <th>currency</th>\n      <th>price</th>\n      <th>title</th>\n      <th>pub</th>\n      <th>author</th>\n      <th>supplier</th>\n      <th>discount_x</th>\n      <th>shipping_cost</th>\n      <th>max_qty</th>\n      <th>min</th>\n      <th>origin</th>\n      <th>sea_shipping_cost</th>\n      <th>discount_y</th>\n    </tr>\n  </thead>\n  <tbody>\n    <tr>\n      <th>0</th>\n      <td>9780030751196</td>\n      <td>GBP</td>\n      <td>54.99</td>\n      <td>N/A</td>\n      <td>CENGAGE</td>\n      <td>N/A</td>\n      <td>ABE</td>\n      <td>0.41</td>\n      <td>3.47</td>\n      <td>10000</td>\n      <td>0</td>\n      <td>UK</td>\n      <td>1.0</td>\n      <td>NaN</td>\n    </tr>\n    <tr>\n      <th>1</th>\n      <td>9780030723988</td>\n      <td>GBP</td>\n      <td>71.99</td>\n      <td>N/A</td>\n      <td>CENGAGE</td>\n      <td>N/A</td>\n      <td>ABE</td>\n      <td>0.41</td>\n      <td>3.47</td>\n      <td>10000</td>\n      <td>0</td>\n      <td>UK</td>\n      <td>1.0</td>\n      <td>NaN</td>\n    </tr>\n    <tr>\n      <th>2</th>\n      <td>9780030758997</td>\n      <td>GBP</td>\n      <td>74.99</td>\n      <td>FRENCH FOR ORAL AND WRITTEN REVIEW</td>\n      <td>CENGAGE</td>\n      <td>CHARLES CARLUT; WALTER MEIDEN</td>\n      <td>ABE</td>\n      <td>0.41</td>\n      <td>3.47</td>\n      <td>10000</td>\n      <td>0</td>\n      <td>UK</td>\n      <td>1.0</td>\n      <td>NaN</td>\n    </tr>\n    <tr>\n      <th>3</th>\n      <td>9780030973697</td>\n      <td>GBP</td>\n      <td>109.00</td>\n      <td>PRINCIPLES OF BIOCHEMISTRY WITH A HUMAN FOCUS</td>\n      <td>CENGAGE</td>\n      <td>REGINALD H. GARRETT; CHARLES M. GRISHAM</td>\n      <td>ABE</td>\n      <td>0.41</td>\n      <td>3.47</td>\n      <td>10000</td>\n      <td>0</td>\n      <td>UK</td>\n      <td>1.0</td>\n      <td>NaN</td>\n    </tr>\n    <tr>\n      <th>4</th>\n      <td>9780008179038</td>\n      <td>GBP</td>\n      <td>6.99</td>\n      <td>AQA A-LEVEL PHYSICS PRACTICE TEST PAPERS</td>\n      <td>CENGAGE</td>\n      <td>N/A</td>\n      <td>ABE</td>\n      <td>0.41</td>\n      <td>3.47</td>\n      <td>10000</td>\n      <td>0</td>\n      <td>UK</td>\n      <td>1.0</td>\n      <td>NaN</td>\n    </tr>\n  </tbody>\n</table>\n</div>"
     },
     "metadata": {},
     "execution_count": 23
    }
   ],
   "source": [
    "sup_biblio_disc = pd.merge(sup_pub_biblio, sp_disc, how='left', on = ['supplier', 'isbn'])\n",
    "sup_biblio_disc.head()"
   ]
  },
  {
   "cell_type": "code",
   "execution_count": 24,
   "metadata": {},
   "outputs": [
    {
     "output_type": "execute_result",
     "data": {
      "text/plain": "            isbn currency   price  \\\n0  9780030751196      GBP   54.99   \n1  9780030723988      GBP   71.99   \n2  9780030758997      GBP   74.99   \n3  9780030973697      GBP  109.00   \n4  9780008179038      GBP    6.99   \n\n                                           title      pub  \\\n0                                            N/A  CENGAGE   \n1                                            N/A  CENGAGE   \n2             FRENCH FOR ORAL AND WRITTEN REVIEW  CENGAGE   \n3  PRINCIPLES OF BIOCHEMISTRY WITH A HUMAN FOCUS  CENGAGE   \n4       AQA A-LEVEL PHYSICS PRACTICE TEST PAPERS  CENGAGE   \n\n                                    author supplier  discount_x  \\\n0                                      N/A      ABE        0.41   \n1                                      N/A      ABE        0.41   \n2            CHARLES CARLUT; WALTER MEIDEN      ABE        0.41   \n3  REGINALD H. GARRETT; CHARLES M. GRISHAM      ABE        0.41   \n4                                      N/A      ABE        0.41   \n\n   shipping_cost  max_qty  min origin  sea_shipping_cost discount_y discount  \n0           3.47    10000    0     UK                1.0        NaN     0.41  \n1           3.47    10000    0     UK                1.0        NaN     0.41  \n2           3.47    10000    0     UK                1.0        NaN     0.41  \n3           3.47    10000    0     UK                1.0        NaN     0.41  \n4           3.47    10000    0     UK                1.0        NaN     0.41  ",
      "text/html": "<div>\n<style scoped>\n    .dataframe tbody tr th:only-of-type {\n        vertical-align: middle;\n    }\n\n    .dataframe tbody tr th {\n        vertical-align: top;\n    }\n\n    .dataframe thead th {\n        text-align: right;\n    }\n</style>\n<table border=\"1\" class=\"dataframe\">\n  <thead>\n    <tr style=\"text-align: right;\">\n      <th></th>\n      <th>isbn</th>\n      <th>currency</th>\n      <th>price</th>\n      <th>title</th>\n      <th>pub</th>\n      <th>author</th>\n      <th>supplier</th>\n      <th>discount_x</th>\n      <th>shipping_cost</th>\n      <th>max_qty</th>\n      <th>min</th>\n      <th>origin</th>\n      <th>sea_shipping_cost</th>\n      <th>discount_y</th>\n      <th>discount</th>\n    </tr>\n  </thead>\n  <tbody>\n    <tr>\n      <th>0</th>\n      <td>9780030751196</td>\n      <td>GBP</td>\n      <td>54.99</td>\n      <td>N/A</td>\n      <td>CENGAGE</td>\n      <td>N/A</td>\n      <td>ABE</td>\n      <td>0.41</td>\n      <td>3.47</td>\n      <td>10000</td>\n      <td>0</td>\n      <td>UK</td>\n      <td>1.0</td>\n      <td>NaN</td>\n      <td>0.41</td>\n    </tr>\n    <tr>\n      <th>1</th>\n      <td>9780030723988</td>\n      <td>GBP</td>\n      <td>71.99</td>\n      <td>N/A</td>\n      <td>CENGAGE</td>\n      <td>N/A</td>\n      <td>ABE</td>\n      <td>0.41</td>\n      <td>3.47</td>\n      <td>10000</td>\n      <td>0</td>\n      <td>UK</td>\n      <td>1.0</td>\n      <td>NaN</td>\n      <td>0.41</td>\n    </tr>\n    <tr>\n      <th>2</th>\n      <td>9780030758997</td>\n      <td>GBP</td>\n      <td>74.99</td>\n      <td>FRENCH FOR ORAL AND WRITTEN REVIEW</td>\n      <td>CENGAGE</td>\n      <td>CHARLES CARLUT; WALTER MEIDEN</td>\n      <td>ABE</td>\n      <td>0.41</td>\n      <td>3.47</td>\n      <td>10000</td>\n      <td>0</td>\n      <td>UK</td>\n      <td>1.0</td>\n      <td>NaN</td>\n      <td>0.41</td>\n    </tr>\n    <tr>\n      <th>3</th>\n      <td>9780030973697</td>\n      <td>GBP</td>\n      <td>109.00</td>\n      <td>PRINCIPLES OF BIOCHEMISTRY WITH A HUMAN FOCUS</td>\n      <td>CENGAGE</td>\n      <td>REGINALD H. GARRETT; CHARLES M. GRISHAM</td>\n      <td>ABE</td>\n      <td>0.41</td>\n      <td>3.47</td>\n      <td>10000</td>\n      <td>0</td>\n      <td>UK</td>\n      <td>1.0</td>\n      <td>NaN</td>\n      <td>0.41</td>\n    </tr>\n    <tr>\n      <th>4</th>\n      <td>9780008179038</td>\n      <td>GBP</td>\n      <td>6.99</td>\n      <td>AQA A-LEVEL PHYSICS PRACTICE TEST PAPERS</td>\n      <td>CENGAGE</td>\n      <td>N/A</td>\n      <td>ABE</td>\n      <td>0.41</td>\n      <td>3.47</td>\n      <td>10000</td>\n      <td>0</td>\n      <td>UK</td>\n      <td>1.0</td>\n      <td>NaN</td>\n      <td>0.41</td>\n    </tr>\n  </tbody>\n</table>\n</div>"
     },
     "metadata": {},
     "execution_count": 24
    }
   ],
   "source": [
    "sup_biblio_disc['discount'] = np.where(sup_biblio_disc['discount_y'].isna(), sup_biblio_disc['discount_x'],sup_biblio_disc['discount_y'])\n",
    "\n",
    "\n",
    "#Drop unneccessary Columns\n",
    "\n",
    "sup_biblio_disc.head()"
   ]
  },
  {
   "cell_type": "code",
   "execution_count": 25,
   "metadata": {},
   "outputs": [
    {
     "output_type": "execute_result",
     "data": {
      "text/plain": "            isbn                                          title      pub  \\\n0  9780030751196                                            N/A  CENGAGE   \n1  9780030723988                                            N/A  CENGAGE   \n2  9780030758997             FRENCH FOR ORAL AND WRITTEN REVIEW  CENGAGE   \n3  9780030973697  PRINCIPLES OF BIOCHEMISTRY WITH A HUMAN FOCUS  CENGAGE   \n4  9780008179038       AQA A-LEVEL PHYSICS PRACTICE TEST PAPERS  CENGAGE   \n\n                                    author supplier currency   price discount  \\\n0                                      N/A      ABE      GBP   54.99     0.41   \n1                                      N/A      ABE      GBP   71.99     0.41   \n2            CHARLES CARLUT; WALTER MEIDEN      ABE      GBP   74.99     0.41   \n3  REGINALD H. GARRETT; CHARLES M. GRISHAM      ABE      GBP  109.00     0.41   \n4                                      N/A      ABE      GBP    6.99     0.41   \n\n   shipping_cost  sea_shipping_cost  max_qty origin  \n0           3.47                1.0    10000     UK  \n1           3.47                1.0    10000     UK  \n2           3.47                1.0    10000     UK  \n3           3.47                1.0    10000     UK  \n4           3.47                1.0    10000     UK  ",
      "text/html": "<div>\n<style scoped>\n    .dataframe tbody tr th:only-of-type {\n        vertical-align: middle;\n    }\n\n    .dataframe tbody tr th {\n        vertical-align: top;\n    }\n\n    .dataframe thead th {\n        text-align: right;\n    }\n</style>\n<table border=\"1\" class=\"dataframe\">\n  <thead>\n    <tr style=\"text-align: right;\">\n      <th></th>\n      <th>isbn</th>\n      <th>title</th>\n      <th>pub</th>\n      <th>author</th>\n      <th>supplier</th>\n      <th>currency</th>\n      <th>price</th>\n      <th>discount</th>\n      <th>shipping_cost</th>\n      <th>sea_shipping_cost</th>\n      <th>max_qty</th>\n      <th>origin</th>\n    </tr>\n  </thead>\n  <tbody>\n    <tr>\n      <th>0</th>\n      <td>9780030751196</td>\n      <td>N/A</td>\n      <td>CENGAGE</td>\n      <td>N/A</td>\n      <td>ABE</td>\n      <td>GBP</td>\n      <td>54.99</td>\n      <td>0.41</td>\n      <td>3.47</td>\n      <td>1.0</td>\n      <td>10000</td>\n      <td>UK</td>\n    </tr>\n    <tr>\n      <th>1</th>\n      <td>9780030723988</td>\n      <td>N/A</td>\n      <td>CENGAGE</td>\n      <td>N/A</td>\n      <td>ABE</td>\n      <td>GBP</td>\n      <td>71.99</td>\n      <td>0.41</td>\n      <td>3.47</td>\n      <td>1.0</td>\n      <td>10000</td>\n      <td>UK</td>\n    </tr>\n    <tr>\n      <th>2</th>\n      <td>9780030758997</td>\n      <td>FRENCH FOR ORAL AND WRITTEN REVIEW</td>\n      <td>CENGAGE</td>\n      <td>CHARLES CARLUT; WALTER MEIDEN</td>\n      <td>ABE</td>\n      <td>GBP</td>\n      <td>74.99</td>\n      <td>0.41</td>\n      <td>3.47</td>\n      <td>1.0</td>\n      <td>10000</td>\n      <td>UK</td>\n    </tr>\n    <tr>\n      <th>3</th>\n      <td>9780030973697</td>\n      <td>PRINCIPLES OF BIOCHEMISTRY WITH A HUMAN FOCUS</td>\n      <td>CENGAGE</td>\n      <td>REGINALD H. GARRETT; CHARLES M. GRISHAM</td>\n      <td>ABE</td>\n      <td>GBP</td>\n      <td>109.00</td>\n      <td>0.41</td>\n      <td>3.47</td>\n      <td>1.0</td>\n      <td>10000</td>\n      <td>UK</td>\n    </tr>\n    <tr>\n      <th>4</th>\n      <td>9780008179038</td>\n      <td>AQA A-LEVEL PHYSICS PRACTICE TEST PAPERS</td>\n      <td>CENGAGE</td>\n      <td>N/A</td>\n      <td>ABE</td>\n      <td>GBP</td>\n      <td>6.99</td>\n      <td>0.41</td>\n      <td>3.47</td>\n      <td>1.0</td>\n      <td>10000</td>\n      <td>UK</td>\n    </tr>\n  </tbody>\n</table>\n</div>"
     },
     "metadata": {},
     "execution_count": 25
    }
   ],
   "source": [
    "sup_biblio_disc = sup_biblio_disc[['isbn', 'title', 'pub', 'author', 'supplier', 'currency', 'price', 'discount', 'shipping_cost', 'sea_shipping_cost', 'max_qty', 'origin']]\n",
    "sup_biblio_disc.head()"
   ]
  },
  {
   "cell_type": "markdown",
   "metadata": {},
   "source": [
    "### 4.6 Create table for WC"
   ]
  },
  {
   "cell_type": "code",
   "execution_count": 26,
   "metadata": {},
   "outputs": [
    {
     "output_type": "execute_result",
     "data": {
      "text/plain": "             isbn                                              title  pub  \\\n47  9780060000448  MIDDLE RANGE THEORIES: APPLICATION TO NURSING ...  LWW   \n82  9780006392828                                                N/A  N/A   \n83  9780006392910                                                N/A  N/A   \n84  9780006393146                                                N/A  N/A   \n85  9780006393740                                                N/A  N/A   \n\n                author supplier currency  price  discount  shipping_cost  \\\n47  SANDRA J. PETERSON       WC      CAD   9.95       0.1              2   \n82                 N/A       WC      CAD  19.95       0.1              2   \n83                 N/A       WC      CAD  18.95       0.1              2   \n84                 N/A       WC      CAD  19.95       0.1              2   \n85                 N/A       WC      CAD  16.99       0.1              2   \n\n    sea_shipping_cost  max_qty origin  \n47                  2    10000    CAN  \n82                  2    10000    CAN  \n83                  2    10000    CAN  \n84                  2    10000    CAN  \n85                  2    10000    CAN  ",
      "text/html": "<div>\n<style scoped>\n    .dataframe tbody tr th:only-of-type {\n        vertical-align: middle;\n    }\n\n    .dataframe tbody tr th {\n        vertical-align: top;\n    }\n\n    .dataframe thead th {\n        text-align: right;\n    }\n</style>\n<table border=\"1\" class=\"dataframe\">\n  <thead>\n    <tr style=\"text-align: right;\">\n      <th></th>\n      <th>isbn</th>\n      <th>title</th>\n      <th>pub</th>\n      <th>author</th>\n      <th>supplier</th>\n      <th>currency</th>\n      <th>price</th>\n      <th>discount</th>\n      <th>shipping_cost</th>\n      <th>sea_shipping_cost</th>\n      <th>max_qty</th>\n      <th>origin</th>\n    </tr>\n  </thead>\n  <tbody>\n    <tr>\n      <th>47</th>\n      <td>9780060000448</td>\n      <td>MIDDLE RANGE THEORIES: APPLICATION TO NURSING ...</td>\n      <td>LWW</td>\n      <td>SANDRA J. PETERSON</td>\n      <td>WC</td>\n      <td>CAD</td>\n      <td>9.95</td>\n      <td>0.1</td>\n      <td>2</td>\n      <td>2</td>\n      <td>10000</td>\n      <td>CAN</td>\n    </tr>\n    <tr>\n      <th>82</th>\n      <td>9780006392828</td>\n      <td>N/A</td>\n      <td>N/A</td>\n      <td>N/A</td>\n      <td>WC</td>\n      <td>CAD</td>\n      <td>19.95</td>\n      <td>0.1</td>\n      <td>2</td>\n      <td>2</td>\n      <td>10000</td>\n      <td>CAN</td>\n    </tr>\n    <tr>\n      <th>83</th>\n      <td>9780006392910</td>\n      <td>N/A</td>\n      <td>N/A</td>\n      <td>N/A</td>\n      <td>WC</td>\n      <td>CAD</td>\n      <td>18.95</td>\n      <td>0.1</td>\n      <td>2</td>\n      <td>2</td>\n      <td>10000</td>\n      <td>CAN</td>\n    </tr>\n    <tr>\n      <th>84</th>\n      <td>9780006393146</td>\n      <td>N/A</td>\n      <td>N/A</td>\n      <td>N/A</td>\n      <td>WC</td>\n      <td>CAD</td>\n      <td>19.95</td>\n      <td>0.1</td>\n      <td>2</td>\n      <td>2</td>\n      <td>10000</td>\n      <td>CAN</td>\n    </tr>\n    <tr>\n      <th>85</th>\n      <td>9780006393740</td>\n      <td>N/A</td>\n      <td>N/A</td>\n      <td>N/A</td>\n      <td>WC</td>\n      <td>CAD</td>\n      <td>16.99</td>\n      <td>0.1</td>\n      <td>2</td>\n      <td>2</td>\n      <td>10000</td>\n      <td>CAN</td>\n    </tr>\n  </tbody>\n</table>\n</div>"
     },
     "metadata": {},
     "execution_count": 26
    }
   ],
   "source": [
    "can_sup = biblio_lp[biblio_lp['currency'] == 'CND']\n",
    "can_sup.columns = map(str.lower, can_sup.columns)\n",
    "can_sup['supplier'] = 'WC'\n",
    "can_sup['discount'] = np.where(can_sup['price']<150, 0.1, np.where((can_sup['price'] >=150) & (can_sup['price']<200),0.12,0.14))\n",
    "can_sup['max_qty'] = 10000\n",
    "can_sup['origin'] = 'CAN'\n",
    "can_sup['shipping_cost'] = 2\n",
    "can_sup.rename(columns={'publisher': 'pub'}, inplace = True)\n",
    "can_sup['currency'] = 'CAD'\n",
    "can_sup['sea_shipping_cost'] = 2\n",
    "\n",
    "can_sup = can_sup[['isbn', 'title', 'pub', 'author', 'supplier', 'currency', 'price', 'discount', 'shipping_cost','sea_shipping_cost' , 'max_qty', 'origin']]\n",
    "\n",
    "can_sup.head()"
   ]
  },
  {
   "cell_type": "markdown",
   "metadata": {},
   "source": [
    "## 5. Append SupplierMegaLis, PublisherSuppliers and WesterCampus"
   ]
  },
  {
   "cell_type": "code",
   "execution_count": 27,
   "metadata": {},
   "outputs": [
    {
     "output_type": "execute_result",
     "data": {
      "text/plain": "isbn                   0\ntitle                458\npub                  458\nauthor               458\nsupplier               0\ncurrency               0\nprice                  0\ndiscount               0\nshipping_cost          0\nsea_shipping_cost      0\nmax_qty                0\norigin                 0\ndtype: int64"
     },
     "metadata": {},
     "execution_count": 27
    }
   ],
   "source": [
    "all_sup = megalist_pub.append([sup_biblio_disc, can_sup], ignore_index= True)\n",
    "\n",
    "all_sup_biblio = pd.merge(all_sup,biblio[['isbn', 'publisher']] , how='left', on = 'isbn')\n",
    "\n",
    "all_sup_biblio['pub'] = np.where(all_sup_biblio['pub'].isna(), all_sup_biblio['publisher'], all_sup_biblio['pub'])\n",
    "\n",
    "all_sup = all_sup_biblio[['isbn', 'title', 'pub', 'author', 'supplier', 'currency', 'price', 'discount', 'shipping_cost','sea_shipping_cost' , 'max_qty', 'origin']]\n",
    "all_sup['sea_shipping_cost'] = np.where( (all_sup['origin'] == 'US') | (all_sup['origin'] == 'CAN') , all_sup['shipping_cost'], all_sup['sea_shipping_cost'])\n",
    "all_sup.isna().sum()"
   ]
  },
  {
   "cell_type": "markdown",
   "metadata": {},
   "source": [
    "## 6. Add Fees"
   ]
  },
  {
   "cell_type": "code",
   "execution_count": 28,
   "metadata": {},
   "outputs": [
    {
     "output_type": "execute_result",
     "data": {
      "text/plain": "            isbn title               pub author supplier currency  price  \\\n0  9780262530873   N/A  UNIVERSITY PRESS    N/A  BILLSON      GBP   4.99   \n1  9780262530989   N/A  UNIVERSITY PRESS    N/A  BILLSON      GBP  25.00   \n2  9781861345806   N/A   THAMES & HUDSON    N/A   ZOOKAL      AUD  28.00   \n3  9780262531092   N/A  UNIVERSITY PRESS    N/A  BILLSON      GBP  37.95   \n4  9781861345837   N/A   THAMES & HUDSON    N/A   ZOOKAL      AUD  35.00   \n\n  discount  shipping_cost  sea_shipping_cost  max_qty origin  invoice_fee  \\\n0     0.38           3.47                1.0     1000     UK          0.0   \n1     0.38           3.47                1.0     1000     UK          0.0   \n2        0           3.47                1.0      150    AUS          0.0   \n3     0.38           3.47                1.0     1000     UK          0.0   \n4        0           3.47                1.0      150    AUS          0.0   \n\n   lp_fee  \n0     0.0  \n1     0.0  \n2     0.0  \n3     0.0  \n4     0.0  ",
      "text/html": "<div>\n<style scoped>\n    .dataframe tbody tr th:only-of-type {\n        vertical-align: middle;\n    }\n\n    .dataframe tbody tr th {\n        vertical-align: top;\n    }\n\n    .dataframe thead th {\n        text-align: right;\n    }\n</style>\n<table border=\"1\" class=\"dataframe\">\n  <thead>\n    <tr style=\"text-align: right;\">\n      <th></th>\n      <th>isbn</th>\n      <th>title</th>\n      <th>pub</th>\n      <th>author</th>\n      <th>supplier</th>\n      <th>currency</th>\n      <th>price</th>\n      <th>discount</th>\n      <th>shipping_cost</th>\n      <th>sea_shipping_cost</th>\n      <th>max_qty</th>\n      <th>origin</th>\n      <th>invoice_fee</th>\n      <th>lp_fee</th>\n    </tr>\n  </thead>\n  <tbody>\n    <tr>\n      <th>0</th>\n      <td>9780262530873</td>\n      <td>N/A</td>\n      <td>UNIVERSITY PRESS</td>\n      <td>N/A</td>\n      <td>BILLSON</td>\n      <td>GBP</td>\n      <td>4.99</td>\n      <td>0.38</td>\n      <td>3.47</td>\n      <td>1.0</td>\n      <td>1000</td>\n      <td>UK</td>\n      <td>0.0</td>\n      <td>0.0</td>\n    </tr>\n    <tr>\n      <th>1</th>\n      <td>9780262530989</td>\n      <td>N/A</td>\n      <td>UNIVERSITY PRESS</td>\n      <td>N/A</td>\n      <td>BILLSON</td>\n      <td>GBP</td>\n      <td>25.00</td>\n      <td>0.38</td>\n      <td>3.47</td>\n      <td>1.0</td>\n      <td>1000</td>\n      <td>UK</td>\n      <td>0.0</td>\n      <td>0.0</td>\n    </tr>\n    <tr>\n      <th>2</th>\n      <td>9781861345806</td>\n      <td>N/A</td>\n      <td>THAMES &amp; HUDSON</td>\n      <td>N/A</td>\n      <td>ZOOKAL</td>\n      <td>AUD</td>\n      <td>28.00</td>\n      <td>0</td>\n      <td>3.47</td>\n      <td>1.0</td>\n      <td>150</td>\n      <td>AUS</td>\n      <td>0.0</td>\n      <td>0.0</td>\n    </tr>\n    <tr>\n      <th>3</th>\n      <td>9780262531092</td>\n      <td>N/A</td>\n      <td>UNIVERSITY PRESS</td>\n      <td>N/A</td>\n      <td>BILLSON</td>\n      <td>GBP</td>\n      <td>37.95</td>\n      <td>0.38</td>\n      <td>3.47</td>\n      <td>1.0</td>\n      <td>1000</td>\n      <td>UK</td>\n      <td>0.0</td>\n      <td>0.0</td>\n    </tr>\n    <tr>\n      <th>4</th>\n      <td>9781861345837</td>\n      <td>N/A</td>\n      <td>THAMES &amp; HUDSON</td>\n      <td>N/A</td>\n      <td>ZOOKAL</td>\n      <td>AUD</td>\n      <td>35.00</td>\n      <td>0</td>\n      <td>3.47</td>\n      <td>1.0</td>\n      <td>150</td>\n      <td>AUS</td>\n      <td>0.0</td>\n      <td>0.0</td>\n    </tr>\n  </tbody>\n</table>\n</div>"
     },
     "metadata": {},
     "execution_count": 28
    }
   ],
   "source": [
    "#Invoice Fee\n",
    "all_sup['invoice_fee'] = np.where(     # IF\n",
    "    all_sup['supplier'].str.contains('ALEK'), 0.005,   #Condition and True\n",
    "    np.where(  # IF False\n",
    "        (all_sup['supplier'].str.contains('LAURENTIU')) | (all_sup['supplier'].str.contains('SENAD')),0.02,   #Condition and True\n",
    "        np.where(  #IF FALSE\n",
    "            (all_sup['supplier'].str.contains('ARMANDO')) | (all_sup['supplier'].str.contains('FELIPE')),0.01, #Condition and True\n",
    "            np.where(   #IF FALSE\n",
    "                (all_sup['supplier'] == 'COINFO'), -1/11, #Condition and True\n",
    "                0)   # FALSE\n",
    "                )\n",
    "                )\n",
    "                )\n",
    "# lp_fee\n",
    "\n",
    "all_sup['lp_fee'] = np.where(\n",
    "    (all_sup['supplier'].str.contains('BILLSON') & (all_sup['discount'] == 0 )), 0.03,0)\n",
    "\n",
    "all_sup.head()"
   ]
  },
  {
   "cell_type": "markdown",
   "metadata": {},
   "source": [
    "## 7. import and Merge exchage rate with all suppliers"
   ]
  },
  {
   "cell_type": "code",
   "execution_count": 29,
   "metadata": {},
   "outputs": [
    {
     "output_type": "execute_result",
     "data": {
      "text/plain": "            isbn title               pub author supplier currency  price  \\\n0  9780262530873   N/A  UNIVERSITY PRESS    N/A  BILLSON      GBP   4.99   \n1  9780262530989   N/A  UNIVERSITY PRESS    N/A  BILLSON      GBP  25.00   \n2  9781861345806   N/A   THAMES & HUDSON    N/A   ZOOKAL      AUD  28.00   \n3  9780262531092   N/A  UNIVERSITY PRESS    N/A  BILLSON      GBP  37.95   \n4  9781861345837   N/A   THAMES & HUDSON    N/A   ZOOKAL      AUD  35.00   \n\n  discount  shipping_cost  sea_shipping_cost  max_qty origin  invoice_fee  \\\n0     0.38           3.47                1.0     1000     UK          0.0   \n1     0.38           3.47                1.0     1000     UK          0.0   \n2        0           3.47                1.0      150    AUS          0.0   \n3     0.38           3.47                1.0     1000     UK          0.0   \n4        0           3.47                1.0      150    AUS          0.0   \n\n   lp_fee      rate  \n0     0.0  1.241462  \n1     0.0  1.241462  \n2     0.0  0.687902  \n3     0.0  1.241462  \n4     0.0  0.687902  ",
      "text/html": "<div>\n<style scoped>\n    .dataframe tbody tr th:only-of-type {\n        vertical-align: middle;\n    }\n\n    .dataframe tbody tr th {\n        vertical-align: top;\n    }\n\n    .dataframe thead th {\n        text-align: right;\n    }\n</style>\n<table border=\"1\" class=\"dataframe\">\n  <thead>\n    <tr style=\"text-align: right;\">\n      <th></th>\n      <th>isbn</th>\n      <th>title</th>\n      <th>pub</th>\n      <th>author</th>\n      <th>supplier</th>\n      <th>currency</th>\n      <th>price</th>\n      <th>discount</th>\n      <th>shipping_cost</th>\n      <th>sea_shipping_cost</th>\n      <th>max_qty</th>\n      <th>origin</th>\n      <th>invoice_fee</th>\n      <th>lp_fee</th>\n      <th>rate</th>\n    </tr>\n  </thead>\n  <tbody>\n    <tr>\n      <th>0</th>\n      <td>9780262530873</td>\n      <td>N/A</td>\n      <td>UNIVERSITY PRESS</td>\n      <td>N/A</td>\n      <td>BILLSON</td>\n      <td>GBP</td>\n      <td>4.99</td>\n      <td>0.38</td>\n      <td>3.47</td>\n      <td>1.0</td>\n      <td>1000</td>\n      <td>UK</td>\n      <td>0.0</td>\n      <td>0.0</td>\n      <td>1.241462</td>\n    </tr>\n    <tr>\n      <th>1</th>\n      <td>9780262530989</td>\n      <td>N/A</td>\n      <td>UNIVERSITY PRESS</td>\n      <td>N/A</td>\n      <td>BILLSON</td>\n      <td>GBP</td>\n      <td>25.00</td>\n      <td>0.38</td>\n      <td>3.47</td>\n      <td>1.0</td>\n      <td>1000</td>\n      <td>UK</td>\n      <td>0.0</td>\n      <td>0.0</td>\n      <td>1.241462</td>\n    </tr>\n    <tr>\n      <th>2</th>\n      <td>9781861345806</td>\n      <td>N/A</td>\n      <td>THAMES &amp; HUDSON</td>\n      <td>N/A</td>\n      <td>ZOOKAL</td>\n      <td>AUD</td>\n      <td>28.00</td>\n      <td>0</td>\n      <td>3.47</td>\n      <td>1.0</td>\n      <td>150</td>\n      <td>AUS</td>\n      <td>0.0</td>\n      <td>0.0</td>\n      <td>0.687902</td>\n    </tr>\n    <tr>\n      <th>3</th>\n      <td>9780262531092</td>\n      <td>N/A</td>\n      <td>UNIVERSITY PRESS</td>\n      <td>N/A</td>\n      <td>BILLSON</td>\n      <td>GBP</td>\n      <td>37.95</td>\n      <td>0.38</td>\n      <td>3.47</td>\n      <td>1.0</td>\n      <td>1000</td>\n      <td>UK</td>\n      <td>0.0</td>\n      <td>0.0</td>\n      <td>1.241462</td>\n    </tr>\n    <tr>\n      <th>4</th>\n      <td>9781861345837</td>\n      <td>N/A</td>\n      <td>THAMES &amp; HUDSON</td>\n      <td>N/A</td>\n      <td>ZOOKAL</td>\n      <td>AUD</td>\n      <td>35.00</td>\n      <td>0</td>\n      <td>3.47</td>\n      <td>1.0</td>\n      <td>150</td>\n      <td>AUS</td>\n      <td>0.0</td>\n      <td>0.0</td>\n      <td>0.687902</td>\n    </tr>\n  </tbody>\n</table>\n</div>"
     },
     "metadata": {},
     "execution_count": 29
    }
   ],
   "source": [
    "exch_df = pd.read_sql(exchange_rate,proc_db)\n",
    "exch_df.rename(columns={'name': 'currency'}, inplace = True)\n",
    "all_sup_exc = pd.merge(all_sup, exch_df, how='left', on = 'currency')\n",
    "all_sup_exc.head()"
   ]
  },
  {
   "cell_type": "markdown",
   "metadata": {},
   "source": [
    "## 8. Cost Before exchange rate and landed cost"
   ]
  },
  {
   "cell_type": "code",
   "execution_count": 30,
   "metadata": {},
   "outputs": [
    {
     "output_type": "execute_result",
     "data": {
      "text/plain": "            isbn title               pub author supplier currency  price  \\\n0  9780262530873   N/A  UNIVERSITY PRESS    N/A  BILLSON      GBP   4.99   \n1  9780262530989   N/A  UNIVERSITY PRESS    N/A  BILLSON      GBP  25.00   \n2  9781861345806   N/A   THAMES & HUDSON    N/A   ZOOKAL      AUD  28.00   \n3  9780262531092   N/A  UNIVERSITY PRESS    N/A  BILLSON      GBP  37.95   \n4  9781861345837   N/A   THAMES & HUDSON    N/A   ZOOKAL      AUD  35.00   \n\n  discount  shipping_cost  sea_shipping_cost  max_qty origin  invoice_fee  \\\n0     0.38           3.47                1.0     1000     UK          0.0   \n1     0.38           3.47                1.0     1000     UK          0.0   \n2        0           3.47                1.0      150    AUS          0.0   \n3     0.38           3.47                1.0     1000     UK          0.0   \n4        0           3.47                1.0      150    AUS          0.0   \n\n   lp_fee      rate inv_price_before_exc regular_landed_cost sea_landed_cost  \n0     0.0  1.241462               3.0938             7.31083         4.84083  \n1     0.0  1.241462                 15.5             22.7127         20.2427  \n2     0.0  0.687902                   28             22.7313         20.2613  \n3     0.0  1.241462               23.529             32.6804         30.2104  \n4     0.0  0.687902                   35             27.5466         25.0766  ",
      "text/html": "<div>\n<style scoped>\n    .dataframe tbody tr th:only-of-type {\n        vertical-align: middle;\n    }\n\n    .dataframe tbody tr th {\n        vertical-align: top;\n    }\n\n    .dataframe thead th {\n        text-align: right;\n    }\n</style>\n<table border=\"1\" class=\"dataframe\">\n  <thead>\n    <tr style=\"text-align: right;\">\n      <th></th>\n      <th>isbn</th>\n      <th>title</th>\n      <th>pub</th>\n      <th>author</th>\n      <th>supplier</th>\n      <th>currency</th>\n      <th>price</th>\n      <th>discount</th>\n      <th>shipping_cost</th>\n      <th>sea_shipping_cost</th>\n      <th>max_qty</th>\n      <th>origin</th>\n      <th>invoice_fee</th>\n      <th>lp_fee</th>\n      <th>rate</th>\n      <th>inv_price_before_exc</th>\n      <th>regular_landed_cost</th>\n      <th>sea_landed_cost</th>\n    </tr>\n  </thead>\n  <tbody>\n    <tr>\n      <th>0</th>\n      <td>9780262530873</td>\n      <td>N/A</td>\n      <td>UNIVERSITY PRESS</td>\n      <td>N/A</td>\n      <td>BILLSON</td>\n      <td>GBP</td>\n      <td>4.99</td>\n      <td>0.38</td>\n      <td>3.47</td>\n      <td>1.0</td>\n      <td>1000</td>\n      <td>UK</td>\n      <td>0.0</td>\n      <td>0.0</td>\n      <td>1.241462</td>\n      <td>3.0938</td>\n      <td>7.31083</td>\n      <td>4.84083</td>\n    </tr>\n    <tr>\n      <th>1</th>\n      <td>9780262530989</td>\n      <td>N/A</td>\n      <td>UNIVERSITY PRESS</td>\n      <td>N/A</td>\n      <td>BILLSON</td>\n      <td>GBP</td>\n      <td>25.00</td>\n      <td>0.38</td>\n      <td>3.47</td>\n      <td>1.0</td>\n      <td>1000</td>\n      <td>UK</td>\n      <td>0.0</td>\n      <td>0.0</td>\n      <td>1.241462</td>\n      <td>15.5</td>\n      <td>22.7127</td>\n      <td>20.2427</td>\n    </tr>\n    <tr>\n      <th>2</th>\n      <td>9781861345806</td>\n      <td>N/A</td>\n      <td>THAMES &amp; HUDSON</td>\n      <td>N/A</td>\n      <td>ZOOKAL</td>\n      <td>AUD</td>\n      <td>28.00</td>\n      <td>0</td>\n      <td>3.47</td>\n      <td>1.0</td>\n      <td>150</td>\n      <td>AUS</td>\n      <td>0.0</td>\n      <td>0.0</td>\n      <td>0.687902</td>\n      <td>28</td>\n      <td>22.7313</td>\n      <td>20.2613</td>\n    </tr>\n    <tr>\n      <th>3</th>\n      <td>9780262531092</td>\n      <td>N/A</td>\n      <td>UNIVERSITY PRESS</td>\n      <td>N/A</td>\n      <td>BILLSON</td>\n      <td>GBP</td>\n      <td>37.95</td>\n      <td>0.38</td>\n      <td>3.47</td>\n      <td>1.0</td>\n      <td>1000</td>\n      <td>UK</td>\n      <td>0.0</td>\n      <td>0.0</td>\n      <td>1.241462</td>\n      <td>23.529</td>\n      <td>32.6804</td>\n      <td>30.2104</td>\n    </tr>\n    <tr>\n      <th>4</th>\n      <td>9781861345837</td>\n      <td>N/A</td>\n      <td>THAMES &amp; HUDSON</td>\n      <td>N/A</td>\n      <td>ZOOKAL</td>\n      <td>AUD</td>\n      <td>35.00</td>\n      <td>0</td>\n      <td>3.47</td>\n      <td>1.0</td>\n      <td>150</td>\n      <td>AUS</td>\n      <td>0.0</td>\n      <td>0.0</td>\n      <td>0.687902</td>\n      <td>35</td>\n      <td>27.5466</td>\n      <td>25.0766</td>\n    </tr>\n  </tbody>\n</table>\n</div>"
     },
     "metadata": {},
     "execution_count": 30
    }
   ],
   "source": [
    "all_sup_exc['inv_price_before_exc'] = all_sup_exc['price']*(1-all_sup_exc['discount']+all_sup_exc['lp_fee']*(1+all_sup_exc['invoice_fee']))\n",
    "all_sup_exc['regular_landed_cost'] = all_sup_exc['inv_price_before_exc'] * all_sup_exc['rate'] + all_sup_exc['shipping_cost']\n",
    "all_sup_exc['sea_landed_cost'] = all_sup_exc['inv_price_before_exc'] * all_sup_exc['rate'] + all_sup_exc['sea_shipping_cost']\n",
    "all_sup_exc.head()"
   ]
  },
  {
   "cell_type": "markdown",
   "metadata": {},
   "source": [
    "## 9. Restrictions"
   ]
  },
  {
   "cell_type": "code",
   "execution_count": 31,
   "metadata": {},
   "outputs": [
    {
     "output_type": "execute_result",
     "data": {
      "text/plain": "            isbn vendor\n0  9780323567428  RISKY\n1  9780500292105  RISKY\n2  9781936523443  RISKY\n3  9780134149530  RISKY\n4  9780134205588  RISKY",
      "text/html": "<div>\n<style scoped>\n    .dataframe tbody tr th:only-of-type {\n        vertical-align: middle;\n    }\n\n    .dataframe tbody tr th {\n        vertical-align: top;\n    }\n\n    .dataframe thead th {\n        text-align: right;\n    }\n</style>\n<table border=\"1\" class=\"dataframe\">\n  <thead>\n    <tr style=\"text-align: right;\">\n      <th></th>\n      <th>isbn</th>\n      <th>vendor</th>\n    </tr>\n  </thead>\n  <tbody>\n    <tr>\n      <th>0</th>\n      <td>9780323567428</td>\n      <td>RISKY</td>\n    </tr>\n    <tr>\n      <th>1</th>\n      <td>9780500292105</td>\n      <td>RISKY</td>\n    </tr>\n    <tr>\n      <th>2</th>\n      <td>9781936523443</td>\n      <td>RISKY</td>\n    </tr>\n    <tr>\n      <th>3</th>\n      <td>9780134149530</td>\n      <td>RISKY</td>\n    </tr>\n    <tr>\n      <th>4</th>\n      <td>9780134205588</td>\n      <td>RISKY</td>\n    </tr>\n  </tbody>\n</table>\n</div>"
     },
     "metadata": {},
     "execution_count": 31
    }
   ],
   "source": [
    "rest = pd.read_excel(\"../../../../Vendors/. Restrictions\\All Restricted List.xlsx\")\n",
    "rest.columns = map(str.lower, rest.columns)\n",
    "rest.rename(columns={'isbn13': 'isbn'}, inplace = True)\n",
    "rest['isbn'] = rest['isbn'].astype(str)\n",
    "for col in ['isbn', 'vendor']:\n",
    "    rest[col] = rest.apply(lambda x: clean_up(x[col]), axis =1)\n",
    "\n",
    "rest = rest[['isbn','vendor']]\n",
    "rest.head()"
   ]
  },
  {
   "cell_type": "code",
   "execution_count": 32,
   "metadata": {},
   "outputs": [],
   "source": [
    "# restricted to all suppliers\n",
    "risky = rest[rest['vendor'] == 'RISKY']\n",
    "all_sup_exc = all_sup_exc[~all_sup_exc['isbn'].isin(list(risky['isbn']))]"
   ]
  },
  {
   "cell_type": "code",
   "execution_count": 33,
   "metadata": {},
   "outputs": [
    {
     "output_type": "execute_result",
     "data": {
      "text/plain": "                isbn                                              title  \\\n24758  9781260187014  PACKAGE: ELEMENTARY STATISTICS: A STEP BY STEP...   \n42115  9781284107913                                                N/A   \n42185  9781284126143                                                N/A   \n43115  9780077831066  MOSAIC LEVEL 2 LISTENING/SPEAKING STUDENT BOOK...   \n59675  9781285769431                        MILADY STANDARD COSMETOLOGY   \n\n           pub                            author supplier currency   price  \\\n24758   MCGRAW                   ALLAN G. BLUMAN    RAJAN      USD  276.65   \n42115      J&B                               N/A    RAJAN      USD   44.95   \n42185      J&B                               N/A    RAJAN      USD   79.95   \n43115   MCGRAW  JAMI HANREDDY; ELIZABETH WHALLEY     ALEK      GBP   42.65   \n59675  CENGAGE                            MILADY   SOHRAB      SGD   83.50   \n\n      discount  shipping_cost  sea_shipping_cost  max_qty     origin  \\\n24758     0.48           0.50                0.5    10000         US   \n42115     0.38           0.50                0.5    10000         US   \n42185     0.38           0.50                0.5    10000         US   \n43115      0.5           3.47                1.0    10000         UK   \n59675        0          10.00                1.2    10000  SINGAPORE   \n\n       invoice_fee  lp_fee      rate inv_price_before_exc regular_landed_cost  \\\n24758        0.000     0.0  1.000000              143.858             144.358   \n42115        0.000     0.0  1.000000               27.869              28.369   \n42185        0.000     0.0  1.000000               49.569              50.069   \n43115        0.005     0.0  1.241462               21.325             29.9442   \n59675        0.000     0.0  0.716869                 83.5             69.8586   \n\n      sea_landed_cost  vendor  \n24758         144.358   RAJAN  \n42115          28.369   RAJAN  \n42185          50.069   RAJAN  \n43115         27.4742    ALEK  \n59675         61.0586  SOHRAB  ",
      "text/html": "<div>\n<style scoped>\n    .dataframe tbody tr th:only-of-type {\n        vertical-align: middle;\n    }\n\n    .dataframe tbody tr th {\n        vertical-align: top;\n    }\n\n    .dataframe thead th {\n        text-align: right;\n    }\n</style>\n<table border=\"1\" class=\"dataframe\">\n  <thead>\n    <tr style=\"text-align: right;\">\n      <th></th>\n      <th>isbn</th>\n      <th>title</th>\n      <th>pub</th>\n      <th>author</th>\n      <th>supplier</th>\n      <th>currency</th>\n      <th>price</th>\n      <th>discount</th>\n      <th>shipping_cost</th>\n      <th>sea_shipping_cost</th>\n      <th>max_qty</th>\n      <th>origin</th>\n      <th>invoice_fee</th>\n      <th>lp_fee</th>\n      <th>rate</th>\n      <th>inv_price_before_exc</th>\n      <th>regular_landed_cost</th>\n      <th>sea_landed_cost</th>\n      <th>vendor</th>\n    </tr>\n  </thead>\n  <tbody>\n    <tr>\n      <th>24758</th>\n      <td>9781260187014</td>\n      <td>PACKAGE: ELEMENTARY STATISTICS: A STEP BY STEP...</td>\n      <td>MCGRAW</td>\n      <td>ALLAN G. BLUMAN</td>\n      <td>RAJAN</td>\n      <td>USD</td>\n      <td>276.65</td>\n      <td>0.48</td>\n      <td>0.50</td>\n      <td>0.5</td>\n      <td>10000</td>\n      <td>US</td>\n      <td>0.000</td>\n      <td>0.0</td>\n      <td>1.000000</td>\n      <td>143.858</td>\n      <td>144.358</td>\n      <td>144.358</td>\n      <td>RAJAN</td>\n    </tr>\n    <tr>\n      <th>42115</th>\n      <td>9781284107913</td>\n      <td>N/A</td>\n      <td>J&amp;B</td>\n      <td>N/A</td>\n      <td>RAJAN</td>\n      <td>USD</td>\n      <td>44.95</td>\n      <td>0.38</td>\n      <td>0.50</td>\n      <td>0.5</td>\n      <td>10000</td>\n      <td>US</td>\n      <td>0.000</td>\n      <td>0.0</td>\n      <td>1.000000</td>\n      <td>27.869</td>\n      <td>28.369</td>\n      <td>28.369</td>\n      <td>RAJAN</td>\n    </tr>\n    <tr>\n      <th>42185</th>\n      <td>9781284126143</td>\n      <td>N/A</td>\n      <td>J&amp;B</td>\n      <td>N/A</td>\n      <td>RAJAN</td>\n      <td>USD</td>\n      <td>79.95</td>\n      <td>0.38</td>\n      <td>0.50</td>\n      <td>0.5</td>\n      <td>10000</td>\n      <td>US</td>\n      <td>0.000</td>\n      <td>0.0</td>\n      <td>1.000000</td>\n      <td>49.569</td>\n      <td>50.069</td>\n      <td>50.069</td>\n      <td>RAJAN</td>\n    </tr>\n    <tr>\n      <th>43115</th>\n      <td>9780077831066</td>\n      <td>MOSAIC LEVEL 2 LISTENING/SPEAKING STUDENT BOOK...</td>\n      <td>MCGRAW</td>\n      <td>JAMI HANREDDY; ELIZABETH WHALLEY</td>\n      <td>ALEK</td>\n      <td>GBP</td>\n      <td>42.65</td>\n      <td>0.5</td>\n      <td>3.47</td>\n      <td>1.0</td>\n      <td>10000</td>\n      <td>UK</td>\n      <td>0.005</td>\n      <td>0.0</td>\n      <td>1.241462</td>\n      <td>21.325</td>\n      <td>29.9442</td>\n      <td>27.4742</td>\n      <td>ALEK</td>\n    </tr>\n    <tr>\n      <th>59675</th>\n      <td>9781285769431</td>\n      <td>MILADY STANDARD COSMETOLOGY</td>\n      <td>CENGAGE</td>\n      <td>MILADY</td>\n      <td>SOHRAB</td>\n      <td>SGD</td>\n      <td>83.50</td>\n      <td>0</td>\n      <td>10.00</td>\n      <td>1.2</td>\n      <td>10000</td>\n      <td>SINGAPORE</td>\n      <td>0.000</td>\n      <td>0.0</td>\n      <td>0.716869</td>\n      <td>83.5</td>\n      <td>69.8586</td>\n      <td>61.0586</td>\n      <td>SOHRAB</td>\n    </tr>\n  </tbody>\n</table>\n</div>"
     },
     "metadata": {},
     "execution_count": 33
    }
   ],
   "source": [
    "# restriction per supplier\n",
    "all_rest = pd.merge(all_sup_exc, rest, how='left', left_on = ['isbn','supplier'], right_on = ['isbn', 'vendor'] )\n",
    "all_rest[~(all_rest['vendor'].isna())].head()"
   ]
  },
  {
   "cell_type": "markdown",
   "metadata": {},
   "source": [
    "## 10. Getting all posible orders for cost_analysis"
   ]
  },
  {
   "cell_type": "code",
   "execution_count": 34,
   "metadata": {},
   "outputs": [
    {
     "output_type": "execute_result",
     "data": {
      "text/plain": "                  isbn                     title                   pub  \\\n2927709  9780786820771                       N/A         HACHETTE LIVE   \n2344345  9780194705493                       N/A         OXFORD UP ELT   \n3669203  9780078022159  DATABASE SYSTEM CONCEPTS                MCGRAW   \n2460321  9780593115831                       N/A  PENGUINYOUNG READERS   \n2849001  9780525579373                       N/A    RH CHILDRENS BOOKS   \n\n                                                    author supplier currency  \\\n2927709                                                N/A     ALEK      USD   \n2344345                                                N/A     ALEK      GBP   \n3669203  KORTH, HENRY F., SUDARSHAN, S., SILBERSCHATZ, ...    RAJAN      USD   \n2460321                                                N/A     ALEK      USD   \n2849001                                                N/A     ALEK      USD   \n\n         price discount  shipping_cost  sea_shipping_cost  max_qty origin  \\\n2927709   0.01     0.59            0.5                0.5     1000     US   \n2344345   0.14     0.43            0.5                0.5    10000     US   \n3669203   0.25     0.48            0.5                0.5    10000     US   \n2460321   1.11     0.66            0.5                0.5      100     US   \n2849001   1.11     0.66            0.5                0.5      100     US   \n\n         invoice_fee  lp_fee      rate inv_price_before_exc  \\\n2927709        0.005     0.0  1.000000               0.0041   \n2344345        0.005     0.0  1.241462               0.0798   \n3669203        0.000     0.0  1.000000                 0.13   \n2460321        0.005     0.0  1.000000               0.3774   \n2849001        0.005     0.0  1.000000               0.3774   \n\n        regular_landed_cost sea_landed_cost  \n2927709              0.5041          0.5041  \n2344345            0.599069        0.599069  \n3669203                0.63            0.63  \n2460321              0.8774          0.8774  \n2849001              0.8774          0.8774  ",
      "text/html": "<div>\n<style scoped>\n    .dataframe tbody tr th:only-of-type {\n        vertical-align: middle;\n    }\n\n    .dataframe tbody tr th {\n        vertical-align: top;\n    }\n\n    .dataframe thead th {\n        text-align: right;\n    }\n</style>\n<table border=\"1\" class=\"dataframe\">\n  <thead>\n    <tr style=\"text-align: right;\">\n      <th></th>\n      <th>isbn</th>\n      <th>title</th>\n      <th>pub</th>\n      <th>author</th>\n      <th>supplier</th>\n      <th>currency</th>\n      <th>price</th>\n      <th>discount</th>\n      <th>shipping_cost</th>\n      <th>sea_shipping_cost</th>\n      <th>max_qty</th>\n      <th>origin</th>\n      <th>invoice_fee</th>\n      <th>lp_fee</th>\n      <th>rate</th>\n      <th>inv_price_before_exc</th>\n      <th>regular_landed_cost</th>\n      <th>sea_landed_cost</th>\n    </tr>\n  </thead>\n  <tbody>\n    <tr>\n      <th>2927709</th>\n      <td>9780786820771</td>\n      <td>N/A</td>\n      <td>HACHETTE LIVE</td>\n      <td>N/A</td>\n      <td>ALEK</td>\n      <td>USD</td>\n      <td>0.01</td>\n      <td>0.59</td>\n      <td>0.5</td>\n      <td>0.5</td>\n      <td>1000</td>\n      <td>US</td>\n      <td>0.005</td>\n      <td>0.0</td>\n      <td>1.000000</td>\n      <td>0.0041</td>\n      <td>0.5041</td>\n      <td>0.5041</td>\n    </tr>\n    <tr>\n      <th>2344345</th>\n      <td>9780194705493</td>\n      <td>N/A</td>\n      <td>OXFORD UP ELT</td>\n      <td>N/A</td>\n      <td>ALEK</td>\n      <td>GBP</td>\n      <td>0.14</td>\n      <td>0.43</td>\n      <td>0.5</td>\n      <td>0.5</td>\n      <td>10000</td>\n      <td>US</td>\n      <td>0.005</td>\n      <td>0.0</td>\n      <td>1.241462</td>\n      <td>0.0798</td>\n      <td>0.599069</td>\n      <td>0.599069</td>\n    </tr>\n    <tr>\n      <th>3669203</th>\n      <td>9780078022159</td>\n      <td>DATABASE SYSTEM CONCEPTS</td>\n      <td>MCGRAW</td>\n      <td>KORTH, HENRY F., SUDARSHAN, S., SILBERSCHATZ, ...</td>\n      <td>RAJAN</td>\n      <td>USD</td>\n      <td>0.25</td>\n      <td>0.48</td>\n      <td>0.5</td>\n      <td>0.5</td>\n      <td>10000</td>\n      <td>US</td>\n      <td>0.000</td>\n      <td>0.0</td>\n      <td>1.000000</td>\n      <td>0.13</td>\n      <td>0.63</td>\n      <td>0.63</td>\n    </tr>\n    <tr>\n      <th>2460321</th>\n      <td>9780593115831</td>\n      <td>N/A</td>\n      <td>PENGUINYOUNG READERS</td>\n      <td>N/A</td>\n      <td>ALEK</td>\n      <td>USD</td>\n      <td>1.11</td>\n      <td>0.66</td>\n      <td>0.5</td>\n      <td>0.5</td>\n      <td>100</td>\n      <td>US</td>\n      <td>0.005</td>\n      <td>0.0</td>\n      <td>1.000000</td>\n      <td>0.3774</td>\n      <td>0.8774</td>\n      <td>0.8774</td>\n    </tr>\n    <tr>\n      <th>2849001</th>\n      <td>9780525579373</td>\n      <td>N/A</td>\n      <td>RH CHILDRENS BOOKS</td>\n      <td>N/A</td>\n      <td>ALEK</td>\n      <td>USD</td>\n      <td>1.11</td>\n      <td>0.66</td>\n      <td>0.5</td>\n      <td>0.5</td>\n      <td>100</td>\n      <td>US</td>\n      <td>0.005</td>\n      <td>0.0</td>\n      <td>1.000000</td>\n      <td>0.3774</td>\n      <td>0.8774</td>\n      <td>0.8774</td>\n    </tr>\n  </tbody>\n</table>\n</div>"
     },
     "metadata": {},
     "execution_count": 34
    }
   ],
   "source": [
    "all_rest.drop(\n",
    "    all_rest[\n",
    "        (all_rest['supplier'] == all_rest['vendor'])\n",
    "        ].index, inplace = True\n",
    ")\n",
    "all_rest.drop(columns=['vendor'], inplace = True)\n",
    "all_rest = all_rest.sort_values(by=['regular_landed_cost'])\n",
    "all_rest.head()"
   ]
  },
  {
   "cell_type": "code",
   "execution_count": 35,
   "metadata": {},
   "outputs": [
    {
     "output_type": "execute_result",
     "data": {
      "text/plain": "                  isbn                     title                   pub  \\\n2927709  9780786820771                       N/A         HACHETTE LIVE   \n2344345  9780194705493                       N/A         OXFORD UP ELT   \n3669203  9780078022159  DATABASE SYSTEM CONCEPTS                MCGRAW   \n2460321  9780593115831                       N/A  PENGUINYOUNG READERS   \n2849001  9780525579373                       N/A    RH CHILDRENS BOOKS   \n\n                                                    author supplier currency  \\\n2927709                                                N/A     ALEK      USD   \n2344345                                                N/A     ALEK      GBP   \n3669203  KORTH, HENRY F., SUDARSHAN, S., SILBERSCHATZ, ...    RAJAN      USD   \n2460321                                                N/A     ALEK      USD   \n2849001                                                N/A     ALEK      USD   \n\n         price  discount  shipping_cost  sea_shipping_cost  max_qty origin  \\\n2927709   0.01      0.59            0.5                0.5     1000     US   \n2344345   0.14      0.43            0.5                0.5    10000     US   \n3669203   0.25      0.48            0.5                0.5    10000     US   \n2460321   1.11      0.66            0.5                0.5      100     US   \n2849001   1.11      0.66            0.5                0.5      100     US   \n\n         invoice_fee  lp_fee      rate  inv_price_before_exc  \\\n2927709        0.005     0.0  1.000000                0.0041   \n2344345        0.005     0.0  1.241462                0.0798   \n3669203        0.000     0.0  1.000000                0.1300   \n2460321        0.005     0.0  1.000000                0.3774   \n2849001        0.005     0.0  1.000000                0.3774   \n\n         regular_landed_cost  sea_landed_cost  \n2927709             0.504100         0.504100  \n2344345             0.599069         0.599069  \n3669203             0.630000         0.630000  \n2460321             0.877400         0.877400  \n2849001             0.877400         0.877400  ",
      "text/html": "<div>\n<style scoped>\n    .dataframe tbody tr th:only-of-type {\n        vertical-align: middle;\n    }\n\n    .dataframe tbody tr th {\n        vertical-align: top;\n    }\n\n    .dataframe thead th {\n        text-align: right;\n    }\n</style>\n<table border=\"1\" class=\"dataframe\">\n  <thead>\n    <tr style=\"text-align: right;\">\n      <th></th>\n      <th>isbn</th>\n      <th>title</th>\n      <th>pub</th>\n      <th>author</th>\n      <th>supplier</th>\n      <th>currency</th>\n      <th>price</th>\n      <th>discount</th>\n      <th>shipping_cost</th>\n      <th>sea_shipping_cost</th>\n      <th>max_qty</th>\n      <th>origin</th>\n      <th>invoice_fee</th>\n      <th>lp_fee</th>\n      <th>rate</th>\n      <th>inv_price_before_exc</th>\n      <th>regular_landed_cost</th>\n      <th>sea_landed_cost</th>\n    </tr>\n  </thead>\n  <tbody>\n    <tr>\n      <th>2927709</th>\n      <td>9780786820771</td>\n      <td>N/A</td>\n      <td>HACHETTE LIVE</td>\n      <td>N/A</td>\n      <td>ALEK</td>\n      <td>USD</td>\n      <td>0.01</td>\n      <td>0.59</td>\n      <td>0.5</td>\n      <td>0.5</td>\n      <td>1000</td>\n      <td>US</td>\n      <td>0.005</td>\n      <td>0.0</td>\n      <td>1.000000</td>\n      <td>0.0041</td>\n      <td>0.504100</td>\n      <td>0.504100</td>\n    </tr>\n    <tr>\n      <th>2344345</th>\n      <td>9780194705493</td>\n      <td>N/A</td>\n      <td>OXFORD UP ELT</td>\n      <td>N/A</td>\n      <td>ALEK</td>\n      <td>GBP</td>\n      <td>0.14</td>\n      <td>0.43</td>\n      <td>0.5</td>\n      <td>0.5</td>\n      <td>10000</td>\n      <td>US</td>\n      <td>0.005</td>\n      <td>0.0</td>\n      <td>1.241462</td>\n      <td>0.0798</td>\n      <td>0.599069</td>\n      <td>0.599069</td>\n    </tr>\n    <tr>\n      <th>3669203</th>\n      <td>9780078022159</td>\n      <td>DATABASE SYSTEM CONCEPTS</td>\n      <td>MCGRAW</td>\n      <td>KORTH, HENRY F., SUDARSHAN, S., SILBERSCHATZ, ...</td>\n      <td>RAJAN</td>\n      <td>USD</td>\n      <td>0.25</td>\n      <td>0.48</td>\n      <td>0.5</td>\n      <td>0.5</td>\n      <td>10000</td>\n      <td>US</td>\n      <td>0.000</td>\n      <td>0.0</td>\n      <td>1.000000</td>\n      <td>0.1300</td>\n      <td>0.630000</td>\n      <td>0.630000</td>\n    </tr>\n    <tr>\n      <th>2460321</th>\n      <td>9780593115831</td>\n      <td>N/A</td>\n      <td>PENGUINYOUNG READERS</td>\n      <td>N/A</td>\n      <td>ALEK</td>\n      <td>USD</td>\n      <td>1.11</td>\n      <td>0.66</td>\n      <td>0.5</td>\n      <td>0.5</td>\n      <td>100</td>\n      <td>US</td>\n      <td>0.005</td>\n      <td>0.0</td>\n      <td>1.000000</td>\n      <td>0.3774</td>\n      <td>0.877400</td>\n      <td>0.877400</td>\n    </tr>\n    <tr>\n      <th>2849001</th>\n      <td>9780525579373</td>\n      <td>N/A</td>\n      <td>RH CHILDRENS BOOKS</td>\n      <td>N/A</td>\n      <td>ALEK</td>\n      <td>USD</td>\n      <td>1.11</td>\n      <td>0.66</td>\n      <td>0.5</td>\n      <td>0.5</td>\n      <td>100</td>\n      <td>US</td>\n      <td>0.005</td>\n      <td>0.0</td>\n      <td>1.000000</td>\n      <td>0.3774</td>\n      <td>0.877400</td>\n      <td>0.877400</td>\n    </tr>\n  </tbody>\n</table>\n</div>"
     },
     "metadata": {},
     "execution_count": 35
    }
   ],
   "source": [
    "all_rest = all_rest.fillna('N/A')\n",
    "all_rest.head()"
   ]
  },
  {
   "cell_type": "markdown",
   "metadata": {},
   "source": [
    "## Extra: Getting suppliers from UK, CAN, US"
   ]
  },
  {
   "cell_type": "code",
   "execution_count": 36,
   "metadata": {},
   "outputs": [
    {
     "output_type": "execute_result",
     "data": {
      "text/plain": "                  isbn                     title                   pub  \\\n2927709  9780786820771                       N/A         HACHETTE LIVE   \n2344345  9780194705493                       N/A         OXFORD UP ELT   \n3669203  9780078022159  DATABASE SYSTEM CONCEPTS                MCGRAW   \n2460321  9780593115831                       N/A  PENGUINYOUNG READERS   \n2849001  9780525579373                       N/A    RH CHILDRENS BOOKS   \n\n                                                    author supplier currency  \\\n2927709                                                N/A     ALEK      USD   \n2344345                                                N/A     ALEK      GBP   \n3669203  KORTH, HENRY F., SUDARSHAN, S., SILBERSCHATZ, ...    RAJAN      USD   \n2460321                                                N/A     ALEK      USD   \n2849001                                                N/A     ALEK      USD   \n\n         price  discount  shipping_cost  sea_shipping_cost  max_qty origin  \\\n2927709   0.01      0.59            0.5                0.5     1000     US   \n2344345   0.14      0.43            0.5                0.5    10000     US   \n3669203   0.25      0.48            0.5                0.5    10000     US   \n2460321   1.11      0.66            0.5                0.5      100     US   \n2849001   1.11      0.66            0.5                0.5      100     US   \n\n         invoice_fee  lp_fee      rate  inv_price_before_exc  \\\n2927709        0.005     0.0  1.000000                0.0041   \n2344345        0.005     0.0  1.241462                0.0798   \n3669203        0.000     0.0  1.000000                0.1300   \n2460321        0.005     0.0  1.000000                0.3774   \n2849001        0.005     0.0  1.000000                0.3774   \n\n         regular_landed_cost  sea_landed_cost  \n2927709             0.504100         0.504100  \n2344345             0.599069         0.599069  \n3669203             0.630000         0.630000  \n2460321             0.877400         0.877400  \n2849001             0.877400         0.877400  ",
      "text/html": "<div>\n<style scoped>\n    .dataframe tbody tr th:only-of-type {\n        vertical-align: middle;\n    }\n\n    .dataframe tbody tr th {\n        vertical-align: top;\n    }\n\n    .dataframe thead th {\n        text-align: right;\n    }\n</style>\n<table border=\"1\" class=\"dataframe\">\n  <thead>\n    <tr style=\"text-align: right;\">\n      <th></th>\n      <th>isbn</th>\n      <th>title</th>\n      <th>pub</th>\n      <th>author</th>\n      <th>supplier</th>\n      <th>currency</th>\n      <th>price</th>\n      <th>discount</th>\n      <th>shipping_cost</th>\n      <th>sea_shipping_cost</th>\n      <th>max_qty</th>\n      <th>origin</th>\n      <th>invoice_fee</th>\n      <th>lp_fee</th>\n      <th>rate</th>\n      <th>inv_price_before_exc</th>\n      <th>regular_landed_cost</th>\n      <th>sea_landed_cost</th>\n    </tr>\n  </thead>\n  <tbody>\n    <tr>\n      <th>2927709</th>\n      <td>9780786820771</td>\n      <td>N/A</td>\n      <td>HACHETTE LIVE</td>\n      <td>N/A</td>\n      <td>ALEK</td>\n      <td>USD</td>\n      <td>0.01</td>\n      <td>0.59</td>\n      <td>0.5</td>\n      <td>0.5</td>\n      <td>1000</td>\n      <td>US</td>\n      <td>0.005</td>\n      <td>0.0</td>\n      <td>1.000000</td>\n      <td>0.0041</td>\n      <td>0.504100</td>\n      <td>0.504100</td>\n    </tr>\n    <tr>\n      <th>2344345</th>\n      <td>9780194705493</td>\n      <td>N/A</td>\n      <td>OXFORD UP ELT</td>\n      <td>N/A</td>\n      <td>ALEK</td>\n      <td>GBP</td>\n      <td>0.14</td>\n      <td>0.43</td>\n      <td>0.5</td>\n      <td>0.5</td>\n      <td>10000</td>\n      <td>US</td>\n      <td>0.005</td>\n      <td>0.0</td>\n      <td>1.241462</td>\n      <td>0.0798</td>\n      <td>0.599069</td>\n      <td>0.599069</td>\n    </tr>\n    <tr>\n      <th>3669203</th>\n      <td>9780078022159</td>\n      <td>DATABASE SYSTEM CONCEPTS</td>\n      <td>MCGRAW</td>\n      <td>KORTH, HENRY F., SUDARSHAN, S., SILBERSCHATZ, ...</td>\n      <td>RAJAN</td>\n      <td>USD</td>\n      <td>0.25</td>\n      <td>0.48</td>\n      <td>0.5</td>\n      <td>0.5</td>\n      <td>10000</td>\n      <td>US</td>\n      <td>0.000</td>\n      <td>0.0</td>\n      <td>1.000000</td>\n      <td>0.1300</td>\n      <td>0.630000</td>\n      <td>0.630000</td>\n    </tr>\n    <tr>\n      <th>2460321</th>\n      <td>9780593115831</td>\n      <td>N/A</td>\n      <td>PENGUINYOUNG READERS</td>\n      <td>N/A</td>\n      <td>ALEK</td>\n      <td>USD</td>\n      <td>1.11</td>\n      <td>0.66</td>\n      <td>0.5</td>\n      <td>0.5</td>\n      <td>100</td>\n      <td>US</td>\n      <td>0.005</td>\n      <td>0.0</td>\n      <td>1.000000</td>\n      <td>0.3774</td>\n      <td>0.877400</td>\n      <td>0.877400</td>\n    </tr>\n    <tr>\n      <th>2849001</th>\n      <td>9780525579373</td>\n      <td>N/A</td>\n      <td>RH CHILDRENS BOOKS</td>\n      <td>N/A</td>\n      <td>ALEK</td>\n      <td>USD</td>\n      <td>1.11</td>\n      <td>0.66</td>\n      <td>0.5</td>\n      <td>0.5</td>\n      <td>100</td>\n      <td>US</td>\n      <td>0.005</td>\n      <td>0.0</td>\n      <td>1.000000</td>\n      <td>0.3774</td>\n      <td>0.877400</td>\n      <td>0.877400</td>\n    </tr>\n  </tbody>\n</table>\n</div>"
     },
     "metadata": {},
     "execution_count": 36
    }
   ],
   "source": [
    "first_filter = all_rest[\n",
    "    (all_rest['origin'] == 'UK')\n",
    "    | (all_rest['origin'] == 'US')\n",
    "    | (all_rest['origin'] == 'CAN')\n",
    "    ]\n",
    "\n",
    "first_filter.head()"
   ]
  },
  {
   "cell_type": "code",
   "execution_count": 37,
   "metadata": {},
   "outputs": [],
   "source": [
    "isbn_list = ['9780134610993',\n",
    "'9780803677074',\n",
    "'9781284178418',\n",
    "'9780803669260',\n",
    "'9780134752556',\n",
    "'9780323639088',\n",
    "'9781492571186',\n",
    "'9781138683143',\n",
    "'9780789760500',\n",
    "'9781496396273',\n",
    "'9780803677111',\n",
    "'9781544355658',\n",
    "'9780803661134',\n",
    "'9781544331430',\n",
    "'9780803676787',\n",
    "'9781544325040',\n",
    "'9781138088870',\n",
    "'9780323611077',\n",
    "'9781506379616',\n",
    "'9780803675797',\n",
    "'9780803679917',\n",
    "'9780803690141',\n",
    "'9780803674882',\n",
    "'9780323597791',\n",
    "'9780803676459',\n",
    "'9781719640022',\n",
    "'9780803694736',\n",
    "'9781319216801',\n",
    "'9781319216801',\n",
    "'9781319184568',\n",
    "'9780134641690',\n",
    "'9780133953145',\n",
    "'9780134475585',\n",
    "'9781118334324',\n",
    "'9781285740621',\n",
    "'9781285741550',\n",
    "'9781118875865',\n",
    "'9780134169040',\n",
    "'9781305965720',\n",
    "'9781111344191',\n",
    "'9780393640342',\n",
    "'9780134112107',\n",
    "'9781319059811',\n",
    "'9780132273589',\n",
    "'9780134113593',\n",
    "'9780077862510',\n",
    "'9780321962584',\n",
    "'9781133591887',\n",
    "'9780323312073',\n",
    "'9780073384429',\n",
    "'9781133586845',\n",
    "'9780321949912',\n",
    "'9780803658783',\n",
    "'9780763763381',\n",
    "'9780534602710',\n",
    "'9780073385372',\n",
    "'9780763756093',\n",
    "'9781584265306',\n",
    "'9781584265320',\n",
    "'9781584265290',\n",
    "'9780199591152',\n",
    "'9781416406914',\n",
    "'9780323479820',\n",
    "'9780078026881',\n",
    "'9780323402101',\n",
    "'9780803661158',\n",
    "'9781138819078',\n",
    "'9781259677588',\n",
    "'9781260494198',\n",
    "'9781138229778',\n",
    "'9780073513942',\n",
    "'9781405184588',\n",
    "'9780849342707',\n",
    "'9780060786830',\n",
    "'9780316113502',\n",
    "'9780465026425',\n",
    "'9780465052714',\n",
    "'9780465026425',\n",
    "'9780465062980',\n",
    "'9780446404662',\n",
    "'9780812972764',\n",
    "'9781599637594',\n",
    "'9780688184742',\n",
    "'9780306810121'\n",
    "]"
   ]
  },
  {
   "cell_type": "code",
   "execution_count": 38,
   "metadata": {},
   "outputs": [],
   "source": [
    "uk_us_can = first_filter[first_filter['isbn'].isin(isbn_list)]\n",
    "uk_us_can.to_csv('retail/uk_us_can.csv', index= False)\n",
    "# all_suppliers = all_rest[all_rest['isbn'].isin(isbn_list)]\n",
    "# all_suppliers.to_csv('retail/all_suppliers.csv', index= False)\n",
    "# elsevier = all_rest[all_rest['pub'].str.contains('ELSEVIER')]\n",
    "# elsevier.to_csv('retail/elsevier.csv', index= False)\n",
    "elsevier_cengage = all_rest[all_rest['pub'].str.contains('CENG') | all_rest['pub'].str.contains('ELSE')]\n",
    "# elsevier_cengage.drop_duplicates(subset =\"isbn\", keep = False, inplace = True) \n",
    "elsevier_cengage.to_csv('retail/elsevier_cengage.csv', index= False)\n"
   ]
  },
  {
   "cell_type": "code",
   "execution_count": 39,
   "metadata": {},
   "outputs": [],
   "source": [
    "# all_rest.to_csv('important_files/python/ca_results.csv', index= False)\n",
    "\n",
    "\n"
   ]
  }
 ],
 "metadata": {
  "language_info": {
   "name": "python",
   "codemirror_mode": {
    "name": "ipython",
    "version": 3
   },
   "version": "3.7.6-final"
  },
  "orig_nbformat": 2,
  "file_extension": ".py",
  "mimetype": "text/x-python",
  "name": "python",
  "npconvert_exporter": "python",
  "pygments_lexer": "ipython3",
  "version": 3,
  "kernelspec": {
   "name": "python3",
   "display_name": "Python 3"
  }
 },
 "nbformat": 4,
 "nbformat_minor": 2
}