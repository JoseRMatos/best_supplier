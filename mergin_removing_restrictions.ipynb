{
 "nbformat": 4,
 "nbformat_minor": 2,
 "metadata": {
  "language_info": {
   "name": "python",
   "codemirror_mode": {
    "name": "ipython",
    "version": 3
   },
   "version": "3.7.6-final"
  },
  "orig_nbformat": 2,
  "file_extension": ".py",
  "mimetype": "text/x-python",
  "name": "python",
  "npconvert_exporter": "python",
  "pygments_lexer": "ipython3",
  "version": 3,
  "kernelspec": {
   "name": "python3",
   "display_name": "Python 3"
  }
 },
 "cells": [
  {
   "cell_type": "code",
   "execution_count": 1,
   "metadata": {},
   "outputs": [],
   "source": [
    "import pandas as pd\n",
    "import numpy as np"
   ]
  },
  {
   "cell_type": "code",
   "execution_count": 2,
   "metadata": {},
   "outputs": [],
   "source": [
    "def clean_up(phrase):\n",
    "    phrase = phrase.lstrip()\n",
    "    phrase = phrase.rstrip()\n",
    "    phrase = phrase.upper()\n",
    "    return phrase"
   ]
  },
  {
   "cell_type": "code",
   "execution_count": 3,
   "metadata": {},
   "outputs": [
    {
     "output_type": "execute_result",
     "data": {
      "text/plain": "          isbn13 vendor\n0  9780323567428  RISKY\n1  9780500292105  RISKY\n2  9781936523443  RISKY\n3  9780134149530  RISKY\n4  9780134205588  RISKY",
      "text/html": "<div>\n<style scoped>\n    .dataframe tbody tr th:only-of-type {\n        vertical-align: middle;\n    }\n\n    .dataframe tbody tr th {\n        vertical-align: top;\n    }\n\n    .dataframe thead th {\n        text-align: right;\n    }\n</style>\n<table border=\"1\" class=\"dataframe\">\n  <thead>\n    <tr style=\"text-align: right;\">\n      <th></th>\n      <th>isbn13</th>\n      <th>vendor</th>\n    </tr>\n  </thead>\n  <tbody>\n    <tr>\n      <th>0</th>\n      <td>9780323567428</td>\n      <td>RISKY</td>\n    </tr>\n    <tr>\n      <th>1</th>\n      <td>9780500292105</td>\n      <td>RISKY</td>\n    </tr>\n    <tr>\n      <th>2</th>\n      <td>9781936523443</td>\n      <td>RISKY</td>\n    </tr>\n    <tr>\n      <th>3</th>\n      <td>9780134149530</td>\n      <td>RISKY</td>\n    </tr>\n    <tr>\n      <th>4</th>\n      <td>9780134205588</td>\n      <td>RISKY</td>\n    </tr>\n  </tbody>\n</table>\n</div>"
     },
     "metadata": {},
     "execution_count": 3
    }
   ],
   "source": [
    "# Import restrictions\n",
    "rest = pd.read_excel(\"../../../../Vendors/. Restrictions\\All Restricted List.xlsx\")\n",
    "rest.columns = map(str.lower, rest.columns)\n",
    "rest['isbn13'] = rest['isbn13'].astype(str)\n",
    "for col in ['isbn13', 'vendor']:\n",
    "    rest[col] = rest.apply(lambda x: clean_up(x[col]), axis =1)\n",
    "\n",
    "rest = rest[['isbn13','vendor']]\n",
    "rest.head()"
   ]
  },
  {
   "cell_type": "code",
   "execution_count": 4,
   "metadata": {},
   "outputs": [
    {
     "output_type": "execute_result",
     "data": {
      "text/plain": "(88613, 2)"
     },
     "metadata": {},
     "execution_count": 4
    }
   ],
   "source": [
    "rest.shape"
   ]
  },
  {
   "cell_type": "code",
   "execution_count": 5,
   "metadata": {},
   "outputs": [
    {
     "output_type": "execute_result",
     "data": {
      "text/plain": "(486, 2)"
     },
     "metadata": {},
     "execution_count": 5
    }
   ],
   "source": [
    "risky = rest[rest['vendor'] == 'RISKY']\n",
    "risky.shape"
   ]
  },
  {
   "cell_type": "code",
   "execution_count": 6,
   "metadata": {},
   "outputs": [
    {
     "output_type": "execute_result",
     "data": {
      "text/plain": "            isbn title author  pub supplier currency      rate  price  \\\n0  9780000079145   NaN    NaN  LWW      ABE      GBP  1.245501   67.0   \n1  9780000003201   NaN    NaN  LWW      ABE      GBP  1.245501  265.0   \n2  9780000002402   NaN    NaN  LWW      ABE      GBP  1.245501  306.0   \n3  9780000006493   NaN    NaN  LWW      ABE      GBP  1.245501  772.0   \n4  9780000009883   NaN    NaN  LWW      ABE      GBP  1.245501   92.0   \n\n   discount  invoice_fee  lp_fee  shipping cost  max quantity  min  region  \n0      0.55            0       0           3.47         10000    0  EUROPE  \n1      0.55            0       0           3.47         10000    0  EUROPE  \n2      0.55            0       0           3.47         10000    0  EUROPE  \n3      0.55            0       0           3.47         10000    0  EUROPE  \n4      0.55            0       0           3.47         10000    0  EUROPE  ",
      "text/html": "<div>\n<style scoped>\n    .dataframe tbody tr th:only-of-type {\n        vertical-align: middle;\n    }\n\n    .dataframe tbody tr th {\n        vertical-align: top;\n    }\n\n    .dataframe thead th {\n        text-align: right;\n    }\n</style>\n<table border=\"1\" class=\"dataframe\">\n  <thead>\n    <tr style=\"text-align: right;\">\n      <th></th>\n      <th>isbn</th>\n      <th>title</th>\n      <th>author</th>\n      <th>pub</th>\n      <th>supplier</th>\n      <th>currency</th>\n      <th>rate</th>\n      <th>price</th>\n      <th>discount</th>\n      <th>invoice_fee</th>\n      <th>lp_fee</th>\n      <th>shipping cost</th>\n      <th>max quantity</th>\n      <th>min</th>\n      <th>region</th>\n    </tr>\n  </thead>\n  <tbody>\n    <tr>\n      <th>0</th>\n      <td>9780000079145</td>\n      <td>NaN</td>\n      <td>NaN</td>\n      <td>LWW</td>\n      <td>ABE</td>\n      <td>GBP</td>\n      <td>1.245501</td>\n      <td>67.0</td>\n      <td>0.55</td>\n      <td>0</td>\n      <td>0</td>\n      <td>3.47</td>\n      <td>10000</td>\n      <td>0</td>\n      <td>EUROPE</td>\n    </tr>\n    <tr>\n      <th>1</th>\n      <td>9780000003201</td>\n      <td>NaN</td>\n      <td>NaN</td>\n      <td>LWW</td>\n      <td>ABE</td>\n      <td>GBP</td>\n      <td>1.245501</td>\n      <td>265.0</td>\n      <td>0.55</td>\n      <td>0</td>\n      <td>0</td>\n      <td>3.47</td>\n      <td>10000</td>\n      <td>0</td>\n      <td>EUROPE</td>\n    </tr>\n    <tr>\n      <th>2</th>\n      <td>9780000002402</td>\n      <td>NaN</td>\n      <td>NaN</td>\n      <td>LWW</td>\n      <td>ABE</td>\n      <td>GBP</td>\n      <td>1.245501</td>\n      <td>306.0</td>\n      <td>0.55</td>\n      <td>0</td>\n      <td>0</td>\n      <td>3.47</td>\n      <td>10000</td>\n      <td>0</td>\n      <td>EUROPE</td>\n    </tr>\n    <tr>\n      <th>3</th>\n      <td>9780000006493</td>\n      <td>NaN</td>\n      <td>NaN</td>\n      <td>LWW</td>\n      <td>ABE</td>\n      <td>GBP</td>\n      <td>1.245501</td>\n      <td>772.0</td>\n      <td>0.55</td>\n      <td>0</td>\n      <td>0</td>\n      <td>3.47</td>\n      <td>10000</td>\n      <td>0</td>\n      <td>EUROPE</td>\n    </tr>\n    <tr>\n      <th>4</th>\n      <td>9780000009883</td>\n      <td>NaN</td>\n      <td>NaN</td>\n      <td>LWW</td>\n      <td>ABE</td>\n      <td>GBP</td>\n      <td>1.245501</td>\n      <td>92.0</td>\n      <td>0.55</td>\n      <td>0</td>\n      <td>0</td>\n      <td>3.47</td>\n      <td>10000</td>\n      <td>0</td>\n      <td>EUROPE</td>\n    </tr>\n  </tbody>\n</table>\n</div>"
     },
     "metadata": {},
     "execution_count": 6
    }
   ],
   "source": [
    "# import suppliers excel\n",
    "sup_exc = pd.read_csv('suppliers_excel.csv')\n",
    "sup_exc.head()"
   ]
  },
  {
   "cell_type": "code",
   "execution_count": 7,
   "metadata": {},
   "outputs": [],
   "source": [
    "sup_exc['inv_price_before_exc'] = sup_exc['price']*(1-sup_exc['discount'])\n",
    "sup_exc['landed_cost'] = sup_exc['inv_price_before_exc'] * sup_exc['rate'] + sup_exc['shipping cost']"
   ]
  },
  {
   "cell_type": "code",
   "execution_count": 8,
   "metadata": {},
   "outputs": [],
   "source": [
    "sup_exc = sup_exc[['isbn', 'supplier', 'pub', 'currency', 'rate','price', 'discount', 'invoice_fee', 'lp_fee','inv_price_before_exc','shipping cost','landed_cost', 'max quantity']]"
   ]
  },
  {
   "cell_type": "code",
   "execution_count": 9,
   "metadata": {},
   "outputs": [
    {
     "output_type": "execute_result",
     "data": {
      "text/plain": "            isbn supplier            pub currency      rate  price  discount  \\\n0  9780786820771     ALEK  HACHETTE LIVE      USD  1.000000   0.01      0.59   \n1  9780194705493     ALEK  OXFORD UP ELT      GBP  1.245501   0.14      0.43   \n2  9780593222904     ALEK   RANDOM HOUSE      USD  1.000000   1.11      0.64   \n3  9780593222898     ALEK   RANDOM HOUSE      USD  1.000000   1.11      0.64   \n4  9780593100073     ALEK   RANDOM HOUSE      USD  1.000000   1.11      0.64   \n\n   invoice_fee  lp_fee  inv_price_before_exc  shipping cost  landed_cost  \\\n0        0.005     0.0              0.004121            0.5     0.504120   \n1        0.005     0.0              0.080199            0.5     0.599888   \n2        0.005     0.0              0.401598            0.5     0.901598   \n3        0.005     0.0              0.401598            0.5     0.901598   \n4        0.005     0.0              0.401598            0.5     0.901598   \n\n   max quantity  \n0          5000  \n1         10000  \n2          5000  \n3          5000  \n4          5000  ",
      "text/html": "<div>\n<style scoped>\n    .dataframe tbody tr th:only-of-type {\n        vertical-align: middle;\n    }\n\n    .dataframe tbody tr th {\n        vertical-align: top;\n    }\n\n    .dataframe thead th {\n        text-align: right;\n    }\n</style>\n<table border=\"1\" class=\"dataframe\">\n  <thead>\n    <tr style=\"text-align: right;\">\n      <th></th>\n      <th>isbn</th>\n      <th>supplier</th>\n      <th>pub</th>\n      <th>currency</th>\n      <th>rate</th>\n      <th>price</th>\n      <th>discount</th>\n      <th>invoice_fee</th>\n      <th>lp_fee</th>\n      <th>inv_price_before_exc</th>\n      <th>shipping cost</th>\n      <th>landed_cost</th>\n      <th>max quantity</th>\n    </tr>\n  </thead>\n  <tbody>\n    <tr>\n      <th>0</th>\n      <td>9780786820771</td>\n      <td>ALEK</td>\n      <td>HACHETTE LIVE</td>\n      <td>USD</td>\n      <td>1.000000</td>\n      <td>0.01</td>\n      <td>0.59</td>\n      <td>0.005</td>\n      <td>0.0</td>\n      <td>0.004121</td>\n      <td>0.5</td>\n      <td>0.504120</td>\n      <td>5000</td>\n    </tr>\n    <tr>\n      <th>1</th>\n      <td>9780194705493</td>\n      <td>ALEK</td>\n      <td>OXFORD UP ELT</td>\n      <td>GBP</td>\n      <td>1.245501</td>\n      <td>0.14</td>\n      <td>0.43</td>\n      <td>0.005</td>\n      <td>0.0</td>\n      <td>0.080199</td>\n      <td>0.5</td>\n      <td>0.599888</td>\n      <td>10000</td>\n    </tr>\n    <tr>\n      <th>2</th>\n      <td>9780593222904</td>\n      <td>ALEK</td>\n      <td>RANDOM HOUSE</td>\n      <td>USD</td>\n      <td>1.000000</td>\n      <td>1.11</td>\n      <td>0.64</td>\n      <td>0.005</td>\n      <td>0.0</td>\n      <td>0.401598</td>\n      <td>0.5</td>\n      <td>0.901598</td>\n      <td>5000</td>\n    </tr>\n    <tr>\n      <th>3</th>\n      <td>9780593222898</td>\n      <td>ALEK</td>\n      <td>RANDOM HOUSE</td>\n      <td>USD</td>\n      <td>1.000000</td>\n      <td>1.11</td>\n      <td>0.64</td>\n      <td>0.005</td>\n      <td>0.0</td>\n      <td>0.401598</td>\n      <td>0.5</td>\n      <td>0.901598</td>\n      <td>5000</td>\n    </tr>\n    <tr>\n      <th>4</th>\n      <td>9780593100073</td>\n      <td>ALEK</td>\n      <td>RANDOM HOUSE</td>\n      <td>USD</td>\n      <td>1.000000</td>\n      <td>1.11</td>\n      <td>0.64</td>\n      <td>0.005</td>\n      <td>0.0</td>\n      <td>0.401598</td>\n      <td>0.5</td>\n      <td>0.901598</td>\n      <td>5000</td>\n    </tr>\n  </tbody>\n</table>\n</div>"
     },
     "metadata": {},
     "execution_count": 9
    }
   ],
   "source": [
    "sup_sql = pd.read_csv('supplier_sql.csv')\n",
    "sup_sql.head()"
   ]
  },
  {
   "cell_type": "code",
   "execution_count": 10,
   "metadata": {},
   "outputs": [],
   "source": [
    "all_sup = sup_exc.append(sup_sql, ignore_index= True)"
   ]
  },
  {
   "cell_type": "code",
   "execution_count": 11,
   "metadata": {},
   "outputs": [
    {
     "output_type": "execute_result",
     "data": {
      "text/plain": "            isbn supplier  pub currency      rate  price  discount  \\\n0  9780000079145      ABE  LWW      GBP  1.245501   67.0      0.55   \n1  9780000003201      ABE  LWW      GBP  1.245501  265.0      0.55   \n2  9780000002402      ABE  LWW      GBP  1.245501  306.0      0.55   \n3  9780000006493      ABE  LWW      GBP  1.245501  772.0      0.55   \n4  9780000009883      ABE  LWW      GBP  1.245501   92.0      0.55   \n\n   invoice_fee  lp_fee  inv_price_before_exc  shipping cost  landed_cost  \\\n0          0.0     0.0                 30.15           3.47    41.021846   \n1          0.0     0.0                119.25           3.47   151.995957   \n2          0.0     0.0                137.70           3.47   174.975444   \n3          0.0     0.0                347.40           3.47   436.156938   \n4          0.0     0.0                 41.40           3.47    55.033728   \n\n   max quantity  \n0         10000  \n1         10000  \n2         10000  \n3         10000  \n4         10000  ",
      "text/html": "<div>\n<style scoped>\n    .dataframe tbody tr th:only-of-type {\n        vertical-align: middle;\n    }\n\n    .dataframe tbody tr th {\n        vertical-align: top;\n    }\n\n    .dataframe thead th {\n        text-align: right;\n    }\n</style>\n<table border=\"1\" class=\"dataframe\">\n  <thead>\n    <tr style=\"text-align: right;\">\n      <th></th>\n      <th>isbn</th>\n      <th>supplier</th>\n      <th>pub</th>\n      <th>currency</th>\n      <th>rate</th>\n      <th>price</th>\n      <th>discount</th>\n      <th>invoice_fee</th>\n      <th>lp_fee</th>\n      <th>inv_price_before_exc</th>\n      <th>shipping cost</th>\n      <th>landed_cost</th>\n      <th>max quantity</th>\n    </tr>\n  </thead>\n  <tbody>\n    <tr>\n      <th>0</th>\n      <td>9780000079145</td>\n      <td>ABE</td>\n      <td>LWW</td>\n      <td>GBP</td>\n      <td>1.245501</td>\n      <td>67.0</td>\n      <td>0.55</td>\n      <td>0.0</td>\n      <td>0.0</td>\n      <td>30.15</td>\n      <td>3.47</td>\n      <td>41.021846</td>\n      <td>10000</td>\n    </tr>\n    <tr>\n      <th>1</th>\n      <td>9780000003201</td>\n      <td>ABE</td>\n      <td>LWW</td>\n      <td>GBP</td>\n      <td>1.245501</td>\n      <td>265.0</td>\n      <td>0.55</td>\n      <td>0.0</td>\n      <td>0.0</td>\n      <td>119.25</td>\n      <td>3.47</td>\n      <td>151.995957</td>\n      <td>10000</td>\n    </tr>\n    <tr>\n      <th>2</th>\n      <td>9780000002402</td>\n      <td>ABE</td>\n      <td>LWW</td>\n      <td>GBP</td>\n      <td>1.245501</td>\n      <td>306.0</td>\n      <td>0.55</td>\n      <td>0.0</td>\n      <td>0.0</td>\n      <td>137.70</td>\n      <td>3.47</td>\n      <td>174.975444</td>\n      <td>10000</td>\n    </tr>\n    <tr>\n      <th>3</th>\n      <td>9780000006493</td>\n      <td>ABE</td>\n      <td>LWW</td>\n      <td>GBP</td>\n      <td>1.245501</td>\n      <td>772.0</td>\n      <td>0.55</td>\n      <td>0.0</td>\n      <td>0.0</td>\n      <td>347.40</td>\n      <td>3.47</td>\n      <td>436.156938</td>\n      <td>10000</td>\n    </tr>\n    <tr>\n      <th>4</th>\n      <td>9780000009883</td>\n      <td>ABE</td>\n      <td>LWW</td>\n      <td>GBP</td>\n      <td>1.245501</td>\n      <td>92.0</td>\n      <td>0.55</td>\n      <td>0.0</td>\n      <td>0.0</td>\n      <td>41.40</td>\n      <td>3.47</td>\n      <td>55.033728</td>\n      <td>10000</td>\n    </tr>\n  </tbody>\n</table>\n</div>"
     },
     "metadata": {},
     "execution_count": 11
    }
   ],
   "source": [
    "all_sup.head()"
   ]
  },
  {
   "cell_type": "code",
   "execution_count": 12,
   "metadata": {},
   "outputs": [
    {
     "output_type": "execute_result",
     "data": {
      "text/plain": "(3895294, 13)"
     },
     "metadata": {},
     "execution_count": 12
    }
   ],
   "source": [
    "all_sup.shape"
   ]
  },
  {
   "cell_type": "code",
   "execution_count": 13,
   "metadata": {},
   "outputs": [],
   "source": [
    "all_sup = all_sup.sort_values(by='landed_cost', ascending=True)"
   ]
  },
  {
   "cell_type": "code",
   "execution_count": 14,
   "metadata": {},
   "outputs": [
    {
     "output_type": "execute_result",
     "data": {
      "text/plain": "                 isbn supplier            pub currency  rate  price  discount  \\\n574548  9780786820771     ALEK  HACHETTE LIVE      USD   1.0   0.01      0.59   \n303363  9781259927638    RAJAN         MCGRAW      USD   1.0   0.01      0.48   \n302709  9781260025415    RAJAN         MCGRAW      USD   1.0   0.01      0.48   \n302435  9781259879906    RAJAN         MCGRAW      USD   1.0   0.01      0.48   \n303486  9781260169829    RAJAN         MCGRAW      USD   1.0   0.01      0.48   \n\n        invoice_fee  lp_fee  inv_price_before_exc  shipping cost  landed_cost  \\\n574548        0.005     0.0              0.004121            0.5      0.50412   \n303363        0.000     0.0              0.005200            0.5      0.50520   \n302709        0.000     0.0              0.005200            0.5      0.50520   \n302435        0.000     0.0              0.005200            0.5      0.50520   \n303486        0.000     0.0              0.005200            0.5      0.50520   \n\n        max quantity  \n574548          5000  \n303363         10000  \n302709         10000  \n302435         10000  \n303486         10000  ",
      "text/html": "<div>\n<style scoped>\n    .dataframe tbody tr th:only-of-type {\n        vertical-align: middle;\n    }\n\n    .dataframe tbody tr th {\n        vertical-align: top;\n    }\n\n    .dataframe thead th {\n        text-align: right;\n    }\n</style>\n<table border=\"1\" class=\"dataframe\">\n  <thead>\n    <tr style=\"text-align: right;\">\n      <th></th>\n      <th>isbn</th>\n      <th>supplier</th>\n      <th>pub</th>\n      <th>currency</th>\n      <th>rate</th>\n      <th>price</th>\n      <th>discount</th>\n      <th>invoice_fee</th>\n      <th>lp_fee</th>\n      <th>inv_price_before_exc</th>\n      <th>shipping cost</th>\n      <th>landed_cost</th>\n      <th>max quantity</th>\n    </tr>\n  </thead>\n  <tbody>\n    <tr>\n      <th>574548</th>\n      <td>9780786820771</td>\n      <td>ALEK</td>\n      <td>HACHETTE LIVE</td>\n      <td>USD</td>\n      <td>1.0</td>\n      <td>0.01</td>\n      <td>0.59</td>\n      <td>0.005</td>\n      <td>0.0</td>\n      <td>0.004121</td>\n      <td>0.5</td>\n      <td>0.50412</td>\n      <td>5000</td>\n    </tr>\n    <tr>\n      <th>303363</th>\n      <td>9781259927638</td>\n      <td>RAJAN</td>\n      <td>MCGRAW</td>\n      <td>USD</td>\n      <td>1.0</td>\n      <td>0.01</td>\n      <td>0.48</td>\n      <td>0.000</td>\n      <td>0.0</td>\n      <td>0.005200</td>\n      <td>0.5</td>\n      <td>0.50520</td>\n      <td>10000</td>\n    </tr>\n    <tr>\n      <th>302709</th>\n      <td>9781260025415</td>\n      <td>RAJAN</td>\n      <td>MCGRAW</td>\n      <td>USD</td>\n      <td>1.0</td>\n      <td>0.01</td>\n      <td>0.48</td>\n      <td>0.000</td>\n      <td>0.0</td>\n      <td>0.005200</td>\n      <td>0.5</td>\n      <td>0.50520</td>\n      <td>10000</td>\n    </tr>\n    <tr>\n      <th>302435</th>\n      <td>9781259879906</td>\n      <td>RAJAN</td>\n      <td>MCGRAW</td>\n      <td>USD</td>\n      <td>1.0</td>\n      <td>0.01</td>\n      <td>0.48</td>\n      <td>0.000</td>\n      <td>0.0</td>\n      <td>0.005200</td>\n      <td>0.5</td>\n      <td>0.50520</td>\n      <td>10000</td>\n    </tr>\n    <tr>\n      <th>303486</th>\n      <td>9781260169829</td>\n      <td>RAJAN</td>\n      <td>MCGRAW</td>\n      <td>USD</td>\n      <td>1.0</td>\n      <td>0.01</td>\n      <td>0.48</td>\n      <td>0.000</td>\n      <td>0.0</td>\n      <td>0.005200</td>\n      <td>0.5</td>\n      <td>0.50520</td>\n      <td>10000</td>\n    </tr>\n  </tbody>\n</table>\n</div>"
     },
     "metadata": {},
     "execution_count": 14
    }
   ],
   "source": [
    "all_sup.head()"
   ]
  },
  {
   "cell_type": "code",
   "execution_count": 15,
   "metadata": {},
   "outputs": [
    {
     "output_type": "execute_result",
     "data": {
      "text/plain": "            isbn supplier            pub currency  rate  price  discount  \\\n0  9780786820771     ALEK  HACHETTE LIVE      USD   1.0   0.01      0.59   \n1  9781259927638    RAJAN         MCGRAW      USD   1.0   0.01      0.48   \n2  9781260025415    RAJAN         MCGRAW      USD   1.0   0.01      0.48   \n3  9781259879906    RAJAN         MCGRAW      USD   1.0   0.01      0.48   \n4  9781260169829    RAJAN         MCGRAW      USD   1.0   0.01      0.48   \n\n   invoice_fee  lp_fee  inv_price_before_exc  shipping cost  landed_cost  \\\n0        0.005     0.0              0.004121            0.5      0.50412   \n1        0.000     0.0              0.005200            0.5      0.50520   \n2        0.000     0.0              0.005200            0.5      0.50520   \n3        0.000     0.0              0.005200            0.5      0.50520   \n4        0.000     0.0              0.005200            0.5      0.50520   \n\n   max quantity isbn13 vendor  \n0          5000    NaN    NaN  \n1         10000    NaN    NaN  \n2         10000    NaN    NaN  \n3         10000    NaN    NaN  \n4         10000    NaN    NaN  ",
      "text/html": "<div>\n<style scoped>\n    .dataframe tbody tr th:only-of-type {\n        vertical-align: middle;\n    }\n\n    .dataframe tbody tr th {\n        vertical-align: top;\n    }\n\n    .dataframe thead th {\n        text-align: right;\n    }\n</style>\n<table border=\"1\" class=\"dataframe\">\n  <thead>\n    <tr style=\"text-align: right;\">\n      <th></th>\n      <th>isbn</th>\n      <th>supplier</th>\n      <th>pub</th>\n      <th>currency</th>\n      <th>rate</th>\n      <th>price</th>\n      <th>discount</th>\n      <th>invoice_fee</th>\n      <th>lp_fee</th>\n      <th>inv_price_before_exc</th>\n      <th>shipping cost</th>\n      <th>landed_cost</th>\n      <th>max quantity</th>\n      <th>isbn13</th>\n      <th>vendor</th>\n    </tr>\n  </thead>\n  <tbody>\n    <tr>\n      <th>0</th>\n      <td>9780786820771</td>\n      <td>ALEK</td>\n      <td>HACHETTE LIVE</td>\n      <td>USD</td>\n      <td>1.0</td>\n      <td>0.01</td>\n      <td>0.59</td>\n      <td>0.005</td>\n      <td>0.0</td>\n      <td>0.004121</td>\n      <td>0.5</td>\n      <td>0.50412</td>\n      <td>5000</td>\n      <td>NaN</td>\n      <td>NaN</td>\n    </tr>\n    <tr>\n      <th>1</th>\n      <td>9781259927638</td>\n      <td>RAJAN</td>\n      <td>MCGRAW</td>\n      <td>USD</td>\n      <td>1.0</td>\n      <td>0.01</td>\n      <td>0.48</td>\n      <td>0.000</td>\n      <td>0.0</td>\n      <td>0.005200</td>\n      <td>0.5</td>\n      <td>0.50520</td>\n      <td>10000</td>\n      <td>NaN</td>\n      <td>NaN</td>\n    </tr>\n    <tr>\n      <th>2</th>\n      <td>9781260025415</td>\n      <td>RAJAN</td>\n      <td>MCGRAW</td>\n      <td>USD</td>\n      <td>1.0</td>\n      <td>0.01</td>\n      <td>0.48</td>\n      <td>0.000</td>\n      <td>0.0</td>\n      <td>0.005200</td>\n      <td>0.5</td>\n      <td>0.50520</td>\n      <td>10000</td>\n      <td>NaN</td>\n      <td>NaN</td>\n    </tr>\n    <tr>\n      <th>3</th>\n      <td>9781259879906</td>\n      <td>RAJAN</td>\n      <td>MCGRAW</td>\n      <td>USD</td>\n      <td>1.0</td>\n      <td>0.01</td>\n      <td>0.48</td>\n      <td>0.000</td>\n      <td>0.0</td>\n      <td>0.005200</td>\n      <td>0.5</td>\n      <td>0.50520</td>\n      <td>10000</td>\n      <td>NaN</td>\n      <td>NaN</td>\n    </tr>\n    <tr>\n      <th>4</th>\n      <td>9781260169829</td>\n      <td>RAJAN</td>\n      <td>MCGRAW</td>\n      <td>USD</td>\n      <td>1.0</td>\n      <td>0.01</td>\n      <td>0.48</td>\n      <td>0.000</td>\n      <td>0.0</td>\n      <td>0.005200</td>\n      <td>0.5</td>\n      <td>0.50520</td>\n      <td>10000</td>\n      <td>NaN</td>\n      <td>NaN</td>\n    </tr>\n  </tbody>\n</table>\n</div>"
     },
     "metadata": {},
     "execution_count": 15
    }
   ],
   "source": [
    "all_sup = pd.merge(all_sup, rest, how='left', left_on = ['isbn','supplier'], right_on = ['isbn13', 'vendor'] )\n",
    "all_sup.head()\n",
    ""
   ]
  },
  {
   "cell_type": "code",
   "execution_count": 16,
   "metadata": {},
   "outputs": [
    {
     "output_type": "execute_result",
     "data": {
      "text/plain": "(3895294, 15)"
     },
     "metadata": {},
     "execution_count": 16
    }
   ],
   "source": [
    "all_sup.shape"
   ]
  },
  {
   "cell_type": "code",
   "execution_count": 17,
   "metadata": {},
   "outputs": [],
   "source": [
    "all_sup.drop(\n",
    "    all_sup[\n",
    "        (all_sup['isbn'] == all_sup['isbn13']) & (all_sup['supplier'] == all_sup['vendor'])\n",
    "        ].index, inplace = True\n",
    ")"
   ]
  },
  {
   "cell_type": "code",
   "execution_count": 18,
   "metadata": {},
   "outputs": [
    {
     "output_type": "execute_result",
     "data": {
      "text/plain": "(3894179, 15)"
     },
     "metadata": {},
     "execution_count": 18
    }
   ],
   "source": [
    "all_sup.shape"
   ]
  },
  {
   "cell_type": "code",
   "execution_count": 21,
   "metadata": {},
   "outputs": [],
   "source": [
    "all_sup = all_sup[~all_sup['isbn'].isin(list(risky['isbn13']))]"
   ]
  },
  {
   "cell_type": "code",
   "execution_count": 22,
   "metadata": {},
   "outputs": [
    {
     "output_type": "execute_result",
     "data": {
      "text/plain": "(3894007, 15)"
     },
     "metadata": {},
     "execution_count": 22
    }
   ],
   "source": [
    "all_sup.shape"
   ]
  },
  {
   "cell_type": "code",
   "execution_count": 23,
   "metadata": {},
   "outputs": [],
   "source": [
    "all_sup.drop(columns = ['isbn13', 'vendor'], inplace = True)"
   ]
  },
  {
   "cell_type": "code",
   "execution_count": 24,
   "metadata": {},
   "outputs": [
    {
     "output_type": "execute_result",
     "data": {
      "text/plain": "             isbn supplier            pub currency      rate  price  discount  \\\n0   9780786820771     ALEK  HACHETTE LIVE      USD  1.000000   0.01      0.59   \n5   9780194705493     ALEK  OXFORD UP ELT      GBP  1.245501   0.14      0.43   \n6   9781259922428    RAJAN         MCGRAW      USD  1.000000   0.25      0.48   \n10  9780078022159    RAJAN         MCGRAW      USD  1.000000   0.25      0.48   \n23  9781259712357    RAJAN         MCGRAW      USD  1.000000   0.25      0.48   \n\n    invoice_fee  lp_fee  inv_price_before_exc  shipping cost  landed_cost  \\\n0         0.005     0.0              0.004121            0.5     0.504120   \n5         0.005     0.0              0.080199            0.5     0.599888   \n6         0.000     0.0              0.130000            0.5     0.630000   \n10        0.000     0.0              0.130000            0.5     0.630000   \n23        0.000     0.0              0.130000            0.5     0.630000   \n\n    max quantity  \n0           5000  \n5          10000  \n6          10000  \n10         10000  \n23         10000  ",
      "text/html": "<div>\n<style scoped>\n    .dataframe tbody tr th:only-of-type {\n        vertical-align: middle;\n    }\n\n    .dataframe tbody tr th {\n        vertical-align: top;\n    }\n\n    .dataframe thead th {\n        text-align: right;\n    }\n</style>\n<table border=\"1\" class=\"dataframe\">\n  <thead>\n    <tr style=\"text-align: right;\">\n      <th></th>\n      <th>isbn</th>\n      <th>supplier</th>\n      <th>pub</th>\n      <th>currency</th>\n      <th>rate</th>\n      <th>price</th>\n      <th>discount</th>\n      <th>invoice_fee</th>\n      <th>lp_fee</th>\n      <th>inv_price_before_exc</th>\n      <th>shipping cost</th>\n      <th>landed_cost</th>\n      <th>max quantity</th>\n    </tr>\n  </thead>\n  <tbody>\n    <tr>\n      <th>0</th>\n      <td>9780786820771</td>\n      <td>ALEK</td>\n      <td>HACHETTE LIVE</td>\n      <td>USD</td>\n      <td>1.000000</td>\n      <td>0.01</td>\n      <td>0.59</td>\n      <td>0.005</td>\n      <td>0.0</td>\n      <td>0.004121</td>\n      <td>0.5</td>\n      <td>0.504120</td>\n      <td>5000</td>\n    </tr>\n    <tr>\n      <th>5</th>\n      <td>9780194705493</td>\n      <td>ALEK</td>\n      <td>OXFORD UP ELT</td>\n      <td>GBP</td>\n      <td>1.245501</td>\n      <td>0.14</td>\n      <td>0.43</td>\n      <td>0.005</td>\n      <td>0.0</td>\n      <td>0.080199</td>\n      <td>0.5</td>\n      <td>0.599888</td>\n      <td>10000</td>\n    </tr>\n    <tr>\n      <th>6</th>\n      <td>9781259922428</td>\n      <td>RAJAN</td>\n      <td>MCGRAW</td>\n      <td>USD</td>\n      <td>1.000000</td>\n      <td>0.25</td>\n      <td>0.48</td>\n      <td>0.000</td>\n      <td>0.0</td>\n      <td>0.130000</td>\n      <td>0.5</td>\n      <td>0.630000</td>\n      <td>10000</td>\n    </tr>\n    <tr>\n      <th>10</th>\n      <td>9780078022159</td>\n      <td>RAJAN</td>\n      <td>MCGRAW</td>\n      <td>USD</td>\n      <td>1.000000</td>\n      <td>0.25</td>\n      <td>0.48</td>\n      <td>0.000</td>\n      <td>0.0</td>\n      <td>0.130000</td>\n      <td>0.5</td>\n      <td>0.630000</td>\n      <td>10000</td>\n    </tr>\n    <tr>\n      <th>23</th>\n      <td>9781259712357</td>\n      <td>RAJAN</td>\n      <td>MCGRAW</td>\n      <td>USD</td>\n      <td>1.000000</td>\n      <td>0.25</td>\n      <td>0.48</td>\n      <td>0.000</td>\n      <td>0.0</td>\n      <td>0.130000</td>\n      <td>0.5</td>\n      <td>0.630000</td>\n      <td>10000</td>\n    </tr>\n  </tbody>\n</table>\n</div>"
     },
     "metadata": {},
     "execution_count": 24
    }
   ],
   "source": [
    "all_sup.head()"
   ]
  },
  {
   "cell_type": "code",
   "execution_count": 26,
   "metadata": {},
   "outputs": [
    {
     "output_type": "execute_result",
     "data": {
      "text/plain": "array(['ALEK', 'RAJAN', 'FELIPE', 'BM TRADING', 'ARMANDO', 'BILLSON',\n       'SENAD', 'ABE', 'ZOOKAL', 'COINFO', 'UT', 'LAURENTIU', 'BERTRAMS',\n       'PROBOOK', 'ABE LAURENTIU', 'ABE ALEK', 'APEX', 'FELIPE/ARMANDO',\n       'BRYAN', 'GAUTAM', 'SOHRAB', 'FRIDAY', 'BILLSON T',\n       'BILLSON - SCI', 'TEXTBOOK TRADE HK', 'MYAMMAR', 'WESTERN CAMPUS',\n       'WC'], dtype=object)"
     },
     "metadata": {},
     "execution_count": 26
    }
   ],
   "source": [
    "all_sup['supplier'].unique()"
   ]
  },
  {
   "cell_type": "code",
   "execution_count": 32,
   "metadata": {},
   "outputs": [],
   "source": [
    "# Removing Austalian Suppliers\n",
    "no_aus = all_sup[~((all_sup['supplier']=='COINFO') | (all_sup['supplier']=='ZOOKAL'))]\n",
    "no_aus.shape"
   ]
  },
  {
   "cell_type": "code",
   "execution_count": null,
   "metadata": {},
   "outputs": [],
   "source": [
    "#Dropping dupplicates\n",
    "\n",
    "no_dup = no_aus.drop_duplicates(subset='isbn', keep=\"first\")"
   ]
  },
  {
   "cell_type": "code",
   "execution_count": 34,
   "metadata": {},
   "outputs": [],
   "source": [
    "pearson = no_dup[no_dup['pub'] == 'PEARSON']"
   ]
  },
  {
   "cell_type": "code",
   "execution_count": null,
   "metadata": {},
   "outputs": [],
   "source": []
  }
 ]
}