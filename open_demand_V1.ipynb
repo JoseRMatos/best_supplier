{
 "cells": [
  {
   "cell_type": "markdown",
   "metadata": {},
   "source": [
    "# Open Demand"
   ]
  },
  {
   "cell_type": "markdown",
   "metadata": {},
   "source": [
    "## Import Libraries"
   ]
  },
  {
   "cell_type": "code",
   "execution_count": 1,
   "metadata": {},
   "outputs": [],
   "source": [
    "import pandas as pd\n",
    "import numpy as np\n",
    "import pyodbc # SQL Connection\n",
    "import sqlCredentials as sql"
   ]
  },
  {
   "cell_type": "markdown",
   "metadata": {},
   "source": [
    "## Import Database"
   ]
  },
  {
   "cell_type": "code",
   "execution_count": 2,
   "metadata": {},
   "outputs": [],
   "source": [
    "#BookXCenterProduction\n",
    "prod_db = pyodbc.connect(\n",
    "    'DRIVER={ODBC Driver 17 for SQL Server};'\n",
    "    'Server=52.86.56.66;'\n",
    "    'Database=BookXCenterProduction;'\n",
    "    'UID='+sql.username+';'\n",
    "    'PWD='+sql.password+';'\n",
    "    'Trusted_connection=no;'\n",
    ")"
   ]
  },
  {
   "cell_type": "markdown",
   "metadata": {},
   "source": [
    "## Define clean_up"
   ]
  },
  {
   "cell_type": "code",
   "execution_count": 3,
   "metadata": {},
   "outputs": [],
   "source": [
    "def clean_up(phrase):\n",
    "    phrase = phrase.lstrip()\n",
    "    phrase = phrase.rstrip()\n",
    "    phrase = phrase.upper()\n",
    "    return phrase"
   ]
  },
  {
   "cell_type": "markdown",
   "metadata": {},
   "source": [
    "## Import Tables"
   ]
  },
  {
   "cell_type": "code",
   "execution_count": 1,
   "metadata": {},
   "outputs": [],
   "source": [
    "# Inventory\n",
    "inventory_sql = \"\"\"\n",
    "SELECT \n",
    "    ItemCode\n",
    "    , WhsCode\n",
    "    , AVG(OnHand) AS Onhand\n",
    "FROM \n",
    "\tSAP.InventoryReportView\n",
    "WHERE\n",
    "\tWhsCode = 'WW'\n",
    "\tAND OnHand > 0\n",
    "GROUP BY\n",
    "\tItemCode\n",
    "\t, WhsCode\n",
    "\"\"\"\n",
    "\n",
    "# Line Purchase Order\n",
    "PO_sql = \"\"\"\n",
    "WITH PO AS\n",
    "(SELECT \n",
    "\tCASE\n",
    "\t\tWHEN Rate = 0 THEN 1\n",
    "\t\tELSE Rate\n",
    "\tEND AS EXCHANGE\n",
    "\t, ISBN\n",
    "\t, OpenQuantity\n",
    "\t, GrossPrice\n",
    "\t, ShippingCostUSD\n",
    "\t, Whse\n",
    "    , [RowDeliveryDate]\n",
    "    , [DocumentNumber]\n",
    "    , [DocumentName]\n",
    "    , [DocumentStatus]\n",
    "    , [BPCode]\n",
    "    , [BPName]\n",
    "    , [OrderStatus]\n",
    "FROM [SAP].[LinePurchaseOrderView]\n",
    ")\n",
    "\n",
    "SELECT\n",
    "\t[ISBN]\n",
    "\t, OpenQuantity\n",
    "\t, (GrossPrice*EXCHANGE +ShippingCostUSD) AS LandedCost\n",
    "\t, [Whse]\n",
    "    , [RowDeliveryDate]\n",
    "    , [DocumentNumber]\n",
    "    , [DocumentName]\n",
    "    , [BPCode]\n",
    "    , [BPName]\n",
    "    , [OrderStatus]\n",
    "\t, (CASE\n",
    "\t\tWHEN [RowDeliveryDate] > GETDATE() THEN 'OnTime'\n",
    "\t\tELSE 'Late'\n",
    "\tEND) AS DeliveryStatus\n",
    "FROM \n",
    "\tPO\n",
    "WHERE \n",
    "\tWhse in ('WW', 'TB') \n",
    "\tAND OpenQuantity > 0\n",
    "\"\"\"\n",
    "# Line Sales Order\n",
    "\n",
    "SO\n",
    "\n",
    "_sql = \"\"\"\n",
    "SELECT \n",
    "\tIsbn\n",
    "\t, OpenQuantity\n",
    "\t, UnitPrice AS SalePrice\n",
    "\t, WarehouseCode\n",
    "\t, DeliveryDate\n",
    "\t, DocumentNumber\n",
    "\t, DocumentName\n",
    "\t, CustomerOrVendorCode\n",
    "\t, CustomerOrVendorName\n",
    "\t, Condition\n",
    "\t, (CASE\n",
    "\t\t\tWHEN DeliveryDate > GETDATE() THEN 'OnTime'\n",
    "\t\t\tELSE 'Late'\n",
    "\t\tEND) AS DeliveryStatus\n",
    "FROM\n",
    "\t[SAP].[SaleOrderReportView]\n",
    "WHERE OpenQuantity > 0 AND WarehouseCode IN ('WW', 'AW')\n",
    "\"\"\""
   ]
  },
  {
   "cell_type": "code",
   "execution_count": null,
   "metadata": {},
   "outputs": [],
   "source": [
    "inventory = pd.read_sql(pub_dict, proc_db)\n",
    "inventory_ww"
   ]
  }
 ],
 "metadata": {
  "language_info": {
   "codemirror_mode": {
    "name": "ipython",
    "version": 3
   },
   "file_extension": ".py",
   "mimetype": "text/x-python",
   "name": "python",
   "nbconvert_exporter": "python",
   "pygments_lexer": "ipython3",
   "version": "3.7.6-final"
  },
  "orig_nbformat": 2,
  "kernelspec": {
   "name": "python3",
   "display_name": "Python 3"
  }
 },
 "nbformat": 4,
 "nbformat_minor": 2
}