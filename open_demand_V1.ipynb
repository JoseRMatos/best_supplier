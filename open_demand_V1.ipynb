{
 "cells": [
  {
   "cell_type": "markdown",
   "metadata": {},
   "source": [
    "# Open Demand"
   ]
  },
  {
   "cell_type": "markdown",
   "metadata": {},
   "source": [
    "## Import Libraries"
   ]
  },
  {
   "cell_type": "code",
   "execution_count": null,
   "metadata": {},
   "outputs": [],
   "source": [
    "import pandas as pd\n",
    "import numpy as np\n",
    "import pyodbc # SQL Connection\n",
    "import sqlCredentials as sql"
   ]
  },
  {
   "cell_type": "markdown",
   "metadata": {},
   "source": [
    "## Import Database"
   ]
  },
  {
   "cell_type": "code",
   "execution_count": null,
   "metadata": {},
   "outputs": [],
   "source": [
    "#BookXCenterProduction\n",
    "prod_db = pyodbc.connect(\n",
    "    'DRIVER={ODBC Driver 17 for SQL Server};'\n",
    "    'Server=52.86.56.66;'\n",
    "    'Database=BookXCenterProduction;'\n",
    "    'UID='+sql.username+';'\n",
    "    'PWD='+sql.password+';'\n",
    "    'Trusted_connection=no;'\n",
    ")"
   ]
  },
  {
   "cell_type": "markdown",
   "metadata": {},
   "source": [
    "## Define clean_up"
   ]
  },
  {
   "cell_type": "code",
   "execution_count": null,
   "metadata": {},
   "outputs": [],
   "source": [
    "def clean_up(phrase):\n",
    "    phrase = phrase.lstrip()\n",
    "    phrase = phrase.rstrip()\n",
    "    phrase = phrase.upper()\n",
    "    return phrase"
   ]
  },
  {
   "cell_type": "markdown",
   "metadata": {},
   "source": [
    "## Import Tables"
   ]
  },
  {
   "cell_type": "code",
   "execution_count": null,
   "metadata": {},
   "outputs": [],
   "source": [
    "# Inventory\n",
    "inventory_sql = \"\"\"\n",
    "SELECT \n",
    "    ItemCode\n",
    "    , WhsCode\n",
    "    , AVG(OnHand) AS Onhand\n",
    "FROM \n",
    "\tSAP.InventoryReportView\n",
    "WHERE\n",
    "\tWhsCode = 'WW'\n",
    "\tAND OnHand > 0\n",
    "GROUP BY\n",
    "\tItemCode\n",
    "\t, WhsCode\n",
    "\"\"\"\n",
    "\n",
    "# Line Purchase Order\n",
    "PO_sql = \"\"\"\n",
    "WITH PO AS\n",
    "(SELECT \n",
    "\tCASE\n",
    "\t\tWHEN Rate = 0 THEN 1\n",
    "\t\tELSE Rate\n",
    "\tEND AS EXCHANGE\n",
    "\t, ISBN\n",
    "\t, OpenQuantity\n",
    "\t, GrossPrice\n",
    "\t, ShippingCostUSD\n",
    "\t, Whse\n",
    "    , [RowDeliveryDate]\n",
    "    , [DocumentNumber]\n",
    "    , [DocumentName]\n",
    "    , [DocumentStatus]\n",
    "    , [BPCode]\n",
    "    , [BPName]\n",
    "    , [OrderStatus]\n",
    "FROM [SAP].[LinePurchaseOrderView]\n",
    ")\n",
    "\n",
    "SELECT\n",
    "\t[ISBN]\n",
    "\t, OpenQuantity\n",
    "\t, (GrossPrice*EXCHANGE +ShippingCostUSD) AS LandedCost\n",
    "\t, [Whse]\n",
    "    , [RowDeliveryDate]\n",
    "    , [DocumentNumber]\n",
    "    , [DocumentName]\n",
    "    , [BPCode]\n",
    "    , [BPName]\n",
    "    , [OrderStatus]\n",
    "\t, (CASE\n",
    "\t\tWHEN [RowDeliveryDate] > GETDATE() THEN 'OnTime'\n",
    "\t\tELSE 'Late'\n",
    "\tEND) AS DeliveryStatus\n",
    "FROM \n",
    "\tPO\n",
    "WHERE \n",
    "\tWhse in ('WW', 'TB') \n",
    "\tAND OpenQuantity > 0\n",
    "\"\"\"\n",
    "# Line Sales Order\n",
    "\n",
    "SO_sql = \"\"\"\n",
    "SELECT \n",
    "\tIsbn\n",
    "\t, OpenQuantity\n",
    "\t, UnitPrice AS SalePrice\n",
    "\t, WarehouseCode\n",
    "\t, DeliveryDate\n",
    "\t, DocumentNumber\n",
    "\t, DocumentName\n",
    "\t, CustomerOrVendorCode\n",
    "\t, CustomerOrVendorName\n",
    "\t, Condition\n",
    "\t, (CASE\n",
    "\t\t\tWHEN DeliveryDate > GETDATE() THEN 'OnTime'\n",
    "\t\t\tELSE 'Late'\n",
    "\t\tEND) AS DeliveryStatus\n",
    "FROM\n",
    "\t[SAP].[SaleOrderReportView]\n",
    "WHERE OpenQuantity > 0 AND WarehouseCode IN ('WW')\n",
    "\"\"\""
   ]
  },
  {
   "cell_type": "code",
   "execution_count": null,
   "metadata": {},
   "outputs": [],
   "source": [
    "inventory = pd.read_sql(inventory_sql, prod_db)\n",
    "inventory.columns = map(str.lower, inventory.columns)\n",
    "for col in ['itemcode', 'whscode']:\n",
    "    inventory[col] = inventory.apply(lambda x: clean_up(x[col]), axis =1)\n",
    "inventory.rename(columns={'itemcode': 'isbn'}, inplace = True)\n",
    "print(inventory.isna().sum())\n",
    "inventory.head()"
   ]
  },
  {
   "cell_type": "code",
   "execution_count": null,
   "metadata": {},
   "outputs": [],
   "source": [
    "po = pd.read_sql(PO_sql, prod_db)\n",
    "po.columns = map(str.lower, po.columns)\n",
    "po.rename(columns={'bpname': 'supplier', 'bpcode': 'supplier_code', 'openquantity': 'po_open_qty', 'whse': 'po_whse', 'documentnumber' : 'po_number', 'documentname': ' po_name', 'deliverystatus': 'po_date_status'}, inplace = True)\n",
    "for col in ['isbn', 'po_whse', ' po_name', 'supplier_code', 'supplier', 'orderstatus', 'po_date_status']:\n",
    "    po[col] = po.apply(lambda x: clean_up(x[col]), axis =1)\n",
    "print(po.isna().sum())\n",
    "po.sort_values(['rowdeliverydate', 'po_whse', 'landedcost'], ascending=[True,False,True], inplace=True, ignore_index=True)\n",
    "po.head()"
   ]
  },
  {
   "cell_type": "code",
   "execution_count": null,
   "metadata": {},
   "outputs": [],
   "source": [
    "so = pd.read_sql(SO_sql, prod_db)\n",
    "so.columns = map(str.lower, so.columns)\n",
    "so.rename(columns={'openquantity': 'so_open_qty','warehousecode':'so_whse','customerorvendorname': 'customer', 'customerorvendorcode': 'customer_code', 'deliverydate' : 'customer_drop_date', 'documentnumber': 'so_number', 'documentname': 'so_name','deliverystatus': 'so_date_status'}, inplace = True)\n",
    "for col in ['isbn', 'so_whse', 'so_name', 'customer', 'customer_code', 'condition', 'so_date_status']:\n",
    "    so[col] = so.apply(lambda x: clean_up(x[col]), axis =1)\n",
    "print(so.isna().sum())\n",
    "so.sort_values(['customer_drop_date', 'saleprice'], ascending=[True,False], inplace=True, ignore_index=True)\n",
    "so.head()"
   ]
  },
  {
   "cell_type": "code",
   "execution_count": null,
   "metadata": {},
   "outputs": [],
   "source": [
    "so.columns"
   ]
  },
  {
   "cell_type": "code",
   "execution_count": null,
   "metadata": {},
   "outputs": [],
   "source": [
    "#ALLOCATE RECEIVED INVENTORY INTO THE \n",
    "\n",
    "inv_so = pd.DataFrame()\n",
    "for so_id in list(so[so['isbn'].isin(list(inventory['isbn']))].index.values):\n",
    "    for inv_id in list(inventory[inventory['isbn'].isin(list(so['isbn']))].index.values):\n",
    "        if (inventory.iloc[inv_id, :]['isbn'] == so.iloc[so_id, :]['isbn']) and (inventory.iloc[inv_id, :]['onhand'] > 0) and (so.iloc[so_id, :]['so_open_qty'] > 0):\n",
    "            row_inv_so = pd.merge(inventory.iloc[[inv_id], :], so.iloc[[so_id], :], how='left', on = 'isbn' )\n",
    "            row_inv_so['allocate_qty'] = row_inv_so[['onhand','so_open_qty']].min( axis = 1, skipna = True)\n",
    "            inventory.loc[inv_id,'onhand'] = inventory.loc[inv_id,'onhand'] - row_inv_so.iloc[0,:]['allocate_qty']\n",
    "            so.loc[so_id,'so_open_qty'] = so.loc[so_id,'so_open_qty'] - row_inv_so.iloc[0,:]['allocate_qty']\n",
    "            row_inv_so['time_status'] = so.iloc[so_id, :]['so_date_status']\n",
    "            row_inv_so['action'] = 'INVENTORY'\n",
    "            inv_so = inv_so.append(row_inv_so)"
   ]
  },
  {
   "cell_type": "code",
   "execution_count": null,
   "metadata": {},
   "outputs": [],
   "source": [
    "inv_so.head()"
   ]
  },
  {
   "cell_type": "code",
   "execution_count": null,
   "metadata": {},
   "outputs": [],
   "source": [
    "po_so = pd.DataFrame()\n",
    "for so_id in list(so[so['isbn'].isin(list(po['isbn'])) & (so['so_open_qty'] > 0)].index.values):\n",
    "    for po_id in list(po[po['isbn'].isin(list(so['isbn'])) & (po['po_open_qty'] > 0)].index.values):\n",
    "        if (po.iloc[po_id, :]['isbn'] == so.iloc[so_id, :]['isbn']) and (po.iloc[po_id, :]['po_open_qty'] > 0) and (so.iloc[so_id, :]['so_open_qty'] > 0) and ((so.iloc[so_id, :]['saleprice'] - po.iloc[po_id, :]['landedcost']) >= 0) & (so.iloc[so_id, :]['customer_drop_date'] > po.iloc[po_id, :]['rowdeliverydate']): #ALLOCATE OPEN PO ON TIME FOR THE SO WITH POSITIVE COMMISSION\n",
    "            row_po_so_good = pd.merge(po.iloc[[po_id], :], so.iloc[[so_id], :], how='left', on = 'isbn' )\n",
    "            row_po_so_good['qty'] = row_po_so_good[['po_open_qty','so_open_qty']].min( axis = 1, skipna = True)\n",
    "            po.loc[po_id,'po_open_qty'] = po.loc[po_id,'po_open_qty'] - row_po_so_good.iloc[0,:]['allocate_qty']\n",
    "            so.loc[so_id,'so_open_qty'] = so.loc[so_id,'so_open_qty'] - row_po_so_good.iloc[0,:]['allocate_qty']\n",
    "            row_po_so_good['time_status'] = so.iloc[so_id, :]['so_date_status']\n",
    "            # if (so.iloc[so_id, :]['so_date_status'] == 'LATE') & (po.iloc[po_id, :]['po_date_status'] == 'LATE'):\n",
    "            #     row_po_so_good['action'] = 'UPDATE PO DATE, UPDATE SO DATE'\n",
    "            # elif (so.iloc[so_id, :]['so_date_status'] == 'ONTIME') & (po.iloc[po_id, :]['po_date_status'] == 'LATE'):\n",
    "            #     row_po_so_good['action'] = 'UPDATE PO DATE'\n",
    "            # elif  (so.iloc[so_id, :]['so_date_status'] == 'LATE') & (po.iloc[po_id, :]['po_date_status'] == 'ONTIME'):\n",
    "            #     row_po_so_good['action'] = 'UPDATE PO DATE'\n",
    "            # else:\n",
    "            #     row_po_so_good['action'] = 'PROFIT'\n",
    "        elif (po.iloc[po_id, :]['isbn'] == so.iloc[so_id, :]['isbn']) and (po.iloc[po_id, :]['po_open_qty'] > 0) and (so.iloc[so_id, :]['so_open_qty'] > 0) and ((so.iloc[so_id, :]['saleprice'] - po.iloc[po_id, :]['landedcost']) < 0) & (so.iloc[so_id, :]['customer_drop_date'] > po.iloc[po_id, :]['rowdeliverydate']): #ALLOCATE OPEN PO ON TIME FOR THE SO WITH NEGATIVE COMMISSION\n",
    "            row_po_so_good = pd.merge(po.iloc[[po_id], :], so.iloc[[so_id], :], how='left', on = 'isbn' )\n",
    "            row_po_so_good['qty'] = row_po_so_good[['po_open_qty','so_open_qty']].min( axis = 1, skipna = True)\n",
    "            po.loc[po_id,'po_open_qty'] = po.loc[po_id,'po_open_qty'] - row_po_so_good.iloc[0,:]['allocate_qty']\n",
    "            so.loc[so_id,'so_open_qty'] = so.loc[so_id,'so_open_qty'] - row_po_so_good.iloc[0,:]['allocate_qty']\n",
    "            row_po_so_good['time_status'] = so.iloc[so_id, :]['so_date_status']\n",
    "            # if (so.iloc[so_id, :]['so_date_status'] == 'LATE') & (po.iloc[po_id, :]['po_date_status'] == 'LATE'):\n",
    "            #     row_po_so_good['action'] = 'UPDATE PO DATE, UPDATE SO DATE'\n",
    "            # elif (so.iloc[so_id, :]['so_date_status'] == 'ONTIME') & (po.iloc[po_id, :]['po_date_status'] == 'LATE'):\n",
    "            #     row_po_so_good['action'] = 'UPDATE PO DATE'\n",
    "            # elif  (so.iloc[so_id, :]['so_date_status'] == 'LATE') & (po.iloc[po_id, :]['po_date_status'] == 'ONTIME'):\n",
    "            #     row_po_so_good['action'] = 'UPDATE PO DATE'\n",
    "            # else:\n",
    "            #     row_po_so_good['action'] = 'NO PROFIT'\n",
    "        po_so = po_so_good.append(row_po_so_good)"
   ]
  },
  {
   "cell_type": "code",
   "execution_count": null,
   "metadata": {},
   "outputs": [],
   "source": [
    "\n",
    "po_so.drop(columns=['po_open_qty'. 'so_open_qty'], inplace=True)\n",
    "po_so.head()"
   ]
  },
  {
   "cell_type": "code",
   "execution_count": null,
   "metadata": {},
   "outputs": [],
   "source": [
    "# real_sale = pd.DataFrame()\n",
    "# real_sale = inv_so.append(po_so_good)\n",
    "po_so_good.to_csv('retail/po_so_good.csv', index= False)"
   ]
  },
  {
   "cell_type": "code",
   "execution_count": null,
   "metadata": {},
   "outputs": [],
   "source": []
  }
 ],
 "metadata": {
  "language_info": {
   "codemirror_mode": {
    "name": "ipython",
    "version": 3
   },
   "file_extension": ".py",
   "mimetype": "text/x-python",
   "name": "python",
   "nbconvert_exporter": "python",
   "pygments_lexer": "ipython3",
   "version": "3.7.6-final"
  },
  "orig_nbformat": 2,
  "kernelspec": {
   "name": "python3",
   "display_name": "Python 3"
  }
 },
 "nbformat": 4,
 "nbformat_minor": 2
}