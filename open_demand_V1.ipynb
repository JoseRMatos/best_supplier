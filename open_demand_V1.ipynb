{
 "cells": [
  {
   "cell_type": "markdown",
   "metadata": {},
   "source": [
    "# Open Demand"
   ]
  },
  {
   "cell_type": "markdown",
   "metadata": {},
   "source": [
    "## Import Libraries"
   ]
  },
  {
   "cell_type": "code",
   "execution_count": 1,
   "metadata": {},
   "outputs": [],
   "source": [
    "import pandas as pd\n",
    "import numpy as np\n",
    "import pyodbc # SQL Connection\n",
    "import sqlCredentials as sql"
   ]
  },
  {
   "cell_type": "markdown",
   "metadata": {},
   "source": [
    "## Import Database"
   ]
  },
  {
   "cell_type": "code",
   "execution_count": 2,
   "metadata": {},
   "outputs": [],
   "source": [
    "#BookXCenterProduction\n",
    "prod_db = pyodbc.connect(\n",
    "    'DRIVER={ODBC Driver 17 for SQL Server};'\n",
    "    'Server=52.86.56.66;'\n",
    "    'Database=BookXCenterProduction;'\n",
    "    'UID='+sql.username+';'\n",
    "    'PWD='+sql.password+';'\n",
    "    'Trusted_connection=no;'\n",
    ")"
   ]
  },
  {
   "cell_type": "markdown",
   "metadata": {},
   "source": [
    "## Define clean_up"
   ]
  },
  {
   "cell_type": "code",
   "execution_count": 3,
   "metadata": {},
   "outputs": [],
   "source": [
    "def clean_up(phrase):\n",
    "    phrase = phrase.lstrip()\n",
    "    phrase = phrase.rstrip()\n",
    "    phrase = phrase.upper()\n",
    "    return phrase"
   ]
  },
  {
   "cell_type": "markdown",
   "metadata": {},
   "source": [
    "## Import Tables"
   ]
  },
  {
   "cell_type": "code",
   "execution_count": 4,
   "metadata": {},
   "outputs": [],
   "source": [
    "# Inventory\n",
    "inventory_sql = \"\"\"\n",
    "SELECT \n",
    "    ItemCode AS isbn\n",
    "    , WhsCode AS po_whse\n",
    "    , AVG(OnHand) AS Onhand\n",
    "FROM \n",
    "\tSAP.InventoryReportView\n",
    "WHERE\n",
    "\tWhsCode IN ('WW', 'AW')\n",
    "\tAND OnHand > 0\n",
    "GROUP BY\n",
    "\tItemCode\n",
    "\t, WhsCode\n",
    "\"\"\"\n",
    "\n",
    "# Line Purchase Order\n",
    "PO_sql = \"\"\"\n",
    "WITH PO AS\n",
    "(SELECT \n",
    "\tCASE\n",
    "\t\tWHEN Rate = 0 THEN 1\n",
    "\t\tELSE Rate\n",
    "\tEND AS EXCHANGE\n",
    "\t, ISBN\n",
    "\t, OpenQuantity\n",
    "\t, GrossPrice\n",
    "\t, [Discount]\n",
    "\t, ShippingCostUSD\n",
    "\t, Whse\n",
    "    , [RowDeliveryDate]\n",
    "    , [DocumentNumber]\n",
    "    , [DocumentName]\n",
    "    , [DocumentStatus]\n",
    "    , [BPCode]\n",
    "    , [BPName]\n",
    "    , [OrderStatus]\n",
    "FROM [SAP].[LinePurchaseOrderView]\n",
    ")\n",
    "\n",
    "SELECT\n",
    "\t[ISBN]\n",
    "\t, OpenQuantity AS po_open_qty\n",
    "\t, (GrossPrice*EXCHANGE*(1-[Discount]/100) +ShippingCostUSD) AS LandedCost\n",
    "\t, [Whse] AS po_whse\n",
    "    , [RowDeliveryDate]\n",
    "    , [DocumentNumber] AS po_number\n",
    "    , [DocumentName] AS po_name\n",
    "    , [BPCode] AS supplier_code\n",
    "    , [BPName] AS supplier\n",
    "    , [OrderStatus]\n",
    "\t, (CASE\n",
    "\t\tWHEN [RowDeliveryDate] > GETDATE() THEN 'OnTime'\n",
    "\t\tELSE 'Late'\n",
    "\tEND) AS po_date_status\n",
    "FROM \n",
    "\tPO\n",
    "WHERE \n",
    "\tWhse in ('WW', 'TB') \n",
    "\tAND OpenQuantity > 0\n",
    "\"\"\"\n",
    "\n",
    "\n",
    "# Line Sales Order\n",
    "\n",
    "\n",
    "SO_sql = \"\"\"\n",
    "SELECT \n",
    "\tIsbn\n",
    "\t, OpenQuantity AS so_open_qty\n",
    "\t, UnitPrice AS SalePrice\n",
    "\t, WarehouseCode AS so_whse\n",
    "\t, DeliveryDate AS customer_drop_date\n",
    "\t, DocumentNumber AS so_number\n",
    "\t, DocumentName AS so_name\n",
    "\t, CustomerOrVendorCode AS customer_code\n",
    "\t, CustomerOrVendorName AS customer\n",
    "\t, CustomerRefNo\n",
    "\t, CustomerId\n",
    "\t, Condition\n",
    "\t, (CASE\n",
    "\t\t\tWHEN DeliveryDate > GETDATE() THEN 'OnTime'\n",
    "\t\t\tELSE 'Late'\n",
    "\t\tEND) AS so_date_status\n",
    "FROM\n",
    "\t[SAP].[SaleOrderReportView]\n",
    "WHERE OpenQuantity > 0 AND WarehouseCode IN ('WW')\n",
    "\"\"\"\n",
    "\n",
    "\n",
    "receiving_sql = \"\"\"\n",
    "WITH RECEIVED AS\n",
    "(SELECT\n",
    "\tCASE\n",
    "\t\tWHEN x_Rate = 0 THEN 1\n",
    "\t\tELSE x_Rate\n",
    "\tEND AS EXCHANGE\n",
    "\t, [ISBN]\n",
    "\t, [Price]\n",
    "\t, [Discount]\n",
    "\t, [ShippingCost]\n",
    "\t, [WarehouseCode]\n",
    "\t, [PostingDate]\n",
    "    , [DocName]\n",
    "\t, [DocNum]\n",
    "\t, [BPCode]\n",
    "\t, [BPName]\n",
    "FROM [SAP].[GoodsReceiptReportView]\n",
    ")\n",
    "\n",
    "SELECT\n",
    "\t[ISBN]\n",
    "\t, ([Price]*[EXCHANGE]*(1-[Discount]/100) + [ShippingCost]) AS landed_cost\n",
    "\t, [WarehouseCode] AS po_whse\n",
    "\t, [PostingDate] AS received_date\n",
    "    , [DocNum] AS po_number \n",
    "\t, [DocName] AS po_name\n",
    "\t, [BPCode] AS supplier_code\n",
    "\t, [BPName] AS supplier\n",
    "  FROM RECEIVED\n",
    "  WHERE WarehouseCode = 'WW'\n",
    "  ORDER BY PostingDate desc\n",
    "  \"\"\""
   ]
  },
  {
   "cell_type": "code",
   "execution_count": 5,
   "metadata": {},
   "outputs": [
    {
     "output_type": "stream",
     "name": "stdout",
     "text": "isbn       0\npo_whse    0\nonhand     0\ndtype: int64\n"
    },
    {
     "output_type": "execute_result",
     "data": {
      "text/plain": "            isbn po_whse  onhand\n0  9780071637916      AW       5\n1  9780071717595      AW      20\n2  9780071740289      AW      55\n3  9780071744416      AW      30\n4  9780071754422      AW      10",
      "text/html": "<div>\n<style scoped>\n    .dataframe tbody tr th:only-of-type {\n        vertical-align: middle;\n    }\n\n    .dataframe tbody tr th {\n        vertical-align: top;\n    }\n\n    .dataframe thead th {\n        text-align: right;\n    }\n</style>\n<table border=\"1\" class=\"dataframe\">\n  <thead>\n    <tr style=\"text-align: right;\">\n      <th></th>\n      <th>isbn</th>\n      <th>po_whse</th>\n      <th>onhand</th>\n    </tr>\n  </thead>\n  <tbody>\n    <tr>\n      <th>0</th>\n      <td>9780071637916</td>\n      <td>AW</td>\n      <td>5</td>\n    </tr>\n    <tr>\n      <th>1</th>\n      <td>9780071717595</td>\n      <td>AW</td>\n      <td>20</td>\n    </tr>\n    <tr>\n      <th>2</th>\n      <td>9780071740289</td>\n      <td>AW</td>\n      <td>55</td>\n    </tr>\n    <tr>\n      <th>3</th>\n      <td>9780071744416</td>\n      <td>AW</td>\n      <td>30</td>\n    </tr>\n    <tr>\n      <th>4</th>\n      <td>9780071754422</td>\n      <td>AW</td>\n      <td>10</td>\n    </tr>\n  </tbody>\n</table>\n</div>"
     },
     "metadata": {},
     "execution_count": 5
    }
   ],
   "source": [
    "inventory = pd.read_sql(inventory_sql, prod_db)\n",
    "inventory.columns = map(str.lower, inventory.columns)\n",
    "for col in ['isbn', 'po_whse']:\n",
    "    inventory[col] = inventory.apply(lambda x: clean_up(x[col]), axis =1)\n",
    "print(inventory.isna().sum())\n",
    "inventory.head()"
   ]
  },
  {
   "cell_type": "code",
   "execution_count": 6,
   "metadata": {},
   "outputs": [
    {
     "output_type": "stream",
     "name": "stdout",
     "text": "isbn             0\nlanded_cost      0\npo_whse          0\nreceived_date    0\npo_number        0\npo_name          0\nsupplier_code    0\nsupplier         0\ndtype: int64\nisbn                     object\nlanded_cost             float64\npo_whse                  object\nreceived_date    datetime64[ns]\npo_number                 int64\npo_name                  object\nsupplier_code            object\nsupplier                 object\ndtype: object\n"
    },
    {
     "output_type": "execute_result",
     "data": {
      "text/plain": "            isbn  landed_cost po_whse received_date  po_number  \\\n0  9780357038314    71.632634      WW    2020-06-15      17570   \n1  9781305956780    39.698020      WW    2020-06-15      17575   \n2  9780137043293    25.072427      WW    2020-06-15      17578   \n3  9781337558495    54.978325      WW    2020-06-15      17579   \n4  9780357038314    71.632634      WW    2020-06-15      17580   \n\n                                       po_name supplier_code          supplier  \n0                   2020.02.03.COINFO.HEATB297         V1412  BOOKROCK PRT LTD  \n1  2020.04.28.HEAT.SHIPMENT.20THAPRIL.OVERAGES         V1412  BOOKROCK PRT LTD  \n2                   2020.02.24.COINFO.HEATB301         V1412  BOOKROCK PRT LTD  \n3                   2020.02.20.COINFO.HEATB300         V1412  BOOKROCK PRT LTD  \n4                   2020.02.03.COINFO.HEATB297         V1412  BOOKROCK PRT LTD  ",
      "text/html": "<div>\n<style scoped>\n    .dataframe tbody tr th:only-of-type {\n        vertical-align: middle;\n    }\n\n    .dataframe tbody tr th {\n        vertical-align: top;\n    }\n\n    .dataframe thead th {\n        text-align: right;\n    }\n</style>\n<table border=\"1\" class=\"dataframe\">\n  <thead>\n    <tr style=\"text-align: right;\">\n      <th></th>\n      <th>isbn</th>\n      <th>landed_cost</th>\n      <th>po_whse</th>\n      <th>received_date</th>\n      <th>po_number</th>\n      <th>po_name</th>\n      <th>supplier_code</th>\n      <th>supplier</th>\n    </tr>\n  </thead>\n  <tbody>\n    <tr>\n      <th>0</th>\n      <td>9780357038314</td>\n      <td>71.632634</td>\n      <td>WW</td>\n      <td>2020-06-15</td>\n      <td>17570</td>\n      <td>2020.02.03.COINFO.HEATB297</td>\n      <td>V1412</td>\n      <td>BOOKROCK PRT LTD</td>\n    </tr>\n    <tr>\n      <th>1</th>\n      <td>9781305956780</td>\n      <td>39.698020</td>\n      <td>WW</td>\n      <td>2020-06-15</td>\n      <td>17575</td>\n      <td>2020.04.28.HEAT.SHIPMENT.20THAPRIL.OVERAGES</td>\n      <td>V1412</td>\n      <td>BOOKROCK PRT LTD</td>\n    </tr>\n    <tr>\n      <th>2</th>\n      <td>9780137043293</td>\n      <td>25.072427</td>\n      <td>WW</td>\n      <td>2020-06-15</td>\n      <td>17578</td>\n      <td>2020.02.24.COINFO.HEATB301</td>\n      <td>V1412</td>\n      <td>BOOKROCK PRT LTD</td>\n    </tr>\n    <tr>\n      <th>3</th>\n      <td>9781337558495</td>\n      <td>54.978325</td>\n      <td>WW</td>\n      <td>2020-06-15</td>\n      <td>17579</td>\n      <td>2020.02.20.COINFO.HEATB300</td>\n      <td>V1412</td>\n      <td>BOOKROCK PRT LTD</td>\n    </tr>\n    <tr>\n      <th>4</th>\n      <td>9780357038314</td>\n      <td>71.632634</td>\n      <td>WW</td>\n      <td>2020-06-15</td>\n      <td>17580</td>\n      <td>2020.02.03.COINFO.HEATB297</td>\n      <td>V1412</td>\n      <td>BOOKROCK PRT LTD</td>\n    </tr>\n  </tbody>\n</table>\n</div>"
     },
     "metadata": {},
     "execution_count": 6
    }
   ],
   "source": [
    "receiving = pd.read_sql(receiving_sql, prod_db)\n",
    "receiving.dropna(inplace=True)\n",
    "receiving.columns = map(str.lower, receiving.columns)\n",
    "receiving['isbn'] = receiving['isbn'].astype(str)\n",
    "for col in ['isbn', 'po_whse', 'po_name', 'supplier_code', 'supplier']:\n",
    "    receiving[col] = receiving.apply(lambda x: clean_up(x[col]), axis =1)\n",
    "print(receiving.isna().sum())\n",
    "print(receiving.dtypes)\n",
    "receiving.head()"
   ]
  },
  {
   "cell_type": "code",
   "execution_count": 7,
   "metadata": {},
   "outputs": [
    {
     "output_type": "execute_result",
     "data": {
      "text/plain": "            isbn  onhand  landed_cost po_whse received_date  po_number  \\\n0  9780132155038       1    62.906548      WW    2020-06-15      17560   \n1  9780132576246       2    81.904200      WW    2020-06-15      17582   \n2  9780132978729       1    85.965620      WW    2020-06-15      17559   \n3  9780133803839       2    74.725611      WW    2020-06-15      17592   \n4  9780134054285       5    65.228992      WW    2020-06-15      17581   \n\n                          po_name supplier_code          supplier  \n0  2020.01.27.COINFO.HEATB296.SEA         V1412  BOOKROCK PRT LTD  \n1   2019.12.11.COINFO.HEAT316.SEA         V1412  BOOKROCK PRT LTD  \n2   2019.12.11.COINFO.HEAT316.SEA         V1412  BOOKROCK PRT LTD  \n3   2019.12.19.COINFO.HEAT317.SEA         V1412  BOOKROCK PRT LTD  \n4   2019.12.19.COINFO.HEAT317.SEA         V1412  BOOKROCK PRT LTD  ",
      "text/html": "<div>\n<style scoped>\n    .dataframe tbody tr th:only-of-type {\n        vertical-align: middle;\n    }\n\n    .dataframe tbody tr th {\n        vertical-align: top;\n    }\n\n    .dataframe thead th {\n        text-align: right;\n    }\n</style>\n<table border=\"1\" class=\"dataframe\">\n  <thead>\n    <tr style=\"text-align: right;\">\n      <th></th>\n      <th>isbn</th>\n      <th>onhand</th>\n      <th>landed_cost</th>\n      <th>po_whse</th>\n      <th>received_date</th>\n      <th>po_number</th>\n      <th>po_name</th>\n      <th>supplier_code</th>\n      <th>supplier</th>\n    </tr>\n  </thead>\n  <tbody>\n    <tr>\n      <th>0</th>\n      <td>9780132155038</td>\n      <td>1</td>\n      <td>62.906548</td>\n      <td>WW</td>\n      <td>2020-06-15</td>\n      <td>17560</td>\n      <td>2020.01.27.COINFO.HEATB296.SEA</td>\n      <td>V1412</td>\n      <td>BOOKROCK PRT LTD</td>\n    </tr>\n    <tr>\n      <th>1</th>\n      <td>9780132576246</td>\n      <td>2</td>\n      <td>81.904200</td>\n      <td>WW</td>\n      <td>2020-06-15</td>\n      <td>17582</td>\n      <td>2019.12.11.COINFO.HEAT316.SEA</td>\n      <td>V1412</td>\n      <td>BOOKROCK PRT LTD</td>\n    </tr>\n    <tr>\n      <th>2</th>\n      <td>9780132978729</td>\n      <td>1</td>\n      <td>85.965620</td>\n      <td>WW</td>\n      <td>2020-06-15</td>\n      <td>17559</td>\n      <td>2019.12.11.COINFO.HEAT316.SEA</td>\n      <td>V1412</td>\n      <td>BOOKROCK PRT LTD</td>\n    </tr>\n    <tr>\n      <th>3</th>\n      <td>9780133803839</td>\n      <td>2</td>\n      <td>74.725611</td>\n      <td>WW</td>\n      <td>2020-06-15</td>\n      <td>17592</td>\n      <td>2019.12.19.COINFO.HEAT317.SEA</td>\n      <td>V1412</td>\n      <td>BOOKROCK PRT LTD</td>\n    </tr>\n    <tr>\n      <th>4</th>\n      <td>9780134054285</td>\n      <td>5</td>\n      <td>65.228992</td>\n      <td>WW</td>\n      <td>2020-06-15</td>\n      <td>17581</td>\n      <td>2019.12.19.COINFO.HEAT317.SEA</td>\n      <td>V1412</td>\n      <td>BOOKROCK PRT LTD</td>\n    </tr>\n  </tbody>\n</table>\n</div>"
     },
     "metadata": {},
     "execution_count": 7
    }
   ],
   "source": [
    "inventory_ww = inventory[inventory['po_whse'] == 'WW']\n",
    "inventory_ww = inventory_ww.merge(receiving, how='left', on=['isbn', 'po_whse'] )\n",
    "inventory_ww.sort_values('received_date', ascending=False, inplace=True, ignore_index=True)\n",
    "inventory_ww = inventory_ww.groupby(['isbn'])['onhand', 'landed_cost', 'po_whse','received_date', 'po_number', 'po_name', 'supplier_code', 'supplier'].first().reset_index()\n",
    "inventory_ww.head()"
   ]
  },
  {
   "cell_type": "code",
   "execution_count": 8,
   "metadata": {},
   "outputs": [
    {
     "output_type": "stream",
     "name": "stdout",
     "text": "isbn               0\npo_open_qty        0\nlandedcost         0\npo_whse            0\nrowdeliverydate    0\npo_number          0\npo_name            0\nsupplier_code      0\nsupplier           0\norderstatus        0\npo_date_status     0\ndtype: int64\n"
    },
    {
     "output_type": "execute_result",
     "data": {
      "text/plain": "            isbn  po_open_qty  landedcost po_whse rowdeliverydate  po_number  \\\n0  9781473924994          1.0   19.219698      WW      2020-04-29       1694   \n1  9781473912991          1.0   21.740658      WW      2020-04-29       1694   \n2  9781446254790          1.0   21.740658      WW      2020-04-29       1694   \n3  9781473902190          1.0   23.001138      WW      2020-04-29       1694   \n4  9781446267097          1.0   23.001138      WW      2020-04-29       1694   \n\n                     po_name supplier_code supplier orderstatus po_date_status  \n0  200217 ALEK SAGE (GBP) PO         V1104     ALEK   PROCESSED           LATE  \n1  200217 ALEK SAGE (GBP) PO         V1104     ALEK   PROCESSED           LATE  \n2  200217 ALEK SAGE (GBP) PO         V1104     ALEK   PROCESSED           LATE  \n3  200217 ALEK SAGE (GBP) PO         V1104     ALEK   PROCESSED           LATE  \n4  200217 ALEK SAGE (GBP) PO         V1104     ALEK   PROCESSED           LATE  ",
      "text/html": "<div>\n<style scoped>\n    .dataframe tbody tr th:only-of-type {\n        vertical-align: middle;\n    }\n\n    .dataframe tbody tr th {\n        vertical-align: top;\n    }\n\n    .dataframe thead th {\n        text-align: right;\n    }\n</style>\n<table border=\"1\" class=\"dataframe\">\n  <thead>\n    <tr style=\"text-align: right;\">\n      <th></th>\n      <th>isbn</th>\n      <th>po_open_qty</th>\n      <th>landedcost</th>\n      <th>po_whse</th>\n      <th>rowdeliverydate</th>\n      <th>po_number</th>\n      <th>po_name</th>\n      <th>supplier_code</th>\n      <th>supplier</th>\n      <th>orderstatus</th>\n      <th>po_date_status</th>\n    </tr>\n  </thead>\n  <tbody>\n    <tr>\n      <th>0</th>\n      <td>9781473924994</td>\n      <td>1.0</td>\n      <td>19.219698</td>\n      <td>WW</td>\n      <td>2020-04-29</td>\n      <td>1694</td>\n      <td>200217 ALEK SAGE (GBP) PO</td>\n      <td>V1104</td>\n      <td>ALEK</td>\n      <td>PROCESSED</td>\n      <td>LATE</td>\n    </tr>\n    <tr>\n      <th>1</th>\n      <td>9781473912991</td>\n      <td>1.0</td>\n      <td>21.740658</td>\n      <td>WW</td>\n      <td>2020-04-29</td>\n      <td>1694</td>\n      <td>200217 ALEK SAGE (GBP) PO</td>\n      <td>V1104</td>\n      <td>ALEK</td>\n      <td>PROCESSED</td>\n      <td>LATE</td>\n    </tr>\n    <tr>\n      <th>2</th>\n      <td>9781446254790</td>\n      <td>1.0</td>\n      <td>21.740658</td>\n      <td>WW</td>\n      <td>2020-04-29</td>\n      <td>1694</td>\n      <td>200217 ALEK SAGE (GBP) PO</td>\n      <td>V1104</td>\n      <td>ALEK</td>\n      <td>PROCESSED</td>\n      <td>LATE</td>\n    </tr>\n    <tr>\n      <th>3</th>\n      <td>9781473902190</td>\n      <td>1.0</td>\n      <td>23.001138</td>\n      <td>WW</td>\n      <td>2020-04-29</td>\n      <td>1694</td>\n      <td>200217 ALEK SAGE (GBP) PO</td>\n      <td>V1104</td>\n      <td>ALEK</td>\n      <td>PROCESSED</td>\n      <td>LATE</td>\n    </tr>\n    <tr>\n      <th>4</th>\n      <td>9781446267097</td>\n      <td>1.0</td>\n      <td>23.001138</td>\n      <td>WW</td>\n      <td>2020-04-29</td>\n      <td>1694</td>\n      <td>200217 ALEK SAGE (GBP) PO</td>\n      <td>V1104</td>\n      <td>ALEK</td>\n      <td>PROCESSED</td>\n      <td>LATE</td>\n    </tr>\n  </tbody>\n</table>\n</div>"
     },
     "metadata": {},
     "execution_count": 8
    }
   ],
   "source": [
    "po = pd.read_sql(PO_sql, prod_db)\n",
    "po.columns = map(str.lower, po.columns)\n",
    "for col in ['isbn', 'po_whse', 'po_name', 'supplier_code', 'supplier', 'orderstatus', 'po_date_status']:\n",
    "    po[col] = po.apply(lambda x: clean_up(x[col]), axis =1)\n",
    "print(po.isna().sum())\n",
    "po.sort_values(['rowdeliverydate', 'po_whse', 'landedcost'], ascending=[True,False,True], inplace=True, ignore_index=True)\n",
    "po.head()"
   ]
  },
  {
   "cell_type": "code",
   "execution_count": 9,
   "metadata": {},
   "outputs": [
    {
     "output_type": "stream",
     "name": "stdout",
     "text": "isbn                    0\nso_open_qty             0\nsaleprice               0\nso_whse                 0\ncustomer_drop_date      0\nso_number               0\nso_name                 0\ncustomer_code           0\ncustomer                0\ncustomerrefno           2\ncustomerid            707\ncondition               0\nso_date_status          0\ndtype: int64\n"
    },
    {
     "output_type": "execute_result",
     "data": {
      "text/plain": "            isbn  so_open_qty  saleprice so_whse customer_drop_date so_number  \\\n0  9781305575080            3     223.17      WW         2020-07-31     19651   \n1  9780840068330            2     195.27      WW         2020-07-31     19651   \n2  9780134641690            2     189.71      WW         2020-07-31     19651   \n3  9780133953145            8     184.77      WW         2020-07-31     19651   \n4  9780134475585            5     182.27      WW         2020-07-31     19651   \n\n                     so_name customer_code  customer customerrefno customerid  \\\n0  2020.05.08.AKADEMOS.GUIDE         C1052  AKADEMOS  bxchg050820d       None   \n1  2020.05.08.AKADEMOS.GUIDE         C1052  AKADEMOS  bxchg050820d       None   \n2  2020.05.08.AKADEMOS.GUIDE         C1052  AKADEMOS  bxchg050820d       None   \n3  2020.05.08.AKADEMOS.GUIDE         C1052  AKADEMOS  bxchg050820d       None   \n4  2020.05.08.AKADEMOS.GUIDE         C1052  AKADEMOS  bxchg050820d       None   \n\n  condition so_date_status  \n0       NEW         ONTIME  \n1       NEW         ONTIME  \n2       NEW         ONTIME  \n3       NEW         ONTIME  \n4       NEW         ONTIME  ",
      "text/html": "<div>\n<style scoped>\n    .dataframe tbody tr th:only-of-type {\n        vertical-align: middle;\n    }\n\n    .dataframe tbody tr th {\n        vertical-align: top;\n    }\n\n    .dataframe thead th {\n        text-align: right;\n    }\n</style>\n<table border=\"1\" class=\"dataframe\">\n  <thead>\n    <tr style=\"text-align: right;\">\n      <th></th>\n      <th>isbn</th>\n      <th>so_open_qty</th>\n      <th>saleprice</th>\n      <th>so_whse</th>\n      <th>customer_drop_date</th>\n      <th>so_number</th>\n      <th>so_name</th>\n      <th>customer_code</th>\n      <th>customer</th>\n      <th>customerrefno</th>\n      <th>customerid</th>\n      <th>condition</th>\n      <th>so_date_status</th>\n    </tr>\n  </thead>\n  <tbody>\n    <tr>\n      <th>0</th>\n      <td>9781305575080</td>\n      <td>3</td>\n      <td>223.17</td>\n      <td>WW</td>\n      <td>2020-07-31</td>\n      <td>19651</td>\n      <td>2020.05.08.AKADEMOS.GUIDE</td>\n      <td>C1052</td>\n      <td>AKADEMOS</td>\n      <td>bxchg050820d</td>\n      <td>None</td>\n      <td>NEW</td>\n      <td>ONTIME</td>\n    </tr>\n    <tr>\n      <th>1</th>\n      <td>9780840068330</td>\n      <td>2</td>\n      <td>195.27</td>\n      <td>WW</td>\n      <td>2020-07-31</td>\n      <td>19651</td>\n      <td>2020.05.08.AKADEMOS.GUIDE</td>\n      <td>C1052</td>\n      <td>AKADEMOS</td>\n      <td>bxchg050820d</td>\n      <td>None</td>\n      <td>NEW</td>\n      <td>ONTIME</td>\n    </tr>\n    <tr>\n      <th>2</th>\n      <td>9780134641690</td>\n      <td>2</td>\n      <td>189.71</td>\n      <td>WW</td>\n      <td>2020-07-31</td>\n      <td>19651</td>\n      <td>2020.05.08.AKADEMOS.GUIDE</td>\n      <td>C1052</td>\n      <td>AKADEMOS</td>\n      <td>bxchg050820d</td>\n      <td>None</td>\n      <td>NEW</td>\n      <td>ONTIME</td>\n    </tr>\n    <tr>\n      <th>3</th>\n      <td>9780133953145</td>\n      <td>8</td>\n      <td>184.77</td>\n      <td>WW</td>\n      <td>2020-07-31</td>\n      <td>19651</td>\n      <td>2020.05.08.AKADEMOS.GUIDE</td>\n      <td>C1052</td>\n      <td>AKADEMOS</td>\n      <td>bxchg050820d</td>\n      <td>None</td>\n      <td>NEW</td>\n      <td>ONTIME</td>\n    </tr>\n    <tr>\n      <th>4</th>\n      <td>9780134475585</td>\n      <td>5</td>\n      <td>182.27</td>\n      <td>WW</td>\n      <td>2020-07-31</td>\n      <td>19651</td>\n      <td>2020.05.08.AKADEMOS.GUIDE</td>\n      <td>C1052</td>\n      <td>AKADEMOS</td>\n      <td>bxchg050820d</td>\n      <td>None</td>\n      <td>NEW</td>\n      <td>ONTIME</td>\n    </tr>\n  </tbody>\n</table>\n</div>"
     },
     "metadata": {},
     "execution_count": 9
    }
   ],
   "source": [
    "so = pd.read_sql(SO_sql, prod_db)\n",
    "so.columns = map(str.lower, so.columns)\n",
    "for col in ['isbn', 'so_whse', 'so_name', 'customer', 'customer_code', 'condition', 'so_date_status']:\n",
    "    so[col] = so.apply(lambda x: clean_up(x[col]), axis =1)\n",
    "print(so.isna().sum())\n",
    "so.sort_values(['saleprice', 'customer_drop_date'], ascending=[False,True], inplace=True, ignore_index=True)\n",
    "so.head()"
   ]
  },
  {
   "cell_type": "code",
   "execution_count": 10,
   "metadata": {},
   "outputs": [
    {
     "output_type": "execute_result",
     "data": {
      "text/plain": "Index(['isbn', 'so_open_qty', 'saleprice', 'so_whse', 'customer_drop_date',\n       'so_number', 'so_name', 'customer_code', 'customer', 'customerrefno',\n       'customerid', 'condition', 'so_date_status'],\n      dtype='object')"
     },
     "metadata": {},
     "execution_count": 10
    }
   ],
   "source": [
    "so.columns"
   ]
  },
  {
   "cell_type": "code",
   "execution_count": 11,
   "metadata": {},
   "outputs": [],
   "source": [
    "#ALLOCATE RECEIVED inventory_ww INTO THE \n",
    "inv_so = pd.DataFrame()\n",
    "inventory_ww.reset_index(inplace = True, drop = True)\n",
    "for so_id in list(so[so['isbn'].isin(list(inventory_ww['isbn']))].index.values):\n",
    "    for inv_id in list(inventory_ww[inventory_ww['isbn'].isin(list(so['isbn']))].index.values):\n",
    "        if (inventory_ww.iloc[inv_id, :]['isbn'] == so.iloc[so_id, :]['isbn']) and (inventory_ww.iloc[inv_id, :]['onhand'] > 0) and (so.iloc[so_id, :]['so_open_qty'] > 0):\n",
    "            row_inv_so = pd.merge(inventory_ww.iloc[[inv_id], :], so.iloc[[so_id], :], how='left', on = 'isbn' )\n",
    "            row_inv_so['allocate_qty'] = row_inv_so[['onhand','so_open_qty']].min( axis = 1, skipna = True)\n",
    "            inventory_ww.loc[inv_id,'onhand'] = inventory_ww.loc[inv_id,'onhand'] - row_inv_so.iloc[0,:]['allocate_qty']\n",
    "            so.loc[so_id,'so_open_qty'] = so.loc[so_id,'so_open_qty'] - row_inv_so.iloc[0,:]['allocate_qty']\n",
    "            row_inv_so['orderstatus'] = 'READY TO SHIP'\n",
    "            row_inv_so['inventory_ww_date_status'] = so.iloc[so_id, :]['so_date_status']\n",
    "            inv_so = inv_so.append(row_inv_so)\n"
   ]
  },
  {
   "cell_type": "code",
   "execution_count": 12,
   "metadata": {},
   "outputs": [
    {
     "output_type": "execute_result",
     "data": {
      "text/plain": "            isbn  onhand  landed_cost po_whse received_date  po_number  \\\n0  9780134871400      12    92.492790      WW    2020-06-15      17596   \n0  9780134871400      10    92.492790      WW    2020-06-15      17596   \n0  9780134871400       3    92.492790      WW    2020-06-15      17596   \n0  9780132978729       1    85.965620      WW    2020-06-15      17559   \n0  9781337401043       2    92.443475      WW    2020-06-15      17589   \n\n                          po_name supplier_code          supplier  \\\n0  2020.01.17.COINFO.HEATB292.SEA         V1412  BOOKROCK PRT LTD   \n0  2020.01.17.COINFO.HEATB292.SEA         V1412  BOOKROCK PRT LTD   \n0  2020.01.17.COINFO.HEATB292.SEA         V1412  BOOKROCK PRT LTD   \n0   2019.12.11.COINFO.HEAT316.SEA         V1412  BOOKROCK PRT LTD   \n0      2020.03.02.COINFO.HEATB304         V1412  BOOKROCK PRT LTD   \n\n   so_open_qty  ...                 so_name customer_code       customer  \\\n0            2  ...  2020.01.02.MBS.PEARSON         C1032  MBS TEXTBOOKS   \n0            7  ...    2019.12.23.MBS.GUIDE         C1032  MBS TEXTBOOKS   \n0           45  ...  2019.12.05.MBS.PEARSON         C1032  MBS TEXTBOOKS   \n0            5  ...  2019.12.05.MBS.PEARSON         C1032  MBS TEXTBOOKS   \n0            2  ...    2020.02.20.MBS.GUIDE         C1032  MBS TEXTBOOKS   \n\n       customerrefno customerid condition so_date_status allocate_qty  \\\n0  BX20200103-P (re)     520847       NEW           LATE            2   \n0    BX20191223 (re)     505430       NEW           LATE            7   \n0   BX20191211 (re).     540943       NEW           LATE            3   \n0   BX20191211 (re).     518042       NEW           LATE            1   \n0         BX20200220     596888       NEW           LATE            2   \n\n     orderstatus inventory_ww_date_status  \n0  READY TO SHIP                     LATE  \n0  READY TO SHIP                     LATE  \n0  READY TO SHIP                     LATE  \n0  READY TO SHIP                     LATE  \n0  READY TO SHIP                     LATE  \n\n[5 rows x 24 columns]",
      "text/html": "<div>\n<style scoped>\n    .dataframe tbody tr th:only-of-type {\n        vertical-align: middle;\n    }\n\n    .dataframe tbody tr th {\n        vertical-align: top;\n    }\n\n    .dataframe thead th {\n        text-align: right;\n    }\n</style>\n<table border=\"1\" class=\"dataframe\">\n  <thead>\n    <tr style=\"text-align: right;\">\n      <th></th>\n      <th>isbn</th>\n      <th>onhand</th>\n      <th>landed_cost</th>\n      <th>po_whse</th>\n      <th>received_date</th>\n      <th>po_number</th>\n      <th>po_name</th>\n      <th>supplier_code</th>\n      <th>supplier</th>\n      <th>so_open_qty</th>\n      <th>...</th>\n      <th>so_name</th>\n      <th>customer_code</th>\n      <th>customer</th>\n      <th>customerrefno</th>\n      <th>customerid</th>\n      <th>condition</th>\n      <th>so_date_status</th>\n      <th>allocate_qty</th>\n      <th>orderstatus</th>\n      <th>inventory_ww_date_status</th>\n    </tr>\n  </thead>\n  <tbody>\n    <tr>\n      <th>0</th>\n      <td>9780134871400</td>\n      <td>12</td>\n      <td>92.492790</td>\n      <td>WW</td>\n      <td>2020-06-15</td>\n      <td>17596</td>\n      <td>2020.01.17.COINFO.HEATB292.SEA</td>\n      <td>V1412</td>\n      <td>BOOKROCK PRT LTD</td>\n      <td>2</td>\n      <td>...</td>\n      <td>2020.01.02.MBS.PEARSON</td>\n      <td>C1032</td>\n      <td>MBS TEXTBOOKS</td>\n      <td>BX20200103-P (re)</td>\n      <td>520847</td>\n      <td>NEW</td>\n      <td>LATE</td>\n      <td>2</td>\n      <td>READY TO SHIP</td>\n      <td>LATE</td>\n    </tr>\n    <tr>\n      <th>0</th>\n      <td>9780134871400</td>\n      <td>10</td>\n      <td>92.492790</td>\n      <td>WW</td>\n      <td>2020-06-15</td>\n      <td>17596</td>\n      <td>2020.01.17.COINFO.HEATB292.SEA</td>\n      <td>V1412</td>\n      <td>BOOKROCK PRT LTD</td>\n      <td>7</td>\n      <td>...</td>\n      <td>2019.12.23.MBS.GUIDE</td>\n      <td>C1032</td>\n      <td>MBS TEXTBOOKS</td>\n      <td>BX20191223 (re)</td>\n      <td>505430</td>\n      <td>NEW</td>\n      <td>LATE</td>\n      <td>7</td>\n      <td>READY TO SHIP</td>\n      <td>LATE</td>\n    </tr>\n    <tr>\n      <th>0</th>\n      <td>9780134871400</td>\n      <td>3</td>\n      <td>92.492790</td>\n      <td>WW</td>\n      <td>2020-06-15</td>\n      <td>17596</td>\n      <td>2020.01.17.COINFO.HEATB292.SEA</td>\n      <td>V1412</td>\n      <td>BOOKROCK PRT LTD</td>\n      <td>45</td>\n      <td>...</td>\n      <td>2019.12.05.MBS.PEARSON</td>\n      <td>C1032</td>\n      <td>MBS TEXTBOOKS</td>\n      <td>BX20191211 (re).</td>\n      <td>540943</td>\n      <td>NEW</td>\n      <td>LATE</td>\n      <td>3</td>\n      <td>READY TO SHIP</td>\n      <td>LATE</td>\n    </tr>\n    <tr>\n      <th>0</th>\n      <td>9780132978729</td>\n      <td>1</td>\n      <td>85.965620</td>\n      <td>WW</td>\n      <td>2020-06-15</td>\n      <td>17559</td>\n      <td>2019.12.11.COINFO.HEAT316.SEA</td>\n      <td>V1412</td>\n      <td>BOOKROCK PRT LTD</td>\n      <td>5</td>\n      <td>...</td>\n      <td>2019.12.05.MBS.PEARSON</td>\n      <td>C1032</td>\n      <td>MBS TEXTBOOKS</td>\n      <td>BX20191211 (re).</td>\n      <td>518042</td>\n      <td>NEW</td>\n      <td>LATE</td>\n      <td>1</td>\n      <td>READY TO SHIP</td>\n      <td>LATE</td>\n    </tr>\n    <tr>\n      <th>0</th>\n      <td>9781337401043</td>\n      <td>2</td>\n      <td>92.443475</td>\n      <td>WW</td>\n      <td>2020-06-15</td>\n      <td>17589</td>\n      <td>2020.03.02.COINFO.HEATB304</td>\n      <td>V1412</td>\n      <td>BOOKROCK PRT LTD</td>\n      <td>2</td>\n      <td>...</td>\n      <td>2020.02.20.MBS.GUIDE</td>\n      <td>C1032</td>\n      <td>MBS TEXTBOOKS</td>\n      <td>BX20200220</td>\n      <td>596888</td>\n      <td>NEW</td>\n      <td>LATE</td>\n      <td>2</td>\n      <td>READY TO SHIP</td>\n      <td>LATE</td>\n    </tr>\n  </tbody>\n</table>\n<p>5 rows × 24 columns</p>\n</div>"
     },
     "metadata": {},
     "execution_count": 12
    }
   ],
   "source": [
    "inv_so.head()"
   ]
  },
  {
   "cell_type": "code",
   "execution_count": 13,
   "metadata": {},
   "outputs": [],
   "source": [
    "# po_so = pd.DataFrame()\n",
    "# for so_id in list(so[so['isbn'].isin(list(po['isbn'])) & (so['so_open_qty'] > 0)].index.values):\n",
    "#     for po_id in list(po[po['isbn'].isin(list(so['isbn'])) & (po['po_open_qty'] > 0)].index.values):\n",
    "#         if (po.iloc[po_id, :]['isbn'] == so.iloc[so_id, :]['isbn']) and (po.iloc[po_id, :]['po_open_qty'] > 0) and (so.iloc[so_id, :]['so_open_qty'] > 0) and ((so.iloc[so_id, :]['saleprice'] - po.iloc[po_id, :]['landedcost']) >= 0) & (so.iloc[so_id, :]['customer_drop_date'] > po.iloc[po_id, :]['rowdeliverydate']): #ALLOCATE OPEN PO ON TIME FOR THE SO WITH POSITIVE COMMISSION\n",
    "#             row_po_so_good = pd.merge(po.iloc[[po_id], :], so.iloc[[so_id], :], how='left', on = 'isbn' )\n",
    "#             row_po_so_good['qty'] = row_po_so_good[['po_open_qty','so_open_qty']].min( axis = 1, skipna = True)\n",
    "#             po.loc[po_id,'po_open_qty'] = po.loc[po_id,'po_open_qty'] - row_po_so_good.iloc[0,:]['qty']\n",
    "#             so.loc[so_id,'so_open_qty'] = so.loc[so_id,'so_open_qty'] - row_po_so_good.iloc[0,:]['qty']\n",
    "#             row_po_so_good['time_status'] = so.iloc[so_id, :]['so_date_status']\n",
    "#             # if (so.iloc[so_id, :]['so_date_status'] == 'LATE') & (po.iloc[po_id, :]['po_date_status'] == 'LATE'):\n",
    "#             #     row_po_so_good['action'] = 'UPDATE PO DATE, UPDATE SO DATE'\n",
    "#             # elif (so.iloc[so_id, :]['so_date_status'] == 'ONTIME') & (po.iloc[po_id, :]['po_date_status'] == 'LATE'):\n",
    "#             #     row_po_so_good['action'] = 'UPDATE PO DATE'\n",
    "#             # elif  (so.iloc[so_id, :]['so_date_status'] == 'LATE') & (po.iloc[po_id, :]['po_date_status'] == 'ONTIME'):\n",
    "#             #     row_po_so_good['action'] = 'UPDATE PO DATE'\n",
    "#             # else:\n",
    "#             #     row_po_so_good['action'] = 'PROFIT'\n",
    "#         elif (po.iloc[po_id, :]['isbn'] == so.iloc[so_id, :]['isbn']) and (po.iloc[po_id, :]['po_open_qty'] > 0) and (so.iloc[so_id, :]['so_open_qty'] > 0) and ((so.iloc[so_id, :]['saleprice'] - po.iloc[po_id, :]['landedcost']) < 0) & (so.iloc[so_id, :]['customer_drop_date'] > po.iloc[po_id, :]['rowdeliverydate']): #ALLOCATE OPEN PO ON TIME FOR THE SO WITH NEGATIVE COMMISSION\n",
    "#             row_po_so_good = pd.merge(po.iloc[[po_id], :], so.iloc[[so_id], :], how='left', on = 'isbn' )\n",
    "#             row_po_so_good['qty'] = row_po_so_good[['po_open_qty','so_open_qty']].min( axis = 1, skipna = True)\n",
    "#             po.loc[po_id,'po_open_qty'] = po.loc[po_id,'po_open_qty'] - row_po_so_good.iloc[0,:]['qty']\n",
    "#             so.loc[so_id,'so_open_qty'] = so.loc[so_id,'so_open_qty'] - row_po_so_good.iloc[0,:]['qty']\n",
    "#             row_po_so_good['time_status'] = so.iloc[so_id, :]['so_date_status']\n",
    "#             # if (so.iloc[so_id, :]['so_date_status'] == 'LATE') & (po.iloc[po_id, :]['po_date_status'] == 'LATE'):\n",
    "#             #     row_po_so_good['action'] = 'UPDATE PO DATE, UPDATE SO DATE'\n",
    "#             # elif (so.iloc[so_id, :]['so_date_status'] == 'ONTIME') & (po.iloc[po_id, :]['po_date_status'] == 'LATE'):\n",
    "#             #     row_po_so_good['action'] = 'UPDATE PO DATE'\n",
    "#             # elif  (so.iloc[so_id, :]['so_date_status'] == 'LATE') & (po.iloc[po_id, :]['po_date_status'] == 'ONTIME'):\n",
    "#             #     row_po_so_good['action'] = 'UPDATE PO DATE'\n",
    "#             # else:\n",
    "#             #     row_po_so_good['action'] = 'NO PROFIT'\n",
    "#         po_so = po_so_good.append(row_po_so_good)"
   ]
  },
  {
   "cell_type": "code",
   "execution_count": 14,
   "metadata": {},
   "outputs": [],
   "source": [
    "po_so = pd.DataFrame()\n",
    "for so_id in list(so[so['isbn'].isin(list(po['isbn'])) & (so['so_open_qty'] > 0)].index.values):\n",
    "    for po_id in list(po[po['isbn'].isin(list(so['isbn'])) & (po['po_open_qty'] > 0)].index.values):\n",
    "        if (po.iloc[po_id, :]['isbn'] == so.iloc[so_id, :]['isbn']) and (po.iloc[po_id, :]['po_open_qty'] > 0) and ((so.iloc[so_id, :]['so_open_qty'] > 0) and (so.iloc[so_id, :]['saleprice'] - po.iloc[po_id, :]['landedcost']) > -5):\n",
    "            row_po_so = pd.merge(po.iloc[[po_id], :], so.iloc[[so_id], :], how='left', on = 'isbn' )\n",
    "            row_po_so['qty'] = row_po_so[['po_open_qty','so_open_qty']].min( axis = 1, skipna = True)\n",
    "            po.loc[po_id,'po_open_qty'] = po.loc[po_id,'po_open_qty'] - row_po_so.iloc[0,:]['qty']\n",
    "            so.loc[so_id,'so_open_qty'] = so.loc[so_id,'so_open_qty'] - row_po_so.iloc[0,:]['qty']\n",
    "            po_so = po_so.append(row_po_so)"
   ]
  },
  {
   "cell_type": "code",
   "execution_count": 15,
   "metadata": {},
   "outputs": [
    {
     "output_type": "execute_result",
     "data": {
      "text/plain": "            isbn  po_open_qty  landedcost po_whse rowdeliverydate  po_number  \\\n0  9781305575080          3.0   51.867356      WW      2020-07-28       2106   \n0  9780840068330          2.0   66.865832      WW      2020-07-28       2106   \n0  9781305859975          3.0   49.140360      WW      2020-07-28       2106   \n0  9780134292816         10.0  127.600640      WW      2020-07-20       2123   \n0  9780134414232          3.0  127.600640      WW      2020-07-20       2123   \n\n                            po_name supplier_code       supplier orderstatus  \\\n0       2020.06.01.ALEK.CENGAGE.GBP         V1104           ALEK   PROCESSED   \n0       2020.06.01.ALEK.CENGAGE.GBP         V1104           ALEK   PROCESSED   \n0       2020.06.01.ALEK.CENGAGE.GBP         V1104           ALEK   PROCESSED   \n0  2020.06.01.WESTERNCAMPUS.ORDER24         V4069  WESTERNCAMPUS   PROCESSED   \n0  2020.06.01.WESTERNCAMPUS.ORDER24         V4069  WESTERNCAMPUS   PROCESSED   \n\n   ... customer_drop_date  so_number                    so_name customer_code  \\\n0  ...         2020-07-31      19651  2020.05.08.AKADEMOS.GUIDE         C1052   \n0  ...         2020-07-31      19651  2020.05.08.AKADEMOS.GUIDE         C1052   \n0  ...         2020-07-31      19651  2020.05.08.AKADEMOS.GUIDE         C1052   \n0  ...         2020-07-31      19651  2020.05.08.AKADEMOS.GUIDE         C1052   \n0  ...         2020-07-31      19651  2020.05.08.AKADEMOS.GUIDE         C1052   \n\n   customer customerrefno customerid condition so_date_status   qty  \n0  AKADEMOS  bxchg050820d       None       NEW         ONTIME   3.0  \n0  AKADEMOS  bxchg050820d       None       NEW         ONTIME   2.0  \n0  AKADEMOS  bxchg050820d       None       NEW         ONTIME   3.0  \n0  AKADEMOS  bxchg050820d       None       NEW         ONTIME  10.0  \n0  AKADEMOS  bxchg050820d       None       NEW         ONTIME   3.0  \n\n[5 rows x 24 columns]",
      "text/html": "<div>\n<style scoped>\n    .dataframe tbody tr th:only-of-type {\n        vertical-align: middle;\n    }\n\n    .dataframe tbody tr th {\n        vertical-align: top;\n    }\n\n    .dataframe thead th {\n        text-align: right;\n    }\n</style>\n<table border=\"1\" class=\"dataframe\">\n  <thead>\n    <tr style=\"text-align: right;\">\n      <th></th>\n      <th>isbn</th>\n      <th>po_open_qty</th>\n      <th>landedcost</th>\n      <th>po_whse</th>\n      <th>rowdeliverydate</th>\n      <th>po_number</th>\n      <th>po_name</th>\n      <th>supplier_code</th>\n      <th>supplier</th>\n      <th>orderstatus</th>\n      <th>...</th>\n      <th>customer_drop_date</th>\n      <th>so_number</th>\n      <th>so_name</th>\n      <th>customer_code</th>\n      <th>customer</th>\n      <th>customerrefno</th>\n      <th>customerid</th>\n      <th>condition</th>\n      <th>so_date_status</th>\n      <th>qty</th>\n    </tr>\n  </thead>\n  <tbody>\n    <tr>\n      <th>0</th>\n      <td>9781305575080</td>\n      <td>3.0</td>\n      <td>51.867356</td>\n      <td>WW</td>\n      <td>2020-07-28</td>\n      <td>2106</td>\n      <td>2020.06.01.ALEK.CENGAGE.GBP</td>\n      <td>V1104</td>\n      <td>ALEK</td>\n      <td>PROCESSED</td>\n      <td>...</td>\n      <td>2020-07-31</td>\n      <td>19651</td>\n      <td>2020.05.08.AKADEMOS.GUIDE</td>\n      <td>C1052</td>\n      <td>AKADEMOS</td>\n      <td>bxchg050820d</td>\n      <td>None</td>\n      <td>NEW</td>\n      <td>ONTIME</td>\n      <td>3.0</td>\n    </tr>\n    <tr>\n      <th>0</th>\n      <td>9780840068330</td>\n      <td>2.0</td>\n      <td>66.865832</td>\n      <td>WW</td>\n      <td>2020-07-28</td>\n      <td>2106</td>\n      <td>2020.06.01.ALEK.CENGAGE.GBP</td>\n      <td>V1104</td>\n      <td>ALEK</td>\n      <td>PROCESSED</td>\n      <td>...</td>\n      <td>2020-07-31</td>\n      <td>19651</td>\n      <td>2020.05.08.AKADEMOS.GUIDE</td>\n      <td>C1052</td>\n      <td>AKADEMOS</td>\n      <td>bxchg050820d</td>\n      <td>None</td>\n      <td>NEW</td>\n      <td>ONTIME</td>\n      <td>2.0</td>\n    </tr>\n    <tr>\n      <th>0</th>\n      <td>9781305859975</td>\n      <td>3.0</td>\n      <td>49.140360</td>\n      <td>WW</td>\n      <td>2020-07-28</td>\n      <td>2106</td>\n      <td>2020.06.01.ALEK.CENGAGE.GBP</td>\n      <td>V1104</td>\n      <td>ALEK</td>\n      <td>PROCESSED</td>\n      <td>...</td>\n      <td>2020-07-31</td>\n      <td>19651</td>\n      <td>2020.05.08.AKADEMOS.GUIDE</td>\n      <td>C1052</td>\n      <td>AKADEMOS</td>\n      <td>bxchg050820d</td>\n      <td>None</td>\n      <td>NEW</td>\n      <td>ONTIME</td>\n      <td>3.0</td>\n    </tr>\n    <tr>\n      <th>0</th>\n      <td>9780134292816</td>\n      <td>10.0</td>\n      <td>127.600640</td>\n      <td>WW</td>\n      <td>2020-07-20</td>\n      <td>2123</td>\n      <td>2020.06.01.WESTERNCAMPUS.ORDER24</td>\n      <td>V4069</td>\n      <td>WESTERNCAMPUS</td>\n      <td>PROCESSED</td>\n      <td>...</td>\n      <td>2020-07-31</td>\n      <td>19651</td>\n      <td>2020.05.08.AKADEMOS.GUIDE</td>\n      <td>C1052</td>\n      <td>AKADEMOS</td>\n      <td>bxchg050820d</td>\n      <td>None</td>\n      <td>NEW</td>\n      <td>ONTIME</td>\n      <td>10.0</td>\n    </tr>\n    <tr>\n      <th>0</th>\n      <td>9780134414232</td>\n      <td>3.0</td>\n      <td>127.600640</td>\n      <td>WW</td>\n      <td>2020-07-20</td>\n      <td>2123</td>\n      <td>2020.06.01.WESTERNCAMPUS.ORDER24</td>\n      <td>V4069</td>\n      <td>WESTERNCAMPUS</td>\n      <td>PROCESSED</td>\n      <td>...</td>\n      <td>2020-07-31</td>\n      <td>19651</td>\n      <td>2020.05.08.AKADEMOS.GUIDE</td>\n      <td>C1052</td>\n      <td>AKADEMOS</td>\n      <td>bxchg050820d</td>\n      <td>None</td>\n      <td>NEW</td>\n      <td>ONTIME</td>\n      <td>3.0</td>\n    </tr>\n  </tbody>\n</table>\n<p>5 rows × 24 columns</p>\n</div>"
     },
     "metadata": {},
     "execution_count": 15
    }
   ],
   "source": [
    "po_so.head()"
   ]
  },
  {
   "cell_type": "code",
   "execution_count": 16,
   "metadata": {},
   "outputs": [
    {
     "output_type": "execute_result",
     "data": {
      "text/plain": "'\\nRETAIL AW WAREHOUSE\"\\n\\n'"
     },
     "metadata": {},
     "execution_count": 16
    }
   ],
   "source": [
    "\"\"\"\n",
    "RETAIL AW WAREHOUSE\"\n",
    "\n",
    "\"\"\"\n",
    "\n",
    "# inv_aw = inventory[inventory['po_whse'] == 'AW']\n",
    "# inv_aw.reset_index(inplace = True, drop=True)\n",
    "# aw_so = pd.DataFrame()\n",
    "# for so_id in list(so[so['isbn'].isin(list(inv_aw['isbn']))].index.values):\n",
    "#     for aw_inv_id in list(inv_aw[inv_aw['isbn'].isin(list(so['isbn']))].index.values):\n",
    "#         if (inv_aw.iloc[aw_inv_id, :]['isbn'] == so.iloc[so_id, :]['isbn']) and (inv_aw.iloc[aw_inv_id, :]['onhand'] > 0) and (so.iloc[so_id, :]['so_open_qty'] > 0):\n",
    "#             row_aw_so = pd.merge(inv_aw.iloc[[aw_inv_id], :], so.iloc[[so_id], :], how='left', on = 'isbn' )\n",
    "#             row_aw_so['allocate_qty'] = row_aw_so[['onhand','so_open_qty']].min( axis = 1, skipna = True)\n",
    "#             inv_aw.loc[aw_inv_id,'onhand'] = inv_aw.loc[aw_inv_id,'onhand'] - row_aw_so.iloc[0,:]['allocate_qty']\n",
    "#             so.loc[so_id,'so_open_qty'] = so.loc[so_id,'so_open_qty'] - row_aw_so.iloc[0,:]['allocate_qty']\n",
    "#             row_aw_so['orderstatus'] = 'READY TO SHIP'\n",
    "#             row_aw_so['inv_aw_date_status'] = so.iloc[so_id, :]['so_date_status']\n",
    "#             aw_so = aw_so.append(row_aw_so)"
   ]
  },
  {
   "cell_type": "code",
   "execution_count": 17,
   "metadata": {},
   "outputs": [],
   "source": [
    "# aw_so.head()"
   ]
  },
  {
   "cell_type": "code",
   "execution_count": 18,
   "metadata": {},
   "outputs": [],
   "source": [
    "po.sort_values(['rowdeliverydate', 'po_whse', 'landedcost'], ascending=[True,False,True], inplace=True, ignore_index=True)\n",
    "so.sort_values(['customer_drop_date', 'saleprice'], ascending=[True,False], inplace=True, ignore_index=True)"
   ]
  },
  {
   "cell_type": "code",
   "execution_count": 19,
   "metadata": {},
   "outputs": [],
   "source": [
    "# real_sale = pd.DataFrame()\n",
    "# real_sale = inv_so.append(po_so_good)"
   ]
  },
  {
   "cell_type": "code",
   "execution_count": 20,
   "metadata": {},
   "outputs": [],
   "source": [
    "with pd.ExcelWriter('supply_chain/report.xlsx') as writer:\n",
    "    inv_so.to_excel(writer,sheet_name = 'to_be_shipped', index= False)\n",
    "    po[po['po_open_qty'] > 0 ].to_excel(writer, sheet_name = 'po_no_room', index= False)\n",
    "    so[so['so_open_qty'] > 0 ].to_excel(writer, sheet_name = 'open_so', index= False)\n",
    "    inventory_ww[inventory_ww['onhand'] > 0 ].to_excel(writer, sheet_name = 'extras_inventory', index= False)\n",
    "    po_so.to_excel(writer,sheet_name = 'expected_sales', index= False)\n",
    "    # aw_so.to_excel(writer,sheet_name = 'aw_reallocation', index= False) # Line when trying to make a sale from AW Warehouse."
   ]
  },
  {
   "cell_type": "code",
   "execution_count": null,
   "metadata": {},
   "outputs": [],
   "source": []
  }
 ],
 "metadata": {
  "language_info": {
   "codemirror_mode": {
    "name": "ipython",
    "version": 3
   },
   "file_extension": ".py",
   "mimetype": "text/x-python",
   "name": "python",
   "nbconvert_exporter": "python",
   "pygments_lexer": "ipython3",
   "version": "3.7.4-final"
  },
  "orig_nbformat": 2,
  "kernelspec": {
   "name": "python37464bitbb73f4624f33480187b72c071411f462",
   "display_name": "Python 3.7.4 64-bit"
  }
 },
 "nbformat": 4,
 "nbformat_minor": 2
}