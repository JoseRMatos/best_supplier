{
 "cells": [
  {
   "cell_type": "markdown",
   "metadata": {},
   "source": [
    "# Open Demand"
   ]
  },
  {
   "cell_type": "markdown",
   "metadata": {},
   "source": [
    "## Import Libraries"
   ]
  },
  {
   "cell_type": "code",
   "execution_count": null,
   "metadata": {},
   "outputs": [],
   "source": [
    "import pandas as pd\n",
    "import numpy as np\n",
    "import pyodbc # SQL Connection\n",
    "import sqlCredentials as sql"
   ]
  },
  {
   "cell_type": "markdown",
   "metadata": {},
   "source": [
    "## Import Database"
   ]
  },
  {
   "cell_type": "code",
   "execution_count": null,
   "metadata": {},
   "outputs": [],
   "source": [
    "#BookXCenterProduction\n",
    "prod_db = pyodbc.connect(\n",
    "    'DRIVER={ODBC Driver 17 for SQL Server};'\n",
    "    'Server=52.86.56.66;'\n",
    "    'Database=BookXCenterProduction;'\n",
    "    'UID='+sql.username+';'\n",
    "    'PWD='+sql.password+';'\n",
    "    'Trusted_connection=no;'\n",
    ")"
   ]
  },
  {
   "cell_type": "markdown",
   "metadata": {},
   "source": [
    "## Define clean_up"
   ]
  },
  {
   "cell_type": "code",
   "execution_count": null,
   "metadata": {},
   "outputs": [],
   "source": [
    "def clean_up(phrase):\n",
    "    phrase = phrase.lstrip()\n",
    "    phrase = phrase.rstrip()\n",
    "    phrase = phrase.upper()\n",
    "    return phrase"
   ]
  },
  {
   "cell_type": "markdown",
   "metadata": {},
   "source": [
    "## Import Tables"
   ]
  },
  {
   "cell_type": "code",
   "execution_count": null,
   "metadata": {},
   "outputs": [],
   "source": [
    "# Inventory\n",
    "inventory_sql = \"\"\"\n",
    "SELECT \n",
    "    ItemCode AS isbn\n",
    "    , WhsCode AS po_whse\n",
    "    , AVG(OnHand) AS Onhand\n",
    "FROM \n",
    "\tSAP.InventoryReportView\n",
    "WHERE\n",
    "\tWhsCode IN ('WW', 'AW')\n",
    "\tAND OnHand > 0\n",
    "GROUP BY\n",
    "\tItemCode\n",
    "\t, WhsCode\n",
    "\"\"\"\n",
    "\n",
    "# Line Purchase Order\n",
    "PO_sql = \"\"\"\n",
    "WITH PO AS\n",
    "(SELECT \n",
    "\tCASE\n",
    "\t\tWHEN Rate = 0 THEN 1\n",
    "\t\tELSE Rate\n",
    "\tEND AS EXCHANGE\n",
    "\t, ISBN\n",
    "\t, OpenQuantity\n",
    "\t, GrossPrice\n",
    "\t, [Discount]\n",
    "\t, ShippingCostUSD\n",
    "\t, Whse\n",
    "    , [RowDeliveryDate]\n",
    "    , [DocumentNumber]\n",
    "    , [DocumentName]\n",
    "    , [DocumentStatus]\n",
    "    , [BPCode]\n",
    "    , [BPName]\n",
    "    , [OrderStatus]\n",
    "FROM [SAP].[LinePurchaseOrderView]\n",
    ")\n",
    "\n",
    "SELECT\n",
    "\t[ISBN]\n",
    "\t, OpenQuantity\n",
    "\t, (GrossPrice*EXCHANGE*(1-[Discount]/100) +ShippingCostUSD) AS LandedCost\n",
    "\t, [Whse]\n",
    "    , [RowDeliveryDate]\n",
    "    , [DocumentNumber]\n",
    "    , [DocumentName]\n",
    "    , [BPCode]\n",
    "    , [BPName]\n",
    "    , [OrderStatus]\n",
    "\t, (CASE\n",
    "\t\tWHEN [RowDeliveryDate] > GETDATE() THEN 'OnTime'\n",
    "\t\tELSE 'Late'\n",
    "\tEND) AS DeliveryStatus\n",
    "FROM \n",
    "\tPO\n",
    "WHERE \n",
    "\tWhse in ('WW', 'TB') \n",
    "\tAND OpenQuantity > 0\n",
    "\"\"\"\n",
    "# Line Sales Order\n",
    "\n",
    "SO_sql = \"\"\"\n",
    "SELECT \n",
    "\tIsbn\n",
    "\t, OpenQuantity\n",
    "\t, UnitPrice AS SalePrice\n",
    "\t, WarehouseCode\n",
    "\t, DeliveryDate\n",
    "\t, DocumentNumber\n",
    "\t, DocumentName\n",
    "\t, CustomerOrVendorCode\n",
    "\t, CustomerOrVendorName\n",
    "\t, Condition\n",
    "\t, (CASE\n",
    "\t\t\tWHEN DeliveryDate > GETDATE() THEN 'OnTime'\n",
    "\t\t\tELSE 'Late'\n",
    "\t\tEND) AS DeliveryStatus\n",
    "FROM\n",
    "\t[SAP].[SaleOrderReportView]\n",
    "WHERE OpenQuantity > 0 AND WarehouseCode IN ('WW')\n",
    "\"\"\"\n",
    "receiving_sql = \"\"\"\n",
    "WITH RECEIVED AS\n",
    "(SELECT\n",
    "\tCASE\n",
    "\t\tWHEN x_Rate = 0 THEN 1\n",
    "\t\tELSE x_Rate\n",
    "\tEND AS EXCHANGE\n",
    "\t, [ISBN]\n",
    "\t, [Price]\n",
    "\t, [Discount]\n",
    "\t, [ShippingCost]\n",
    "\t, [WarehouseCode]\n",
    "\t, [PostingDate]\n",
    "    , [DocName]\n",
    "\t, [DocNum]\n",
    "\t, [BPCode]\n",
    "\t, [BPName]\n",
    "FROM [SAP].[GoodsReceiptReportView]\n",
    ")\n",
    "\n",
    "SELECT\n",
    "\t[ISBN]\n",
    "\t, ([Price]*[EXCHANGE]*(1-[Discount]/100) + [ShippingCost]) AS landed_cost\n",
    "\t, [WarehouseCode] AS po_whse\n",
    "\t, [PostingDate] AS received_date\n",
    "    , [DocNum] AS po_number \n",
    "\t, [DocName] AS po_name\n",
    "\t, [BPCode] AS supplier_code\n",
    "\t, [BPName] AS supplier\n",
    "  FROM RECEIVED\n",
    "  WHERE WarehouseCode = 'WW'\n",
    "  ORDER BY PostingDate desc\n",
    "  \"\"\"\n",
    "\n"
   ]
  },
  {
   "cell_type": "code",
   "execution_count": null,
   "metadata": {},
   "outputs": [],
   "source": [
    "inventory = pd.read_sql(inventory_sql, prod_db)\n",
    "inventory.columns = map(str.lower, inventory.columns)\n",
    "for col in ['isbn', 'po_whse']:\n",
    "    inventory[col] = inventory.apply(lambda x: clean_up(x[col]), axis =1)\n",
    "inventory.rename(columns={'itemcode': 'isbn'}, inplace = True)\n",
    "print(inventory.isna().sum())\n",
    "inventory.head()"
   ]
  },
  {
   "cell_type": "code",
   "execution_count": null,
   "metadata": {},
   "outputs": [],
   "source": [
    "receiving = pd.read_sql(receiving_sql, prod_db)\n",
    "receiving.dropna(inplace=True)\n",
    "receiving.columns = map(str.lower, receiving.columns)\n",
    "receiving['isbn'] = receiving['isbn'].astype(str)\n",
    "for col in ['isbn', 'po_whse', 'po_name', 'supplier_code', 'supplier']:\n",
    "    receiving[col] = receiving.apply(lambda x: clean_up(x[col]), axis =1)\n",
    "print(receiving.isna().sum())\n",
    "print(receiving.dtypes)\n",
    "receiving.head()"
   ]
  },
  {
   "cell_type": "code",
   "execution_count": null,
   "metadata": {},
   "outputs": [],
   "source": [
    "inventory_ww = inventory[inventory['po_whse'] == 'WW']\n",
    "inventory_ww = inventory_ww.merge(receiving, how='left', on=['isbn', 'po_whse'] )\n",
    "inventory_ww.sort_values('received_date', ascending=False, inplace=True, ignore_index=True)\n",
    "inventory_ww = inventory_ww.groupby(['isbn'])['onhand', 'landed_cost', 'po_whse','received_date', 'po_number', 'po_name', 'supplier_code', 'supplier'].first().reset_index()\n",
    "inventory_ww.head()"
   ]
  },
  {
   "cell_type": "code",
   "execution_count": null,
   "metadata": {},
   "outputs": [],
   "source": [
    "po = pd.read_sql(PO_sql, prod_db)\n",
    "po.columns = map(str.lower, po.columns)\n",
    "po.rename(columns={'bpname': 'supplier', 'bpcode': 'supplier_code', 'openquantity': 'po_open_qty', 'whse': 'po_whse', 'documentnumber' : 'po_number', 'documentname': ' po_name', 'deliverystatus': 'po_date_status'}, inplace = True)\n",
    "for col in ['isbn', 'po_whse', ' po_name', 'supplier_code', 'supplier', 'orderstatus', 'po_date_status']:\n",
    "    po[col] = po.apply(lambda x: clean_up(x[col]), axis =1)\n",
    "print(po.isna().sum())\n",
    "po.sort_values(['rowdeliverydate', 'po_whse', 'landedcost'], ascending=[True,False,True], inplace=True, ignore_index=True)\n",
    "po.head()"
   ]
  },
  {
   "cell_type": "code",
   "execution_count": null,
   "metadata": {},
   "outputs": [],
   "source": [
    "so = pd.read_sql(SO_sql, prod_db)\n",
    "so.columns = map(str.lower, so.columns)\n",
    "so.rename(columns={'openquantity': 'so_open_qty','warehousecode':'so_whse','customerorvendorname': 'customer', 'customerorvendorcode': 'customer_code', 'deliverydate' : 'customer_drop_date', 'documentnumber': 'so_number', 'documentname': 'so_name','deliverystatus': 'so_date_status'}, inplace = True)\n",
    "for col in ['isbn', 'so_whse', 'so_name', 'customer', 'customer_code', 'condition', 'so_date_status']:\n",
    "    so[col] = so.apply(lambda x: clean_up(x[col]), axis =1)\n",
    "print(so.isna().sum())\n",
    "so.sort_values(['saleprice', 'customer_drop_date'], ascending=[False,True], inplace=True, ignore_index=True)\n",
    "so.head()"
   ]
  },
  {
   "cell_type": "code",
   "execution_count": null,
   "metadata": {},
   "outputs": [],
   "source": [
    "so.columns"
   ]
  },
  {
   "cell_type": "code",
   "execution_count": null,
   "metadata": {},
   "outputs": [],
   "source": [
    "#ALLOCATE RECEIVED inventory_ww INTO THE \n",
    "inv_so = pd.DataFrame()\n",
    "inventory_ww.reset_index(inplace = True, drop = True)\n",
    "for so_id in list(so[so['isbn'].isin(list(inventory_ww['isbn']))].index.values):\n",
    "    for inv_id in list(inventory_ww[inventory_ww['isbn'].isin(list(so['isbn']))].index.values):\n",
    "        if (inventory_ww.iloc[inv_id, :]['isbn'] == so.iloc[so_id, :]['isbn']) and (inventory_ww.iloc[inv_id, :]['onhand'] > 0) and (so.iloc[so_id, :]['so_open_qty'] > 0):\n",
    "            row_inv_so = pd.merge(inventory_ww.iloc[[inv_id], :], so.iloc[[so_id], :], how='left', on = 'isbn' )\n",
    "            row_inv_so['allocate_qty'] = row_inv_so[['onhand','so_open_qty']].min( axis = 1, skipna = True)\n",
    "            inventory_ww.loc[inv_id,'onhand'] = inventory_ww.loc[inv_id,'onhand'] - row_inv_so.iloc[0,:]['allocate_qty']\n",
    "            so.loc[so_id,'so_open_qty'] = so.loc[so_id,'so_open_qty'] - row_inv_so.iloc[0,:]['allocate_qty']\n",
    "            row_inv_so['orderstatus'] = 'READY TO SHIP'\n",
    "            row_inv_so['inventory_ww_date_status'] = so.iloc[so_id, :]['so_date_status']\n",
    "            inv_so = inv_so.append(row_inv_so)\n"
   ]
  },
  {
   "cell_type": "code",
   "execution_count": null,
   "metadata": {},
   "outputs": [],
   "source": [
    "inv_so.head()"
   ]
  },
  {
   "cell_type": "code",
   "execution_count": null,
   "metadata": {},
   "outputs": [],
   "source": [
    "# po_so = pd.DataFrame()\n",
    "# for so_id in list(so[so['isbn'].isin(list(po['isbn'])) & (so['so_open_qty'] > 0)].index.values):\n",
    "#     for po_id in list(po[po['isbn'].isin(list(so['isbn'])) & (po['po_open_qty'] > 0)].index.values):\n",
    "#         if (po.iloc[po_id, :]['isbn'] == so.iloc[so_id, :]['isbn']) and (po.iloc[po_id, :]['po_open_qty'] > 0) and (so.iloc[so_id, :]['so_open_qty'] > 0) and ((so.iloc[so_id, :]['saleprice'] - po.iloc[po_id, :]['landedcost']) >= 0) & (so.iloc[so_id, :]['customer_drop_date'] > po.iloc[po_id, :]['rowdeliverydate']): #ALLOCATE OPEN PO ON TIME FOR THE SO WITH POSITIVE COMMISSION\n",
    "#             row_po_so_good = pd.merge(po.iloc[[po_id], :], so.iloc[[so_id], :], how='left', on = 'isbn' )\n",
    "#             row_po_so_good['qty'] = row_po_so_good[['po_open_qty','so_open_qty']].min( axis = 1, skipna = True)\n",
    "#             po.loc[po_id,'po_open_qty'] = po.loc[po_id,'po_open_qty'] - row_po_so_good.iloc[0,:]['qty']\n",
    "#             so.loc[so_id,'so_open_qty'] = so.loc[so_id,'so_open_qty'] - row_po_so_good.iloc[0,:]['qty']\n",
    "#             row_po_so_good['time_status'] = so.iloc[so_id, :]['so_date_status']\n",
    "#             # if (so.iloc[so_id, :]['so_date_status'] == 'LATE') & (po.iloc[po_id, :]['po_date_status'] == 'LATE'):\n",
    "#             #     row_po_so_good['action'] = 'UPDATE PO DATE, UPDATE SO DATE'\n",
    "#             # elif (so.iloc[so_id, :]['so_date_status'] == 'ONTIME') & (po.iloc[po_id, :]['po_date_status'] == 'LATE'):\n",
    "#             #     row_po_so_good['action'] = 'UPDATE PO DATE'\n",
    "#             # elif  (so.iloc[so_id, :]['so_date_status'] == 'LATE') & (po.iloc[po_id, :]['po_date_status'] == 'ONTIME'):\n",
    "#             #     row_po_so_good['action'] = 'UPDATE PO DATE'\n",
    "#             # else:\n",
    "#             #     row_po_so_good['action'] = 'PROFIT'\n",
    "#         elif (po.iloc[po_id, :]['isbn'] == so.iloc[so_id, :]['isbn']) and (po.iloc[po_id, :]['po_open_qty'] > 0) and (so.iloc[so_id, :]['so_open_qty'] > 0) and ((so.iloc[so_id, :]['saleprice'] - po.iloc[po_id, :]['landedcost']) < 0) & (so.iloc[so_id, :]['customer_drop_date'] > po.iloc[po_id, :]['rowdeliverydate']): #ALLOCATE OPEN PO ON TIME FOR THE SO WITH NEGATIVE COMMISSION\n",
    "#             row_po_so_good = pd.merge(po.iloc[[po_id], :], so.iloc[[so_id], :], how='left', on = 'isbn' )\n",
    "#             row_po_so_good['qty'] = row_po_so_good[['po_open_qty','so_open_qty']].min( axis = 1, skipna = True)\n",
    "#             po.loc[po_id,'po_open_qty'] = po.loc[po_id,'po_open_qty'] - row_po_so_good.iloc[0,:]['qty']\n",
    "#             so.loc[so_id,'so_open_qty'] = so.loc[so_id,'so_open_qty'] - row_po_so_good.iloc[0,:]['qty']\n",
    "#             row_po_so_good['time_status'] = so.iloc[so_id, :]['so_date_status']\n",
    "#             # if (so.iloc[so_id, :]['so_date_status'] == 'LATE') & (po.iloc[po_id, :]['po_date_status'] == 'LATE'):\n",
    "#             #     row_po_so_good['action'] = 'UPDATE PO DATE, UPDATE SO DATE'\n",
    "#             # elif (so.iloc[so_id, :]['so_date_status'] == 'ONTIME') & (po.iloc[po_id, :]['po_date_status'] == 'LATE'):\n",
    "#             #     row_po_so_good['action'] = 'UPDATE PO DATE'\n",
    "#             # elif  (so.iloc[so_id, :]['so_date_status'] == 'LATE') & (po.iloc[po_id, :]['po_date_status'] == 'ONTIME'):\n",
    "#             #     row_po_so_good['action'] = 'UPDATE PO DATE'\n",
    "#             # else:\n",
    "#             #     row_po_so_good['action'] = 'NO PROFIT'\n",
    "#         po_so = po_so_good.append(row_po_so_good)"
   ]
  },
  {
   "cell_type": "code",
   "execution_count": null,
   "metadata": {},
   "outputs": [],
   "source": [
    "po_so = pd.DataFrame()\n",
    "for so_id in list(so[so['isbn'].isin(list(po['isbn'])) & (so['so_open_qty'] > 0)].index.values):\n",
    "    for po_id in list(po[po['isbn'].isin(list(so['isbn'])) & (po['po_open_qty'] > 0)].index.values):\n",
    "        if (po.iloc[po_id, :]['isbn'] == so.iloc[so_id, :]['isbn']) and (po.iloc[po_id, :]['po_open_qty'] > 0) and ((so.iloc[so_id, :]['so_open_qty'] > 0) and (so.iloc[so_id, :]['saleprice'] - po.iloc[po_id, :]['landedcost']) > -5):\n",
    "            row_po_so = pd.merge(po.iloc[[po_id], :], so.iloc[[so_id], :], how='left', on = 'isbn' )\n",
    "            row_po_so['qty'] = row_po_so[['po_open_qty','so_open_qty']].min( axis = 1, skipna = True)\n",
    "            po.loc[po_id,'po_open_qty'] = po.loc[po_id,'po_open_qty'] - row_po_so.iloc[0,:]['qty']\n",
    "            so.loc[so_id,'so_open_qty'] = so.loc[so_id,'so_open_qty'] - row_po_so.iloc[0,:]['qty']\n",
    "            po_so = po_so.append(row_po_so)"
   ]
  },
  {
   "cell_type": "code",
   "execution_count": null,
   "metadata": {},
   "outputs": [],
   "source": [
    "po_so.head()"
   ]
  },
  {
   "cell_type": "code",
   "execution_count": null,
   "metadata": {},
   "outputs": [],
   "source": [
    "\"\"\"\n",
    "RETAIL AW WAREHOUSE\"\n",
    "\n",
    "\"\"\"\n",
    "\n",
    "# inv_aw = inventory[inventory['po_whse'] == 'AW']\n",
    "# inv_aw.reset_index(inplace = True, drop=True)\n",
    "# aw_so = pd.DataFrame()\n",
    "# for so_id in list(so[so['isbn'].isin(list(inv_aw['isbn']))].index.values):\n",
    "#     for aw_inv_id in list(inv_aw[inv_aw['isbn'].isin(list(so['isbn']))].index.values):\n",
    "#         if (inv_aw.iloc[aw_inv_id, :]['isbn'] == so.iloc[so_id, :]['isbn']) and (inv_aw.iloc[aw_inv_id, :]['onhand'] > 0) and (so.iloc[so_id, :]['so_open_qty'] > 0):\n",
    "#             row_aw_so = pd.merge(inv_aw.iloc[[aw_inv_id], :], so.iloc[[so_id], :], how='left', on = 'isbn' )\n",
    "#             row_aw_so['allocate_qty'] = row_aw_so[['onhand','so_open_qty']].min( axis = 1, skipna = True)\n",
    "#             inv_aw.loc[aw_inv_id,'onhand'] = inv_aw.loc[aw_inv_id,'onhand'] - row_aw_so.iloc[0,:]['allocate_qty']\n",
    "#             so.loc[so_id,'so_open_qty'] = so.loc[so_id,'so_open_qty'] - row_aw_so.iloc[0,:]['allocate_qty']\n",
    "#             row_aw_so['orderstatus'] = 'READY TO SHIP'\n",
    "#             row_aw_so['inv_aw_date_status'] = so.iloc[so_id, :]['so_date_status']\n",
    "#             aw_so = aw_so.append(row_aw_so)"
   ]
  },
  {
   "cell_type": "code",
   "execution_count": null,
   "metadata": {},
   "outputs": [],
   "source": [
    "# aw_so.head()"
   ]
  },
  {
   "cell_type": "code",
   "execution_count": null,
   "metadata": {},
   "outputs": [],
   "source": [
    "po.sort_values(['rowdeliverydate', 'po_whse', 'landedcost'], ascending=[True,False,True], inplace=True, ignore_index=True)\n",
    "so.sort_values(['customer_drop_date', 'saleprice'], ascending=[True,False], inplace=True, ignore_index=True)"
   ]
  },
  {
   "cell_type": "code",
   "execution_count": null,
   "metadata": {},
   "outputs": [],
   "source": [
    "# real_sale = pd.DataFrame()\n",
    "# real_sale = inv_so.append(po_so_good)"
   ]
  },
  {
   "cell_type": "code",
   "execution_count": null,
   "metadata": {},
   "outputs": [],
   "source": [
    "with pd.ExcelWriter('supply_chain/report.xlsx') as writer:\n",
    "    inv_so.to_excel(writer,sheet_name = 'to_be_shipped', index= False)\n",
    "    po[po['po_open_qty'] > 0 ].to_excel(writer, sheet_name = 'po_no_room', index= False)\n",
    "    so[so['so_open_qty'] > 0 ].to_excel(writer, sheet_name = 'open_so', index= False)\n",
    "    inventory_ww[inventory_ww['onhand'] > 0 ].to_excel(writer, sheet_name = 'extras_inventory', index= False)\n",
    "    po_so.to_excel(writer,sheet_name = 'expected_sales', index= False)\n",
    "    # aw_so.to_excel(writer,sheet_name = 'aw_reallocation', index= False) # Line when trying to make a sale from AW Warehouse."
   ]
  },
  {
   "cell_type": "code",
   "execution_count": null,
   "metadata": {},
   "outputs": [],
   "source": []
  }
 ],
 "metadata": {
  "language_info": {
   "codemirror_mode": {
    "name": "ipython",
    "version": 3
   },
   "file_extension": ".py",
   "mimetype": "text/x-python",
   "name": "python",
   "nbconvert_exporter": "python",
   "pygments_lexer": "ipython3",
   "version": "3.7.4-final"
  },
  "orig_nbformat": 2,
  "kernelspec": {
   "name": "python37464bitbb73f4624f33480187b72c071411f462",
   "display_name": "Python 3.7.4 64-bit"
  }
 },
 "nbformat": 4,
 "nbformat_minor": 2
}