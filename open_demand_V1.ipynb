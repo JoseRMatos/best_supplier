{
 "cells": [
  {
   "cell_type": "markdown",
   "metadata": {},
   "source": [
    "# Open Demand"
   ]
  },
  {
   "cell_type": "markdown",
   "metadata": {},
   "source": [
    "## Import Libraries"
   ]
  },
  {
   "cell_type": "code",
   "execution_count": null,
   "metadata": {},
   "outputs": [],
   "source": [
    "import pandas as pd\n",
    "import numpy as np\n",
    "import pyodbc # SQL Connection\n",
    "import sqlCredentials as sql"
   ]
  },
  {
   "cell_type": "markdown",
   "metadata": {},
   "source": [
    "## Import Database"
   ]
  },
  {
   "cell_type": "code",
   "execution_count": null,
   "metadata": {},
   "outputs": [],
   "source": [
    "#BookXCenterProduction\n",
    "prod_db = pyodbc.connect(\n",
    "    'DRIVER={ODBC Driver 17 for SQL Server};'\n",
    "    'Server=52.86.56.66;'\n",
    "    'Database=BookXCenterProduction;'\n",
    "    'UID='+sql.username+';'\n",
    "    'PWD='+sql.password+';'\n",
    "    'Trusted_connection=no;'\n",
    ")"
   ]
  },
  {
   "cell_type": "markdown",
   "metadata": {},
   "source": [
    "## Define clean_up"
   ]
  },
  {
   "cell_type": "code",
   "execution_count": null,
   "metadata": {},
   "outputs": [],
   "source": [
    "def clean_up(phrase):\n",
    "    phrase = phrase.lstrip()\n",
    "    phrase = phrase.rstrip()\n",
    "    phrase = phrase.upper()\n",
    "    return phrase"
   ]
  },
  {
   "cell_type": "markdown",
   "metadata": {},
   "source": [
    "## Import Tables"
   ]
  },
  {
   "cell_type": "code",
   "execution_count": null,
   "metadata": {},
   "outputs": [],
   "source": [
    "# Inventory\n",
    "inventory_sql = \"\"\"\n",
    "SELECT \n",
    "    ItemCode\n",
    "    , WhsCode\n",
    "    , AVG(OnHand) AS Onhand\n",
    "FROM \n",
    "\tSAP.InventoryReportView\n",
    "WHERE\n",
    "\tWhsCode = 'WW'\n",
    "\tAND OnHand > 0\n",
    "GROUP BY\n",
    "\tItemCode\n",
    "\t, WhsCode\n",
    "\"\"\"\n",
    "\n",
    "# Line Purchase Order\n",
    "PO_sql = \"\"\"\n",
    "WITH PO AS\n",
    "(SELECT \n",
    "\tCASE\n",
    "\t\tWHEN Rate = 0 THEN 1\n",
    "\t\tELSE Rate\n",
    "\tEND AS EXCHANGE\n",
    "\t, ISBN\n",
    "\t, OpenQuantity\n",
    "\t, GrossPrice\n",
    "\t, ShippingCostUSD\n",
    "\t, Whse\n",
    "    , [RowDeliveryDate]\n",
    "    , [DocumentNumber]\n",
    "    , [DocumentName]\n",
    "    , [DocumentStatus]\n",
    "    , [BPCode]\n",
    "    , [BPName]\n",
    "    , [OrderStatus]\n",
    "FROM [SAP].[LinePurchaseOrderView]\n",
    ")\n",
    "\n",
    "SELECT\n",
    "\t[ISBN]\n",
    "\t, OpenQuantity\n",
    "\t, (GrossPrice*EXCHANGE +ShippingCostUSD) AS LandedCost\n",
    "\t, [Whse]\n",
    "    , [RowDeliveryDate]\n",
    "    , [DocumentNumber]\n",
    "    , [DocumentName]\n",
    "    , [BPCode]\n",
    "    , [BPName]\n",
    "    , [OrderStatus]\n",
    "\t, (CASE\n",
    "\t\tWHEN [RowDeliveryDate] > GETDATE() THEN 'OnTime'\n",
    "\t\tELSE 'Late'\n",
    "\tEND) AS DeliveryStatus\n",
    "FROM \n",
    "\tPO\n",
    "WHERE \n",
    "\tWhse in ('WW', 'TB') \n",
    "\tAND OpenQuantity > 0\n",
    "\"\"\"\n",
    "# Line Sales Order\n",
    "\n",
    "SO_sql = \"\"\"\n",
    "SELECT \n",
    "\tIsbn\n",
    "\t, OpenQuantity\n",
    "\t, UnitPrice AS SalePrice\n",
    "\t, WarehouseCode\n",
    "\t, DeliveryDate\n",
    "\t, DocumentNumber\n",
    "\t, DocumentName\n",
    "\t, CustomerOrVendorCode\n",
    "\t, CustomerOrVendorName\n",
    "\t, Condition\n",
    "\t, (CASE\n",
    "\t\t\tWHEN DeliveryDate > GETDATE() THEN 'OnTime'\n",
    "\t\t\tELSE 'Late'\n",
    "\t\tEND) AS DeliveryStatus\n",
    "FROM\n",
    "\t[SAP].[SaleOrderReportView]\n",
    "WHERE OpenQuantity > 0 AND WarehouseCode IN ('WW')\n",
    "\"\"\""
   ]
  },
  {
   "cell_type": "code",
   "execution_count": null,
   "metadata": {},
   "outputs": [],
   "source": [
    "inventory = pd.read_sql(inventory_sql, prod_db)\n",
    "inventory.columns = map(str.lower, inventory.columns)\n",
    "for col in ['itemcode', 'whscode']:\n",
    "    inventory[col] = inventory.apply(lambda x: clean_up(x[col]), axis =1)\n",
    "inventory.rename(columns={'itemcode': 'isbn'}, inplace = True)\n",
    "print(inventory.isna().sum())\n",
    "inventory.head()"
   ]
  },
  {
   "cell_type": "code",
   "execution_count": null,
   "metadata": {},
   "outputs": [],
   "source": [
    "po = pd.read_sql(PO_sql, prod_db)\n",
    "po.columns = map(str.lower, po.columns)\n",
    "po.rename(columns={'bpname': 'supplier', 'bpcode': 'supplier_code'}, inplace = True)\n",
    "for col in ['isbn', 'whse', 'documentname', 'supplier_code', 'supplier', 'orderstatus', 'deliverystatus']:\n",
    "    po[col] = po.apply(lambda x: clean_up(x[col]), axis =1)\n",
    "print(po.isna().sum())\n",
    "po.sort_values(['rowdeliverydate', 'whse', 'landedcost'], ascending=[True,False,True], inplace=True, ignore_index=True)\n",
    "po.head()"
   ]
  },
  {
   "cell_type": "code",
   "execution_count": null,
   "metadata": {},
   "outputs": [],
   "source": [
    "so = pd.read_sql(SO_sql, prod_db)\n",
    "so.columns = map(str.lower, so.columns)\n",
    "so.rename(columns={'openquantity': 'so_open_qty','warehousecode':'whse','customerorvendorname': 'customer', 'customerorvendorcode': 'customer_code', 'deliverydate' : 'customer_drop_date'}, inplace = True)\n",
    "for col in ['isbn', 'whse', 'documentname', 'customer', 'customer_code', 'condition', 'deliverystatus']:\n",
    "    so[col] = so.apply(lambda x: clean_up(x[col]), axis =1)\n",
    "print(so.isna().sum())\n",
    "so.sort_values(['customer_drop_date', 'saleprice'], ascending=[True,False], inplace=True, ignore_index=True)\n",
    "so.head()"
   ]
  },
  {
   "cell_type": "code",
   "execution_count": null,
   "metadata": {},
   "outputs": [],
   "source": [
    "inv_so = pd.DataFrame()\n",
    "for so_id in list(so[so['isbn'].isin(list(inventory['isbn']))].index.values):\n",
    "    for inv_id in list(inventory[inventory['isbn'].isin(list(so['isbn']))].index.values):\n",
    "        if (inventory.iloc[inv_id, :]['isbn'] == so.iloc[so_id, :]['isbn']) and (inventory.iloc[inv_id, :]['onhand'] > 0) and (so.iloc[so_id, :]['so_open_qty'] > 0):\n",
    "            row_inv_so = pd.merge(inventory.iloc[[inv_id], :], so.iloc[[so_id], :], how='left', on = 'isbn' )\n",
    "            row_inv_so['allocate_qty'] = row_inv_so[['onhand','so_open_qty']].min( axis = 1, skipna = True)\n",
    "            inventory.loc[inv_id,'onhand'] = inventory.loc[inv_id,'onhand'] - row_inv_so.iloc[0,:]['allocate_qty']\n",
    "            so.loc[so_id,'so_open_qty'] = so.loc[so_id,'so_open_qty'] - row_inv_so.iloc[0,:]['allocate_qty']\n",
    "            row_inv_so['time_status'] = so.iloc[so_id, :]['deliverystatus']\n",
    "            row_inv_so['profitable'] = 'GO'\n",
    "            inv_so = inv_so.append(row_inv_so)"
   ]
  },
  {
   "cell_type": "code",
   "execution_count": null,
   "metadata": {},
   "outputs": [],
   "source": [
    "inv_so.head()"
   ]
  },
  {
   "cell_type": "code",
   "execution_count": null,
   "metadata": {},
   "outputs": [],
   "source": [
    "inv_so.shape"
   ]
  },
  {
   "cell_type": "code",
   "execution_count": null,
   "metadata": {},
   "outputs": [],
   "source": [
    "inventory['onhand'].sum()\n",
    "inventory[inventory['onhand'] > 0].head()"
   ]
  },
  {
   "cell_type": "code",
   "execution_count": null,
   "metadata": {},
   "outputs": [],
   "source": []
  }
 ],
 "metadata": {
  "language_info": {
   "codemirror_mode": {
    "name": "ipython",
    "version": 3
   },
   "file_extension": ".py",
   "mimetype": "text/x-python",
   "name": "python",
   "nbconvert_exporter": "python",
   "pygments_lexer": "ipython3",
   "version": "3.7.6-final"
  },
  "orig_nbformat": 2,
  "kernelspec": {
   "name": "python3",
   "display_name": "Python 3"
  }
 },
 "nbformat": 4,
 "nbformat_minor": 2
}