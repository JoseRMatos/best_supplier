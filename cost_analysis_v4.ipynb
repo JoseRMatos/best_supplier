{
 "cells": [
  {
   "cell_type": "markdown",
   "metadata": {},
   "source": [
    "# Cost Analysis"
   ]
  },
  {
   "cell_type": "markdown",
   "metadata": {},
   "source": [
    "## 1. Import Library"
   ]
  },
  {
   "cell_type": "code",
   "execution_count": 1,
   "metadata": {},
   "outputs": [],
   "source": [
    "import pandas as pd\n",
    "import numpy as np\n",
    "import pyodbc # SQL Connection\n",
    "import sqlCredentials as sql"
   ]
  },
  {
   "cell_type": "markdown",
   "metadata": {},
   "source": [
    "## 2. Connect to Databases"
   ]
  },
  {
   "cell_type": "code",
   "execution_count": 2,
   "metadata": {},
   "outputs": [],
   "source": [
    "#PROCUREMENTDB\n",
    "\n",
    "proc_db = pyodbc.connect(\n",
    "    'DRIVER={ODBC Driver 17 for SQL Server};'\n",
    "    'Server=52.86.56.66;'\n",
    "    'Database=PROCUREMENTDB;'\n",
    "    'UID='+sql.username+';'\n",
    "    'PWD='+sql.password+';'\n",
    "    'Trusted_connection=no;'\n",
    ")\n",
    "\n",
    "#BookXCenterProduction\n",
    "prod_db = pyodbc.connect(\n",
    "    'DRIVER={ODBC Driver 17 for SQL Server};'\n",
    "    'Server=52.86.56.66;'\n",
    "    'Database=BookXCenterProduction;'\n",
    "    'UID='+sql.username+';'\n",
    "    'PWD='+sql.password+';'\n",
    "    'Trusted_connection=no;'\n",
    ")"
   ]
  },
  {
   "cell_type": "markdown",
   "metadata": {},
   "source": [
    "## 3. Define Clean up tool"
   ]
  },
  {
   "cell_type": "code",
   "execution_count": 3,
   "metadata": {},
   "outputs": [],
   "source": [
    "def clean_up(phrase):\n",
    "    phrase = phrase.lstrip()\n",
    "    phrase = phrase.rstrip()\n",
    "    phrase = phrase.upper()\n",
    "    return phrase"
   ]
  },
  {
   "cell_type": "markdown",
   "metadata": {},
   "source": [
    "## 4. Define Tables"
   ]
  },
  {
   "cell_type": "code",
   "execution_count": 4,
   "metadata": {},
   "outputs": [],
   "source": [
    "# Dictionary\n",
    "pub_dict = \"\"\"\n",
    "SELECT *\n",
    "FROM dbo.PublisherDictionary\n",
    "\"\"\"\n",
    "# LP All currencies\n",
    "all_lp = \"\"\"\n",
    "SELECT\n",
    "\t[Isbn]\n",
    "\t,[Currency]\n",
    "\t,[Price]\n",
    "FROM\n",
    "\t[Isbn].[ListPrice]\n",
    "\"\"\"\n",
    "# Bibliography\n",
    "bilblo_sql = \"\"\"\n",
    "SELECT Isbn\n",
    "    , Title\n",
    "    , Publisher\n",
    "    , Author\n",
    "FROM \n",
    "    Isbn.Bibliography\n",
    "\"\"\"\n",
    "# Echange Rate\n",
    "exchange_rate = \"\"\"\n",
    "SELECT \n",
    "    name,\n",
    "    rate\n",
    "FROM dbo.XChange\n",
    "\"\"\"\n",
    "#Supplier Mega List\n",
    "megalist_sql = \"\"\"\n",
    "SELECT \n",
    "    [ISBN]\n",
    "    ,[Supplier]\n",
    "    ,[Publisher]\n",
    "    ,[Currency]\n",
    "    ,[ListPrice]\n",
    "    ,[Discount]\n",
    "    ,[CostUnitPrice]\n",
    "    ,[MaxQtyPerOrder]\n",
    "    ,[ShipmentOrigin]\n",
    "    ,[UnitShippingCost]\n",
    "    ,[SeaFreightCost] AS sea_shipping_cost\n",
    "  FROM \n",
    "    [Process].[SupplierMegaList]\n",
    "\"\"\"\n",
    "\n",
    "#Import supplier Excel\n",
    "#Import short_discount\n",
    "#Import restrictions"
   ]
  },
  {
   "cell_type": "markdown",
   "metadata": {},
   "source": [
    "### 4.1 Import Dictionary and clean it"
   ]
  },
  {
   "cell_type": "code",
   "execution_count": 5,
   "metadata": {},
   "outputs": [
    {
     "output_type": "execute_result",
     "data": {
      "text/plain": "         PublisherLong   PublisherShort\n0  Glencoe McGraw Hill           MCGRAW\n1  Glencoe McGraw-Hill           MCGRAW\n2        McGraw Create           MCGRAW\n3           MCGRAW HE         MCGRAW HE\n4      MCGRAW HE - ISE  MCGRAW HE - ISE",
      "text/html": "<div>\n<style scoped>\n    .dataframe tbody tr th:only-of-type {\n        vertical-align: middle;\n    }\n\n    .dataframe tbody tr th {\n        vertical-align: top;\n    }\n\n    .dataframe thead th {\n        text-align: right;\n    }\n</style>\n<table border=\"1\" class=\"dataframe\">\n  <thead>\n    <tr style=\"text-align: right;\">\n      <th></th>\n      <th>PublisherLong</th>\n      <th>PublisherShort</th>\n    </tr>\n  </thead>\n  <tbody>\n    <tr>\n      <th>0</th>\n      <td>Glencoe McGraw Hill</td>\n      <td>MCGRAW</td>\n    </tr>\n    <tr>\n      <th>1</th>\n      <td>Glencoe McGraw-Hill</td>\n      <td>MCGRAW</td>\n    </tr>\n    <tr>\n      <th>2</th>\n      <td>McGraw Create</td>\n      <td>MCGRAW</td>\n    </tr>\n    <tr>\n      <th>3</th>\n      <td>MCGRAW HE</td>\n      <td>MCGRAW HE</td>\n    </tr>\n    <tr>\n      <th>4</th>\n      <td>MCGRAW HE - ISE</td>\n      <td>MCGRAW HE - ISE</td>\n    </tr>\n  </tbody>\n</table>\n</div>"
     },
     "metadata": {},
     "execution_count": 5
    }
   ],
   "source": [
    "pub_dict = pd.read_sql(pub_dict, proc_db)\n",
    "pub_dict.head()"
   ]
  },
  {
   "cell_type": "code",
   "execution_count": 6,
   "metadata": {},
   "outputs": [
    {
     "output_type": "execute_result",
     "data": {
      "text/plain": "         publisherlong   publishershort\n0  GLENCOE MCGRAW HILL           MCGRAW\n1  GLENCOE MCGRAW-HILL           MCGRAW\n2        MCGRAW CREATE           MCGRAW\n3            MCGRAW HE        MCGRAW HE\n4      MCGRAW HE - ISE  MCGRAW HE - ISE",
      "text/html": "<div>\n<style scoped>\n    .dataframe tbody tr th:only-of-type {\n        vertical-align: middle;\n    }\n\n    .dataframe tbody tr th {\n        vertical-align: top;\n    }\n\n    .dataframe thead th {\n        text-align: right;\n    }\n</style>\n<table border=\"1\" class=\"dataframe\">\n  <thead>\n    <tr style=\"text-align: right;\">\n      <th></th>\n      <th>publisherlong</th>\n      <th>publishershort</th>\n    </tr>\n  </thead>\n  <tbody>\n    <tr>\n      <th>0</th>\n      <td>GLENCOE MCGRAW HILL</td>\n      <td>MCGRAW</td>\n    </tr>\n    <tr>\n      <th>1</th>\n      <td>GLENCOE MCGRAW-HILL</td>\n      <td>MCGRAW</td>\n    </tr>\n    <tr>\n      <th>2</th>\n      <td>MCGRAW CREATE</td>\n      <td>MCGRAW</td>\n    </tr>\n    <tr>\n      <th>3</th>\n      <td>MCGRAW HE</td>\n      <td>MCGRAW HE</td>\n    </tr>\n    <tr>\n      <th>4</th>\n      <td>MCGRAW HE - ISE</td>\n      <td>MCGRAW HE - ISE</td>\n    </tr>\n  </tbody>\n</table>\n</div>"
     },
     "metadata": {},
     "execution_count": 6
    }
   ],
   "source": [
    "pub_dict.columns = map(str.lower, pub_dict.columns)\n",
    "pub_dict = pub_dict.fillna('N/A')\n",
    "for col in list(pub_dict.columns):\n",
    "    pub_dict[col] = pub_dict.apply(lambda x: clean_up(x[col]), axis =1)\n",
    "\n",
    "pub_dict.head()"
   ]
  },
  {
   "cell_type": "markdown",
   "metadata": {},
   "source": [
    "### 4.2 Import Bibliography and clean it"
   ]
  },
  {
   "cell_type": "code",
   "execution_count": 7,
   "metadata": {},
   "outputs": [
    {
     "output_type": "execute_result",
     "data": {
      "text/plain": "            Isbn                                              Title Publisher  \\\n0  9780000000057  Text, Music, Context:  A Resource  Item #: S05...       CPH   \n1  9780000001030                         Surgical Procedures (2016)      CIMC   \n2  9780000001061               Anatomy & Physiology Student Edition      CIMC   \n3  9780000001146                            Membean Student License    Archer   \n4  9780000002402                                               None       LWW   \n\n  Author  \n0   LCMS  \n1  MAVCC  \n2   CIMC  \n3   None  \n4   None  ",
      "text/html": "<div>\n<style scoped>\n    .dataframe tbody tr th:only-of-type {\n        vertical-align: middle;\n    }\n\n    .dataframe tbody tr th {\n        vertical-align: top;\n    }\n\n    .dataframe thead th {\n        text-align: right;\n    }\n</style>\n<table border=\"1\" class=\"dataframe\">\n  <thead>\n    <tr style=\"text-align: right;\">\n      <th></th>\n      <th>Isbn</th>\n      <th>Title</th>\n      <th>Publisher</th>\n      <th>Author</th>\n    </tr>\n  </thead>\n  <tbody>\n    <tr>\n      <th>0</th>\n      <td>9780000000057</td>\n      <td>Text, Music, Context:  A Resource  Item #: S05...</td>\n      <td>CPH</td>\n      <td>LCMS</td>\n    </tr>\n    <tr>\n      <th>1</th>\n      <td>9780000001030</td>\n      <td>Surgical Procedures (2016)</td>\n      <td>CIMC</td>\n      <td>MAVCC</td>\n    </tr>\n    <tr>\n      <th>2</th>\n      <td>9780000001061</td>\n      <td>Anatomy &amp; Physiology Student Edition</td>\n      <td>CIMC</td>\n      <td>CIMC</td>\n    </tr>\n    <tr>\n      <th>3</th>\n      <td>9780000001146</td>\n      <td>Membean Student License</td>\n      <td>Archer</td>\n      <td>None</td>\n    </tr>\n    <tr>\n      <th>4</th>\n      <td>9780000002402</td>\n      <td>None</td>\n      <td>LWW</td>\n      <td>None</td>\n    </tr>\n  </tbody>\n</table>\n</div>"
     },
     "metadata": {},
     "execution_count": 7
    }
   ],
   "source": [
    "# IMport and read biblio\n",
    "biblio = pd.read_sql(bilblo_sql, prod_db)\n",
    "biblio.head()"
   ]
  },
  {
   "cell_type": "code",
   "execution_count": 8,
   "metadata": {},
   "outputs": [
    {
     "output_type": "execute_result",
     "data": {
      "text/plain": "            isbn                                              title publisher  \\\n0  9780000000057  TEXT, MUSIC, CONTEXT:  A RESOURCE  ITEM #: S05...       CPH   \n1  9780000001030                         SURGICAL PROCEDURES (2016)      CIMC   \n2  9780000001061               ANATOMY & PHYSIOLOGY STUDENT EDITION      CIMC   \n3  9780000001146                            MEMBEAN STUDENT LICENSE    ARCHER   \n4  9780000002402                                                N/A       LWW   \n\n  author  \n0   LCMS  \n1  MAVCC  \n2   CIMC  \n3    N/A  \n4    N/A  ",
      "text/html": "<div>\n<style scoped>\n    .dataframe tbody tr th:only-of-type {\n        vertical-align: middle;\n    }\n\n    .dataframe tbody tr th {\n        vertical-align: top;\n    }\n\n    .dataframe thead th {\n        text-align: right;\n    }\n</style>\n<table border=\"1\" class=\"dataframe\">\n  <thead>\n    <tr style=\"text-align: right;\">\n      <th></th>\n      <th>isbn</th>\n      <th>title</th>\n      <th>publisher</th>\n      <th>author</th>\n    </tr>\n  </thead>\n  <tbody>\n    <tr>\n      <th>0</th>\n      <td>9780000000057</td>\n      <td>TEXT, MUSIC, CONTEXT:  A RESOURCE  ITEM #: S05...</td>\n      <td>CPH</td>\n      <td>LCMS</td>\n    </tr>\n    <tr>\n      <th>1</th>\n      <td>9780000001030</td>\n      <td>SURGICAL PROCEDURES (2016)</td>\n      <td>CIMC</td>\n      <td>MAVCC</td>\n    </tr>\n    <tr>\n      <th>2</th>\n      <td>9780000001061</td>\n      <td>ANATOMY &amp; PHYSIOLOGY STUDENT EDITION</td>\n      <td>CIMC</td>\n      <td>CIMC</td>\n    </tr>\n    <tr>\n      <th>3</th>\n      <td>9780000001146</td>\n      <td>MEMBEAN STUDENT LICENSE</td>\n      <td>ARCHER</td>\n      <td>N/A</td>\n    </tr>\n    <tr>\n      <th>4</th>\n      <td>9780000002402</td>\n      <td>N/A</td>\n      <td>LWW</td>\n      <td>N/A</td>\n    </tr>\n  </tbody>\n</table>\n</div>"
     },
     "metadata": {},
     "execution_count": 8
    }
   ],
   "source": [
    "biblio.columns = map(str.lower, biblio.columns)\n",
    "biblio = biblio.fillna('N/A')\n",
    "biblio['isbn'] = biblio['isbn'].astype(str)\n",
    "for col in list(biblio.columns):\n",
    "    biblio[col] = biblio.apply(lambda x: clean_up(x[col]), axis =1)\n",
    "biblio.head()"
   ]
  },
  {
   "cell_type": "markdown",
   "metadata": {},
   "source": [
    "Now we Merge bibliography with the dictionary"
   ]
  },
  {
   "cell_type": "code",
   "execution_count": 9,
   "metadata": {},
   "outputs": [
    {
     "output_type": "execute_result",
     "data": {
      "text/plain": "            isbn                                              title publisher  \\\n0  9780000000057  TEXT, MUSIC, CONTEXT:  A RESOURCE  ITEM #: S05...       CPH   \n1  9780000001030                         SURGICAL PROCEDURES (2016)      CIMC   \n2  9780000001061               ANATOMY & PHYSIOLOGY STUDENT EDITION      CIMC   \n3  9780000001146                            MEMBEAN STUDENT LICENSE    ARCHER   \n4  9780000002402                                                N/A       LWW   \n\n  author  pub  \n0   LCMS  NaN  \n1  MAVCC  NaN  \n2   CIMC  NaN  \n3    N/A  NaN  \n4    N/A  LWW  ",
      "text/html": "<div>\n<style scoped>\n    .dataframe tbody tr th:only-of-type {\n        vertical-align: middle;\n    }\n\n    .dataframe tbody tr th {\n        vertical-align: top;\n    }\n\n    .dataframe thead th {\n        text-align: right;\n    }\n</style>\n<table border=\"1\" class=\"dataframe\">\n  <thead>\n    <tr style=\"text-align: right;\">\n      <th></th>\n      <th>isbn</th>\n      <th>title</th>\n      <th>publisher</th>\n      <th>author</th>\n      <th>pub</th>\n    </tr>\n  </thead>\n  <tbody>\n    <tr>\n      <th>0</th>\n      <td>9780000000057</td>\n      <td>TEXT, MUSIC, CONTEXT:  A RESOURCE  ITEM #: S05...</td>\n      <td>CPH</td>\n      <td>LCMS</td>\n      <td>NaN</td>\n    </tr>\n    <tr>\n      <th>1</th>\n      <td>9780000001030</td>\n      <td>SURGICAL PROCEDURES (2016)</td>\n      <td>CIMC</td>\n      <td>MAVCC</td>\n      <td>NaN</td>\n    </tr>\n    <tr>\n      <th>2</th>\n      <td>9780000001061</td>\n      <td>ANATOMY &amp; PHYSIOLOGY STUDENT EDITION</td>\n      <td>CIMC</td>\n      <td>CIMC</td>\n      <td>NaN</td>\n    </tr>\n    <tr>\n      <th>3</th>\n      <td>9780000001146</td>\n      <td>MEMBEAN STUDENT LICENSE</td>\n      <td>ARCHER</td>\n      <td>N/A</td>\n      <td>NaN</td>\n    </tr>\n    <tr>\n      <th>4</th>\n      <td>9780000002402</td>\n      <td>N/A</td>\n      <td>LWW</td>\n      <td>N/A</td>\n      <td>LWW</td>\n    </tr>\n  </tbody>\n</table>\n</div>"
     },
     "metadata": {},
     "execution_count": 9
    }
   ],
   "source": [
    "biblio2 = pd.merge(biblio, pub_dict, how='left', left_on = 'publisher', right_on = 'publisherlong' )\n",
    "biblio2.drop(columns = ['publisherlong'], inplace = True)\n",
    "biblio2.rename(columns={'publishershort': 'pub'}, inplace = True)\n",
    "biblio2.head()"
   ]
  },
  {
   "cell_type": "markdown",
   "metadata": {},
   "source": [
    "### 4.3 Import SupplierMegaList and clean it"
   ]
  },
  {
   "cell_type": "code",
   "execution_count": 10,
   "metadata": {},
   "outputs": [
    {
     "output_type": "execute_result",
     "data": {
      "text/plain": "            ISBN Supplier   Publisher Currency  ListPrice  Discount  \\\n0  9781138161184    Rajan         T&F      GBP     120.00      0.53   \n1  9781138161320    Rajan         T&F      GBP     105.00      0.53   \n2  9780128054185     Alek    ELSEVIER      EUR      28.95      0.51   \n3  9780521697767   Zookal  Cambridge       AUD       0.00      0.00   \n4  9780128054208     Alek    ELSEVIER      EUR     143.00      0.51   \n\n   CostUnitPrice  MaxQtyPerOrder ShipmentOrigin  UnitShippingCost  \\\n0           0.00            1000             UK              3.25   \n1           0.00            1000             UK              3.25   \n2           0.00            1000             UK              3.25   \n3          48.21             150            AUS              7.48   \n4           0.00            1000             UK              3.25   \n\n   sea_shipping_cost  \n0                4.5  \n1                4.5  \n2                1.0  \n3                1.0  \n4                1.0  ",
      "text/html": "<div>\n<style scoped>\n    .dataframe tbody tr th:only-of-type {\n        vertical-align: middle;\n    }\n\n    .dataframe tbody tr th {\n        vertical-align: top;\n    }\n\n    .dataframe thead th {\n        text-align: right;\n    }\n</style>\n<table border=\"1\" class=\"dataframe\">\n  <thead>\n    <tr style=\"text-align: right;\">\n      <th></th>\n      <th>ISBN</th>\n      <th>Supplier</th>\n      <th>Publisher</th>\n      <th>Currency</th>\n      <th>ListPrice</th>\n      <th>Discount</th>\n      <th>CostUnitPrice</th>\n      <th>MaxQtyPerOrder</th>\n      <th>ShipmentOrigin</th>\n      <th>UnitShippingCost</th>\n      <th>sea_shipping_cost</th>\n    </tr>\n  </thead>\n  <tbody>\n    <tr>\n      <th>0</th>\n      <td>9781138161184</td>\n      <td>Rajan</td>\n      <td>T&amp;F</td>\n      <td>GBP</td>\n      <td>120.00</td>\n      <td>0.53</td>\n      <td>0.00</td>\n      <td>1000</td>\n      <td>UK</td>\n      <td>3.25</td>\n      <td>4.5</td>\n    </tr>\n    <tr>\n      <th>1</th>\n      <td>9781138161320</td>\n      <td>Rajan</td>\n      <td>T&amp;F</td>\n      <td>GBP</td>\n      <td>105.00</td>\n      <td>0.53</td>\n      <td>0.00</td>\n      <td>1000</td>\n      <td>UK</td>\n      <td>3.25</td>\n      <td>4.5</td>\n    </tr>\n    <tr>\n      <th>2</th>\n      <td>9780128054185</td>\n      <td>Alek</td>\n      <td>ELSEVIER</td>\n      <td>EUR</td>\n      <td>28.95</td>\n      <td>0.51</td>\n      <td>0.00</td>\n      <td>1000</td>\n      <td>UK</td>\n      <td>3.25</td>\n      <td>1.0</td>\n    </tr>\n    <tr>\n      <th>3</th>\n      <td>9780521697767</td>\n      <td>Zookal</td>\n      <td>Cambridge</td>\n      <td>AUD</td>\n      <td>0.00</td>\n      <td>0.00</td>\n      <td>48.21</td>\n      <td>150</td>\n      <td>AUS</td>\n      <td>7.48</td>\n      <td>1.0</td>\n    </tr>\n    <tr>\n      <th>4</th>\n      <td>9780128054208</td>\n      <td>Alek</td>\n      <td>ELSEVIER</td>\n      <td>EUR</td>\n      <td>143.00</td>\n      <td>0.51</td>\n      <td>0.00</td>\n      <td>1000</td>\n      <td>UK</td>\n      <td>3.25</td>\n      <td>1.0</td>\n    </tr>\n  </tbody>\n</table>\n</div>"
     },
     "metadata": {},
     "execution_count": 10
    }
   ],
   "source": [
    "megalist = pd.read_sql(megalist_sql,proc_db)\n",
    "megalist.head()"
   ]
  },
  {
   "cell_type": "code",
   "execution_count": 11,
   "metadata": {},
   "outputs": [
    {
     "output_type": "execute_result",
     "data": {
      "text/plain": "            isbn supplier  publisher currency  listprice  discount  \\\n0  9781138161184    RAJAN        T&F      GBP     120.00      0.53   \n1  9781138161320    RAJAN        T&F      GBP     105.00      0.53   \n2  9780128054185     ALEK   ELSEVIER      EUR      28.95      0.51   \n3  9780521697767   ZOOKAL  CAMBRIDGE      AUD       0.00      0.00   \n4  9780128054208     ALEK   ELSEVIER      EUR     143.00      0.51   \n\n   costunitprice  maxqtyperorder shipmentorigin  unitshippingcost  \\\n0           0.00            1000             UK              3.25   \n1           0.00            1000             UK              3.25   \n2           0.00            1000             UK              3.25   \n3          48.21             150            AUS              7.48   \n4           0.00            1000             UK              3.25   \n\n  sea_shipping_cost  \n0               4.5  \n1               4.5  \n2                 1  \n3                 1  \n4                 1  ",
      "text/html": "<div>\n<style scoped>\n    .dataframe tbody tr th:only-of-type {\n        vertical-align: middle;\n    }\n\n    .dataframe tbody tr th {\n        vertical-align: top;\n    }\n\n    .dataframe thead th {\n        text-align: right;\n    }\n</style>\n<table border=\"1\" class=\"dataframe\">\n  <thead>\n    <tr style=\"text-align: right;\">\n      <th></th>\n      <th>isbn</th>\n      <th>supplier</th>\n      <th>publisher</th>\n      <th>currency</th>\n      <th>listprice</th>\n      <th>discount</th>\n      <th>costunitprice</th>\n      <th>maxqtyperorder</th>\n      <th>shipmentorigin</th>\n      <th>unitshippingcost</th>\n      <th>sea_shipping_cost</th>\n    </tr>\n  </thead>\n  <tbody>\n    <tr>\n      <th>0</th>\n      <td>9781138161184</td>\n      <td>RAJAN</td>\n      <td>T&amp;F</td>\n      <td>GBP</td>\n      <td>120.00</td>\n      <td>0.53</td>\n      <td>0.00</td>\n      <td>1000</td>\n      <td>UK</td>\n      <td>3.25</td>\n      <td>4.5</td>\n    </tr>\n    <tr>\n      <th>1</th>\n      <td>9781138161320</td>\n      <td>RAJAN</td>\n      <td>T&amp;F</td>\n      <td>GBP</td>\n      <td>105.00</td>\n      <td>0.53</td>\n      <td>0.00</td>\n      <td>1000</td>\n      <td>UK</td>\n      <td>3.25</td>\n      <td>4.5</td>\n    </tr>\n    <tr>\n      <th>2</th>\n      <td>9780128054185</td>\n      <td>ALEK</td>\n      <td>ELSEVIER</td>\n      <td>EUR</td>\n      <td>28.95</td>\n      <td>0.51</td>\n      <td>0.00</td>\n      <td>1000</td>\n      <td>UK</td>\n      <td>3.25</td>\n      <td>1</td>\n    </tr>\n    <tr>\n      <th>3</th>\n      <td>9780521697767</td>\n      <td>ZOOKAL</td>\n      <td>CAMBRIDGE</td>\n      <td>AUD</td>\n      <td>0.00</td>\n      <td>0.00</td>\n      <td>48.21</td>\n      <td>150</td>\n      <td>AUS</td>\n      <td>7.48</td>\n      <td>1</td>\n    </tr>\n    <tr>\n      <th>4</th>\n      <td>9780128054208</td>\n      <td>ALEK</td>\n      <td>ELSEVIER</td>\n      <td>EUR</td>\n      <td>143.00</td>\n      <td>0.51</td>\n      <td>0.00</td>\n      <td>1000</td>\n      <td>UK</td>\n      <td>3.25</td>\n      <td>1</td>\n    </tr>\n  </tbody>\n</table>\n</div>"
     },
     "metadata": {},
     "execution_count": 11
    }
   ],
   "source": [
    "megalist.columns = map(str.lower, megalist.columns)\n",
    "megalist = megalist.fillna('N/A')\n",
    "megalist['isbn'] = megalist['isbn'].astype(str)\n",
    "for col in ['isbn', 'supplier', 'publisher', 'currency', 'shipmentorigin']:\n",
    "    megalist[col] = megalist.apply(lambda x: clean_up(x[col]), axis =1)\n",
    "megalist.head()"
   ]
  },
  {
   "cell_type": "code",
   "execution_count": 12,
   "metadata": {},
   "outputs": [
    {
     "output_type": "execute_result",
     "data": {
      "text/plain": "            isbn supplier publisher_x currency  listprice  discount  \\\n0  9781138161184    RAJAN         T&F      GBP     120.00      0.53   \n1  9781138161320    RAJAN         T&F      GBP     105.00      0.53   \n2  9780128054185     ALEK    ELSEVIER      EUR      28.95      0.51   \n3  9780521697767   ZOOKAL   CAMBRIDGE      AUD       0.00      0.00   \n4  9780128054208     ALEK    ELSEVIER      EUR     143.00      0.51   \n\n   costunitprice  maxqtyperorder shipmentorigin  unitshippingcost  \\\n0           0.00            1000             UK              3.25   \n1           0.00            1000             UK              3.25   \n2           0.00            1000             UK              3.25   \n3          48.21             150            AUS              7.48   \n4           0.00            1000             UK              3.25   \n\n  sea_shipping_cost                                              title  \\\n0               4.5                                                N/A   \n1               4.5                                                N/A   \n2                 1  PRESENTING AN EFFECTIVE AND DYNAMIC TECHNICAL ...   \n3                 1                                                N/A   \n4                 1                                                N/A   \n\n        publisher_y author               pub  \n0               T&F    N/A               T&F  \n1               T&F    N/A               T&F  \n2          ELSEVIER    N/A          ELSEVIER  \n3  UNIVERSITY PRESS    N/A  UNIVERSITY PRESS  \n4          ELSEVIER    N/A          ELSEVIER  ",
      "text/html": "<div>\n<style scoped>\n    .dataframe tbody tr th:only-of-type {\n        vertical-align: middle;\n    }\n\n    .dataframe tbody tr th {\n        vertical-align: top;\n    }\n\n    .dataframe thead th {\n        text-align: right;\n    }\n</style>\n<table border=\"1\" class=\"dataframe\">\n  <thead>\n    <tr style=\"text-align: right;\">\n      <th></th>\n      <th>isbn</th>\n      <th>supplier</th>\n      <th>publisher_x</th>\n      <th>currency</th>\n      <th>listprice</th>\n      <th>discount</th>\n      <th>costunitprice</th>\n      <th>maxqtyperorder</th>\n      <th>shipmentorigin</th>\n      <th>unitshippingcost</th>\n      <th>sea_shipping_cost</th>\n      <th>title</th>\n      <th>publisher_y</th>\n      <th>author</th>\n      <th>pub</th>\n    </tr>\n  </thead>\n  <tbody>\n    <tr>\n      <th>0</th>\n      <td>9781138161184</td>\n      <td>RAJAN</td>\n      <td>T&amp;F</td>\n      <td>GBP</td>\n      <td>120.00</td>\n      <td>0.53</td>\n      <td>0.00</td>\n      <td>1000</td>\n      <td>UK</td>\n      <td>3.25</td>\n      <td>4.5</td>\n      <td>N/A</td>\n      <td>T&amp;F</td>\n      <td>N/A</td>\n      <td>T&amp;F</td>\n    </tr>\n    <tr>\n      <th>1</th>\n      <td>9781138161320</td>\n      <td>RAJAN</td>\n      <td>T&amp;F</td>\n      <td>GBP</td>\n      <td>105.00</td>\n      <td>0.53</td>\n      <td>0.00</td>\n      <td>1000</td>\n      <td>UK</td>\n      <td>3.25</td>\n      <td>4.5</td>\n      <td>N/A</td>\n      <td>T&amp;F</td>\n      <td>N/A</td>\n      <td>T&amp;F</td>\n    </tr>\n    <tr>\n      <th>2</th>\n      <td>9780128054185</td>\n      <td>ALEK</td>\n      <td>ELSEVIER</td>\n      <td>EUR</td>\n      <td>28.95</td>\n      <td>0.51</td>\n      <td>0.00</td>\n      <td>1000</td>\n      <td>UK</td>\n      <td>3.25</td>\n      <td>1</td>\n      <td>PRESENTING AN EFFECTIVE AND DYNAMIC TECHNICAL ...</td>\n      <td>ELSEVIER</td>\n      <td>N/A</td>\n      <td>ELSEVIER</td>\n    </tr>\n    <tr>\n      <th>3</th>\n      <td>9780521697767</td>\n      <td>ZOOKAL</td>\n      <td>CAMBRIDGE</td>\n      <td>AUD</td>\n      <td>0.00</td>\n      <td>0.00</td>\n      <td>48.21</td>\n      <td>150</td>\n      <td>AUS</td>\n      <td>7.48</td>\n      <td>1</td>\n      <td>N/A</td>\n      <td>UNIVERSITY PRESS</td>\n      <td>N/A</td>\n      <td>UNIVERSITY PRESS</td>\n    </tr>\n    <tr>\n      <th>4</th>\n      <td>9780128054208</td>\n      <td>ALEK</td>\n      <td>ELSEVIER</td>\n      <td>EUR</td>\n      <td>143.00</td>\n      <td>0.51</td>\n      <td>0.00</td>\n      <td>1000</td>\n      <td>UK</td>\n      <td>3.25</td>\n      <td>1</td>\n      <td>N/A</td>\n      <td>ELSEVIER</td>\n      <td>N/A</td>\n      <td>ELSEVIER</td>\n    </tr>\n  </tbody>\n</table>\n</div>"
     },
     "metadata": {},
     "execution_count": 12
    }
   ],
   "source": [
    "megalist_pub = pd.merge(megalist, biblio2, how='left', on = 'isbn' )\n",
    "megalist_pub.head()"
   ]
  },
  {
   "cell_type": "code",
   "execution_count": 13,
   "metadata": {},
   "outputs": [
    {
     "output_type": "execute_result",
     "data": {
      "text/plain": "            isbn                                              title  \\\n0  9781138161184                                                N/A   \n1  9781138161320                                                N/A   \n2  9780128054185  PRESENTING AN EFFECTIVE AND DYNAMIC TECHNICAL ...   \n3  9780521697767                                                N/A   \n4  9780128054208                                                N/A   \n\n                pub author supplier currency   price  discount  shipping_cost  \\\n0               T&F    N/A    RAJAN      GBP  120.00      0.53           3.25   \n1               T&F    N/A    RAJAN      GBP  105.00      0.53           3.25   \n2          ELSEVIER    N/A     ALEK      EUR   28.95      0.51           3.25   \n3  UNIVERSITY PRESS    N/A   ZOOKAL      AUD   48.21      0.00           7.48   \n4          ELSEVIER    N/A     ALEK      EUR  143.00      0.51           3.25   \n\n  sea_shipping_cost  max_qty origin  \n0               4.5     1000     UK  \n1               4.5     1000     UK  \n2                 1     1000     UK  \n3                 1      150    AUS  \n4                 1     1000     UK  ",
      "text/html": "<div>\n<style scoped>\n    .dataframe tbody tr th:only-of-type {\n        vertical-align: middle;\n    }\n\n    .dataframe tbody tr th {\n        vertical-align: top;\n    }\n\n    .dataframe thead th {\n        text-align: right;\n    }\n</style>\n<table border=\"1\" class=\"dataframe\">\n  <thead>\n    <tr style=\"text-align: right;\">\n      <th></th>\n      <th>isbn</th>\n      <th>title</th>\n      <th>pub</th>\n      <th>author</th>\n      <th>supplier</th>\n      <th>currency</th>\n      <th>price</th>\n      <th>discount</th>\n      <th>shipping_cost</th>\n      <th>sea_shipping_cost</th>\n      <th>max_qty</th>\n      <th>origin</th>\n    </tr>\n  </thead>\n  <tbody>\n    <tr>\n      <th>0</th>\n      <td>9781138161184</td>\n      <td>N/A</td>\n      <td>T&amp;F</td>\n      <td>N/A</td>\n      <td>RAJAN</td>\n      <td>GBP</td>\n      <td>120.00</td>\n      <td>0.53</td>\n      <td>3.25</td>\n      <td>4.5</td>\n      <td>1000</td>\n      <td>UK</td>\n    </tr>\n    <tr>\n      <th>1</th>\n      <td>9781138161320</td>\n      <td>N/A</td>\n      <td>T&amp;F</td>\n      <td>N/A</td>\n      <td>RAJAN</td>\n      <td>GBP</td>\n      <td>105.00</td>\n      <td>0.53</td>\n      <td>3.25</td>\n      <td>4.5</td>\n      <td>1000</td>\n      <td>UK</td>\n    </tr>\n    <tr>\n      <th>2</th>\n      <td>9780128054185</td>\n      <td>PRESENTING AN EFFECTIVE AND DYNAMIC TECHNICAL ...</td>\n      <td>ELSEVIER</td>\n      <td>N/A</td>\n      <td>ALEK</td>\n      <td>EUR</td>\n      <td>28.95</td>\n      <td>0.51</td>\n      <td>3.25</td>\n      <td>1</td>\n      <td>1000</td>\n      <td>UK</td>\n    </tr>\n    <tr>\n      <th>3</th>\n      <td>9780521697767</td>\n      <td>N/A</td>\n      <td>UNIVERSITY PRESS</td>\n      <td>N/A</td>\n      <td>ZOOKAL</td>\n      <td>AUD</td>\n      <td>48.21</td>\n      <td>0.00</td>\n      <td>7.48</td>\n      <td>1</td>\n      <td>150</td>\n      <td>AUS</td>\n    </tr>\n    <tr>\n      <th>4</th>\n      <td>9780128054208</td>\n      <td>N/A</td>\n      <td>ELSEVIER</td>\n      <td>N/A</td>\n      <td>ALEK</td>\n      <td>EUR</td>\n      <td>143.00</td>\n      <td>0.51</td>\n      <td>3.25</td>\n      <td>1</td>\n      <td>1000</td>\n      <td>UK</td>\n    </tr>\n  </tbody>\n</table>\n</div>"
     },
     "metadata": {},
     "execution_count": 13
    }
   ],
   "source": [
    "#cleaning pub name\n",
    "megalist_pub['pub'] = np.where(\n",
    "    megalist_pub['pub'] == 'N/A'\n",
    "    , megalist_pub['publisher_x']\n",
    "    , megalist_pub['pub'])\n",
    "    \n",
    "# centralizing price in one column\n",
    "megalist_pub['price'] = np.where(megalist_pub['listprice'] == 0.00, megalist_pub['costunitprice'], megalist_pub['listprice'])\n",
    "\n",
    "#clean column names\n",
    "megalist_pub.rename(columns={'unitshippingcost': 'shipping_cost', 'maxqtyperorder': 'max_qty', 'shipmentorigin': 'origin'}, inplace = True)\n",
    "\n",
    "#Arrange columns and drop unnecessary columns\n",
    "\n",
    "megalist_pub = megalist_pub[['isbn', 'title', 'pub', 'author', 'supplier', 'currency', 'price', 'discount', 'shipping_cost','sea_shipping_cost', 'max_qty', 'origin']]\n",
    "\n",
    "megalist_pub.head()"
   ]
  },
  {
   "cell_type": "markdown",
   "metadata": {},
   "source": [
    "### 4.3 Import all_lp and clean it"
   ]
  },
  {
   "cell_type": "code",
   "execution_count": 14,
   "metadata": {},
   "outputs": [
    {
     "output_type": "execute_result",
     "data": {
      "text/plain": "            Isbn Currency  Price\n0  9789633861745     GBP   18.99\n1  9789633861851     GBP   48.00\n2  9789633863121     GBP   62.00\n3  9789633863237     GBP   47.00\n4  9789633863275     GBP   23.99",
      "text/html": "<div>\n<style scoped>\n    .dataframe tbody tr th:only-of-type {\n        vertical-align: middle;\n    }\n\n    .dataframe tbody tr th {\n        vertical-align: top;\n    }\n\n    .dataframe thead th {\n        text-align: right;\n    }\n</style>\n<table border=\"1\" class=\"dataframe\">\n  <thead>\n    <tr style=\"text-align: right;\">\n      <th></th>\n      <th>Isbn</th>\n      <th>Currency</th>\n      <th>Price</th>\n    </tr>\n  </thead>\n  <tbody>\n    <tr>\n      <th>0</th>\n      <td>9789633861745</td>\n      <td>GBP</td>\n      <td>18.99</td>\n    </tr>\n    <tr>\n      <th>1</th>\n      <td>9789633861851</td>\n      <td>GBP</td>\n      <td>48.00</td>\n    </tr>\n    <tr>\n      <th>2</th>\n      <td>9789633863121</td>\n      <td>GBP</td>\n      <td>62.00</td>\n    </tr>\n    <tr>\n      <th>3</th>\n      <td>9789633863237</td>\n      <td>GBP</td>\n      <td>47.00</td>\n    </tr>\n    <tr>\n      <th>4</th>\n      <td>9789633863275</td>\n      <td>GBP</td>\n      <td>23.99</td>\n    </tr>\n  </tbody>\n</table>\n</div>"
     },
     "metadata": {},
     "execution_count": 14
    }
   ],
   "source": [
    "all_lp = pd.read_sql(all_lp, prod_db)\n",
    "all_lp.head()"
   ]
  },
  {
   "cell_type": "code",
   "execution_count": 15,
   "metadata": {},
   "outputs": [
    {
     "output_type": "execute_result",
     "data": {
      "text/plain": "            isbn currency  price\n0  9789633861745      GBP  18.99\n1  9789633861851      GBP  48.00\n2  9789633863121      GBP  62.00\n3  9789633863237      GBP  47.00\n4  9789633863275      GBP  23.99",
      "text/html": "<div>\n<style scoped>\n    .dataframe tbody tr th:only-of-type {\n        vertical-align: middle;\n    }\n\n    .dataframe tbody tr th {\n        vertical-align: top;\n    }\n\n    .dataframe thead th {\n        text-align: right;\n    }\n</style>\n<table border=\"1\" class=\"dataframe\">\n  <thead>\n    <tr style=\"text-align: right;\">\n      <th></th>\n      <th>isbn</th>\n      <th>currency</th>\n      <th>price</th>\n    </tr>\n  </thead>\n  <tbody>\n    <tr>\n      <th>0</th>\n      <td>9789633861745</td>\n      <td>GBP</td>\n      <td>18.99</td>\n    </tr>\n    <tr>\n      <th>1</th>\n      <td>9789633861851</td>\n      <td>GBP</td>\n      <td>48.00</td>\n    </tr>\n    <tr>\n      <th>2</th>\n      <td>9789633863121</td>\n      <td>GBP</td>\n      <td>62.00</td>\n    </tr>\n    <tr>\n      <th>3</th>\n      <td>9789633863237</td>\n      <td>GBP</td>\n      <td>47.00</td>\n    </tr>\n    <tr>\n      <th>4</th>\n      <td>9789633863275</td>\n      <td>GBP</td>\n      <td>23.99</td>\n    </tr>\n  </tbody>\n</table>\n</div>"
     },
     "metadata": {},
     "execution_count": 15
    }
   ],
   "source": [
    "all_lp.columns = map(str.lower, all_lp.columns)\n",
    "all_lp = all_lp.fillna('N/A')\n",
    "all_lp['isbn'] = all_lp['isbn'].astype(str)\n",
    "for col in ['isbn','currency']:\n",
    "    all_lp[col] = all_lp.apply(lambda x: clean_up(x[col]), axis =1)\n",
    "\n",
    "all_lp.head()"
   ]
  },
  {
   "cell_type": "markdown",
   "metadata": {},
   "source": [
    "#### 4.3.1 Get biblio with LP"
   ]
  },
  {
   "cell_type": "code",
   "execution_count": 16,
   "metadata": {},
   "outputs": [
    {
     "output_type": "execute_result",
     "data": {
      "text/plain": "            isbn currency  price                                title  \\\n0  9789633861745      GBP  18.99                       HOW THEY LIVED   \n1  9789633861851      GBP  48.00      EXPANDING INTELLECTUAL PROPERTY   \n2  9789633863121      GBP  62.00              PSYCHOLOGY AND POLITICS   \n3  9789633863237      GBP  47.00  LVIV - WROCLAW, CITIES IN PARALLEL?   \n4  9789633863275      GBP  23.99         THREE CS OF HIGHER EDUCATION   \n\n  publisher author  \n0       N/A    N/A  \n1       N/A    N/A  \n2       N/A    N/A  \n3       N/A    N/A  \n4       N/A    N/A  ",
      "text/html": "<div>\n<style scoped>\n    .dataframe tbody tr th:only-of-type {\n        vertical-align: middle;\n    }\n\n    .dataframe tbody tr th {\n        vertical-align: top;\n    }\n\n    .dataframe thead th {\n        text-align: right;\n    }\n</style>\n<table border=\"1\" class=\"dataframe\">\n  <thead>\n    <tr style=\"text-align: right;\">\n      <th></th>\n      <th>isbn</th>\n      <th>currency</th>\n      <th>price</th>\n      <th>title</th>\n      <th>publisher</th>\n      <th>author</th>\n    </tr>\n  </thead>\n  <tbody>\n    <tr>\n      <th>0</th>\n      <td>9789633861745</td>\n      <td>GBP</td>\n      <td>18.99</td>\n      <td>HOW THEY LIVED</td>\n      <td>N/A</td>\n      <td>N/A</td>\n    </tr>\n    <tr>\n      <th>1</th>\n      <td>9789633861851</td>\n      <td>GBP</td>\n      <td>48.00</td>\n      <td>EXPANDING INTELLECTUAL PROPERTY</td>\n      <td>N/A</td>\n      <td>N/A</td>\n    </tr>\n    <tr>\n      <th>2</th>\n      <td>9789633863121</td>\n      <td>GBP</td>\n      <td>62.00</td>\n      <td>PSYCHOLOGY AND POLITICS</td>\n      <td>N/A</td>\n      <td>N/A</td>\n    </tr>\n    <tr>\n      <th>3</th>\n      <td>9789633863237</td>\n      <td>GBP</td>\n      <td>47.00</td>\n      <td>LVIV - WROCLAW, CITIES IN PARALLEL?</td>\n      <td>N/A</td>\n      <td>N/A</td>\n    </tr>\n    <tr>\n      <th>4</th>\n      <td>9789633863275</td>\n      <td>GBP</td>\n      <td>23.99</td>\n      <td>THREE CS OF HIGHER EDUCATION</td>\n      <td>N/A</td>\n      <td>N/A</td>\n    </tr>\n  </tbody>\n</table>\n</div>"
     },
     "metadata": {},
     "execution_count": 16
    }
   ],
   "source": [
    "biblio_lp = pd.merge(all_lp, biblio2, how='left', on = 'isbn' )\n",
    "biblio_lp.drop(columns = ['pub'], inplace = True)\n",
    "biblio_lp.head()"
   ]
  },
  {
   "cell_type": "markdown",
   "metadata": {},
   "source": [
    "### 4.4 Import Sup_by_pub and clean it"
   ]
  },
  {
   "cell_type": "code",
   "execution_count": 17,
   "metadata": {},
   "outputs": [
    {
     "output_type": "execute_result",
     "data": {
      "text/plain": "  Supplier        Publisher Currency  Discount  Shipping Cost  max quantity  \\\n0   COINFO         3D TOTAL      AUD      0.22           7.48         10000   \n1   COINFO         ABC CLIO      AUD      0.30           7.48         10000   \n2   COINFO             AIAA      AUD      0.30           7.48         10000   \n3   COINFO    ALIEN & UNWIN      AUD      0.30           7.48         10000   \n4   COINFO  Amer Psych Ass.      AUD      0.33           7.48         10000   \n\n   Min ShipmentOrigin  Shipping Cost Sea  \n0    0            AUS                1.0  \n1    0            AUS                1.0  \n2    0            AUS                1.0  \n3    0            AUS                1.0  \n4    0            AUS                1.0  ",
      "text/html": "<div>\n<style scoped>\n    .dataframe tbody tr th:only-of-type {\n        vertical-align: middle;\n    }\n\n    .dataframe tbody tr th {\n        vertical-align: top;\n    }\n\n    .dataframe thead th {\n        text-align: right;\n    }\n</style>\n<table border=\"1\" class=\"dataframe\">\n  <thead>\n    <tr style=\"text-align: right;\">\n      <th></th>\n      <th>Supplier</th>\n      <th>Publisher</th>\n      <th>Currency</th>\n      <th>Discount</th>\n      <th>Shipping Cost</th>\n      <th>max quantity</th>\n      <th>Min</th>\n      <th>ShipmentOrigin</th>\n      <th>Shipping Cost Sea</th>\n    </tr>\n  </thead>\n  <tbody>\n    <tr>\n      <th>0</th>\n      <td>COINFO</td>\n      <td>3D TOTAL</td>\n      <td>AUD</td>\n      <td>0.22</td>\n      <td>7.48</td>\n      <td>10000</td>\n      <td>0</td>\n      <td>AUS</td>\n      <td>1.0</td>\n    </tr>\n    <tr>\n      <th>1</th>\n      <td>COINFO</td>\n      <td>ABC CLIO</td>\n      <td>AUD</td>\n      <td>0.30</td>\n      <td>7.48</td>\n      <td>10000</td>\n      <td>0</td>\n      <td>AUS</td>\n      <td>1.0</td>\n    </tr>\n    <tr>\n      <th>2</th>\n      <td>COINFO</td>\n      <td>AIAA</td>\n      <td>AUD</td>\n      <td>0.30</td>\n      <td>7.48</td>\n      <td>10000</td>\n      <td>0</td>\n      <td>AUS</td>\n      <td>1.0</td>\n    </tr>\n    <tr>\n      <th>3</th>\n      <td>COINFO</td>\n      <td>ALIEN &amp; UNWIN</td>\n      <td>AUD</td>\n      <td>0.30</td>\n      <td>7.48</td>\n      <td>10000</td>\n      <td>0</td>\n      <td>AUS</td>\n      <td>1.0</td>\n    </tr>\n    <tr>\n      <th>4</th>\n      <td>COINFO</td>\n      <td>Amer Psych Ass.</td>\n      <td>AUD</td>\n      <td>0.33</td>\n      <td>7.48</td>\n      <td>10000</td>\n      <td>0</td>\n      <td>AUS</td>\n      <td>1.0</td>\n    </tr>\n  </tbody>\n</table>\n</div>"
     },
     "metadata": {},
     "execution_count": 17
    }
   ],
   "source": [
    "sup_pub = pd.read_excel('../../../../Vendors/.  Vendors Details\\supplier_procurement_details.xlsx',  sheet_name='pub')\n",
    "sup_pub.head()"
   ]
  },
  {
   "cell_type": "code",
   "execution_count": 18,
   "metadata": {},
   "outputs": [
    {
     "output_type": "execute_result",
     "data": {
      "text/plain": "  supplier        publisher currency  discount  shipping cost  max quantity  \\\n0   COINFO         3D TOTAL      AUD      0.22           7.48         10000   \n1   COINFO         ABC CLIO      AUD      0.30           7.48         10000   \n2   COINFO             AIAA      AUD      0.30           7.48         10000   \n3   COINFO    ALIEN & UNWIN      AUD      0.30           7.48         10000   \n4   COINFO  AMER PSYCH ASS.      AUD      0.33           7.48         10000   \n\n   min shipmentorigin shipping cost sea  \n0    0            AUS                 1  \n1    0            AUS                 1  \n2    0            AUS                 1  \n3    0            AUS                 1  \n4    0            AUS                 1  ",
      "text/html": "<div>\n<style scoped>\n    .dataframe tbody tr th:only-of-type {\n        vertical-align: middle;\n    }\n\n    .dataframe tbody tr th {\n        vertical-align: top;\n    }\n\n    .dataframe thead th {\n        text-align: right;\n    }\n</style>\n<table border=\"1\" class=\"dataframe\">\n  <thead>\n    <tr style=\"text-align: right;\">\n      <th></th>\n      <th>supplier</th>\n      <th>publisher</th>\n      <th>currency</th>\n      <th>discount</th>\n      <th>shipping cost</th>\n      <th>max quantity</th>\n      <th>min</th>\n      <th>shipmentorigin</th>\n      <th>shipping cost sea</th>\n    </tr>\n  </thead>\n  <tbody>\n    <tr>\n      <th>0</th>\n      <td>COINFO</td>\n      <td>3D TOTAL</td>\n      <td>AUD</td>\n      <td>0.22</td>\n      <td>7.48</td>\n      <td>10000</td>\n      <td>0</td>\n      <td>AUS</td>\n      <td>1</td>\n    </tr>\n    <tr>\n      <th>1</th>\n      <td>COINFO</td>\n      <td>ABC CLIO</td>\n      <td>AUD</td>\n      <td>0.30</td>\n      <td>7.48</td>\n      <td>10000</td>\n      <td>0</td>\n      <td>AUS</td>\n      <td>1</td>\n    </tr>\n    <tr>\n      <th>2</th>\n      <td>COINFO</td>\n      <td>AIAA</td>\n      <td>AUD</td>\n      <td>0.30</td>\n      <td>7.48</td>\n      <td>10000</td>\n      <td>0</td>\n      <td>AUS</td>\n      <td>1</td>\n    </tr>\n    <tr>\n      <th>3</th>\n      <td>COINFO</td>\n      <td>ALIEN &amp; UNWIN</td>\n      <td>AUD</td>\n      <td>0.30</td>\n      <td>7.48</td>\n      <td>10000</td>\n      <td>0</td>\n      <td>AUS</td>\n      <td>1</td>\n    </tr>\n    <tr>\n      <th>4</th>\n      <td>COINFO</td>\n      <td>AMER PSYCH ASS.</td>\n      <td>AUD</td>\n      <td>0.33</td>\n      <td>7.48</td>\n      <td>10000</td>\n      <td>0</td>\n      <td>AUS</td>\n      <td>1</td>\n    </tr>\n  </tbody>\n</table>\n</div>"
     },
     "metadata": {},
     "execution_count": 18
    }
   ],
   "source": [
    "sup_pub.columns = map(str.lower, sup_pub.columns)\n",
    "sup_pub = sup_pub.fillna('N/A')\n",
    "for col in ['supplier','publisher', 'currency', 'shipmentorigin']:\n",
    "    sup_pub[col] = sup_pub.apply(lambda x: clean_up(x[col]), axis =1)\n",
    "sup_pub.head()"
   ]
  },
  {
   "cell_type": "markdown",
   "metadata": {},
   "source": [
    "#### 4.4.1 Merge Supplier by Publisher with biblio"
   ]
  },
  {
   "cell_type": "code",
   "execution_count": 19,
   "metadata": {},
   "outputs": [
    {
     "output_type": "execute_result",
     "data": {
      "text/plain": "            isbn currency   price      title publisher author supplier  \\\n0  9789652870001      GBP   90.00        N/A       T&F    N/A      ABE   \n1  9789814774017      GBP  116.00        N/A       T&F    N/A      ABE   \n2  9789814774086      GBP   31.99  CHEMISTRY       T&F    N/A      ABE   \n3  9789814774109      GBP   95.00        N/A       T&F    N/A      ABE   \n4  9789814774178      GBP   28.99        N/A       T&F    N/A      ABE   \n\n   discount  shipping cost  max quantity  min shipmentorigin shipping cost sea  \n0      0.35           3.25         10000    0             UK                 1  \n1      0.35           3.25         10000    0             UK                 1  \n2      0.35           3.25         10000    0             UK                 1  \n3      0.35           3.25         10000    0             UK                 1  \n4      0.35           3.25         10000    0             UK                 1  ",
      "text/html": "<div>\n<style scoped>\n    .dataframe tbody tr th:only-of-type {\n        vertical-align: middle;\n    }\n\n    .dataframe tbody tr th {\n        vertical-align: top;\n    }\n\n    .dataframe thead th {\n        text-align: right;\n    }\n</style>\n<table border=\"1\" class=\"dataframe\">\n  <thead>\n    <tr style=\"text-align: right;\">\n      <th></th>\n      <th>isbn</th>\n      <th>currency</th>\n      <th>price</th>\n      <th>title</th>\n      <th>publisher</th>\n      <th>author</th>\n      <th>supplier</th>\n      <th>discount</th>\n      <th>shipping cost</th>\n      <th>max quantity</th>\n      <th>min</th>\n      <th>shipmentorigin</th>\n      <th>shipping cost sea</th>\n    </tr>\n  </thead>\n  <tbody>\n    <tr>\n      <th>0</th>\n      <td>9789652870001</td>\n      <td>GBP</td>\n      <td>90.00</td>\n      <td>N/A</td>\n      <td>T&amp;F</td>\n      <td>N/A</td>\n      <td>ABE</td>\n      <td>0.35</td>\n      <td>3.25</td>\n      <td>10000</td>\n      <td>0</td>\n      <td>UK</td>\n      <td>1</td>\n    </tr>\n    <tr>\n      <th>1</th>\n      <td>9789814774017</td>\n      <td>GBP</td>\n      <td>116.00</td>\n      <td>N/A</td>\n      <td>T&amp;F</td>\n      <td>N/A</td>\n      <td>ABE</td>\n      <td>0.35</td>\n      <td>3.25</td>\n      <td>10000</td>\n      <td>0</td>\n      <td>UK</td>\n      <td>1</td>\n    </tr>\n    <tr>\n      <th>2</th>\n      <td>9789814774086</td>\n      <td>GBP</td>\n      <td>31.99</td>\n      <td>CHEMISTRY</td>\n      <td>T&amp;F</td>\n      <td>N/A</td>\n      <td>ABE</td>\n      <td>0.35</td>\n      <td>3.25</td>\n      <td>10000</td>\n      <td>0</td>\n      <td>UK</td>\n      <td>1</td>\n    </tr>\n    <tr>\n      <th>3</th>\n      <td>9789814774109</td>\n      <td>GBP</td>\n      <td>95.00</td>\n      <td>N/A</td>\n      <td>T&amp;F</td>\n      <td>N/A</td>\n      <td>ABE</td>\n      <td>0.35</td>\n      <td>3.25</td>\n      <td>10000</td>\n      <td>0</td>\n      <td>UK</td>\n      <td>1</td>\n    </tr>\n    <tr>\n      <th>4</th>\n      <td>9789814774178</td>\n      <td>GBP</td>\n      <td>28.99</td>\n      <td>N/A</td>\n      <td>T&amp;F</td>\n      <td>N/A</td>\n      <td>ABE</td>\n      <td>0.35</td>\n      <td>3.25</td>\n      <td>10000</td>\n      <td>0</td>\n      <td>UK</td>\n      <td>1</td>\n    </tr>\n  </tbody>\n</table>\n</div>"
     },
     "metadata": {},
     "execution_count": 19
    }
   ],
   "source": [
    "sup_pub_biblio = pd.merge(biblio_lp, sup_pub, how='inner', left_on = ['currency', 'publisher'], right_on = ['currency', 'publisher'])\n",
    "sup_pub_biblio.head()"
   ]
  },
  {
   "cell_type": "code",
   "execution_count": 20,
   "metadata": {},
   "outputs": [
    {
     "output_type": "execute_result",
     "data": {
      "text/plain": "            isbn currency   price      title  pub author supplier  discount  \\\n0  9789652870001      GBP   90.00        N/A  T&F    N/A      ABE      0.35   \n1  9789814774017      GBP  116.00        N/A  T&F    N/A      ABE      0.35   \n2  9789814774086      GBP   31.99  CHEMISTRY  T&F    N/A      ABE      0.35   \n3  9789814774109      GBP   95.00        N/A  T&F    N/A      ABE      0.35   \n4  9789814774178      GBP   28.99        N/A  T&F    N/A      ABE      0.35   \n\n   shipping_cost  max_qty  min origin sea_shipping_cost  \n0           3.25    10000    0     UK                 1  \n1           3.25    10000    0     UK                 1  \n2           3.25    10000    0     UK                 1  \n3           3.25    10000    0     UK                 1  \n4           3.25    10000    0     UK                 1  ",
      "text/html": "<div>\n<style scoped>\n    .dataframe tbody tr th:only-of-type {\n        vertical-align: middle;\n    }\n\n    .dataframe tbody tr th {\n        vertical-align: top;\n    }\n\n    .dataframe thead th {\n        text-align: right;\n    }\n</style>\n<table border=\"1\" class=\"dataframe\">\n  <thead>\n    <tr style=\"text-align: right;\">\n      <th></th>\n      <th>isbn</th>\n      <th>currency</th>\n      <th>price</th>\n      <th>title</th>\n      <th>pub</th>\n      <th>author</th>\n      <th>supplier</th>\n      <th>discount</th>\n      <th>shipping_cost</th>\n      <th>max_qty</th>\n      <th>min</th>\n      <th>origin</th>\n      <th>sea_shipping_cost</th>\n    </tr>\n  </thead>\n  <tbody>\n    <tr>\n      <th>0</th>\n      <td>9789652870001</td>\n      <td>GBP</td>\n      <td>90.00</td>\n      <td>N/A</td>\n      <td>T&amp;F</td>\n      <td>N/A</td>\n      <td>ABE</td>\n      <td>0.35</td>\n      <td>3.25</td>\n      <td>10000</td>\n      <td>0</td>\n      <td>UK</td>\n      <td>1</td>\n    </tr>\n    <tr>\n      <th>1</th>\n      <td>9789814774017</td>\n      <td>GBP</td>\n      <td>116.00</td>\n      <td>N/A</td>\n      <td>T&amp;F</td>\n      <td>N/A</td>\n      <td>ABE</td>\n      <td>0.35</td>\n      <td>3.25</td>\n      <td>10000</td>\n      <td>0</td>\n      <td>UK</td>\n      <td>1</td>\n    </tr>\n    <tr>\n      <th>2</th>\n      <td>9789814774086</td>\n      <td>GBP</td>\n      <td>31.99</td>\n      <td>CHEMISTRY</td>\n      <td>T&amp;F</td>\n      <td>N/A</td>\n      <td>ABE</td>\n      <td>0.35</td>\n      <td>3.25</td>\n      <td>10000</td>\n      <td>0</td>\n      <td>UK</td>\n      <td>1</td>\n    </tr>\n    <tr>\n      <th>3</th>\n      <td>9789814774109</td>\n      <td>GBP</td>\n      <td>95.00</td>\n      <td>N/A</td>\n      <td>T&amp;F</td>\n      <td>N/A</td>\n      <td>ABE</td>\n      <td>0.35</td>\n      <td>3.25</td>\n      <td>10000</td>\n      <td>0</td>\n      <td>UK</td>\n      <td>1</td>\n    </tr>\n    <tr>\n      <th>4</th>\n      <td>9789814774178</td>\n      <td>GBP</td>\n      <td>28.99</td>\n      <td>N/A</td>\n      <td>T&amp;F</td>\n      <td>N/A</td>\n      <td>ABE</td>\n      <td>0.35</td>\n      <td>3.25</td>\n      <td>10000</td>\n      <td>0</td>\n      <td>UK</td>\n      <td>1</td>\n    </tr>\n  </tbody>\n</table>\n</div>"
     },
     "metadata": {},
     "execution_count": 20
    }
   ],
   "source": [
    "\n",
    "sup_pub_biblio.rename(columns={'publisher': 'pub','shipping cost': 'shipping_cost', 'max quantity': 'max_qty', 'shipmentorigin': 'origin', 'shipping cost sea' : 'sea_shipping_cost'}, inplace = True)\n",
    "\n",
    "sup_pub_biblio.head()"
   ]
  },
  {
   "cell_type": "markdown",
   "metadata": {},
   "source": [
    "#### 4.5 Import short_disc and clean it"
   ]
  },
  {
   "cell_type": "code",
   "execution_count": 21,
   "metadata": {},
   "outputs": [
    {
     "output_type": "execute_result",
     "data": {
      "text/plain": "  SUPPLIER           ISBN  DISCOUNT\n0      ABE  9781408041734       0.2\n1      ABE  9781408041918       0.2\n2      ABE  9781408056509       0.2\n3      ABE  9781408060377       0.2\n4      ABE  9780534944827       0.3",
      "text/html": "<div>\n<style scoped>\n    .dataframe tbody tr th:only-of-type {\n        vertical-align: middle;\n    }\n\n    .dataframe tbody tr th {\n        vertical-align: top;\n    }\n\n    .dataframe thead th {\n        text-align: right;\n    }\n</style>\n<table border=\"1\" class=\"dataframe\">\n  <thead>\n    <tr style=\"text-align: right;\">\n      <th></th>\n      <th>SUPPLIER</th>\n      <th>ISBN</th>\n      <th>DISCOUNT</th>\n    </tr>\n  </thead>\n  <tbody>\n    <tr>\n      <th>0</th>\n      <td>ABE</td>\n      <td>9781408041734</td>\n      <td>0.2</td>\n    </tr>\n    <tr>\n      <th>1</th>\n      <td>ABE</td>\n      <td>9781408041918</td>\n      <td>0.2</td>\n    </tr>\n    <tr>\n      <th>2</th>\n      <td>ABE</td>\n      <td>9781408056509</td>\n      <td>0.2</td>\n    </tr>\n    <tr>\n      <th>3</th>\n      <td>ABE</td>\n      <td>9781408060377</td>\n      <td>0.2</td>\n    </tr>\n    <tr>\n      <th>4</th>\n      <td>ABE</td>\n      <td>9780534944827</td>\n      <td>0.3</td>\n    </tr>\n  </tbody>\n</table>\n</div>"
     },
     "metadata": {},
     "execution_count": 21
    }
   ],
   "source": [
    "sp_disc = pd.read_excel(\"../../../../Vendors/. Short Discounted/all_short_discount_list.xlsx\")\n",
    "sp_disc.head()"
   ]
  },
  {
   "cell_type": "code",
   "execution_count": 22,
   "metadata": {},
   "outputs": [
    {
     "output_type": "execute_result",
     "data": {
      "text/plain": "  supplier           isbn  discount\n0      ABE  9781408041734       0.2\n1      ABE  9781408041918       0.2\n2      ABE  9781408056509       0.2\n3      ABE  9781408060377       0.2\n4      ABE  9780534944827       0.3",
      "text/html": "<div>\n<style scoped>\n    .dataframe tbody tr th:only-of-type {\n        vertical-align: middle;\n    }\n\n    .dataframe tbody tr th {\n        vertical-align: top;\n    }\n\n    .dataframe thead th {\n        text-align: right;\n    }\n</style>\n<table border=\"1\" class=\"dataframe\">\n  <thead>\n    <tr style=\"text-align: right;\">\n      <th></th>\n      <th>supplier</th>\n      <th>isbn</th>\n      <th>discount</th>\n    </tr>\n  </thead>\n  <tbody>\n    <tr>\n      <th>0</th>\n      <td>ABE</td>\n      <td>9781408041734</td>\n      <td>0.2</td>\n    </tr>\n    <tr>\n      <th>1</th>\n      <td>ABE</td>\n      <td>9781408041918</td>\n      <td>0.2</td>\n    </tr>\n    <tr>\n      <th>2</th>\n      <td>ABE</td>\n      <td>9781408056509</td>\n      <td>0.2</td>\n    </tr>\n    <tr>\n      <th>3</th>\n      <td>ABE</td>\n      <td>9781408060377</td>\n      <td>0.2</td>\n    </tr>\n    <tr>\n      <th>4</th>\n      <td>ABE</td>\n      <td>9780534944827</td>\n      <td>0.3</td>\n    </tr>\n  </tbody>\n</table>\n</div>"
     },
     "metadata": {},
     "execution_count": 22
    }
   ],
   "source": [
    "sp_disc.columns = map(str.lower, sp_disc.columns)\n",
    "sp_disc = sp_disc.fillna('N/A')\n",
    "sp_disc['isbn'] = sp_disc['isbn'].astype(str)\n",
    "for col in ['supplier', 'isbn']:\n",
    "    sp_disc[col] = sp_disc.apply(lambda x: clean_up(x[col]), axis =1)\n",
    "sp_disc.head()"
   ]
  },
  {
   "cell_type": "markdown",
   "metadata": {},
   "source": [
    "#### 4.5.1 Merge sup_pub_biblio by sp_disc with biblio"
   ]
  },
  {
   "cell_type": "code",
   "execution_count": 23,
   "metadata": {},
   "outputs": [
    {
     "output_type": "execute_result",
     "data": {
      "text/plain": "            isbn currency   price      title  pub author supplier  discount_x  \\\n0  9789652870001      GBP   90.00        N/A  T&F    N/A      ABE        0.35   \n1  9789814774017      GBP  116.00        N/A  T&F    N/A      ABE        0.35   \n2  9789814774086      GBP   31.99  CHEMISTRY  T&F    N/A      ABE        0.35   \n3  9789814774109      GBP   95.00        N/A  T&F    N/A      ABE        0.35   \n4  9789814774178      GBP   28.99        N/A  T&F    N/A      ABE        0.35   \n\n   shipping_cost  max_qty  min origin sea_shipping_cost  discount_y  \n0           3.25    10000    0     UK                 1         NaN  \n1           3.25    10000    0     UK                 1         NaN  \n2           3.25    10000    0     UK                 1         NaN  \n3           3.25    10000    0     UK                 1         NaN  \n4           3.25    10000    0     UK                 1         NaN  ",
      "text/html": "<div>\n<style scoped>\n    .dataframe tbody tr th:only-of-type {\n        vertical-align: middle;\n    }\n\n    .dataframe tbody tr th {\n        vertical-align: top;\n    }\n\n    .dataframe thead th {\n        text-align: right;\n    }\n</style>\n<table border=\"1\" class=\"dataframe\">\n  <thead>\n    <tr style=\"text-align: right;\">\n      <th></th>\n      <th>isbn</th>\n      <th>currency</th>\n      <th>price</th>\n      <th>title</th>\n      <th>pub</th>\n      <th>author</th>\n      <th>supplier</th>\n      <th>discount_x</th>\n      <th>shipping_cost</th>\n      <th>max_qty</th>\n      <th>min</th>\n      <th>origin</th>\n      <th>sea_shipping_cost</th>\n      <th>discount_y</th>\n    </tr>\n  </thead>\n  <tbody>\n    <tr>\n      <th>0</th>\n      <td>9789652870001</td>\n      <td>GBP</td>\n      <td>90.00</td>\n      <td>N/A</td>\n      <td>T&amp;F</td>\n      <td>N/A</td>\n      <td>ABE</td>\n      <td>0.35</td>\n      <td>3.25</td>\n      <td>10000</td>\n      <td>0</td>\n      <td>UK</td>\n      <td>1</td>\n      <td>NaN</td>\n    </tr>\n    <tr>\n      <th>1</th>\n      <td>9789814774017</td>\n      <td>GBP</td>\n      <td>116.00</td>\n      <td>N/A</td>\n      <td>T&amp;F</td>\n      <td>N/A</td>\n      <td>ABE</td>\n      <td>0.35</td>\n      <td>3.25</td>\n      <td>10000</td>\n      <td>0</td>\n      <td>UK</td>\n      <td>1</td>\n      <td>NaN</td>\n    </tr>\n    <tr>\n      <th>2</th>\n      <td>9789814774086</td>\n      <td>GBP</td>\n      <td>31.99</td>\n      <td>CHEMISTRY</td>\n      <td>T&amp;F</td>\n      <td>N/A</td>\n      <td>ABE</td>\n      <td>0.35</td>\n      <td>3.25</td>\n      <td>10000</td>\n      <td>0</td>\n      <td>UK</td>\n      <td>1</td>\n      <td>NaN</td>\n    </tr>\n    <tr>\n      <th>3</th>\n      <td>9789814774109</td>\n      <td>GBP</td>\n      <td>95.00</td>\n      <td>N/A</td>\n      <td>T&amp;F</td>\n      <td>N/A</td>\n      <td>ABE</td>\n      <td>0.35</td>\n      <td>3.25</td>\n      <td>10000</td>\n      <td>0</td>\n      <td>UK</td>\n      <td>1</td>\n      <td>NaN</td>\n    </tr>\n    <tr>\n      <th>4</th>\n      <td>9789814774178</td>\n      <td>GBP</td>\n      <td>28.99</td>\n      <td>N/A</td>\n      <td>T&amp;F</td>\n      <td>N/A</td>\n      <td>ABE</td>\n      <td>0.35</td>\n      <td>3.25</td>\n      <td>10000</td>\n      <td>0</td>\n      <td>UK</td>\n      <td>1</td>\n      <td>NaN</td>\n    </tr>\n  </tbody>\n</table>\n</div>"
     },
     "metadata": {},
     "execution_count": 23
    }
   ],
   "source": [
    "sup_biblio_disc = pd.merge(sup_pub_biblio, sp_disc, how='left', on = ['supplier', 'isbn'])\n",
    "sup_biblio_disc.head()"
   ]
  },
  {
   "cell_type": "code",
   "execution_count": 24,
   "metadata": {},
   "outputs": [
    {
     "output_type": "execute_result",
     "data": {
      "text/plain": "            isbn currency   price      title  pub author supplier  discount_x  \\\n0  9789652870001      GBP   90.00        N/A  T&F    N/A      ABE        0.35   \n1  9789814774017      GBP  116.00        N/A  T&F    N/A      ABE        0.35   \n2  9789814774086      GBP   31.99  CHEMISTRY  T&F    N/A      ABE        0.35   \n3  9789814774109      GBP   95.00        N/A  T&F    N/A      ABE        0.35   \n4  9789814774178      GBP   28.99        N/A  T&F    N/A      ABE        0.35   \n\n   shipping_cost  max_qty  min origin sea_shipping_cost  discount_y  discount  \n0           3.25    10000    0     UK                 1         NaN      0.35  \n1           3.25    10000    0     UK                 1         NaN      0.35  \n2           3.25    10000    0     UK                 1         NaN      0.35  \n3           3.25    10000    0     UK                 1         NaN      0.35  \n4           3.25    10000    0     UK                 1         NaN      0.35  ",
      "text/html": "<div>\n<style scoped>\n    .dataframe tbody tr th:only-of-type {\n        vertical-align: middle;\n    }\n\n    .dataframe tbody tr th {\n        vertical-align: top;\n    }\n\n    .dataframe thead th {\n        text-align: right;\n    }\n</style>\n<table border=\"1\" class=\"dataframe\">\n  <thead>\n    <tr style=\"text-align: right;\">\n      <th></th>\n      <th>isbn</th>\n      <th>currency</th>\n      <th>price</th>\n      <th>title</th>\n      <th>pub</th>\n      <th>author</th>\n      <th>supplier</th>\n      <th>discount_x</th>\n      <th>shipping_cost</th>\n      <th>max_qty</th>\n      <th>min</th>\n      <th>origin</th>\n      <th>sea_shipping_cost</th>\n      <th>discount_y</th>\n      <th>discount</th>\n    </tr>\n  </thead>\n  <tbody>\n    <tr>\n      <th>0</th>\n      <td>9789652870001</td>\n      <td>GBP</td>\n      <td>90.00</td>\n      <td>N/A</td>\n      <td>T&amp;F</td>\n      <td>N/A</td>\n      <td>ABE</td>\n      <td>0.35</td>\n      <td>3.25</td>\n      <td>10000</td>\n      <td>0</td>\n      <td>UK</td>\n      <td>1</td>\n      <td>NaN</td>\n      <td>0.35</td>\n    </tr>\n    <tr>\n      <th>1</th>\n      <td>9789814774017</td>\n      <td>GBP</td>\n      <td>116.00</td>\n      <td>N/A</td>\n      <td>T&amp;F</td>\n      <td>N/A</td>\n      <td>ABE</td>\n      <td>0.35</td>\n      <td>3.25</td>\n      <td>10000</td>\n      <td>0</td>\n      <td>UK</td>\n      <td>1</td>\n      <td>NaN</td>\n      <td>0.35</td>\n    </tr>\n    <tr>\n      <th>2</th>\n      <td>9789814774086</td>\n      <td>GBP</td>\n      <td>31.99</td>\n      <td>CHEMISTRY</td>\n      <td>T&amp;F</td>\n      <td>N/A</td>\n      <td>ABE</td>\n      <td>0.35</td>\n      <td>3.25</td>\n      <td>10000</td>\n      <td>0</td>\n      <td>UK</td>\n      <td>1</td>\n      <td>NaN</td>\n      <td>0.35</td>\n    </tr>\n    <tr>\n      <th>3</th>\n      <td>9789814774109</td>\n      <td>GBP</td>\n      <td>95.00</td>\n      <td>N/A</td>\n      <td>T&amp;F</td>\n      <td>N/A</td>\n      <td>ABE</td>\n      <td>0.35</td>\n      <td>3.25</td>\n      <td>10000</td>\n      <td>0</td>\n      <td>UK</td>\n      <td>1</td>\n      <td>NaN</td>\n      <td>0.35</td>\n    </tr>\n    <tr>\n      <th>4</th>\n      <td>9789814774178</td>\n      <td>GBP</td>\n      <td>28.99</td>\n      <td>N/A</td>\n      <td>T&amp;F</td>\n      <td>N/A</td>\n      <td>ABE</td>\n      <td>0.35</td>\n      <td>3.25</td>\n      <td>10000</td>\n      <td>0</td>\n      <td>UK</td>\n      <td>1</td>\n      <td>NaN</td>\n      <td>0.35</td>\n    </tr>\n  </tbody>\n</table>\n</div>"
     },
     "metadata": {},
     "execution_count": 24
    }
   ],
   "source": [
    "sup_biblio_disc['discount'] = np.where(sup_biblio_disc['discount_y'].isna(), sup_biblio_disc['discount_x'],sup_biblio_disc['discount_y'])\n",
    "\n",
    "\n",
    "#Drop unneccessary Columns\n",
    "\n",
    "sup_biblio_disc.head()"
   ]
  },
  {
   "cell_type": "code",
   "execution_count": 25,
   "metadata": {},
   "outputs": [
    {
     "output_type": "execute_result",
     "data": {
      "text/plain": "            isbn      title  pub author supplier currency   price  discount  \\\n0  9789652870001        N/A  T&F    N/A      ABE      GBP   90.00      0.35   \n1  9789814774017        N/A  T&F    N/A      ABE      GBP  116.00      0.35   \n2  9789814774086  CHEMISTRY  T&F    N/A      ABE      GBP   31.99      0.35   \n3  9789814774109        N/A  T&F    N/A      ABE      GBP   95.00      0.35   \n4  9789814774178        N/A  T&F    N/A      ABE      GBP   28.99      0.35   \n\n   shipping_cost sea_shipping_cost  max_qty origin  \n0           3.25                 1    10000     UK  \n1           3.25                 1    10000     UK  \n2           3.25                 1    10000     UK  \n3           3.25                 1    10000     UK  \n4           3.25                 1    10000     UK  ",
      "text/html": "<div>\n<style scoped>\n    .dataframe tbody tr th:only-of-type {\n        vertical-align: middle;\n    }\n\n    .dataframe tbody tr th {\n        vertical-align: top;\n    }\n\n    .dataframe thead th {\n        text-align: right;\n    }\n</style>\n<table border=\"1\" class=\"dataframe\">\n  <thead>\n    <tr style=\"text-align: right;\">\n      <th></th>\n      <th>isbn</th>\n      <th>title</th>\n      <th>pub</th>\n      <th>author</th>\n      <th>supplier</th>\n      <th>currency</th>\n      <th>price</th>\n      <th>discount</th>\n      <th>shipping_cost</th>\n      <th>sea_shipping_cost</th>\n      <th>max_qty</th>\n      <th>origin</th>\n    </tr>\n  </thead>\n  <tbody>\n    <tr>\n      <th>0</th>\n      <td>9789652870001</td>\n      <td>N/A</td>\n      <td>T&amp;F</td>\n      <td>N/A</td>\n      <td>ABE</td>\n      <td>GBP</td>\n      <td>90.00</td>\n      <td>0.35</td>\n      <td>3.25</td>\n      <td>1</td>\n      <td>10000</td>\n      <td>UK</td>\n    </tr>\n    <tr>\n      <th>1</th>\n      <td>9789814774017</td>\n      <td>N/A</td>\n      <td>T&amp;F</td>\n      <td>N/A</td>\n      <td>ABE</td>\n      <td>GBP</td>\n      <td>116.00</td>\n      <td>0.35</td>\n      <td>3.25</td>\n      <td>1</td>\n      <td>10000</td>\n      <td>UK</td>\n    </tr>\n    <tr>\n      <th>2</th>\n      <td>9789814774086</td>\n      <td>CHEMISTRY</td>\n      <td>T&amp;F</td>\n      <td>N/A</td>\n      <td>ABE</td>\n      <td>GBP</td>\n      <td>31.99</td>\n      <td>0.35</td>\n      <td>3.25</td>\n      <td>1</td>\n      <td>10000</td>\n      <td>UK</td>\n    </tr>\n    <tr>\n      <th>3</th>\n      <td>9789814774109</td>\n      <td>N/A</td>\n      <td>T&amp;F</td>\n      <td>N/A</td>\n      <td>ABE</td>\n      <td>GBP</td>\n      <td>95.00</td>\n      <td>0.35</td>\n      <td>3.25</td>\n      <td>1</td>\n      <td>10000</td>\n      <td>UK</td>\n    </tr>\n    <tr>\n      <th>4</th>\n      <td>9789814774178</td>\n      <td>N/A</td>\n      <td>T&amp;F</td>\n      <td>N/A</td>\n      <td>ABE</td>\n      <td>GBP</td>\n      <td>28.99</td>\n      <td>0.35</td>\n      <td>3.25</td>\n      <td>1</td>\n      <td>10000</td>\n      <td>UK</td>\n    </tr>\n  </tbody>\n</table>\n</div>"
     },
     "metadata": {},
     "execution_count": 25
    }
   ],
   "source": [
    "sup_biblio_disc = sup_biblio_disc[['isbn', 'title', 'pub', 'author', 'supplier', 'currency', 'price', 'discount', 'shipping_cost', 'sea_shipping_cost', 'max_qty', 'origin']]\n",
    "sup_biblio_disc.head()"
   ]
  },
  {
   "cell_type": "markdown",
   "metadata": {},
   "source": [
    "### 4.6 Create table for WC"
   ]
  },
  {
   "cell_type": "code",
   "execution_count": 26,
   "metadata": {},
   "outputs": [
    {
     "output_type": "execute_result",
     "data": {
      "text/plain": "              isbn title               pub author supplier currency  price  \\\n12   9789639776296   N/A               N/A    N/A       WC      CAD  29.95   \n117  9789888083275   N/A  UNIVERSITY PRESS    N/A       WC      CAD  40.00   \n433  9789812465290   N/A               N/A    N/A       WC      CAD  13.95   \n439  9789812466129   N/A               N/A    N/A       WC      CAD  11.95   \n444  9789812466136   N/A               N/A    N/A       WC      CAD  11.95   \n\n     discount  shipping_cost  sea_shipping_cost  max_qty origin  \n12       0.07              2                  2    10000    CAN  \n117      0.07              2                  2    10000    CAN  \n433      0.07              2                  2    10000    CAN  \n439      0.07              2                  2    10000    CAN  \n444      0.07              2                  2    10000    CAN  ",
      "text/html": "<div>\n<style scoped>\n    .dataframe tbody tr th:only-of-type {\n        vertical-align: middle;\n    }\n\n    .dataframe tbody tr th {\n        vertical-align: top;\n    }\n\n    .dataframe thead th {\n        text-align: right;\n    }\n</style>\n<table border=\"1\" class=\"dataframe\">\n  <thead>\n    <tr style=\"text-align: right;\">\n      <th></th>\n      <th>isbn</th>\n      <th>title</th>\n      <th>pub</th>\n      <th>author</th>\n      <th>supplier</th>\n      <th>currency</th>\n      <th>price</th>\n      <th>discount</th>\n      <th>shipping_cost</th>\n      <th>sea_shipping_cost</th>\n      <th>max_qty</th>\n      <th>origin</th>\n    </tr>\n  </thead>\n  <tbody>\n    <tr>\n      <th>12</th>\n      <td>9789639776296</td>\n      <td>N/A</td>\n      <td>N/A</td>\n      <td>N/A</td>\n      <td>WC</td>\n      <td>CAD</td>\n      <td>29.95</td>\n      <td>0.07</td>\n      <td>2</td>\n      <td>2</td>\n      <td>10000</td>\n      <td>CAN</td>\n    </tr>\n    <tr>\n      <th>117</th>\n      <td>9789888083275</td>\n      <td>N/A</td>\n      <td>UNIVERSITY PRESS</td>\n      <td>N/A</td>\n      <td>WC</td>\n      <td>CAD</td>\n      <td>40.00</td>\n      <td>0.07</td>\n      <td>2</td>\n      <td>2</td>\n      <td>10000</td>\n      <td>CAN</td>\n    </tr>\n    <tr>\n      <th>433</th>\n      <td>9789812465290</td>\n      <td>N/A</td>\n      <td>N/A</td>\n      <td>N/A</td>\n      <td>WC</td>\n      <td>CAD</td>\n      <td>13.95</td>\n      <td>0.07</td>\n      <td>2</td>\n      <td>2</td>\n      <td>10000</td>\n      <td>CAN</td>\n    </tr>\n    <tr>\n      <th>439</th>\n      <td>9789812466129</td>\n      <td>N/A</td>\n      <td>N/A</td>\n      <td>N/A</td>\n      <td>WC</td>\n      <td>CAD</td>\n      <td>11.95</td>\n      <td>0.07</td>\n      <td>2</td>\n      <td>2</td>\n      <td>10000</td>\n      <td>CAN</td>\n    </tr>\n    <tr>\n      <th>444</th>\n      <td>9789812466136</td>\n      <td>N/A</td>\n      <td>N/A</td>\n      <td>N/A</td>\n      <td>WC</td>\n      <td>CAD</td>\n      <td>11.95</td>\n      <td>0.07</td>\n      <td>2</td>\n      <td>2</td>\n      <td>10000</td>\n      <td>CAN</td>\n    </tr>\n  </tbody>\n</table>\n</div>"
     },
     "metadata": {},
     "execution_count": 26
    }
   ],
   "source": [
    "can_sup = biblio_lp[biblio_lp['currency'] == 'CND']\n",
    "can_sup.columns = map(str.lower, can_sup.columns)\n",
    "can_sup['supplier'] = 'WC'\n",
    "can_sup['discount'] = np.where(can_sup['price']<=100, 0.07,np.where(can_sup['price']<150, 0.1, np.where((can_sup['price'] >=150) & (can_sup['price']<200),0.12,0.14)))\n",
    "can_sup['max_qty'] = 10000\n",
    "can_sup['origin'] = 'CAN'\n",
    "can_sup['shipping_cost'] = 2\n",
    "can_sup.rename(columns={'publisher': 'pub'}, inplace = True)\n",
    "can_sup['currency'] = 'CAD'\n",
    "can_sup['sea_shipping_cost'] = 2\n",
    "\n",
    "can_sup = can_sup[['isbn', 'title', 'pub', 'author', 'supplier', 'currency', 'price', 'discount', 'shipping_cost','sea_shipping_cost' , 'max_qty', 'origin']]\n",
    "\n",
    "can_sup.head()"
   ]
  },
  {
   "cell_type": "markdown",
   "metadata": {},
   "source": [
    "## 5. Append SupplierMegaLis, PublisherSuppliers and WesterCampus"
   ]
  },
  {
   "cell_type": "code",
   "execution_count": 27,
   "metadata": {},
   "outputs": [
    {
     "output_type": "execute_result",
     "data": {
      "text/plain": "isbn                   0\ntitle                166\npub                  166\nauthor               166\nsupplier               0\ncurrency               0\nprice                  0\ndiscount               0\nshipping_cost          0\nsea_shipping_cost      0\nmax_qty                0\norigin                 0\ndtype: int64"
     },
     "metadata": {},
     "execution_count": 27
    }
   ],
   "source": [
    "all_sup = megalist_pub.append([sup_biblio_disc, can_sup], ignore_index= True)\n",
    "\n",
    "all_sup_biblio = pd.merge(all_sup,biblio[['isbn', 'publisher']] , how='left', on = 'isbn')\n",
    "\n",
    "all_sup_biblio['pub'] = np.where(all_sup_biblio['pub'].isna(), all_sup_biblio['publisher'], all_sup_biblio['pub'])\n",
    "\n",
    "all_sup = all_sup_biblio[['isbn', 'title', 'pub', 'author', 'supplier', 'currency', 'price', 'discount', 'shipping_cost','sea_shipping_cost' , 'max_qty', 'origin']]\n",
    "all_sup['sea_shipping_cost'] = np.where( (all_sup['origin'] == 'US') | (all_sup['origin'] == 'CAN') , all_sup['shipping_cost'], all_sup['sea_shipping_cost'])\n",
    "all_sup.isna().sum()"
   ]
  },
  {
   "cell_type": "markdown",
   "metadata": {},
   "source": [
    "## 6. Add Fees"
   ]
  },
  {
   "cell_type": "code",
   "execution_count": 28,
   "metadata": {},
   "outputs": [
    {
     "output_type": "execute_result",
     "data": {
      "text/plain": "            isbn                                              title  \\\n0  9781138161184                                                N/A   \n1  9781138161320                                                N/A   \n2  9780128054185  PRESENTING AN EFFECTIVE AND DYNAMIC TECHNICAL ...   \n3  9780521697767                                                N/A   \n4  9780128054208                                                N/A   \n\n                pub author supplier currency   price  discount  shipping_cost  \\\n0               T&F    N/A    RAJAN      GBP  120.00      0.53           3.25   \n1               T&F    N/A    RAJAN      GBP  105.00      0.53           3.25   \n2          ELSEVIER    N/A     ALEK      EUR   28.95      0.51           3.25   \n3  UNIVERSITY PRESS    N/A   ZOOKAL      AUD   48.21      0.00           7.48   \n4          ELSEVIER    N/A     ALEK      EUR  143.00      0.51           3.25   \n\n  sea_shipping_cost  max_qty origin  invoice_fee  lp_fee  \n0               4.5     1000     UK        0.000     0.0  \n1               4.5     1000     UK        0.000     0.0  \n2                 1     1000     UK        0.005     0.0  \n3                 1      150    AUS        0.000     0.0  \n4                 1     1000     UK        0.005     0.0  ",
      "text/html": "<div>\n<style scoped>\n    .dataframe tbody tr th:only-of-type {\n        vertical-align: middle;\n    }\n\n    .dataframe tbody tr th {\n        vertical-align: top;\n    }\n\n    .dataframe thead th {\n        text-align: right;\n    }\n</style>\n<table border=\"1\" class=\"dataframe\">\n  <thead>\n    <tr style=\"text-align: right;\">\n      <th></th>\n      <th>isbn</th>\n      <th>title</th>\n      <th>pub</th>\n      <th>author</th>\n      <th>supplier</th>\n      <th>currency</th>\n      <th>price</th>\n      <th>discount</th>\n      <th>shipping_cost</th>\n      <th>sea_shipping_cost</th>\n      <th>max_qty</th>\n      <th>origin</th>\n      <th>invoice_fee</th>\n      <th>lp_fee</th>\n    </tr>\n  </thead>\n  <tbody>\n    <tr>\n      <th>0</th>\n      <td>9781138161184</td>\n      <td>N/A</td>\n      <td>T&amp;F</td>\n      <td>N/A</td>\n      <td>RAJAN</td>\n      <td>GBP</td>\n      <td>120.00</td>\n      <td>0.53</td>\n      <td>3.25</td>\n      <td>4.5</td>\n      <td>1000</td>\n      <td>UK</td>\n      <td>0.000</td>\n      <td>0.0</td>\n    </tr>\n    <tr>\n      <th>1</th>\n      <td>9781138161320</td>\n      <td>N/A</td>\n      <td>T&amp;F</td>\n      <td>N/A</td>\n      <td>RAJAN</td>\n      <td>GBP</td>\n      <td>105.00</td>\n      <td>0.53</td>\n      <td>3.25</td>\n      <td>4.5</td>\n      <td>1000</td>\n      <td>UK</td>\n      <td>0.000</td>\n      <td>0.0</td>\n    </tr>\n    <tr>\n      <th>2</th>\n      <td>9780128054185</td>\n      <td>PRESENTING AN EFFECTIVE AND DYNAMIC TECHNICAL ...</td>\n      <td>ELSEVIER</td>\n      <td>N/A</td>\n      <td>ALEK</td>\n      <td>EUR</td>\n      <td>28.95</td>\n      <td>0.51</td>\n      <td>3.25</td>\n      <td>1</td>\n      <td>1000</td>\n      <td>UK</td>\n      <td>0.005</td>\n      <td>0.0</td>\n    </tr>\n    <tr>\n      <th>3</th>\n      <td>9780521697767</td>\n      <td>N/A</td>\n      <td>UNIVERSITY PRESS</td>\n      <td>N/A</td>\n      <td>ZOOKAL</td>\n      <td>AUD</td>\n      <td>48.21</td>\n      <td>0.00</td>\n      <td>7.48</td>\n      <td>1</td>\n      <td>150</td>\n      <td>AUS</td>\n      <td>0.000</td>\n      <td>0.0</td>\n    </tr>\n    <tr>\n      <th>4</th>\n      <td>9780128054208</td>\n      <td>N/A</td>\n      <td>ELSEVIER</td>\n      <td>N/A</td>\n      <td>ALEK</td>\n      <td>EUR</td>\n      <td>143.00</td>\n      <td>0.51</td>\n      <td>3.25</td>\n      <td>1</td>\n      <td>1000</td>\n      <td>UK</td>\n      <td>0.005</td>\n      <td>0.0</td>\n    </tr>\n  </tbody>\n</table>\n</div>"
     },
     "metadata": {},
     "execution_count": 28
    }
   ],
   "source": [
    "#Invoice Fee\n",
    "all_sup['invoice_fee'] = np.where(     # IF\n",
    "    all_sup['supplier'].str.contains('ALEK'), 0.005,   #Condition and True\n",
    "    np.where(  # IF False\n",
    "        (all_sup['supplier'].str.contains('LAURENTIU')) | (all_sup['supplier'].str.contains('SENAD')),0.02,   #Condition and True\n",
    "        np.where(  #IF FALSE\n",
    "            (all_sup['supplier'].str.contains('ARMANDO')) | (all_sup['supplier'].str.contains('FELIPE')),0.01, #Condition and True\n",
    "            np.where(   #IF FALSE\n",
    "                (all_sup['supplier'] == 'COINFO'), -1/11, #Condition and True\n",
    "                0)   # FALSE\n",
    "                )\n",
    "                )\n",
    "                )\n",
    "# lp_fee\n",
    "\n",
    "all_sup['lp_fee'] = np.where(\n",
    "    (all_sup['supplier'].str.contains('BILLSON') & (all_sup['discount'] == 0 )), 0.03,0)\n",
    "\n",
    "all_sup.head()"
   ]
  },
  {
   "cell_type": "markdown",
   "metadata": {},
   "source": [
    "## 7. import and Merge exchage rate with all suppliers"
   ]
  },
  {
   "cell_type": "code",
   "execution_count": 29,
   "metadata": {},
   "outputs": [
    {
     "output_type": "execute_result",
     "data": {
      "text/plain": "            isbn                                              title  \\\n0  9781138161184                                                N/A   \n1  9781138161320                                                N/A   \n2  9780128054185  PRESENTING AN EFFECTIVE AND DYNAMIC TECHNICAL ...   \n3  9780521697767                                                N/A   \n4  9780128054208                                                N/A   \n\n                pub author supplier currency   price  discount  shipping_cost  \\\n0               T&F    N/A    RAJAN      GBP  120.00      0.53           3.25   \n1               T&F    N/A    RAJAN      GBP  105.00      0.53           3.25   \n2          ELSEVIER    N/A     ALEK      EUR   28.95      0.51           3.25   \n3  UNIVERSITY PRESS    N/A   ZOOKAL      AUD   48.21      0.00           7.48   \n4          ELSEVIER    N/A     ALEK      EUR  143.00      0.51           3.25   \n\n  sea_shipping_cost  max_qty origin  invoice_fee  lp_fee      rate  \n0               4.5     1000     UK        0.000     0.0  1.272783  \n1               4.5     1000     UK        0.000     0.0  1.272783  \n2                 1     1000     UK        0.005     0.0  1.159172  \n3                 1      150    AUS        0.000     0.0  0.713700  \n4                 1     1000     UK        0.005     0.0  1.159172  ",
      "text/html": "<div>\n<style scoped>\n    .dataframe tbody tr th:only-of-type {\n        vertical-align: middle;\n    }\n\n    .dataframe tbody tr th {\n        vertical-align: top;\n    }\n\n    .dataframe thead th {\n        text-align: right;\n    }\n</style>\n<table border=\"1\" class=\"dataframe\">\n  <thead>\n    <tr style=\"text-align: right;\">\n      <th></th>\n      <th>isbn</th>\n      <th>title</th>\n      <th>pub</th>\n      <th>author</th>\n      <th>supplier</th>\n      <th>currency</th>\n      <th>price</th>\n      <th>discount</th>\n      <th>shipping_cost</th>\n      <th>sea_shipping_cost</th>\n      <th>max_qty</th>\n      <th>origin</th>\n      <th>invoice_fee</th>\n      <th>lp_fee</th>\n      <th>rate</th>\n    </tr>\n  </thead>\n  <tbody>\n    <tr>\n      <th>0</th>\n      <td>9781138161184</td>\n      <td>N/A</td>\n      <td>T&amp;F</td>\n      <td>N/A</td>\n      <td>RAJAN</td>\n      <td>GBP</td>\n      <td>120.00</td>\n      <td>0.53</td>\n      <td>3.25</td>\n      <td>4.5</td>\n      <td>1000</td>\n      <td>UK</td>\n      <td>0.000</td>\n      <td>0.0</td>\n      <td>1.272783</td>\n    </tr>\n    <tr>\n      <th>1</th>\n      <td>9781138161320</td>\n      <td>N/A</td>\n      <td>T&amp;F</td>\n      <td>N/A</td>\n      <td>RAJAN</td>\n      <td>GBP</td>\n      <td>105.00</td>\n      <td>0.53</td>\n      <td>3.25</td>\n      <td>4.5</td>\n      <td>1000</td>\n      <td>UK</td>\n      <td>0.000</td>\n      <td>0.0</td>\n      <td>1.272783</td>\n    </tr>\n    <tr>\n      <th>2</th>\n      <td>9780128054185</td>\n      <td>PRESENTING AN EFFECTIVE AND DYNAMIC TECHNICAL ...</td>\n      <td>ELSEVIER</td>\n      <td>N/A</td>\n      <td>ALEK</td>\n      <td>EUR</td>\n      <td>28.95</td>\n      <td>0.51</td>\n      <td>3.25</td>\n      <td>1</td>\n      <td>1000</td>\n      <td>UK</td>\n      <td>0.005</td>\n      <td>0.0</td>\n      <td>1.159172</td>\n    </tr>\n    <tr>\n      <th>3</th>\n      <td>9780521697767</td>\n      <td>N/A</td>\n      <td>UNIVERSITY PRESS</td>\n      <td>N/A</td>\n      <td>ZOOKAL</td>\n      <td>AUD</td>\n      <td>48.21</td>\n      <td>0.00</td>\n      <td>7.48</td>\n      <td>1</td>\n      <td>150</td>\n      <td>AUS</td>\n      <td>0.000</td>\n      <td>0.0</td>\n      <td>0.713700</td>\n    </tr>\n    <tr>\n      <th>4</th>\n      <td>9780128054208</td>\n      <td>N/A</td>\n      <td>ELSEVIER</td>\n      <td>N/A</td>\n      <td>ALEK</td>\n      <td>EUR</td>\n      <td>143.00</td>\n      <td>0.51</td>\n      <td>3.25</td>\n      <td>1</td>\n      <td>1000</td>\n      <td>UK</td>\n      <td>0.005</td>\n      <td>0.0</td>\n      <td>1.159172</td>\n    </tr>\n  </tbody>\n</table>\n</div>"
     },
     "metadata": {},
     "execution_count": 29
    }
   ],
   "source": [
    "exch_df = pd.read_sql(exchange_rate,proc_db)\n",
    "exch_df.rename(columns={'name': 'currency'}, inplace = True)\n",
    "all_sup_exc = pd.merge(all_sup, exch_df, how='left', on = 'currency')\n",
    "all_sup_exc.head()"
   ]
  },
  {
   "cell_type": "markdown",
   "metadata": {},
   "source": [
    "## 8. Cost Before exchange rate and landed cost"
   ]
  },
  {
   "cell_type": "code",
   "execution_count": 30,
   "metadata": {},
   "outputs": [
    {
     "output_type": "execute_result",
     "data": {
      "text/plain": "            isbn                                              title  \\\n0  9781138161184                                                N/A   \n1  9781138161320                                                N/A   \n2  9780128054185  PRESENTING AN EFFECTIVE AND DYNAMIC TECHNICAL ...   \n3  9780521697767                                                N/A   \n4  9780128054208                                                N/A   \n\n                pub author supplier currency   price  discount  shipping_cost  \\\n0               T&F    N/A    RAJAN      GBP  120.00      0.53           3.25   \n1               T&F    N/A    RAJAN      GBP  105.00      0.53           3.25   \n2          ELSEVIER    N/A     ALEK      EUR   28.95      0.51           3.25   \n3  UNIVERSITY PRESS    N/A   ZOOKAL      AUD   48.21      0.00           7.48   \n4          ELSEVIER    N/A     ALEK      EUR  143.00      0.51           3.25   \n\n  sea_shipping_cost  max_qty origin  invoice_fee  lp_fee      rate  \\\n0               4.5     1000     UK        0.000     0.0  1.272783   \n1               4.5     1000     UK        0.000     0.0  1.272783   \n2                 1     1000     UK        0.005     0.0  1.159172   \n3                 1      150    AUS        0.000     0.0  0.713700   \n4                 1     1000     UK        0.005     0.0  1.159172   \n\n   inv_price_before_exc  regular_landed_cost sea_landed_cost  \n0               56.4000            75.034950          76.285  \n1               49.3500            66.061831         67.3118  \n2               14.1855            19.693428         17.4434  \n3               48.2100            41.887474         35.4075  \n4               70.0700            84.473153         82.2232  ",
      "text/html": "<div>\n<style scoped>\n    .dataframe tbody tr th:only-of-type {\n        vertical-align: middle;\n    }\n\n    .dataframe tbody tr th {\n        vertical-align: top;\n    }\n\n    .dataframe thead th {\n        text-align: right;\n    }\n</style>\n<table border=\"1\" class=\"dataframe\">\n  <thead>\n    <tr style=\"text-align: right;\">\n      <th></th>\n      <th>isbn</th>\n      <th>title</th>\n      <th>pub</th>\n      <th>author</th>\n      <th>supplier</th>\n      <th>currency</th>\n      <th>price</th>\n      <th>discount</th>\n      <th>shipping_cost</th>\n      <th>sea_shipping_cost</th>\n      <th>max_qty</th>\n      <th>origin</th>\n      <th>invoice_fee</th>\n      <th>lp_fee</th>\n      <th>rate</th>\n      <th>inv_price_before_exc</th>\n      <th>regular_landed_cost</th>\n      <th>sea_landed_cost</th>\n    </tr>\n  </thead>\n  <tbody>\n    <tr>\n      <th>0</th>\n      <td>9781138161184</td>\n      <td>N/A</td>\n      <td>T&amp;F</td>\n      <td>N/A</td>\n      <td>RAJAN</td>\n      <td>GBP</td>\n      <td>120.00</td>\n      <td>0.53</td>\n      <td>3.25</td>\n      <td>4.5</td>\n      <td>1000</td>\n      <td>UK</td>\n      <td>0.000</td>\n      <td>0.0</td>\n      <td>1.272783</td>\n      <td>56.4000</td>\n      <td>75.034950</td>\n      <td>76.285</td>\n    </tr>\n    <tr>\n      <th>1</th>\n      <td>9781138161320</td>\n      <td>N/A</td>\n      <td>T&amp;F</td>\n      <td>N/A</td>\n      <td>RAJAN</td>\n      <td>GBP</td>\n      <td>105.00</td>\n      <td>0.53</td>\n      <td>3.25</td>\n      <td>4.5</td>\n      <td>1000</td>\n      <td>UK</td>\n      <td>0.000</td>\n      <td>0.0</td>\n      <td>1.272783</td>\n      <td>49.3500</td>\n      <td>66.061831</td>\n      <td>67.3118</td>\n    </tr>\n    <tr>\n      <th>2</th>\n      <td>9780128054185</td>\n      <td>PRESENTING AN EFFECTIVE AND DYNAMIC TECHNICAL ...</td>\n      <td>ELSEVIER</td>\n      <td>N/A</td>\n      <td>ALEK</td>\n      <td>EUR</td>\n      <td>28.95</td>\n      <td>0.51</td>\n      <td>3.25</td>\n      <td>1</td>\n      <td>1000</td>\n      <td>UK</td>\n      <td>0.005</td>\n      <td>0.0</td>\n      <td>1.159172</td>\n      <td>14.1855</td>\n      <td>19.693428</td>\n      <td>17.4434</td>\n    </tr>\n    <tr>\n      <th>3</th>\n      <td>9780521697767</td>\n      <td>N/A</td>\n      <td>UNIVERSITY PRESS</td>\n      <td>N/A</td>\n      <td>ZOOKAL</td>\n      <td>AUD</td>\n      <td>48.21</td>\n      <td>0.00</td>\n      <td>7.48</td>\n      <td>1</td>\n      <td>150</td>\n      <td>AUS</td>\n      <td>0.000</td>\n      <td>0.0</td>\n      <td>0.713700</td>\n      <td>48.2100</td>\n      <td>41.887474</td>\n      <td>35.4075</td>\n    </tr>\n    <tr>\n      <th>4</th>\n      <td>9780128054208</td>\n      <td>N/A</td>\n      <td>ELSEVIER</td>\n      <td>N/A</td>\n      <td>ALEK</td>\n      <td>EUR</td>\n      <td>143.00</td>\n      <td>0.51</td>\n      <td>3.25</td>\n      <td>1</td>\n      <td>1000</td>\n      <td>UK</td>\n      <td>0.005</td>\n      <td>0.0</td>\n      <td>1.159172</td>\n      <td>70.0700</td>\n      <td>84.473153</td>\n      <td>82.2232</td>\n    </tr>\n  </tbody>\n</table>\n</div>"
     },
     "metadata": {},
     "execution_count": 30
    }
   ],
   "source": [
    "all_sup_exc['inv_price_before_exc'] = all_sup_exc['price']*(1-all_sup_exc['discount']+all_sup_exc['lp_fee']*(1+all_sup_exc['invoice_fee']))\n",
    "all_sup_exc['regular_landed_cost'] = all_sup_exc['inv_price_before_exc'] * all_sup_exc['rate'] + all_sup_exc['shipping_cost']\n",
    "all_sup_exc['sea_landed_cost'] = all_sup_exc['inv_price_before_exc'] * all_sup_exc['rate'] + all_sup_exc['sea_shipping_cost']\n",
    "all_sup_exc.head()"
   ]
  },
  {
   "cell_type": "markdown",
   "metadata": {},
   "source": [
    "## 9. Restrictions"
   ]
  },
  {
   "cell_type": "code",
   "execution_count": 31,
   "metadata": {},
   "outputs": [
    {
     "output_type": "execute_result",
     "data": {
      "text/plain": "            isbn vendor\n0  9780323567428  RISKY\n1  9780500292105  RISKY\n2  9781936523443  RISKY\n3  9780134149530  RISKY\n4  9780134205588  RISKY",
      "text/html": "<div>\n<style scoped>\n    .dataframe tbody tr th:only-of-type {\n        vertical-align: middle;\n    }\n\n    .dataframe tbody tr th {\n        vertical-align: top;\n    }\n\n    .dataframe thead th {\n        text-align: right;\n    }\n</style>\n<table border=\"1\" class=\"dataframe\">\n  <thead>\n    <tr style=\"text-align: right;\">\n      <th></th>\n      <th>isbn</th>\n      <th>vendor</th>\n    </tr>\n  </thead>\n  <tbody>\n    <tr>\n      <th>0</th>\n      <td>9780323567428</td>\n      <td>RISKY</td>\n    </tr>\n    <tr>\n      <th>1</th>\n      <td>9780500292105</td>\n      <td>RISKY</td>\n    </tr>\n    <tr>\n      <th>2</th>\n      <td>9781936523443</td>\n      <td>RISKY</td>\n    </tr>\n    <tr>\n      <th>3</th>\n      <td>9780134149530</td>\n      <td>RISKY</td>\n    </tr>\n    <tr>\n      <th>4</th>\n      <td>9780134205588</td>\n      <td>RISKY</td>\n    </tr>\n  </tbody>\n</table>\n</div>"
     },
     "metadata": {},
     "execution_count": 31
    }
   ],
   "source": [
    "rest = pd.read_excel(\"../../../../Vendors/. Restrictions\\All Restricted List.xlsx\")\n",
    "rest.columns = map(str.lower, rest.columns)\n",
    "rest.rename(columns={'isbn13': 'isbn'}, inplace = True)\n",
    "rest['isbn'] = rest['isbn'].astype(str)\n",
    "for col in ['isbn', 'vendor']:\n",
    "    rest[col] = rest.apply(lambda x: clean_up(x[col]), axis =1)\n",
    "\n",
    "rest = rest[['isbn','vendor']]\n",
    "rest.head()"
   ]
  },
  {
   "cell_type": "code",
   "execution_count": 32,
   "metadata": {},
   "outputs": [],
   "source": [
    "# restricted to all suppliers\n",
    "risky = rest[rest['vendor'] == 'RISKY']\n",
    "all_sup_exc = all_sup_exc[~all_sup_exc['isbn'].isin(list(risky['isbn']))]"
   ]
  },
  {
   "cell_type": "code",
   "execution_count": 33,
   "metadata": {},
   "outputs": [
    {
     "output_type": "execute_result",
     "data": {
      "text/plain": "                isbn                                              title   pub  \\\n54122  9781138954366                         PRIMATE BEHAVIORAL ECOLOGY   T&F   \n72368  9781506333939  INTRODUCTION TO CRIMINOLOGY INTERACTIVE EBOOK ...  SAGE   \n72491  9781506337982                                  DISCOUNTED BUNDLE  SAGE   \n72508  9781506340012         INTRODUCTION TO TEACHING INTERACTIVE EBOOK  SAGE   \n97813  9781452225371  MAKING SENSE OF THE SOCIAL WORLD INTERACTIVE E...  SAGE   \n\n                                                  author supplier currency  \\\n54122                                    KAREN B. STRIER       UT      CAD   \n72368                                     FRANK E. HAGAN      ABE      GBP   \n72491                                CHRISTOPHER P. NECK     ALEK      GBP   \n72508  GENE E. (ERWIN) HALL; LINDA F. (FAY) QUINN; DO...     ALEK      GBP   \n97813             DANIEL F. CHAMBLISS; RUSSELL K. SCHUTT      ABE      GBP   \n\n        price  discount  shipping_cost sea_shipping_cost  max_qty origin  \\\n54122  161.00      0.00           1.27              1.27     1000    CAN   \n72368   54.00      0.40           3.25                 1      500     UK   \n72491  102.00      0.43           3.25                 1     1000     UK   \n72508   46.99      0.43           3.25                 1       30     UK   \n97813   51.00      0.40           3.25                 1      500     UK   \n\n       invoice_fee  lp_fee      rate  inv_price_before_exc  \\\n54122        0.000     0.0  0.747468              161.0000   \n72368        0.000     0.0  1.272783               32.4000   \n72491        0.005     0.0  1.272783               58.1400   \n72508        0.005     0.0  1.272783               26.7843   \n97813        0.000     0.0  1.272783               30.6000   \n\n       regular_landed_cost sea_landed_cost vendor  \n54122           121.612347         121.612     UT  \n72368            44.488163         42.2382    ABE  \n72491            77.249592         74.9996   ALEK  \n72508            37.340596         35.0906   ALEK  \n97813            42.197154         39.9472    ABE  ",
      "text/html": "<div>\n<style scoped>\n    .dataframe tbody tr th:only-of-type {\n        vertical-align: middle;\n    }\n\n    .dataframe tbody tr th {\n        vertical-align: top;\n    }\n\n    .dataframe thead th {\n        text-align: right;\n    }\n</style>\n<table border=\"1\" class=\"dataframe\">\n  <thead>\n    <tr style=\"text-align: right;\">\n      <th></th>\n      <th>isbn</th>\n      <th>title</th>\n      <th>pub</th>\n      <th>author</th>\n      <th>supplier</th>\n      <th>currency</th>\n      <th>price</th>\n      <th>discount</th>\n      <th>shipping_cost</th>\n      <th>sea_shipping_cost</th>\n      <th>max_qty</th>\n      <th>origin</th>\n      <th>invoice_fee</th>\n      <th>lp_fee</th>\n      <th>rate</th>\n      <th>inv_price_before_exc</th>\n      <th>regular_landed_cost</th>\n      <th>sea_landed_cost</th>\n      <th>vendor</th>\n    </tr>\n  </thead>\n  <tbody>\n    <tr>\n      <th>54122</th>\n      <td>9781138954366</td>\n      <td>PRIMATE BEHAVIORAL ECOLOGY</td>\n      <td>T&amp;F</td>\n      <td>KAREN B. STRIER</td>\n      <td>UT</td>\n      <td>CAD</td>\n      <td>161.00</td>\n      <td>0.00</td>\n      <td>1.27</td>\n      <td>1.27</td>\n      <td>1000</td>\n      <td>CAN</td>\n      <td>0.000</td>\n      <td>0.0</td>\n      <td>0.747468</td>\n      <td>161.0000</td>\n      <td>121.612347</td>\n      <td>121.612</td>\n      <td>UT</td>\n    </tr>\n    <tr>\n      <th>72368</th>\n      <td>9781506333939</td>\n      <td>INTRODUCTION TO CRIMINOLOGY INTERACTIVE EBOOK ...</td>\n      <td>SAGE</td>\n      <td>FRANK E. HAGAN</td>\n      <td>ABE</td>\n      <td>GBP</td>\n      <td>54.00</td>\n      <td>0.40</td>\n      <td>3.25</td>\n      <td>1</td>\n      <td>500</td>\n      <td>UK</td>\n      <td>0.000</td>\n      <td>0.0</td>\n      <td>1.272783</td>\n      <td>32.4000</td>\n      <td>44.488163</td>\n      <td>42.2382</td>\n      <td>ABE</td>\n    </tr>\n    <tr>\n      <th>72491</th>\n      <td>9781506337982</td>\n      <td>DISCOUNTED BUNDLE</td>\n      <td>SAGE</td>\n      <td>CHRISTOPHER P. NECK</td>\n      <td>ALEK</td>\n      <td>GBP</td>\n      <td>102.00</td>\n      <td>0.43</td>\n      <td>3.25</td>\n      <td>1</td>\n      <td>1000</td>\n      <td>UK</td>\n      <td>0.005</td>\n      <td>0.0</td>\n      <td>1.272783</td>\n      <td>58.1400</td>\n      <td>77.249592</td>\n      <td>74.9996</td>\n      <td>ALEK</td>\n    </tr>\n    <tr>\n      <th>72508</th>\n      <td>9781506340012</td>\n      <td>INTRODUCTION TO TEACHING INTERACTIVE EBOOK</td>\n      <td>SAGE</td>\n      <td>GENE E. (ERWIN) HALL; LINDA F. (FAY) QUINN; DO...</td>\n      <td>ALEK</td>\n      <td>GBP</td>\n      <td>46.99</td>\n      <td>0.43</td>\n      <td>3.25</td>\n      <td>1</td>\n      <td>30</td>\n      <td>UK</td>\n      <td>0.005</td>\n      <td>0.0</td>\n      <td>1.272783</td>\n      <td>26.7843</td>\n      <td>37.340596</td>\n      <td>35.0906</td>\n      <td>ALEK</td>\n    </tr>\n    <tr>\n      <th>97813</th>\n      <td>9781452225371</td>\n      <td>MAKING SENSE OF THE SOCIAL WORLD INTERACTIVE E...</td>\n      <td>SAGE</td>\n      <td>DANIEL F. CHAMBLISS; RUSSELL K. SCHUTT</td>\n      <td>ABE</td>\n      <td>GBP</td>\n      <td>51.00</td>\n      <td>0.40</td>\n      <td>3.25</td>\n      <td>1</td>\n      <td>500</td>\n      <td>UK</td>\n      <td>0.000</td>\n      <td>0.0</td>\n      <td>1.272783</td>\n      <td>30.6000</td>\n      <td>42.197154</td>\n      <td>39.9472</td>\n      <td>ABE</td>\n    </tr>\n  </tbody>\n</table>\n</div>"
     },
     "metadata": {},
     "execution_count": 33
    }
   ],
   "source": [
    "# restriction per supplier\n",
    "all_rest = pd.merge(all_sup_exc, rest, how='left', left_on = ['isbn','supplier'], right_on = ['isbn', 'vendor'] )\n",
    "all_rest[~(all_rest['vendor'].isna())].head()"
   ]
  },
  {
   "cell_type": "markdown",
   "metadata": {},
   "source": [
    "## 10. Getting all posible orders for cost_analysis"
   ]
  },
  {
   "cell_type": "code",
   "execution_count": 34,
   "metadata": {},
   "outputs": [
    {
     "output_type": "execute_result",
     "data": {
      "text/plain": "                  isbn                                              title  \\\n2651277  9780786820771                                                N/A   \n1976400  9780194705493                                                N/A   \n3845381  9780078022159                           DATABASE SYSTEM CONCEPTS   \n3851594  9781259922428  MEASUREMENT BY THE PHYSICAL EDUCATOR: WHY AND HOW   \n2144550  9781101950821                                                N/A   \n\n                   pub                                             author  \\\n2651277  HACHETTE LIVE                                                N/A   \n1976400  OXFORD UP ELT                                                N/A   \n3845381         MCGRAW  KORTH, HENRY F., SUDARSHAN, S., SILBERSCHATZ, ...   \n3851594         MCGRAW                                     DAVID R MILLER   \n2144550   RANDOM HOUSE                                                N/A   \n\n        supplier currency  price  discount  shipping_cost sea_shipping_cost  \\\n2651277     ALEK      USD   0.01      0.59            0.5               0.5   \n1976400     ALEK      GBP   0.14      0.43            0.5               0.5   \n3845381    RAJAN      USD   0.25      0.48            0.5               0.5   \n3851594    RAJAN      USD   0.25      0.48            0.5               0.5   \n2144550     ALEK      USD   0.95      0.66            0.5               0.5   \n\n         max_qty origin  invoice_fee  lp_fee      rate  inv_price_before_exc  \\\n2651277     1000     US        0.005     0.0  1.000000                0.0041   \n1976400     1000     US        0.005     0.0  1.272783                0.0798   \n3845381    10000     US        0.000     0.0  1.000000                0.1300   \n3851594    10000     US        0.000     0.0  1.000000                0.1300   \n2144550     1500     US        0.005     0.0  1.000000                0.3230   \n\n         regular_landed_cost sea_landed_cost  \n2651277             0.504100          0.5041  \n1976400             0.601568        0.601568  \n3845381             0.630000            0.63  \n3851594             0.630000            0.63  \n2144550             0.823000           0.823  ",
      "text/html": "<div>\n<style scoped>\n    .dataframe tbody tr th:only-of-type {\n        vertical-align: middle;\n    }\n\n    .dataframe tbody tr th {\n        vertical-align: top;\n    }\n\n    .dataframe thead th {\n        text-align: right;\n    }\n</style>\n<table border=\"1\" class=\"dataframe\">\n  <thead>\n    <tr style=\"text-align: right;\">\n      <th></th>\n      <th>isbn</th>\n      <th>title</th>\n      <th>pub</th>\n      <th>author</th>\n      <th>supplier</th>\n      <th>currency</th>\n      <th>price</th>\n      <th>discount</th>\n      <th>shipping_cost</th>\n      <th>sea_shipping_cost</th>\n      <th>max_qty</th>\n      <th>origin</th>\n      <th>invoice_fee</th>\n      <th>lp_fee</th>\n      <th>rate</th>\n      <th>inv_price_before_exc</th>\n      <th>regular_landed_cost</th>\n      <th>sea_landed_cost</th>\n    </tr>\n  </thead>\n  <tbody>\n    <tr>\n      <th>2651277</th>\n      <td>9780786820771</td>\n      <td>N/A</td>\n      <td>HACHETTE LIVE</td>\n      <td>N/A</td>\n      <td>ALEK</td>\n      <td>USD</td>\n      <td>0.01</td>\n      <td>0.59</td>\n      <td>0.5</td>\n      <td>0.5</td>\n      <td>1000</td>\n      <td>US</td>\n      <td>0.005</td>\n      <td>0.0</td>\n      <td>1.000000</td>\n      <td>0.0041</td>\n      <td>0.504100</td>\n      <td>0.5041</td>\n    </tr>\n    <tr>\n      <th>1976400</th>\n      <td>9780194705493</td>\n      <td>N/A</td>\n      <td>OXFORD UP ELT</td>\n      <td>N/A</td>\n      <td>ALEK</td>\n      <td>GBP</td>\n      <td>0.14</td>\n      <td>0.43</td>\n      <td>0.5</td>\n      <td>0.5</td>\n      <td>1000</td>\n      <td>US</td>\n      <td>0.005</td>\n      <td>0.0</td>\n      <td>1.272783</td>\n      <td>0.0798</td>\n      <td>0.601568</td>\n      <td>0.601568</td>\n    </tr>\n    <tr>\n      <th>3845381</th>\n      <td>9780078022159</td>\n      <td>DATABASE SYSTEM CONCEPTS</td>\n      <td>MCGRAW</td>\n      <td>KORTH, HENRY F., SUDARSHAN, S., SILBERSCHATZ, ...</td>\n      <td>RAJAN</td>\n      <td>USD</td>\n      <td>0.25</td>\n      <td>0.48</td>\n      <td>0.5</td>\n      <td>0.5</td>\n      <td>10000</td>\n      <td>US</td>\n      <td>0.000</td>\n      <td>0.0</td>\n      <td>1.000000</td>\n      <td>0.1300</td>\n      <td>0.630000</td>\n      <td>0.63</td>\n    </tr>\n    <tr>\n      <th>3851594</th>\n      <td>9781259922428</td>\n      <td>MEASUREMENT BY THE PHYSICAL EDUCATOR: WHY AND HOW</td>\n      <td>MCGRAW</td>\n      <td>DAVID R MILLER</td>\n      <td>RAJAN</td>\n      <td>USD</td>\n      <td>0.25</td>\n      <td>0.48</td>\n      <td>0.5</td>\n      <td>0.5</td>\n      <td>10000</td>\n      <td>US</td>\n      <td>0.000</td>\n      <td>0.0</td>\n      <td>1.000000</td>\n      <td>0.1300</td>\n      <td>0.630000</td>\n      <td>0.63</td>\n    </tr>\n    <tr>\n      <th>2144550</th>\n      <td>9781101950821</td>\n      <td>N/A</td>\n      <td>RANDOM HOUSE</td>\n      <td>N/A</td>\n      <td>ALEK</td>\n      <td>USD</td>\n      <td>0.95</td>\n      <td>0.66</td>\n      <td>0.5</td>\n      <td>0.5</td>\n      <td>1500</td>\n      <td>US</td>\n      <td>0.005</td>\n      <td>0.0</td>\n      <td>1.000000</td>\n      <td>0.3230</td>\n      <td>0.823000</td>\n      <td>0.823</td>\n    </tr>\n  </tbody>\n</table>\n</div>"
     },
     "metadata": {},
     "execution_count": 34
    }
   ],
   "source": [
    "all_rest.drop(\n",
    "    all_rest[\n",
    "        (all_rest['supplier'] == all_rest['vendor'])\n",
    "        ].index, inplace = True\n",
    ")\n",
    "all_rest.drop(columns=['vendor'], inplace = True)\n",
    "all_rest = all_rest.sort_values(by=['regular_landed_cost'])\n",
    "all_rest.head()"
   ]
  },
  {
   "cell_type": "code",
   "execution_count": 35,
   "metadata": {
    "scrolled": true
   },
   "outputs": [
    {
     "output_type": "execute_result",
     "data": {
      "text/plain": "                  isbn                                              title  \\\n2651277  9780786820771                                                N/A   \n1976400  9780194705493                                                N/A   \n3845381  9780078022159                           DATABASE SYSTEM CONCEPTS   \n3851594  9781259922428  MEASUREMENT BY THE PHYSICAL EDUCATOR: WHY AND HOW   \n2144550  9781101950821                                                N/A   \n\n                   pub                                             author  \\\n2651277  HACHETTE LIVE                                                N/A   \n1976400  OXFORD UP ELT                                                N/A   \n3845381         MCGRAW  KORTH, HENRY F., SUDARSHAN, S., SILBERSCHATZ, ...   \n3851594         MCGRAW                                     DAVID R MILLER   \n2144550   RANDOM HOUSE                                                N/A   \n\n        supplier currency  price  discount  shipping_cost  sea_shipping_cost  \\\n2651277     ALEK      USD   0.01      0.59            0.5                0.5   \n1976400     ALEK      GBP   0.14      0.43            0.5                0.5   \n3845381    RAJAN      USD   0.25      0.48            0.5                0.5   \n3851594    RAJAN      USD   0.25      0.48            0.5                0.5   \n2144550     ALEK      USD   0.95      0.66            0.5                0.5   \n\n         max_qty origin  invoice_fee  lp_fee      rate  inv_price_before_exc  \\\n2651277     1000     US        0.005     0.0  1.000000                0.0041   \n1976400     1000     US        0.005     0.0  1.272783                0.0798   \n3845381    10000     US        0.000     0.0  1.000000                0.1300   \n3851594    10000     US        0.000     0.0  1.000000                0.1300   \n2144550     1500     US        0.005     0.0  1.000000                0.3230   \n\n         regular_landed_cost  sea_landed_cost  \n2651277             0.504100         0.504100  \n1976400             0.601568         0.601568  \n3845381             0.630000         0.630000  \n3851594             0.630000         0.630000  \n2144550             0.823000         0.823000  ",
      "text/html": "<div>\n<style scoped>\n    .dataframe tbody tr th:only-of-type {\n        vertical-align: middle;\n    }\n\n    .dataframe tbody tr th {\n        vertical-align: top;\n    }\n\n    .dataframe thead th {\n        text-align: right;\n    }\n</style>\n<table border=\"1\" class=\"dataframe\">\n  <thead>\n    <tr style=\"text-align: right;\">\n      <th></th>\n      <th>isbn</th>\n      <th>title</th>\n      <th>pub</th>\n      <th>author</th>\n      <th>supplier</th>\n      <th>currency</th>\n      <th>price</th>\n      <th>discount</th>\n      <th>shipping_cost</th>\n      <th>sea_shipping_cost</th>\n      <th>max_qty</th>\n      <th>origin</th>\n      <th>invoice_fee</th>\n      <th>lp_fee</th>\n      <th>rate</th>\n      <th>inv_price_before_exc</th>\n      <th>regular_landed_cost</th>\n      <th>sea_landed_cost</th>\n    </tr>\n  </thead>\n  <tbody>\n    <tr>\n      <th>2651277</th>\n      <td>9780786820771</td>\n      <td>N/A</td>\n      <td>HACHETTE LIVE</td>\n      <td>N/A</td>\n      <td>ALEK</td>\n      <td>USD</td>\n      <td>0.01</td>\n      <td>0.59</td>\n      <td>0.5</td>\n      <td>0.5</td>\n      <td>1000</td>\n      <td>US</td>\n      <td>0.005</td>\n      <td>0.0</td>\n      <td>1.000000</td>\n      <td>0.0041</td>\n      <td>0.504100</td>\n      <td>0.504100</td>\n    </tr>\n    <tr>\n      <th>1976400</th>\n      <td>9780194705493</td>\n      <td>N/A</td>\n      <td>OXFORD UP ELT</td>\n      <td>N/A</td>\n      <td>ALEK</td>\n      <td>GBP</td>\n      <td>0.14</td>\n      <td>0.43</td>\n      <td>0.5</td>\n      <td>0.5</td>\n      <td>1000</td>\n      <td>US</td>\n      <td>0.005</td>\n      <td>0.0</td>\n      <td>1.272783</td>\n      <td>0.0798</td>\n      <td>0.601568</td>\n      <td>0.601568</td>\n    </tr>\n    <tr>\n      <th>3845381</th>\n      <td>9780078022159</td>\n      <td>DATABASE SYSTEM CONCEPTS</td>\n      <td>MCGRAW</td>\n      <td>KORTH, HENRY F., SUDARSHAN, S., SILBERSCHATZ, ...</td>\n      <td>RAJAN</td>\n      <td>USD</td>\n      <td>0.25</td>\n      <td>0.48</td>\n      <td>0.5</td>\n      <td>0.5</td>\n      <td>10000</td>\n      <td>US</td>\n      <td>0.000</td>\n      <td>0.0</td>\n      <td>1.000000</td>\n      <td>0.1300</td>\n      <td>0.630000</td>\n      <td>0.630000</td>\n    </tr>\n    <tr>\n      <th>3851594</th>\n      <td>9781259922428</td>\n      <td>MEASUREMENT BY THE PHYSICAL EDUCATOR: WHY AND HOW</td>\n      <td>MCGRAW</td>\n      <td>DAVID R MILLER</td>\n      <td>RAJAN</td>\n      <td>USD</td>\n      <td>0.25</td>\n      <td>0.48</td>\n      <td>0.5</td>\n      <td>0.5</td>\n      <td>10000</td>\n      <td>US</td>\n      <td>0.000</td>\n      <td>0.0</td>\n      <td>1.000000</td>\n      <td>0.1300</td>\n      <td>0.630000</td>\n      <td>0.630000</td>\n    </tr>\n    <tr>\n      <th>2144550</th>\n      <td>9781101950821</td>\n      <td>N/A</td>\n      <td>RANDOM HOUSE</td>\n      <td>N/A</td>\n      <td>ALEK</td>\n      <td>USD</td>\n      <td>0.95</td>\n      <td>0.66</td>\n      <td>0.5</td>\n      <td>0.5</td>\n      <td>1500</td>\n      <td>US</td>\n      <td>0.005</td>\n      <td>0.0</td>\n      <td>1.000000</td>\n      <td>0.3230</td>\n      <td>0.823000</td>\n      <td>0.823000</td>\n    </tr>\n  </tbody>\n</table>\n</div>"
     },
     "metadata": {},
     "execution_count": 35
    }
   ],
   "source": [
    "all_rest = all_rest.fillna('N/A')\n",
    "all_rest.head()"
   ]
  },
  {
   "cell_type": "markdown",
   "metadata": {},
   "source": [
    "## Extra: Getting suppliers from UK, CAN, US"
   ]
  },
  {
   "cell_type": "code",
   "execution_count": 36,
   "metadata": {},
   "outputs": [
    {
     "output_type": "execute_result",
     "data": {
      "text/plain": "                  isbn                                              title  \\\n2651277  9780786820771                                                N/A   \n1976400  9780194705493                                                N/A   \n3845381  9780078022159                           DATABASE SYSTEM CONCEPTS   \n3851594  9781259922428  MEASUREMENT BY THE PHYSICAL EDUCATOR: WHY AND HOW   \n2144550  9781101950821                                                N/A   \n\n                   pub                                             author  \\\n2651277  HACHETTE LIVE                                                N/A   \n1976400  OXFORD UP ELT                                                N/A   \n3845381         MCGRAW  KORTH, HENRY F., SUDARSHAN, S., SILBERSCHATZ, ...   \n3851594         MCGRAW                                     DAVID R MILLER   \n2144550   RANDOM HOUSE                                                N/A   \n\n        supplier currency  price  discount  shipping_cost  sea_shipping_cost  \\\n2651277     ALEK      USD   0.01      0.59            0.5                0.5   \n1976400     ALEK      GBP   0.14      0.43            0.5                0.5   \n3845381    RAJAN      USD   0.25      0.48            0.5                0.5   \n3851594    RAJAN      USD   0.25      0.48            0.5                0.5   \n2144550     ALEK      USD   0.95      0.66            0.5                0.5   \n\n         max_qty origin  invoice_fee  lp_fee      rate  inv_price_before_exc  \\\n2651277     1000     US        0.005     0.0  1.000000                0.0041   \n1976400     1000     US        0.005     0.0  1.272783                0.0798   \n3845381    10000     US        0.000     0.0  1.000000                0.1300   \n3851594    10000     US        0.000     0.0  1.000000                0.1300   \n2144550     1500     US        0.005     0.0  1.000000                0.3230   \n\n         regular_landed_cost  sea_landed_cost  \n2651277             0.504100         0.504100  \n1976400             0.601568         0.601568  \n3845381             0.630000         0.630000  \n3851594             0.630000         0.630000  \n2144550             0.823000         0.823000  ",
      "text/html": "<div>\n<style scoped>\n    .dataframe tbody tr th:only-of-type {\n        vertical-align: middle;\n    }\n\n    .dataframe tbody tr th {\n        vertical-align: top;\n    }\n\n    .dataframe thead th {\n        text-align: right;\n    }\n</style>\n<table border=\"1\" class=\"dataframe\">\n  <thead>\n    <tr style=\"text-align: right;\">\n      <th></th>\n      <th>isbn</th>\n      <th>title</th>\n      <th>pub</th>\n      <th>author</th>\n      <th>supplier</th>\n      <th>currency</th>\n      <th>price</th>\n      <th>discount</th>\n      <th>shipping_cost</th>\n      <th>sea_shipping_cost</th>\n      <th>max_qty</th>\n      <th>origin</th>\n      <th>invoice_fee</th>\n      <th>lp_fee</th>\n      <th>rate</th>\n      <th>inv_price_before_exc</th>\n      <th>regular_landed_cost</th>\n      <th>sea_landed_cost</th>\n    </tr>\n  </thead>\n  <tbody>\n    <tr>\n      <th>2651277</th>\n      <td>9780786820771</td>\n      <td>N/A</td>\n      <td>HACHETTE LIVE</td>\n      <td>N/A</td>\n      <td>ALEK</td>\n      <td>USD</td>\n      <td>0.01</td>\n      <td>0.59</td>\n      <td>0.5</td>\n      <td>0.5</td>\n      <td>1000</td>\n      <td>US</td>\n      <td>0.005</td>\n      <td>0.0</td>\n      <td>1.000000</td>\n      <td>0.0041</td>\n      <td>0.504100</td>\n      <td>0.504100</td>\n    </tr>\n    <tr>\n      <th>1976400</th>\n      <td>9780194705493</td>\n      <td>N/A</td>\n      <td>OXFORD UP ELT</td>\n      <td>N/A</td>\n      <td>ALEK</td>\n      <td>GBP</td>\n      <td>0.14</td>\n      <td>0.43</td>\n      <td>0.5</td>\n      <td>0.5</td>\n      <td>1000</td>\n      <td>US</td>\n      <td>0.005</td>\n      <td>0.0</td>\n      <td>1.272783</td>\n      <td>0.0798</td>\n      <td>0.601568</td>\n      <td>0.601568</td>\n    </tr>\n    <tr>\n      <th>3845381</th>\n      <td>9780078022159</td>\n      <td>DATABASE SYSTEM CONCEPTS</td>\n      <td>MCGRAW</td>\n      <td>KORTH, HENRY F., SUDARSHAN, S., SILBERSCHATZ, ...</td>\n      <td>RAJAN</td>\n      <td>USD</td>\n      <td>0.25</td>\n      <td>0.48</td>\n      <td>0.5</td>\n      <td>0.5</td>\n      <td>10000</td>\n      <td>US</td>\n      <td>0.000</td>\n      <td>0.0</td>\n      <td>1.000000</td>\n      <td>0.1300</td>\n      <td>0.630000</td>\n      <td>0.630000</td>\n    </tr>\n    <tr>\n      <th>3851594</th>\n      <td>9781259922428</td>\n      <td>MEASUREMENT BY THE PHYSICAL EDUCATOR: WHY AND HOW</td>\n      <td>MCGRAW</td>\n      <td>DAVID R MILLER</td>\n      <td>RAJAN</td>\n      <td>USD</td>\n      <td>0.25</td>\n      <td>0.48</td>\n      <td>0.5</td>\n      <td>0.5</td>\n      <td>10000</td>\n      <td>US</td>\n      <td>0.000</td>\n      <td>0.0</td>\n      <td>1.000000</td>\n      <td>0.1300</td>\n      <td>0.630000</td>\n      <td>0.630000</td>\n    </tr>\n    <tr>\n      <th>2144550</th>\n      <td>9781101950821</td>\n      <td>N/A</td>\n      <td>RANDOM HOUSE</td>\n      <td>N/A</td>\n      <td>ALEK</td>\n      <td>USD</td>\n      <td>0.95</td>\n      <td>0.66</td>\n      <td>0.5</td>\n      <td>0.5</td>\n      <td>1500</td>\n      <td>US</td>\n      <td>0.005</td>\n      <td>0.0</td>\n      <td>1.000000</td>\n      <td>0.3230</td>\n      <td>0.823000</td>\n      <td>0.823000</td>\n    </tr>\n  </tbody>\n</table>\n</div>"
     },
     "metadata": {},
     "execution_count": 36
    }
   ],
   "source": [
    "first_filter = all_rest[\n",
    "    (all_rest['origin'] == 'UK')\n",
    "    | (all_rest['origin'] == 'US')\n",
    "    | (all_rest['origin'] == 'CAN')\n",
    "    ]\n",
    "\n",
    "first_filter.head()"
   ]
  },
  {
   "cell_type": "code",
   "execution_count": 37,
   "metadata": {},
   "outputs": [],
   "source": [
    "isbn_list = list(pd.read_excel('important_files/list_cost_analysis.xlsx',  sheet_name='list')['Isbn'].astype(str).astype(str))"
   ]
  },
  {
   "cell_type": "code",
   "execution_count": 38,
   "metadata": {},
   "outputs": [],
   "source": [
    "ocenia_asia_europe = all_rest[~all_rest['origin'].isin(['CAN', 'US', 'CANADA'])]\n",
    "ocenia_asia_europe.to_csv('retail/ocenia_asia_europe.csv', index= False)\n",
    "uk_us_can = first_filter[first_filter['isbn'].isin(isbn_list)]\n",
    "uk_us_can.to_csv('retail/uk_us_can.csv', index= False)\n",
    "all_suppliers = all_rest[all_rest['isbn'].isin(isbn_list)]\n",
    "all_suppliers.to_csv('retail/all_suppliers.csv', index= False)\n",
    "# elsevier = all_rest[all_rest['pub'].str.contains('ELSEVIER')]\n",
    "# elsevier.to_csv('retail/elsevier.csv', index= False)\n",
    "# elsevier_cengage = all_rest[all_rest['pub'].str.contains('CENG') | all_rest['pub'].str.contains('ELSE')]\n",
    "gardner = all_rest[all_rest['isbn'].isin(isbn_list)].drop_duplicates(subset =\"isbn\", keep = False) \n",
    "gardner.to_csv('retail/gardner.csv', index= False)"
   ]
  },
  {
   "cell_type": "code",
   "execution_count": 39,
   "metadata": {},
   "outputs": [],
   "source": [
    "# all_rest.to_csv('important_files/python/ca_results.csv', index= False)\n",
    "\n",
    "\n"
   ]
  }
 ],
 "metadata": {
  "file_extension": ".py",
  "kernelspec": {
   "display_name": "Python 3",
   "language": "python",
   "name": "python3"
  },
  "language_info": {
   "codemirror_mode": {
    "name": "ipython",
    "version": 3
   },
   "file_extension": ".py",
   "mimetype": "text/x-python",
   "name": "python",
   "nbconvert_exporter": "python",
   "pygments_lexer": "ipython3",
   "version": "3.7.6-final"
  },
  "mimetype": "text/x-python",
  "name": "python",
  "npconvert_exporter": "python",
  "pygments_lexer": "ipython3",
  "version": 3
 },
 "nbformat": 4,
 "nbformat_minor": 2
}