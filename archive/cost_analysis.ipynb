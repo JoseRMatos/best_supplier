{
 "cells": [
  {
   "cell_type": "code",
   "execution_count": 1,
   "metadata": {},
   "outputs": [],
   "source": [
    "import pandas as pd\n",
    "import pyodbc\n",
    "import numpy as np"
   ]
  },
  {
   "cell_type": "code",
   "execution_count": 2,
   "metadata": {},
   "outputs": [],
   "source": [
    "import sqlCredentials as sql"
   ]
  },
  {
   "cell_type": "code",
   "execution_count": 3,
   "metadata": {},
   "outputs": [],
   "source": [
    "proc_db = pyodbc.connect(\n",
    "    'DRIVER={ODBC Driver 17 for SQL Server};'\n",
    "    'Server=52.86.56.66;'\n",
    "    'Database=PROCUREMENTDB;'\n",
    "    'UID='+sql.username+';'\n",
    "    'PWD='+sql.password+';'\n",
    "    'Trusted_connection=no;'\n",
    ")"
   ]
  },
  {
   "cell_type": "code",
   "execution_count": 4,
   "metadata": {},
   "outputs": [],
   "source": [
    "pub_dict = \"\"\"\n",
    "SELECT *\n",
    "FROM dbo.PublisherDictionary\n",
    "\"\"\""
   ]
  },
  {
   "cell_type": "code",
   "execution_count": 5,
   "metadata": {},
   "outputs": [],
   "source": [
    "df = pd.read_sql(pub_dict,proc_db)"
   ]
  },
  {
   "cell_type": "code",
   "execution_count": 6,
   "metadata": {},
   "outputs": [
    {
     "output_type": "execute_result",
     "data": {
      "text/plain": "                                       PublisherLong  \\\n0                                     \"Abrams, Inc.\"   \n1             \"Addison-Wesley Longman, Incorporated\"   \n2                  \"Addison-Wesley Longman, Limited\"   \n3                      \"Allyn & Bacon, Incorporated\"   \n4  \"American Occupational Therapy Association, In...   \n\n                                      PublisherShort  \n0                                             ABRAMS  \n1                                            PEARSON  \n2                                            PEARSON  \n3                                            PEARSON  \n4  American Occupational Therapy Association, Inc...  ",
      "text/html": "<div>\n<style scoped>\n    .dataframe tbody tr th:only-of-type {\n        vertical-align: middle;\n    }\n\n    .dataframe tbody tr th {\n        vertical-align: top;\n    }\n\n    .dataframe thead th {\n        text-align: right;\n    }\n</style>\n<table border=\"1\" class=\"dataframe\">\n  <thead>\n    <tr style=\"text-align: right;\">\n      <th></th>\n      <th>PublisherLong</th>\n      <th>PublisherShort</th>\n    </tr>\n  </thead>\n  <tbody>\n    <tr>\n      <th>0</th>\n      <td>\"Abrams, Inc.\"</td>\n      <td>ABRAMS</td>\n    </tr>\n    <tr>\n      <th>1</th>\n      <td>\"Addison-Wesley Longman, Incorporated\"</td>\n      <td>PEARSON</td>\n    </tr>\n    <tr>\n      <th>2</th>\n      <td>\"Addison-Wesley Longman, Limited\"</td>\n      <td>PEARSON</td>\n    </tr>\n    <tr>\n      <th>3</th>\n      <td>\"Allyn &amp; Bacon, Incorporated\"</td>\n      <td>PEARSON</td>\n    </tr>\n    <tr>\n      <th>4</th>\n      <td>\"American Occupational Therapy Association, In...</td>\n      <td>American Occupational Therapy Association, Inc...</td>\n    </tr>\n  </tbody>\n</table>\n</div>"
     },
     "metadata": {},
     "execution_count": 6
    }
   ],
   "source": [
    "df.head()"
   ]
  },
  {
   "cell_type": "code",
   "execution_count": 7,
   "metadata": {},
   "outputs": [
    {
     "output_type": "execute_result",
     "data": {
      "text/plain": "PublisherLong     object\nPublisherShort    object\ndtype: object"
     },
     "metadata": {},
     "execution_count": 7
    }
   ],
   "source": [
    "df.dtypes"
   ]
  },
  {
   "cell_type": "code",
   "execution_count": 8,
   "metadata": {},
   "outputs": [],
   "source": [
    "megalist = \"\"\"\n",
    "SELECT *\n",
    "FROM Process.SupplierMegaList\n",
    "\"\"\""
   ]
  },
  {
   "cell_type": "code",
   "execution_count": 9,
   "metadata": {},
   "outputs": [],
   "source": [
    "megalist = pd.read_sql(megalist,proc_db)"
   ]
  },
  {
   "cell_type": "code",
   "execution_count": 10,
   "metadata": {},
   "outputs": [
    {
     "output_type": "execute_result",
     "data": {
      "text/plain": "            ISBN Supplier                     ListName         Publisher  \\\n0  9780262530873  BILLSON                  pubs_matrix  UNIVERSITY PRESS   \n1  9780262530989  BILLSON                  pubs_matrix  UNIVERSITY PRESS   \n2  9781760110185   ZOOKAL  Zookal Supplylist 3-23-2020     ALIEN & UNWIN   \n3  9780262531092  BILLSON                  pubs_matrix  UNIVERSITY PRESS   \n4  9780262531238  BILLSON                  pubs_matrix  UNIVERSITY PRESS   \n\n  Currency  ListPrice  Discount  CostUnitPrice  OrderPercentFee  FlatRateFee  \\\n0      GBP       4.99      0.38           3.09             0.03          0.0   \n1      GBP      25.00      0.38          15.50             0.03          0.0   \n2      AUD       0.00      0.00          13.00             0.00          0.0   \n3      GBP      37.95      0.38          23.53             0.03          0.0   \n4      GBP      28.00      0.38          17.36             0.03          0.0   \n\n   ... MaxCostPerOrder  MinCostPerOrder  ShipmentOrigin  Recurrency  Stockqty  \\\n0  ...             0.0              0.0              UK      weekly         3   \n1  ...             0.0              0.0              UK      weekly         3   \n2  ...             0.0              0.0             AUS      1 time       150   \n3  ...             0.0              0.0              UK      weekly         3   \n4  ...             0.0              0.0              UK      weekly         3   \n\n  UnitShippingCost ExpirationDate  TotalUnitCost  Comment  \\\n0             3.47     2020-03-06           7.43     None   \n1             3.47     2020-03-06          23.33     None   \n2             3.30     2020-09-19          11.88     None   \n3             3.47     2020-03-06          33.62     None   \n4             3.47     2020-03-06          25.71     None   \n\n                Timestamp  \n0 2020-04-29 12:00:00.800  \n1 2020-04-29 12:00:00.800  \n2 2020-04-29 12:00:00.800  \n3 2020-04-29 12:00:00.800  \n4 2020-04-29 12:00:00.800  \n\n[5 rows x 23 columns]",
      "text/html": "<div>\n<style scoped>\n    .dataframe tbody tr th:only-of-type {\n        vertical-align: middle;\n    }\n\n    .dataframe tbody tr th {\n        vertical-align: top;\n    }\n\n    .dataframe thead th {\n        text-align: right;\n    }\n</style>\n<table border=\"1\" class=\"dataframe\">\n  <thead>\n    <tr style=\"text-align: right;\">\n      <th></th>\n      <th>ISBN</th>\n      <th>Supplier</th>\n      <th>ListName</th>\n      <th>Publisher</th>\n      <th>Currency</th>\n      <th>ListPrice</th>\n      <th>Discount</th>\n      <th>CostUnitPrice</th>\n      <th>OrderPercentFee</th>\n      <th>FlatRateFee</th>\n      <th>...</th>\n      <th>MaxCostPerOrder</th>\n      <th>MinCostPerOrder</th>\n      <th>ShipmentOrigin</th>\n      <th>Recurrency</th>\n      <th>Stockqty</th>\n      <th>UnitShippingCost</th>\n      <th>ExpirationDate</th>\n      <th>TotalUnitCost</th>\n      <th>Comment</th>\n      <th>Timestamp</th>\n    </tr>\n  </thead>\n  <tbody>\n    <tr>\n      <th>0</th>\n      <td>9780262530873</td>\n      <td>BILLSON</td>\n      <td>pubs_matrix</td>\n      <td>UNIVERSITY PRESS</td>\n      <td>GBP</td>\n      <td>4.99</td>\n      <td>0.38</td>\n      <td>3.09</td>\n      <td>0.03</td>\n      <td>0.0</td>\n      <td>...</td>\n      <td>0.0</td>\n      <td>0.0</td>\n      <td>UK</td>\n      <td>weekly</td>\n      <td>3</td>\n      <td>3.47</td>\n      <td>2020-03-06</td>\n      <td>7.43</td>\n      <td>None</td>\n      <td>2020-04-29 12:00:00.800</td>\n    </tr>\n    <tr>\n      <th>1</th>\n      <td>9780262530989</td>\n      <td>BILLSON</td>\n      <td>pubs_matrix</td>\n      <td>UNIVERSITY PRESS</td>\n      <td>GBP</td>\n      <td>25.00</td>\n      <td>0.38</td>\n      <td>15.50</td>\n      <td>0.03</td>\n      <td>0.0</td>\n      <td>...</td>\n      <td>0.0</td>\n      <td>0.0</td>\n      <td>UK</td>\n      <td>weekly</td>\n      <td>3</td>\n      <td>3.47</td>\n      <td>2020-03-06</td>\n      <td>23.33</td>\n      <td>None</td>\n      <td>2020-04-29 12:00:00.800</td>\n    </tr>\n    <tr>\n      <th>2</th>\n      <td>9781760110185</td>\n      <td>ZOOKAL</td>\n      <td>Zookal Supplylist 3-23-2020</td>\n      <td>ALIEN &amp; UNWIN</td>\n      <td>AUD</td>\n      <td>0.00</td>\n      <td>0.00</td>\n      <td>13.00</td>\n      <td>0.00</td>\n      <td>0.0</td>\n      <td>...</td>\n      <td>0.0</td>\n      <td>0.0</td>\n      <td>AUS</td>\n      <td>1 time</td>\n      <td>150</td>\n      <td>3.30</td>\n      <td>2020-09-19</td>\n      <td>11.88</td>\n      <td>None</td>\n      <td>2020-04-29 12:00:00.800</td>\n    </tr>\n    <tr>\n      <th>3</th>\n      <td>9780262531092</td>\n      <td>BILLSON</td>\n      <td>pubs_matrix</td>\n      <td>UNIVERSITY PRESS</td>\n      <td>GBP</td>\n      <td>37.95</td>\n      <td>0.38</td>\n      <td>23.53</td>\n      <td>0.03</td>\n      <td>0.0</td>\n      <td>...</td>\n      <td>0.0</td>\n      <td>0.0</td>\n      <td>UK</td>\n      <td>weekly</td>\n      <td>3</td>\n      <td>3.47</td>\n      <td>2020-03-06</td>\n      <td>33.62</td>\n      <td>None</td>\n      <td>2020-04-29 12:00:00.800</td>\n    </tr>\n    <tr>\n      <th>4</th>\n      <td>9780262531238</td>\n      <td>BILLSON</td>\n      <td>pubs_matrix</td>\n      <td>UNIVERSITY PRESS</td>\n      <td>GBP</td>\n      <td>28.00</td>\n      <td>0.38</td>\n      <td>17.36</td>\n      <td>0.03</td>\n      <td>0.0</td>\n      <td>...</td>\n      <td>0.0</td>\n      <td>0.0</td>\n      <td>UK</td>\n      <td>weekly</td>\n      <td>3</td>\n      <td>3.47</td>\n      <td>2020-03-06</td>\n      <td>25.71</td>\n      <td>None</td>\n      <td>2020-04-29 12:00:00.800</td>\n    </tr>\n  </tbody>\n</table>\n<p>5 rows × 23 columns</p>\n</div>"
     },
     "metadata": {},
     "execution_count": 10
    }
   ],
   "source": [
    "megalist.head()"
   ]
  },
  {
   "cell_type": "code",
   "execution_count": 11,
   "metadata": {},
   "outputs": [
    {
     "output_type": "execute_result",
     "data": {
      "text/plain": "ISBN                        object\nSupplier                    object\nListName                    object\nPublisher                   object\nCurrency                    object\nListPrice                  float64\nDiscount                   float64\nCostUnitPrice              float64\nOrderPercentFee            float64\nFlatRateFee                float64\nLeadTimeWeeks               object\nMaxQtyPerOrder               int64\nMinQtyPerOrder               int64\nMaxCostPerOrder            float64\nMinCostPerOrder            float64\nShipmentOrigin              object\nRecurrency                  object\nStockqty                     int64\nUnitShippingCost           float64\nExpirationDate      datetime64[ns]\nTotalUnitCost              float64\nComment                     object\nTimestamp           datetime64[ns]\ndtype: object"
     },
     "metadata": {},
     "execution_count": 11
    }
   ],
   "source": [
    "megalist.dtypes"
   ]
  },
  {
   "cell_type": "code",
   "execution_count": 12,
   "metadata": {
    "scrolled": true
   },
   "outputs": [
    {
     "output_type": "execute_result",
     "data": {
      "text/plain": "Index(['ISBN', 'Supplier', 'ListName', 'Publisher', 'Currency', 'ListPrice',\n       'Discount', 'CostUnitPrice', 'OrderPercentFee', 'FlatRateFee',\n       'LeadTimeWeeks', 'MaxQtyPerOrder', 'MinQtyPerOrder', 'MaxCostPerOrder',\n       'MinCostPerOrder', 'ShipmentOrigin', 'Recurrency', 'Stockqty',\n       'UnitShippingCost', 'ExpirationDate', 'TotalUnitCost', 'Comment',\n       'Timestamp'],\n      dtype='object')"
     },
     "metadata": {},
     "execution_count": 12
    }
   ],
   "source": [
    "megalist.columns"
   ]
  },
  {
   "cell_type": "code",
   "execution_count": 13,
   "metadata": {},
   "outputs": [],
   "source": [
    "sup_list = megalist[['ISBN', 'Supplier', 'Publisher', 'Currency','ListPrice','Discount','CostUnitPrice', 'UnitShippingCost', 'MaxQtyPerOrder']]"
   ]
  },
  {
   "cell_type": "code",
   "execution_count": 14,
   "metadata": {},
   "outputs": [
    {
     "output_type": "execute_result",
     "data": {
      "text/plain": "            ISBN Supplier         Publisher Currency  ListPrice  Discount  \\\n0  9780262530873  BILLSON  UNIVERSITY PRESS      GBP       4.99      0.38   \n1  9780262530989  BILLSON  UNIVERSITY PRESS      GBP      25.00      0.38   \n2  9781760110185   ZOOKAL     ALIEN & UNWIN      AUD       0.00      0.00   \n3  9780262531092  BILLSON  UNIVERSITY PRESS      GBP      37.95      0.38   \n4  9780262531238  BILLSON  UNIVERSITY PRESS      GBP      28.00      0.38   \n\n   CostUnitPrice  UnitShippingCost  MaxQtyPerOrder  \n0           3.09              3.47            1000  \n1          15.50              3.47            1000  \n2          13.00              3.30             150  \n3          23.53              3.47            1000  \n4          17.36              3.47            1000  ",
      "text/html": "<div>\n<style scoped>\n    .dataframe tbody tr th:only-of-type {\n        vertical-align: middle;\n    }\n\n    .dataframe tbody tr th {\n        vertical-align: top;\n    }\n\n    .dataframe thead th {\n        text-align: right;\n    }\n</style>\n<table border=\"1\" class=\"dataframe\">\n  <thead>\n    <tr style=\"text-align: right;\">\n      <th></th>\n      <th>ISBN</th>\n      <th>Supplier</th>\n      <th>Publisher</th>\n      <th>Currency</th>\n      <th>ListPrice</th>\n      <th>Discount</th>\n      <th>CostUnitPrice</th>\n      <th>UnitShippingCost</th>\n      <th>MaxQtyPerOrder</th>\n    </tr>\n  </thead>\n  <tbody>\n    <tr>\n      <th>0</th>\n      <td>9780262530873</td>\n      <td>BILLSON</td>\n      <td>UNIVERSITY PRESS</td>\n      <td>GBP</td>\n      <td>4.99</td>\n      <td>0.38</td>\n      <td>3.09</td>\n      <td>3.47</td>\n      <td>1000</td>\n    </tr>\n    <tr>\n      <th>1</th>\n      <td>9780262530989</td>\n      <td>BILLSON</td>\n      <td>UNIVERSITY PRESS</td>\n      <td>GBP</td>\n      <td>25.00</td>\n      <td>0.38</td>\n      <td>15.50</td>\n      <td>3.47</td>\n      <td>1000</td>\n    </tr>\n    <tr>\n      <th>2</th>\n      <td>9781760110185</td>\n      <td>ZOOKAL</td>\n      <td>ALIEN &amp; UNWIN</td>\n      <td>AUD</td>\n      <td>0.00</td>\n      <td>0.00</td>\n      <td>13.00</td>\n      <td>3.30</td>\n      <td>150</td>\n    </tr>\n    <tr>\n      <th>3</th>\n      <td>9780262531092</td>\n      <td>BILLSON</td>\n      <td>UNIVERSITY PRESS</td>\n      <td>GBP</td>\n      <td>37.95</td>\n      <td>0.38</td>\n      <td>23.53</td>\n      <td>3.47</td>\n      <td>1000</td>\n    </tr>\n    <tr>\n      <th>4</th>\n      <td>9780262531238</td>\n      <td>BILLSON</td>\n      <td>UNIVERSITY PRESS</td>\n      <td>GBP</td>\n      <td>28.00</td>\n      <td>0.38</td>\n      <td>17.36</td>\n      <td>3.47</td>\n      <td>1000</td>\n    </tr>\n  </tbody>\n</table>\n</div>"
     },
     "metadata": {},
     "execution_count": 14
    }
   ],
   "source": [
    "sup_list.head()"
   ]
  },
  {
   "cell_type": "code",
   "execution_count": 15,
   "metadata": {},
   "outputs": [],
   "source": [
    "sup_list['price'] = np.where(sup_list['ListPrice'] == 0.00, sup_list['CostUnitPrice'], sup_list['ListPrice'])"
   ]
  },
  {
   "cell_type": "code",
   "execution_count": 16,
   "metadata": {},
   "outputs": [
    {
     "output_type": "execute_result",
     "data": {
      "text/plain": "            ISBN Supplier         Publisher Currency  ListPrice  Discount  \\\n0  9780262530873  BILLSON  UNIVERSITY PRESS      GBP       4.99      0.38   \n1  9780262530989  BILLSON  UNIVERSITY PRESS      GBP      25.00      0.38   \n2  9781760110185   ZOOKAL     ALIEN & UNWIN      AUD       0.00      0.00   \n3  9780262531092  BILLSON  UNIVERSITY PRESS      GBP      37.95      0.38   \n4  9780262531238  BILLSON  UNIVERSITY PRESS      GBP      28.00      0.38   \n\n   CostUnitPrice  UnitShippingCost  MaxQtyPerOrder  price  \n0           3.09              3.47            1000   4.99  \n1          15.50              3.47            1000  25.00  \n2          13.00              3.30             150  13.00  \n3          23.53              3.47            1000  37.95  \n4          17.36              3.47            1000  28.00  ",
      "text/html": "<div>\n<style scoped>\n    .dataframe tbody tr th:only-of-type {\n        vertical-align: middle;\n    }\n\n    .dataframe tbody tr th {\n        vertical-align: top;\n    }\n\n    .dataframe thead th {\n        text-align: right;\n    }\n</style>\n<table border=\"1\" class=\"dataframe\">\n  <thead>\n    <tr style=\"text-align: right;\">\n      <th></th>\n      <th>ISBN</th>\n      <th>Supplier</th>\n      <th>Publisher</th>\n      <th>Currency</th>\n      <th>ListPrice</th>\n      <th>Discount</th>\n      <th>CostUnitPrice</th>\n      <th>UnitShippingCost</th>\n      <th>MaxQtyPerOrder</th>\n      <th>price</th>\n    </tr>\n  </thead>\n  <tbody>\n    <tr>\n      <th>0</th>\n      <td>9780262530873</td>\n      <td>BILLSON</td>\n      <td>UNIVERSITY PRESS</td>\n      <td>GBP</td>\n      <td>4.99</td>\n      <td>0.38</td>\n      <td>3.09</td>\n      <td>3.47</td>\n      <td>1000</td>\n      <td>4.99</td>\n    </tr>\n    <tr>\n      <th>1</th>\n      <td>9780262530989</td>\n      <td>BILLSON</td>\n      <td>UNIVERSITY PRESS</td>\n      <td>GBP</td>\n      <td>25.00</td>\n      <td>0.38</td>\n      <td>15.50</td>\n      <td>3.47</td>\n      <td>1000</td>\n      <td>25.00</td>\n    </tr>\n    <tr>\n      <th>2</th>\n      <td>9781760110185</td>\n      <td>ZOOKAL</td>\n      <td>ALIEN &amp; UNWIN</td>\n      <td>AUD</td>\n      <td>0.00</td>\n      <td>0.00</td>\n      <td>13.00</td>\n      <td>3.30</td>\n      <td>150</td>\n      <td>13.00</td>\n    </tr>\n    <tr>\n      <th>3</th>\n      <td>9780262531092</td>\n      <td>BILLSON</td>\n      <td>UNIVERSITY PRESS</td>\n      <td>GBP</td>\n      <td>37.95</td>\n      <td>0.38</td>\n      <td>23.53</td>\n      <td>3.47</td>\n      <td>1000</td>\n      <td>37.95</td>\n    </tr>\n    <tr>\n      <th>4</th>\n      <td>9780262531238</td>\n      <td>BILLSON</td>\n      <td>UNIVERSITY PRESS</td>\n      <td>GBP</td>\n      <td>28.00</td>\n      <td>0.38</td>\n      <td>17.36</td>\n      <td>3.47</td>\n      <td>1000</td>\n      <td>28.00</td>\n    </tr>\n  </tbody>\n</table>\n</div>"
     },
     "metadata": {},
     "execution_count": 16
    }
   ],
   "source": [
    "sup_list.head()"
   ]
  },
  {
   "cell_type": "code",
   "execution_count": 17,
   "metadata": {},
   "outputs": [],
   "source": [
    "sup_list.drop(columns = ['ListPrice', 'CostUnitPrice'], inplace = True)"
   ]
  },
  {
   "cell_type": "code",
   "execution_count": 18,
   "metadata": {},
   "outputs": [
    {
     "output_type": "execute_result",
     "data": {
      "text/plain": "                  ISBN Supplier         Publisher Currency  Discount  \\\n0        9780262530873  BILLSON  UNIVERSITY PRESS      GBP      0.38   \n1        9780262530989  BILLSON  UNIVERSITY PRESS      GBP      0.38   \n2        9781760110185   ZOOKAL     ALIEN & UNWIN      AUD      0.00   \n3        9780262531092  BILLSON  UNIVERSITY PRESS      GBP      0.38   \n4        9780262531238  BILLSON  UNIVERSITY PRESS      GBP      0.38   \n...                ...      ...               ...      ...       ...   \n3390617  9781936140589     ALEK     Charlesbridge      USD      0.66   \n3390618  9781936140596     ALEK     Charlesbridge      USD      0.66   \n3390619  9781936140619     ALEK     Charlesbridge      USD      0.66   \n3390620  9781936140664     ALEK     Charlesbridge      USD      0.66   \n3390621  9781936140695     ALEK     Charlesbridge      USD      0.66   \n\n         UnitShippingCost  MaxQtyPerOrder  price  \n0                    3.47            1000   4.99  \n1                    3.47            1000  25.00  \n2                    3.30             150  13.00  \n3                    3.47            1000  37.95  \n4                    3.47            1000  28.00  \n...                   ...             ...    ...  \n3390617              0.50             100   7.95  \n3390618              0.50             100   7.95  \n3390619              0.50             100  12.95  \n3390620              0.50             100  12.99  \n3390621              0.50             100  12.95  \n\n[3390622 rows x 8 columns]",
      "text/html": "<div>\n<style scoped>\n    .dataframe tbody tr th:only-of-type {\n        vertical-align: middle;\n    }\n\n    .dataframe tbody tr th {\n        vertical-align: top;\n    }\n\n    .dataframe thead th {\n        text-align: right;\n    }\n</style>\n<table border=\"1\" class=\"dataframe\">\n  <thead>\n    <tr style=\"text-align: right;\">\n      <th></th>\n      <th>ISBN</th>\n      <th>Supplier</th>\n      <th>Publisher</th>\n      <th>Currency</th>\n      <th>Discount</th>\n      <th>UnitShippingCost</th>\n      <th>MaxQtyPerOrder</th>\n      <th>price</th>\n    </tr>\n  </thead>\n  <tbody>\n    <tr>\n      <th>0</th>\n      <td>9780262530873</td>\n      <td>BILLSON</td>\n      <td>UNIVERSITY PRESS</td>\n      <td>GBP</td>\n      <td>0.38</td>\n      <td>3.47</td>\n      <td>1000</td>\n      <td>4.99</td>\n    </tr>\n    <tr>\n      <th>1</th>\n      <td>9780262530989</td>\n      <td>BILLSON</td>\n      <td>UNIVERSITY PRESS</td>\n      <td>GBP</td>\n      <td>0.38</td>\n      <td>3.47</td>\n      <td>1000</td>\n      <td>25.00</td>\n    </tr>\n    <tr>\n      <th>2</th>\n      <td>9781760110185</td>\n      <td>ZOOKAL</td>\n      <td>ALIEN &amp; UNWIN</td>\n      <td>AUD</td>\n      <td>0.00</td>\n      <td>3.30</td>\n      <td>150</td>\n      <td>13.00</td>\n    </tr>\n    <tr>\n      <th>3</th>\n      <td>9780262531092</td>\n      <td>BILLSON</td>\n      <td>UNIVERSITY PRESS</td>\n      <td>GBP</td>\n      <td>0.38</td>\n      <td>3.47</td>\n      <td>1000</td>\n      <td>37.95</td>\n    </tr>\n    <tr>\n      <th>4</th>\n      <td>9780262531238</td>\n      <td>BILLSON</td>\n      <td>UNIVERSITY PRESS</td>\n      <td>GBP</td>\n      <td>0.38</td>\n      <td>3.47</td>\n      <td>1000</td>\n      <td>28.00</td>\n    </tr>\n    <tr>\n      <th>...</th>\n      <td>...</td>\n      <td>...</td>\n      <td>...</td>\n      <td>...</td>\n      <td>...</td>\n      <td>...</td>\n      <td>...</td>\n      <td>...</td>\n    </tr>\n    <tr>\n      <th>3390617</th>\n      <td>9781936140589</td>\n      <td>ALEK</td>\n      <td>Charlesbridge</td>\n      <td>USD</td>\n      <td>0.66</td>\n      <td>0.50</td>\n      <td>100</td>\n      <td>7.95</td>\n    </tr>\n    <tr>\n      <th>3390618</th>\n      <td>9781936140596</td>\n      <td>ALEK</td>\n      <td>Charlesbridge</td>\n      <td>USD</td>\n      <td>0.66</td>\n      <td>0.50</td>\n      <td>100</td>\n      <td>7.95</td>\n    </tr>\n    <tr>\n      <th>3390619</th>\n      <td>9781936140619</td>\n      <td>ALEK</td>\n      <td>Charlesbridge</td>\n      <td>USD</td>\n      <td>0.66</td>\n      <td>0.50</td>\n      <td>100</td>\n      <td>12.95</td>\n    </tr>\n    <tr>\n      <th>3390620</th>\n      <td>9781936140664</td>\n      <td>ALEK</td>\n      <td>Charlesbridge</td>\n      <td>USD</td>\n      <td>0.66</td>\n      <td>0.50</td>\n      <td>100</td>\n      <td>12.99</td>\n    </tr>\n    <tr>\n      <th>3390621</th>\n      <td>9781936140695</td>\n      <td>ALEK</td>\n      <td>Charlesbridge</td>\n      <td>USD</td>\n      <td>0.66</td>\n      <td>0.50</td>\n      <td>100</td>\n      <td>12.95</td>\n    </tr>\n  </tbody>\n</table>\n<p>3390622 rows × 8 columns</p>\n</div>"
     },
     "metadata": {},
     "execution_count": 18
    }
   ],
   "source": [
    "sup_list"
   ]
  },
  {
   "cell_type": "code",
   "execution_count": 19,
   "metadata": {},
   "outputs": [
    {
     "output_type": "execute_result",
     "data": {
      "text/plain": "array(['BILLSON', 'ZOOKAL', 'Bertrams', 'ALEK', 'ALEK ', 'Felipe',\n       'Probook', 'ARMANDO', 'Billson', 'UT', 'Laurentiu', 'ABE', 'SENAD',\n       'Alek', 'Friday', 'BRYAN', 'RAJAN', 'LAURENTIU', 'SOHRAB', 'Apex',\n       'laurentiu', 'APEX', 'PROBOOK', 'Sohrab', 'Billson T', 'MYAMMAR',\n       'Bryan', 'Textbook Trade HK', 'Billson - T', 'GAUTAM', 'Armando',\n       'probook', 'Billson - SCI'], dtype=object)"
     },
     "metadata": {},
     "execution_count": 19
    }
   ],
   "source": [
    "sup_list['Supplier'].unique()"
   ]
  },
  {
   "cell_type": "code",
   "execution_count": 20,
   "metadata": {},
   "outputs": [],
   "source": [
    "def clean_up(phrase):\n",
    "    phrase = phrase.lstrip()\n",
    "    phrase = phrase.rstrip()\n",
    "    phrase = phrase.upper()\n",
    "    return phrase"
   ]
  },
  {
   "cell_type": "code",
   "execution_count": 21,
   "metadata": {},
   "outputs": [
    {
     "output_type": "execute_result",
     "data": {
      "text/plain": "array(['BILLSON', 'ZOOKAL', 'BERTRAMS', 'ALEK', 'FELIPE', 'PROBOOK',\n       'ARMANDO', 'UT', 'LAURENTIU', 'ABE', 'SENAD', 'FRIDAY', 'BRYAN',\n       'RAJAN', 'SOHRAB', 'APEX', 'BILLSON T', 'MYAMMAR',\n       'TEXTBOOK TRADE HK', 'BILLSON - T', 'GAUTAM', 'BILLSON - SCI'],\n      dtype=object)"
     },
     "metadata": {},
     "execution_count": 21
    }
   ],
   "source": [
    "str_columns = ['ISBN', 'Supplier', 'Publisher', 'Currency']\n",
    "\n",
    "for col in str_columns:\n",
    "    sup_list[col] = sup_list.apply(lambda x: clean_up(x[col]), axis =1)\n",
    "    \n",
    "sup_list['Supplier'].unique()"
   ]
  },
  {
   "cell_type": "code",
   "execution_count": 22,
   "metadata": {},
   "outputs": [
    {
     "output_type": "stream",
     "name": "stdout",
     "text": "['9780262530873' '9780262530989' '9781760110185' ... '9781936140350'\n '9781936140367' '9781936140411']\n['BILLSON' 'ZOOKAL' 'BERTRAMS' 'ALEK' 'FELIPE' 'PROBOOK' 'ARMANDO' 'UT'\n 'LAURENTIU' 'ABE' 'SENAD' 'FRIDAY' 'BRYAN' 'RAJAN' 'SOHRAB' 'APEX'\n 'BILLSON T' 'MYAMMAR' 'TEXTBOOK TRADE HK' 'BILLSON - T' 'GAUTAM'\n 'BILLSON - SCI']\n['UNIVERSITY PRESS' 'ALIEN & UNWIN' 'BLOOMSBURY' ... 'BLOODAXE BOOKS'\n 'BLOODAXE BOOKS LTD' 'BOOKS ON TAPE']\n['GBP' 'AUD' 'USD' 'CAD' 'EUR' 'SGD' 'TWD' 'CNY']\n"
    }
   ],
   "source": [
    "for col in str_columns:\n",
    "    print(sup_list[col].unique())"
   ]
  },
  {
   "cell_type": "code",
   "execution_count": 23,
   "metadata": {},
   "outputs": [
    {
     "output_type": "execute_result",
     "data": {
      "text/plain": "                                       PublisherLong  \\\n0                                     \"Abrams, Inc.\"   \n1             \"Addison-Wesley Longman, Incorporated\"   \n2                  \"Addison-Wesley Longman, Limited\"   \n3                      \"Allyn & Bacon, Incorporated\"   \n4  \"American Occupational Therapy Association, In...   \n\n                                      PublisherShort  \n0                                             ABRAMS  \n1                                            PEARSON  \n2                                            PEARSON  \n3                                            PEARSON  \n4  American Occupational Therapy Association, Inc...  ",
      "text/html": "<div>\n<style scoped>\n    .dataframe tbody tr th:only-of-type {\n        vertical-align: middle;\n    }\n\n    .dataframe tbody tr th {\n        vertical-align: top;\n    }\n\n    .dataframe thead th {\n        text-align: right;\n    }\n</style>\n<table border=\"1\" class=\"dataframe\">\n  <thead>\n    <tr style=\"text-align: right;\">\n      <th></th>\n      <th>PublisherLong</th>\n      <th>PublisherShort</th>\n    </tr>\n  </thead>\n  <tbody>\n    <tr>\n      <th>0</th>\n      <td>\"Abrams, Inc.\"</td>\n      <td>ABRAMS</td>\n    </tr>\n    <tr>\n      <th>1</th>\n      <td>\"Addison-Wesley Longman, Incorporated\"</td>\n      <td>PEARSON</td>\n    </tr>\n    <tr>\n      <th>2</th>\n      <td>\"Addison-Wesley Longman, Limited\"</td>\n      <td>PEARSON</td>\n    </tr>\n    <tr>\n      <th>3</th>\n      <td>\"Allyn &amp; Bacon, Incorporated\"</td>\n      <td>PEARSON</td>\n    </tr>\n    <tr>\n      <th>4</th>\n      <td>\"American Occupational Therapy Association, In...</td>\n      <td>American Occupational Therapy Association, Inc...</td>\n    </tr>\n  </tbody>\n</table>\n</div>"
     },
     "metadata": {},
     "execution_count": 23
    }
   ],
   "source": [
    "# We have too many Publihser's name, we have to merge with the dictionary,\n",
    "#Left Join would do the work\n",
    "df.head()"
   ]
  },
  {
   "cell_type": "code",
   "execution_count": 24,
   "metadata": {},
   "outputs": [],
   "source": [
    "for col in list(df.columns):\n",
    "    df[col] = df.apply(lambda x: clean_up(x[col]), axis =1)"
   ]
  },
  {
   "cell_type": "code",
   "execution_count": 25,
   "metadata": {},
   "outputs": [
    {
     "output_type": "execute_result",
     "data": {
      "text/plain": "array(['ABRAMS', 'PEARSON',\n       'AMERICAN OCCUPATIONAL THERAPY ASSOCIATION, INCORPORATED',\n       'ARCHIVE EDITIONS, LIMITED', 'AVIAT INC', 'BERRETT-KOEHLER',\n       'FINANCIAL TIMES BUSINESS ENTERPRISES, LIMITED', 'WILEY', 'MCGRAW',\n       'PIONEER DRAMA', 'MURACH', \"O'REILLY\", 'PLURAL PUBLISHING INC',\n       'SCITECH PUBLISHING, INCORPORATED', 'SITEPOINT PTY, LIMITED',\n       'SLACK', 'TIMBER PRESS',\n       'DIFUSION CENTRO DE PUBLICACION Y PUBLICACIONES DE IDIOMAS, S.L.',\n       'GAZELLE BOOK SERVICES', 'GROVE/ATLANTIC, INCORPORATED',\n       'JAMES LORIMER & COMPANY LTD., PUBLISHERS', 'HACHETTE LIVE',\n       'MASCOT BOOKS, INCORPORATED', 'TALONBOOKS, LIMITED',\n       'A&C BLACK POD', 'AA WORLD', 'ABC CLIO', 'ABINGDON',\n       'ADAMS MEDIA CORPORATION', 'AFRICAN & CARIBBEAN WRITERS', 'ALA',\n       'ALEK', 'ALFRED MUSIC', 'ALLWORTH', 'AMA', 'AMER PSYCH ASS.',\n       'AMAZON.COM', 'AMERICAN MATHEMATICAL SOCIETY', 'ANDREWS MCMEEL HB',\n       'ANDREWS MCMEEL PB', 'ANGLO AMERICAN BOOK CO LTD', 'ANTHEM PR',\n       'AOCS PUBLISHING', 'AOTA', 'APERTURE', 'APPLAUSE',\n       'APPLE ACADEMIC PRESS', 'ARMAND COLIN', 'ARSENAL PULP PRESS',\n       'SCHOLASTIC', 'ASA', 'ASTD', 'SIMON & SCHUSTER', 'AVIVA PUB',\n       'BAKER', 'BALLANTINE BOOKS', 'BALZER + BRAY', 'BARCELONA',\n       'BARRONS', 'RANDOM HOUSE', 'BERGAHN', 'BERKLEE PR', 'BERKLEY',\n       'BF UK LTD', 'BIRKBECK LAW PRESS', 'BLOOMSBURY', 'BOOKERY',\n       'BOOKS INTERNATIONAL- INC.', 'BOOKWIRE', 'BOOSEY', 'BRAZOS PRESS',\n       'BRIDGEPNT', 'BRIGHT RED PUBLISHING LTD',\n       'BRITISH COMPUTER SOCIETY', 'BROADMAN', 'BROADVIEW',\n       'BROADWAY BOOKS', 'BROOKINGS', 'BROWN BEAR PRESS',\n       'BRUNSWICK BOOKS', 'C HURST & CO (PUBLISHERS)LTD',\n       'CALIFORNIA UNIVERSITY PRESS', 'CAMBRIDGE', 'CANTERBURY CLASSICS',\n       'CAPTUS PR', 'CENGAGE', 'CENTRAL BOOKS', 'CHELSEA G',\n       'CHICAGO UNIVERSITY PRESS', 'CHRONICLE', 'CLE INTL',\n       'CLEARWAY PHASE 0', 'COACH HSE', 'HARPER COLLINS', 'T&F',\n       'CREATIONS LOISIRS ENSEIGNEMENT INTERNATIONAL',\n       'CRITICAL PUBLISHING', 'CSLI', 'CUP ELT', 'DARK HORSE',\n       'DARK HORSE BOOKS', 'DARK HORSE MANGA', 'DAVID FULTON PUBLISHERS',\n       'DC COMICS', 'DEDALUS BOOKS LIMITED', 'DEEP BOOKS', 'DEL REY',\n       'DELL',\n       'DIFUSION CENTRO DE INVESTIGACION Y PUBLICACIONES DE IDIOMAS S.L.',\n       'DIO PRESS INC', 'DIOGENES', 'DOUBLEDAY', 'DOUGLAS & MCINTYRE',\n       'DUNDURN', 'EARTHSCAN', 'ECCO', 'EDITION SYNAPSE',\n       'EDITIONS NOVALIS', 'EDITIONS PIERRE TISSEYRE',\n       'EDMOND PUBLISHING', 'EERDMANS', 'ELEPHANT ROOM PRESS', 'ELSEVIER',\n       'EMERALD', 'EMOND MONT', 'EPFL PRESS', 'ESI INTERNATIONAL', 'ESRI',\n       'ESTATES GAZETTE', 'EUROSPAN', 'EYE ON EDUCATION', 'FEDERATION',\n       'FISCHER', 'FITNESS INFO TECH', 'FITZHENRY', 'FOCAL PR',\n       'FOOTPRINT', 'GALLAUDET', 'GALLERY/SCOUT PRESS', 'GALLUP PRESS',\n       'GESTALT PRESS', 'MACMILLAN', 'GINN & CO', 'GMC DISTRIBUTION',\n       'GOWER', 'GRAND CENTRAL LIFE & STYLE',\n       'GREENWICH MEDICAL MEDIA LIMITED', 'GROUNDWOOD BOOKS',\n       'HAKLUYT SOCIETY', 'HARP', 'HARP SANFR', 'HAYMARKET BOOKS',\n       'HEINEMANN', 'HERALD PRESS', 'HIMSS PUBLISHING', 'HIPPOCRENE',\n       'HOLCOMB+H', 'HUMAN KINETICS', 'I B TAURIS ACADEMIC',\n       'IHS BRE PRESS', 'IIBA', 'INDUSTRIAL PRESS', 'INFO AGE', 'INGRAM',\n       'INST AUDIT', 'INTERNATIONAL WORK GROUP FOR INDIGENOUS AFFAIRS',\n       'INTERVARS', 'INTERWEAVE', 'INTL RDG', 'IRWIN LAW', 'ISTE',\n       'J KNOX', 'JAPAN TIME', 'JASON ARONSON INC', 'JAYPEE MEDICAL',\n       'JENNY STANFORD PUBLISHING', 'JESSICA KINGSLEY',\n       'JOHN WILEY & SONS LIMITED', 'J&B', 'K/H', 'KAPLAN PUBLISHING',\n       'KATHERINE TEGEN BOOKS', 'KEGAN PAUL', 'KRIEGER', 'KUPERARD',\n       'LETTS EDUCATIONAL', 'ROWMAN & LITTLEFIELD',\n       'LIDEL EDICOES TECNICAS LDA', 'LIGHTNING SOURCE UK LTD',\n       'LIMELIGHT', 'LYNNE RIENNER', 'M WIESE', 'MACAT LIBRARY',\n       'MARSTON BOOK SERVICES LTD', 'MATERIALS RESEARCH SOCIETY',\n       'MCCLELLAND & STEWART', 'MELIA PUBLISHING SERVICES LTD',\n       'MEREDITH M', 'METONYMY', 'MGM', 'MLA',\n       'MOTILAL UK BOOKS OF INDIA', 'MUSIC SALES CORPORATION',\n       'N HARBINGR', 'N SCHUMAN', 'N/A', 'NAEYC',\n       'NATIONAL ACADEMIES PRESS', 'NAVAL INST', 'NBS', 'OXFORD',\n       'NETHERLANDS INSTITUTE FOR SOCIAL RESEARCH',\n       'NEW DIRECTIONS PUBLISHING CORPORATION', 'NEW RIDERS PUBLISHING',\n       'NEW SOC', 'NON BASIC STOCK LINE', 'NONE', 'NORTHLIGHT', 'NSB',\n       'OLIVIA', 'ONE WORLD', 'ORBIS BK', 'OXFORD UP ELT', 'PADEMELON',\n       'PAUL LIMA PRESENTS', 'PAULIST', 'PAULIST PRESS', 'PEARSON ELT',\n       'PENGUIN RANDOM HOUSE USA', 'PERENNIAL', 'PERIBO',\n       'PHARMACEUTICAL PRESS', \"PING-CHENG T'UNG\", 'PITMAN PUBLISHING',\n       'PLAYWRIGHTS CANADA PRESS', 'PLENUM PUB CORP', 'PLUTO PRESS (POD)',\n       'PM PRESS', 'PRACTICAL PRE-SCHOOL BOOKS', 'PRIM ED', 'PRINCE BK',\n       'PRINTERS ROW', 'PROJ MGMT', 'PSCYHOLOGY PRESS',\n       'PUBLISHERS GROUP UK', 'PUDDLEDANCER PRESS', 'PYRCZAK',\n       'R RINEHART', 'RAINTREE EDUCATIONAL', 'RED HEN PRESS',\n       'REDLEAF PR', 'REED', 'RFF PRESS', 'RIBA PUBLISHING',\n       'ROARING BROOK PRESS', 'ROBERTS & CO',\n       'ROBERTS & COMPANY PUBLISHERS',\n       'ROYAL COLLEGE OF OBSTETRICIANS & GYNAECOLOGISTS PRESS',\n       'ROYAL SOCIETY OF CHEMISTRY', 'RYERSON', 'SAGE',\n       'SAQI BOOKS PUBLISHERS', 'SCARECROW PRESS INC', 'SCHWALBE',\n       'SCION PUBLISHING LTD', 'SHARPE', 'SHER MUSIC',\n       'SIGS BOOKS & MULTIMEDIA', 'SILMAN-JAM', 'SME',\n       'SOCIETY FOR INDUSTRIAL AND APPLIED MATHEMATICS',\n       'SPECIAL SALES PROMOTION', 'SPON PRESS', 'SPRINGER', 'SQUARE FISH',\n       'STATA PRESS', 'STENHOUSE', 'STEP PUB', 'STUDYMATES', 'STYLUS PUB',\n       'SWALLOW', 'SWEDISH PHARMACEUTICAL PRESS', 'SWEET & MAXWELL',\n       'TARCHERPERIGEE', 'TAUNTON PR', 'TCP', 'THIEME', 'TITAN',\n       'TITAN BOOKS', 'TORONTO UNIVERSITY PRESS', 'TRANSCRIPT',\n       'TRIGGER PRESS', 'TURNAROUND', 'UNITED', 'UNIVERSITY PRESS',\n       'UNKNOWN - MIGRATION', 'USBORNE', 'VERSO EDITIONS', 'VERTIGO',\n       'VIZ MEDIA', 'VIZ MEDIA LLC', 'WEST-KNOX', 'WESTMINSTR',\n       'WESTVIEW', 'WEXFORD COLLEGE PRESS', 'WHOLE PERS',\n       'WISEFOOL PRESS', 'WIZARDS OF THE COAST', 'W KLUWER',\n       'W KLUWER LAW', 'W KLUWER HEALTH', 'WORKMAN',\n       'WORLD TRADE ORGANIZATION', 'WRITING BY CHOICE', '3D TOTAL', 'AAP',\n       'AIAA', 'ALIEN & UNWIN', 'ASHGATE', 'ASHP', 'ATP', 'BASIC BOOKS',\n       'BLC UP', 'BROOKES', 'CABI', 'HOUGHTON MIFFLIN', 'COLUMBIA UP',\n       'EDWARD ELGAR', 'FA DAVIS', 'FOCUS PUBLISHING', 'GEORGETOWN UP',\n       'GOODHEART-WILLCOX', 'GUILFORD', 'HEALTH PROFFESIONALS', 'HEINLE',\n       'HOLT MCDOUGAL', 'J ROSS', 'JOHN BENJAMINS PUBLISHING',\n       'LEIDEN UP', 'LWW', 'MERCK PUBLISHING', 'MERCURY LEARNING',\n       'MERLIN PRESS', 'MULTILINGUAL MATTERS', 'NEWSOUTH BOOKS',\n       'AUSTRALIA ACADEMY', 'NORTON', 'NOVA SCIENCE PUBLISHERS',\n       'PARADIGM', 'PERSEUS', 'PETER LANG AG', 'PLUTO PRESS', 'SAGAMORE',\n       'SAXON PUBLISHERS', 'SINAUER', 'STANFORD UP', 'THAMES & HUDSON',\n       'THOROGOOD', 'TUTTLE', 'PRINCETON', 'WEST ACADEMIC', 'WOODSLANE',\n       'WORLD SCIENTIFIC', 'YALE UP', 'HAWTHORNE', 'CARSON DELLOSA',\n       'OUR SUNDAY VISITOR', 'LYCEUM', 'THOMSON REUTERS', 'FANTAGRAPHICS',\n       'PRO-ED', 'DOVER', 'RAND MCNALLY', 'LULU', 'SAMUEL FRENCH',\n       'WAVELAND', 'IMPACT', 'HARVARD UP', 'GIA', 'HAMPTON-BROWN',\n       'LLEWELLYN', 'KOGAN PAGE', 'KENDALL HUNT', 'RUNNING PRESS',\n       'MCFARLAND AND CO', 'FORTRESS PRESS', 'HAYNES', 'GEORGE BRAZILLER',\n       'OHIO UP', 'ST PAULS', 'SPIE', 'SADLIER', 'HEBREW UP', 'LOYOLA UP',\n       'SCHUMAN', 'HOLMES & MEIER', 'RIZZOLI', 'BOYDELL & BREWER',\n       'PLEXUS', 'BOLCHAZY-CARDUCCI', 'INCENTIVE PUBLICATIONS',\n       'QUINTESSENCE', 'NCTM', 'PENNWELL', \"SAINT MARY'S PRESS\",\n       'CHENG & TSUI', 'PLAYERS PRESS', 'LORENZ', 'MORTON',\n       'QUITE SPECIFIC', 'VENTURE PUB', 'PRAKKEN', 'NCFR', 'LOTUS',\n       'PROJECT ADVENTURE', 'FEMINIST PRESS', 'ENTERPRISE', 'FERRET',\n       'HAZELDEN', 'MIKE HOLT', 'WESSEX', 'BENNING', 'SOUTH WESTERN',\n       'VISTA', 'HAL LEONARD CORP', 'FERNWOOD', 'FULCRUM', 'GRAYWOLF',\n       'KODANSHA', 'POTOMAC', 'FREE SPIRIT', 'GLEIM', 'GINGKO',\n       'OAK KNOLL', 'SAINT AUGUSTINE PRESS', 'LABYRINTH', 'TOWNSEND',\n       'ENCYCLOPEDIA BRITANNICA', 'SLOAN', 'FOUNTAINHEAD', 'MANGAN COMM',\n       'HARTMAN', 'AM HEART', 'MANNING', 'MICROCOSM', 'EQUINOX', 'GARNET',\n       'PEEPAL TREE', 'LIVE OAK', 'APEX', 'GLAGOSLAV', 'ROTHSTEIN',\n       'LITMUS', 'HERCHER', 'MCGILL UP', 'ALPHABET', 'LAROUSSE',\n       'DE GREYTER', 'CAMDEN', 'NO PUBLISHER'], dtype=object)"
     },
     "metadata": {},
     "execution_count": 25
    }
   ],
   "source": [
    "df['PublisherShort'].unique()"
   ]
  },
  {
   "cell_type": "code",
   "execution_count": 26,
   "metadata": {},
   "outputs": [],
   "source": [
    "#We merge our supplier table with the publisher dictionary\n",
    "sup_list2 = pd.merge(sup_list, df, how='left', left_on = 'Publisher', right_on = 'PublisherLong' )"
   ]
  },
  {
   "cell_type": "code",
   "execution_count": 27,
   "metadata": {
    "scrolled": true
   },
   "outputs": [
    {
     "output_type": "execute_result",
     "data": {
      "text/plain": "                  ISBN Supplier         Publisher Currency  Discount  \\\n0        9780262530873  BILLSON  UNIVERSITY PRESS      GBP      0.38   \n1        9780262530989  BILLSON  UNIVERSITY PRESS      GBP      0.38   \n2        9781760110185   ZOOKAL     ALIEN & UNWIN      AUD      0.00   \n3        9780262531092  BILLSON  UNIVERSITY PRESS      GBP      0.38   \n4        9780262531238  BILLSON  UNIVERSITY PRESS      GBP      0.38   \n...                ...      ...               ...      ...       ...   \n3390617  9781936140589     ALEK     CHARLESBRIDGE      USD      0.66   \n3390618  9781936140596     ALEK     CHARLESBRIDGE      USD      0.66   \n3390619  9781936140619     ALEK     CHARLESBRIDGE      USD      0.66   \n3390620  9781936140664     ALEK     CHARLESBRIDGE      USD      0.66   \n3390621  9781936140695     ALEK     CHARLESBRIDGE      USD      0.66   \n\n         UnitShippingCost  MaxQtyPerOrder  price     PublisherLong  \\\n0                    3.47            1000   4.99  UNIVERSITY PRESS   \n1                    3.47            1000  25.00  UNIVERSITY PRESS   \n2                    3.30             150  13.00     ALIEN & UNWIN   \n3                    3.47            1000  37.95  UNIVERSITY PRESS   \n4                    3.47            1000  28.00  UNIVERSITY PRESS   \n...                   ...             ...    ...               ...   \n3390617              0.50             100   7.95               NaN   \n3390618              0.50             100   7.95               NaN   \n3390619              0.50             100  12.95               NaN   \n3390620              0.50             100  12.99               NaN   \n3390621              0.50             100  12.95               NaN   \n\n           PublisherShort  \n0        UNIVERSITY PRESS  \n1        UNIVERSITY PRESS  \n2           ALIEN & UNWIN  \n3        UNIVERSITY PRESS  \n4        UNIVERSITY PRESS  \n...                   ...  \n3390617               NaN  \n3390618               NaN  \n3390619               NaN  \n3390620               NaN  \n3390621               NaN  \n\n[3390622 rows x 10 columns]",
      "text/html": "<div>\n<style scoped>\n    .dataframe tbody tr th:only-of-type {\n        vertical-align: middle;\n    }\n\n    .dataframe tbody tr th {\n        vertical-align: top;\n    }\n\n    .dataframe thead th {\n        text-align: right;\n    }\n</style>\n<table border=\"1\" class=\"dataframe\">\n  <thead>\n    <tr style=\"text-align: right;\">\n      <th></th>\n      <th>ISBN</th>\n      <th>Supplier</th>\n      <th>Publisher</th>\n      <th>Currency</th>\n      <th>Discount</th>\n      <th>UnitShippingCost</th>\n      <th>MaxQtyPerOrder</th>\n      <th>price</th>\n      <th>PublisherLong</th>\n      <th>PublisherShort</th>\n    </tr>\n  </thead>\n  <tbody>\n    <tr>\n      <th>0</th>\n      <td>9780262530873</td>\n      <td>BILLSON</td>\n      <td>UNIVERSITY PRESS</td>\n      <td>GBP</td>\n      <td>0.38</td>\n      <td>3.47</td>\n      <td>1000</td>\n      <td>4.99</td>\n      <td>UNIVERSITY PRESS</td>\n      <td>UNIVERSITY PRESS</td>\n    </tr>\n    <tr>\n      <th>1</th>\n      <td>9780262530989</td>\n      <td>BILLSON</td>\n      <td>UNIVERSITY PRESS</td>\n      <td>GBP</td>\n      <td>0.38</td>\n      <td>3.47</td>\n      <td>1000</td>\n      <td>25.00</td>\n      <td>UNIVERSITY PRESS</td>\n      <td>UNIVERSITY PRESS</td>\n    </tr>\n    <tr>\n      <th>2</th>\n      <td>9781760110185</td>\n      <td>ZOOKAL</td>\n      <td>ALIEN &amp; UNWIN</td>\n      <td>AUD</td>\n      <td>0.00</td>\n      <td>3.30</td>\n      <td>150</td>\n      <td>13.00</td>\n      <td>ALIEN &amp; UNWIN</td>\n      <td>ALIEN &amp; UNWIN</td>\n    </tr>\n    <tr>\n      <th>3</th>\n      <td>9780262531092</td>\n      <td>BILLSON</td>\n      <td>UNIVERSITY PRESS</td>\n      <td>GBP</td>\n      <td>0.38</td>\n      <td>3.47</td>\n      <td>1000</td>\n      <td>37.95</td>\n      <td>UNIVERSITY PRESS</td>\n      <td>UNIVERSITY PRESS</td>\n    </tr>\n    <tr>\n      <th>4</th>\n      <td>9780262531238</td>\n      <td>BILLSON</td>\n      <td>UNIVERSITY PRESS</td>\n      <td>GBP</td>\n      <td>0.38</td>\n      <td>3.47</td>\n      <td>1000</td>\n      <td>28.00</td>\n      <td>UNIVERSITY PRESS</td>\n      <td>UNIVERSITY PRESS</td>\n    </tr>\n    <tr>\n      <th>...</th>\n      <td>...</td>\n      <td>...</td>\n      <td>...</td>\n      <td>...</td>\n      <td>...</td>\n      <td>...</td>\n      <td>...</td>\n      <td>...</td>\n      <td>...</td>\n      <td>...</td>\n    </tr>\n    <tr>\n      <th>3390617</th>\n      <td>9781936140589</td>\n      <td>ALEK</td>\n      <td>CHARLESBRIDGE</td>\n      <td>USD</td>\n      <td>0.66</td>\n      <td>0.50</td>\n      <td>100</td>\n      <td>7.95</td>\n      <td>NaN</td>\n      <td>NaN</td>\n    </tr>\n    <tr>\n      <th>3390618</th>\n      <td>9781936140596</td>\n      <td>ALEK</td>\n      <td>CHARLESBRIDGE</td>\n      <td>USD</td>\n      <td>0.66</td>\n      <td>0.50</td>\n      <td>100</td>\n      <td>7.95</td>\n      <td>NaN</td>\n      <td>NaN</td>\n    </tr>\n    <tr>\n      <th>3390619</th>\n      <td>9781936140619</td>\n      <td>ALEK</td>\n      <td>CHARLESBRIDGE</td>\n      <td>USD</td>\n      <td>0.66</td>\n      <td>0.50</td>\n      <td>100</td>\n      <td>12.95</td>\n      <td>NaN</td>\n      <td>NaN</td>\n    </tr>\n    <tr>\n      <th>3390620</th>\n      <td>9781936140664</td>\n      <td>ALEK</td>\n      <td>CHARLESBRIDGE</td>\n      <td>USD</td>\n      <td>0.66</td>\n      <td>0.50</td>\n      <td>100</td>\n      <td>12.99</td>\n      <td>NaN</td>\n      <td>NaN</td>\n    </tr>\n    <tr>\n      <th>3390621</th>\n      <td>9781936140695</td>\n      <td>ALEK</td>\n      <td>CHARLESBRIDGE</td>\n      <td>USD</td>\n      <td>0.66</td>\n      <td>0.50</td>\n      <td>100</td>\n      <td>12.95</td>\n      <td>NaN</td>\n      <td>NaN</td>\n    </tr>\n  </tbody>\n</table>\n<p>3390622 rows × 10 columns</p>\n</div>"
     },
     "metadata": {},
     "execution_count": 27
    }
   ],
   "source": [
    "sup_list2"
   ]
  },
  {
   "cell_type": "code",
   "execution_count": 28,
   "metadata": {},
   "outputs": [],
   "source": [
    "sup_list2.drop(columns = ['PublisherLong'], inplace = True)"
   ]
  },
  {
   "cell_type": "code",
   "execution_count": 29,
   "metadata": {},
   "outputs": [
    {
     "output_type": "stream",
     "name": "stdout",
     "text": "# of pubs in PublishertShort Column:  353\n# of pubs in Publisher Column:  1546\n"
    }
   ],
   "source": [
    "print('# of pubs in PublishertShort Column: ', len(sup_list2['PublisherShort'].unique()))\n",
    "print('# of pubs in Publisher Column: ', len(sup_list2['Publisher'].unique()))"
   ]
  },
  {
   "cell_type": "code",
   "execution_count": 30,
   "metadata": {},
   "outputs": [
    {
     "output_type": "execute_result",
     "data": {
      "text/plain": "            ISBN Supplier         Publisher Currency  Discount  \\\n0  9780262530873  BILLSON  UNIVERSITY PRESS      GBP      0.38   \n1  9780262530989  BILLSON  UNIVERSITY PRESS      GBP      0.38   \n2  9781760110185   ZOOKAL     ALIEN & UNWIN      AUD      0.00   \n3  9780262531092  BILLSON  UNIVERSITY PRESS      GBP      0.38   \n4  9780262531238  BILLSON  UNIVERSITY PRESS      GBP      0.38   \n\n   UnitShippingCost  MaxQtyPerOrder  price    PublisherShort  \n0              3.47            1000   4.99  UNIVERSITY PRESS  \n1              3.47            1000  25.00  UNIVERSITY PRESS  \n2              3.30             150  13.00     ALIEN & UNWIN  \n3              3.47            1000  37.95  UNIVERSITY PRESS  \n4              3.47            1000  28.00  UNIVERSITY PRESS  ",
      "text/html": "<div>\n<style scoped>\n    .dataframe tbody tr th:only-of-type {\n        vertical-align: middle;\n    }\n\n    .dataframe tbody tr th {\n        vertical-align: top;\n    }\n\n    .dataframe thead th {\n        text-align: right;\n    }\n</style>\n<table border=\"1\" class=\"dataframe\">\n  <thead>\n    <tr style=\"text-align: right;\">\n      <th></th>\n      <th>ISBN</th>\n      <th>Supplier</th>\n      <th>Publisher</th>\n      <th>Currency</th>\n      <th>Discount</th>\n      <th>UnitShippingCost</th>\n      <th>MaxQtyPerOrder</th>\n      <th>price</th>\n      <th>PublisherShort</th>\n    </tr>\n  </thead>\n  <tbody>\n    <tr>\n      <th>0</th>\n      <td>9780262530873</td>\n      <td>BILLSON</td>\n      <td>UNIVERSITY PRESS</td>\n      <td>GBP</td>\n      <td>0.38</td>\n      <td>3.47</td>\n      <td>1000</td>\n      <td>4.99</td>\n      <td>UNIVERSITY PRESS</td>\n    </tr>\n    <tr>\n      <th>1</th>\n      <td>9780262530989</td>\n      <td>BILLSON</td>\n      <td>UNIVERSITY PRESS</td>\n      <td>GBP</td>\n      <td>0.38</td>\n      <td>3.47</td>\n      <td>1000</td>\n      <td>25.00</td>\n      <td>UNIVERSITY PRESS</td>\n    </tr>\n    <tr>\n      <th>2</th>\n      <td>9781760110185</td>\n      <td>ZOOKAL</td>\n      <td>ALIEN &amp; UNWIN</td>\n      <td>AUD</td>\n      <td>0.00</td>\n      <td>3.30</td>\n      <td>150</td>\n      <td>13.00</td>\n      <td>ALIEN &amp; UNWIN</td>\n    </tr>\n    <tr>\n      <th>3</th>\n      <td>9780262531092</td>\n      <td>BILLSON</td>\n      <td>UNIVERSITY PRESS</td>\n      <td>GBP</td>\n      <td>0.38</td>\n      <td>3.47</td>\n      <td>1000</td>\n      <td>37.95</td>\n      <td>UNIVERSITY PRESS</td>\n    </tr>\n    <tr>\n      <th>4</th>\n      <td>9780262531238</td>\n      <td>BILLSON</td>\n      <td>UNIVERSITY PRESS</td>\n      <td>GBP</td>\n      <td>0.38</td>\n      <td>3.47</td>\n      <td>1000</td>\n      <td>28.00</td>\n      <td>UNIVERSITY PRESS</td>\n    </tr>\n  </tbody>\n</table>\n</div>"
     },
     "metadata": {},
     "execution_count": 30
    }
   ],
   "source": [
    "sup_list2.head()"
   ]
  },
  {
   "cell_type": "code",
   "execution_count": 31,
   "metadata": {},
   "outputs": [
    {
     "output_type": "execute_result",
     "data": {
      "text/plain": "ISBN                 object\nSupplier             object\nPublisher            object\nCurrency             object\nDiscount            float64\nUnitShippingCost    float64\nMaxQtyPerOrder        int64\nprice               float64\nPublisherShort       object\ndtype: object"
     },
     "metadata": {},
     "execution_count": 31
    }
   ],
   "source": [
    "sup_list2.dtypes"
   ]
  },
  {
   "cell_type": "code",
   "execution_count": 32,
   "metadata": {},
   "outputs": [
    {
     "output_type": "stream",
     "name": "stdout",
     "text": "PublisherShort Empty Cells:  123361\nPublisher Empty Cells: 0\n"
    }
   ],
   "source": [
    "print('PublisherShort Empty Cells: ',sup_list2['PublisherShort'].isna().sum())\n",
    "print('Publisher Empty Cells:', sup_list2['Publisher'].isna().sum())"
   ]
  },
  {
   "cell_type": "code",
   "execution_count": 33,
   "metadata": {},
   "outputs": [],
   "source": [
    "#Fill Na in the PusblisherShort Column\n",
    "sup_list2['Pub_noNA'] = np.where(sup_list2['PublisherShort'].isna(), sup_list2['Publisher'],sup_list2['PublisherShort'])"
   ]
  },
  {
   "cell_type": "code",
   "execution_count": 34,
   "metadata": {},
   "outputs": [
    {
     "output_type": "execute_result",
     "data": {
      "text/plain": "0"
     },
     "metadata": {},
     "execution_count": 34
    }
   ],
   "source": [
    "sup_list2['Pub_noNA'].isna().sum()"
   ]
  },
  {
   "cell_type": "code",
   "execution_count": 35,
   "metadata": {},
   "outputs": [
    {
     "output_type": "execute_result",
     "data": {
      "text/plain": "array(['UNIVERSITY PRESS', 'ALIEN & UNWIN', 'BLOOMSBURY', ...,\n       'BLOODAXE BOOKS', 'BLOODAXE BOOKS LTD', 'BOOKS ON TAPE'],\n      dtype=object)"
     },
     "metadata": {},
     "execution_count": 35
    }
   ],
   "source": [
    "sup_list2['Pub_noNA'].unique()"
   ]
  },
  {
   "cell_type": "code",
   "execution_count": 36,
   "metadata": {},
   "outputs": [],
   "source": [
    "# We need to add Supplier extra costs conditions and clean the Publisher Name\n",
    "sup_list2['Invoice_Fee'] = np.where(\n",
    "    sup_list2['Supplier'].str.contains('ALEK'), 0.005,\n",
    "    np.where(\n",
    "        (sup_list2['Supplier'].str.contains('LAURENTIU')) | (sup_list2['Supplier'].str.contains('SENAD')),0.02,\n",
    "        np.where(\n",
    "        (sup_list2['Supplier'].str.contains('ARMANDO')) | (sup_list2['Supplier'].str.contains('FELIPE')),1,\n",
    "        0)\n",
    "        )\n",
    "        )"
   ]
  },
  {
   "cell_type": "code",
   "execution_count": 37,
   "metadata": {},
   "outputs": [
    {
     "output_type": "execute_result",
     "data": {
      "text/plain": "            ISBN Supplier         Publisher Currency  Discount  \\\n0  9780262530873  BILLSON  UNIVERSITY PRESS      GBP      0.38   \n1  9780262530989  BILLSON  UNIVERSITY PRESS      GBP      0.38   \n2  9781760110185   ZOOKAL     ALIEN & UNWIN      AUD      0.00   \n3  9780262531092  BILLSON  UNIVERSITY PRESS      GBP      0.38   \n4  9780262531238  BILLSON  UNIVERSITY PRESS      GBP      0.38   \n\n   UnitShippingCost  MaxQtyPerOrder  price    PublisherShort  \\\n0              3.47            1000   4.99  UNIVERSITY PRESS   \n1              3.47            1000  25.00  UNIVERSITY PRESS   \n2              3.30             150  13.00     ALIEN & UNWIN   \n3              3.47            1000  37.95  UNIVERSITY PRESS   \n4              3.47            1000  28.00  UNIVERSITY PRESS   \n\n           Pub_noNA  Invoice_Fee  \n0  UNIVERSITY PRESS          0.0  \n1  UNIVERSITY PRESS          0.0  \n2     ALIEN & UNWIN          0.0  \n3  UNIVERSITY PRESS          0.0  \n4  UNIVERSITY PRESS          0.0  ",
      "text/html": "<div>\n<style scoped>\n    .dataframe tbody tr th:only-of-type {\n        vertical-align: middle;\n    }\n\n    .dataframe tbody tr th {\n        vertical-align: top;\n    }\n\n    .dataframe thead th {\n        text-align: right;\n    }\n</style>\n<table border=\"1\" class=\"dataframe\">\n  <thead>\n    <tr style=\"text-align: right;\">\n      <th></th>\n      <th>ISBN</th>\n      <th>Supplier</th>\n      <th>Publisher</th>\n      <th>Currency</th>\n      <th>Discount</th>\n      <th>UnitShippingCost</th>\n      <th>MaxQtyPerOrder</th>\n      <th>price</th>\n      <th>PublisherShort</th>\n      <th>Pub_noNA</th>\n      <th>Invoice_Fee</th>\n    </tr>\n  </thead>\n  <tbody>\n    <tr>\n      <th>0</th>\n      <td>9780262530873</td>\n      <td>BILLSON</td>\n      <td>UNIVERSITY PRESS</td>\n      <td>GBP</td>\n      <td>0.38</td>\n      <td>3.47</td>\n      <td>1000</td>\n      <td>4.99</td>\n      <td>UNIVERSITY PRESS</td>\n      <td>UNIVERSITY PRESS</td>\n      <td>0.0</td>\n    </tr>\n    <tr>\n      <th>1</th>\n      <td>9780262530989</td>\n      <td>BILLSON</td>\n      <td>UNIVERSITY PRESS</td>\n      <td>GBP</td>\n      <td>0.38</td>\n      <td>3.47</td>\n      <td>1000</td>\n      <td>25.00</td>\n      <td>UNIVERSITY PRESS</td>\n      <td>UNIVERSITY PRESS</td>\n      <td>0.0</td>\n    </tr>\n    <tr>\n      <th>2</th>\n      <td>9781760110185</td>\n      <td>ZOOKAL</td>\n      <td>ALIEN &amp; UNWIN</td>\n      <td>AUD</td>\n      <td>0.00</td>\n      <td>3.30</td>\n      <td>150</td>\n      <td>13.00</td>\n      <td>ALIEN &amp; UNWIN</td>\n      <td>ALIEN &amp; UNWIN</td>\n      <td>0.0</td>\n    </tr>\n    <tr>\n      <th>3</th>\n      <td>9780262531092</td>\n      <td>BILLSON</td>\n      <td>UNIVERSITY PRESS</td>\n      <td>GBP</td>\n      <td>0.38</td>\n      <td>3.47</td>\n      <td>1000</td>\n      <td>37.95</td>\n      <td>UNIVERSITY PRESS</td>\n      <td>UNIVERSITY PRESS</td>\n      <td>0.0</td>\n    </tr>\n    <tr>\n      <th>4</th>\n      <td>9780262531238</td>\n      <td>BILLSON</td>\n      <td>UNIVERSITY PRESS</td>\n      <td>GBP</td>\n      <td>0.38</td>\n      <td>3.47</td>\n      <td>1000</td>\n      <td>28.00</td>\n      <td>UNIVERSITY PRESS</td>\n      <td>UNIVERSITY PRESS</td>\n      <td>0.0</td>\n    </tr>\n  </tbody>\n</table>\n</div>"
     },
     "metadata": {},
     "execution_count": 37
    }
   ],
   "source": [
    "sup_list2.head()"
   ]
  },
  {
   "cell_type": "code",
   "execution_count": 38,
   "metadata": {},
   "outputs": [],
   "source": [
    "sup_list2['lp_Fee'] = np.where(\n",
    "    (sup_list2['Supplier'].str.contains('BILLSON') & (sup_list2['Discount'] == 0 )), 0.03,0)"
   ]
  },
  {
   "cell_type": "code",
   "execution_count": 39,
   "metadata": {},
   "outputs": [
    {
     "output_type": "execute_result",
     "data": {
      "text/plain": "            ISBN Supplier         Publisher Currency  Discount  \\\n0  9780262530873  BILLSON  UNIVERSITY PRESS      GBP      0.38   \n1  9780262530989  BILLSON  UNIVERSITY PRESS      GBP      0.38   \n2  9781760110185   ZOOKAL     ALIEN & UNWIN      AUD      0.00   \n3  9780262531092  BILLSON  UNIVERSITY PRESS      GBP      0.38   \n4  9780262531238  BILLSON  UNIVERSITY PRESS      GBP      0.38   \n\n   UnitShippingCost  MaxQtyPerOrder  price    PublisherShort  \\\n0              3.47            1000   4.99  UNIVERSITY PRESS   \n1              3.47            1000  25.00  UNIVERSITY PRESS   \n2              3.30             150  13.00     ALIEN & UNWIN   \n3              3.47            1000  37.95  UNIVERSITY PRESS   \n4              3.47            1000  28.00  UNIVERSITY PRESS   \n\n           Pub_noNA  Invoice_Fee  lp_Fee  \n0  UNIVERSITY PRESS          0.0     0.0  \n1  UNIVERSITY PRESS          0.0     0.0  \n2     ALIEN & UNWIN          0.0     0.0  \n3  UNIVERSITY PRESS          0.0     0.0  \n4  UNIVERSITY PRESS          0.0     0.0  ",
      "text/html": "<div>\n<style scoped>\n    .dataframe tbody tr th:only-of-type {\n        vertical-align: middle;\n    }\n\n    .dataframe tbody tr th {\n        vertical-align: top;\n    }\n\n    .dataframe thead th {\n        text-align: right;\n    }\n</style>\n<table border=\"1\" class=\"dataframe\">\n  <thead>\n    <tr style=\"text-align: right;\">\n      <th></th>\n      <th>ISBN</th>\n      <th>Supplier</th>\n      <th>Publisher</th>\n      <th>Currency</th>\n      <th>Discount</th>\n      <th>UnitShippingCost</th>\n      <th>MaxQtyPerOrder</th>\n      <th>price</th>\n      <th>PublisherShort</th>\n      <th>Pub_noNA</th>\n      <th>Invoice_Fee</th>\n      <th>lp_Fee</th>\n    </tr>\n  </thead>\n  <tbody>\n    <tr>\n      <th>0</th>\n      <td>9780262530873</td>\n      <td>BILLSON</td>\n      <td>UNIVERSITY PRESS</td>\n      <td>GBP</td>\n      <td>0.38</td>\n      <td>3.47</td>\n      <td>1000</td>\n      <td>4.99</td>\n      <td>UNIVERSITY PRESS</td>\n      <td>UNIVERSITY PRESS</td>\n      <td>0.0</td>\n      <td>0.0</td>\n    </tr>\n    <tr>\n      <th>1</th>\n      <td>9780262530989</td>\n      <td>BILLSON</td>\n      <td>UNIVERSITY PRESS</td>\n      <td>GBP</td>\n      <td>0.38</td>\n      <td>3.47</td>\n      <td>1000</td>\n      <td>25.00</td>\n      <td>UNIVERSITY PRESS</td>\n      <td>UNIVERSITY PRESS</td>\n      <td>0.0</td>\n      <td>0.0</td>\n    </tr>\n    <tr>\n      <th>2</th>\n      <td>9781760110185</td>\n      <td>ZOOKAL</td>\n      <td>ALIEN &amp; UNWIN</td>\n      <td>AUD</td>\n      <td>0.00</td>\n      <td>3.30</td>\n      <td>150</td>\n      <td>13.00</td>\n      <td>ALIEN &amp; UNWIN</td>\n      <td>ALIEN &amp; UNWIN</td>\n      <td>0.0</td>\n      <td>0.0</td>\n    </tr>\n    <tr>\n      <th>3</th>\n      <td>9780262531092</td>\n      <td>BILLSON</td>\n      <td>UNIVERSITY PRESS</td>\n      <td>GBP</td>\n      <td>0.38</td>\n      <td>3.47</td>\n      <td>1000</td>\n      <td>37.95</td>\n      <td>UNIVERSITY PRESS</td>\n      <td>UNIVERSITY PRESS</td>\n      <td>0.0</td>\n      <td>0.0</td>\n    </tr>\n    <tr>\n      <th>4</th>\n      <td>9780262531238</td>\n      <td>BILLSON</td>\n      <td>UNIVERSITY PRESS</td>\n      <td>GBP</td>\n      <td>0.38</td>\n      <td>3.47</td>\n      <td>1000</td>\n      <td>28.00</td>\n      <td>UNIVERSITY PRESS</td>\n      <td>UNIVERSITY PRESS</td>\n      <td>0.0</td>\n      <td>0.0</td>\n    </tr>\n  </tbody>\n</table>\n</div>"
     },
     "metadata": {},
     "execution_count": 39
    }
   ],
   "source": [
    "sup_list2.head()"
   ]
  },
  {
   "cell_type": "code",
   "execution_count": 40,
   "metadata": {},
   "outputs": [],
   "source": [
    "#change headers\n",
    "sup_list2.columns = map(str.lower, sup_list2.columns)"
   ]
  },
  {
   "cell_type": "code",
   "execution_count": 41,
   "metadata": {},
   "outputs": [
    {
     "output_type": "execute_result",
     "data": {
      "text/plain": "            isbn supplier         publisher currency  discount  \\\n0  9780262530873  BILLSON  UNIVERSITY PRESS      GBP      0.38   \n1  9780262530989  BILLSON  UNIVERSITY PRESS      GBP      0.38   \n2  9781760110185   ZOOKAL     ALIEN & UNWIN      AUD      0.00   \n3  9780262531092  BILLSON  UNIVERSITY PRESS      GBP      0.38   \n4  9780262531238  BILLSON  UNIVERSITY PRESS      GBP      0.38   \n\n   unitshippingcost  maxqtyperorder  price    publishershort  \\\n0              3.47            1000   4.99  UNIVERSITY PRESS   \n1              3.47            1000  25.00  UNIVERSITY PRESS   \n2              3.30             150  13.00     ALIEN & UNWIN   \n3              3.47            1000  37.95  UNIVERSITY PRESS   \n4              3.47            1000  28.00  UNIVERSITY PRESS   \n\n           pub_nona  invoice_fee  lp_fee  \n0  UNIVERSITY PRESS          0.0     0.0  \n1  UNIVERSITY PRESS          0.0     0.0  \n2     ALIEN & UNWIN          0.0     0.0  \n3  UNIVERSITY PRESS          0.0     0.0  \n4  UNIVERSITY PRESS          0.0     0.0  ",
      "text/html": "<div>\n<style scoped>\n    .dataframe tbody tr th:only-of-type {\n        vertical-align: middle;\n    }\n\n    .dataframe tbody tr th {\n        vertical-align: top;\n    }\n\n    .dataframe thead th {\n        text-align: right;\n    }\n</style>\n<table border=\"1\" class=\"dataframe\">\n  <thead>\n    <tr style=\"text-align: right;\">\n      <th></th>\n      <th>isbn</th>\n      <th>supplier</th>\n      <th>publisher</th>\n      <th>currency</th>\n      <th>discount</th>\n      <th>unitshippingcost</th>\n      <th>maxqtyperorder</th>\n      <th>price</th>\n      <th>publishershort</th>\n      <th>pub_nona</th>\n      <th>invoice_fee</th>\n      <th>lp_fee</th>\n    </tr>\n  </thead>\n  <tbody>\n    <tr>\n      <th>0</th>\n      <td>9780262530873</td>\n      <td>BILLSON</td>\n      <td>UNIVERSITY PRESS</td>\n      <td>GBP</td>\n      <td>0.38</td>\n      <td>3.47</td>\n      <td>1000</td>\n      <td>4.99</td>\n      <td>UNIVERSITY PRESS</td>\n      <td>UNIVERSITY PRESS</td>\n      <td>0.0</td>\n      <td>0.0</td>\n    </tr>\n    <tr>\n      <th>1</th>\n      <td>9780262530989</td>\n      <td>BILLSON</td>\n      <td>UNIVERSITY PRESS</td>\n      <td>GBP</td>\n      <td>0.38</td>\n      <td>3.47</td>\n      <td>1000</td>\n      <td>25.00</td>\n      <td>UNIVERSITY PRESS</td>\n      <td>UNIVERSITY PRESS</td>\n      <td>0.0</td>\n      <td>0.0</td>\n    </tr>\n    <tr>\n      <th>2</th>\n      <td>9781760110185</td>\n      <td>ZOOKAL</td>\n      <td>ALIEN &amp; UNWIN</td>\n      <td>AUD</td>\n      <td>0.00</td>\n      <td>3.30</td>\n      <td>150</td>\n      <td>13.00</td>\n      <td>ALIEN &amp; UNWIN</td>\n      <td>ALIEN &amp; UNWIN</td>\n      <td>0.0</td>\n      <td>0.0</td>\n    </tr>\n    <tr>\n      <th>3</th>\n      <td>9780262531092</td>\n      <td>BILLSON</td>\n      <td>UNIVERSITY PRESS</td>\n      <td>GBP</td>\n      <td>0.38</td>\n      <td>3.47</td>\n      <td>1000</td>\n      <td>37.95</td>\n      <td>UNIVERSITY PRESS</td>\n      <td>UNIVERSITY PRESS</td>\n      <td>0.0</td>\n      <td>0.0</td>\n    </tr>\n    <tr>\n      <th>4</th>\n      <td>9780262531238</td>\n      <td>BILLSON</td>\n      <td>UNIVERSITY PRESS</td>\n      <td>GBP</td>\n      <td>0.38</td>\n      <td>3.47</td>\n      <td>1000</td>\n      <td>28.00</td>\n      <td>UNIVERSITY PRESS</td>\n      <td>UNIVERSITY PRESS</td>\n      <td>0.0</td>\n      <td>0.0</td>\n    </tr>\n  </tbody>\n</table>\n</div>"
     },
     "metadata": {},
     "execution_count": 41
    }
   ],
   "source": [
    "sup_list2.head()"
   ]
  },
  {
   "cell_type": "code",
   "execution_count": 42,
   "metadata": {},
   "outputs": [],
   "source": [
    "#Drop uneccesary columns\n",
    "sup_list2.drop(columns = ['publisher', 'publishershort'], inplace = True)"
   ]
  },
  {
   "cell_type": "code",
   "execution_count": 43,
   "metadata": {},
   "outputs": [
    {
     "output_type": "execute_result",
     "data": {
      "text/plain": "            isbn supplier currency  discount  unitshippingcost  \\\n0  9780262530873  BILLSON      GBP      0.38              3.47   \n1  9780262530989  BILLSON      GBP      0.38              3.47   \n2  9781760110185   ZOOKAL      AUD      0.00              3.30   \n3  9780262531092  BILLSON      GBP      0.38              3.47   \n4  9780262531238  BILLSON      GBP      0.38              3.47   \n\n   maxqtyperorder  price          pub_nona  invoice_fee  lp_fee  \n0            1000   4.99  UNIVERSITY PRESS          0.0     0.0  \n1            1000  25.00  UNIVERSITY PRESS          0.0     0.0  \n2             150  13.00     ALIEN & UNWIN          0.0     0.0  \n3            1000  37.95  UNIVERSITY PRESS          0.0     0.0  \n4            1000  28.00  UNIVERSITY PRESS          0.0     0.0  ",
      "text/html": "<div>\n<style scoped>\n    .dataframe tbody tr th:only-of-type {\n        vertical-align: middle;\n    }\n\n    .dataframe tbody tr th {\n        vertical-align: top;\n    }\n\n    .dataframe thead th {\n        text-align: right;\n    }\n</style>\n<table border=\"1\" class=\"dataframe\">\n  <thead>\n    <tr style=\"text-align: right;\">\n      <th></th>\n      <th>isbn</th>\n      <th>supplier</th>\n      <th>currency</th>\n      <th>discount</th>\n      <th>unitshippingcost</th>\n      <th>maxqtyperorder</th>\n      <th>price</th>\n      <th>pub_nona</th>\n      <th>invoice_fee</th>\n      <th>lp_fee</th>\n    </tr>\n  </thead>\n  <tbody>\n    <tr>\n      <th>0</th>\n      <td>9780262530873</td>\n      <td>BILLSON</td>\n      <td>GBP</td>\n      <td>0.38</td>\n      <td>3.47</td>\n      <td>1000</td>\n      <td>4.99</td>\n      <td>UNIVERSITY PRESS</td>\n      <td>0.0</td>\n      <td>0.0</td>\n    </tr>\n    <tr>\n      <th>1</th>\n      <td>9780262530989</td>\n      <td>BILLSON</td>\n      <td>GBP</td>\n      <td>0.38</td>\n      <td>3.47</td>\n      <td>1000</td>\n      <td>25.00</td>\n      <td>UNIVERSITY PRESS</td>\n      <td>0.0</td>\n      <td>0.0</td>\n    </tr>\n    <tr>\n      <th>2</th>\n      <td>9781760110185</td>\n      <td>ZOOKAL</td>\n      <td>AUD</td>\n      <td>0.00</td>\n      <td>3.30</td>\n      <td>150</td>\n      <td>13.00</td>\n      <td>ALIEN &amp; UNWIN</td>\n      <td>0.0</td>\n      <td>0.0</td>\n    </tr>\n    <tr>\n      <th>3</th>\n      <td>9780262531092</td>\n      <td>BILLSON</td>\n      <td>GBP</td>\n      <td>0.38</td>\n      <td>3.47</td>\n      <td>1000</td>\n      <td>37.95</td>\n      <td>UNIVERSITY PRESS</td>\n      <td>0.0</td>\n      <td>0.0</td>\n    </tr>\n    <tr>\n      <th>4</th>\n      <td>9780262531238</td>\n      <td>BILLSON</td>\n      <td>GBP</td>\n      <td>0.38</td>\n      <td>3.47</td>\n      <td>1000</td>\n      <td>28.00</td>\n      <td>UNIVERSITY PRESS</td>\n      <td>0.0</td>\n      <td>0.0</td>\n    </tr>\n  </tbody>\n</table>\n</div>"
     },
     "metadata": {},
     "execution_count": 43
    }
   ],
   "source": [
    "sup_list2.head()"
   ]
  },
  {
   "cell_type": "code",
   "execution_count": 44,
   "metadata": {},
   "outputs": [
    {
     "output_type": "execute_result",
     "data": {
      "text/plain": "            isbn supplier currency  discount  unitshippingcost  \\\n0  9780262530873  BILLSON      GBP      0.38              3.47   \n1  9780262530989  BILLSON      GBP      0.38              3.47   \n2  9781760110185   ZOOKAL      AUD      0.00              3.30   \n3  9780262531092  BILLSON      GBP      0.38              3.47   \n4  9780262531238  BILLSON      GBP      0.38              3.47   \n\n   maxqtyperorder  price               pub  invoice_fee  lp_fee  \n0            1000   4.99  UNIVERSITY PRESS          0.0     0.0  \n1            1000  25.00  UNIVERSITY PRESS          0.0     0.0  \n2             150  13.00     ALIEN & UNWIN          0.0     0.0  \n3            1000  37.95  UNIVERSITY PRESS          0.0     0.0  \n4            1000  28.00  UNIVERSITY PRESS          0.0     0.0  ",
      "text/html": "<div>\n<style scoped>\n    .dataframe tbody tr th:only-of-type {\n        vertical-align: middle;\n    }\n\n    .dataframe tbody tr th {\n        vertical-align: top;\n    }\n\n    .dataframe thead th {\n        text-align: right;\n    }\n</style>\n<table border=\"1\" class=\"dataframe\">\n  <thead>\n    <tr style=\"text-align: right;\">\n      <th></th>\n      <th>isbn</th>\n      <th>supplier</th>\n      <th>currency</th>\n      <th>discount</th>\n      <th>unitshippingcost</th>\n      <th>maxqtyperorder</th>\n      <th>price</th>\n      <th>pub</th>\n      <th>invoice_fee</th>\n      <th>lp_fee</th>\n    </tr>\n  </thead>\n  <tbody>\n    <tr>\n      <th>0</th>\n      <td>9780262530873</td>\n      <td>BILLSON</td>\n      <td>GBP</td>\n      <td>0.38</td>\n      <td>3.47</td>\n      <td>1000</td>\n      <td>4.99</td>\n      <td>UNIVERSITY PRESS</td>\n      <td>0.0</td>\n      <td>0.0</td>\n    </tr>\n    <tr>\n      <th>1</th>\n      <td>9780262530989</td>\n      <td>BILLSON</td>\n      <td>GBP</td>\n      <td>0.38</td>\n      <td>3.47</td>\n      <td>1000</td>\n      <td>25.00</td>\n      <td>UNIVERSITY PRESS</td>\n      <td>0.0</td>\n      <td>0.0</td>\n    </tr>\n    <tr>\n      <th>2</th>\n      <td>9781760110185</td>\n      <td>ZOOKAL</td>\n      <td>AUD</td>\n      <td>0.00</td>\n      <td>3.30</td>\n      <td>150</td>\n      <td>13.00</td>\n      <td>ALIEN &amp; UNWIN</td>\n      <td>0.0</td>\n      <td>0.0</td>\n    </tr>\n    <tr>\n      <th>3</th>\n      <td>9780262531092</td>\n      <td>BILLSON</td>\n      <td>GBP</td>\n      <td>0.38</td>\n      <td>3.47</td>\n      <td>1000</td>\n      <td>37.95</td>\n      <td>UNIVERSITY PRESS</td>\n      <td>0.0</td>\n      <td>0.0</td>\n    </tr>\n    <tr>\n      <th>4</th>\n      <td>9780262531238</td>\n      <td>BILLSON</td>\n      <td>GBP</td>\n      <td>0.38</td>\n      <td>3.47</td>\n      <td>1000</td>\n      <td>28.00</td>\n      <td>UNIVERSITY PRESS</td>\n      <td>0.0</td>\n      <td>0.0</td>\n    </tr>\n  </tbody>\n</table>\n</div>"
     },
     "metadata": {},
     "execution_count": 44
    }
   ],
   "source": [
    "#rename header\n",
    "sup_list2.rename(columns={'pub_nona': 'pub'}, inplace = True)\n",
    "sup_list2.head()"
   ]
  },
  {
   "cell_type": "code",
   "execution_count": 45,
   "metadata": {},
   "outputs": [],
   "source": [
    "sup_list2['inv_price_before_exc'] = sup_list2['price'] * (\n",
    "    1 - sup_list2['discount'] + sup_list2['lp_fee'])*(\n",
    "    1 + sup_list2['invoice_fee'])"
   ]
  },
  {
   "cell_type": "code",
   "execution_count": 46,
   "metadata": {},
   "outputs": [
    {
     "output_type": "execute_result",
     "data": {
      "text/plain": "            isbn supplier currency  discount  unitshippingcost  \\\n0  9780262530873  BILLSON      GBP      0.38              3.47   \n1  9780262530989  BILLSON      GBP      0.38              3.47   \n2  9781760110185   ZOOKAL      AUD      0.00              3.30   \n3  9780262531092  BILLSON      GBP      0.38              3.47   \n4  9780262531238  BILLSON      GBP      0.38              3.47   \n\n   maxqtyperorder  price               pub  invoice_fee  lp_fee  \\\n0            1000   4.99  UNIVERSITY PRESS          0.0     0.0   \n1            1000  25.00  UNIVERSITY PRESS          0.0     0.0   \n2             150  13.00     ALIEN & UNWIN          0.0     0.0   \n3            1000  37.95  UNIVERSITY PRESS          0.0     0.0   \n4            1000  28.00  UNIVERSITY PRESS          0.0     0.0   \n\n   inv_price_before_exc  \n0                3.0938  \n1               15.5000  \n2               13.0000  \n3               23.5290  \n4               17.3600  ",
      "text/html": "<div>\n<style scoped>\n    .dataframe tbody tr th:only-of-type {\n        vertical-align: middle;\n    }\n\n    .dataframe tbody tr th {\n        vertical-align: top;\n    }\n\n    .dataframe thead th {\n        text-align: right;\n    }\n</style>\n<table border=\"1\" class=\"dataframe\">\n  <thead>\n    <tr style=\"text-align: right;\">\n      <th></th>\n      <th>isbn</th>\n      <th>supplier</th>\n      <th>currency</th>\n      <th>discount</th>\n      <th>unitshippingcost</th>\n      <th>maxqtyperorder</th>\n      <th>price</th>\n      <th>pub</th>\n      <th>invoice_fee</th>\n      <th>lp_fee</th>\n      <th>inv_price_before_exc</th>\n    </tr>\n  </thead>\n  <tbody>\n    <tr>\n      <th>0</th>\n      <td>9780262530873</td>\n      <td>BILLSON</td>\n      <td>GBP</td>\n      <td>0.38</td>\n      <td>3.47</td>\n      <td>1000</td>\n      <td>4.99</td>\n      <td>UNIVERSITY PRESS</td>\n      <td>0.0</td>\n      <td>0.0</td>\n      <td>3.0938</td>\n    </tr>\n    <tr>\n      <th>1</th>\n      <td>9780262530989</td>\n      <td>BILLSON</td>\n      <td>GBP</td>\n      <td>0.38</td>\n      <td>3.47</td>\n      <td>1000</td>\n      <td>25.00</td>\n      <td>UNIVERSITY PRESS</td>\n      <td>0.0</td>\n      <td>0.0</td>\n      <td>15.5000</td>\n    </tr>\n    <tr>\n      <th>2</th>\n      <td>9781760110185</td>\n      <td>ZOOKAL</td>\n      <td>AUD</td>\n      <td>0.00</td>\n      <td>3.30</td>\n      <td>150</td>\n      <td>13.00</td>\n      <td>ALIEN &amp; UNWIN</td>\n      <td>0.0</td>\n      <td>0.0</td>\n      <td>13.0000</td>\n    </tr>\n    <tr>\n      <th>3</th>\n      <td>9780262531092</td>\n      <td>BILLSON</td>\n      <td>GBP</td>\n      <td>0.38</td>\n      <td>3.47</td>\n      <td>1000</td>\n      <td>37.95</td>\n      <td>UNIVERSITY PRESS</td>\n      <td>0.0</td>\n      <td>0.0</td>\n      <td>23.5290</td>\n    </tr>\n    <tr>\n      <th>4</th>\n      <td>9780262531238</td>\n      <td>BILLSON</td>\n      <td>GBP</td>\n      <td>0.38</td>\n      <td>3.47</td>\n      <td>1000</td>\n      <td>28.00</td>\n      <td>UNIVERSITY PRESS</td>\n      <td>0.0</td>\n      <td>0.0</td>\n      <td>17.3600</td>\n    </tr>\n  </tbody>\n</table>\n</div>"
     },
     "metadata": {},
     "execution_count": 46
    }
   ],
   "source": [
    "sup_list2.head()"
   ]
  },
  {
   "cell_type": "code",
   "execution_count": 47,
   "metadata": {},
   "outputs": [],
   "source": [
    "#We add the Exchange rate column\n",
    "exchange_rate = \"\"\"\n",
    "SELECT *\n",
    "FROM dbo.XChange\n",
    "\"\"\""
   ]
  },
  {
   "cell_type": "code",
   "execution_count": 48,
   "metadata": {},
   "outputs": [],
   "source": [
    "exch_df = df = pd.read_sql(exchange_rate,proc_db)"
   ]
  },
  {
   "cell_type": "code",
   "execution_count": 49,
   "metadata": {},
   "outputs": [
    {
     "output_type": "execute_result",
     "data": {
      "text/plain": "    id name      rate               updatedon\n0    2  AUD  0.652445 2020-04-29 08:00:00.643\n1    3  NZD  0.609321 2020-04-29 08:00:00.643\n2    4  GBP  1.243139 2020-04-29 08:00:00.643\n3    5  CAD  0.717551 2020-04-29 08:00:00.643\n4    6  EUR  1.087025 2020-04-29 08:00:00.643\n5    8  SGD  0.707359 2020-04-29 08:00:00.643\n6    9  HKD  0.129025 2020-04-29 08:00:00.643\n7    1  USD  1.000000 2020-04-29 08:00:00.643\n8   10  TWD  0.033135 2020-04-29 08:00:00.643\n9   11  CHF  1.022320 2020-04-29 08:00:00.643\n10  12  CNY  0.143433 2020-04-29 08:00:00.643\n11  13  PLN  0.255751 2020-04-29 08:00:00.643",
      "text/html": "<div>\n<style scoped>\n    .dataframe tbody tr th:only-of-type {\n        vertical-align: middle;\n    }\n\n    .dataframe tbody tr th {\n        vertical-align: top;\n    }\n\n    .dataframe thead th {\n        text-align: right;\n    }\n</style>\n<table border=\"1\" class=\"dataframe\">\n  <thead>\n    <tr style=\"text-align: right;\">\n      <th></th>\n      <th>id</th>\n      <th>name</th>\n      <th>rate</th>\n      <th>updatedon</th>\n    </tr>\n  </thead>\n  <tbody>\n    <tr>\n      <th>0</th>\n      <td>2</td>\n      <td>AUD</td>\n      <td>0.652445</td>\n      <td>2020-04-29 08:00:00.643</td>\n    </tr>\n    <tr>\n      <th>1</th>\n      <td>3</td>\n      <td>NZD</td>\n      <td>0.609321</td>\n      <td>2020-04-29 08:00:00.643</td>\n    </tr>\n    <tr>\n      <th>2</th>\n      <td>4</td>\n      <td>GBP</td>\n      <td>1.243139</td>\n      <td>2020-04-29 08:00:00.643</td>\n    </tr>\n    <tr>\n      <th>3</th>\n      <td>5</td>\n      <td>CAD</td>\n      <td>0.717551</td>\n      <td>2020-04-29 08:00:00.643</td>\n    </tr>\n    <tr>\n      <th>4</th>\n      <td>6</td>\n      <td>EUR</td>\n      <td>1.087025</td>\n      <td>2020-04-29 08:00:00.643</td>\n    </tr>\n    <tr>\n      <th>5</th>\n      <td>8</td>\n      <td>SGD</td>\n      <td>0.707359</td>\n      <td>2020-04-29 08:00:00.643</td>\n    </tr>\n    <tr>\n      <th>6</th>\n      <td>9</td>\n      <td>HKD</td>\n      <td>0.129025</td>\n      <td>2020-04-29 08:00:00.643</td>\n    </tr>\n    <tr>\n      <th>7</th>\n      <td>1</td>\n      <td>USD</td>\n      <td>1.000000</td>\n      <td>2020-04-29 08:00:00.643</td>\n    </tr>\n    <tr>\n      <th>8</th>\n      <td>10</td>\n      <td>TWD</td>\n      <td>0.033135</td>\n      <td>2020-04-29 08:00:00.643</td>\n    </tr>\n    <tr>\n      <th>9</th>\n      <td>11</td>\n      <td>CHF</td>\n      <td>1.022320</td>\n      <td>2020-04-29 08:00:00.643</td>\n    </tr>\n    <tr>\n      <th>10</th>\n      <td>12</td>\n      <td>CNY</td>\n      <td>0.143433</td>\n      <td>2020-04-29 08:00:00.643</td>\n    </tr>\n    <tr>\n      <th>11</th>\n      <td>13</td>\n      <td>PLN</td>\n      <td>0.255751</td>\n      <td>2020-04-29 08:00:00.643</td>\n    </tr>\n  </tbody>\n</table>\n</div>"
     },
     "metadata": {},
     "execution_count": 49
    }
   ],
   "source": [
    "exch_df"
   ]
  },
  {
   "cell_type": "code",
   "execution_count": 50,
   "metadata": {},
   "outputs": [
    {
     "output_type": "execute_result",
     "data": {
      "text/plain": "isbn                    0\nsupplier                0\ncurrency                0\ndiscount                0\nunitshippingcost        0\nmaxqtyperorder          0\nprice                   0\npub                     0\ninvoice_fee             0\nlp_fee                  0\ninv_price_before_exc    0\ndtype: int64"
     },
     "metadata": {},
     "execution_count": 50
    }
   ],
   "source": [
    "#check that there is no empy space \n",
    "sup_list2.isna().sum()"
   ]
  },
  {
   "cell_type": "code",
   "execution_count": 51,
   "metadata": {},
   "outputs": [],
   "source": [
    "# We merge the exchange rate\n",
    "sup_list3 = pd.merge(sup_list2, exch_df, how='left', left_on = 'currency', right_on = 'name' )"
   ]
  },
  {
   "cell_type": "code",
   "execution_count": 52,
   "metadata": {},
   "outputs": [
    {
     "output_type": "execute_result",
     "data": {
      "text/plain": "            isbn supplier currency  discount  unitshippingcost  \\\n0  9780262530873  BILLSON      GBP      0.38              3.47   \n1  9780262530989  BILLSON      GBP      0.38              3.47   \n2  9781760110185   ZOOKAL      AUD      0.00              3.30   \n3  9780262531092  BILLSON      GBP      0.38              3.47   \n4  9780262531238  BILLSON      GBP      0.38              3.47   \n\n   maxqtyperorder  price               pub  invoice_fee  lp_fee  \\\n0            1000   4.99  UNIVERSITY PRESS          0.0     0.0   \n1            1000  25.00  UNIVERSITY PRESS          0.0     0.0   \n2             150  13.00     ALIEN & UNWIN          0.0     0.0   \n3            1000  37.95  UNIVERSITY PRESS          0.0     0.0   \n4            1000  28.00  UNIVERSITY PRESS          0.0     0.0   \n\n   inv_price_before_exc  id name      rate               updatedon  \n0                3.0938   4  GBP  1.243139 2020-04-29 08:00:00.643  \n1               15.5000   4  GBP  1.243139 2020-04-29 08:00:00.643  \n2               13.0000   2  AUD  0.652445 2020-04-29 08:00:00.643  \n3               23.5290   4  GBP  1.243139 2020-04-29 08:00:00.643  \n4               17.3600   4  GBP  1.243139 2020-04-29 08:00:00.643  ",
      "text/html": "<div>\n<style scoped>\n    .dataframe tbody tr th:only-of-type {\n        vertical-align: middle;\n    }\n\n    .dataframe tbody tr th {\n        vertical-align: top;\n    }\n\n    .dataframe thead th {\n        text-align: right;\n    }\n</style>\n<table border=\"1\" class=\"dataframe\">\n  <thead>\n    <tr style=\"text-align: right;\">\n      <th></th>\n      <th>isbn</th>\n      <th>supplier</th>\n      <th>currency</th>\n      <th>discount</th>\n      <th>unitshippingcost</th>\n      <th>maxqtyperorder</th>\n      <th>price</th>\n      <th>pub</th>\n      <th>invoice_fee</th>\n      <th>lp_fee</th>\n      <th>inv_price_before_exc</th>\n      <th>id</th>\n      <th>name</th>\n      <th>rate</th>\n      <th>updatedon</th>\n    </tr>\n  </thead>\n  <tbody>\n    <tr>\n      <th>0</th>\n      <td>9780262530873</td>\n      <td>BILLSON</td>\n      <td>GBP</td>\n      <td>0.38</td>\n      <td>3.47</td>\n      <td>1000</td>\n      <td>4.99</td>\n      <td>UNIVERSITY PRESS</td>\n      <td>0.0</td>\n      <td>0.0</td>\n      <td>3.0938</td>\n      <td>4</td>\n      <td>GBP</td>\n      <td>1.243139</td>\n      <td>2020-04-29 08:00:00.643</td>\n    </tr>\n    <tr>\n      <th>1</th>\n      <td>9780262530989</td>\n      <td>BILLSON</td>\n      <td>GBP</td>\n      <td>0.38</td>\n      <td>3.47</td>\n      <td>1000</td>\n      <td>25.00</td>\n      <td>UNIVERSITY PRESS</td>\n      <td>0.0</td>\n      <td>0.0</td>\n      <td>15.5000</td>\n      <td>4</td>\n      <td>GBP</td>\n      <td>1.243139</td>\n      <td>2020-04-29 08:00:00.643</td>\n    </tr>\n    <tr>\n      <th>2</th>\n      <td>9781760110185</td>\n      <td>ZOOKAL</td>\n      <td>AUD</td>\n      <td>0.00</td>\n      <td>3.30</td>\n      <td>150</td>\n      <td>13.00</td>\n      <td>ALIEN &amp; UNWIN</td>\n      <td>0.0</td>\n      <td>0.0</td>\n      <td>13.0000</td>\n      <td>2</td>\n      <td>AUD</td>\n      <td>0.652445</td>\n      <td>2020-04-29 08:00:00.643</td>\n    </tr>\n    <tr>\n      <th>3</th>\n      <td>9780262531092</td>\n      <td>BILLSON</td>\n      <td>GBP</td>\n      <td>0.38</td>\n      <td>3.47</td>\n      <td>1000</td>\n      <td>37.95</td>\n      <td>UNIVERSITY PRESS</td>\n      <td>0.0</td>\n      <td>0.0</td>\n      <td>23.5290</td>\n      <td>4</td>\n      <td>GBP</td>\n      <td>1.243139</td>\n      <td>2020-04-29 08:00:00.643</td>\n    </tr>\n    <tr>\n      <th>4</th>\n      <td>9780262531238</td>\n      <td>BILLSON</td>\n      <td>GBP</td>\n      <td>0.38</td>\n      <td>3.47</td>\n      <td>1000</td>\n      <td>28.00</td>\n      <td>UNIVERSITY PRESS</td>\n      <td>0.0</td>\n      <td>0.0</td>\n      <td>17.3600</td>\n      <td>4</td>\n      <td>GBP</td>\n      <td>1.243139</td>\n      <td>2020-04-29 08:00:00.643</td>\n    </tr>\n  </tbody>\n</table>\n</div>"
     },
     "metadata": {},
     "execution_count": 52
    }
   ],
   "source": [
    "sup_list3.head()"
   ]
  },
  {
   "cell_type": "code",
   "execution_count": 53,
   "metadata": {},
   "outputs": [],
   "source": [
    "#drop uneccesary columns that were added after the merge\n",
    "sup_list3.drop(columns = ['id', 'name', 'updatedon'], inplace = True)"
   ]
  },
  {
   "cell_type": "code",
   "execution_count": 54,
   "metadata": {},
   "outputs": [
    {
     "output_type": "execute_result",
     "data": {
      "text/plain": "            isbn supplier currency  discount  unitshippingcost  \\\n0  9780262530873  BILLSON      GBP      0.38              3.47   \n1  9780262530989  BILLSON      GBP      0.38              3.47   \n2  9781760110185   ZOOKAL      AUD      0.00              3.30   \n3  9780262531092  BILLSON      GBP      0.38              3.47   \n4  9780262531238  BILLSON      GBP      0.38              3.47   \n\n   maxqtyperorder  price               pub  invoice_fee  lp_fee  \\\n0            1000   4.99  UNIVERSITY PRESS          0.0     0.0   \n1            1000  25.00  UNIVERSITY PRESS          0.0     0.0   \n2             150  13.00     ALIEN & UNWIN          0.0     0.0   \n3            1000  37.95  UNIVERSITY PRESS          0.0     0.0   \n4            1000  28.00  UNIVERSITY PRESS          0.0     0.0   \n\n   inv_price_before_exc      rate  \n0                3.0938  1.243139  \n1               15.5000  1.243139  \n2               13.0000  0.652445  \n3               23.5290  1.243139  \n4               17.3600  1.243139  ",
      "text/html": "<div>\n<style scoped>\n    .dataframe tbody tr th:only-of-type {\n        vertical-align: middle;\n    }\n\n    .dataframe tbody tr th {\n        vertical-align: top;\n    }\n\n    .dataframe thead th {\n        text-align: right;\n    }\n</style>\n<table border=\"1\" class=\"dataframe\">\n  <thead>\n    <tr style=\"text-align: right;\">\n      <th></th>\n      <th>isbn</th>\n      <th>supplier</th>\n      <th>currency</th>\n      <th>discount</th>\n      <th>unitshippingcost</th>\n      <th>maxqtyperorder</th>\n      <th>price</th>\n      <th>pub</th>\n      <th>invoice_fee</th>\n      <th>lp_fee</th>\n      <th>inv_price_before_exc</th>\n      <th>rate</th>\n    </tr>\n  </thead>\n  <tbody>\n    <tr>\n      <th>0</th>\n      <td>9780262530873</td>\n      <td>BILLSON</td>\n      <td>GBP</td>\n      <td>0.38</td>\n      <td>3.47</td>\n      <td>1000</td>\n      <td>4.99</td>\n      <td>UNIVERSITY PRESS</td>\n      <td>0.0</td>\n      <td>0.0</td>\n      <td>3.0938</td>\n      <td>1.243139</td>\n    </tr>\n    <tr>\n      <th>1</th>\n      <td>9780262530989</td>\n      <td>BILLSON</td>\n      <td>GBP</td>\n      <td>0.38</td>\n      <td>3.47</td>\n      <td>1000</td>\n      <td>25.00</td>\n      <td>UNIVERSITY PRESS</td>\n      <td>0.0</td>\n      <td>0.0</td>\n      <td>15.5000</td>\n      <td>1.243139</td>\n    </tr>\n    <tr>\n      <th>2</th>\n      <td>9781760110185</td>\n      <td>ZOOKAL</td>\n      <td>AUD</td>\n      <td>0.00</td>\n      <td>3.30</td>\n      <td>150</td>\n      <td>13.00</td>\n      <td>ALIEN &amp; UNWIN</td>\n      <td>0.0</td>\n      <td>0.0</td>\n      <td>13.0000</td>\n      <td>0.652445</td>\n    </tr>\n    <tr>\n      <th>3</th>\n      <td>9780262531092</td>\n      <td>BILLSON</td>\n      <td>GBP</td>\n      <td>0.38</td>\n      <td>3.47</td>\n      <td>1000</td>\n      <td>37.95</td>\n      <td>UNIVERSITY PRESS</td>\n      <td>0.0</td>\n      <td>0.0</td>\n      <td>23.5290</td>\n      <td>1.243139</td>\n    </tr>\n    <tr>\n      <th>4</th>\n      <td>9780262531238</td>\n      <td>BILLSON</td>\n      <td>GBP</td>\n      <td>0.38</td>\n      <td>3.47</td>\n      <td>1000</td>\n      <td>28.00</td>\n      <td>UNIVERSITY PRESS</td>\n      <td>0.0</td>\n      <td>0.0</td>\n      <td>17.3600</td>\n      <td>1.243139</td>\n    </tr>\n  </tbody>\n</table>\n</div>"
     },
     "metadata": {},
     "execution_count": 54
    }
   ],
   "source": [
    "sup_list3.head()"
   ]
  },
  {
   "cell_type": "code",
   "execution_count": 55,
   "metadata": {},
   "outputs": [],
   "source": [
    "sup_list3['landed_cost'] = sup_list3['inv_price_before_exc'] * sup_list3['rate'] + sup_list3['unitshippingcost']"
   ]
  },
  {
   "cell_type": "code",
   "execution_count": 56,
   "metadata": {},
   "outputs": [
    {
     "output_type": "execute_result",
     "data": {
      "text/plain": "            isbn supplier currency  discount  unitshippingcost  \\\n0  9780262530873  BILLSON      GBP      0.38              3.47   \n1  9780262530989  BILLSON      GBP      0.38              3.47   \n2  9781760110185   ZOOKAL      AUD      0.00              3.30   \n3  9780262531092  BILLSON      GBP      0.38              3.47   \n4  9780262531238  BILLSON      GBP      0.38              3.47   \n\n   maxqtyperorder  price               pub  invoice_fee  lp_fee  \\\n0            1000   4.99  UNIVERSITY PRESS          0.0     0.0   \n1            1000  25.00  UNIVERSITY PRESS          0.0     0.0   \n2             150  13.00     ALIEN & UNWIN          0.0     0.0   \n3            1000  37.95  UNIVERSITY PRESS          0.0     0.0   \n4            1000  28.00  UNIVERSITY PRESS          0.0     0.0   \n\n   inv_price_before_exc      rate  landed_cost  \n0                3.0938  1.243139     7.316025  \n1               15.5000  1.243139    22.738660  \n2               13.0000  0.652445    11.781791  \n3               23.5290  1.243139    32.719827  \n4               17.3600  1.243139    25.050900  ",
      "text/html": "<div>\n<style scoped>\n    .dataframe tbody tr th:only-of-type {\n        vertical-align: middle;\n    }\n\n    .dataframe tbody tr th {\n        vertical-align: top;\n    }\n\n    .dataframe thead th {\n        text-align: right;\n    }\n</style>\n<table border=\"1\" class=\"dataframe\">\n  <thead>\n    <tr style=\"text-align: right;\">\n      <th></th>\n      <th>isbn</th>\n      <th>supplier</th>\n      <th>currency</th>\n      <th>discount</th>\n      <th>unitshippingcost</th>\n      <th>maxqtyperorder</th>\n      <th>price</th>\n      <th>pub</th>\n      <th>invoice_fee</th>\n      <th>lp_fee</th>\n      <th>inv_price_before_exc</th>\n      <th>rate</th>\n      <th>landed_cost</th>\n    </tr>\n  </thead>\n  <tbody>\n    <tr>\n      <th>0</th>\n      <td>9780262530873</td>\n      <td>BILLSON</td>\n      <td>GBP</td>\n      <td>0.38</td>\n      <td>3.47</td>\n      <td>1000</td>\n      <td>4.99</td>\n      <td>UNIVERSITY PRESS</td>\n      <td>0.0</td>\n      <td>0.0</td>\n      <td>3.0938</td>\n      <td>1.243139</td>\n      <td>7.316025</td>\n    </tr>\n    <tr>\n      <th>1</th>\n      <td>9780262530989</td>\n      <td>BILLSON</td>\n      <td>GBP</td>\n      <td>0.38</td>\n      <td>3.47</td>\n      <td>1000</td>\n      <td>25.00</td>\n      <td>UNIVERSITY PRESS</td>\n      <td>0.0</td>\n      <td>0.0</td>\n      <td>15.5000</td>\n      <td>1.243139</td>\n      <td>22.738660</td>\n    </tr>\n    <tr>\n      <th>2</th>\n      <td>9781760110185</td>\n      <td>ZOOKAL</td>\n      <td>AUD</td>\n      <td>0.00</td>\n      <td>3.30</td>\n      <td>150</td>\n      <td>13.00</td>\n      <td>ALIEN &amp; UNWIN</td>\n      <td>0.0</td>\n      <td>0.0</td>\n      <td>13.0000</td>\n      <td>0.652445</td>\n      <td>11.781791</td>\n    </tr>\n    <tr>\n      <th>3</th>\n      <td>9780262531092</td>\n      <td>BILLSON</td>\n      <td>GBP</td>\n      <td>0.38</td>\n      <td>3.47</td>\n      <td>1000</td>\n      <td>37.95</td>\n      <td>UNIVERSITY PRESS</td>\n      <td>0.0</td>\n      <td>0.0</td>\n      <td>23.5290</td>\n      <td>1.243139</td>\n      <td>32.719827</td>\n    </tr>\n    <tr>\n      <th>4</th>\n      <td>9780262531238</td>\n      <td>BILLSON</td>\n      <td>GBP</td>\n      <td>0.38</td>\n      <td>3.47</td>\n      <td>1000</td>\n      <td>28.00</td>\n      <td>UNIVERSITY PRESS</td>\n      <td>0.0</td>\n      <td>0.0</td>\n      <td>17.3600</td>\n      <td>1.243139</td>\n      <td>25.050900</td>\n    </tr>\n  </tbody>\n</table>\n</div>"
     },
     "metadata": {},
     "execution_count": 56
    }
   ],
   "source": [
    "sup_list3.head()"
   ]
  },
  {
   "cell_type": "code",
   "execution_count": 57,
   "metadata": {},
   "outputs": [],
   "source": [
    "sup_bestcost = sup_list3[['isbn', 'supplier','pub', 'currency','rate','price', 'discount','invoice_fee','lp_fee','inv_price_before_exc','unitshippingcost', 'landed_cost', 'maxqtyperorder']].sort_values(by='landed_cost', ascending=True)"
   ]
  },
  {
   "cell_type": "code",
   "execution_count": 58,
   "metadata": {},
   "outputs": [
    {
     "output_type": "execute_result",
     "data": {
      "text/plain": "                  isbn   supplier            pub currency      rate     price  \\\n1700572  9781260241044       ALEK         MCGRAW      GBP  1.243139     -1.01   \n1700565  9781260241020       ALEK         MCGRAW      GBP  1.243139     -1.01   \n1978063  9781260241044       ALEK         MCGRAW      EUR  1.087025     -0.01   \n1978062  9781260241020       ALEK         MCGRAW      EUR  1.087025     -0.01   \n211997   9780786820771       ALEK  HACHETTE LIVE      USD  1.000000      0.01   \n...                ...        ...            ...      ...       ...       ...   \n3293959  9780415191326     ZOOKAL            T&F      AUD  0.652445  28210.35   \n2796391  9780415440967     ZOOKAL            T&F      AUD  0.652445  28224.42   \n1286818  9780415441773  LAURENTIU            T&F      GBP  1.243139  25850.00   \n3177301  9780415178389     ZOOKAL            T&F      AUD  0.652445  34310.03   \n2805704  9780415441773     ZOOKAL            T&F      AUD  0.652445  34310.03   \n\n         discount  invoice_fee  lp_fee  inv_price_before_exc  \\\n1700572      0.47        0.005     0.0             -0.537976   \n1700565      0.47        0.005     0.0             -0.537976   \n1978063      0.47        0.005     0.0             -0.005326   \n1978062      0.47        0.005     0.0             -0.005326   \n211997       0.59        0.005     0.0              0.004121   \n...           ...          ...     ...                   ...   \n3293959      0.00        0.000     0.0          28210.350000   \n2796391      0.00        0.000     0.0          28224.420000   \n1286818      0.42        0.020     0.0          15292.860000   \n3177301      0.00        0.000     0.0          34310.030000   \n2805704      0.00        0.000     0.0          34310.030000   \n\n         unitshippingcost   landed_cost  maxqtyperorder  \n1700572              0.50     -0.168780             100  \n1700565              0.50     -0.168780             100  \n1978063              0.50      0.494210             100  \n1978062              0.50      0.494210             100  \n211997               0.50      0.504120             100  \n...                   ...           ...             ...  \n3293959              3.30  18409.015774             150  \n2796391              3.30  18418.195682             150  \n1286818              3.47  19014.626593             100  \n3177301              3.30  22388.724511             150  \n2805704              3.30  22388.724511             150  \n\n[3390622 rows x 13 columns]",
      "text/html": "<div>\n<style scoped>\n    .dataframe tbody tr th:only-of-type {\n        vertical-align: middle;\n    }\n\n    .dataframe tbody tr th {\n        vertical-align: top;\n    }\n\n    .dataframe thead th {\n        text-align: right;\n    }\n</style>\n<table border=\"1\" class=\"dataframe\">\n  <thead>\n    <tr style=\"text-align: right;\">\n      <th></th>\n      <th>isbn</th>\n      <th>supplier</th>\n      <th>pub</th>\n      <th>currency</th>\n      <th>rate</th>\n      <th>price</th>\n      <th>discount</th>\n      <th>invoice_fee</th>\n      <th>lp_fee</th>\n      <th>inv_price_before_exc</th>\n      <th>unitshippingcost</th>\n      <th>landed_cost</th>\n      <th>maxqtyperorder</th>\n    </tr>\n  </thead>\n  <tbody>\n    <tr>\n      <th>1700572</th>\n      <td>9781260241044</td>\n      <td>ALEK</td>\n      <td>MCGRAW</td>\n      <td>GBP</td>\n      <td>1.243139</td>\n      <td>-1.01</td>\n      <td>0.47</td>\n      <td>0.005</td>\n      <td>0.0</td>\n      <td>-0.537976</td>\n      <td>0.50</td>\n      <td>-0.168780</td>\n      <td>100</td>\n    </tr>\n    <tr>\n      <th>1700565</th>\n      <td>9781260241020</td>\n      <td>ALEK</td>\n      <td>MCGRAW</td>\n      <td>GBP</td>\n      <td>1.243139</td>\n      <td>-1.01</td>\n      <td>0.47</td>\n      <td>0.005</td>\n      <td>0.0</td>\n      <td>-0.537976</td>\n      <td>0.50</td>\n      <td>-0.168780</td>\n      <td>100</td>\n    </tr>\n    <tr>\n      <th>1978063</th>\n      <td>9781260241044</td>\n      <td>ALEK</td>\n      <td>MCGRAW</td>\n      <td>EUR</td>\n      <td>1.087025</td>\n      <td>-0.01</td>\n      <td>0.47</td>\n      <td>0.005</td>\n      <td>0.0</td>\n      <td>-0.005326</td>\n      <td>0.50</td>\n      <td>0.494210</td>\n      <td>100</td>\n    </tr>\n    <tr>\n      <th>1978062</th>\n      <td>9781260241020</td>\n      <td>ALEK</td>\n      <td>MCGRAW</td>\n      <td>EUR</td>\n      <td>1.087025</td>\n      <td>-0.01</td>\n      <td>0.47</td>\n      <td>0.005</td>\n      <td>0.0</td>\n      <td>-0.005326</td>\n      <td>0.50</td>\n      <td>0.494210</td>\n      <td>100</td>\n    </tr>\n    <tr>\n      <th>211997</th>\n      <td>9780786820771</td>\n      <td>ALEK</td>\n      <td>HACHETTE LIVE</td>\n      <td>USD</td>\n      <td>1.000000</td>\n      <td>0.01</td>\n      <td>0.59</td>\n      <td>0.005</td>\n      <td>0.0</td>\n      <td>0.004121</td>\n      <td>0.50</td>\n      <td>0.504120</td>\n      <td>100</td>\n    </tr>\n    <tr>\n      <th>...</th>\n      <td>...</td>\n      <td>...</td>\n      <td>...</td>\n      <td>...</td>\n      <td>...</td>\n      <td>...</td>\n      <td>...</td>\n      <td>...</td>\n      <td>...</td>\n      <td>...</td>\n      <td>...</td>\n      <td>...</td>\n      <td>...</td>\n    </tr>\n    <tr>\n      <th>3293959</th>\n      <td>9780415191326</td>\n      <td>ZOOKAL</td>\n      <td>T&amp;F</td>\n      <td>AUD</td>\n      <td>0.652445</td>\n      <td>28210.35</td>\n      <td>0.00</td>\n      <td>0.000</td>\n      <td>0.0</td>\n      <td>28210.350000</td>\n      <td>3.30</td>\n      <td>18409.015774</td>\n      <td>150</td>\n    </tr>\n    <tr>\n      <th>2796391</th>\n      <td>9780415440967</td>\n      <td>ZOOKAL</td>\n      <td>T&amp;F</td>\n      <td>AUD</td>\n      <td>0.652445</td>\n      <td>28224.42</td>\n      <td>0.00</td>\n      <td>0.000</td>\n      <td>0.0</td>\n      <td>28224.420000</td>\n      <td>3.30</td>\n      <td>18418.195682</td>\n      <td>150</td>\n    </tr>\n    <tr>\n      <th>1286818</th>\n      <td>9780415441773</td>\n      <td>LAURENTIU</td>\n      <td>T&amp;F</td>\n      <td>GBP</td>\n      <td>1.243139</td>\n      <td>25850.00</td>\n      <td>0.42</td>\n      <td>0.020</td>\n      <td>0.0</td>\n      <td>15292.860000</td>\n      <td>3.47</td>\n      <td>19014.626593</td>\n      <td>100</td>\n    </tr>\n    <tr>\n      <th>3177301</th>\n      <td>9780415178389</td>\n      <td>ZOOKAL</td>\n      <td>T&amp;F</td>\n      <td>AUD</td>\n      <td>0.652445</td>\n      <td>34310.03</td>\n      <td>0.00</td>\n      <td>0.000</td>\n      <td>0.0</td>\n      <td>34310.030000</td>\n      <td>3.30</td>\n      <td>22388.724511</td>\n      <td>150</td>\n    </tr>\n    <tr>\n      <th>2805704</th>\n      <td>9780415441773</td>\n      <td>ZOOKAL</td>\n      <td>T&amp;F</td>\n      <td>AUD</td>\n      <td>0.652445</td>\n      <td>34310.03</td>\n      <td>0.00</td>\n      <td>0.000</td>\n      <td>0.0</td>\n      <td>34310.030000</td>\n      <td>3.30</td>\n      <td>22388.724511</td>\n      <td>150</td>\n    </tr>\n  </tbody>\n</table>\n<p>3390622 rows × 13 columns</p>\n</div>"
     },
     "metadata": {},
     "execution_count": 58
    }
   ],
   "source": [
    "sup_bestcost"
   ]
  },
  {
   "cell_type": "code",
   "execution_count": 59,
   "metadata": {},
   "outputs": [],
   "source": [
    "# lets remoove any title that do not have price\n",
    "sup_bestcost.drop(sup_bestcost[sup_bestcost['price'] == 0].index, inplace = True)\n",
    "sup_bestcost.rename(columns={'unitshippingcost': 'shipping cost', 'maxqtyperorder': 'max quantity'}, inplace = True)"
   ]
  },
  {
   "cell_type": "code",
   "execution_count": 60,
   "metadata": {},
   "outputs": [
    {
     "output_type": "execute_result",
     "data": {
      "text/plain": "                  isbn   supplier            pub currency      rate     price  \\\n1700572  9781260241044       ALEK         MCGRAW      GBP  1.243139     -1.01   \n1700565  9781260241020       ALEK         MCGRAW      GBP  1.243139     -1.01   \n1978063  9781260241044       ALEK         MCGRAW      EUR  1.087025     -0.01   \n1978062  9781260241020       ALEK         MCGRAW      EUR  1.087025     -0.01   \n211997   9780786820771       ALEK  HACHETTE LIVE      USD  1.000000      0.01   \n...                ...        ...            ...      ...       ...       ...   \n3293959  9780415191326     ZOOKAL            T&F      AUD  0.652445  28210.35   \n2796391  9780415440967     ZOOKAL            T&F      AUD  0.652445  28224.42   \n1286818  9780415441773  LAURENTIU            T&F      GBP  1.243139  25850.00   \n3177301  9780415178389     ZOOKAL            T&F      AUD  0.652445  34310.03   \n2805704  9780415441773     ZOOKAL            T&F      AUD  0.652445  34310.03   \n\n         discount  invoice_fee  lp_fee  inv_price_before_exc  shipping cost  \\\n1700572      0.47        0.005     0.0             -0.537976           0.50   \n1700565      0.47        0.005     0.0             -0.537976           0.50   \n1978063      0.47        0.005     0.0             -0.005326           0.50   \n1978062      0.47        0.005     0.0             -0.005326           0.50   \n211997       0.59        0.005     0.0              0.004121           0.50   \n...           ...          ...     ...                   ...            ...   \n3293959      0.00        0.000     0.0          28210.350000           3.30   \n2796391      0.00        0.000     0.0          28224.420000           3.30   \n1286818      0.42        0.020     0.0          15292.860000           3.47   \n3177301      0.00        0.000     0.0          34310.030000           3.30   \n2805704      0.00        0.000     0.0          34310.030000           3.30   \n\n          landed_cost  max quantity  \n1700572     -0.168780           100  \n1700565     -0.168780           100  \n1978063      0.494210           100  \n1978062      0.494210           100  \n211997       0.504120           100  \n...               ...           ...  \n3293959  18409.015774           150  \n2796391  18418.195682           150  \n1286818  19014.626593           100  \n3177301  22388.724511           150  \n2805704  22388.724511           150  \n\n[3390622 rows x 13 columns]",
      "text/html": "<div>\n<style scoped>\n    .dataframe tbody tr th:only-of-type {\n        vertical-align: middle;\n    }\n\n    .dataframe tbody tr th {\n        vertical-align: top;\n    }\n\n    .dataframe thead th {\n        text-align: right;\n    }\n</style>\n<table border=\"1\" class=\"dataframe\">\n  <thead>\n    <tr style=\"text-align: right;\">\n      <th></th>\n      <th>isbn</th>\n      <th>supplier</th>\n      <th>pub</th>\n      <th>currency</th>\n      <th>rate</th>\n      <th>price</th>\n      <th>discount</th>\n      <th>invoice_fee</th>\n      <th>lp_fee</th>\n      <th>inv_price_before_exc</th>\n      <th>shipping cost</th>\n      <th>landed_cost</th>\n      <th>max quantity</th>\n    </tr>\n  </thead>\n  <tbody>\n    <tr>\n      <th>1700572</th>\n      <td>9781260241044</td>\n      <td>ALEK</td>\n      <td>MCGRAW</td>\n      <td>GBP</td>\n      <td>1.243139</td>\n      <td>-1.01</td>\n      <td>0.47</td>\n      <td>0.005</td>\n      <td>0.0</td>\n      <td>-0.537976</td>\n      <td>0.50</td>\n      <td>-0.168780</td>\n      <td>100</td>\n    </tr>\n    <tr>\n      <th>1700565</th>\n      <td>9781260241020</td>\n      <td>ALEK</td>\n      <td>MCGRAW</td>\n      <td>GBP</td>\n      <td>1.243139</td>\n      <td>-1.01</td>\n      <td>0.47</td>\n      <td>0.005</td>\n      <td>0.0</td>\n      <td>-0.537976</td>\n      <td>0.50</td>\n      <td>-0.168780</td>\n      <td>100</td>\n    </tr>\n    <tr>\n      <th>1978063</th>\n      <td>9781260241044</td>\n      <td>ALEK</td>\n      <td>MCGRAW</td>\n      <td>EUR</td>\n      <td>1.087025</td>\n      <td>-0.01</td>\n      <td>0.47</td>\n      <td>0.005</td>\n      <td>0.0</td>\n      <td>-0.005326</td>\n      <td>0.50</td>\n      <td>0.494210</td>\n      <td>100</td>\n    </tr>\n    <tr>\n      <th>1978062</th>\n      <td>9781260241020</td>\n      <td>ALEK</td>\n      <td>MCGRAW</td>\n      <td>EUR</td>\n      <td>1.087025</td>\n      <td>-0.01</td>\n      <td>0.47</td>\n      <td>0.005</td>\n      <td>0.0</td>\n      <td>-0.005326</td>\n      <td>0.50</td>\n      <td>0.494210</td>\n      <td>100</td>\n    </tr>\n    <tr>\n      <th>211997</th>\n      <td>9780786820771</td>\n      <td>ALEK</td>\n      <td>HACHETTE LIVE</td>\n      <td>USD</td>\n      <td>1.000000</td>\n      <td>0.01</td>\n      <td>0.59</td>\n      <td>0.005</td>\n      <td>0.0</td>\n      <td>0.004121</td>\n      <td>0.50</td>\n      <td>0.504120</td>\n      <td>100</td>\n    </tr>\n    <tr>\n      <th>...</th>\n      <td>...</td>\n      <td>...</td>\n      <td>...</td>\n      <td>...</td>\n      <td>...</td>\n      <td>...</td>\n      <td>...</td>\n      <td>...</td>\n      <td>...</td>\n      <td>...</td>\n      <td>...</td>\n      <td>...</td>\n      <td>...</td>\n    </tr>\n    <tr>\n      <th>3293959</th>\n      <td>9780415191326</td>\n      <td>ZOOKAL</td>\n      <td>T&amp;F</td>\n      <td>AUD</td>\n      <td>0.652445</td>\n      <td>28210.35</td>\n      <td>0.00</td>\n      <td>0.000</td>\n      <td>0.0</td>\n      <td>28210.350000</td>\n      <td>3.30</td>\n      <td>18409.015774</td>\n      <td>150</td>\n    </tr>\n    <tr>\n      <th>2796391</th>\n      <td>9780415440967</td>\n      <td>ZOOKAL</td>\n      <td>T&amp;F</td>\n      <td>AUD</td>\n      <td>0.652445</td>\n      <td>28224.42</td>\n      <td>0.00</td>\n      <td>0.000</td>\n      <td>0.0</td>\n      <td>28224.420000</td>\n      <td>3.30</td>\n      <td>18418.195682</td>\n      <td>150</td>\n    </tr>\n    <tr>\n      <th>1286818</th>\n      <td>9780415441773</td>\n      <td>LAURENTIU</td>\n      <td>T&amp;F</td>\n      <td>GBP</td>\n      <td>1.243139</td>\n      <td>25850.00</td>\n      <td>0.42</td>\n      <td>0.020</td>\n      <td>0.0</td>\n      <td>15292.860000</td>\n      <td>3.47</td>\n      <td>19014.626593</td>\n      <td>100</td>\n    </tr>\n    <tr>\n      <th>3177301</th>\n      <td>9780415178389</td>\n      <td>ZOOKAL</td>\n      <td>T&amp;F</td>\n      <td>AUD</td>\n      <td>0.652445</td>\n      <td>34310.03</td>\n      <td>0.00</td>\n      <td>0.000</td>\n      <td>0.0</td>\n      <td>34310.030000</td>\n      <td>3.30</td>\n      <td>22388.724511</td>\n      <td>150</td>\n    </tr>\n    <tr>\n      <th>2805704</th>\n      <td>9780415441773</td>\n      <td>ZOOKAL</td>\n      <td>T&amp;F</td>\n      <td>AUD</td>\n      <td>0.652445</td>\n      <td>34310.03</td>\n      <td>0.00</td>\n      <td>0.000</td>\n      <td>0.0</td>\n      <td>34310.030000</td>\n      <td>3.30</td>\n      <td>22388.724511</td>\n      <td>150</td>\n    </tr>\n  </tbody>\n</table>\n<p>3390622 rows × 13 columns</p>\n</div>"
     },
     "metadata": {},
     "execution_count": 60
    }
   ],
   "source": [
    "sup_bestcost"
   ]
  },
  {
   "cell_type": "code",
   "execution_count": 61,
   "metadata": {},
   "outputs": [],
   "source": [
    "center_production = pyodbc.connect(\n",
    "    'DRIVER={ODBC Driver 17 for SQL Server};'\n",
    "    'Server=52.86.56.66;'\n",
    "    'Database=BookXCenterProduction;'\n",
    "    'UID='+sql.username+';'\n",
    "    'PWD='+sql.password+';'\n",
    "    'Trusted_connection=no;'\n",
    ")"
   ]
  },
  {
   "cell_type": "code",
   "execution_count": 62,
   "metadata": {},
   "outputs": [],
   "source": [
    "isbn_title = \"\"\"\n",
    "SELECT Isbn, Title, Author\n",
    "FROM Isbn.Bibliography\n",
    "\"\"\""
   ]
  },
  {
   "cell_type": "code",
   "execution_count": 63,
   "metadata": {},
   "outputs": [],
   "source": [
    "isbn_df = pd.read_sql(isbn_title,center_production)"
   ]
  },
  {
   "cell_type": "code",
   "execution_count": 64,
   "metadata": {},
   "outputs": [
    {
     "output_type": "execute_result",
     "data": {
      "text/plain": "Isbn      object\nTitle     object\nAuthor    object\ndtype: object"
     },
     "metadata": {},
     "execution_count": 64
    }
   ],
   "source": [
    "isbn_df.dtypes"
   ]
  },
  {
   "cell_type": "code",
   "execution_count": 65,
   "metadata": {},
   "outputs": [
    {
     "output_type": "execute_result",
     "data": {
      "text/plain": "Isbn            0\nTitle     1428271\nAuthor    1675997\ndtype: int64"
     },
     "metadata": {},
     "execution_count": 65
    }
   ],
   "source": [
    "isbn_df.isna().sum()\n",
    ""
   ]
  },
  {
   "cell_type": "code",
   "execution_count": 66,
   "metadata": {},
   "outputs": [],
   "source": [
    "isbn_df.columns = map(str.lower, isbn_df.columns)"
   ]
  },
  {
   "cell_type": "code",
   "execution_count": 67,
   "metadata": {},
   "outputs": [
    {
     "output_type": "execute_result",
     "data": {
      "text/plain": "isbn      0\ntitle     0\nauthor    0\ndtype: int64"
     },
     "metadata": {},
     "execution_count": 67
    }
   ],
   "source": [
    "isbn_df = isbn_df.fillna('N/A')\n",
    "isbn_df.isna().sum()"
   ]
  },
  {
   "cell_type": "code",
   "execution_count": 68,
   "metadata": {},
   "outputs": [
    {
     "output_type": "execute_result",
     "data": {
      "text/plain": "            isbn title author\n0  9780000002402   N/A    N/A\n1  9780000002679   N/A    N/A\n2  9780000003102   N/A    N/A\n3  9780000003201   N/A    N/A\n4  9780000006493   N/A    N/A",
      "text/html": "<div>\n<style scoped>\n    .dataframe tbody tr th:only-of-type {\n        vertical-align: middle;\n    }\n\n    .dataframe tbody tr th {\n        vertical-align: top;\n    }\n\n    .dataframe thead th {\n        text-align: right;\n    }\n</style>\n<table border=\"1\" class=\"dataframe\">\n  <thead>\n    <tr style=\"text-align: right;\">\n      <th></th>\n      <th>isbn</th>\n      <th>title</th>\n      <th>author</th>\n    </tr>\n  </thead>\n  <tbody>\n    <tr>\n      <th>0</th>\n      <td>9780000002402</td>\n      <td>N/A</td>\n      <td>N/A</td>\n    </tr>\n    <tr>\n      <th>1</th>\n      <td>9780000002679</td>\n      <td>N/A</td>\n      <td>N/A</td>\n    </tr>\n    <tr>\n      <th>2</th>\n      <td>9780000003102</td>\n      <td>N/A</td>\n      <td>N/A</td>\n    </tr>\n    <tr>\n      <th>3</th>\n      <td>9780000003201</td>\n      <td>N/A</td>\n      <td>N/A</td>\n    </tr>\n    <tr>\n      <th>4</th>\n      <td>9780000006493</td>\n      <td>N/A</td>\n      <td>N/A</td>\n    </tr>\n  </tbody>\n</table>\n</div>"
     },
     "metadata": {},
     "execution_count": 68
    }
   ],
   "source": [
    "isbn_df.head()"
   ]
  },
  {
   "cell_type": "code",
   "execution_count": 69,
   "metadata": {},
   "outputs": [],
   "source": [
    "isbn_col = list(isbn_df.columns).remove('isbn')"
   ]
  },
  {
   "cell_type": "code",
   "execution_count": 70,
   "metadata": {},
   "outputs": [],
   "source": [
    "for col in isbn_df.columns:\n",
    "    isbn_df[col] = isbn_df.apply(lambda x: clean_up(x[col]), axis =1)"
   ]
  },
  {
   "cell_type": "code",
   "execution_count": 71,
   "metadata": {},
   "outputs": [],
   "source": [
    "sup_bestcost_sql = pd.merge(sup_bestcost, isbn_df, how='left', left_on = ['isbn'], right_on = ['isbn'] )"
   ]
  },
  {
   "cell_type": "code",
   "execution_count": 72,
   "metadata": {},
   "outputs": [
    {
     "output_type": "execute_result",
     "data": {
      "text/plain": "            isbn title author            pub supplier currency      rate  \\\n0  9781260241044   N/A    N/A         MCGRAW     ALEK      GBP  1.243139   \n1  9781260241020   N/A    N/A         MCGRAW     ALEK      GBP  1.243139   \n2  9781260241044   N/A    N/A         MCGRAW     ALEK      EUR  1.087025   \n3  9781260241020   N/A    N/A         MCGRAW     ALEK      EUR  1.087025   \n4  9780786820771   N/A    N/A  HACHETTE LIVE     ALEK      USD  1.000000   \n\n   price  discount  invoice_fee  lp_fee  shipping cost  \n0  -1.01      0.47        0.005     0.0            0.5  \n1  -1.01      0.47        0.005     0.0            0.5  \n2  -0.01      0.47        0.005     0.0            0.5  \n3  -0.01      0.47        0.005     0.0            0.5  \n4   0.01      0.59        0.005     0.0            0.5  ",
      "text/html": "<div>\n<style scoped>\n    .dataframe tbody tr th:only-of-type {\n        vertical-align: middle;\n    }\n\n    .dataframe tbody tr th {\n        vertical-align: top;\n    }\n\n    .dataframe thead th {\n        text-align: right;\n    }\n</style>\n<table border=\"1\" class=\"dataframe\">\n  <thead>\n    <tr style=\"text-align: right;\">\n      <th></th>\n      <th>isbn</th>\n      <th>title</th>\n      <th>author</th>\n      <th>pub</th>\n      <th>supplier</th>\n      <th>currency</th>\n      <th>rate</th>\n      <th>price</th>\n      <th>discount</th>\n      <th>invoice_fee</th>\n      <th>lp_fee</th>\n      <th>shipping cost</th>\n    </tr>\n  </thead>\n  <tbody>\n    <tr>\n      <th>0</th>\n      <td>9781260241044</td>\n      <td>N/A</td>\n      <td>N/A</td>\n      <td>MCGRAW</td>\n      <td>ALEK</td>\n      <td>GBP</td>\n      <td>1.243139</td>\n      <td>-1.01</td>\n      <td>0.47</td>\n      <td>0.005</td>\n      <td>0.0</td>\n      <td>0.5</td>\n    </tr>\n    <tr>\n      <th>1</th>\n      <td>9781260241020</td>\n      <td>N/A</td>\n      <td>N/A</td>\n      <td>MCGRAW</td>\n      <td>ALEK</td>\n      <td>GBP</td>\n      <td>1.243139</td>\n      <td>-1.01</td>\n      <td>0.47</td>\n      <td>0.005</td>\n      <td>0.0</td>\n      <td>0.5</td>\n    </tr>\n    <tr>\n      <th>2</th>\n      <td>9781260241044</td>\n      <td>N/A</td>\n      <td>N/A</td>\n      <td>MCGRAW</td>\n      <td>ALEK</td>\n      <td>EUR</td>\n      <td>1.087025</td>\n      <td>-0.01</td>\n      <td>0.47</td>\n      <td>0.005</td>\n      <td>0.0</td>\n      <td>0.5</td>\n    </tr>\n    <tr>\n      <th>3</th>\n      <td>9781260241020</td>\n      <td>N/A</td>\n      <td>N/A</td>\n      <td>MCGRAW</td>\n      <td>ALEK</td>\n      <td>EUR</td>\n      <td>1.087025</td>\n      <td>-0.01</td>\n      <td>0.47</td>\n      <td>0.005</td>\n      <td>0.0</td>\n      <td>0.5</td>\n    </tr>\n    <tr>\n      <th>4</th>\n      <td>9780786820771</td>\n      <td>N/A</td>\n      <td>N/A</td>\n      <td>HACHETTE LIVE</td>\n      <td>ALEK</td>\n      <td>USD</td>\n      <td>1.000000</td>\n      <td>0.01</td>\n      <td>0.59</td>\n      <td>0.005</td>\n      <td>0.0</td>\n      <td>0.5</td>\n    </tr>\n  </tbody>\n</table>\n</div>"
     },
     "metadata": {},
     "execution_count": 72
    }
   ],
   "source": [
    "sup_bestcost_sql = sup_bestcost_sql[['isbn', 'title', 'author', 'pub', 'supplier','currency','rate','price','discount','invoice_fee','lp_fee','shipping cost']]\n",
    "sup_bestcost_sql.head()"
   ]
  },
  {
   "cell_type": "code",
   "execution_count": 73,
   "metadata": {},
   "outputs": [],
   "source": [
    "sup_bestcost_sql.to_csv('supplier_sql.csv',index=False)"
   ]
  }
 ],
 "metadata": {
  "kernelspec": {
   "display_name": "Python 3",
   "language": "python",
   "name": "python3"
  },
  "language_info": {
   "codemirror_mode": {
    "name": "ipython",
    "version": 3
   },
   "file_extension": ".py",
   "mimetype": "text/x-python",
   "name": "python",
   "nbconvert_exporter": "python",
   "pygments_lexer": "ipython3",
   "version": "3.7.6-final"
  }
 },
 "nbformat": 4,
 "nbformat_minor": 4
}
