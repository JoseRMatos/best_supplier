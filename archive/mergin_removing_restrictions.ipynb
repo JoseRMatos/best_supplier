{
 "nbformat": 4,
 "nbformat_minor": 2,
 "metadata": {
  "language_info": {
   "name": "python",
   "codemirror_mode": {
    "name": "ipython",
    "version": 3
   },
   "version": "3.7.6-final"
  },
  "orig_nbformat": 2,
  "file_extension": ".py",
  "mimetype": "text/x-python",
  "name": "python",
  "npconvert_exporter": "python",
  "pygments_lexer": "ipython3",
  "version": 3,
  "kernelspec": {
   "name": "python3",
   "display_name": "Python 3"
  }
 },
 "cells": [
  {
   "cell_type": "code",
   "execution_count": 1,
   "metadata": {},
   "outputs": [],
   "source": [
    "import pandas as pd\n",
    "import numpy as np"
   ]
  },
  {
   "cell_type": "code",
   "execution_count": 2,
   "metadata": {},
   "outputs": [],
   "source": [
    "def clean_up(phrase):\n",
    "    phrase = phrase.lstrip()\n",
    "    phrase = phrase.rstrip()\n",
    "    phrase = phrase.upper()\n",
    "    return phrase"
   ]
  },
  {
   "cell_type": "code",
   "execution_count": 3,
   "metadata": {},
   "outputs": [
    {
     "output_type": "execute_result",
     "data": {
      "text/plain": "          isbn13 vendor\n0  9780323567428  RISKY\n1  9780500292105  RISKY\n2  9781936523443  RISKY\n3  9780134149530  RISKY\n4  9780134205588  RISKY",
      "text/html": "<div>\n<style scoped>\n    .dataframe tbody tr th:only-of-type {\n        vertical-align: middle;\n    }\n\n    .dataframe tbody tr th {\n        vertical-align: top;\n    }\n\n    .dataframe thead th {\n        text-align: right;\n    }\n</style>\n<table border=\"1\" class=\"dataframe\">\n  <thead>\n    <tr style=\"text-align: right;\">\n      <th></th>\n      <th>isbn13</th>\n      <th>vendor</th>\n    </tr>\n  </thead>\n  <tbody>\n    <tr>\n      <th>0</th>\n      <td>9780323567428</td>\n      <td>RISKY</td>\n    </tr>\n    <tr>\n      <th>1</th>\n      <td>9780500292105</td>\n      <td>RISKY</td>\n    </tr>\n    <tr>\n      <th>2</th>\n      <td>9781936523443</td>\n      <td>RISKY</td>\n    </tr>\n    <tr>\n      <th>3</th>\n      <td>9780134149530</td>\n      <td>RISKY</td>\n    </tr>\n    <tr>\n      <th>4</th>\n      <td>9780134205588</td>\n      <td>RISKY</td>\n    </tr>\n  </tbody>\n</table>\n</div>"
     },
     "metadata": {},
     "execution_count": 3
    }
   ],
   "source": [
    "# Import restrictions\n",
    "rest = pd.read_excel(\"../../../../Vendors/. Restrictions\\All Restricted List.xlsx\")\n",
    "rest.columns = map(str.lower, rest.columns)\n",
    "rest['isbn13'] = rest['isbn13'].astype(str)\n",
    "for col in ['isbn13', 'vendor']:\n",
    "    rest[col] = rest.apply(lambda x: clean_up(x[col]), axis =1)\n",
    "\n",
    "rest = rest[['isbn13','vendor']]\n",
    "rest.head()"
   ]
  },
  {
   "cell_type": "code",
   "execution_count": 4,
   "metadata": {},
   "outputs": [
    {
     "output_type": "execute_result",
     "data": {
      "text/plain": "(89859, 2)"
     },
     "metadata": {},
     "execution_count": 4
    }
   ],
   "source": [
    "rest.shape"
   ]
  },
  {
   "cell_type": "code",
   "execution_count": 5,
   "metadata": {},
   "outputs": [
    {
     "output_type": "execute_result",
     "data": {
      "text/plain": "(486, 2)"
     },
     "metadata": {},
     "execution_count": 5
    }
   ],
   "source": [
    "risky = rest[rest['vendor'] == 'RISKY']\n",
    "risky.shape"
   ]
  },
  {
   "cell_type": "code",
   "execution_count": 6,
   "metadata": {},
   "outputs": [
    {
     "output_type": "execute_result",
     "data": {
      "text/plain": "            isbn title author  pub supplier currency      rate   price  \\\n0  9780000079145   NaN    NaN  LWW      ABE      GBP  1.237001   67.00   \n1  9780000003201   NaN    NaN  LWW      ABE      GBP  1.237001  265.00   \n2  9780000002402   NaN    NaN  LWW      ABE      GBP  1.237001  306.00   \n3  9780000002679   NaN    NaN  LWW      ABE      GBP  1.237001  425.00   \n4  9780000050090   NaN    NaN  LWW      ABE      GBP  1.237001   17.99   \n\n   discount  invoice_fee  lp_fee  shipping cost  max quantity  min  region  \n0      0.55          0.0       0           3.47         10000    0  EUROPE  \n1      0.55          0.0       0           3.47         10000    0  EUROPE  \n2      0.55          0.0       0           3.47         10000    0  EUROPE  \n3      0.55          0.0       0           3.47         10000    0  EUROPE  \n4      0.55          0.0       0           3.47         10000    0  EUROPE  ",
      "text/html": "<div>\n<style scoped>\n    .dataframe tbody tr th:only-of-type {\n        vertical-align: middle;\n    }\n\n    .dataframe tbody tr th {\n        vertical-align: top;\n    }\n\n    .dataframe thead th {\n        text-align: right;\n    }\n</style>\n<table border=\"1\" class=\"dataframe\">\n  <thead>\n    <tr style=\"text-align: right;\">\n      <th></th>\n      <th>isbn</th>\n      <th>title</th>\n      <th>author</th>\n      <th>pub</th>\n      <th>supplier</th>\n      <th>currency</th>\n      <th>rate</th>\n      <th>price</th>\n      <th>discount</th>\n      <th>invoice_fee</th>\n      <th>lp_fee</th>\n      <th>shipping cost</th>\n      <th>max quantity</th>\n      <th>min</th>\n      <th>region</th>\n    </tr>\n  </thead>\n  <tbody>\n    <tr>\n      <th>0</th>\n      <td>9780000079145</td>\n      <td>NaN</td>\n      <td>NaN</td>\n      <td>LWW</td>\n      <td>ABE</td>\n      <td>GBP</td>\n      <td>1.237001</td>\n      <td>67.00</td>\n      <td>0.55</td>\n      <td>0.0</td>\n      <td>0</td>\n      <td>3.47</td>\n      <td>10000</td>\n      <td>0</td>\n      <td>EUROPE</td>\n    </tr>\n    <tr>\n      <th>1</th>\n      <td>9780000003201</td>\n      <td>NaN</td>\n      <td>NaN</td>\n      <td>LWW</td>\n      <td>ABE</td>\n      <td>GBP</td>\n      <td>1.237001</td>\n      <td>265.00</td>\n      <td>0.55</td>\n      <td>0.0</td>\n      <td>0</td>\n      <td>3.47</td>\n      <td>10000</td>\n      <td>0</td>\n      <td>EUROPE</td>\n    </tr>\n    <tr>\n      <th>2</th>\n      <td>9780000002402</td>\n      <td>NaN</td>\n      <td>NaN</td>\n      <td>LWW</td>\n      <td>ABE</td>\n      <td>GBP</td>\n      <td>1.237001</td>\n      <td>306.00</td>\n      <td>0.55</td>\n      <td>0.0</td>\n      <td>0</td>\n      <td>3.47</td>\n      <td>10000</td>\n      <td>0</td>\n      <td>EUROPE</td>\n    </tr>\n    <tr>\n      <th>3</th>\n      <td>9780000002679</td>\n      <td>NaN</td>\n      <td>NaN</td>\n      <td>LWW</td>\n      <td>ABE</td>\n      <td>GBP</td>\n      <td>1.237001</td>\n      <td>425.00</td>\n      <td>0.55</td>\n      <td>0.0</td>\n      <td>0</td>\n      <td>3.47</td>\n      <td>10000</td>\n      <td>0</td>\n      <td>EUROPE</td>\n    </tr>\n    <tr>\n      <th>4</th>\n      <td>9780000050090</td>\n      <td>NaN</td>\n      <td>NaN</td>\n      <td>LWW</td>\n      <td>ABE</td>\n      <td>GBP</td>\n      <td>1.237001</td>\n      <td>17.99</td>\n      <td>0.55</td>\n      <td>0.0</td>\n      <td>0</td>\n      <td>3.47</td>\n      <td>10000</td>\n      <td>0</td>\n      <td>EUROPE</td>\n    </tr>\n  </tbody>\n</table>\n</div>"
     },
     "metadata": {},
     "execution_count": 6
    }
   ],
   "source": [
    "# import suppliers excel\n",
    "sup_exc = pd.read_csv('suppliers_excel.csv')\n",
    "sup_exc['isbn'] = sup_exc['isbn'].astype(str)\n",
    "sup_exc.head()"
   ]
  },
  {
   "cell_type": "code",
   "execution_count": 7,
   "metadata": {},
   "outputs": [],
   "source": [
    "sup_exc = sup_exc[['isbn', 'title', 'author', 'pub', 'supplier','currency','rate','price','discount','invoice_fee','lp_fee','shipping cost']]"
   ]
  },
  {
   "cell_type": "code",
   "execution_count": 8,
   "metadata": {},
   "outputs": [
    {
     "output_type": "execute_result",
     "data": {
      "text/plain": "            isbn title author            pub supplier currency      rate  \\\n0  9781260241044   NaN    NaN         MCGRAW     ALEK      GBP  1.243139   \n1  9781260241020   NaN    NaN         MCGRAW     ALEK      GBP  1.243139   \n2  9781260241044   NaN    NaN         MCGRAW     ALEK      EUR  1.087025   \n3  9781260241020   NaN    NaN         MCGRAW     ALEK      EUR  1.087025   \n4  9780786820771   NaN    NaN  HACHETTE LIVE     ALEK      USD  1.000000   \n\n   price  discount  invoice_fee  lp_fee  shipping cost  \n0  -1.01      0.47        0.005     0.0            0.5  \n1  -1.01      0.47        0.005     0.0            0.5  \n2  -0.01      0.47        0.005     0.0            0.5  \n3  -0.01      0.47        0.005     0.0            0.5  \n4   0.01      0.59        0.005     0.0            0.5  ",
      "text/html": "<div>\n<style scoped>\n    .dataframe tbody tr th:only-of-type {\n        vertical-align: middle;\n    }\n\n    .dataframe tbody tr th {\n        vertical-align: top;\n    }\n\n    .dataframe thead th {\n        text-align: right;\n    }\n</style>\n<table border=\"1\" class=\"dataframe\">\n  <thead>\n    <tr style=\"text-align: right;\">\n      <th></th>\n      <th>isbn</th>\n      <th>title</th>\n      <th>author</th>\n      <th>pub</th>\n      <th>supplier</th>\n      <th>currency</th>\n      <th>rate</th>\n      <th>price</th>\n      <th>discount</th>\n      <th>invoice_fee</th>\n      <th>lp_fee</th>\n      <th>shipping cost</th>\n    </tr>\n  </thead>\n  <tbody>\n    <tr>\n      <th>0</th>\n      <td>9781260241044</td>\n      <td>NaN</td>\n      <td>NaN</td>\n      <td>MCGRAW</td>\n      <td>ALEK</td>\n      <td>GBP</td>\n      <td>1.243139</td>\n      <td>-1.01</td>\n      <td>0.47</td>\n      <td>0.005</td>\n      <td>0.0</td>\n      <td>0.5</td>\n    </tr>\n    <tr>\n      <th>1</th>\n      <td>9781260241020</td>\n      <td>NaN</td>\n      <td>NaN</td>\n      <td>MCGRAW</td>\n      <td>ALEK</td>\n      <td>GBP</td>\n      <td>1.243139</td>\n      <td>-1.01</td>\n      <td>0.47</td>\n      <td>0.005</td>\n      <td>0.0</td>\n      <td>0.5</td>\n    </tr>\n    <tr>\n      <th>2</th>\n      <td>9781260241044</td>\n      <td>NaN</td>\n      <td>NaN</td>\n      <td>MCGRAW</td>\n      <td>ALEK</td>\n      <td>EUR</td>\n      <td>1.087025</td>\n      <td>-0.01</td>\n      <td>0.47</td>\n      <td>0.005</td>\n      <td>0.0</td>\n      <td>0.5</td>\n    </tr>\n    <tr>\n      <th>3</th>\n      <td>9781260241020</td>\n      <td>NaN</td>\n      <td>NaN</td>\n      <td>MCGRAW</td>\n      <td>ALEK</td>\n      <td>EUR</td>\n      <td>1.087025</td>\n      <td>-0.01</td>\n      <td>0.47</td>\n      <td>0.005</td>\n      <td>0.0</td>\n      <td>0.5</td>\n    </tr>\n    <tr>\n      <th>4</th>\n      <td>9780786820771</td>\n      <td>NaN</td>\n      <td>NaN</td>\n      <td>HACHETTE LIVE</td>\n      <td>ALEK</td>\n      <td>USD</td>\n      <td>1.000000</td>\n      <td>0.01</td>\n      <td>0.59</td>\n      <td>0.005</td>\n      <td>0.0</td>\n      <td>0.5</td>\n    </tr>\n  </tbody>\n</table>\n</div>"
     },
     "metadata": {},
     "execution_count": 8
    }
   ],
   "source": [
    "sup_sql = pd.read_csv('supplier_sql.csv')\n",
    "sup_sql['isbn'] = sup_sql['isbn'].astype(str)\n",
    "sup_sql.head()"
   ]
  },
  {
   "cell_type": "code",
   "execution_count": 9,
   "metadata": {},
   "outputs": [],
   "source": [
    "all_sup = sup_exc.append(sup_sql, ignore_index= True)"
   ]
  },
  {
   "cell_type": "code",
   "execution_count": 10,
   "metadata": {},
   "outputs": [],
   "source": [
    "all_sup['inv_price_before_exc'] = all_sup['price']*(1-all_sup['discount'])\n",
    "all_sup['landed_cost'] = all_sup['inv_price_before_exc'] * all_sup['rate'] + all_sup['shipping cost']"
   ]
  },
  {
   "cell_type": "code",
   "execution_count": 11,
   "metadata": {},
   "outputs": [
    {
     "output_type": "execute_result",
     "data": {
      "text/plain": "            isbn title author  pub supplier currency      rate   price  \\\n0  9780000079145   NaN    NaN  LWW      ABE      GBP  1.237001   67.00   \n1  9780000003201   NaN    NaN  LWW      ABE      GBP  1.237001  265.00   \n2  9780000002402   NaN    NaN  LWW      ABE      GBP  1.237001  306.00   \n3  9780000002679   NaN    NaN  LWW      ABE      GBP  1.237001  425.00   \n4  9780000050090   NaN    NaN  LWW      ABE      GBP  1.237001   17.99   \n\n   discount  invoice_fee  lp_fee  shipping cost  inv_price_before_exc  \\\n0      0.55          0.0     0.0           3.47               30.1500   \n1      0.55          0.0     0.0           3.47              119.2500   \n2      0.55          0.0     0.0           3.47              137.7000   \n3      0.55          0.0     0.0           3.47              191.2500   \n4      0.55          0.0     0.0           3.47                8.0955   \n\n   landed_cost  \n0    40.765571  \n1   150.982334  \n2   173.804997  \n3   240.046385  \n4    13.484139  ",
      "text/html": "<div>\n<style scoped>\n    .dataframe tbody tr th:only-of-type {\n        vertical-align: middle;\n    }\n\n    .dataframe tbody tr th {\n        vertical-align: top;\n    }\n\n    .dataframe thead th {\n        text-align: right;\n    }\n</style>\n<table border=\"1\" class=\"dataframe\">\n  <thead>\n    <tr style=\"text-align: right;\">\n      <th></th>\n      <th>isbn</th>\n      <th>title</th>\n      <th>author</th>\n      <th>pub</th>\n      <th>supplier</th>\n      <th>currency</th>\n      <th>rate</th>\n      <th>price</th>\n      <th>discount</th>\n      <th>invoice_fee</th>\n      <th>lp_fee</th>\n      <th>shipping cost</th>\n      <th>inv_price_before_exc</th>\n      <th>landed_cost</th>\n    </tr>\n  </thead>\n  <tbody>\n    <tr>\n      <th>0</th>\n      <td>9780000079145</td>\n      <td>NaN</td>\n      <td>NaN</td>\n      <td>LWW</td>\n      <td>ABE</td>\n      <td>GBP</td>\n      <td>1.237001</td>\n      <td>67.00</td>\n      <td>0.55</td>\n      <td>0.0</td>\n      <td>0.0</td>\n      <td>3.47</td>\n      <td>30.1500</td>\n      <td>40.765571</td>\n    </tr>\n    <tr>\n      <th>1</th>\n      <td>9780000003201</td>\n      <td>NaN</td>\n      <td>NaN</td>\n      <td>LWW</td>\n      <td>ABE</td>\n      <td>GBP</td>\n      <td>1.237001</td>\n      <td>265.00</td>\n      <td>0.55</td>\n      <td>0.0</td>\n      <td>0.0</td>\n      <td>3.47</td>\n      <td>119.2500</td>\n      <td>150.982334</td>\n    </tr>\n    <tr>\n      <th>2</th>\n      <td>9780000002402</td>\n      <td>NaN</td>\n      <td>NaN</td>\n      <td>LWW</td>\n      <td>ABE</td>\n      <td>GBP</td>\n      <td>1.237001</td>\n      <td>306.00</td>\n      <td>0.55</td>\n      <td>0.0</td>\n      <td>0.0</td>\n      <td>3.47</td>\n      <td>137.7000</td>\n      <td>173.804997</td>\n    </tr>\n    <tr>\n      <th>3</th>\n      <td>9780000002679</td>\n      <td>NaN</td>\n      <td>NaN</td>\n      <td>LWW</td>\n      <td>ABE</td>\n      <td>GBP</td>\n      <td>1.237001</td>\n      <td>425.00</td>\n      <td>0.55</td>\n      <td>0.0</td>\n      <td>0.0</td>\n      <td>3.47</td>\n      <td>191.2500</td>\n      <td>240.046385</td>\n    </tr>\n    <tr>\n      <th>4</th>\n      <td>9780000050090</td>\n      <td>NaN</td>\n      <td>NaN</td>\n      <td>LWW</td>\n      <td>ABE</td>\n      <td>GBP</td>\n      <td>1.237001</td>\n      <td>17.99</td>\n      <td>0.55</td>\n      <td>0.0</td>\n      <td>0.0</td>\n      <td>3.47</td>\n      <td>8.0955</td>\n      <td>13.484139</td>\n    </tr>\n  </tbody>\n</table>\n</div>"
     },
     "metadata": {},
     "execution_count": 11
    }
   ],
   "source": [
    "all_sup.head()"
   ]
  },
  {
   "cell_type": "code",
   "execution_count": 12,
   "metadata": {},
   "outputs": [
    {
     "output_type": "execute_result",
     "data": {
      "text/plain": "(3890304, 14)"
     },
     "metadata": {},
     "execution_count": 12
    }
   ],
   "source": [
    "all_sup.shape"
   ]
  },
  {
   "cell_type": "code",
   "execution_count": 13,
   "metadata": {},
   "outputs": [],
   "source": [
    "all_sup = all_sup.sort_values(by='landed_cost', ascending=True)"
   ]
  },
  {
   "cell_type": "code",
   "execution_count": 14,
   "metadata": {},
   "outputs": [
    {
     "output_type": "execute_result",
     "data": {
      "text/plain": "                 isbn title author            pub supplier currency      rate  \\\n499682  9781260241044   NaN    NaN         MCGRAW     ALEK      GBP  1.243139   \n499683  9781260241020   NaN    NaN         MCGRAW     ALEK      GBP  1.243139   \n499685  9781260241020   NaN    NaN         MCGRAW     ALEK      EUR  1.087025   \n499684  9781260241044   NaN    NaN         MCGRAW     ALEK      EUR  1.087025   \n499686  9780786820771   NaN    NaN  HACHETTE LIVE     ALEK      USD  1.000000   \n\n        price  discount  invoice_fee  lp_fee  shipping cost  \\\n499682  -1.01      0.47        0.005     0.0            0.5   \n499683  -1.01      0.47        0.005     0.0            0.5   \n499685  -0.01      0.47        0.005     0.0            0.5   \n499684  -0.01      0.47        0.005     0.0            0.5   \n499686   0.01      0.59        0.005     0.0            0.5   \n\n        inv_price_before_exc  landed_cost  \n499682               -0.5353    -0.165453  \n499683               -0.5353    -0.165453  \n499685               -0.0053     0.494239  \n499684               -0.0053     0.494239  \n499686                0.0041     0.504100  ",
      "text/html": "<div>\n<style scoped>\n    .dataframe tbody tr th:only-of-type {\n        vertical-align: middle;\n    }\n\n    .dataframe tbody tr th {\n        vertical-align: top;\n    }\n\n    .dataframe thead th {\n        text-align: right;\n    }\n</style>\n<table border=\"1\" class=\"dataframe\">\n  <thead>\n    <tr style=\"text-align: right;\">\n      <th></th>\n      <th>isbn</th>\n      <th>title</th>\n      <th>author</th>\n      <th>pub</th>\n      <th>supplier</th>\n      <th>currency</th>\n      <th>rate</th>\n      <th>price</th>\n      <th>discount</th>\n      <th>invoice_fee</th>\n      <th>lp_fee</th>\n      <th>shipping cost</th>\n      <th>inv_price_before_exc</th>\n      <th>landed_cost</th>\n    </tr>\n  </thead>\n  <tbody>\n    <tr>\n      <th>499682</th>\n      <td>9781260241044</td>\n      <td>NaN</td>\n      <td>NaN</td>\n      <td>MCGRAW</td>\n      <td>ALEK</td>\n      <td>GBP</td>\n      <td>1.243139</td>\n      <td>-1.01</td>\n      <td>0.47</td>\n      <td>0.005</td>\n      <td>0.0</td>\n      <td>0.5</td>\n      <td>-0.5353</td>\n      <td>-0.165453</td>\n    </tr>\n    <tr>\n      <th>499683</th>\n      <td>9781260241020</td>\n      <td>NaN</td>\n      <td>NaN</td>\n      <td>MCGRAW</td>\n      <td>ALEK</td>\n      <td>GBP</td>\n      <td>1.243139</td>\n      <td>-1.01</td>\n      <td>0.47</td>\n      <td>0.005</td>\n      <td>0.0</td>\n      <td>0.5</td>\n      <td>-0.5353</td>\n      <td>-0.165453</td>\n    </tr>\n    <tr>\n      <th>499685</th>\n      <td>9781260241020</td>\n      <td>NaN</td>\n      <td>NaN</td>\n      <td>MCGRAW</td>\n      <td>ALEK</td>\n      <td>EUR</td>\n      <td>1.087025</td>\n      <td>-0.01</td>\n      <td>0.47</td>\n      <td>0.005</td>\n      <td>0.0</td>\n      <td>0.5</td>\n      <td>-0.0053</td>\n      <td>0.494239</td>\n    </tr>\n    <tr>\n      <th>499684</th>\n      <td>9781260241044</td>\n      <td>NaN</td>\n      <td>NaN</td>\n      <td>MCGRAW</td>\n      <td>ALEK</td>\n      <td>EUR</td>\n      <td>1.087025</td>\n      <td>-0.01</td>\n      <td>0.47</td>\n      <td>0.005</td>\n      <td>0.0</td>\n      <td>0.5</td>\n      <td>-0.0053</td>\n      <td>0.494239</td>\n    </tr>\n    <tr>\n      <th>499686</th>\n      <td>9780786820771</td>\n      <td>NaN</td>\n      <td>NaN</td>\n      <td>HACHETTE LIVE</td>\n      <td>ALEK</td>\n      <td>USD</td>\n      <td>1.000000</td>\n      <td>0.01</td>\n      <td>0.59</td>\n      <td>0.005</td>\n      <td>0.0</td>\n      <td>0.5</td>\n      <td>0.0041</td>\n      <td>0.504100</td>\n    </tr>\n  </tbody>\n</table>\n</div>"
     },
     "metadata": {},
     "execution_count": 14
    }
   ],
   "source": [
    "all_sup.head()"
   ]
  },
  {
   "cell_type": "code",
   "execution_count": 15,
   "metadata": {},
   "outputs": [
    {
     "output_type": "execute_result",
     "data": {
      "text/plain": "            isbn title author            pub supplier currency      rate  \\\n0  9781260241044   NaN    NaN         MCGRAW     ALEK      GBP  1.243139   \n1  9781260241020   NaN    NaN         MCGRAW     ALEK      GBP  1.243139   \n2  9781260241020   NaN    NaN         MCGRAW     ALEK      EUR  1.087025   \n3  9781260241044   NaN    NaN         MCGRAW     ALEK      EUR  1.087025   \n4  9780786820771   NaN    NaN  HACHETTE LIVE     ALEK      USD  1.000000   \n\n   price  discount  invoice_fee  lp_fee  shipping cost  inv_price_before_exc  \\\n0  -1.01      0.47        0.005     0.0            0.5               -0.5353   \n1  -1.01      0.47        0.005     0.0            0.5               -0.5353   \n2  -0.01      0.47        0.005     0.0            0.5               -0.0053   \n3  -0.01      0.47        0.005     0.0            0.5               -0.0053   \n4   0.01      0.59        0.005     0.0            0.5                0.0041   \n\n   landed_cost isbn13 vendor  \n0    -0.165453    NaN    NaN  \n1    -0.165453    NaN    NaN  \n2     0.494239    NaN    NaN  \n3     0.494239    NaN    NaN  \n4     0.504100    NaN    NaN  ",
      "text/html": "<div>\n<style scoped>\n    .dataframe tbody tr th:only-of-type {\n        vertical-align: middle;\n    }\n\n    .dataframe tbody tr th {\n        vertical-align: top;\n    }\n\n    .dataframe thead th {\n        text-align: right;\n    }\n</style>\n<table border=\"1\" class=\"dataframe\">\n  <thead>\n    <tr style=\"text-align: right;\">\n      <th></th>\n      <th>isbn</th>\n      <th>title</th>\n      <th>author</th>\n      <th>pub</th>\n      <th>supplier</th>\n      <th>currency</th>\n      <th>rate</th>\n      <th>price</th>\n      <th>discount</th>\n      <th>invoice_fee</th>\n      <th>lp_fee</th>\n      <th>shipping cost</th>\n      <th>inv_price_before_exc</th>\n      <th>landed_cost</th>\n      <th>isbn13</th>\n      <th>vendor</th>\n    </tr>\n  </thead>\n  <tbody>\n    <tr>\n      <th>0</th>\n      <td>9781260241044</td>\n      <td>NaN</td>\n      <td>NaN</td>\n      <td>MCGRAW</td>\n      <td>ALEK</td>\n      <td>GBP</td>\n      <td>1.243139</td>\n      <td>-1.01</td>\n      <td>0.47</td>\n      <td>0.005</td>\n      <td>0.0</td>\n      <td>0.5</td>\n      <td>-0.5353</td>\n      <td>-0.165453</td>\n      <td>NaN</td>\n      <td>NaN</td>\n    </tr>\n    <tr>\n      <th>1</th>\n      <td>9781260241020</td>\n      <td>NaN</td>\n      <td>NaN</td>\n      <td>MCGRAW</td>\n      <td>ALEK</td>\n      <td>GBP</td>\n      <td>1.243139</td>\n      <td>-1.01</td>\n      <td>0.47</td>\n      <td>0.005</td>\n      <td>0.0</td>\n      <td>0.5</td>\n      <td>-0.5353</td>\n      <td>-0.165453</td>\n      <td>NaN</td>\n      <td>NaN</td>\n    </tr>\n    <tr>\n      <th>2</th>\n      <td>9781260241020</td>\n      <td>NaN</td>\n      <td>NaN</td>\n      <td>MCGRAW</td>\n      <td>ALEK</td>\n      <td>EUR</td>\n      <td>1.087025</td>\n      <td>-0.01</td>\n      <td>0.47</td>\n      <td>0.005</td>\n      <td>0.0</td>\n      <td>0.5</td>\n      <td>-0.0053</td>\n      <td>0.494239</td>\n      <td>NaN</td>\n      <td>NaN</td>\n    </tr>\n    <tr>\n      <th>3</th>\n      <td>9781260241044</td>\n      <td>NaN</td>\n      <td>NaN</td>\n      <td>MCGRAW</td>\n      <td>ALEK</td>\n      <td>EUR</td>\n      <td>1.087025</td>\n      <td>-0.01</td>\n      <td>0.47</td>\n      <td>0.005</td>\n      <td>0.0</td>\n      <td>0.5</td>\n      <td>-0.0053</td>\n      <td>0.494239</td>\n      <td>NaN</td>\n      <td>NaN</td>\n    </tr>\n    <tr>\n      <th>4</th>\n      <td>9780786820771</td>\n      <td>NaN</td>\n      <td>NaN</td>\n      <td>HACHETTE LIVE</td>\n      <td>ALEK</td>\n      <td>USD</td>\n      <td>1.000000</td>\n      <td>0.01</td>\n      <td>0.59</td>\n      <td>0.005</td>\n      <td>0.0</td>\n      <td>0.5</td>\n      <td>0.0041</td>\n      <td>0.504100</td>\n      <td>NaN</td>\n      <td>NaN</td>\n    </tr>\n  </tbody>\n</table>\n</div>"
     },
     "metadata": {},
     "execution_count": 15
    }
   ],
   "source": [
    "all_sup = pd.merge(all_sup, rest, how='left', left_on = ['isbn','supplier'], right_on = ['isbn13', 'vendor'] )\n",
    "all_sup.head()\n",
    ""
   ]
  },
  {
   "cell_type": "code",
   "execution_count": 16,
   "metadata": {},
   "outputs": [
    {
     "output_type": "execute_result",
     "data": {
      "text/plain": "(3890305, 16)"
     },
     "metadata": {},
     "execution_count": 16
    }
   ],
   "source": [
    "all_sup.shape"
   ]
  },
  {
   "cell_type": "code",
   "execution_count": 17,
   "metadata": {},
   "outputs": [],
   "source": [
    "all_sup.drop(\n",
    "    all_sup[\n",
    "        (all_sup['isbn'] == all_sup['isbn13']) & (all_sup['supplier'] == all_sup['vendor'])\n",
    "        ].index, inplace = True\n",
    ")"
   ]
  },
  {
   "cell_type": "code",
   "execution_count": 18,
   "metadata": {},
   "outputs": [
    {
     "output_type": "execute_result",
     "data": {
      "text/plain": "(3884669, 16)"
     },
     "metadata": {},
     "execution_count": 18
    }
   ],
   "source": [
    "all_sup.shape"
   ]
  },
  {
   "cell_type": "code",
   "execution_count": 19,
   "metadata": {},
   "outputs": [],
   "source": [
    "all_sup = all_sup[~all_sup['isbn'].isin(list(risky['isbn13']))]"
   ]
  },
  {
   "cell_type": "code",
   "execution_count": 20,
   "metadata": {},
   "outputs": [
    {
     "output_type": "execute_result",
     "data": {
      "text/plain": "(3883035, 16)"
     },
     "metadata": {},
     "execution_count": 20
    }
   ],
   "source": [
    "all_sup.shape"
   ]
  },
  {
   "cell_type": "code",
   "execution_count": 21,
   "metadata": {},
   "outputs": [],
   "source": [
    "all_sup.drop(columns = ['isbn13', 'vendor'], inplace = True)"
   ]
  },
  {
   "cell_type": "code",
   "execution_count": 22,
   "metadata": {},
   "outputs": [
    {
     "output_type": "execute_result",
     "data": {
      "text/plain": "            isbn title author            pub supplier currency      rate  \\\n0  9781260241044   NaN    NaN         MCGRAW     ALEK      GBP  1.243139   \n1  9781260241020   NaN    NaN         MCGRAW     ALEK      GBP  1.243139   \n2  9781260241020   NaN    NaN         MCGRAW     ALEK      EUR  1.087025   \n3  9781260241044   NaN    NaN         MCGRAW     ALEK      EUR  1.087025   \n4  9780786820771   NaN    NaN  HACHETTE LIVE     ALEK      USD  1.000000   \n\n   price  discount  invoice_fee  lp_fee  shipping cost  inv_price_before_exc  \\\n0  -1.01      0.47        0.005     0.0            0.5               -0.5353   \n1  -1.01      0.47        0.005     0.0            0.5               -0.5353   \n2  -0.01      0.47        0.005     0.0            0.5               -0.0053   \n3  -0.01      0.47        0.005     0.0            0.5               -0.0053   \n4   0.01      0.59        0.005     0.0            0.5                0.0041   \n\n   landed_cost  \n0    -0.165453  \n1    -0.165453  \n2     0.494239  \n3     0.494239  \n4     0.504100  ",
      "text/html": "<div>\n<style scoped>\n    .dataframe tbody tr th:only-of-type {\n        vertical-align: middle;\n    }\n\n    .dataframe tbody tr th {\n        vertical-align: top;\n    }\n\n    .dataframe thead th {\n        text-align: right;\n    }\n</style>\n<table border=\"1\" class=\"dataframe\">\n  <thead>\n    <tr style=\"text-align: right;\">\n      <th></th>\n      <th>isbn</th>\n      <th>title</th>\n      <th>author</th>\n      <th>pub</th>\n      <th>supplier</th>\n      <th>currency</th>\n      <th>rate</th>\n      <th>price</th>\n      <th>discount</th>\n      <th>invoice_fee</th>\n      <th>lp_fee</th>\n      <th>shipping cost</th>\n      <th>inv_price_before_exc</th>\n      <th>landed_cost</th>\n    </tr>\n  </thead>\n  <tbody>\n    <tr>\n      <th>0</th>\n      <td>9781260241044</td>\n      <td>NaN</td>\n      <td>NaN</td>\n      <td>MCGRAW</td>\n      <td>ALEK</td>\n      <td>GBP</td>\n      <td>1.243139</td>\n      <td>-1.01</td>\n      <td>0.47</td>\n      <td>0.005</td>\n      <td>0.0</td>\n      <td>0.5</td>\n      <td>-0.5353</td>\n      <td>-0.165453</td>\n    </tr>\n    <tr>\n      <th>1</th>\n      <td>9781260241020</td>\n      <td>NaN</td>\n      <td>NaN</td>\n      <td>MCGRAW</td>\n      <td>ALEK</td>\n      <td>GBP</td>\n      <td>1.243139</td>\n      <td>-1.01</td>\n      <td>0.47</td>\n      <td>0.005</td>\n      <td>0.0</td>\n      <td>0.5</td>\n      <td>-0.5353</td>\n      <td>-0.165453</td>\n    </tr>\n    <tr>\n      <th>2</th>\n      <td>9781260241020</td>\n      <td>NaN</td>\n      <td>NaN</td>\n      <td>MCGRAW</td>\n      <td>ALEK</td>\n      <td>EUR</td>\n      <td>1.087025</td>\n      <td>-0.01</td>\n      <td>0.47</td>\n      <td>0.005</td>\n      <td>0.0</td>\n      <td>0.5</td>\n      <td>-0.0053</td>\n      <td>0.494239</td>\n    </tr>\n    <tr>\n      <th>3</th>\n      <td>9781260241044</td>\n      <td>NaN</td>\n      <td>NaN</td>\n      <td>MCGRAW</td>\n      <td>ALEK</td>\n      <td>EUR</td>\n      <td>1.087025</td>\n      <td>-0.01</td>\n      <td>0.47</td>\n      <td>0.005</td>\n      <td>0.0</td>\n      <td>0.5</td>\n      <td>-0.0053</td>\n      <td>0.494239</td>\n    </tr>\n    <tr>\n      <th>4</th>\n      <td>9780786820771</td>\n      <td>NaN</td>\n      <td>NaN</td>\n      <td>HACHETTE LIVE</td>\n      <td>ALEK</td>\n      <td>USD</td>\n      <td>1.000000</td>\n      <td>0.01</td>\n      <td>0.59</td>\n      <td>0.005</td>\n      <td>0.0</td>\n      <td>0.5</td>\n      <td>0.0041</td>\n      <td>0.504100</td>\n    </tr>\n  </tbody>\n</table>\n</div>"
     },
     "metadata": {},
     "execution_count": 22
    }
   ],
   "source": [
    "all_sup.head()"
   ]
  },
  {
   "cell_type": "code",
   "execution_count": 23,
   "metadata": {},
   "outputs": [
    {
     "output_type": "execute_result",
     "data": {
      "text/plain": "array(['ALEK', 'PROBOOK', 'RAJAN', 'FELIPE', 'ARMANDO', 'WC', 'BILLSON',\n       'BMT', 'SENAD', 'ABE', 'ZOOKAL', 'COINFO', 'UT', 'LAURENTIU',\n       'BERTRAMS', 'APEX', 'BRYAN', 'GAUTAM', 'SOHRAB', 'FRIDAY',\n       'BILLSON T', 'BILLSON - T', 'BILLSON - SCI', 'TEXTBOOK TRADE HK',\n       'MYAMMAR'], dtype=object)"
     },
     "metadata": {},
     "execution_count": 23
    }
   ],
   "source": [
    "all_sup['supplier'].unique()"
   ]
  },
  {
   "cell_type": "code",
   "execution_count": 24,
   "metadata": {},
   "outputs": [
    {
     "output_type": "execute_result",
     "data": {
      "text/plain": "isbn                    0\ntitle                   0\nauthor                  0\npub                     0\nsupplier                0\ncurrency                0\nrate                    0\nprice                   0\ndiscount                0\ninvoice_fee             0\nlp_fee                  0\nshipping cost           0\ninv_price_before_exc    0\nlanded_cost             0\ndtype: int64"
     },
     "metadata": {},
     "execution_count": 24
    }
   ],
   "source": [
    "all_sup = all_sup.fillna('N/A')\n",
    "all_sup.isna().sum()"
   ]
  },
  {
   "cell_type": "code",
   "execution_count": 25,
   "metadata": {},
   "outputs": [
    {
     "output_type": "execute_result",
     "data": {
      "text/plain": "(1993447, 14)"
     },
     "metadata": {},
     "execution_count": 25
    }
   ],
   "source": [
    "# Removing Austalian Suppliers\n",
    "no_aus = all_sup[~(\n",
    "    (all_sup['supplier']=='COINFO') |\n",
    "    (all_sup['supplier']=='ZOOKAL') |\n",
    "    all_sup['supplier'].str.contains(\"BILLSON\") | \n",
    "    (all_sup['supplier']=='APEX') |\n",
    "    (all_sup['supplier']=='SOHRAB') |\n",
    "    (all_sup['supplier']=='BRYAN') |\n",
    "    (all_sup['supplier']=='BERTRAMS') |\n",
    "    (all_sup['supplier']=='GAUTAM')\n",
    "    )]\n",
    "no_aus.shape\n",
    "\n",
    "\n",
    ""
   ]
  },
  {
   "cell_type": "code",
   "execution_count": 26,
   "metadata": {},
   "outputs": [],
   "source": [
    "#Dropping dupplicates\n",
    "\n",
    "no_dup = no_aus.drop_duplicates(subset='isbn', keep=\"first\")"
   ]
  },
  {
   "cell_type": "code",
   "execution_count": 27,
   "metadata": {},
   "outputs": [
    {
     "output_type": "execute_result",
     "data": {
      "text/plain": "(898008, 14)"
     },
     "metadata": {},
     "execution_count": 27
    }
   ],
   "source": [
    "no_dup.shape"
   ]
  },
  {
   "cell_type": "code",
   "execution_count": 28,
   "metadata": {},
   "outputs": [],
   "source": [
    "retail_list = []"
   ]
  },
  {
   "cell_type": "code",
   "execution_count": 29,
   "metadata": {},
   "outputs": [],
   "source": [
    "akademos = []"
   ]
  },
  {
   "cell_type": "code",
   "execution_count": 30,
   "metadata": {},
   "outputs": [],
   "source": [
    "#Retail:\n",
    "retail_cost = all_sup[all_sup['isbn'].isin(retail_list)]\n",
    "retail_cost.to_csv('retail/retail.csv', index= False)\n",
    "\n",
    "#Akademos:\n",
    "akademos_csv = no_aus[no_aus['isbn'].isin(akademos)]\n",
    "akademos_csv.to_csv('retail/akademos.csv', index= False)\n",
    "\n",
    "#Pearson:\n",
    "pearson = no_dup[no_dup['pub'].str.contains(\"PEARSON\")]\n",
    "pearson.to_csv('publishers/pearson.csv', index= False)\n",
    "\n",
    "#Elsevier\n",
    "elsevier = no_dup[no_dup['pub'].str.contains(\"ELSEVIER\")]\n",
    "elsevier.to_csv('publishers/elsevier.csv', index= False)\n",
    "\n",
    "# CENGAGE\n",
    "cengage = no_dup[no_dup['pub'].str.contains(\"CENGAGE\")]\n",
    "cengage.to_csv('publishers/cengage.csv', index = False)\n",
    "\n",
    "#Sage\n",
    "sage = no_dup[no_dup['pub'].str.contains(\"SAGE\")]\n",
    "sage.to_csv('publishers/sage.csv', index = False)\n",
    "\n",
    "#McGraw\n",
    "mcgraw = no_dup[no_dup['pub'].str.contains(\"MCGRAW\")]\n",
    "mcgraw.to_csv('publishers/mcgraw.csv', index = False)\n",
    "\n",
    "#LLW_WKLUWER\n",
    "lww_wkluwer = no_dup[no_dup['pub'].str.contains('LWW') | no_dup['pub'].str.contains('W KLUWER')]\n",
    "lww_wkluwer.to_csv('publishers/lww_wkluwer.csv', index = False)\n",
    "\n",
    "# NORTON\n",
    "norton = no_dup[no_dup['pub'].str.contains(\"NORTON\")]\n",
    "mcgraw.to_csv('publishers/norton.csv', index = False)\n",
    "\n",
    "#LLW_WKLUWER\n",
    "macmillan_humankinetics = no_dup[no_dup['pub'].str.contains('MACMILLAN') | no_dup['pub'].str.contains('HUMAN KINETICS')]\n",
    "macmillan_humankinetics.to_csv('publishers/macmillan_humankinetics.csv', index = False)\n",
    "\n",
    "#oxford\n",
    "oxford_fadavis = no_dup[no_dup['pub'].str.contains('OXFORD') | no_dup['pub'].str.contains('FA DAVIS')]\n",
    "oxford_fadavis.to_csv('publishers/oxford_fadavis.csv', index = False)\n",
    "\n",
    "\n",
    "# “T&F / CRC / Routledge / Guilford\".\n",
    "t_f= no_dup[no_dup['pub'].str.contains('T&F') | no_dup['pub'].str.contains('ROUTLEDGE') | no_dup['pub'].str.contains('GUILFORD') | (no_dup['pub'] == 'CRC')]\n",
    "t_f.to_csv('publishers/t&f.csv', index = False)\n",
    "\n",
    "# J&B\n",
    "j_b = no_dup[no_dup['pub'].str.contains('J&B')]\n",
    "j_b.to_csv('publishers/j&b.csv', index = False)\n",
    "\n",
    "# WILEY / SPRINGER / THIEME\n",
    "wiley_springer_thieme = no_dup[no_dup['pub'].str.contains('WILEY') | no_dup['pub'].str.contains('SPRINGER') | no_dup['pub'].str.contains('THIEME')]\n",
    "wiley_springer_thieme.to_csv('publishers/wiley_springer_thieme.csv', index = False)\n",
    "\n",
    "# REMAINING PUB\n",
    "remaining = no_dup[\n",
    "    ~(\n",
    "        no_dup['pub'].str.contains('WILEY') | no_dup['pub'].str.contains('SPRINGER') |\n",
    "        no_dup['pub'].str.contains('THIEME') | no_dup['pub'].str.contains(\"PEARSON\") |\n",
    "        no_dup['pub'].str.contains(\"ELSEVIER\") | no_dup['pub'].str.contains(\"CENGAGE\") |\n",
    "        no_dup['pub'].str.contains(\"SAGE\") | no_dup['pub'].str.contains(\"MCGRAW\") |\n",
    "        no_dup['pub'].str.contains('LWW') | no_dup['pub'].str.contains('W KLUWER') |\n",
    "        no_dup['pub'].str.contains('MACMILLAN') | no_dup['pub'].str.contains('HUMAN KINETICS') |\n",
    "        no_dup['pub'].str.contains('OXFORD') | no_dup['pub'].str.contains('FA DAVIS') |\n",
    "        no_dup['pub'].str.contains('T&F') | no_dup['pub'].str.contains('ROUTLEDGE') |\n",
    "        no_dup['pub'].str.contains('GUILFORD') | (no_dup['pub'] == 'CRC') |\n",
    "        no_dup['pub'].str.contains('J&B') | no_dup['pub'].str.contains('WILEY') |\n",
    "        no_dup['pub'].str.contains('SPRINGER') | no_dup['pub'].str.contains('THIEME') |\n",
    "        no_dup['pub'].str.contains(\"NORTON\")\n",
    "    )\n",
    "    ]\n",
    "remaining.to_csv('publishers/remaining.csv', index = False)\n",
    "\n",
    ""
   ]
  },
  {
   "cell_type": "code",
   "execution_count": null,
   "metadata": {},
   "outputs": [],
   "source": []
  }
 ]
}
